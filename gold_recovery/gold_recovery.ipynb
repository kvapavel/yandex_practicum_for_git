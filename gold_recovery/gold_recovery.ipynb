{
 "cells": [
  {
   "cell_type": "markdown",
   "metadata": {
    "toc": true
   },
   "source": [
    "<h1>Содержание<span class=\"tocSkip\"></span></h1>\n",
    "<div class=\"toc\"><ul class=\"toc-item\"><li><span><a href=\"#Подготовка-данных\" data-toc-modified-id=\"Подготовка-данных-1\"><span class=\"toc-item-num\">1&nbsp;&nbsp;</span>Подготовка данных</a></span><ul class=\"toc-item\"><li><span><a href=\"#Эффективность-обогащения\" data-toc-modified-id=\"Эффективность-обогащения-1.1\"><span class=\"toc-item-num\">1.1&nbsp;&nbsp;</span>Эффективность обогащения</a></span></li><li><span><a href=\"#Признаки,-недоступные-в-тестовой-выборке.\" data-toc-modified-id=\"Признаки,-недоступные-в-тестовой-выборке.-1.2\"><span class=\"toc-item-num\">1.2&nbsp;&nbsp;</span>Признаки, недоступные в тестовой выборке.</a></span></li><li><span><a href=\"#Предобработка-данных\" data-toc-modified-id=\"Предобработка-данных-1.3\"><span class=\"toc-item-num\">1.3&nbsp;&nbsp;</span>Предобработка данных</a></span></li></ul></li><li><span><a href=\"#Анализ-данных\" data-toc-modified-id=\"Анализ-данных-2\"><span class=\"toc-item-num\">2&nbsp;&nbsp;</span>Анализ данных</a></span><ul class=\"toc-item\"><li><span><a href=\"#Концентрация-металлов-(Au,-Ag,-Pb)-на-различных-этапах-очистки\" data-toc-modified-id=\"Концентрация-металлов-(Au,-Ag,-Pb)-на-различных-этапах-очистки-2.1\"><span class=\"toc-item-num\">2.1&nbsp;&nbsp;</span>Концентрация металлов (Au, Ag, Pb) на различных этапах очистки</a></span></li><li><span><a href=\"#Распределения-размеров-гранул-сырья-на-обучающей-и-тестовой-выборках\" data-toc-modified-id=\"Распределения-размеров-гранул-сырья-на-обучающей-и-тестовой-выборках-2.2\"><span class=\"toc-item-num\">2.2&nbsp;&nbsp;</span>Распределения размеров гранул сырья на обучающей и тестовой выборках</a></span></li><li><span><a href=\"#Суммарная-концентрация-всех-веществ-на-разных-стадиях\" data-toc-modified-id=\"Суммарная-концентрация-всех-веществ-на-разных-стадиях-2.3\"><span class=\"toc-item-num\">2.3&nbsp;&nbsp;</span>Суммарная концентрация всех веществ на разных стадиях</a></span></li></ul></li><li><span><a href=\"#Модель\" data-toc-modified-id=\"Модель-3\"><span class=\"toc-item-num\">3&nbsp;&nbsp;</span>Модель</a></span><ul class=\"toc-item\"><li><span><a href=\"#Функция-для-вычисления-итоговой-sMAPE\" data-toc-modified-id=\"Функция-для-вычисления-итоговой-sMAPE-3.1\"><span class=\"toc-item-num\">3.1&nbsp;&nbsp;</span>Функция для вычисления итоговой sMAPE</a></span></li><li><span><a href=\"#Обучение-моделей\" data-toc-modified-id=\"Обучение-моделей-3.2\"><span class=\"toc-item-num\">3.2&nbsp;&nbsp;</span>Обучение моделей</a></span><ul class=\"toc-item\"><li><span><a href=\"#Линейная-регрессия\" data-toc-modified-id=\"Линейная-регрессия-3.2.1\"><span class=\"toc-item-num\">3.2.1&nbsp;&nbsp;</span>Линейная регрессия</a></span></li><li><span><a href=\"#Случайный-лес\" data-toc-modified-id=\"Случайный-лес-3.2.2\"><span class=\"toc-item-num\">3.2.2&nbsp;&nbsp;</span>Случайный лес</a></span></li></ul></li><li><span><a href=\"#Тестирование-модели\" data-toc-modified-id=\"Тестирование-модели-3.3\"><span class=\"toc-item-num\">3.3&nbsp;&nbsp;</span>Тестирование модели</a></span></li></ul></li><li><span><a href=\"#Итоговый-вывод\" data-toc-modified-id=\"Итоговый-вывод-4\"><span class=\"toc-item-num\">4&nbsp;&nbsp;</span>Итоговый вывод</a></span></li></ul></div>"
   ]
  },
  {
   "cell_type": "markdown",
   "metadata": {},
   "source": [
    "# Восстановление золота из руды"
   ]
  },
  {
   "cell_type": "markdown",
   "metadata": {},
   "source": [
    "Подготовьте прототип модели машинного обучения для «Цифры». Компания разрабатывает решения для эффективной работы промышленных предприятий.\n",
    "\n",
    "Модель должна предсказать коэффициент восстановления золота из золотосодержащей руды. Используйте данные с параметрами добычи и очистки. \n",
    "\n",
    "Модель поможет оптимизировать производство, чтобы не запускать предприятие с убыточными характеристиками.\n",
    "\n",
    "Вам нужно:\n",
    "\n",
    "1. Подготовить данные;\n",
    "2. Провести исследовательский анализ данных;\n",
    "3. Построить и обучить модель.\n",
    "\n",
    "Чтобы выполнить проект, обращайтесь к библиотекам *pandas*, *matplotlib* и *sklearn.* Вам поможет их документация."
   ]
  },
  {
   "cell_type": "markdown",
   "metadata": {},
   "source": [
    "## Подготовка данных"
   ]
  },
  {
   "cell_type": "code",
   "execution_count": 2,
   "metadata": {},
   "outputs": [],
   "source": [
    "import pandas as pd\n",
    "import seaborn as sns\n",
    "import numpy as np\n",
    "\n",
    "from sklearn.metrics import mean_absolute_error\n",
    "from sklearn.metrics import make_scorer\n",
    "from sklearn.preprocessing import StandardScaler\n",
    "\n",
    "from sklearn.linear_model import LinearRegression\n",
    "from sklearn.tree import DecisionTreeRegressor\n",
    "from sklearn.ensemble import RandomForestRegressor\n",
    "from sklearn.dummy import DummyRegressor\n",
    "\n",
    "from sklearn.model_selection import GridSearchCV\n",
    "from sklearn.model_selection import cross_val_score\n",
    "\n",
    "import matplotlib.pyplot as plt\n",
    "%matplotlib inline\n",
    "\n",
    "pd.set_option('max_columns', None)\n",
    "random_state = 12345"
   ]
  },
  {
   "cell_type": "code",
   "execution_count": 3,
   "metadata": {},
   "outputs": [],
   "source": [
    "try:\n",
    "    data_train = pd.read_csv('/datasets/gold_recovery_train_new.csv')  #обучающая выборка;\n",
    "    data_test = pd.read_csv('/datasets/gold_recovery_test_new.csv') #тестовая выборка;\n",
    "    data_full = pd.read_csv('/datasets/gold_recovery_full_new.csv') #исходные данные.\n",
    "except:\n",
    "    data_train = pd.read_csv('https://code.s3.yandex.net/datasets/gold_recovery_train_new.csv')  #обучающая выборка;\n",
    "    data_test = pd.read_csv('https://code.s3.yandex.net/datasets/gold_recovery_test_new.csv') #тестовая выборка;\n",
    "    data_full = pd.read_csv('https://code.s3.yandex.net/datasets/gold_recovery_full_new.csv') #исходные данные."
   ]
  },
  {
   "cell_type": "code",
   "execution_count": 4,
   "metadata": {},
   "outputs": [
    {
     "data": {
      "text/html": [
       "<div>\n",
       "<style scoped>\n",
       "    .dataframe tbody tr th:only-of-type {\n",
       "        vertical-align: middle;\n",
       "    }\n",
       "\n",
       "    .dataframe tbody tr th {\n",
       "        vertical-align: top;\n",
       "    }\n",
       "\n",
       "    .dataframe thead th {\n",
       "        text-align: right;\n",
       "    }\n",
       "</style>\n",
       "<table border=\"1\" class=\"dataframe\">\n",
       "  <thead>\n",
       "    <tr style=\"text-align: right;\">\n",
       "      <th></th>\n",
       "      <th>date</th>\n",
       "      <th>final.output.concentrate_ag</th>\n",
       "      <th>final.output.concentrate_pb</th>\n",
       "      <th>final.output.concentrate_sol</th>\n",
       "      <th>final.output.concentrate_au</th>\n",
       "      <th>final.output.recovery</th>\n",
       "      <th>final.output.tail_ag</th>\n",
       "      <th>final.output.tail_pb</th>\n",
       "      <th>final.output.tail_sol</th>\n",
       "      <th>final.output.tail_au</th>\n",
       "      <th>primary_cleaner.input.sulfate</th>\n",
       "      <th>primary_cleaner.input.depressant</th>\n",
       "      <th>primary_cleaner.input.feed_size</th>\n",
       "      <th>primary_cleaner.input.xanthate</th>\n",
       "      <th>primary_cleaner.output.concentrate_ag</th>\n",
       "      <th>primary_cleaner.output.concentrate_pb</th>\n",
       "      <th>primary_cleaner.output.concentrate_sol</th>\n",
       "      <th>primary_cleaner.output.concentrate_au</th>\n",
       "      <th>primary_cleaner.output.tail_ag</th>\n",
       "      <th>primary_cleaner.output.tail_pb</th>\n",
       "      <th>primary_cleaner.output.tail_sol</th>\n",
       "      <th>primary_cleaner.output.tail_au</th>\n",
       "      <th>primary_cleaner.state.floatbank8_a_air</th>\n",
       "      <th>primary_cleaner.state.floatbank8_a_level</th>\n",
       "      <th>primary_cleaner.state.floatbank8_b_air</th>\n",
       "      <th>primary_cleaner.state.floatbank8_b_level</th>\n",
       "      <th>primary_cleaner.state.floatbank8_c_air</th>\n",
       "      <th>primary_cleaner.state.floatbank8_c_level</th>\n",
       "      <th>primary_cleaner.state.floatbank8_d_air</th>\n",
       "      <th>primary_cleaner.state.floatbank8_d_level</th>\n",
       "      <th>rougher.calculation.sulfate_to_au_concentrate</th>\n",
       "      <th>rougher.calculation.floatbank10_sulfate_to_au_feed</th>\n",
       "      <th>rougher.calculation.floatbank11_sulfate_to_au_feed</th>\n",
       "      <th>rougher.calculation.au_pb_ratio</th>\n",
       "      <th>rougher.input.feed_ag</th>\n",
       "      <th>rougher.input.feed_pb</th>\n",
       "      <th>rougher.input.feed_rate</th>\n",
       "      <th>rougher.input.feed_size</th>\n",
       "      <th>rougher.input.feed_sol</th>\n",
       "      <th>rougher.input.feed_au</th>\n",
       "      <th>rougher.input.floatbank10_sulfate</th>\n",
       "      <th>rougher.input.floatbank10_xanthate</th>\n",
       "      <th>rougher.input.floatbank11_sulfate</th>\n",
       "      <th>rougher.input.floatbank11_xanthate</th>\n",
       "      <th>rougher.output.concentrate_ag</th>\n",
       "      <th>rougher.output.concentrate_pb</th>\n",
       "      <th>rougher.output.concentrate_sol</th>\n",
       "      <th>rougher.output.concentrate_au</th>\n",
       "      <th>rougher.output.recovery</th>\n",
       "      <th>rougher.output.tail_ag</th>\n",
       "      <th>rougher.output.tail_pb</th>\n",
       "      <th>rougher.output.tail_sol</th>\n",
       "      <th>rougher.output.tail_au</th>\n",
       "      <th>rougher.state.floatbank10_a_air</th>\n",
       "      <th>rougher.state.floatbank10_a_level</th>\n",
       "      <th>rougher.state.floatbank10_b_air</th>\n",
       "      <th>rougher.state.floatbank10_b_level</th>\n",
       "      <th>rougher.state.floatbank10_c_air</th>\n",
       "      <th>rougher.state.floatbank10_c_level</th>\n",
       "      <th>rougher.state.floatbank10_d_air</th>\n",
       "      <th>rougher.state.floatbank10_d_level</th>\n",
       "      <th>rougher.state.floatbank10_e_air</th>\n",
       "      <th>rougher.state.floatbank10_e_level</th>\n",
       "      <th>rougher.state.floatbank10_f_air</th>\n",
       "      <th>rougher.state.floatbank10_f_level</th>\n",
       "      <th>secondary_cleaner.output.tail_ag</th>\n",
       "      <th>secondary_cleaner.output.tail_pb</th>\n",
       "      <th>secondary_cleaner.output.tail_sol</th>\n",
       "      <th>secondary_cleaner.output.tail_au</th>\n",
       "      <th>secondary_cleaner.state.floatbank2_a_air</th>\n",
       "      <th>secondary_cleaner.state.floatbank2_a_level</th>\n",
       "      <th>secondary_cleaner.state.floatbank2_b_air</th>\n",
       "      <th>secondary_cleaner.state.floatbank2_b_level</th>\n",
       "      <th>secondary_cleaner.state.floatbank3_a_air</th>\n",
       "      <th>secondary_cleaner.state.floatbank3_a_level</th>\n",
       "      <th>secondary_cleaner.state.floatbank3_b_air</th>\n",
       "      <th>secondary_cleaner.state.floatbank3_b_level</th>\n",
       "      <th>secondary_cleaner.state.floatbank4_a_air</th>\n",
       "      <th>secondary_cleaner.state.floatbank4_a_level</th>\n",
       "      <th>secondary_cleaner.state.floatbank4_b_air</th>\n",
       "      <th>secondary_cleaner.state.floatbank4_b_level</th>\n",
       "      <th>secondary_cleaner.state.floatbank5_a_air</th>\n",
       "      <th>secondary_cleaner.state.floatbank5_a_level</th>\n",
       "      <th>secondary_cleaner.state.floatbank5_b_air</th>\n",
       "      <th>secondary_cleaner.state.floatbank5_b_level</th>\n",
       "      <th>secondary_cleaner.state.floatbank6_a_air</th>\n",
       "      <th>secondary_cleaner.state.floatbank6_a_level</th>\n",
       "    </tr>\n",
       "  </thead>\n",
       "  <tbody>\n",
       "    <tr>\n",
       "      <th>0</th>\n",
       "      <td>2016-01-15 00:00:00</td>\n",
       "      <td>6.055403</td>\n",
       "      <td>9.889648</td>\n",
       "      <td>5.507324</td>\n",
       "      <td>42.192020</td>\n",
       "      <td>70.541216</td>\n",
       "      <td>10.411962</td>\n",
       "      <td>0.895447</td>\n",
       "      <td>16.904297</td>\n",
       "      <td>2.143149</td>\n",
       "      <td>127.092003</td>\n",
       "      <td>10.128295</td>\n",
       "      <td>7.25</td>\n",
       "      <td>0.988759</td>\n",
       "      <td>8.547551</td>\n",
       "      <td>10.389648</td>\n",
       "      <td>19.529297</td>\n",
       "      <td>34.174427</td>\n",
       "      <td>14.936526</td>\n",
       "      <td>2.534912</td>\n",
       "      <td>7.476074</td>\n",
       "      <td>2.106679</td>\n",
       "      <td>1549.775757</td>\n",
       "      <td>-498.912140</td>\n",
       "      <td>1551.434204</td>\n",
       "      <td>-516.403442</td>\n",
       "      <td>1549.873901</td>\n",
       "      <td>-498.666595</td>\n",
       "      <td>1554.367432</td>\n",
       "      <td>-493.428131</td>\n",
       "      <td>41885.707031</td>\n",
       "      <td>3481.779053</td>\n",
       "      <td>3520.337158</td>\n",
       "      <td>2.838687</td>\n",
       "      <td>6.100378</td>\n",
       "      <td>2.284912</td>\n",
       "      <td>523.546326</td>\n",
       "      <td>55.486599</td>\n",
       "      <td>36.808594</td>\n",
       "      <td>6.486150</td>\n",
       "      <td>11.986616</td>\n",
       "      <td>6.007990</td>\n",
       "      <td>11.836743</td>\n",
       "      <td>6.005818</td>\n",
       "      <td>11.500771</td>\n",
       "      <td>7.101074</td>\n",
       "      <td>28.029297</td>\n",
       "      <td>19.793808</td>\n",
       "      <td>87.107763</td>\n",
       "      <td>5.008018</td>\n",
       "      <td>0.508728</td>\n",
       "      <td>19.154297</td>\n",
       "      <td>1.170244</td>\n",
       "      <td>999.706909</td>\n",
       "      <td>-404.066986</td>\n",
       "      <td>1603.011353</td>\n",
       "      <td>-434.715027</td>\n",
       "      <td>1602.375000</td>\n",
       "      <td>-442.204468</td>\n",
       "      <td>1598.937256</td>\n",
       "      <td>-451.294128</td>\n",
       "      <td>1404.472046</td>\n",
       "      <td>-455.462982</td>\n",
       "      <td>1416.354980</td>\n",
       "      <td>-451.939636</td>\n",
       "      <td>14.500184</td>\n",
       "      <td>4.694824</td>\n",
       "      <td>8.764648</td>\n",
       "      <td>2.606185</td>\n",
       "      <td>25.853109</td>\n",
       "      <td>-498.526489</td>\n",
       "      <td>23.893660</td>\n",
       "      <td>-501.406281</td>\n",
       "      <td>23.961798</td>\n",
       "      <td>-495.262817</td>\n",
       "      <td>21.940409</td>\n",
       "      <td>-499.340973</td>\n",
       "      <td>14.016835</td>\n",
       "      <td>-502.488007</td>\n",
       "      <td>12.099931</td>\n",
       "      <td>-504.715942</td>\n",
       "      <td>9.925633</td>\n",
       "      <td>-498.310211</td>\n",
       "      <td>8.079666</td>\n",
       "      <td>-500.470978</td>\n",
       "      <td>14.151341</td>\n",
       "      <td>-605.841980</td>\n",
       "    </tr>\n",
       "    <tr>\n",
       "      <th>1</th>\n",
       "      <td>2016-01-15 01:00:00</td>\n",
       "      <td>6.029369</td>\n",
       "      <td>9.968944</td>\n",
       "      <td>5.257781</td>\n",
       "      <td>42.701629</td>\n",
       "      <td>69.266198</td>\n",
       "      <td>10.462676</td>\n",
       "      <td>0.927452</td>\n",
       "      <td>16.634514</td>\n",
       "      <td>2.224930</td>\n",
       "      <td>125.629232</td>\n",
       "      <td>10.296251</td>\n",
       "      <td>7.25</td>\n",
       "      <td>1.002663</td>\n",
       "      <td>8.558743</td>\n",
       "      <td>10.497069</td>\n",
       "      <td>19.369147</td>\n",
       "      <td>34.118526</td>\n",
       "      <td>16.250511</td>\n",
       "      <td>3.049646</td>\n",
       "      <td>6.733907</td>\n",
       "      <td>2.353017</td>\n",
       "      <td>1576.166671</td>\n",
       "      <td>-500.904965</td>\n",
       "      <td>1575.950626</td>\n",
       "      <td>-499.865889</td>\n",
       "      <td>1575.994189</td>\n",
       "      <td>-499.315107</td>\n",
       "      <td>1574.479259</td>\n",
       "      <td>-498.931665</td>\n",
       "      <td>42050.861809</td>\n",
       "      <td>3498.370979</td>\n",
       "      <td>3489.981857</td>\n",
       "      <td>2.858998</td>\n",
       "      <td>6.161113</td>\n",
       "      <td>2.266033</td>\n",
       "      <td>525.290581</td>\n",
       "      <td>57.278666</td>\n",
       "      <td>35.753385</td>\n",
       "      <td>6.478583</td>\n",
       "      <td>11.971193</td>\n",
       "      <td>6.005766</td>\n",
       "      <td>11.996163</td>\n",
       "      <td>6.012594</td>\n",
       "      <td>11.615865</td>\n",
       "      <td>7.278807</td>\n",
       "      <td>28.067063</td>\n",
       "      <td>20.050975</td>\n",
       "      <td>86.843261</td>\n",
       "      <td>4.955378</td>\n",
       "      <td>0.536689</td>\n",
       "      <td>18.965234</td>\n",
       "      <td>1.184827</td>\n",
       "      <td>1000.286398</td>\n",
       "      <td>-400.065196</td>\n",
       "      <td>1600.754587</td>\n",
       "      <td>-449.953435</td>\n",
       "      <td>1600.479580</td>\n",
       "      <td>-449.830646</td>\n",
       "      <td>1600.527589</td>\n",
       "      <td>-449.953649</td>\n",
       "      <td>1399.227084</td>\n",
       "      <td>-450.869848</td>\n",
       "      <td>1399.719514</td>\n",
       "      <td>-450.119001</td>\n",
       "      <td>14.265474</td>\n",
       "      <td>4.592547</td>\n",
       "      <td>9.001494</td>\n",
       "      <td>2.488248</td>\n",
       "      <td>25.880539</td>\n",
       "      <td>-499.989656</td>\n",
       "      <td>23.889530</td>\n",
       "      <td>-500.372428</td>\n",
       "      <td>23.970550</td>\n",
       "      <td>-500.085473</td>\n",
       "      <td>22.085714</td>\n",
       "      <td>-499.446897</td>\n",
       "      <td>13.992281</td>\n",
       "      <td>-505.503262</td>\n",
       "      <td>11.950531</td>\n",
       "      <td>-501.331529</td>\n",
       "      <td>10.039245</td>\n",
       "      <td>-500.169983</td>\n",
       "      <td>7.984757</td>\n",
       "      <td>-500.582168</td>\n",
       "      <td>13.998353</td>\n",
       "      <td>-599.787184</td>\n",
       "    </tr>\n",
       "    <tr>\n",
       "      <th>2</th>\n",
       "      <td>2016-01-15 02:00:00</td>\n",
       "      <td>6.055926</td>\n",
       "      <td>10.213995</td>\n",
       "      <td>5.383759</td>\n",
       "      <td>42.657501</td>\n",
       "      <td>68.116445</td>\n",
       "      <td>10.507046</td>\n",
       "      <td>0.953716</td>\n",
       "      <td>16.208849</td>\n",
       "      <td>2.257889</td>\n",
       "      <td>123.819808</td>\n",
       "      <td>11.316280</td>\n",
       "      <td>7.25</td>\n",
       "      <td>0.991265</td>\n",
       "      <td>8.603505</td>\n",
       "      <td>10.354494</td>\n",
       "      <td>19.167579</td>\n",
       "      <td>33.969464</td>\n",
       "      <td>16.491823</td>\n",
       "      <td>3.124664</td>\n",
       "      <td>6.471768</td>\n",
       "      <td>2.416800</td>\n",
       "      <td>1601.556163</td>\n",
       "      <td>-499.997791</td>\n",
       "      <td>1600.386685</td>\n",
       "      <td>-500.607762</td>\n",
       "      <td>1602.003542</td>\n",
       "      <td>-500.870069</td>\n",
       "      <td>1599.541515</td>\n",
       "      <td>-499.827444</td>\n",
       "      <td>42018.101184</td>\n",
       "      <td>3495.348910</td>\n",
       "      <td>3502.359819</td>\n",
       "      <td>2.945989</td>\n",
       "      <td>6.116455</td>\n",
       "      <td>2.159622</td>\n",
       "      <td>530.026610</td>\n",
       "      <td>57.510649</td>\n",
       "      <td>35.971630</td>\n",
       "      <td>6.362222</td>\n",
       "      <td>11.920603</td>\n",
       "      <td>6.197377</td>\n",
       "      <td>11.920305</td>\n",
       "      <td>6.204633</td>\n",
       "      <td>11.695753</td>\n",
       "      <td>7.216833</td>\n",
       "      <td>27.454037</td>\n",
       "      <td>19.737170</td>\n",
       "      <td>86.842308</td>\n",
       "      <td>4.843460</td>\n",
       "      <td>0.546416</td>\n",
       "      <td>18.808533</td>\n",
       "      <td>1.162562</td>\n",
       "      <td>999.719565</td>\n",
       "      <td>-400.074028</td>\n",
       "      <td>1599.337330</td>\n",
       "      <td>-450.008530</td>\n",
       "      <td>1599.672797</td>\n",
       "      <td>-449.954491</td>\n",
       "      <td>1599.849325</td>\n",
       "      <td>-449.954185</td>\n",
       "      <td>1399.180945</td>\n",
       "      <td>-449.937588</td>\n",
       "      <td>1400.316682</td>\n",
       "      <td>-450.527147</td>\n",
       "      <td>14.115662</td>\n",
       "      <td>4.624775</td>\n",
       "      <td>8.842896</td>\n",
       "      <td>2.458187</td>\n",
       "      <td>26.005245</td>\n",
       "      <td>-499.929616</td>\n",
       "      <td>23.886657</td>\n",
       "      <td>-499.951928</td>\n",
       "      <td>23.913535</td>\n",
       "      <td>-499.442343</td>\n",
       "      <td>23.957717</td>\n",
       "      <td>-499.901982</td>\n",
       "      <td>14.015015</td>\n",
       "      <td>-502.520901</td>\n",
       "      <td>11.912783</td>\n",
       "      <td>-501.133383</td>\n",
       "      <td>10.070913</td>\n",
       "      <td>-500.129135</td>\n",
       "      <td>8.013877</td>\n",
       "      <td>-500.517572</td>\n",
       "      <td>14.028663</td>\n",
       "      <td>-601.427363</td>\n",
       "    </tr>\n",
       "    <tr>\n",
       "      <th>3</th>\n",
       "      <td>2016-01-15 03:00:00</td>\n",
       "      <td>6.047977</td>\n",
       "      <td>9.977019</td>\n",
       "      <td>4.858634</td>\n",
       "      <td>42.689819</td>\n",
       "      <td>68.347543</td>\n",
       "      <td>10.422762</td>\n",
       "      <td>0.883763</td>\n",
       "      <td>16.532835</td>\n",
       "      <td>2.146849</td>\n",
       "      <td>122.270188</td>\n",
       "      <td>11.322140</td>\n",
       "      <td>7.25</td>\n",
       "      <td>0.996739</td>\n",
       "      <td>7.221879</td>\n",
       "      <td>8.496563</td>\n",
       "      <td>15.978538</td>\n",
       "      <td>28.260743</td>\n",
       "      <td>16.024359</td>\n",
       "      <td>2.960362</td>\n",
       "      <td>6.843791</td>\n",
       "      <td>2.262051</td>\n",
       "      <td>1599.968720</td>\n",
       "      <td>-500.951778</td>\n",
       "      <td>1600.659236</td>\n",
       "      <td>-499.677094</td>\n",
       "      <td>1600.304144</td>\n",
       "      <td>-500.727997</td>\n",
       "      <td>1600.449520</td>\n",
       "      <td>-500.052575</td>\n",
       "      <td>42029.447991</td>\n",
       "      <td>3498.578313</td>\n",
       "      <td>3499.162912</td>\n",
       "      <td>3.002340</td>\n",
       "      <td>6.043309</td>\n",
       "      <td>2.037807</td>\n",
       "      <td>542.590390</td>\n",
       "      <td>57.792734</td>\n",
       "      <td>36.862241</td>\n",
       "      <td>6.118189</td>\n",
       "      <td>11.630094</td>\n",
       "      <td>6.203177</td>\n",
       "      <td>11.692450</td>\n",
       "      <td>6.196578</td>\n",
       "      <td>11.915047</td>\n",
       "      <td>7.175616</td>\n",
       "      <td>27.341277</td>\n",
       "      <td>19.320810</td>\n",
       "      <td>87.226430</td>\n",
       "      <td>4.655288</td>\n",
       "      <td>0.542525</td>\n",
       "      <td>19.330200</td>\n",
       "      <td>1.079755</td>\n",
       "      <td>999.814770</td>\n",
       "      <td>-400.200179</td>\n",
       "      <td>1600.059442</td>\n",
       "      <td>-450.619948</td>\n",
       "      <td>1600.012842</td>\n",
       "      <td>-449.910497</td>\n",
       "      <td>1597.725177</td>\n",
       "      <td>-450.130127</td>\n",
       "      <td>1400.943157</td>\n",
       "      <td>-450.030142</td>\n",
       "      <td>1400.234743</td>\n",
       "      <td>-449.790835</td>\n",
       "      <td>13.732071</td>\n",
       "      <td>4.482453</td>\n",
       "      <td>9.122857</td>\n",
       "      <td>2.322062</td>\n",
       "      <td>25.942508</td>\n",
       "      <td>-499.176749</td>\n",
       "      <td>23.955516</td>\n",
       "      <td>-499.848796</td>\n",
       "      <td>23.966838</td>\n",
       "      <td>-500.008812</td>\n",
       "      <td>23.954443</td>\n",
       "      <td>-499.944710</td>\n",
       "      <td>14.036510</td>\n",
       "      <td>-500.857308</td>\n",
       "      <td>11.999550</td>\n",
       "      <td>-501.193686</td>\n",
       "      <td>9.970366</td>\n",
       "      <td>-499.201640</td>\n",
       "      <td>7.977324</td>\n",
       "      <td>-500.255908</td>\n",
       "      <td>14.005551</td>\n",
       "      <td>-599.996129</td>\n",
       "    </tr>\n",
       "    <tr>\n",
       "      <th>4</th>\n",
       "      <td>2016-01-15 04:00:00</td>\n",
       "      <td>6.148599</td>\n",
       "      <td>10.142511</td>\n",
       "      <td>4.939416</td>\n",
       "      <td>42.774141</td>\n",
       "      <td>66.927016</td>\n",
       "      <td>10.360302</td>\n",
       "      <td>0.792826</td>\n",
       "      <td>16.525686</td>\n",
       "      <td>2.055292</td>\n",
       "      <td>117.988169</td>\n",
       "      <td>11.913613</td>\n",
       "      <td>7.25</td>\n",
       "      <td>1.009869</td>\n",
       "      <td>9.089428</td>\n",
       "      <td>9.986786</td>\n",
       "      <td>19.199864</td>\n",
       "      <td>33.044932</td>\n",
       "      <td>16.480185</td>\n",
       "      <td>3.112100</td>\n",
       "      <td>6.550154</td>\n",
       "      <td>2.277073</td>\n",
       "      <td>1601.339707</td>\n",
       "      <td>-498.975456</td>\n",
       "      <td>1601.437854</td>\n",
       "      <td>-500.323246</td>\n",
       "      <td>1599.581894</td>\n",
       "      <td>-500.888152</td>\n",
       "      <td>1602.649541</td>\n",
       "      <td>-500.593010</td>\n",
       "      <td>42125.354245</td>\n",
       "      <td>3494.800771</td>\n",
       "      <td>3506.679315</td>\n",
       "      <td>3.169615</td>\n",
       "      <td>6.060915</td>\n",
       "      <td>1.786875</td>\n",
       "      <td>540.531893</td>\n",
       "      <td>56.047189</td>\n",
       "      <td>34.347666</td>\n",
       "      <td>5.663707</td>\n",
       "      <td>10.957755</td>\n",
       "      <td>6.198826</td>\n",
       "      <td>10.960521</td>\n",
       "      <td>6.194897</td>\n",
       "      <td>12.411054</td>\n",
       "      <td>7.240205</td>\n",
       "      <td>27.041023</td>\n",
       "      <td>19.216101</td>\n",
       "      <td>86.688794</td>\n",
       "      <td>4.552800</td>\n",
       "      <td>0.515438</td>\n",
       "      <td>19.267422</td>\n",
       "      <td>1.012642</td>\n",
       "      <td>999.678690</td>\n",
       "      <td>-399.752729</td>\n",
       "      <td>1600.208824</td>\n",
       "      <td>-449.599614</td>\n",
       "      <td>1600.357732</td>\n",
       "      <td>-450.034364</td>\n",
       "      <td>1599.759049</td>\n",
       "      <td>-449.909799</td>\n",
       "      <td>1401.560902</td>\n",
       "      <td>-448.877187</td>\n",
       "      <td>1401.160227</td>\n",
       "      <td>-450.407128</td>\n",
       "      <td>14.079996</td>\n",
       "      <td>4.470737</td>\n",
       "      <td>8.871028</td>\n",
       "      <td>2.330448</td>\n",
       "      <td>26.024787</td>\n",
       "      <td>-500.279091</td>\n",
       "      <td>23.955345</td>\n",
       "      <td>-500.593614</td>\n",
       "      <td>23.985703</td>\n",
       "      <td>-500.083811</td>\n",
       "      <td>23.958945</td>\n",
       "      <td>-499.990309</td>\n",
       "      <td>14.027298</td>\n",
       "      <td>-499.838632</td>\n",
       "      <td>11.953070</td>\n",
       "      <td>-501.053894</td>\n",
       "      <td>9.925709</td>\n",
       "      <td>-501.686727</td>\n",
       "      <td>7.894242</td>\n",
       "      <td>-500.356035</td>\n",
       "      <td>13.996647</td>\n",
       "      <td>-601.496691</td>\n",
       "    </tr>\n",
       "  </tbody>\n",
       "</table>\n",
       "</div>"
      ],
      "text/plain": [
       "                  date  final.output.concentrate_ag  \\\n",
       "0  2016-01-15 00:00:00                     6.055403   \n",
       "1  2016-01-15 01:00:00                     6.029369   \n",
       "2  2016-01-15 02:00:00                     6.055926   \n",
       "3  2016-01-15 03:00:00                     6.047977   \n",
       "4  2016-01-15 04:00:00                     6.148599   \n",
       "\n",
       "   final.output.concentrate_pb  final.output.concentrate_sol  \\\n",
       "0                     9.889648                      5.507324   \n",
       "1                     9.968944                      5.257781   \n",
       "2                    10.213995                      5.383759   \n",
       "3                     9.977019                      4.858634   \n",
       "4                    10.142511                      4.939416   \n",
       "\n",
       "   final.output.concentrate_au  final.output.recovery  final.output.tail_ag  \\\n",
       "0                    42.192020              70.541216             10.411962   \n",
       "1                    42.701629              69.266198             10.462676   \n",
       "2                    42.657501              68.116445             10.507046   \n",
       "3                    42.689819              68.347543             10.422762   \n",
       "4                    42.774141              66.927016             10.360302   \n",
       "\n",
       "   final.output.tail_pb  final.output.tail_sol  final.output.tail_au  \\\n",
       "0              0.895447              16.904297              2.143149   \n",
       "1              0.927452              16.634514              2.224930   \n",
       "2              0.953716              16.208849              2.257889   \n",
       "3              0.883763              16.532835              2.146849   \n",
       "4              0.792826              16.525686              2.055292   \n",
       "\n",
       "   primary_cleaner.input.sulfate  primary_cleaner.input.depressant  \\\n",
       "0                     127.092003                         10.128295   \n",
       "1                     125.629232                         10.296251   \n",
       "2                     123.819808                         11.316280   \n",
       "3                     122.270188                         11.322140   \n",
       "4                     117.988169                         11.913613   \n",
       "\n",
       "   primary_cleaner.input.feed_size  primary_cleaner.input.xanthate  \\\n",
       "0                             7.25                        0.988759   \n",
       "1                             7.25                        1.002663   \n",
       "2                             7.25                        0.991265   \n",
       "3                             7.25                        0.996739   \n",
       "4                             7.25                        1.009869   \n",
       "\n",
       "   primary_cleaner.output.concentrate_ag  \\\n",
       "0                               8.547551   \n",
       "1                               8.558743   \n",
       "2                               8.603505   \n",
       "3                               7.221879   \n",
       "4                               9.089428   \n",
       "\n",
       "   primary_cleaner.output.concentrate_pb  \\\n",
       "0                              10.389648   \n",
       "1                              10.497069   \n",
       "2                              10.354494   \n",
       "3                               8.496563   \n",
       "4                               9.986786   \n",
       "\n",
       "   primary_cleaner.output.concentrate_sol  \\\n",
       "0                               19.529297   \n",
       "1                               19.369147   \n",
       "2                               19.167579   \n",
       "3                               15.978538   \n",
       "4                               19.199864   \n",
       "\n",
       "   primary_cleaner.output.concentrate_au  primary_cleaner.output.tail_ag  \\\n",
       "0                              34.174427                       14.936526   \n",
       "1                              34.118526                       16.250511   \n",
       "2                              33.969464                       16.491823   \n",
       "3                              28.260743                       16.024359   \n",
       "4                              33.044932                       16.480185   \n",
       "\n",
       "   primary_cleaner.output.tail_pb  primary_cleaner.output.tail_sol  \\\n",
       "0                        2.534912                         7.476074   \n",
       "1                        3.049646                         6.733907   \n",
       "2                        3.124664                         6.471768   \n",
       "3                        2.960362                         6.843791   \n",
       "4                        3.112100                         6.550154   \n",
       "\n",
       "   primary_cleaner.output.tail_au  primary_cleaner.state.floatbank8_a_air  \\\n",
       "0                        2.106679                             1549.775757   \n",
       "1                        2.353017                             1576.166671   \n",
       "2                        2.416800                             1601.556163   \n",
       "3                        2.262051                             1599.968720   \n",
       "4                        2.277073                             1601.339707   \n",
       "\n",
       "   primary_cleaner.state.floatbank8_a_level  \\\n",
       "0                               -498.912140   \n",
       "1                               -500.904965   \n",
       "2                               -499.997791   \n",
       "3                               -500.951778   \n",
       "4                               -498.975456   \n",
       "\n",
       "   primary_cleaner.state.floatbank8_b_air  \\\n",
       "0                             1551.434204   \n",
       "1                             1575.950626   \n",
       "2                             1600.386685   \n",
       "3                             1600.659236   \n",
       "4                             1601.437854   \n",
       "\n",
       "   primary_cleaner.state.floatbank8_b_level  \\\n",
       "0                               -516.403442   \n",
       "1                               -499.865889   \n",
       "2                               -500.607762   \n",
       "3                               -499.677094   \n",
       "4                               -500.323246   \n",
       "\n",
       "   primary_cleaner.state.floatbank8_c_air  \\\n",
       "0                             1549.873901   \n",
       "1                             1575.994189   \n",
       "2                             1602.003542   \n",
       "3                             1600.304144   \n",
       "4                             1599.581894   \n",
       "\n",
       "   primary_cleaner.state.floatbank8_c_level  \\\n",
       "0                               -498.666595   \n",
       "1                               -499.315107   \n",
       "2                               -500.870069   \n",
       "3                               -500.727997   \n",
       "4                               -500.888152   \n",
       "\n",
       "   primary_cleaner.state.floatbank8_d_air  \\\n",
       "0                             1554.367432   \n",
       "1                             1574.479259   \n",
       "2                             1599.541515   \n",
       "3                             1600.449520   \n",
       "4                             1602.649541   \n",
       "\n",
       "   primary_cleaner.state.floatbank8_d_level  \\\n",
       "0                               -493.428131   \n",
       "1                               -498.931665   \n",
       "2                               -499.827444   \n",
       "3                               -500.052575   \n",
       "4                               -500.593010   \n",
       "\n",
       "   rougher.calculation.sulfate_to_au_concentrate  \\\n",
       "0                                   41885.707031   \n",
       "1                                   42050.861809   \n",
       "2                                   42018.101184   \n",
       "3                                   42029.447991   \n",
       "4                                   42125.354245   \n",
       "\n",
       "   rougher.calculation.floatbank10_sulfate_to_au_feed  \\\n",
       "0                                        3481.779053    \n",
       "1                                        3498.370979    \n",
       "2                                        3495.348910    \n",
       "3                                        3498.578313    \n",
       "4                                        3494.800771    \n",
       "\n",
       "   rougher.calculation.floatbank11_sulfate_to_au_feed  \\\n",
       "0                                        3520.337158    \n",
       "1                                        3489.981857    \n",
       "2                                        3502.359819    \n",
       "3                                        3499.162912    \n",
       "4                                        3506.679315    \n",
       "\n",
       "   rougher.calculation.au_pb_ratio  rougher.input.feed_ag  \\\n",
       "0                         2.838687               6.100378   \n",
       "1                         2.858998               6.161113   \n",
       "2                         2.945989               6.116455   \n",
       "3                         3.002340               6.043309   \n",
       "4                         3.169615               6.060915   \n",
       "\n",
       "   rougher.input.feed_pb  rougher.input.feed_rate  rougher.input.feed_size  \\\n",
       "0               2.284912               523.546326                55.486599   \n",
       "1               2.266033               525.290581                57.278666   \n",
       "2               2.159622               530.026610                57.510649   \n",
       "3               2.037807               542.590390                57.792734   \n",
       "4               1.786875               540.531893                56.047189   \n",
       "\n",
       "   rougher.input.feed_sol  rougher.input.feed_au  \\\n",
       "0               36.808594               6.486150   \n",
       "1               35.753385               6.478583   \n",
       "2               35.971630               6.362222   \n",
       "3               36.862241               6.118189   \n",
       "4               34.347666               5.663707   \n",
       "\n",
       "   rougher.input.floatbank10_sulfate  rougher.input.floatbank10_xanthate  \\\n",
       "0                          11.986616                            6.007990   \n",
       "1                          11.971193                            6.005766   \n",
       "2                          11.920603                            6.197377   \n",
       "3                          11.630094                            6.203177   \n",
       "4                          10.957755                            6.198826   \n",
       "\n",
       "   rougher.input.floatbank11_sulfate  rougher.input.floatbank11_xanthate  \\\n",
       "0                          11.836743                            6.005818   \n",
       "1                          11.996163                            6.012594   \n",
       "2                          11.920305                            6.204633   \n",
       "3                          11.692450                            6.196578   \n",
       "4                          10.960521                            6.194897   \n",
       "\n",
       "   rougher.output.concentrate_ag  rougher.output.concentrate_pb  \\\n",
       "0                      11.500771                       7.101074   \n",
       "1                      11.615865                       7.278807   \n",
       "2                      11.695753                       7.216833   \n",
       "3                      11.915047                       7.175616   \n",
       "4                      12.411054                       7.240205   \n",
       "\n",
       "   rougher.output.concentrate_sol  rougher.output.concentrate_au  \\\n",
       "0                       28.029297                      19.793808   \n",
       "1                       28.067063                      20.050975   \n",
       "2                       27.454037                      19.737170   \n",
       "3                       27.341277                      19.320810   \n",
       "4                       27.041023                      19.216101   \n",
       "\n",
       "   rougher.output.recovery  rougher.output.tail_ag  rougher.output.tail_pb  \\\n",
       "0                87.107763                5.008018                0.508728   \n",
       "1                86.843261                4.955378                0.536689   \n",
       "2                86.842308                4.843460                0.546416   \n",
       "3                87.226430                4.655288                0.542525   \n",
       "4                86.688794                4.552800                0.515438   \n",
       "\n",
       "   rougher.output.tail_sol  rougher.output.tail_au  \\\n",
       "0                19.154297                1.170244   \n",
       "1                18.965234                1.184827   \n",
       "2                18.808533                1.162562   \n",
       "3                19.330200                1.079755   \n",
       "4                19.267422                1.012642   \n",
       "\n",
       "   rougher.state.floatbank10_a_air  rougher.state.floatbank10_a_level  \\\n",
       "0                       999.706909                        -404.066986   \n",
       "1                      1000.286398                        -400.065196   \n",
       "2                       999.719565                        -400.074028   \n",
       "3                       999.814770                        -400.200179   \n",
       "4                       999.678690                        -399.752729   \n",
       "\n",
       "   rougher.state.floatbank10_b_air  rougher.state.floatbank10_b_level  \\\n",
       "0                      1603.011353                        -434.715027   \n",
       "1                      1600.754587                        -449.953435   \n",
       "2                      1599.337330                        -450.008530   \n",
       "3                      1600.059442                        -450.619948   \n",
       "4                      1600.208824                        -449.599614   \n",
       "\n",
       "   rougher.state.floatbank10_c_air  rougher.state.floatbank10_c_level  \\\n",
       "0                      1602.375000                        -442.204468   \n",
       "1                      1600.479580                        -449.830646   \n",
       "2                      1599.672797                        -449.954491   \n",
       "3                      1600.012842                        -449.910497   \n",
       "4                      1600.357732                        -450.034364   \n",
       "\n",
       "   rougher.state.floatbank10_d_air  rougher.state.floatbank10_d_level  \\\n",
       "0                      1598.937256                        -451.294128   \n",
       "1                      1600.527589                        -449.953649   \n",
       "2                      1599.849325                        -449.954185   \n",
       "3                      1597.725177                        -450.130127   \n",
       "4                      1599.759049                        -449.909799   \n",
       "\n",
       "   rougher.state.floatbank10_e_air  rougher.state.floatbank10_e_level  \\\n",
       "0                      1404.472046                        -455.462982   \n",
       "1                      1399.227084                        -450.869848   \n",
       "2                      1399.180945                        -449.937588   \n",
       "3                      1400.943157                        -450.030142   \n",
       "4                      1401.560902                        -448.877187   \n",
       "\n",
       "   rougher.state.floatbank10_f_air  rougher.state.floatbank10_f_level  \\\n",
       "0                      1416.354980                        -451.939636   \n",
       "1                      1399.719514                        -450.119001   \n",
       "2                      1400.316682                        -450.527147   \n",
       "3                      1400.234743                        -449.790835   \n",
       "4                      1401.160227                        -450.407128   \n",
       "\n",
       "   secondary_cleaner.output.tail_ag  secondary_cleaner.output.tail_pb  \\\n",
       "0                         14.500184                          4.694824   \n",
       "1                         14.265474                          4.592547   \n",
       "2                         14.115662                          4.624775   \n",
       "3                         13.732071                          4.482453   \n",
       "4                         14.079996                          4.470737   \n",
       "\n",
       "   secondary_cleaner.output.tail_sol  secondary_cleaner.output.tail_au  \\\n",
       "0                           8.764648                          2.606185   \n",
       "1                           9.001494                          2.488248   \n",
       "2                           8.842896                          2.458187   \n",
       "3                           9.122857                          2.322062   \n",
       "4                           8.871028                          2.330448   \n",
       "\n",
       "   secondary_cleaner.state.floatbank2_a_air  \\\n",
       "0                                 25.853109   \n",
       "1                                 25.880539   \n",
       "2                                 26.005245   \n",
       "3                                 25.942508   \n",
       "4                                 26.024787   \n",
       "\n",
       "   secondary_cleaner.state.floatbank2_a_level  \\\n",
       "0                                 -498.526489   \n",
       "1                                 -499.989656   \n",
       "2                                 -499.929616   \n",
       "3                                 -499.176749   \n",
       "4                                 -500.279091   \n",
       "\n",
       "   secondary_cleaner.state.floatbank2_b_air  \\\n",
       "0                                 23.893660   \n",
       "1                                 23.889530   \n",
       "2                                 23.886657   \n",
       "3                                 23.955516   \n",
       "4                                 23.955345   \n",
       "\n",
       "   secondary_cleaner.state.floatbank2_b_level  \\\n",
       "0                                 -501.406281   \n",
       "1                                 -500.372428   \n",
       "2                                 -499.951928   \n",
       "3                                 -499.848796   \n",
       "4                                 -500.593614   \n",
       "\n",
       "   secondary_cleaner.state.floatbank3_a_air  \\\n",
       "0                                 23.961798   \n",
       "1                                 23.970550   \n",
       "2                                 23.913535   \n",
       "3                                 23.966838   \n",
       "4                                 23.985703   \n",
       "\n",
       "   secondary_cleaner.state.floatbank3_a_level  \\\n",
       "0                                 -495.262817   \n",
       "1                                 -500.085473   \n",
       "2                                 -499.442343   \n",
       "3                                 -500.008812   \n",
       "4                                 -500.083811   \n",
       "\n",
       "   secondary_cleaner.state.floatbank3_b_air  \\\n",
       "0                                 21.940409   \n",
       "1                                 22.085714   \n",
       "2                                 23.957717   \n",
       "3                                 23.954443   \n",
       "4                                 23.958945   \n",
       "\n",
       "   secondary_cleaner.state.floatbank3_b_level  \\\n",
       "0                                 -499.340973   \n",
       "1                                 -499.446897   \n",
       "2                                 -499.901982   \n",
       "3                                 -499.944710   \n",
       "4                                 -499.990309   \n",
       "\n",
       "   secondary_cleaner.state.floatbank4_a_air  \\\n",
       "0                                 14.016835   \n",
       "1                                 13.992281   \n",
       "2                                 14.015015   \n",
       "3                                 14.036510   \n",
       "4                                 14.027298   \n",
       "\n",
       "   secondary_cleaner.state.floatbank4_a_level  \\\n",
       "0                                 -502.488007   \n",
       "1                                 -505.503262   \n",
       "2                                 -502.520901   \n",
       "3                                 -500.857308   \n",
       "4                                 -499.838632   \n",
       "\n",
       "   secondary_cleaner.state.floatbank4_b_air  \\\n",
       "0                                 12.099931   \n",
       "1                                 11.950531   \n",
       "2                                 11.912783   \n",
       "3                                 11.999550   \n",
       "4                                 11.953070   \n",
       "\n",
       "   secondary_cleaner.state.floatbank4_b_level  \\\n",
       "0                                 -504.715942   \n",
       "1                                 -501.331529   \n",
       "2                                 -501.133383   \n",
       "3                                 -501.193686   \n",
       "4                                 -501.053894   \n",
       "\n",
       "   secondary_cleaner.state.floatbank5_a_air  \\\n",
       "0                                  9.925633   \n",
       "1                                 10.039245   \n",
       "2                                 10.070913   \n",
       "3                                  9.970366   \n",
       "4                                  9.925709   \n",
       "\n",
       "   secondary_cleaner.state.floatbank5_a_level  \\\n",
       "0                                 -498.310211   \n",
       "1                                 -500.169983   \n",
       "2                                 -500.129135   \n",
       "3                                 -499.201640   \n",
       "4                                 -501.686727   \n",
       "\n",
       "   secondary_cleaner.state.floatbank5_b_air  \\\n",
       "0                                  8.079666   \n",
       "1                                  7.984757   \n",
       "2                                  8.013877   \n",
       "3                                  7.977324   \n",
       "4                                  7.894242   \n",
       "\n",
       "   secondary_cleaner.state.floatbank5_b_level  \\\n",
       "0                                 -500.470978   \n",
       "1                                 -500.582168   \n",
       "2                                 -500.517572   \n",
       "3                                 -500.255908   \n",
       "4                                 -500.356035   \n",
       "\n",
       "   secondary_cleaner.state.floatbank6_a_air  \\\n",
       "0                                 14.151341   \n",
       "1                                 13.998353   \n",
       "2                                 14.028663   \n",
       "3                                 14.005551   \n",
       "4                                 13.996647   \n",
       "\n",
       "   secondary_cleaner.state.floatbank6_a_level  \n",
       "0                                 -605.841980  \n",
       "1                                 -599.787184  \n",
       "2                                 -601.427363  \n",
       "3                                 -599.996129  \n",
       "4                                 -601.496691  "
      ]
     },
     "execution_count": 4,
     "metadata": {},
     "output_type": "execute_result"
    }
   ],
   "source": [
    "data_train.head()"
   ]
  },
  {
   "cell_type": "code",
   "execution_count": 5,
   "metadata": {},
   "outputs": [
    {
     "data": {
      "text/html": [
       "<div>\n",
       "<style scoped>\n",
       "    .dataframe tbody tr th:only-of-type {\n",
       "        vertical-align: middle;\n",
       "    }\n",
       "\n",
       "    .dataframe tbody tr th {\n",
       "        vertical-align: top;\n",
       "    }\n",
       "\n",
       "    .dataframe thead th {\n",
       "        text-align: right;\n",
       "    }\n",
       "</style>\n",
       "<table border=\"1\" class=\"dataframe\">\n",
       "  <thead>\n",
       "    <tr style=\"text-align: right;\">\n",
       "      <th></th>\n",
       "      <th>date</th>\n",
       "      <th>primary_cleaner.input.sulfate</th>\n",
       "      <th>primary_cleaner.input.depressant</th>\n",
       "      <th>primary_cleaner.input.feed_size</th>\n",
       "      <th>primary_cleaner.input.xanthate</th>\n",
       "      <th>primary_cleaner.state.floatbank8_a_air</th>\n",
       "      <th>primary_cleaner.state.floatbank8_a_level</th>\n",
       "      <th>primary_cleaner.state.floatbank8_b_air</th>\n",
       "      <th>primary_cleaner.state.floatbank8_b_level</th>\n",
       "      <th>primary_cleaner.state.floatbank8_c_air</th>\n",
       "      <th>primary_cleaner.state.floatbank8_c_level</th>\n",
       "      <th>primary_cleaner.state.floatbank8_d_air</th>\n",
       "      <th>primary_cleaner.state.floatbank8_d_level</th>\n",
       "      <th>rougher.input.feed_ag</th>\n",
       "      <th>rougher.input.feed_pb</th>\n",
       "      <th>rougher.input.feed_rate</th>\n",
       "      <th>rougher.input.feed_size</th>\n",
       "      <th>rougher.input.feed_sol</th>\n",
       "      <th>rougher.input.feed_au</th>\n",
       "      <th>rougher.input.floatbank10_sulfate</th>\n",
       "      <th>rougher.input.floatbank10_xanthate</th>\n",
       "      <th>rougher.input.floatbank11_sulfate</th>\n",
       "      <th>rougher.input.floatbank11_xanthate</th>\n",
       "      <th>rougher.state.floatbank10_a_air</th>\n",
       "      <th>rougher.state.floatbank10_a_level</th>\n",
       "      <th>rougher.state.floatbank10_b_air</th>\n",
       "      <th>rougher.state.floatbank10_b_level</th>\n",
       "      <th>rougher.state.floatbank10_c_air</th>\n",
       "      <th>rougher.state.floatbank10_c_level</th>\n",
       "      <th>rougher.state.floatbank10_d_air</th>\n",
       "      <th>rougher.state.floatbank10_d_level</th>\n",
       "      <th>rougher.state.floatbank10_e_air</th>\n",
       "      <th>rougher.state.floatbank10_e_level</th>\n",
       "      <th>rougher.state.floatbank10_f_air</th>\n",
       "      <th>rougher.state.floatbank10_f_level</th>\n",
       "      <th>secondary_cleaner.state.floatbank2_a_air</th>\n",
       "      <th>secondary_cleaner.state.floatbank2_a_level</th>\n",
       "      <th>secondary_cleaner.state.floatbank2_b_air</th>\n",
       "      <th>secondary_cleaner.state.floatbank2_b_level</th>\n",
       "      <th>secondary_cleaner.state.floatbank3_a_air</th>\n",
       "      <th>secondary_cleaner.state.floatbank3_a_level</th>\n",
       "      <th>secondary_cleaner.state.floatbank3_b_air</th>\n",
       "      <th>secondary_cleaner.state.floatbank3_b_level</th>\n",
       "      <th>secondary_cleaner.state.floatbank4_a_air</th>\n",
       "      <th>secondary_cleaner.state.floatbank4_a_level</th>\n",
       "      <th>secondary_cleaner.state.floatbank4_b_air</th>\n",
       "      <th>secondary_cleaner.state.floatbank4_b_level</th>\n",
       "      <th>secondary_cleaner.state.floatbank5_a_air</th>\n",
       "      <th>secondary_cleaner.state.floatbank5_a_level</th>\n",
       "      <th>secondary_cleaner.state.floatbank5_b_air</th>\n",
       "      <th>secondary_cleaner.state.floatbank5_b_level</th>\n",
       "      <th>secondary_cleaner.state.floatbank6_a_air</th>\n",
       "      <th>secondary_cleaner.state.floatbank6_a_level</th>\n",
       "    </tr>\n",
       "  </thead>\n",
       "  <tbody>\n",
       "    <tr>\n",
       "      <th>0</th>\n",
       "      <td>2016-09-01 00:59:59</td>\n",
       "      <td>210.800909</td>\n",
       "      <td>14.993118</td>\n",
       "      <td>8.080000</td>\n",
       "      <td>1.005021</td>\n",
       "      <td>1398.981301</td>\n",
       "      <td>-500.225577</td>\n",
       "      <td>1399.144926</td>\n",
       "      <td>-499.919735</td>\n",
       "      <td>1400.102998</td>\n",
       "      <td>-500.704369</td>\n",
       "      <td>1399.001695</td>\n",
       "      <td>-499.485144</td>\n",
       "      <td>13.128569</td>\n",
       "      <td>5.636710</td>\n",
       "      <td>489.793655</td>\n",
       "      <td>62.710452</td>\n",
       "      <td>42.022440</td>\n",
       "      <td>12.084103</td>\n",
       "      <td>16.922877</td>\n",
       "      <td>6.153479</td>\n",
       "      <td>16.867518</td>\n",
       "      <td>6.150709</td>\n",
       "      <td>1001.849317</td>\n",
       "      <td>-350.301265</td>\n",
       "      <td>1249.738612</td>\n",
       "      <td>-399.107531</td>\n",
       "      <td>1249.750520</td>\n",
       "      <td>-399.396730</td>\n",
       "      <td>1198.287855</td>\n",
       "      <td>-399.488594</td>\n",
       "      <td>999.472250</td>\n",
       "      <td>-399.530962</td>\n",
       "      <td>949.566189</td>\n",
       "      <td>-398.180807</td>\n",
       "      <td>24.938200</td>\n",
       "      <td>-500.490963</td>\n",
       "      <td>14.947607</td>\n",
       "      <td>-500.013837</td>\n",
       "      <td>20.018166</td>\n",
       "      <td>-450.395995</td>\n",
       "      <td>13.987058</td>\n",
       "      <td>-449.831513</td>\n",
       "      <td>12.023554</td>\n",
       "      <td>-497.795834</td>\n",
       "      <td>8.016656</td>\n",
       "      <td>-501.289139</td>\n",
       "      <td>7.946562</td>\n",
       "      <td>-432.317850</td>\n",
       "      <td>4.872511</td>\n",
       "      <td>-500.037437</td>\n",
       "      <td>26.705889</td>\n",
       "      <td>-499.709414</td>\n",
       "    </tr>\n",
       "    <tr>\n",
       "      <th>1</th>\n",
       "      <td>2016-09-01 01:59:59</td>\n",
       "      <td>215.392455</td>\n",
       "      <td>14.987471</td>\n",
       "      <td>8.080000</td>\n",
       "      <td>0.990469</td>\n",
       "      <td>1398.777912</td>\n",
       "      <td>-500.057435</td>\n",
       "      <td>1398.055362</td>\n",
       "      <td>-499.778182</td>\n",
       "      <td>1396.151033</td>\n",
       "      <td>-499.240168</td>\n",
       "      <td>1399.508091</td>\n",
       "      <td>-500.416324</td>\n",
       "      <td>13.036280</td>\n",
       "      <td>5.526065</td>\n",
       "      <td>490.104534</td>\n",
       "      <td>61.961163</td>\n",
       "      <td>41.187903</td>\n",
       "      <td>11.918977</td>\n",
       "      <td>17.002532</td>\n",
       "      <td>5.999043</td>\n",
       "      <td>16.996063</td>\n",
       "      <td>6.002315</td>\n",
       "      <td>998.690785</td>\n",
       "      <td>-350.425704</td>\n",
       "      <td>1248.395457</td>\n",
       "      <td>-399.946025</td>\n",
       "      <td>1249.514451</td>\n",
       "      <td>-399.630810</td>\n",
       "      <td>1200.506459</td>\n",
       "      <td>-399.942434</td>\n",
       "      <td>1000.002114</td>\n",
       "      <td>-399.491528</td>\n",
       "      <td>950.200009</td>\n",
       "      <td>-405.787514</td>\n",
       "      <td>24.923466</td>\n",
       "      <td>-499.813963</td>\n",
       "      <td>14.930873</td>\n",
       "      <td>-500.764452</td>\n",
       "      <td>19.988503</td>\n",
       "      <td>-450.114024</td>\n",
       "      <td>14.092981</td>\n",
       "      <td>-450.059163</td>\n",
       "      <td>12.058140</td>\n",
       "      <td>-498.695773</td>\n",
       "      <td>8.130979</td>\n",
       "      <td>-499.634209</td>\n",
       "      <td>7.958270</td>\n",
       "      <td>-525.839648</td>\n",
       "      <td>4.878850</td>\n",
       "      <td>-500.162375</td>\n",
       "      <td>25.019940</td>\n",
       "      <td>-499.819438</td>\n",
       "    </tr>\n",
       "    <tr>\n",
       "      <th>2</th>\n",
       "      <td>2016-09-01 02:59:59</td>\n",
       "      <td>215.259946</td>\n",
       "      <td>12.884934</td>\n",
       "      <td>7.786667</td>\n",
       "      <td>0.996043</td>\n",
       "      <td>1398.493666</td>\n",
       "      <td>-500.868360</td>\n",
       "      <td>1398.860436</td>\n",
       "      <td>-499.764529</td>\n",
       "      <td>1398.075709</td>\n",
       "      <td>-502.151509</td>\n",
       "      <td>1399.497088</td>\n",
       "      <td>-499.715479</td>\n",
       "      <td>13.138412</td>\n",
       "      <td>5.426561</td>\n",
       "      <td>489.617969</td>\n",
       "      <td>66.903807</td>\n",
       "      <td>42.546294</td>\n",
       "      <td>12.091332</td>\n",
       "      <td>16.992520</td>\n",
       "      <td>5.850632</td>\n",
       "      <td>16.982096</td>\n",
       "      <td>5.853594</td>\n",
       "      <td>998.516720</td>\n",
       "      <td>-349.783538</td>\n",
       "      <td>1247.440748</td>\n",
       "      <td>-400.264330</td>\n",
       "      <td>1248.207204</td>\n",
       "      <td>-401.074405</td>\n",
       "      <td>1199.770026</td>\n",
       "      <td>-400.790582</td>\n",
       "      <td>999.925519</td>\n",
       "      <td>-399.236999</td>\n",
       "      <td>950.320481</td>\n",
       "      <td>-400.864340</td>\n",
       "      <td>24.908732</td>\n",
       "      <td>-500.304035</td>\n",
       "      <td>14.996511</td>\n",
       "      <td>-500.993821</td>\n",
       "      <td>20.039689</td>\n",
       "      <td>-450.263164</td>\n",
       "      <td>14.077881</td>\n",
       "      <td>-449.660997</td>\n",
       "      <td>11.962366</td>\n",
       "      <td>-498.767484</td>\n",
       "      <td>8.096893</td>\n",
       "      <td>-500.827423</td>\n",
       "      <td>8.071056</td>\n",
       "      <td>-500.801673</td>\n",
       "      <td>4.905125</td>\n",
       "      <td>-499.828510</td>\n",
       "      <td>24.994862</td>\n",
       "      <td>-500.622559</td>\n",
       "    </tr>\n",
       "    <tr>\n",
       "      <th>3</th>\n",
       "      <td>2016-09-01 03:59:59</td>\n",
       "      <td>215.336236</td>\n",
       "      <td>12.006805</td>\n",
       "      <td>7.640000</td>\n",
       "      <td>0.863514</td>\n",
       "      <td>1399.618111</td>\n",
       "      <td>-498.863574</td>\n",
       "      <td>1397.440120</td>\n",
       "      <td>-499.211024</td>\n",
       "      <td>1400.129303</td>\n",
       "      <td>-498.355873</td>\n",
       "      <td>1401.065165</td>\n",
       "      <td>-501.038738</td>\n",
       "      <td>12.400507</td>\n",
       "      <td>5.114758</td>\n",
       "      <td>476.618130</td>\n",
       "      <td>59.865919</td>\n",
       "      <td>41.060195</td>\n",
       "      <td>12.181597</td>\n",
       "      <td>16.532144</td>\n",
       "      <td>5.801935</td>\n",
       "      <td>16.515277</td>\n",
       "      <td>5.803657</td>\n",
       "      <td>1000.276604</td>\n",
       "      <td>-350.172597</td>\n",
       "      <td>1251.322675</td>\n",
       "      <td>-398.655289</td>\n",
       "      <td>1250.493702</td>\n",
       "      <td>-399.746728</td>\n",
       "      <td>1199.398691</td>\n",
       "      <td>-397.503052</td>\n",
       "      <td>1001.930679</td>\n",
       "      <td>-400.437573</td>\n",
       "      <td>950.735324</td>\n",
       "      <td>-399.802986</td>\n",
       "      <td>24.893998</td>\n",
       "      <td>-499.382374</td>\n",
       "      <td>14.916674</td>\n",
       "      <td>-499.862299</td>\n",
       "      <td>20.031100</td>\n",
       "      <td>-449.372570</td>\n",
       "      <td>14.013968</td>\n",
       "      <td>-449.526900</td>\n",
       "      <td>12.033091</td>\n",
       "      <td>-498.350935</td>\n",
       "      <td>8.074946</td>\n",
       "      <td>-499.474407</td>\n",
       "      <td>7.897085</td>\n",
       "      <td>-500.868509</td>\n",
       "      <td>4.931400</td>\n",
       "      <td>-499.963623</td>\n",
       "      <td>24.948919</td>\n",
       "      <td>-498.709987</td>\n",
       "    </tr>\n",
       "    <tr>\n",
       "      <th>4</th>\n",
       "      <td>2016-09-01 04:59:59</td>\n",
       "      <td>199.099327</td>\n",
       "      <td>10.682530</td>\n",
       "      <td>7.530000</td>\n",
       "      <td>0.805575</td>\n",
       "      <td>1401.268123</td>\n",
       "      <td>-500.808305</td>\n",
       "      <td>1398.128818</td>\n",
       "      <td>-499.504543</td>\n",
       "      <td>1402.172226</td>\n",
       "      <td>-500.810606</td>\n",
       "      <td>1399.480508</td>\n",
       "      <td>-499.374053</td>\n",
       "      <td>11.327427</td>\n",
       "      <td>4.767383</td>\n",
       "      <td>488.248117</td>\n",
       "      <td>63.315324</td>\n",
       "      <td>41.269161</td>\n",
       "      <td>11.290425</td>\n",
       "      <td>13.607257</td>\n",
       "      <td>5.738081</td>\n",
       "      <td>13.650053</td>\n",
       "      <td>5.739634</td>\n",
       "      <td>996.541302</td>\n",
       "      <td>-350.562517</td>\n",
       "      <td>1304.658848</td>\n",
       "      <td>-399.511519</td>\n",
       "      <td>1306.455515</td>\n",
       "      <td>-399.050685</td>\n",
       "      <td>1248.699349</td>\n",
       "      <td>-400.876894</td>\n",
       "      <td>1058.839106</td>\n",
       "      <td>-398.988239</td>\n",
       "      <td>949.645313</td>\n",
       "      <td>-399.277632</td>\n",
       "      <td>24.886905</td>\n",
       "      <td>-499.357375</td>\n",
       "      <td>14.979233</td>\n",
       "      <td>-500.186804</td>\n",
       "      <td>19.962364</td>\n",
       "      <td>-450.638828</td>\n",
       "      <td>14.009245</td>\n",
       "      <td>-450.022259</td>\n",
       "      <td>12.025367</td>\n",
       "      <td>-500.786497</td>\n",
       "      <td>8.054678</td>\n",
       "      <td>-500.397500</td>\n",
       "      <td>8.107890</td>\n",
       "      <td>-509.526725</td>\n",
       "      <td>4.957674</td>\n",
       "      <td>-500.360026</td>\n",
       "      <td>25.003331</td>\n",
       "      <td>-500.856333</td>\n",
       "    </tr>\n",
       "  </tbody>\n",
       "</table>\n",
       "</div>"
      ],
      "text/plain": [
       "                  date  primary_cleaner.input.sulfate  \\\n",
       "0  2016-09-01 00:59:59                     210.800909   \n",
       "1  2016-09-01 01:59:59                     215.392455   \n",
       "2  2016-09-01 02:59:59                     215.259946   \n",
       "3  2016-09-01 03:59:59                     215.336236   \n",
       "4  2016-09-01 04:59:59                     199.099327   \n",
       "\n",
       "   primary_cleaner.input.depressant  primary_cleaner.input.feed_size  \\\n",
       "0                         14.993118                         8.080000   \n",
       "1                         14.987471                         8.080000   \n",
       "2                         12.884934                         7.786667   \n",
       "3                         12.006805                         7.640000   \n",
       "4                         10.682530                         7.530000   \n",
       "\n",
       "   primary_cleaner.input.xanthate  primary_cleaner.state.floatbank8_a_air  \\\n",
       "0                        1.005021                             1398.981301   \n",
       "1                        0.990469                             1398.777912   \n",
       "2                        0.996043                             1398.493666   \n",
       "3                        0.863514                             1399.618111   \n",
       "4                        0.805575                             1401.268123   \n",
       "\n",
       "   primary_cleaner.state.floatbank8_a_level  \\\n",
       "0                               -500.225577   \n",
       "1                               -500.057435   \n",
       "2                               -500.868360   \n",
       "3                               -498.863574   \n",
       "4                               -500.808305   \n",
       "\n",
       "   primary_cleaner.state.floatbank8_b_air  \\\n",
       "0                             1399.144926   \n",
       "1                             1398.055362   \n",
       "2                             1398.860436   \n",
       "3                             1397.440120   \n",
       "4                             1398.128818   \n",
       "\n",
       "   primary_cleaner.state.floatbank8_b_level  \\\n",
       "0                               -499.919735   \n",
       "1                               -499.778182   \n",
       "2                               -499.764529   \n",
       "3                               -499.211024   \n",
       "4                               -499.504543   \n",
       "\n",
       "   primary_cleaner.state.floatbank8_c_air  \\\n",
       "0                             1400.102998   \n",
       "1                             1396.151033   \n",
       "2                             1398.075709   \n",
       "3                             1400.129303   \n",
       "4                             1402.172226   \n",
       "\n",
       "   primary_cleaner.state.floatbank8_c_level  \\\n",
       "0                               -500.704369   \n",
       "1                               -499.240168   \n",
       "2                               -502.151509   \n",
       "3                               -498.355873   \n",
       "4                               -500.810606   \n",
       "\n",
       "   primary_cleaner.state.floatbank8_d_air  \\\n",
       "0                             1399.001695   \n",
       "1                             1399.508091   \n",
       "2                             1399.497088   \n",
       "3                             1401.065165   \n",
       "4                             1399.480508   \n",
       "\n",
       "   primary_cleaner.state.floatbank8_d_level  rougher.input.feed_ag  \\\n",
       "0                               -499.485144              13.128569   \n",
       "1                               -500.416324              13.036280   \n",
       "2                               -499.715479              13.138412   \n",
       "3                               -501.038738              12.400507   \n",
       "4                               -499.374053              11.327427   \n",
       "\n",
       "   rougher.input.feed_pb  rougher.input.feed_rate  rougher.input.feed_size  \\\n",
       "0               5.636710               489.793655                62.710452   \n",
       "1               5.526065               490.104534                61.961163   \n",
       "2               5.426561               489.617969                66.903807   \n",
       "3               5.114758               476.618130                59.865919   \n",
       "4               4.767383               488.248117                63.315324   \n",
       "\n",
       "   rougher.input.feed_sol  rougher.input.feed_au  \\\n",
       "0               42.022440              12.084103   \n",
       "1               41.187903              11.918977   \n",
       "2               42.546294              12.091332   \n",
       "3               41.060195              12.181597   \n",
       "4               41.269161              11.290425   \n",
       "\n",
       "   rougher.input.floatbank10_sulfate  rougher.input.floatbank10_xanthate  \\\n",
       "0                          16.922877                            6.153479   \n",
       "1                          17.002532                            5.999043   \n",
       "2                          16.992520                            5.850632   \n",
       "3                          16.532144                            5.801935   \n",
       "4                          13.607257                            5.738081   \n",
       "\n",
       "   rougher.input.floatbank11_sulfate  rougher.input.floatbank11_xanthate  \\\n",
       "0                          16.867518                            6.150709   \n",
       "1                          16.996063                            6.002315   \n",
       "2                          16.982096                            5.853594   \n",
       "3                          16.515277                            5.803657   \n",
       "4                          13.650053                            5.739634   \n",
       "\n",
       "   rougher.state.floatbank10_a_air  rougher.state.floatbank10_a_level  \\\n",
       "0                      1001.849317                        -350.301265   \n",
       "1                       998.690785                        -350.425704   \n",
       "2                       998.516720                        -349.783538   \n",
       "3                      1000.276604                        -350.172597   \n",
       "4                       996.541302                        -350.562517   \n",
       "\n",
       "   rougher.state.floatbank10_b_air  rougher.state.floatbank10_b_level  \\\n",
       "0                      1249.738612                        -399.107531   \n",
       "1                      1248.395457                        -399.946025   \n",
       "2                      1247.440748                        -400.264330   \n",
       "3                      1251.322675                        -398.655289   \n",
       "4                      1304.658848                        -399.511519   \n",
       "\n",
       "   rougher.state.floatbank10_c_air  rougher.state.floatbank10_c_level  \\\n",
       "0                      1249.750520                        -399.396730   \n",
       "1                      1249.514451                        -399.630810   \n",
       "2                      1248.207204                        -401.074405   \n",
       "3                      1250.493702                        -399.746728   \n",
       "4                      1306.455515                        -399.050685   \n",
       "\n",
       "   rougher.state.floatbank10_d_air  rougher.state.floatbank10_d_level  \\\n",
       "0                      1198.287855                        -399.488594   \n",
       "1                      1200.506459                        -399.942434   \n",
       "2                      1199.770026                        -400.790582   \n",
       "3                      1199.398691                        -397.503052   \n",
       "4                      1248.699349                        -400.876894   \n",
       "\n",
       "   rougher.state.floatbank10_e_air  rougher.state.floatbank10_e_level  \\\n",
       "0                       999.472250                        -399.530962   \n",
       "1                      1000.002114                        -399.491528   \n",
       "2                       999.925519                        -399.236999   \n",
       "3                      1001.930679                        -400.437573   \n",
       "4                      1058.839106                        -398.988239   \n",
       "\n",
       "   rougher.state.floatbank10_f_air  rougher.state.floatbank10_f_level  \\\n",
       "0                       949.566189                        -398.180807   \n",
       "1                       950.200009                        -405.787514   \n",
       "2                       950.320481                        -400.864340   \n",
       "3                       950.735324                        -399.802986   \n",
       "4                       949.645313                        -399.277632   \n",
       "\n",
       "   secondary_cleaner.state.floatbank2_a_air  \\\n",
       "0                                 24.938200   \n",
       "1                                 24.923466   \n",
       "2                                 24.908732   \n",
       "3                                 24.893998   \n",
       "4                                 24.886905   \n",
       "\n",
       "   secondary_cleaner.state.floatbank2_a_level  \\\n",
       "0                                 -500.490963   \n",
       "1                                 -499.813963   \n",
       "2                                 -500.304035   \n",
       "3                                 -499.382374   \n",
       "4                                 -499.357375   \n",
       "\n",
       "   secondary_cleaner.state.floatbank2_b_air  \\\n",
       "0                                 14.947607   \n",
       "1                                 14.930873   \n",
       "2                                 14.996511   \n",
       "3                                 14.916674   \n",
       "4                                 14.979233   \n",
       "\n",
       "   secondary_cleaner.state.floatbank2_b_level  \\\n",
       "0                                 -500.013837   \n",
       "1                                 -500.764452   \n",
       "2                                 -500.993821   \n",
       "3                                 -499.862299   \n",
       "4                                 -500.186804   \n",
       "\n",
       "   secondary_cleaner.state.floatbank3_a_air  \\\n",
       "0                                 20.018166   \n",
       "1                                 19.988503   \n",
       "2                                 20.039689   \n",
       "3                                 20.031100   \n",
       "4                                 19.962364   \n",
       "\n",
       "   secondary_cleaner.state.floatbank3_a_level  \\\n",
       "0                                 -450.395995   \n",
       "1                                 -450.114024   \n",
       "2                                 -450.263164   \n",
       "3                                 -449.372570   \n",
       "4                                 -450.638828   \n",
       "\n",
       "   secondary_cleaner.state.floatbank3_b_air  \\\n",
       "0                                 13.987058   \n",
       "1                                 14.092981   \n",
       "2                                 14.077881   \n",
       "3                                 14.013968   \n",
       "4                                 14.009245   \n",
       "\n",
       "   secondary_cleaner.state.floatbank3_b_level  \\\n",
       "0                                 -449.831513   \n",
       "1                                 -450.059163   \n",
       "2                                 -449.660997   \n",
       "3                                 -449.526900   \n",
       "4                                 -450.022259   \n",
       "\n",
       "   secondary_cleaner.state.floatbank4_a_air  \\\n",
       "0                                 12.023554   \n",
       "1                                 12.058140   \n",
       "2                                 11.962366   \n",
       "3                                 12.033091   \n",
       "4                                 12.025367   \n",
       "\n",
       "   secondary_cleaner.state.floatbank4_a_level  \\\n",
       "0                                 -497.795834   \n",
       "1                                 -498.695773   \n",
       "2                                 -498.767484   \n",
       "3                                 -498.350935   \n",
       "4                                 -500.786497   \n",
       "\n",
       "   secondary_cleaner.state.floatbank4_b_air  \\\n",
       "0                                  8.016656   \n",
       "1                                  8.130979   \n",
       "2                                  8.096893   \n",
       "3                                  8.074946   \n",
       "4                                  8.054678   \n",
       "\n",
       "   secondary_cleaner.state.floatbank4_b_level  \\\n",
       "0                                 -501.289139   \n",
       "1                                 -499.634209   \n",
       "2                                 -500.827423   \n",
       "3                                 -499.474407   \n",
       "4                                 -500.397500   \n",
       "\n",
       "   secondary_cleaner.state.floatbank5_a_air  \\\n",
       "0                                  7.946562   \n",
       "1                                  7.958270   \n",
       "2                                  8.071056   \n",
       "3                                  7.897085   \n",
       "4                                  8.107890   \n",
       "\n",
       "   secondary_cleaner.state.floatbank5_a_level  \\\n",
       "0                                 -432.317850   \n",
       "1                                 -525.839648   \n",
       "2                                 -500.801673   \n",
       "3                                 -500.868509   \n",
       "4                                 -509.526725   \n",
       "\n",
       "   secondary_cleaner.state.floatbank5_b_air  \\\n",
       "0                                  4.872511   \n",
       "1                                  4.878850   \n",
       "2                                  4.905125   \n",
       "3                                  4.931400   \n",
       "4                                  4.957674   \n",
       "\n",
       "   secondary_cleaner.state.floatbank5_b_level  \\\n",
       "0                                 -500.037437   \n",
       "1                                 -500.162375   \n",
       "2                                 -499.828510   \n",
       "3                                 -499.963623   \n",
       "4                                 -500.360026   \n",
       "\n",
       "   secondary_cleaner.state.floatbank6_a_air  \\\n",
       "0                                 26.705889   \n",
       "1                                 25.019940   \n",
       "2                                 24.994862   \n",
       "3                                 24.948919   \n",
       "4                                 25.003331   \n",
       "\n",
       "   secondary_cleaner.state.floatbank6_a_level  \n",
       "0                                 -499.709414  \n",
       "1                                 -499.819438  \n",
       "2                                 -500.622559  \n",
       "3                                 -498.709987  \n",
       "4                                 -500.856333  "
      ]
     },
     "execution_count": 5,
     "metadata": {},
     "output_type": "execute_result"
    }
   ],
   "source": [
    "data_test.head()"
   ]
  },
  {
   "cell_type": "code",
   "execution_count": 6,
   "metadata": {},
   "outputs": [
    {
     "data": {
      "text/html": [
       "<div>\n",
       "<style scoped>\n",
       "    .dataframe tbody tr th:only-of-type {\n",
       "        vertical-align: middle;\n",
       "    }\n",
       "\n",
       "    .dataframe tbody tr th {\n",
       "        vertical-align: top;\n",
       "    }\n",
       "\n",
       "    .dataframe thead th {\n",
       "        text-align: right;\n",
       "    }\n",
       "</style>\n",
       "<table border=\"1\" class=\"dataframe\">\n",
       "  <thead>\n",
       "    <tr style=\"text-align: right;\">\n",
       "      <th></th>\n",
       "      <th>date</th>\n",
       "      <th>final.output.concentrate_ag</th>\n",
       "      <th>final.output.concentrate_pb</th>\n",
       "      <th>final.output.concentrate_sol</th>\n",
       "      <th>final.output.concentrate_au</th>\n",
       "      <th>final.output.recovery</th>\n",
       "      <th>final.output.tail_ag</th>\n",
       "      <th>final.output.tail_pb</th>\n",
       "      <th>final.output.tail_sol</th>\n",
       "      <th>final.output.tail_au</th>\n",
       "      <th>primary_cleaner.input.sulfate</th>\n",
       "      <th>primary_cleaner.input.depressant</th>\n",
       "      <th>primary_cleaner.input.feed_size</th>\n",
       "      <th>primary_cleaner.input.xanthate</th>\n",
       "      <th>primary_cleaner.output.concentrate_ag</th>\n",
       "      <th>primary_cleaner.output.concentrate_pb</th>\n",
       "      <th>primary_cleaner.output.concentrate_sol</th>\n",
       "      <th>primary_cleaner.output.concentrate_au</th>\n",
       "      <th>primary_cleaner.output.tail_ag</th>\n",
       "      <th>primary_cleaner.output.tail_pb</th>\n",
       "      <th>primary_cleaner.output.tail_sol</th>\n",
       "      <th>primary_cleaner.output.tail_au</th>\n",
       "      <th>primary_cleaner.state.floatbank8_a_air</th>\n",
       "      <th>primary_cleaner.state.floatbank8_a_level</th>\n",
       "      <th>primary_cleaner.state.floatbank8_b_air</th>\n",
       "      <th>primary_cleaner.state.floatbank8_b_level</th>\n",
       "      <th>primary_cleaner.state.floatbank8_c_air</th>\n",
       "      <th>primary_cleaner.state.floatbank8_c_level</th>\n",
       "      <th>primary_cleaner.state.floatbank8_d_air</th>\n",
       "      <th>primary_cleaner.state.floatbank8_d_level</th>\n",
       "      <th>rougher.calculation.sulfate_to_au_concentrate</th>\n",
       "      <th>rougher.calculation.floatbank10_sulfate_to_au_feed</th>\n",
       "      <th>rougher.calculation.floatbank11_sulfate_to_au_feed</th>\n",
       "      <th>rougher.calculation.au_pb_ratio</th>\n",
       "      <th>rougher.input.feed_ag</th>\n",
       "      <th>rougher.input.feed_pb</th>\n",
       "      <th>rougher.input.feed_rate</th>\n",
       "      <th>rougher.input.feed_size</th>\n",
       "      <th>rougher.input.feed_sol</th>\n",
       "      <th>rougher.input.feed_au</th>\n",
       "      <th>rougher.input.floatbank10_sulfate</th>\n",
       "      <th>rougher.input.floatbank10_xanthate</th>\n",
       "      <th>rougher.input.floatbank11_sulfate</th>\n",
       "      <th>rougher.input.floatbank11_xanthate</th>\n",
       "      <th>rougher.output.concentrate_ag</th>\n",
       "      <th>rougher.output.concentrate_pb</th>\n",
       "      <th>rougher.output.concentrate_sol</th>\n",
       "      <th>rougher.output.concentrate_au</th>\n",
       "      <th>rougher.output.recovery</th>\n",
       "      <th>rougher.output.tail_ag</th>\n",
       "      <th>rougher.output.tail_pb</th>\n",
       "      <th>rougher.output.tail_sol</th>\n",
       "      <th>rougher.output.tail_au</th>\n",
       "      <th>rougher.state.floatbank10_a_air</th>\n",
       "      <th>rougher.state.floatbank10_a_level</th>\n",
       "      <th>rougher.state.floatbank10_b_air</th>\n",
       "      <th>rougher.state.floatbank10_b_level</th>\n",
       "      <th>rougher.state.floatbank10_c_air</th>\n",
       "      <th>rougher.state.floatbank10_c_level</th>\n",
       "      <th>rougher.state.floatbank10_d_air</th>\n",
       "      <th>rougher.state.floatbank10_d_level</th>\n",
       "      <th>rougher.state.floatbank10_e_air</th>\n",
       "      <th>rougher.state.floatbank10_e_level</th>\n",
       "      <th>rougher.state.floatbank10_f_air</th>\n",
       "      <th>rougher.state.floatbank10_f_level</th>\n",
       "      <th>secondary_cleaner.output.tail_ag</th>\n",
       "      <th>secondary_cleaner.output.tail_pb</th>\n",
       "      <th>secondary_cleaner.output.tail_sol</th>\n",
       "      <th>secondary_cleaner.output.tail_au</th>\n",
       "      <th>secondary_cleaner.state.floatbank2_a_air</th>\n",
       "      <th>secondary_cleaner.state.floatbank2_a_level</th>\n",
       "      <th>secondary_cleaner.state.floatbank2_b_air</th>\n",
       "      <th>secondary_cleaner.state.floatbank2_b_level</th>\n",
       "      <th>secondary_cleaner.state.floatbank3_a_air</th>\n",
       "      <th>secondary_cleaner.state.floatbank3_a_level</th>\n",
       "      <th>secondary_cleaner.state.floatbank3_b_air</th>\n",
       "      <th>secondary_cleaner.state.floatbank3_b_level</th>\n",
       "      <th>secondary_cleaner.state.floatbank4_a_air</th>\n",
       "      <th>secondary_cleaner.state.floatbank4_a_level</th>\n",
       "      <th>secondary_cleaner.state.floatbank4_b_air</th>\n",
       "      <th>secondary_cleaner.state.floatbank4_b_level</th>\n",
       "      <th>secondary_cleaner.state.floatbank5_a_air</th>\n",
       "      <th>secondary_cleaner.state.floatbank5_a_level</th>\n",
       "      <th>secondary_cleaner.state.floatbank5_b_air</th>\n",
       "      <th>secondary_cleaner.state.floatbank5_b_level</th>\n",
       "      <th>secondary_cleaner.state.floatbank6_a_air</th>\n",
       "      <th>secondary_cleaner.state.floatbank6_a_level</th>\n",
       "    </tr>\n",
       "  </thead>\n",
       "  <tbody>\n",
       "    <tr>\n",
       "      <th>0</th>\n",
       "      <td>2016-01-15 00:00:00</td>\n",
       "      <td>6.055403</td>\n",
       "      <td>9.889648</td>\n",
       "      <td>5.507324</td>\n",
       "      <td>42.192020</td>\n",
       "      <td>70.541216</td>\n",
       "      <td>10.411962</td>\n",
       "      <td>0.895447</td>\n",
       "      <td>16.904297</td>\n",
       "      <td>2.143149</td>\n",
       "      <td>127.092003</td>\n",
       "      <td>10.128295</td>\n",
       "      <td>7.25</td>\n",
       "      <td>0.988759</td>\n",
       "      <td>8.547551</td>\n",
       "      <td>10.389648</td>\n",
       "      <td>19.529297</td>\n",
       "      <td>34.174427</td>\n",
       "      <td>14.936526</td>\n",
       "      <td>2.534912</td>\n",
       "      <td>7.476074</td>\n",
       "      <td>2.106679</td>\n",
       "      <td>1549.775757</td>\n",
       "      <td>-498.912140</td>\n",
       "      <td>1551.434204</td>\n",
       "      <td>-516.403442</td>\n",
       "      <td>1549.873901</td>\n",
       "      <td>-498.666595</td>\n",
       "      <td>1554.367432</td>\n",
       "      <td>-493.428131</td>\n",
       "      <td>41885.707031</td>\n",
       "      <td>3481.779053</td>\n",
       "      <td>3520.337158</td>\n",
       "      <td>2.838687</td>\n",
       "      <td>6.100378</td>\n",
       "      <td>2.284912</td>\n",
       "      <td>523.546326</td>\n",
       "      <td>55.486599</td>\n",
       "      <td>36.808594</td>\n",
       "      <td>6.486150</td>\n",
       "      <td>11.986616</td>\n",
       "      <td>6.007990</td>\n",
       "      <td>11.836743</td>\n",
       "      <td>6.005818</td>\n",
       "      <td>11.500771</td>\n",
       "      <td>7.101074</td>\n",
       "      <td>28.029297</td>\n",
       "      <td>19.793808</td>\n",
       "      <td>87.107763</td>\n",
       "      <td>5.008018</td>\n",
       "      <td>0.508728</td>\n",
       "      <td>19.154297</td>\n",
       "      <td>1.170244</td>\n",
       "      <td>999.706909</td>\n",
       "      <td>-404.066986</td>\n",
       "      <td>1603.011353</td>\n",
       "      <td>-434.715027</td>\n",
       "      <td>1602.375000</td>\n",
       "      <td>-442.204468</td>\n",
       "      <td>1598.937256</td>\n",
       "      <td>-451.294128</td>\n",
       "      <td>1404.472046</td>\n",
       "      <td>-455.462982</td>\n",
       "      <td>1416.354980</td>\n",
       "      <td>-451.939636</td>\n",
       "      <td>14.500184</td>\n",
       "      <td>4.694824</td>\n",
       "      <td>8.764648</td>\n",
       "      <td>2.606185</td>\n",
       "      <td>25.853109</td>\n",
       "      <td>-498.526489</td>\n",
       "      <td>23.893660</td>\n",
       "      <td>-501.406281</td>\n",
       "      <td>23.961798</td>\n",
       "      <td>-495.262817</td>\n",
       "      <td>21.940409</td>\n",
       "      <td>-499.340973</td>\n",
       "      <td>14.016835</td>\n",
       "      <td>-502.488007</td>\n",
       "      <td>12.099931</td>\n",
       "      <td>-504.715942</td>\n",
       "      <td>9.925633</td>\n",
       "      <td>-498.310211</td>\n",
       "      <td>8.079666</td>\n",
       "      <td>-500.470978</td>\n",
       "      <td>14.151341</td>\n",
       "      <td>-605.841980</td>\n",
       "    </tr>\n",
       "    <tr>\n",
       "      <th>1</th>\n",
       "      <td>2016-01-15 01:00:00</td>\n",
       "      <td>6.029369</td>\n",
       "      <td>9.968944</td>\n",
       "      <td>5.257781</td>\n",
       "      <td>42.701629</td>\n",
       "      <td>69.266198</td>\n",
       "      <td>10.462676</td>\n",
       "      <td>0.927452</td>\n",
       "      <td>16.634514</td>\n",
       "      <td>2.224930</td>\n",
       "      <td>125.629232</td>\n",
       "      <td>10.296251</td>\n",
       "      <td>7.25</td>\n",
       "      <td>1.002663</td>\n",
       "      <td>8.558743</td>\n",
       "      <td>10.497069</td>\n",
       "      <td>19.369147</td>\n",
       "      <td>34.118526</td>\n",
       "      <td>16.250511</td>\n",
       "      <td>3.049646</td>\n",
       "      <td>6.733907</td>\n",
       "      <td>2.353017</td>\n",
       "      <td>1576.166671</td>\n",
       "      <td>-500.904965</td>\n",
       "      <td>1575.950626</td>\n",
       "      <td>-499.865889</td>\n",
       "      <td>1575.994189</td>\n",
       "      <td>-499.315107</td>\n",
       "      <td>1574.479259</td>\n",
       "      <td>-498.931665</td>\n",
       "      <td>42050.861809</td>\n",
       "      <td>3498.370979</td>\n",
       "      <td>3489.981857</td>\n",
       "      <td>2.858998</td>\n",
       "      <td>6.161113</td>\n",
       "      <td>2.266033</td>\n",
       "      <td>525.290581</td>\n",
       "      <td>57.278666</td>\n",
       "      <td>35.753385</td>\n",
       "      <td>6.478583</td>\n",
       "      <td>11.971193</td>\n",
       "      <td>6.005766</td>\n",
       "      <td>11.996163</td>\n",
       "      <td>6.012594</td>\n",
       "      <td>11.615865</td>\n",
       "      <td>7.278807</td>\n",
       "      <td>28.067063</td>\n",
       "      <td>20.050975</td>\n",
       "      <td>86.843261</td>\n",
       "      <td>4.955378</td>\n",
       "      <td>0.536689</td>\n",
       "      <td>18.965234</td>\n",
       "      <td>1.184827</td>\n",
       "      <td>1000.286398</td>\n",
       "      <td>-400.065196</td>\n",
       "      <td>1600.754587</td>\n",
       "      <td>-449.953435</td>\n",
       "      <td>1600.479580</td>\n",
       "      <td>-449.830646</td>\n",
       "      <td>1600.527589</td>\n",
       "      <td>-449.953649</td>\n",
       "      <td>1399.227084</td>\n",
       "      <td>-450.869848</td>\n",
       "      <td>1399.719514</td>\n",
       "      <td>-450.119001</td>\n",
       "      <td>14.265474</td>\n",
       "      <td>4.592547</td>\n",
       "      <td>9.001494</td>\n",
       "      <td>2.488248</td>\n",
       "      <td>25.880539</td>\n",
       "      <td>-499.989656</td>\n",
       "      <td>23.889530</td>\n",
       "      <td>-500.372428</td>\n",
       "      <td>23.970550</td>\n",
       "      <td>-500.085473</td>\n",
       "      <td>22.085714</td>\n",
       "      <td>-499.446897</td>\n",
       "      <td>13.992281</td>\n",
       "      <td>-505.503262</td>\n",
       "      <td>11.950531</td>\n",
       "      <td>-501.331529</td>\n",
       "      <td>10.039245</td>\n",
       "      <td>-500.169983</td>\n",
       "      <td>7.984757</td>\n",
       "      <td>-500.582168</td>\n",
       "      <td>13.998353</td>\n",
       "      <td>-599.787184</td>\n",
       "    </tr>\n",
       "    <tr>\n",
       "      <th>2</th>\n",
       "      <td>2016-01-15 02:00:00</td>\n",
       "      <td>6.055926</td>\n",
       "      <td>10.213995</td>\n",
       "      <td>5.383759</td>\n",
       "      <td>42.657501</td>\n",
       "      <td>68.116445</td>\n",
       "      <td>10.507046</td>\n",
       "      <td>0.953716</td>\n",
       "      <td>16.208849</td>\n",
       "      <td>2.257889</td>\n",
       "      <td>123.819808</td>\n",
       "      <td>11.316280</td>\n",
       "      <td>7.25</td>\n",
       "      <td>0.991265</td>\n",
       "      <td>8.603505</td>\n",
       "      <td>10.354494</td>\n",
       "      <td>19.167579</td>\n",
       "      <td>33.969464</td>\n",
       "      <td>16.491823</td>\n",
       "      <td>3.124664</td>\n",
       "      <td>6.471768</td>\n",
       "      <td>2.416800</td>\n",
       "      <td>1601.556163</td>\n",
       "      <td>-499.997791</td>\n",
       "      <td>1600.386685</td>\n",
       "      <td>-500.607762</td>\n",
       "      <td>1602.003542</td>\n",
       "      <td>-500.870069</td>\n",
       "      <td>1599.541515</td>\n",
       "      <td>-499.827444</td>\n",
       "      <td>42018.101184</td>\n",
       "      <td>3495.348910</td>\n",
       "      <td>3502.359819</td>\n",
       "      <td>2.945989</td>\n",
       "      <td>6.116455</td>\n",
       "      <td>2.159622</td>\n",
       "      <td>530.026610</td>\n",
       "      <td>57.510649</td>\n",
       "      <td>35.971630</td>\n",
       "      <td>6.362222</td>\n",
       "      <td>11.920603</td>\n",
       "      <td>6.197377</td>\n",
       "      <td>11.920305</td>\n",
       "      <td>6.204633</td>\n",
       "      <td>11.695753</td>\n",
       "      <td>7.216833</td>\n",
       "      <td>27.454037</td>\n",
       "      <td>19.737170</td>\n",
       "      <td>86.842308</td>\n",
       "      <td>4.843460</td>\n",
       "      <td>0.546416</td>\n",
       "      <td>18.808533</td>\n",
       "      <td>1.162562</td>\n",
       "      <td>999.719565</td>\n",
       "      <td>-400.074028</td>\n",
       "      <td>1599.337330</td>\n",
       "      <td>-450.008530</td>\n",
       "      <td>1599.672797</td>\n",
       "      <td>-449.954491</td>\n",
       "      <td>1599.849325</td>\n",
       "      <td>-449.954185</td>\n",
       "      <td>1399.180945</td>\n",
       "      <td>-449.937588</td>\n",
       "      <td>1400.316682</td>\n",
       "      <td>-450.527147</td>\n",
       "      <td>14.115662</td>\n",
       "      <td>4.624775</td>\n",
       "      <td>8.842896</td>\n",
       "      <td>2.458187</td>\n",
       "      <td>26.005245</td>\n",
       "      <td>-499.929616</td>\n",
       "      <td>23.886657</td>\n",
       "      <td>-499.951928</td>\n",
       "      <td>23.913535</td>\n",
       "      <td>-499.442343</td>\n",
       "      <td>23.957717</td>\n",
       "      <td>-499.901982</td>\n",
       "      <td>14.015015</td>\n",
       "      <td>-502.520901</td>\n",
       "      <td>11.912783</td>\n",
       "      <td>-501.133383</td>\n",
       "      <td>10.070913</td>\n",
       "      <td>-500.129135</td>\n",
       "      <td>8.013877</td>\n",
       "      <td>-500.517572</td>\n",
       "      <td>14.028663</td>\n",
       "      <td>-601.427363</td>\n",
       "    </tr>\n",
       "    <tr>\n",
       "      <th>3</th>\n",
       "      <td>2016-01-15 03:00:00</td>\n",
       "      <td>6.047977</td>\n",
       "      <td>9.977019</td>\n",
       "      <td>4.858634</td>\n",
       "      <td>42.689819</td>\n",
       "      <td>68.347543</td>\n",
       "      <td>10.422762</td>\n",
       "      <td>0.883763</td>\n",
       "      <td>16.532835</td>\n",
       "      <td>2.146849</td>\n",
       "      <td>122.270188</td>\n",
       "      <td>11.322140</td>\n",
       "      <td>7.25</td>\n",
       "      <td>0.996739</td>\n",
       "      <td>7.221879</td>\n",
       "      <td>8.496563</td>\n",
       "      <td>15.978538</td>\n",
       "      <td>28.260743</td>\n",
       "      <td>16.024359</td>\n",
       "      <td>2.960362</td>\n",
       "      <td>6.843791</td>\n",
       "      <td>2.262051</td>\n",
       "      <td>1599.968720</td>\n",
       "      <td>-500.951778</td>\n",
       "      <td>1600.659236</td>\n",
       "      <td>-499.677094</td>\n",
       "      <td>1600.304144</td>\n",
       "      <td>-500.727997</td>\n",
       "      <td>1600.449520</td>\n",
       "      <td>-500.052575</td>\n",
       "      <td>42029.447991</td>\n",
       "      <td>3498.578313</td>\n",
       "      <td>3499.162912</td>\n",
       "      <td>3.002340</td>\n",
       "      <td>6.043309</td>\n",
       "      <td>2.037807</td>\n",
       "      <td>542.590390</td>\n",
       "      <td>57.792734</td>\n",
       "      <td>36.862241</td>\n",
       "      <td>6.118189</td>\n",
       "      <td>11.630094</td>\n",
       "      <td>6.203177</td>\n",
       "      <td>11.692450</td>\n",
       "      <td>6.196578</td>\n",
       "      <td>11.915047</td>\n",
       "      <td>7.175616</td>\n",
       "      <td>27.341277</td>\n",
       "      <td>19.320810</td>\n",
       "      <td>87.226430</td>\n",
       "      <td>4.655288</td>\n",
       "      <td>0.542525</td>\n",
       "      <td>19.330200</td>\n",
       "      <td>1.079755</td>\n",
       "      <td>999.814770</td>\n",
       "      <td>-400.200179</td>\n",
       "      <td>1600.059442</td>\n",
       "      <td>-450.619948</td>\n",
       "      <td>1600.012842</td>\n",
       "      <td>-449.910497</td>\n",
       "      <td>1597.725177</td>\n",
       "      <td>-450.130127</td>\n",
       "      <td>1400.943157</td>\n",
       "      <td>-450.030142</td>\n",
       "      <td>1400.234743</td>\n",
       "      <td>-449.790835</td>\n",
       "      <td>13.732071</td>\n",
       "      <td>4.482453</td>\n",
       "      <td>9.122857</td>\n",
       "      <td>2.322062</td>\n",
       "      <td>25.942508</td>\n",
       "      <td>-499.176749</td>\n",
       "      <td>23.955516</td>\n",
       "      <td>-499.848796</td>\n",
       "      <td>23.966838</td>\n",
       "      <td>-500.008812</td>\n",
       "      <td>23.954443</td>\n",
       "      <td>-499.944710</td>\n",
       "      <td>14.036510</td>\n",
       "      <td>-500.857308</td>\n",
       "      <td>11.999550</td>\n",
       "      <td>-501.193686</td>\n",
       "      <td>9.970366</td>\n",
       "      <td>-499.201640</td>\n",
       "      <td>7.977324</td>\n",
       "      <td>-500.255908</td>\n",
       "      <td>14.005551</td>\n",
       "      <td>-599.996129</td>\n",
       "    </tr>\n",
       "    <tr>\n",
       "      <th>4</th>\n",
       "      <td>2016-01-15 04:00:00</td>\n",
       "      <td>6.148599</td>\n",
       "      <td>10.142511</td>\n",
       "      <td>4.939416</td>\n",
       "      <td>42.774141</td>\n",
       "      <td>66.927016</td>\n",
       "      <td>10.360302</td>\n",
       "      <td>0.792826</td>\n",
       "      <td>16.525686</td>\n",
       "      <td>2.055292</td>\n",
       "      <td>117.988169</td>\n",
       "      <td>11.913613</td>\n",
       "      <td>7.25</td>\n",
       "      <td>1.009869</td>\n",
       "      <td>9.089428</td>\n",
       "      <td>9.986786</td>\n",
       "      <td>19.199864</td>\n",
       "      <td>33.044932</td>\n",
       "      <td>16.480185</td>\n",
       "      <td>3.112100</td>\n",
       "      <td>6.550154</td>\n",
       "      <td>2.277073</td>\n",
       "      <td>1601.339707</td>\n",
       "      <td>-498.975456</td>\n",
       "      <td>1601.437854</td>\n",
       "      <td>-500.323246</td>\n",
       "      <td>1599.581894</td>\n",
       "      <td>-500.888152</td>\n",
       "      <td>1602.649541</td>\n",
       "      <td>-500.593010</td>\n",
       "      <td>42125.354245</td>\n",
       "      <td>3494.800771</td>\n",
       "      <td>3506.679315</td>\n",
       "      <td>3.169615</td>\n",
       "      <td>6.060915</td>\n",
       "      <td>1.786875</td>\n",
       "      <td>540.531893</td>\n",
       "      <td>56.047189</td>\n",
       "      <td>34.347666</td>\n",
       "      <td>5.663707</td>\n",
       "      <td>10.957755</td>\n",
       "      <td>6.198826</td>\n",
       "      <td>10.960521</td>\n",
       "      <td>6.194897</td>\n",
       "      <td>12.411054</td>\n",
       "      <td>7.240205</td>\n",
       "      <td>27.041023</td>\n",
       "      <td>19.216101</td>\n",
       "      <td>86.688794</td>\n",
       "      <td>4.552800</td>\n",
       "      <td>0.515438</td>\n",
       "      <td>19.267422</td>\n",
       "      <td>1.012642</td>\n",
       "      <td>999.678690</td>\n",
       "      <td>-399.752729</td>\n",
       "      <td>1600.208824</td>\n",
       "      <td>-449.599614</td>\n",
       "      <td>1600.357732</td>\n",
       "      <td>-450.034364</td>\n",
       "      <td>1599.759049</td>\n",
       "      <td>-449.909799</td>\n",
       "      <td>1401.560902</td>\n",
       "      <td>-448.877187</td>\n",
       "      <td>1401.160227</td>\n",
       "      <td>-450.407128</td>\n",
       "      <td>14.079996</td>\n",
       "      <td>4.470737</td>\n",
       "      <td>8.871028</td>\n",
       "      <td>2.330448</td>\n",
       "      <td>26.024787</td>\n",
       "      <td>-500.279091</td>\n",
       "      <td>23.955345</td>\n",
       "      <td>-500.593614</td>\n",
       "      <td>23.985703</td>\n",
       "      <td>-500.083811</td>\n",
       "      <td>23.958945</td>\n",
       "      <td>-499.990309</td>\n",
       "      <td>14.027298</td>\n",
       "      <td>-499.838632</td>\n",
       "      <td>11.953070</td>\n",
       "      <td>-501.053894</td>\n",
       "      <td>9.925709</td>\n",
       "      <td>-501.686727</td>\n",
       "      <td>7.894242</td>\n",
       "      <td>-500.356035</td>\n",
       "      <td>13.996647</td>\n",
       "      <td>-601.496691</td>\n",
       "    </tr>\n",
       "  </tbody>\n",
       "</table>\n",
       "</div>"
      ],
      "text/plain": [
       "                  date  final.output.concentrate_ag  \\\n",
       "0  2016-01-15 00:00:00                     6.055403   \n",
       "1  2016-01-15 01:00:00                     6.029369   \n",
       "2  2016-01-15 02:00:00                     6.055926   \n",
       "3  2016-01-15 03:00:00                     6.047977   \n",
       "4  2016-01-15 04:00:00                     6.148599   \n",
       "\n",
       "   final.output.concentrate_pb  final.output.concentrate_sol  \\\n",
       "0                     9.889648                      5.507324   \n",
       "1                     9.968944                      5.257781   \n",
       "2                    10.213995                      5.383759   \n",
       "3                     9.977019                      4.858634   \n",
       "4                    10.142511                      4.939416   \n",
       "\n",
       "   final.output.concentrate_au  final.output.recovery  final.output.tail_ag  \\\n",
       "0                    42.192020              70.541216             10.411962   \n",
       "1                    42.701629              69.266198             10.462676   \n",
       "2                    42.657501              68.116445             10.507046   \n",
       "3                    42.689819              68.347543             10.422762   \n",
       "4                    42.774141              66.927016             10.360302   \n",
       "\n",
       "   final.output.tail_pb  final.output.tail_sol  final.output.tail_au  \\\n",
       "0              0.895447              16.904297              2.143149   \n",
       "1              0.927452              16.634514              2.224930   \n",
       "2              0.953716              16.208849              2.257889   \n",
       "3              0.883763              16.532835              2.146849   \n",
       "4              0.792826              16.525686              2.055292   \n",
       "\n",
       "   primary_cleaner.input.sulfate  primary_cleaner.input.depressant  \\\n",
       "0                     127.092003                         10.128295   \n",
       "1                     125.629232                         10.296251   \n",
       "2                     123.819808                         11.316280   \n",
       "3                     122.270188                         11.322140   \n",
       "4                     117.988169                         11.913613   \n",
       "\n",
       "   primary_cleaner.input.feed_size  primary_cleaner.input.xanthate  \\\n",
       "0                             7.25                        0.988759   \n",
       "1                             7.25                        1.002663   \n",
       "2                             7.25                        0.991265   \n",
       "3                             7.25                        0.996739   \n",
       "4                             7.25                        1.009869   \n",
       "\n",
       "   primary_cleaner.output.concentrate_ag  \\\n",
       "0                               8.547551   \n",
       "1                               8.558743   \n",
       "2                               8.603505   \n",
       "3                               7.221879   \n",
       "4                               9.089428   \n",
       "\n",
       "   primary_cleaner.output.concentrate_pb  \\\n",
       "0                              10.389648   \n",
       "1                              10.497069   \n",
       "2                              10.354494   \n",
       "3                               8.496563   \n",
       "4                               9.986786   \n",
       "\n",
       "   primary_cleaner.output.concentrate_sol  \\\n",
       "0                               19.529297   \n",
       "1                               19.369147   \n",
       "2                               19.167579   \n",
       "3                               15.978538   \n",
       "4                               19.199864   \n",
       "\n",
       "   primary_cleaner.output.concentrate_au  primary_cleaner.output.tail_ag  \\\n",
       "0                              34.174427                       14.936526   \n",
       "1                              34.118526                       16.250511   \n",
       "2                              33.969464                       16.491823   \n",
       "3                              28.260743                       16.024359   \n",
       "4                              33.044932                       16.480185   \n",
       "\n",
       "   primary_cleaner.output.tail_pb  primary_cleaner.output.tail_sol  \\\n",
       "0                        2.534912                         7.476074   \n",
       "1                        3.049646                         6.733907   \n",
       "2                        3.124664                         6.471768   \n",
       "3                        2.960362                         6.843791   \n",
       "4                        3.112100                         6.550154   \n",
       "\n",
       "   primary_cleaner.output.tail_au  primary_cleaner.state.floatbank8_a_air  \\\n",
       "0                        2.106679                             1549.775757   \n",
       "1                        2.353017                             1576.166671   \n",
       "2                        2.416800                             1601.556163   \n",
       "3                        2.262051                             1599.968720   \n",
       "4                        2.277073                             1601.339707   \n",
       "\n",
       "   primary_cleaner.state.floatbank8_a_level  \\\n",
       "0                               -498.912140   \n",
       "1                               -500.904965   \n",
       "2                               -499.997791   \n",
       "3                               -500.951778   \n",
       "4                               -498.975456   \n",
       "\n",
       "   primary_cleaner.state.floatbank8_b_air  \\\n",
       "0                             1551.434204   \n",
       "1                             1575.950626   \n",
       "2                             1600.386685   \n",
       "3                             1600.659236   \n",
       "4                             1601.437854   \n",
       "\n",
       "   primary_cleaner.state.floatbank8_b_level  \\\n",
       "0                               -516.403442   \n",
       "1                               -499.865889   \n",
       "2                               -500.607762   \n",
       "3                               -499.677094   \n",
       "4                               -500.323246   \n",
       "\n",
       "   primary_cleaner.state.floatbank8_c_air  \\\n",
       "0                             1549.873901   \n",
       "1                             1575.994189   \n",
       "2                             1602.003542   \n",
       "3                             1600.304144   \n",
       "4                             1599.581894   \n",
       "\n",
       "   primary_cleaner.state.floatbank8_c_level  \\\n",
       "0                               -498.666595   \n",
       "1                               -499.315107   \n",
       "2                               -500.870069   \n",
       "3                               -500.727997   \n",
       "4                               -500.888152   \n",
       "\n",
       "   primary_cleaner.state.floatbank8_d_air  \\\n",
       "0                             1554.367432   \n",
       "1                             1574.479259   \n",
       "2                             1599.541515   \n",
       "3                             1600.449520   \n",
       "4                             1602.649541   \n",
       "\n",
       "   primary_cleaner.state.floatbank8_d_level  \\\n",
       "0                               -493.428131   \n",
       "1                               -498.931665   \n",
       "2                               -499.827444   \n",
       "3                               -500.052575   \n",
       "4                               -500.593010   \n",
       "\n",
       "   rougher.calculation.sulfate_to_au_concentrate  \\\n",
       "0                                   41885.707031   \n",
       "1                                   42050.861809   \n",
       "2                                   42018.101184   \n",
       "3                                   42029.447991   \n",
       "4                                   42125.354245   \n",
       "\n",
       "   rougher.calculation.floatbank10_sulfate_to_au_feed  \\\n",
       "0                                        3481.779053    \n",
       "1                                        3498.370979    \n",
       "2                                        3495.348910    \n",
       "3                                        3498.578313    \n",
       "4                                        3494.800771    \n",
       "\n",
       "   rougher.calculation.floatbank11_sulfate_to_au_feed  \\\n",
       "0                                        3520.337158    \n",
       "1                                        3489.981857    \n",
       "2                                        3502.359819    \n",
       "3                                        3499.162912    \n",
       "4                                        3506.679315    \n",
       "\n",
       "   rougher.calculation.au_pb_ratio  rougher.input.feed_ag  \\\n",
       "0                         2.838687               6.100378   \n",
       "1                         2.858998               6.161113   \n",
       "2                         2.945989               6.116455   \n",
       "3                         3.002340               6.043309   \n",
       "4                         3.169615               6.060915   \n",
       "\n",
       "   rougher.input.feed_pb  rougher.input.feed_rate  rougher.input.feed_size  \\\n",
       "0               2.284912               523.546326                55.486599   \n",
       "1               2.266033               525.290581                57.278666   \n",
       "2               2.159622               530.026610                57.510649   \n",
       "3               2.037807               542.590390                57.792734   \n",
       "4               1.786875               540.531893                56.047189   \n",
       "\n",
       "   rougher.input.feed_sol  rougher.input.feed_au  \\\n",
       "0               36.808594               6.486150   \n",
       "1               35.753385               6.478583   \n",
       "2               35.971630               6.362222   \n",
       "3               36.862241               6.118189   \n",
       "4               34.347666               5.663707   \n",
       "\n",
       "   rougher.input.floatbank10_sulfate  rougher.input.floatbank10_xanthate  \\\n",
       "0                          11.986616                            6.007990   \n",
       "1                          11.971193                            6.005766   \n",
       "2                          11.920603                            6.197377   \n",
       "3                          11.630094                            6.203177   \n",
       "4                          10.957755                            6.198826   \n",
       "\n",
       "   rougher.input.floatbank11_sulfate  rougher.input.floatbank11_xanthate  \\\n",
       "0                          11.836743                            6.005818   \n",
       "1                          11.996163                            6.012594   \n",
       "2                          11.920305                            6.204633   \n",
       "3                          11.692450                            6.196578   \n",
       "4                          10.960521                            6.194897   \n",
       "\n",
       "   rougher.output.concentrate_ag  rougher.output.concentrate_pb  \\\n",
       "0                      11.500771                       7.101074   \n",
       "1                      11.615865                       7.278807   \n",
       "2                      11.695753                       7.216833   \n",
       "3                      11.915047                       7.175616   \n",
       "4                      12.411054                       7.240205   \n",
       "\n",
       "   rougher.output.concentrate_sol  rougher.output.concentrate_au  \\\n",
       "0                       28.029297                      19.793808   \n",
       "1                       28.067063                      20.050975   \n",
       "2                       27.454037                      19.737170   \n",
       "3                       27.341277                      19.320810   \n",
       "4                       27.041023                      19.216101   \n",
       "\n",
       "   rougher.output.recovery  rougher.output.tail_ag  rougher.output.tail_pb  \\\n",
       "0                87.107763                5.008018                0.508728   \n",
       "1                86.843261                4.955378                0.536689   \n",
       "2                86.842308                4.843460                0.546416   \n",
       "3                87.226430                4.655288                0.542525   \n",
       "4                86.688794                4.552800                0.515438   \n",
       "\n",
       "   rougher.output.tail_sol  rougher.output.tail_au  \\\n",
       "0                19.154297                1.170244   \n",
       "1                18.965234                1.184827   \n",
       "2                18.808533                1.162562   \n",
       "3                19.330200                1.079755   \n",
       "4                19.267422                1.012642   \n",
       "\n",
       "   rougher.state.floatbank10_a_air  rougher.state.floatbank10_a_level  \\\n",
       "0                       999.706909                        -404.066986   \n",
       "1                      1000.286398                        -400.065196   \n",
       "2                       999.719565                        -400.074028   \n",
       "3                       999.814770                        -400.200179   \n",
       "4                       999.678690                        -399.752729   \n",
       "\n",
       "   rougher.state.floatbank10_b_air  rougher.state.floatbank10_b_level  \\\n",
       "0                      1603.011353                        -434.715027   \n",
       "1                      1600.754587                        -449.953435   \n",
       "2                      1599.337330                        -450.008530   \n",
       "3                      1600.059442                        -450.619948   \n",
       "4                      1600.208824                        -449.599614   \n",
       "\n",
       "   rougher.state.floatbank10_c_air  rougher.state.floatbank10_c_level  \\\n",
       "0                      1602.375000                        -442.204468   \n",
       "1                      1600.479580                        -449.830646   \n",
       "2                      1599.672797                        -449.954491   \n",
       "3                      1600.012842                        -449.910497   \n",
       "4                      1600.357732                        -450.034364   \n",
       "\n",
       "   rougher.state.floatbank10_d_air  rougher.state.floatbank10_d_level  \\\n",
       "0                      1598.937256                        -451.294128   \n",
       "1                      1600.527589                        -449.953649   \n",
       "2                      1599.849325                        -449.954185   \n",
       "3                      1597.725177                        -450.130127   \n",
       "4                      1599.759049                        -449.909799   \n",
       "\n",
       "   rougher.state.floatbank10_e_air  rougher.state.floatbank10_e_level  \\\n",
       "0                      1404.472046                        -455.462982   \n",
       "1                      1399.227084                        -450.869848   \n",
       "2                      1399.180945                        -449.937588   \n",
       "3                      1400.943157                        -450.030142   \n",
       "4                      1401.560902                        -448.877187   \n",
       "\n",
       "   rougher.state.floatbank10_f_air  rougher.state.floatbank10_f_level  \\\n",
       "0                      1416.354980                        -451.939636   \n",
       "1                      1399.719514                        -450.119001   \n",
       "2                      1400.316682                        -450.527147   \n",
       "3                      1400.234743                        -449.790835   \n",
       "4                      1401.160227                        -450.407128   \n",
       "\n",
       "   secondary_cleaner.output.tail_ag  secondary_cleaner.output.tail_pb  \\\n",
       "0                         14.500184                          4.694824   \n",
       "1                         14.265474                          4.592547   \n",
       "2                         14.115662                          4.624775   \n",
       "3                         13.732071                          4.482453   \n",
       "4                         14.079996                          4.470737   \n",
       "\n",
       "   secondary_cleaner.output.tail_sol  secondary_cleaner.output.tail_au  \\\n",
       "0                           8.764648                          2.606185   \n",
       "1                           9.001494                          2.488248   \n",
       "2                           8.842896                          2.458187   \n",
       "3                           9.122857                          2.322062   \n",
       "4                           8.871028                          2.330448   \n",
       "\n",
       "   secondary_cleaner.state.floatbank2_a_air  \\\n",
       "0                                 25.853109   \n",
       "1                                 25.880539   \n",
       "2                                 26.005245   \n",
       "3                                 25.942508   \n",
       "4                                 26.024787   \n",
       "\n",
       "   secondary_cleaner.state.floatbank2_a_level  \\\n",
       "0                                 -498.526489   \n",
       "1                                 -499.989656   \n",
       "2                                 -499.929616   \n",
       "3                                 -499.176749   \n",
       "4                                 -500.279091   \n",
       "\n",
       "   secondary_cleaner.state.floatbank2_b_air  \\\n",
       "0                                 23.893660   \n",
       "1                                 23.889530   \n",
       "2                                 23.886657   \n",
       "3                                 23.955516   \n",
       "4                                 23.955345   \n",
       "\n",
       "   secondary_cleaner.state.floatbank2_b_level  \\\n",
       "0                                 -501.406281   \n",
       "1                                 -500.372428   \n",
       "2                                 -499.951928   \n",
       "3                                 -499.848796   \n",
       "4                                 -500.593614   \n",
       "\n",
       "   secondary_cleaner.state.floatbank3_a_air  \\\n",
       "0                                 23.961798   \n",
       "1                                 23.970550   \n",
       "2                                 23.913535   \n",
       "3                                 23.966838   \n",
       "4                                 23.985703   \n",
       "\n",
       "   secondary_cleaner.state.floatbank3_a_level  \\\n",
       "0                                 -495.262817   \n",
       "1                                 -500.085473   \n",
       "2                                 -499.442343   \n",
       "3                                 -500.008812   \n",
       "4                                 -500.083811   \n",
       "\n",
       "   secondary_cleaner.state.floatbank3_b_air  \\\n",
       "0                                 21.940409   \n",
       "1                                 22.085714   \n",
       "2                                 23.957717   \n",
       "3                                 23.954443   \n",
       "4                                 23.958945   \n",
       "\n",
       "   secondary_cleaner.state.floatbank3_b_level  \\\n",
       "0                                 -499.340973   \n",
       "1                                 -499.446897   \n",
       "2                                 -499.901982   \n",
       "3                                 -499.944710   \n",
       "4                                 -499.990309   \n",
       "\n",
       "   secondary_cleaner.state.floatbank4_a_air  \\\n",
       "0                                 14.016835   \n",
       "1                                 13.992281   \n",
       "2                                 14.015015   \n",
       "3                                 14.036510   \n",
       "4                                 14.027298   \n",
       "\n",
       "   secondary_cleaner.state.floatbank4_a_level  \\\n",
       "0                                 -502.488007   \n",
       "1                                 -505.503262   \n",
       "2                                 -502.520901   \n",
       "3                                 -500.857308   \n",
       "4                                 -499.838632   \n",
       "\n",
       "   secondary_cleaner.state.floatbank4_b_air  \\\n",
       "0                                 12.099931   \n",
       "1                                 11.950531   \n",
       "2                                 11.912783   \n",
       "3                                 11.999550   \n",
       "4                                 11.953070   \n",
       "\n",
       "   secondary_cleaner.state.floatbank4_b_level  \\\n",
       "0                                 -504.715942   \n",
       "1                                 -501.331529   \n",
       "2                                 -501.133383   \n",
       "3                                 -501.193686   \n",
       "4                                 -501.053894   \n",
       "\n",
       "   secondary_cleaner.state.floatbank5_a_air  \\\n",
       "0                                  9.925633   \n",
       "1                                 10.039245   \n",
       "2                                 10.070913   \n",
       "3                                  9.970366   \n",
       "4                                  9.925709   \n",
       "\n",
       "   secondary_cleaner.state.floatbank5_a_level  \\\n",
       "0                                 -498.310211   \n",
       "1                                 -500.169983   \n",
       "2                                 -500.129135   \n",
       "3                                 -499.201640   \n",
       "4                                 -501.686727   \n",
       "\n",
       "   secondary_cleaner.state.floatbank5_b_air  \\\n",
       "0                                  8.079666   \n",
       "1                                  7.984757   \n",
       "2                                  8.013877   \n",
       "3                                  7.977324   \n",
       "4                                  7.894242   \n",
       "\n",
       "   secondary_cleaner.state.floatbank5_b_level  \\\n",
       "0                                 -500.470978   \n",
       "1                                 -500.582168   \n",
       "2                                 -500.517572   \n",
       "3                                 -500.255908   \n",
       "4                                 -500.356035   \n",
       "\n",
       "   secondary_cleaner.state.floatbank6_a_air  \\\n",
       "0                                 14.151341   \n",
       "1                                 13.998353   \n",
       "2                                 14.028663   \n",
       "3                                 14.005551   \n",
       "4                                 13.996647   \n",
       "\n",
       "   secondary_cleaner.state.floatbank6_a_level  \n",
       "0                                 -605.841980  \n",
       "1                                 -599.787184  \n",
       "2                                 -601.427363  \n",
       "3                                 -599.996129  \n",
       "4                                 -601.496691  "
      ]
     },
     "execution_count": 6,
     "metadata": {},
     "output_type": "execute_result"
    }
   ],
   "source": [
    "data_full.head()"
   ]
  },
  {
   "cell_type": "code",
   "execution_count": 7,
   "metadata": {},
   "outputs": [
    {
     "name": "stdout",
     "output_type": "stream",
     "text": [
      "<class 'pandas.core.frame.DataFrame'>\n",
      "RangeIndex: 14149 entries, 0 to 14148\n",
      "Data columns (total 87 columns):\n",
      " #   Column                                              Non-Null Count  Dtype  \n",
      "---  ------                                              --------------  -----  \n",
      " 0   date                                                14149 non-null  object \n",
      " 1   final.output.concentrate_ag                         14148 non-null  float64\n",
      " 2   final.output.concentrate_pb                         14148 non-null  float64\n",
      " 3   final.output.concentrate_sol                        13938 non-null  float64\n",
      " 4   final.output.concentrate_au                         14149 non-null  float64\n",
      " 5   final.output.recovery                               14149 non-null  float64\n",
      " 6   final.output.tail_ag                                14149 non-null  float64\n",
      " 7   final.output.tail_pb                                14049 non-null  float64\n",
      " 8   final.output.tail_sol                               14144 non-null  float64\n",
      " 9   final.output.tail_au                                14149 non-null  float64\n",
      " 10  primary_cleaner.input.sulfate                       14129 non-null  float64\n",
      " 11  primary_cleaner.input.depressant                    14117 non-null  float64\n",
      " 12  primary_cleaner.input.feed_size                     14149 non-null  float64\n",
      " 13  primary_cleaner.input.xanthate                      14049 non-null  float64\n",
      " 14  primary_cleaner.output.concentrate_ag               14149 non-null  float64\n",
      " 15  primary_cleaner.output.concentrate_pb               14063 non-null  float64\n",
      " 16  primary_cleaner.output.concentrate_sol              13863 non-null  float64\n",
      " 17  primary_cleaner.output.concentrate_au               14149 non-null  float64\n",
      " 18  primary_cleaner.output.tail_ag                      14148 non-null  float64\n",
      " 19  primary_cleaner.output.tail_pb                      14134 non-null  float64\n",
      " 20  primary_cleaner.output.tail_sol                     14103 non-null  float64\n",
      " 21  primary_cleaner.output.tail_au                      14149 non-null  float64\n",
      " 22  primary_cleaner.state.floatbank8_a_air              14145 non-null  float64\n",
      " 23  primary_cleaner.state.floatbank8_a_level            14148 non-null  float64\n",
      " 24  primary_cleaner.state.floatbank8_b_air              14145 non-null  float64\n",
      " 25  primary_cleaner.state.floatbank8_b_level            14148 non-null  float64\n",
      " 26  primary_cleaner.state.floatbank8_c_air              14147 non-null  float64\n",
      " 27  primary_cleaner.state.floatbank8_c_level            14148 non-null  float64\n",
      " 28  primary_cleaner.state.floatbank8_d_air              14146 non-null  float64\n",
      " 29  primary_cleaner.state.floatbank8_d_level            14148 non-null  float64\n",
      " 30  rougher.calculation.sulfate_to_au_concentrate       14148 non-null  float64\n",
      " 31  rougher.calculation.floatbank10_sulfate_to_au_feed  14148 non-null  float64\n",
      " 32  rougher.calculation.floatbank11_sulfate_to_au_feed  14148 non-null  float64\n",
      " 33  rougher.calculation.au_pb_ratio                     14149 non-null  float64\n",
      " 34  rougher.input.feed_ag                               14149 non-null  float64\n",
      " 35  rougher.input.feed_pb                               14049 non-null  float64\n",
      " 36  rougher.input.feed_rate                             14141 non-null  float64\n",
      " 37  rougher.input.feed_size                             14005 non-null  float64\n",
      " 38  rougher.input.feed_sol                              14071 non-null  float64\n",
      " 39  rougher.input.feed_au                               14149 non-null  float64\n",
      " 40  rougher.input.floatbank10_sulfate                   14120 non-null  float64\n",
      " 41  rougher.input.floatbank10_xanthate                  14141 non-null  float64\n",
      " 42  rougher.input.floatbank11_sulfate                   14113 non-null  float64\n",
      " 43  rougher.input.floatbank11_xanthate                  13721 non-null  float64\n",
      " 44  rougher.output.concentrate_ag                       14149 non-null  float64\n",
      " 45  rougher.output.concentrate_pb                       14149 non-null  float64\n",
      " 46  rougher.output.concentrate_sol                      14127 non-null  float64\n",
      " 47  rougher.output.concentrate_au                       14149 non-null  float64\n",
      " 48  rougher.output.recovery                             14149 non-null  float64\n",
      " 49  rougher.output.tail_ag                              14148 non-null  float64\n",
      " 50  rougher.output.tail_pb                              14149 non-null  float64\n",
      " 51  rougher.output.tail_sol                             14149 non-null  float64\n",
      " 52  rougher.output.tail_au                              14149 non-null  float64\n",
      " 53  rougher.state.floatbank10_a_air                     14148 non-null  float64\n",
      " 54  rougher.state.floatbank10_a_level                   14148 non-null  float64\n",
      " 55  rougher.state.floatbank10_b_air                     14148 non-null  float64\n",
      " 56  rougher.state.floatbank10_b_level                   14148 non-null  float64\n",
      " 57  rougher.state.floatbank10_c_air                     14148 non-null  float64\n",
      " 58  rougher.state.floatbank10_c_level                   14148 non-null  float64\n",
      " 59  rougher.state.floatbank10_d_air                     14149 non-null  float64\n",
      " 60  rougher.state.floatbank10_d_level                   14149 non-null  float64\n",
      " 61  rougher.state.floatbank10_e_air                     13713 non-null  float64\n",
      " 62  rougher.state.floatbank10_e_level                   14149 non-null  float64\n",
      " 63  rougher.state.floatbank10_f_air                     14149 non-null  float64\n",
      " 64  rougher.state.floatbank10_f_level                   14149 non-null  float64\n",
      " 65  secondary_cleaner.output.tail_ag                    14147 non-null  float64\n",
      " 66  secondary_cleaner.output.tail_pb                    14139 non-null  float64\n",
      " 67  secondary_cleaner.output.tail_sol                   12544 non-null  float64\n",
      " 68  secondary_cleaner.output.tail_au                    14149 non-null  float64\n",
      " 69  secondary_cleaner.state.floatbank2_a_air            13932 non-null  float64\n",
      " 70  secondary_cleaner.state.floatbank2_a_level          14148 non-null  float64\n",
      " 71  secondary_cleaner.state.floatbank2_b_air            14128 non-null  float64\n",
      " 72  secondary_cleaner.state.floatbank2_b_level          14148 non-null  float64\n",
      " 73  secondary_cleaner.state.floatbank3_a_air            14145 non-null  float64\n",
      " 74  secondary_cleaner.state.floatbank3_a_level          14148 non-null  float64\n",
      " 75  secondary_cleaner.state.floatbank3_b_air            14148 non-null  float64\n",
      " 76  secondary_cleaner.state.floatbank3_b_level          14148 non-null  float64\n",
      " 77  secondary_cleaner.state.floatbank4_a_air            14143 non-null  float64\n",
      " 78  secondary_cleaner.state.floatbank4_a_level          14148 non-null  float64\n",
      " 79  secondary_cleaner.state.floatbank4_b_air            14148 non-null  float64\n",
      " 80  secondary_cleaner.state.floatbank4_b_level          14148 non-null  float64\n",
      " 81  secondary_cleaner.state.floatbank5_a_air            14148 non-null  float64\n",
      " 82  secondary_cleaner.state.floatbank5_a_level          14148 non-null  float64\n",
      " 83  secondary_cleaner.state.floatbank5_b_air            14148 non-null  float64\n",
      " 84  secondary_cleaner.state.floatbank5_b_level          14148 non-null  float64\n",
      " 85  secondary_cleaner.state.floatbank6_a_air            14147 non-null  float64\n",
      " 86  secondary_cleaner.state.floatbank6_a_level          14148 non-null  float64\n",
      "dtypes: float64(86), object(1)\n",
      "memory usage: 9.4+ MB\n"
     ]
    }
   ],
   "source": [
    "data_train.info()"
   ]
  },
  {
   "cell_type": "code",
   "execution_count": 8,
   "metadata": {},
   "outputs": [
    {
     "name": "stdout",
     "output_type": "stream",
     "text": [
      "<class 'pandas.core.frame.DataFrame'>\n",
      "RangeIndex: 5290 entries, 0 to 5289\n",
      "Data columns (total 53 columns):\n",
      " #   Column                                      Non-Null Count  Dtype  \n",
      "---  ------                                      --------------  -----  \n",
      " 0   date                                        5290 non-null   object \n",
      " 1   primary_cleaner.input.sulfate               5286 non-null   float64\n",
      " 2   primary_cleaner.input.depressant            5285 non-null   float64\n",
      " 3   primary_cleaner.input.feed_size             5290 non-null   float64\n",
      " 4   primary_cleaner.input.xanthate              5286 non-null   float64\n",
      " 5   primary_cleaner.state.floatbank8_a_air      5290 non-null   float64\n",
      " 6   primary_cleaner.state.floatbank8_a_level    5290 non-null   float64\n",
      " 7   primary_cleaner.state.floatbank8_b_air      5290 non-null   float64\n",
      " 8   primary_cleaner.state.floatbank8_b_level    5290 non-null   float64\n",
      " 9   primary_cleaner.state.floatbank8_c_air      5290 non-null   float64\n",
      " 10  primary_cleaner.state.floatbank8_c_level    5290 non-null   float64\n",
      " 11  primary_cleaner.state.floatbank8_d_air      5290 non-null   float64\n",
      " 12  primary_cleaner.state.floatbank8_d_level    5290 non-null   float64\n",
      " 13  rougher.input.feed_ag                       5290 non-null   float64\n",
      " 14  rougher.input.feed_pb                       5290 non-null   float64\n",
      " 15  rougher.input.feed_rate                     5287 non-null   float64\n",
      " 16  rougher.input.feed_size                     5289 non-null   float64\n",
      " 17  rougher.input.feed_sol                      5269 non-null   float64\n",
      " 18  rougher.input.feed_au                       5290 non-null   float64\n",
      " 19  rougher.input.floatbank10_sulfate           5285 non-null   float64\n",
      " 20  rougher.input.floatbank10_xanthate          5290 non-null   float64\n",
      " 21  rougher.input.floatbank11_sulfate           5282 non-null   float64\n",
      " 22  rougher.input.floatbank11_xanthate          5265 non-null   float64\n",
      " 23  rougher.state.floatbank10_a_air             5290 non-null   float64\n",
      " 24  rougher.state.floatbank10_a_level           5290 non-null   float64\n",
      " 25  rougher.state.floatbank10_b_air             5290 non-null   float64\n",
      " 26  rougher.state.floatbank10_b_level           5290 non-null   float64\n",
      " 27  rougher.state.floatbank10_c_air             5290 non-null   float64\n",
      " 28  rougher.state.floatbank10_c_level           5290 non-null   float64\n",
      " 29  rougher.state.floatbank10_d_air             5290 non-null   float64\n",
      " 30  rougher.state.floatbank10_d_level           5290 non-null   float64\n",
      " 31  rougher.state.floatbank10_e_air             5290 non-null   float64\n",
      " 32  rougher.state.floatbank10_e_level           5290 non-null   float64\n",
      " 33  rougher.state.floatbank10_f_air             5290 non-null   float64\n",
      " 34  rougher.state.floatbank10_f_level           5290 non-null   float64\n",
      " 35  secondary_cleaner.state.floatbank2_a_air    5287 non-null   float64\n",
      " 36  secondary_cleaner.state.floatbank2_a_level  5290 non-null   float64\n",
      " 37  secondary_cleaner.state.floatbank2_b_air    5288 non-null   float64\n",
      " 38  secondary_cleaner.state.floatbank2_b_level  5290 non-null   float64\n",
      " 39  secondary_cleaner.state.floatbank3_a_air    5281 non-null   float64\n",
      " 40  secondary_cleaner.state.floatbank3_a_level  5290 non-null   float64\n",
      " 41  secondary_cleaner.state.floatbank3_b_air    5290 non-null   float64\n",
      " 42  secondary_cleaner.state.floatbank3_b_level  5290 non-null   float64\n",
      " 43  secondary_cleaner.state.floatbank4_a_air    5290 non-null   float64\n",
      " 44  secondary_cleaner.state.floatbank4_a_level  5290 non-null   float64\n",
      " 45  secondary_cleaner.state.floatbank4_b_air    5290 non-null   float64\n",
      " 46  secondary_cleaner.state.floatbank4_b_level  5290 non-null   float64\n",
      " 47  secondary_cleaner.state.floatbank5_a_air    5290 non-null   float64\n",
      " 48  secondary_cleaner.state.floatbank5_a_level  5290 non-null   float64\n",
      " 49  secondary_cleaner.state.floatbank5_b_air    5290 non-null   float64\n",
      " 50  secondary_cleaner.state.floatbank5_b_level  5290 non-null   float64\n",
      " 51  secondary_cleaner.state.floatbank6_a_air    5290 non-null   float64\n",
      " 52  secondary_cleaner.state.floatbank6_a_level  5290 non-null   float64\n",
      "dtypes: float64(52), object(1)\n",
      "memory usage: 2.1+ MB\n"
     ]
    }
   ],
   "source": [
    "data_test.info()"
   ]
  },
  {
   "cell_type": "code",
   "execution_count": 9,
   "metadata": {},
   "outputs": [
    {
     "name": "stdout",
     "output_type": "stream",
     "text": [
      "<class 'pandas.core.frame.DataFrame'>\n",
      "RangeIndex: 19439 entries, 0 to 19438\n",
      "Data columns (total 87 columns):\n",
      " #   Column                                              Non-Null Count  Dtype  \n",
      "---  ------                                              --------------  -----  \n",
      " 0   date                                                19439 non-null  object \n",
      " 1   final.output.concentrate_ag                         19438 non-null  float64\n",
      " 2   final.output.concentrate_pb                         19438 non-null  float64\n",
      " 3   final.output.concentrate_sol                        19228 non-null  float64\n",
      " 4   final.output.concentrate_au                         19439 non-null  float64\n",
      " 5   final.output.recovery                               19439 non-null  float64\n",
      " 6   final.output.tail_ag                                19438 non-null  float64\n",
      " 7   final.output.tail_pb                                19338 non-null  float64\n",
      " 8   final.output.tail_sol                               19433 non-null  float64\n",
      " 9   final.output.tail_au                                19439 non-null  float64\n",
      " 10  primary_cleaner.input.sulfate                       19415 non-null  float64\n",
      " 11  primary_cleaner.input.depressant                    19402 non-null  float64\n",
      " 12  primary_cleaner.input.feed_size                     19439 non-null  float64\n",
      " 13  primary_cleaner.input.xanthate                      19335 non-null  float64\n",
      " 14  primary_cleaner.output.concentrate_ag               19439 non-null  float64\n",
      " 15  primary_cleaner.output.concentrate_pb               19323 non-null  float64\n",
      " 16  primary_cleaner.output.concentrate_sol              19069 non-null  float64\n",
      " 17  primary_cleaner.output.concentrate_au               19439 non-null  float64\n",
      " 18  primary_cleaner.output.tail_ag                      19435 non-null  float64\n",
      " 19  primary_cleaner.output.tail_pb                      19418 non-null  float64\n",
      " 20  primary_cleaner.output.tail_sol                     19377 non-null  float64\n",
      " 21  primary_cleaner.output.tail_au                      19439 non-null  float64\n",
      " 22  primary_cleaner.state.floatbank8_a_air              19435 non-null  float64\n",
      " 23  primary_cleaner.state.floatbank8_a_level            19438 non-null  float64\n",
      " 24  primary_cleaner.state.floatbank8_b_air              19435 non-null  float64\n",
      " 25  primary_cleaner.state.floatbank8_b_level            19438 non-null  float64\n",
      " 26  primary_cleaner.state.floatbank8_c_air              19437 non-null  float64\n",
      " 27  primary_cleaner.state.floatbank8_c_level            19438 non-null  float64\n",
      " 28  primary_cleaner.state.floatbank8_d_air              19436 non-null  float64\n",
      " 29  primary_cleaner.state.floatbank8_d_level            19438 non-null  float64\n",
      " 30  rougher.calculation.sulfate_to_au_concentrate       19437 non-null  float64\n",
      " 31  rougher.calculation.floatbank10_sulfate_to_au_feed  19437 non-null  float64\n",
      " 32  rougher.calculation.floatbank11_sulfate_to_au_feed  19437 non-null  float64\n",
      " 33  rougher.calculation.au_pb_ratio                     19439 non-null  float64\n",
      " 34  rougher.input.feed_ag                               19439 non-null  float64\n",
      " 35  rougher.input.feed_pb                               19339 non-null  float64\n",
      " 36  rougher.input.feed_rate                             19428 non-null  float64\n",
      " 37  rougher.input.feed_size                             19294 non-null  float64\n",
      " 38  rougher.input.feed_sol                              19340 non-null  float64\n",
      " 39  rougher.input.feed_au                               19439 non-null  float64\n",
      " 40  rougher.input.floatbank10_sulfate                   19405 non-null  float64\n",
      " 41  rougher.input.floatbank10_xanthate                  19431 non-null  float64\n",
      " 42  rougher.input.floatbank11_sulfate                   19395 non-null  float64\n",
      " 43  rougher.input.floatbank11_xanthate                  18986 non-null  float64\n",
      " 44  rougher.output.concentrate_ag                       19439 non-null  float64\n",
      " 45  rougher.output.concentrate_pb                       19439 non-null  float64\n",
      " 46  rougher.output.concentrate_sol                      19416 non-null  float64\n",
      " 47  rougher.output.concentrate_au                       19439 non-null  float64\n",
      " 48  rougher.output.recovery                             19439 non-null  float64\n",
      " 49  rougher.output.tail_ag                              19438 non-null  float64\n",
      " 50  rougher.output.tail_pb                              19439 non-null  float64\n",
      " 51  rougher.output.tail_sol                             19439 non-null  float64\n",
      " 52  rougher.output.tail_au                              19439 non-null  float64\n",
      " 53  rougher.state.floatbank10_a_air                     19438 non-null  float64\n",
      " 54  rougher.state.floatbank10_a_level                   19438 non-null  float64\n",
      " 55  rougher.state.floatbank10_b_air                     19438 non-null  float64\n",
      " 56  rougher.state.floatbank10_b_level                   19438 non-null  float64\n",
      " 57  rougher.state.floatbank10_c_air                     19438 non-null  float64\n",
      " 58  rougher.state.floatbank10_c_level                   19438 non-null  float64\n",
      " 59  rougher.state.floatbank10_d_air                     19439 non-null  float64\n",
      " 60  rougher.state.floatbank10_d_level                   19439 non-null  float64\n",
      " 61  rougher.state.floatbank10_e_air                     19003 non-null  float64\n",
      " 62  rougher.state.floatbank10_e_level                   19439 non-null  float64\n",
      " 63  rougher.state.floatbank10_f_air                     19439 non-null  float64\n",
      " 64  rougher.state.floatbank10_f_level                   19439 non-null  float64\n",
      " 65  secondary_cleaner.output.tail_ag                    19437 non-null  float64\n",
      " 66  secondary_cleaner.output.tail_pb                    19427 non-null  float64\n",
      " 67  secondary_cleaner.output.tail_sol                   17691 non-null  float64\n",
      " 68  secondary_cleaner.output.tail_au                    19439 non-null  float64\n",
      " 69  secondary_cleaner.state.floatbank2_a_air            19219 non-null  float64\n",
      " 70  secondary_cleaner.state.floatbank2_a_level          19438 non-null  float64\n",
      " 71  secondary_cleaner.state.floatbank2_b_air            19416 non-null  float64\n",
      " 72  secondary_cleaner.state.floatbank2_b_level          19438 non-null  float64\n",
      " 73  secondary_cleaner.state.floatbank3_a_air            19426 non-null  float64\n",
      " 74  secondary_cleaner.state.floatbank3_a_level          19438 non-null  float64\n",
      " 75  secondary_cleaner.state.floatbank3_b_air            19438 non-null  float64\n",
      " 76  secondary_cleaner.state.floatbank3_b_level          19438 non-null  float64\n",
      " 77  secondary_cleaner.state.floatbank4_a_air            19433 non-null  float64\n",
      " 78  secondary_cleaner.state.floatbank4_a_level          19438 non-null  float64\n",
      " 79  secondary_cleaner.state.floatbank4_b_air            19438 non-null  float64\n",
      " 80  secondary_cleaner.state.floatbank4_b_level          19438 non-null  float64\n",
      " 81  secondary_cleaner.state.floatbank5_a_air            19438 non-null  float64\n",
      " 82  secondary_cleaner.state.floatbank5_a_level          19438 non-null  float64\n",
      " 83  secondary_cleaner.state.floatbank5_b_air            19438 non-null  float64\n",
      " 84  secondary_cleaner.state.floatbank5_b_level          19438 non-null  float64\n",
      " 85  secondary_cleaner.state.floatbank6_a_air            19437 non-null  float64\n",
      " 86  secondary_cleaner.state.floatbank6_a_level          19438 non-null  float64\n",
      "dtypes: float64(86), object(1)\n",
      "memory usage: 12.9+ MB\n"
     ]
    }
   ],
   "source": [
    "data_full.info()"
   ]
  },
  {
   "cell_type": "markdown",
   "metadata": {},
   "source": [
    "Описание данных\n",
    "\n",
    "Технологический процесс\n",
    "\n",
    "* Rougher feed — исходное сырье\n",
    "* Rougher additions (или reagent additions) — флотационные реагенты: Xanthate, Sulphate, Depressant\n",
    "* Xanthate **— ксантогенат (промотер, или активатор флотации);\n",
    "* Sulphate — сульфат (на данном производстве сульфид натрия);\n",
    "* Depressant — депрессант (силикат натрия).\n",
    "* Rougher process (англ. «грубый процесс») — флотация\n",
    "* Rougher tails — отвальные хвосты\n",
    "* Float banks — флотационная установка\n",
    "* Cleaner process — очистка\n",
    "* Rougher Au — черновой концентрат золота\n",
    "* Final Au — финальный концентрат золота\n",
    "\n",
    "\n",
    "Параметры этапов\n",
    "\n",
    "* air amount — объём воздуха\n",
    "* fluid levels — уровень жидкости\n",
    "* feed size — размер гранул сырья\n",
    "* feed rate — скорость подачи"
   ]
  },
  {
   "cell_type": "markdown",
   "metadata": {},
   "source": [
    "Наименование признаков\n",
    "Наименование признаков должно быть такое:\n",
    "\n",
    "[этап].[тип_параметра].[название_параметра]\n",
    "\n",
    "Пример: rougher.input.feed_ag\n",
    "\n",
    "\n",
    "Возможные значения для блока [этап]:\n",
    "* rougher — флотация\n",
    "* primary_cleaner — первичная очистка\n",
    "* secondary_cleaner — вторичная очистка\n",
    "* final — финальные характеристики\n",
    "\n",
    "\n",
    "Возможные значения для блока [тип_параметра]:\n",
    "* input — параметры сырья\n",
    "* output — параметры продукта\n",
    "* state — параметры, характеризующие текущее состояние этапа\n",
    "* calculation — расчётные характеристики"
   ]
  },
  {
   "cell_type": "code",
   "execution_count": 10,
   "metadata": {},
   "outputs": [
    {
     "name": "stdout",
     "output_type": "stream",
     "text": [
      "0\n",
      "0\n"
     ]
    }
   ],
   "source": [
    "print(data_train.duplicated().sum())\n",
    "print(data_test.duplicated().sum())"
   ]
  },
  {
   "cell_type": "markdown",
   "metadata": {},
   "source": [
    "Полные дуюликаты в данных отсутствуют."
   ]
  },
  {
   "cell_type": "markdown",
   "metadata": {},
   "source": [
    "Вывод: имееем три датасета: train, test и full. В датасете test меньше переменных, чем в train и full. В данных отсутствуют полные дубликаты, но существуют пропуски, которые в дальнейшем нужно будет обработать."
   ]
  },
  {
   "cell_type": "markdown",
   "metadata": {},
   "source": [
    "### Эффективность обогащения"
   ]
  },
  {
   "cell_type": "markdown",
   "metadata": {},
   "source": [
    "Проверим, что эффективность обогащения рассчитана правильно. Вычислим её на обучающей выборке для признака rougher.output.recovery. Найдем MAE между нашими расчётами и значением признака. Опишем выводы."
   ]
  },
  {
   "cell_type": "markdown",
   "metadata": {},
   "source": [
    "`RECOVERY = C*(F-T)/F*(C-T)*100%`\n",
    "\n",
    "* C — доля золота в концентрате после флотации/очистки;\n",
    "* F — доля золота в сырье/концентрате до флотации/очистки;\n",
    "* T — доля золота в отвальных хвостах после флотации/очистки."
   ]
  },
  {
   "cell_type": "code",
   "execution_count": 11,
   "metadata": {},
   "outputs": [],
   "source": [
    "#вычислим эффективность обогащения на обучающей выборке\n",
    "C = data_train['rougher.output.concentrate_au']\n",
    "F = data_train['rougher.input.feed_au']\n",
    "T = data_train['rougher.output.tail_au']"
   ]
  },
  {
   "cell_type": "code",
   "execution_count": 12,
   "metadata": {},
   "outputs": [],
   "source": [
    "data_train['recovery'] = C*(F-T)/(F*(C-T))*100"
   ]
  },
  {
   "cell_type": "code",
   "execution_count": 13,
   "metadata": {},
   "outputs": [
    {
     "name": "stdout",
     "output_type": "stream",
     "text": [
      "82.70450164550293\n",
      "82.70450164550293\n"
     ]
    }
   ],
   "source": [
    "#проверим средние значения\n",
    "print(data_train['recovery'].mean())\n",
    "print(data_train['rougher.output.recovery'].mean())"
   ]
  },
  {
   "cell_type": "markdown",
   "metadata": {},
   "source": [
    "Расчитаем MAE между нашими расчётами и значением признака."
   ]
  },
  {
   "cell_type": "code",
   "execution_count": 14,
   "metadata": {},
   "outputs": [
    {
     "data": {
      "text/plain": [
       "9.73512347450521e-15"
      ]
     },
     "execution_count": 14,
     "metadata": {},
     "output_type": "execute_result"
    }
   ],
   "source": [
    "mean_absolute_error(data_train['recovery'],data_train['rougher.output.recovery'])"
   ]
  },
  {
   "cell_type": "markdown",
   "metadata": {},
   "source": [
    "Значение MAE очень маленькое, и средние значения совпадают,  это подтверждает, что эффективность обогащения рассчитана правильно."
   ]
  },
  {
   "cell_type": "markdown",
   "metadata": {},
   "source": [
    "### Признаки, недоступные в тестовой выборке."
   ]
  },
  {
   "cell_type": "markdown",
   "metadata": {},
   "source": [
    "Проанализируем признаки, недоступные в тестовой выборке. Что это за параметры? К какому типу относятся?"
   ]
  },
  {
   "cell_type": "code",
   "execution_count": 15,
   "metadata": {},
   "outputs": [
    {
     "data": {
      "text/plain": [
       "{'final.output.concentrate_ag',\n",
       " 'final.output.concentrate_au',\n",
       " 'final.output.concentrate_pb',\n",
       " 'final.output.concentrate_sol',\n",
       " 'final.output.recovery',\n",
       " 'final.output.tail_ag',\n",
       " 'final.output.tail_au',\n",
       " 'final.output.tail_pb',\n",
       " 'final.output.tail_sol',\n",
       " 'primary_cleaner.output.concentrate_ag',\n",
       " 'primary_cleaner.output.concentrate_au',\n",
       " 'primary_cleaner.output.concentrate_pb',\n",
       " 'primary_cleaner.output.concentrate_sol',\n",
       " 'primary_cleaner.output.tail_ag',\n",
       " 'primary_cleaner.output.tail_au',\n",
       " 'primary_cleaner.output.tail_pb',\n",
       " 'primary_cleaner.output.tail_sol',\n",
       " 'recovery',\n",
       " 'rougher.calculation.au_pb_ratio',\n",
       " 'rougher.calculation.floatbank10_sulfate_to_au_feed',\n",
       " 'rougher.calculation.floatbank11_sulfate_to_au_feed',\n",
       " 'rougher.calculation.sulfate_to_au_concentrate',\n",
       " 'rougher.output.concentrate_ag',\n",
       " 'rougher.output.concentrate_au',\n",
       " 'rougher.output.concentrate_pb',\n",
       " 'rougher.output.concentrate_sol',\n",
       " 'rougher.output.recovery',\n",
       " 'rougher.output.tail_ag',\n",
       " 'rougher.output.tail_au',\n",
       " 'rougher.output.tail_pb',\n",
       " 'rougher.output.tail_sol',\n",
       " 'secondary_cleaner.output.tail_ag',\n",
       " 'secondary_cleaner.output.tail_au',\n",
       " 'secondary_cleaner.output.tail_pb',\n",
       " 'secondary_cleaner.output.tail_sol'}"
      ]
     },
     "execution_count": 15,
     "metadata": {},
     "output_type": "execute_result"
    }
   ],
   "source": [
    "set(data_train.columns) - set(data_test.columns)"
   ]
  },
  {
   "cell_type": "markdown",
   "metadata": {},
   "source": [
    "Эти признаки отсутствуют в тестовой выборке. Мы видим, что это признаки, которые относятся к вторичным стадиям обогащения, параметры продуктов(а не сырья), расчетные характеристики, относящиеся к разным этапам"
   ]
  },
  {
   "cell_type": "markdown",
   "metadata": {},
   "source": [
    "### Предобработка данных"
   ]
  },
  {
   "cell_type": "markdown",
   "metadata": {},
   "source": [
    "Поскольку в описании проекта сказано, что данные индексируются датой и временем получения информации (признак date) и соседние по времени параметры cхожи, заполним пропуски соответствующими значениями из предыдущих строк."
   ]
  },
  {
   "cell_type": "code",
   "execution_count": 16,
   "metadata": {},
   "outputs": [],
   "source": [
    "data_train.fillna(method='ffill', axis=0, inplace=True)\n",
    "data_test.fillna(method='ffill', axis=0, inplace=True)\n",
    "data_full.fillna(method='ffill', axis=0, inplace=True)"
   ]
  },
  {
   "cell_type": "code",
   "execution_count": 17,
   "metadata": {},
   "outputs": [
    {
     "name": "stdout",
     "output_type": "stream",
     "text": [
      "date                                          0\n",
      "final.output.concentrate_ag                   0\n",
      "final.output.concentrate_pb                   0\n",
      "final.output.concentrate_sol                  0\n",
      "final.output.concentrate_au                   0\n",
      "                                             ..\n",
      "secondary_cleaner.state.floatbank5_b_air      0\n",
      "secondary_cleaner.state.floatbank5_b_level    0\n",
      "secondary_cleaner.state.floatbank6_a_air      0\n",
      "secondary_cleaner.state.floatbank6_a_level    0\n",
      "recovery                                      0\n",
      "Length: 88, dtype: int64\n",
      "date                                          0\n",
      "primary_cleaner.input.sulfate                 0\n",
      "primary_cleaner.input.depressant              0\n",
      "primary_cleaner.input.feed_size               0\n",
      "primary_cleaner.input.xanthate                0\n",
      "primary_cleaner.state.floatbank8_a_air        0\n",
      "primary_cleaner.state.floatbank8_a_level      0\n",
      "primary_cleaner.state.floatbank8_b_air        0\n",
      "primary_cleaner.state.floatbank8_b_level      0\n",
      "primary_cleaner.state.floatbank8_c_air        0\n",
      "primary_cleaner.state.floatbank8_c_level      0\n",
      "primary_cleaner.state.floatbank8_d_air        0\n",
      "primary_cleaner.state.floatbank8_d_level      0\n",
      "rougher.input.feed_ag                         0\n",
      "rougher.input.feed_pb                         0\n",
      "rougher.input.feed_rate                       0\n",
      "rougher.input.feed_size                       0\n",
      "rougher.input.feed_sol                        0\n",
      "rougher.input.feed_au                         0\n",
      "rougher.input.floatbank10_sulfate             0\n",
      "rougher.input.floatbank10_xanthate            0\n",
      "rougher.input.floatbank11_sulfate             0\n",
      "rougher.input.floatbank11_xanthate            0\n",
      "rougher.state.floatbank10_a_air               0\n",
      "rougher.state.floatbank10_a_level             0\n",
      "rougher.state.floatbank10_b_air               0\n",
      "rougher.state.floatbank10_b_level             0\n",
      "rougher.state.floatbank10_c_air               0\n",
      "rougher.state.floatbank10_c_level             0\n",
      "rougher.state.floatbank10_d_air               0\n",
      "rougher.state.floatbank10_d_level             0\n",
      "rougher.state.floatbank10_e_air               0\n",
      "rougher.state.floatbank10_e_level             0\n",
      "rougher.state.floatbank10_f_air               0\n",
      "rougher.state.floatbank10_f_level             0\n",
      "secondary_cleaner.state.floatbank2_a_air      0\n",
      "secondary_cleaner.state.floatbank2_a_level    0\n",
      "secondary_cleaner.state.floatbank2_b_air      0\n",
      "secondary_cleaner.state.floatbank2_b_level    0\n",
      "secondary_cleaner.state.floatbank3_a_air      0\n",
      "secondary_cleaner.state.floatbank3_a_level    0\n",
      "secondary_cleaner.state.floatbank3_b_air      0\n",
      "secondary_cleaner.state.floatbank3_b_level    0\n",
      "secondary_cleaner.state.floatbank4_a_air      0\n",
      "secondary_cleaner.state.floatbank4_a_level    0\n",
      "secondary_cleaner.state.floatbank4_b_air      0\n",
      "secondary_cleaner.state.floatbank4_b_level    0\n",
      "secondary_cleaner.state.floatbank5_a_air      0\n",
      "secondary_cleaner.state.floatbank5_a_level    0\n",
      "secondary_cleaner.state.floatbank5_b_air      0\n",
      "secondary_cleaner.state.floatbank5_b_level    0\n",
      "secondary_cleaner.state.floatbank6_a_air      0\n",
      "secondary_cleaner.state.floatbank6_a_level    0\n",
      "dtype: int64\n",
      "date                                          0\n",
      "final.output.concentrate_ag                   0\n",
      "final.output.concentrate_pb                   0\n",
      "final.output.concentrate_sol                  0\n",
      "final.output.concentrate_au                   0\n",
      "                                             ..\n",
      "secondary_cleaner.state.floatbank5_a_level    0\n",
      "secondary_cleaner.state.floatbank5_b_air      0\n",
      "secondary_cleaner.state.floatbank5_b_level    0\n",
      "secondary_cleaner.state.floatbank6_a_air      0\n",
      "secondary_cleaner.state.floatbank6_a_level    0\n",
      "Length: 87, dtype: int64\n"
     ]
    }
   ],
   "source": [
    "print(data_train.isna().sum())\n",
    "print(data_test.isna().sum())\n",
    "print(data_full.isna().sum())"
   ]
  },
  {
   "cell_type": "markdown",
   "metadata": {},
   "source": [
    "Ещё раз проверим наши данные на полные дубли."
   ]
  },
  {
   "cell_type": "code",
   "execution_count": 18,
   "metadata": {},
   "outputs": [
    {
     "name": "stdout",
     "output_type": "stream",
     "text": [
      "0\n",
      "0\n",
      "0\n"
     ]
    }
   ],
   "source": [
    "print(data_train.duplicated().sum())\n",
    "print(data_test.duplicated().sum())\n",
    "print(data_full.duplicated().sum())"
   ]
  },
  {
   "cell_type": "code",
   "execution_count": 19,
   "metadata": {},
   "outputs": [
    {
     "data": {
      "text/plain": [
       "(14149, 88)"
      ]
     },
     "execution_count": 19,
     "metadata": {},
     "output_type": "execute_result"
    }
   ],
   "source": [
    "#Зафиксируем изначальный размер нашей выборки.\n",
    "data_train_shape = data_train.shape\n",
    "data_train_shape"
   ]
  },
  {
   "cell_type": "markdown",
   "metadata": {},
   "source": [
    "Мы избавились от пропусков в данных и проверили данные на полные дубли. Можем переходить к дальнейшему анализу."
   ]
  },
  {
   "cell_type": "markdown",
   "metadata": {},
   "source": [
    "## Анализ данных"
   ]
  },
  {
   "cell_type": "markdown",
   "metadata": {},
   "source": [
    "### Концентрация металлов (Au, Ag, Pb) на различных этапах очистки"
   ]
  },
  {
   "cell_type": "markdown",
   "metadata": {},
   "source": [
    "Посмотрите, как меняется концентрация металлов (Au, Ag, Pb) на различных этапах очистки. Опишите выводы."
   ]
  },
  {
   "cell_type": "markdown",
   "metadata": {},
   "source": [
    "* rougher — флотация\n",
    "* primary_cleaner — первичная очистка\n",
    "* secondary_cleaner — вторичная очистка\n",
    "* final — финальные характеристики"
   ]
  },
  {
   "cell_type": "code",
   "execution_count": 20,
   "metadata": {},
   "outputs": [
    {
     "data": {
      "image/png": "[encoded data removed]",
      "text/plain": [
       "<Figure size 1080x576 with 1 Axes>"
      ]
     },
     "metadata": {
      "needs_background": "light"
     },
     "output_type": "display_data"
    }
   ],
   "source": [
    "plt.figure(figsize=(15, 8))\n",
    "sns.histplot(data=data_train[['rougher.input.feed_ag','rougher.output.concentrate_ag', \n",
    "            'primary_cleaner.output.concentrate_ag',\n",
    "            'final.output.concentrate_ag']]).\\\n",
    "set(title='Концентрация Серебра (AG) на различных этапах очистки')\n",
    "plt.xlabel('Концентрация металлов')\n",
    "plt.ylabel('Кол-во значений')\n",
    "plt.show()"
   ]
  },
  {
   "cell_type": "code",
   "execution_count": 21,
   "metadata": {},
   "outputs": [
    {
     "data": {
      "image/png": "[encoded data removed]",
      "text/plain": [
       "<Figure size 1080x576 with 1 Axes>"
      ]
     },
     "metadata": {
      "needs_background": "light"
     },
     "output_type": "display_data"
    }
   ],
   "source": [
    "plt.figure(figsize=(15, 8))\n",
    "sns.boxplot(data=data_train[['rougher.input.feed_ag','rougher.output.concentrate_ag', \n",
    "            'primary_cleaner.output.concentrate_ag',\n",
    "            'final.output.concentrate_ag']]).\\\n",
    "set(title='Концентрация Серебра (AG) на различных этапах очистки')\n",
    "plt.ylabel('Концентрация металлов')\n",
    "plt.show()"
   ]
  },
  {
   "cell_type": "code",
   "execution_count": 22,
   "metadata": {},
   "outputs": [
    {
     "data": {
      "image/png": "[encoded data removed]",
      "text/plain": [
       "<Figure size 1080x576 with 1 Axes>"
      ]
     },
     "metadata": {
      "needs_background": "light"
     },
     "output_type": "display_data"
    }
   ],
   "source": [
    "plt.figure(figsize=(15, 8))\n",
    "sns.histplot(data=data_train[['rougher.input.feed_au','rougher.output.concentrate_au', \n",
    "            'primary_cleaner.output.concentrate_au',\n",
    "            'final.output.concentrate_au']]).\\\n",
    "set(title='Концентрация Золота (AU) на различных этапах очистки')\n",
    "plt.xlabel('Концентрация металлов')\n",
    "plt.ylabel('Кол-во значений')\n",
    "plt.show()"
   ]
  },
  {
   "cell_type": "code",
   "execution_count": 23,
   "metadata": {},
   "outputs": [
    {
     "data": {
      "image/png": "[encoded data removed]",
      "text/plain": [
       "<Figure size 1080x576 with 1 Axes>"
      ]
     },
     "metadata": {
      "needs_background": "light"
     },
     "output_type": "display_data"
    }
   ],
   "source": [
    "plt.figure(figsize=(15, 8))\n",
    "sns.boxplot(data=data_train[['rougher.input.feed_au','rougher.output.concentrate_au', \n",
    "            'primary_cleaner.output.concentrate_au',\n",
    "            'final.output.concentrate_au']]).\\\n",
    "set(title='Концентрация Золота (AU) на различных этапах очистки')\n",
    "plt.ylabel('Концентрация металлов')\n",
    "plt.show()"
   ]
  },
  {
   "cell_type": "code",
   "execution_count": 24,
   "metadata": {},
   "outputs": [
    {
     "data": {
      "image/png": "[encoded data removed]",
      "text/plain": [
       "<Figure size 1080x576 with 1 Axes>"
      ]
     },
     "metadata": {
      "needs_background": "light"
     },
     "output_type": "display_data"
    }
   ],
   "source": [
    "plt.figure(figsize=(15, 8))\n",
    "sns.histplot(data=data_train[['rougher.input.feed_pb','rougher.output.concentrate_pb', \n",
    "            'primary_cleaner.output.concentrate_pb',\n",
    "            'final.output.concentrate_pb']]).\\\n",
    "set(title='Концентрация Свинца (PB) на различных этапах очистки')\n",
    "plt.xlabel('Концентрация металлов')\n",
    "plt.ylabel('Кол-во значений')\n",
    "plt.show()"
   ]
  },
  {
   "cell_type": "code",
   "execution_count": 25,
   "metadata": {},
   "outputs": [
    {
     "data": {
      "image/png": "[encoded data removed]",
      "text/plain": [
       "<Figure size 1080x576 with 1 Axes>"
      ]
     },
     "metadata": {
      "needs_background": "light"
     },
     "output_type": "display_data"
    }
   ],
   "source": [
    "plt.figure(figsize=(15, 8))\n",
    "sns.boxplot(data=data_train[['rougher.input.feed_pb','rougher.output.concentrate_pb', \n",
    "            'primary_cleaner.output.concentrate_pb',\n",
    "            'final.output.concentrate_pb']]).\\\n",
    "set(title='Концентрация Свинца (PB) на различных этапах очистки')\n",
    "plt.ylabel('Концентрация металлов')\n",
    "plt.show()"
   ]
  },
  {
   "cell_type": "markdown",
   "metadata": {},
   "source": [
    "Видим, что в данных есть выбросы, в дальнейшем избавимся них."
   ]
  },
  {
   "cell_type": "markdown",
   "metadata": {},
   "source": [
    "Выводы:\n",
    "\n",
    "\n",
    "* Концентрация серебра снижается в процессе очистки, и при этом на стадии сырья меньше чем на стадии продукта. \n",
    "* Концентрация золота равномерно повышается от флотации до финальной очистки.\n",
    "* Концентрация свинца значительно повышается от стадии флотации к первичной очистке, и незначительно повышается на стадии финальной очистки."
   ]
  },
  {
   "cell_type": "markdown",
   "metadata": {},
   "source": [
    "### Распределения размеров гранул сырья на обучающей и тестовой выборках"
   ]
  },
  {
   "cell_type": "markdown",
   "metadata": {},
   "source": [
    "Сравним распределения размеров гранул сырья на обучающей и тестовой выборках. Если распределения сильно отличаются друг от друга, оценка модели будет неправильной."
   ]
  },
  {
   "cell_type": "code",
   "execution_count": 26,
   "metadata": {},
   "outputs": [
    {
     "data": {
      "image/png": "[encoded data removed]",
      "text/plain": [
       "<Figure size 1080x576 with 1 Axes>"
      ]
     },
     "metadata": {
      "needs_background": "light"
     },
     "output_type": "display_data"
    }
   ],
   "source": [
    "plt.figure(figsize=(15, 8))\n",
    "plt.xlim(0,120)\n",
    "sns.kdeplot(data_train['rougher.input.feed_size'], color='blue', label='Размер гранул сырья, train')\n",
    "sns.kdeplot(data_test['rougher.input.feed_size'], color='green',label='Размер гранул сырья, test')\n",
    "plt.ylabel('Плотность')\n",
    "plt.xlabel('Размер гранул сырья')\n",
    "plt.title('Распределения размеров гранул сырья на этапе флотации')\n",
    "plt.legend()\n",
    "plt.show()"
   ]
  },
  {
   "cell_type": "code",
   "execution_count": 27,
   "metadata": {},
   "outputs": [
    {
     "data": {
      "image/png": "[encoded data removed]",
      "text/plain": [
       "<Figure size 1080x576 with 1 Axes>"
      ]
     },
     "metadata": {
      "needs_background": "light"
     },
     "output_type": "display_data"
    }
   ],
   "source": [
    "plt.figure(figsize=(15, 8))\n",
    "plt.xlim(4,10)\n",
    "sns.kdeplot(data_train['primary_cleaner.input.feed_size'], color='blue', label='Размер гранул сырья, train')\n",
    "sns.kdeplot(data_test['primary_cleaner.input.feed_size'], color='green',label='Размер гранул сырья, test')\n",
    "plt.title('Распределения размеров гранул сырья на этапе первичной очистки')\n",
    "plt.ylabel('Плотность')\n",
    "plt.xlabel('Размер гранул сырья')\n",
    "plt.legend()\n",
    "plt.show()"
   ]
  },
  {
   "cell_type": "markdown",
   "metadata": {},
   "source": [
    "Вывод: распределения размеров гранул сырья на обучающей и тестовой выборках схожи."
   ]
  },
  {
   "cell_type": "markdown",
   "metadata": {},
   "source": [
    "### Суммарная концентрация всех веществ на разных стадиях"
   ]
  },
  {
   "cell_type": "markdown",
   "metadata": {},
   "source": [
    "Исследуем суммарную концентрацию всех веществ на разных стадиях. "
   ]
  },
  {
   "cell_type": "code",
   "execution_count": 28,
   "metadata": {},
   "outputs": [],
   "source": [
    "rougher_input_sum = data_train[['rougher.input.feed_ag', \n",
    "            'rougher.input.feed_pb', \n",
    "            'rougher.input.feed_sol', \n",
    "            'rougher.input.feed_au']].sum(axis=1)\n",
    "\n",
    "rougher_output_sum = data_train[['rougher.output.concentrate_ag', \n",
    "            'rougher.output.concentrate_pb', \n",
    "            'rougher.output.concentrate_sol', \n",
    "            'rougher.output.concentrate_au']].sum(axis=1)\n",
    "\n",
    "primary_cleaner_output_sum = data_train[['primary_cleaner.output.concentrate_ag',\n",
    "                                         'primary_cleaner.output.concentrate_pb',\n",
    "                                         'primary_cleaner.output.concentrate_sol',\n",
    "                                         'primary_cleaner.output.concentrate_au']].sum(axis=1)\n",
    "\n",
    "final_output_sum = data_train[['final.output.concentrate_ag', \n",
    "            'final.output.concentrate_pb', \n",
    "            'final.output.concentrate_sol', \n",
    "            'final.output.concentrate_au']].sum(axis=1)\n",
    "\n",
    "\n",
    "\n",
    "df = {'rougher_input_feed': rougher_input_sum,\n",
    "        'rougher_output_concentrate': rougher_output_sum,\n",
    "      'primary_cleaner_output': final_output_sum,\n",
    "        'final_output_concentrate': final_output_sum}\n",
    "\n",
    "data = pd.concat(df, axis = 1)"
   ]
  },
  {
   "cell_type": "code",
   "execution_count": 29,
   "metadata": {},
   "outputs": [
    {
     "data": {
      "image/png": "[encoded data removed]",
      "text/plain": [
       "<Figure size 1080x576 with 1 Axes>"
      ]
     },
     "metadata": {
      "needs_background": "light"
     },
     "output_type": "display_data"
    }
   ],
   "source": [
    "plt.figure(figsize=(15, 8))\n",
    "sns.histplot(data=data).\\\n",
    "set(title='Суммарная концентрация всех веществ на разных стадиях')\n",
    "plt.xlabel('Суммарная концентрация металлов')\n",
    "plt.ylabel('Кол-во значений')\n",
    "plt.show()"
   ]
  },
  {
   "cell_type": "code",
   "execution_count": 30,
   "metadata": {},
   "outputs": [
    {
     "data": {
      "image/png": "[encoded data removed]",
      "text/plain": [
       "<Figure size 1080x576 with 1 Axes>"
      ]
     },
     "metadata": {
      "needs_background": "light"
     },
     "output_type": "display_data"
    }
   ],
   "source": [
    "plt.figure(figsize=(15, 8))\n",
    "sns.boxplot(data=data).\\\n",
    "set(title='Суммарная концентрация всех веществ на разных стадиях')\n",
    "plt.ylabel('Концентрация металлов')\n",
    "plt.show()"
   ]
  },
  {
   "cell_type": "markdown",
   "metadata": {},
   "source": [
    "Из графиков распределения суммарной концентрации видим, что в данных есть аномалии, которые могут влиять на конечные рассчетные характеристики."
   ]
  },
  {
   "cell_type": "markdown",
   "metadata": {},
   "source": [
    "Так же видим, что суммарная концентрация металлов на разных этапах процесса меняется не существенно."
   ]
  },
  {
   "cell_type": "markdown",
   "metadata": {},
   "source": [
    "Добавим значения с сумарной концентрацией всех веществ на разных стадиях в наш датафрейм, чтобы удалить из данных выбросы."
   ]
  },
  {
   "cell_type": "code",
   "execution_count": 31,
   "metadata": {},
   "outputs": [],
   "source": [
    "data_train['rougher_input_sum'] = data_train[['rougher.input.feed_ag', \n",
    "            'rougher.input.feed_pb', \n",
    "            'rougher.input.feed_sol', \n",
    "            'rougher.input.feed_au']].sum(axis=1)\n",
    "\n",
    "data_train['rougher_output_sum'] = data_train[['rougher.output.concentrate_ag', \n",
    "            'rougher.output.concentrate_pb', \n",
    "            'rougher.output.concentrate_sol', \n",
    "            'rougher.output.concentrate_au']].sum(axis=1)\n",
    "\n",
    "data_train['primary_cleaner_output_sum'] = data_train[['primary_cleaner.output.concentrate_ag',\n",
    "                                         'primary_cleaner.output.concentrate_pb',\n",
    "                                         'primary_cleaner.output.concentrate_sol',\n",
    "                                         'primary_cleaner.output.concentrate_au']].sum(axis=1)\n",
    "\n",
    "data_train['final_output_sum'] = data_train[['final.output.concentrate_ag', \n",
    "            'final.output.concentrate_pb', \n",
    "            'final.output.concentrate_sol', \n",
    "            'final.output.concentrate_au']].sum(axis=1)"
   ]
  },
  {
   "cell_type": "markdown",
   "metadata": {},
   "source": [
    "Удалим из нашей выборки выбросы."
   ]
  },
  {
   "cell_type": "code",
   "execution_count": 32,
   "metadata": {},
   "outputs": [],
   "source": [
    "data_train = data_train[data_train['rougher_input_sum']>40]\n",
    "data_train = data_train[data_train['rougher_output_sum']>50]\n",
    "data_train = data_train[data_train['primary_cleaner_output_sum']>60]\n",
    "data_train = data_train[data_train['final_output_sum']>60]"
   ]
  },
  {
   "cell_type": "code",
   "execution_count": 33,
   "metadata": {},
   "outputs": [
    {
     "data": {
      "text/plain": [
       "((14149, 88), (8547, 92))"
      ]
     },
     "execution_count": 33,
     "metadata": {},
     "output_type": "execute_result"
    }
   ],
   "source": [
    "#посмотрим на сколько много данных мы удалили в итоге\n",
    "data_train_shape, data_train.shape"
   ]
  },
  {
   "cell_type": "code",
   "execution_count": 36,
   "metadata": {},
   "outputs": [
    {
     "data": {
      "image/png": "[encoded data removed]",
      "text/plain": [
       "<Figure size 1080x576 with 1 Axes>"
      ]
     },
     "metadata": {
      "needs_background": "light"
     },
     "output_type": "display_data"
    }
   ],
   "source": [
    "plt.figure(figsize=(15, 8))\n",
    "plt.xlim(35,100)\n",
    "sns.histplot(data=data_train[['rougher_input_sum','rougher_output_sum','primary_cleaner_output_sum','final_output_sum']]).\\\n",
    "set(title='Суммарная концентрация всех веществ на разных стадиях')\n",
    "plt.xlabel('Суммарная концентрация металлов')\n",
    "plt.ylabel('Кол-во значений')\n",
    "plt.show()"
   ]
  },
  {
   "cell_type": "code",
   "execution_count": 35,
   "metadata": {},
   "outputs": [
    {
     "data": {
      "image/png": "[encoded data removed]",
      "text/plain": [
       "<Figure size 1080x576 with 1 Axes>"
      ]
     },
     "metadata": {
      "needs_background": "light"
     },
     "output_type": "display_data"
    }
   ],
   "source": [
    "plt.figure(figsize=(15, 8))\n",
    "plt.xlim(35,100)\n",
    "sns.boxplot(data=data_train[['rougher_input_sum','rougher_output_sum','primary_cleaner_output_sum','final_output_sum']]).\\\n",
    "set(title='Суммарная концентрация всех веществ на разных стадиях')\n",
    "plt.ylabel('Концентрация металлов')\n",
    "plt.show()"
   ]
  },
  {
   "cell_type": "markdown",
   "metadata": {},
   "source": [
    "Вывод: \n",
    "* Мы избавились от анамальных значений суммарной концентрации всех веществ на разных стадиях. \n",
    "* Посмотрели как меняется концентрация металлов (Au, Ag, Pb) на различных этапах очистки.\n",
    "* Сравнили распределения размеров гранул сырья на обучающей и тестовой выборках.\n",
    "* Исследовали суммарную концентрацию всех веществ на разных стадиях: в сырье, в черновом и финальном концентратах.\n",
    "\n",
    "Можем переходить к моделированию."
   ]
  },
  {
   "cell_type": "markdown",
   "metadata": {},
   "source": [
    "## Модель"
   ]
  },
  {
   "cell_type": "markdown",
   "metadata": {},
   "source": [
    "### Функция для вычисления итоговой sMAPE"
   ]
  },
  {
   "cell_type": "markdown",
   "metadata": {},
   "source": [
    "Напишем функцию для вычисления итоговой sMAPE"
   ]
  },
  {
   "cell_type": "code",
   "execution_count": 36,
   "metadata": {},
   "outputs": [],
   "source": [
    "#sMAPE\n",
    "def smape(target, predicted):\n",
    "    smp = 1/len(target) * np.sum(2 * np.abs(target - predicted) / (np.abs(target) + np.abs(predicted))*100)\n",
    "    return smp\n",
    "#Итоговая матрика\n",
    "def smape_final(rougher, final):\n",
    "    smp = 0.25*rougher + 0.75*final\n",
    "    return smp"
   ]
  },
  {
   "cell_type": "code",
   "execution_count": 37,
   "metadata": {},
   "outputs": [],
   "source": [
    "smape_score = make_scorer(smape, greater_is_better=False)"
   ]
  },
  {
   "cell_type": "markdown",
   "metadata": {},
   "source": [
    "### Обучение моделей"
   ]
  },
  {
   "cell_type": "markdown",
   "metadata": {},
   "source": [
    "Обучим разные модели и оценим их качество кросс-валидацией. Выберим лучшую модель и проверем её на тестовой выборке."
   ]
  },
  {
   "cell_type": "markdown",
   "metadata": {},
   "source": [
    "Нужно спрогнозировать сразу две величины:\n",
    "* эффективность обогащения чернового концентрата rougher.output.recovery;\n",
    "* эффективность обогащения финального концентрата final.output.recovery."
   ]
  },
  {
   "cell_type": "markdown",
   "metadata": {},
   "source": [
    "Удалим значения с сумарной концентрацией всех веществ на разных стадиях из нашего датафрейма, поскольку более они нам не нужны."
   ]
  },
  {
   "cell_type": "code",
   "execution_count": 38,
   "metadata": {},
   "outputs": [],
   "source": [
    "data_train = data_train.drop(['rougher_input_sum','rougher_output_sum', 'primary_cleaner_output_sum','final_output_sum'],\n",
    "                             axis=1)"
   ]
  },
  {
   "cell_type": "markdown",
   "metadata": {},
   "source": [
    "Добавим целевые признаки из полной выборки в тестовую."
   ]
  },
  {
   "cell_type": "code",
   "execution_count": 39,
   "metadata": {},
   "outputs": [],
   "source": [
    "data_test = data_test.merge(data_full[['date','final.output.recovery','rougher.output.recovery']],\n",
    "                            how = 'left', on = 'date')"
   ]
  },
  {
   "cell_type": "markdown",
   "metadata": {},
   "source": [
    "Удалим лишние переменные."
   ]
  },
  {
   "cell_type": "code",
   "execution_count": 40,
   "metadata": {},
   "outputs": [],
   "source": [
    "data_train = data_train.drop(['date'], axis=1)\n",
    "data_test = data_test.drop(['date'], axis=1)\n",
    "\n",
    "#удалим из тренировочной выборки те признаки, которых нет в тестовой\n",
    "data_train = data_train.drop(set(data_train.columns)-set(data_test.columns), axis=1)"
   ]
  },
  {
   "cell_type": "code",
   "execution_count": 41,
   "metadata": {},
   "outputs": [],
   "source": [
    "# выделим признаки на тренировочной выборке для чернового концентрата (rougher)\n",
    "features_train_r = data_train.filter(regex='^rougher',axis=1)\n",
    "features_train_r = features_train_r.drop(['rougher.output.recovery'], axis=1)\n",
    "target_train_r = data_train['rougher.output.recovery']\n",
    "\n",
    "# и для финального концентрата (final)\n",
    "features_train_f = data_train.drop(['rougher.output.recovery', 'final.output.recovery'], axis=1)\n",
    "target_train_f = data_train['final.output.recovery']\n",
    "\n",
    "# #выделим признаки на тестовой выборке для чернового концентрата (rougher)\n",
    "features_test_r = data_test.filter(regex='^rougher',axis=1)\n",
    "features_test_r = features_test_r.drop(['rougher.output.recovery'], axis=1)\n",
    "target_test_r = data_test['rougher.output.recovery']\n",
    "\n",
    "# и для финального концентрата (final)\n",
    "features_test_f = data_test.drop(['rougher.output.recovery', 'final.output.recovery'], axis=1)\n",
    "target_test_f = data_test['final.output.recovery']"
   ]
  },
  {
   "cell_type": "code",
   "execution_count": 42,
   "metadata": {},
   "outputs": [
    {
     "name": "stdout",
     "output_type": "stream",
     "text": [
      "(8547, 22)\n",
      "(5290, 22)\n"
     ]
    }
   ],
   "source": [
    "print(features_train_r.shape)\n",
    "print(features_test_r.shape)"
   ]
  },
  {
   "cell_type": "markdown",
   "metadata": {},
   "source": [
    "Проведём масштабирование признаков."
   ]
  },
  {
   "cell_type": "code",
   "execution_count": 43,
   "metadata": {},
   "outputs": [],
   "source": [
    "features_r = features_train_r.columns\n",
    "features_f = features_train_f.columns\n",
    "\n",
    "scaler_r = StandardScaler()\n",
    "scaler_r.fit(features_train_r)\n",
    "features_train_r = scaler_r.transform(features_train_r)\n",
    "features_test_r = scaler_r.transform(features_test_r)\n",
    "\n",
    "\n",
    "scaler_f = StandardScaler()\n",
    "scaler_f.fit(features_train_f)\n",
    "features_train_f = scaler_f.transform(features_train_f)\n",
    "features_test_f = scaler_f.transform(features_test_f)"
   ]
  },
  {
   "cell_type": "markdown",
   "metadata": {},
   "source": [
    "#### Линейная регрессия"
   ]
  },
  {
   "cell_type": "code",
   "execution_count": 45,
   "metadata": {},
   "outputs": [
    {
     "name": "stdout",
     "output_type": "stream",
     "text": [
      "Итоговое sMape для линейной регрессии: 9.315576573262943\n"
     ]
    }
   ],
   "source": [
    "model_lr_r = LinearRegression()\n",
    "model_lr_f = LinearRegression()\n",
    "scores_r = cross_val_score(model_lr_r, features_train_r, target_train_r, scoring=smape_score, cv=5, n_jobs=-1)\n",
    "scores_f = cross_val_score(model_lr_f, features_train_f, target_train_f, scoring=smape_score, cv=5, n_jobs=-1)\n",
    "\n",
    "print('Итоговое sMape для линейной регрессии:', -smape_final(scores_r, scores_f).mean())"
   ]
  },
  {
   "cell_type": "markdown",
   "metadata": {},
   "source": [
    "#### Случайный лес"
   ]
  },
  {
   "cell_type": "code",
   "execution_count": 48,
   "metadata": {},
   "outputs": [
    {
     "name": "stdout",
     "output_type": "stream",
     "text": [
      "CPU times: user 1h 15min 32s, sys: 8.58 s, total: 1h 15min 40s\n",
      "Wall time: 1h 16min 1s\n"
     ]
    },
    {
     "data": {
      "text/plain": [
       "GridSearchCV(cv=3, estimator=RandomForestRegressor(random_state=12345),\n",
       "             n_jobs=-1,\n",
       "             param_grid={'max_depth': range(2, 11),\n",
       "                         'n_estimators': range(10, 151, 10)},\n",
       "             scoring=make_scorer(smape, greater_is_better=False))"
      ]
     },
     "execution_count": 48,
     "metadata": {},
     "output_type": "execute_result"
    }
   ],
   "source": [
    "%%time\n",
    "\n",
    "model_rf = RandomForestRegressor(random_state=random_state)\n",
    "parametrs = {'n_estimators': range(10,151,10),\n",
    "              'max_depth': range(2, 11)}\n",
    "\n",
    "search_r = GridSearchCV(model_rf, parametrs, cv=3, scoring=smape_score, n_jobs=-1)\n",
    "search_r.fit(features_train_r, target_train_r)\n",
    "\n",
    "\n",
    "search_f = GridSearchCV(model_rf, parametrs, cv=3, scoring=smape_score, n_jobs=-1)\n",
    "search_f.fit(features_train_f, target_train_f)"
   ]
  },
  {
   "cell_type": "code",
   "execution_count": 49,
   "metadata": {},
   "outputs": [
    {
     "name": "stdout",
     "output_type": "stream",
     "text": [
      "{'max_depth': 9, 'n_estimators': 10}\n",
      "{'max_depth': 7, 'n_estimators': 20}\n"
     ]
    }
   ],
   "source": [
    "print(search_r.best_params_)\n",
    "print(search_f.best_params_)"
   ]
  },
  {
   "cell_type": "code",
   "execution_count": 50,
   "metadata": {},
   "outputs": [
    {
     "name": "stdout",
     "output_type": "stream",
     "text": [
      "sMape для cлучайного леса: 8.337200737880805\n"
     ]
    }
   ],
   "source": [
    "print('sMape для cлучайного леса:', -smape_final(search_r.best_score_,search_f.best_score_))"
   ]
  },
  {
   "cell_type": "markdown",
   "metadata": {},
   "source": [
    "Вывод: показатели случайного леса лучше, чем у линейной регрессии."
   ]
  },
  {
   "cell_type": "markdown",
   "metadata": {},
   "source": [
    "### Тестирование модели"
   ]
  },
  {
   "cell_type": "code",
   "execution_count": 51,
   "metadata": {},
   "outputs": [
    {
     "name": "stdout",
     "output_type": "stream",
     "text": [
      "Итоговое sMape для случайного леса на тестовой выборке: 8.983458196323497\n"
     ]
    }
   ],
   "source": [
    "model_rf_r = RandomForestRegressor(max_depth=9, n_estimators=10, random_state=random_state)\n",
    "model_rf_f = RandomForestRegressor(max_depth=7, n_estimators=20, random_state=random_state)\n",
    "\n",
    "model_rf_r.fit(features_train_r, target_train_r)\n",
    "model_rf_f.fit(features_train_f, target_train_f)\n",
    "\n",
    "predicted_test_r = model_rf_r.predict(features_test_r)\n",
    "predicted_test_f = model_rf_f.predict(features_test_f)\n",
    "\n",
    "scores_test_r = smape(target_test_r,predicted_test_r)\n",
    "scores_test_f = smape(target_test_f,predicted_test_f)\n",
    "\n",
    "print('Итоговое sMape для случайного леса на тестовой выборке:', smape_final(scores_test_r, scores_test_f))"
   ]
  },
  {
   "cell_type": "markdown",
   "metadata": {},
   "source": [
    "Выведем информацию по важности признаков, полученных моделей."
   ]
  },
  {
   "cell_type": "code",
   "execution_count": 53,
   "metadata": {},
   "outputs": [
    {
     "data": {
      "image/png": "[encoded data removed]",
      "text/plain": [
       "<Figure size 1080x576 with 1 Axes>"
      ]
     },
     "metadata": {
      "needs_background": "light"
     },
     "output_type": "display_data"
    }
   ],
   "source": [
    "feature_imp = pd.Series(model_rf_r.feature_importances_,index=features_r).sort_values(ascending=False)\n",
    "\n",
    "plt.figure(figsize=(15, 8))\n",
    "sns.barplot(x=feature_imp, y=feature_imp.index)\n",
    "plt.xlabel('Важность признаков')\n",
    "plt.ylabel('Признаки')\n",
    "plt.title('Визуализация важных признаков')\n",
    "plt.show()"
   ]
  },
  {
   "cell_type": "code",
   "execution_count": 54,
   "metadata": {},
   "outputs": [
    {
     "data": {
      "image/png": "[encoded data removed]",
      "text/plain": [
       "<Figure size 1080x576 with 1 Axes>"
      ]
     },
     "metadata": {
      "needs_background": "light"
     },
     "output_type": "display_data"
    }
   ],
   "source": [
    "feature_imp = pd.Series(model_rf_f.feature_importances_,index=features_f).sort_values(ascending=False)\n",
    "\n",
    "plt.figure(figsize=(15, 8))\n",
    "sns.barplot(x=feature_imp, y=feature_imp.index)\n",
    "plt.xlabel('Важность признаков')\n",
    "plt.ylabel('Признаки')\n",
    "plt.title('Визуализация важных признаков')\n",
    "plt.show()"
   ]
  },
  {
   "cell_type": "markdown",
   "metadata": {},
   "source": [
    "Вывод:\n",
    "\n",
    "Наиболее важным признаком для прогнозирования эффективности обогащения чернового концентрата (rougher.output.recovery) является rougher.state.floatbank10_a_air.\n",
    "\n",
    "Наиболее важным признаком для прогнозирования эффективности обогащения финального концентрата (final.output.recovery) является rougher.input.feed_ag."
   ]
  },
  {
   "cell_type": "markdown",
   "metadata": {},
   "source": [
    "Сравним наши модели с примитивными моделями."
   ]
  },
  {
   "cell_type": "code",
   "execution_count": 55,
   "metadata": {},
   "outputs": [
    {
     "name": "stdout",
     "output_type": "stream",
     "text": [
      "Итоговое sMAPE для DummyRegressor: 9.214825433728366\n"
     ]
    }
   ],
   "source": [
    "dummy_model_r = DummyRegressor(strategy=\"mean\")\n",
    "dummy_model_f = DummyRegressor(strategy=\"mean\")\n",
    "dummy_model_r.fit(features_train_r, target_train_r)\n",
    "dummy_model_f.fit(features_train_f, target_train_f)\n",
    "test_predictions_r = dummy_model_r.predict(features_test_r)\n",
    "test_predictions_f = dummy_model_f.predict(features_test_f)\n",
    "\n",
    "print('Итоговое sMAPE для DummyRegressor:',\\\n",
    "smape_final(smape(target_test_r, test_predictions_r), smape(target_test_f, test_predictions_f)))"
   ]
  },
  {
   "cell_type": "markdown",
   "metadata": {},
   "source": [
    "Наши модели показали метрику лучше чем примитивные модели."
   ]
  },
  {
   "cell_type": "markdown",
   "metadata": {},
   "source": [
    "## Итоговый вывод"
   ]
  },
  {
   "cell_type": "markdown",
   "metadata": {},
   "source": [
    "Мы провели исследование данных:\n",
    "* Посмотрели как меняется концентрация металлов (Au, Ag, Pb) на различных этапах очистки.\n",
    "* Сравнили распределения размеров гранул сырья на обучающей и тестовой выборках.\n",
    "* Исследовали суммарную концентрацию всех веществ на разных стадиях: в сырье, в черновом и финальном концентратах.\n",
    "    \n",
    "Обучили модели случайного леса для прогнозирования сразу двух величин:\n",
    "* эффективность обогащения чернового концентрата rougher.output.recovery;\n",
    "* эффективность обогащения финального концентрата final.output.recovery."
   ]
  }
 ],
 "metadata": {
  "ExecuteTimeLog": [
   {
    "duration": 402,
    "start_time": "2023-04-10T07:26:22.361Z"
   },
   {
    "duration": 125,
    "start_time": "2023-04-10T07:30:26.406Z"
   },
   {
    "duration": 957,
    "start_time": "2023-04-10T07:30:51.455Z"
   },
   {
    "duration": 38,
    "start_time": "2023-04-10T07:31:05.287Z"
   },
   {
    "duration": 2794,
    "start_time": "2023-04-10T07:43:01.867Z"
   },
   {
    "duration": 35,
    "start_time": "2023-04-10T07:43:23.132Z"
   },
   {
    "duration": 23,
    "start_time": "2023-04-10T07:43:55.255Z"
   },
   {
    "duration": 21,
    "start_time": "2023-04-10T10:00:06.135Z"
   },
   {
    "duration": 14,
    "start_time": "2023-04-10T10:00:53.296Z"
   },
   {
    "duration": 26,
    "start_time": "2023-04-10T10:01:31.023Z"
   },
   {
    "duration": 3,
    "start_time": "2023-04-10T10:22:00.702Z"
   },
   {
    "duration": 743,
    "start_time": "2023-04-10T10:22:08.363Z"
   },
   {
    "duration": 63,
    "start_time": "2023-04-10T10:22:11.905Z"
   },
   {
    "duration": 11,
    "start_time": "2023-04-10T10:30:53.101Z"
   },
   {
    "duration": 18996,
    "start_time": "2023-04-10T10:32:15.455Z"
   },
   {
    "duration": 2221,
    "start_time": "2023-04-10T10:34:06.001Z"
   },
   {
    "duration": 162,
    "start_time": "2023-04-10T10:34:38.698Z"
   },
   {
    "duration": 80,
    "start_time": "2023-04-10T10:43:47.064Z"
   },
   {
    "duration": 3097,
    "start_time": "2023-04-10T10:44:17.179Z"
   },
   {
    "duration": 3518,
    "start_time": "2023-04-10T10:44:20.279Z"
   },
   {
    "duration": 3793,
    "start_time": "2023-04-10T10:44:23.799Z"
   },
   {
    "duration": 80,
    "start_time": "2023-04-10T10:44:27.594Z"
   },
   {
    "duration": 43,
    "start_time": "2023-04-10T10:44:27.676Z"
   },
   {
    "duration": 87,
    "start_time": "2023-04-10T10:44:27.720Z"
   },
   {
    "duration": 27,
    "start_time": "2023-04-10T10:44:27.809Z"
   },
   {
    "duration": 24,
    "start_time": "2023-04-10T10:44:27.842Z"
   },
   {
    "duration": 39,
    "start_time": "2023-04-10T10:44:27.868Z"
   },
   {
    "duration": 2973,
    "start_time": "2023-04-10T10:52:11.171Z"
   },
   {
    "duration": 527,
    "start_time": "2023-04-10T10:52:14.147Z"
   },
   {
    "duration": 0,
    "start_time": "2023-04-10T10:52:14.677Z"
   },
   {
    "duration": 0,
    "start_time": "2023-04-10T10:52:14.679Z"
   },
   {
    "duration": 0,
    "start_time": "2023-04-10T10:52:14.680Z"
   },
   {
    "duration": 0,
    "start_time": "2023-04-10T10:52:14.682Z"
   },
   {
    "duration": 0,
    "start_time": "2023-04-10T10:52:14.683Z"
   },
   {
    "duration": 0,
    "start_time": "2023-04-10T10:52:14.685Z"
   },
   {
    "duration": 0,
    "start_time": "2023-04-10T10:52:14.686Z"
   },
   {
    "duration": 0,
    "start_time": "2023-04-10T10:52:14.688Z"
   },
   {
    "duration": 460,
    "start_time": "2023-04-10T15:33:46.277Z"
   },
   {
    "duration": 2223,
    "start_time": "2023-04-10T15:33:49.005Z"
   },
   {
    "duration": 3,
    "start_time": "2023-04-10T15:46:09.361Z"
   },
   {
    "duration": 3,
    "start_time": "2023-04-10T15:47:43.485Z"
   },
   {
    "duration": 2,
    "start_time": "2023-04-10T15:49:37.846Z"
   },
   {
    "duration": 3,
    "start_time": "2023-04-10T15:54:26.564Z"
   },
   {
    "duration": 2,
    "start_time": "2023-04-10T15:56:16.971Z"
   },
   {
    "duration": 72,
    "start_time": "2023-04-10T15:58:30.243Z"
   },
   {
    "duration": 70,
    "start_time": "2023-04-10T15:59:33.800Z"
   },
   {
    "duration": 22,
    "start_time": "2023-04-10T16:06:06.956Z"
   },
   {
    "duration": 11,
    "start_time": "2023-04-10T16:06:40.321Z"
   },
   {
    "duration": 80,
    "start_time": "2023-04-10T16:07:01.738Z"
   },
   {
    "duration": 8,
    "start_time": "2023-04-10T16:07:27.956Z"
   },
   {
    "duration": 4,
    "start_time": "2023-04-10T16:08:03.004Z"
   },
   {
    "duration": 95,
    "start_time": "2023-04-10T16:09:28.804Z"
   },
   {
    "duration": 7801,
    "start_time": "2023-04-10T16:24:31.651Z"
   },
   {
    "duration": 6712,
    "start_time": "2023-04-10T16:25:14.875Z"
   },
   {
    "duration": 8867,
    "start_time": "2023-04-10T16:25:40.954Z"
   },
   {
    "duration": 9192,
    "start_time": "2023-04-10T16:26:09.443Z"
   },
   {
    "duration": 9177,
    "start_time": "2023-04-10T16:26:26.474Z"
   },
   {
    "duration": 8958,
    "start_time": "2023-04-10T16:26:51.735Z"
   },
   {
    "duration": 9018,
    "start_time": "2023-04-10T16:27:19.862Z"
   },
   {
    "duration": 8245,
    "start_time": "2023-04-10T16:27:45.543Z"
   },
   {
    "duration": 105,
    "start_time": "2023-04-10T16:28:56.675Z"
   },
   {
    "duration": 130,
    "start_time": "2023-04-10T16:29:04.732Z"
   },
   {
    "duration": 8802,
    "start_time": "2023-04-10T16:30:12.040Z"
   },
   {
    "duration": 138,
    "start_time": "2023-04-10T16:31:07.392Z"
   },
   {
    "duration": 75,
    "start_time": "2023-04-11T11:25:12.075Z"
   },
   {
    "duration": 44,
    "start_time": "2023-04-11T11:25:25.062Z"
   },
   {
    "duration": 382,
    "start_time": "2023-04-11T11:25:44.864Z"
   },
   {
    "duration": 1983,
    "start_time": "2023-04-11T11:25:45.248Z"
   },
   {
    "duration": 65,
    "start_time": "2023-04-11T11:25:47.233Z"
   },
   {
    "duration": 38,
    "start_time": "2023-04-11T11:25:47.300Z"
   },
   {
    "duration": 69,
    "start_time": "2023-04-11T11:25:47.339Z"
   },
   {
    "duration": 18,
    "start_time": "2023-04-11T11:25:47.410Z"
   },
   {
    "duration": 15,
    "start_time": "2023-04-11T11:25:47.429Z"
   },
   {
    "duration": 57,
    "start_time": "2023-04-11T11:25:47.446Z"
   },
   {
    "duration": 142,
    "start_time": "2023-04-11T11:25:47.505Z"
   },
   {
    "duration": 84,
    "start_time": "2023-04-11T11:25:53.544Z"
   },
   {
    "duration": 4,
    "start_time": "2023-04-11T11:30:53.376Z"
   },
   {
    "duration": 1318,
    "start_time": "2023-04-11T11:31:30.579Z"
   },
   {
    "duration": 6,
    "start_time": "2023-04-11T11:32:01.709Z"
   },
   {
    "duration": 5,
    "start_time": "2023-04-11T11:32:12.985Z"
   },
   {
    "duration": 4,
    "start_time": "2023-04-11T11:32:20.278Z"
   },
   {
    "duration": 6,
    "start_time": "2023-04-11T11:33:36.305Z"
   },
   {
    "duration": 6,
    "start_time": "2023-04-11T11:33:54.619Z"
   },
   {
    "duration": 711,
    "start_time": "2023-04-11T11:34:37.544Z"
   },
   {
    "duration": 5,
    "start_time": "2023-04-11T11:35:13.164Z"
   },
   {
    "duration": 15,
    "start_time": "2023-04-11T11:47:05.007Z"
   },
   {
    "duration": 27,
    "start_time": "2023-04-11T11:47:40.466Z"
   },
   {
    "duration": 113,
    "start_time": "2023-04-11T11:48:12.292Z"
   },
   {
    "duration": 11,
    "start_time": "2023-04-11T11:48:30.648Z"
   },
   {
    "duration": 7,
    "start_time": "2023-04-11T11:48:44.424Z"
   },
   {
    "duration": 132,
    "start_time": "2023-04-11T11:48:53.644Z"
   },
   {
    "duration": 22,
    "start_time": "2023-04-11T11:49:25.676Z"
   },
   {
    "duration": 242,
    "start_time": "2023-04-11T11:50:32.732Z"
   },
   {
    "duration": 113,
    "start_time": "2023-04-11T11:50:57.405Z"
   },
   {
    "duration": 7,
    "start_time": "2023-04-11T11:51:42.401Z"
   },
   {
    "duration": 8,
    "start_time": "2023-04-11T11:52:04.411Z"
   },
   {
    "duration": 23,
    "start_time": "2023-04-11T11:52:23.025Z"
   },
   {
    "duration": 17,
    "start_time": "2023-04-11T11:52:49.238Z"
   },
   {
    "duration": 1674,
    "start_time": "2023-04-11T12:02:59.839Z"
   },
   {
    "duration": 16,
    "start_time": "2023-04-11T12:03:27.570Z"
   },
   {
    "duration": 18,
    "start_time": "2023-04-11T12:04:05.140Z"
   },
   {
    "duration": 774,
    "start_time": "2023-04-11T12:04:07.981Z"
   },
   {
    "duration": 328,
    "start_time": "2023-04-11T12:07:32.672Z"
   },
   {
    "duration": 3,
    "start_time": "2023-04-11T12:09:37.745Z"
   },
   {
    "duration": 22,
    "start_time": "2023-04-11T12:10:39.925Z"
   },
   {
    "duration": 297,
    "start_time": "2023-04-11T12:12:22.056Z"
   },
   {
    "duration": 301,
    "start_time": "2023-04-11T12:12:26.376Z"
   },
   {
    "duration": 177,
    "start_time": "2023-04-11T12:13:21.842Z"
   },
   {
    "duration": 12,
    "start_time": "2023-04-11T12:13:42.857Z"
   },
   {
    "duration": 97555,
    "start_time": "2023-04-11T12:15:32.569Z"
   },
   {
    "duration": 15,
    "start_time": "2023-04-11T12:17:30.491Z"
   },
   {
    "duration": 55,
    "start_time": "2023-04-11T12:17:48.278Z"
   },
   {
    "duration": 556,
    "start_time": "2023-04-11T12:17:52.664Z"
   },
   {
    "duration": 17,
    "start_time": "2023-04-11T12:19:14.957Z"
   },
   {
    "duration": 5,
    "start_time": "2023-04-11T12:19:35.149Z"
   },
   {
    "duration": 591,
    "start_time": "2023-04-11T12:19:39.334Z"
   },
   {
    "duration": 610,
    "start_time": "2023-04-11T12:20:36.088Z"
   },
   {
    "duration": 93,
    "start_time": "2023-04-11T12:22:35.569Z"
   },
   {
    "duration": 587,
    "start_time": "2023-04-11T12:22:44.958Z"
   },
   {
    "duration": 641,
    "start_time": "2023-04-11T12:24:24.368Z"
   },
   {
    "duration": 621,
    "start_time": "2023-04-11T12:24:47.525Z"
   },
   {
    "duration": 593,
    "start_time": "2023-04-11T12:28:31.129Z"
   },
   {
    "duration": 609,
    "start_time": "2023-04-11T12:29:37.848Z"
   },
   {
    "duration": 566,
    "start_time": "2023-04-11T12:30:31.911Z"
   },
   {
    "duration": 595,
    "start_time": "2023-04-11T12:32:24.205Z"
   },
   {
    "duration": 431,
    "start_time": "2023-04-11T12:33:47.220Z"
   },
   {
    "duration": 15,
    "start_time": "2023-04-11T12:35:27.549Z"
   },
   {
    "duration": 14,
    "start_time": "2023-04-11T12:35:39.168Z"
   },
   {
    "duration": 589,
    "start_time": "2023-04-11T12:35:52.341Z"
   },
   {
    "duration": 464,
    "start_time": "2023-04-11T12:37:45.987Z"
   },
   {
    "duration": 697,
    "start_time": "2023-04-11T12:38:56.589Z"
   },
   {
    "duration": 6,
    "start_time": "2023-04-11T12:46:05.670Z"
   },
   {
    "duration": 506,
    "start_time": "2023-04-11T12:47:54.630Z"
   },
   {
    "duration": 730,
    "start_time": "2023-04-11T12:48:37.830Z"
   },
   {
    "duration": 777,
    "start_time": "2023-04-11T12:49:57.226Z"
   },
   {
    "duration": 71,
    "start_time": "2023-04-11T12:50:24.844Z"
   },
   {
    "duration": 751,
    "start_time": "2023-04-11T12:50:49.411Z"
   },
   {
    "duration": 5284,
    "start_time": "2023-04-11T12:53:19.005Z"
   },
   {
    "duration": 738,
    "start_time": "2023-04-11T12:53:34.376Z"
   },
   {
    "duration": 863,
    "start_time": "2023-04-11T13:19:39.324Z"
   },
   {
    "duration": 814,
    "start_time": "2023-04-11T13:19:48.520Z"
   },
   {
    "duration": 858,
    "start_time": "2023-04-11T13:20:04.518Z"
   },
   {
    "duration": 11,
    "start_time": "2023-04-11T13:25:56.690Z"
   },
   {
    "duration": 9,
    "start_time": "2023-04-11T13:26:13.984Z"
   },
   {
    "duration": 17,
    "start_time": "2023-04-11T13:28:12.577Z"
   },
   {
    "duration": 11,
    "start_time": "2023-04-11T13:30:46.500Z"
   },
   {
    "duration": 11,
    "start_time": "2023-04-11T13:33:23.621Z"
   },
   {
    "duration": 12,
    "start_time": "2023-04-11T13:33:39.532Z"
   },
   {
    "duration": 12,
    "start_time": "2023-04-11T13:40:58.909Z"
   },
   {
    "duration": 11,
    "start_time": "2023-04-11T13:41:06.033Z"
   },
   {
    "duration": 774,
    "start_time": "2023-04-11T13:41:36.213Z"
   },
   {
    "duration": 902,
    "start_time": "2023-04-11T13:42:02.852Z"
   },
   {
    "duration": 760,
    "start_time": "2023-04-11T14:45:40.911Z"
   },
   {
    "duration": 860,
    "start_time": "2023-04-11T14:46:37.946Z"
   },
   {
    "duration": 814,
    "start_time": "2023-04-11T14:46:44.599Z"
   },
   {
    "duration": 853,
    "start_time": "2023-04-11T14:46:55.814Z"
   },
   {
    "duration": 133,
    "start_time": "2023-04-11T14:47:41.900Z"
   },
   {
    "duration": 489,
    "start_time": "2023-04-11T14:48:09.287Z"
   },
   {
    "duration": 851,
    "start_time": "2023-04-11T14:49:08.815Z"
   },
   {
    "duration": 761,
    "start_time": "2023-04-11T14:49:16.818Z"
   },
   {
    "duration": 1059,
    "start_time": "2023-04-11T14:50:13.470Z"
   },
   {
    "duration": 205,
    "start_time": "2023-04-11T14:54:44.194Z"
   },
   {
    "duration": 673,
    "start_time": "2023-04-11T15:00:39.630Z"
   },
   {
    "duration": 57,
    "start_time": "2023-04-11T15:00:42.488Z"
   },
   {
    "duration": 1000,
    "start_time": "2023-04-11T15:00:57.562Z"
   },
   {
    "duration": 8,
    "start_time": "2023-04-11T15:02:49.001Z"
   },
   {
    "duration": 6,
    "start_time": "2023-04-11T15:02:57.825Z"
   },
   {
    "duration": 1694,
    "start_time": "2023-04-12T10:58:11.836Z"
   },
   {
    "duration": 1926,
    "start_time": "2023-04-12T10:58:13.533Z"
   },
   {
    "duration": 63,
    "start_time": "2023-04-12T10:58:15.461Z"
   },
   {
    "duration": 39,
    "start_time": "2023-04-12T10:58:15.526Z"
   },
   {
    "duration": 76,
    "start_time": "2023-04-12T10:58:15.568Z"
   },
   {
    "duration": 17,
    "start_time": "2023-04-12T10:58:15.646Z"
   },
   {
    "duration": 14,
    "start_time": "2023-04-12T10:58:15.665Z"
   },
   {
    "duration": 33,
    "start_time": "2023-04-12T10:58:15.681Z"
   },
   {
    "duration": 148,
    "start_time": "2023-04-12T10:58:15.717Z"
   },
   {
    "duration": 3,
    "start_time": "2023-04-12T10:58:15.867Z"
   },
   {
    "duration": 34,
    "start_time": "2023-04-12T10:58:15.872Z"
   },
   {
    "duration": 25,
    "start_time": "2023-04-12T10:58:15.908Z"
   },
   {
    "duration": 13,
    "start_time": "2023-04-12T10:58:15.935Z"
   },
   {
    "duration": 23,
    "start_time": "2023-04-12T10:58:15.952Z"
   },
   {
    "duration": 21,
    "start_time": "2023-04-12T10:58:15.977Z"
   },
   {
    "duration": 15,
    "start_time": "2023-04-12T10:58:16.000Z"
   },
   {
    "duration": 233,
    "start_time": "2023-04-12T10:58:16.017Z"
   },
   {
    "duration": 665,
    "start_time": "2023-04-12T10:58:16.252Z"
   },
   {
    "duration": 546,
    "start_time": "2023-04-12T10:58:16.919Z"
   },
   {
    "duration": 758,
    "start_time": "2023-04-12T10:58:17.466Z"
   },
   {
    "duration": 1212,
    "start_time": "2023-04-12T10:58:18.225Z"
   },
   {
    "duration": 12,
    "start_time": "2023-04-12T10:58:19.438Z"
   },
   {
    "duration": 995,
    "start_time": "2023-04-12T10:58:19.452Z"
   },
   {
    "duration": 206,
    "start_time": "2023-04-12T10:58:20.449Z"
   },
   {
    "duration": 6,
    "start_time": "2023-04-12T10:58:20.657Z"
   },
   {
    "duration": 73,
    "start_time": "2023-04-12T11:06:21.245Z"
   },
   {
    "duration": 4,
    "start_time": "2023-04-12T11:06:46.427Z"
   },
   {
    "duration": 6,
    "start_time": "2023-04-12T11:09:14.856Z"
   },
   {
    "duration": 450,
    "start_time": "2023-04-12T11:09:58.311Z"
   },
   {
    "duration": 1359,
    "start_time": "2023-04-12T11:12:16.063Z"
   },
   {
    "duration": 207,
    "start_time": "2023-04-12T11:12:30.828Z"
   },
   {
    "duration": 13,
    "start_time": "2023-04-12T11:13:07.817Z"
   },
   {
    "duration": 13,
    "start_time": "2023-04-12T11:13:26.907Z"
   },
   {
    "duration": 43,
    "start_time": "2023-04-12T11:13:51.167Z"
   },
   {
    "duration": 3,
    "start_time": "2023-04-12T11:32:25.968Z"
   },
   {
    "duration": 8,
    "start_time": "2023-04-12T11:33:03.846Z"
   },
   {
    "duration": 16,
    "start_time": "2023-04-12T11:41:02.004Z"
   },
   {
    "duration": 6,
    "start_time": "2023-04-12T11:42:55.457Z"
   },
   {
    "duration": 690,
    "start_time": "2023-04-12T11:42:55.464Z"
   },
   {
    "duration": 67,
    "start_time": "2023-04-12T11:42:56.156Z"
   },
   {
    "duration": 39,
    "start_time": "2023-04-12T11:42:56.225Z"
   },
   {
    "duration": 82,
    "start_time": "2023-04-12T11:42:56.266Z"
   },
   {
    "duration": 17,
    "start_time": "2023-04-12T11:42:56.350Z"
   },
   {
    "duration": 12,
    "start_time": "2023-04-12T11:42:56.369Z"
   },
   {
    "duration": 43,
    "start_time": "2023-04-12T11:42:56.382Z"
   },
   {
    "duration": 141,
    "start_time": "2023-04-12T11:42:56.427Z"
   },
   {
    "duration": 3,
    "start_time": "2023-04-12T11:42:56.571Z"
   },
   {
    "duration": 6,
    "start_time": "2023-04-12T11:42:56.575Z"
   },
   {
    "duration": 4,
    "start_time": "2023-04-12T11:42:56.583Z"
   },
   {
    "duration": 25,
    "start_time": "2023-04-12T11:42:56.589Z"
   },
   {
    "duration": 4,
    "start_time": "2023-04-12T11:42:56.616Z"
   },
   {
    "duration": 34,
    "start_time": "2023-04-12T11:42:56.622Z"
   },
   {
    "duration": 17,
    "start_time": "2023-04-12T11:42:56.658Z"
   },
   {
    "duration": 257,
    "start_time": "2023-04-12T11:42:56.676Z"
   },
   {
    "duration": 679,
    "start_time": "2023-04-12T11:42:56.935Z"
   },
   {
    "duration": 462,
    "start_time": "2023-04-12T11:42:57.616Z"
   },
   {
    "duration": 888,
    "start_time": "2023-04-12T11:42:58.079Z"
   },
   {
    "duration": 1099,
    "start_time": "2023-04-12T11:42:58.969Z"
   },
   {
    "duration": 10,
    "start_time": "2023-04-12T11:43:00.071Z"
   },
   {
    "duration": 1045,
    "start_time": "2023-04-12T11:43:00.082Z"
   },
   {
    "duration": 172,
    "start_time": "2023-04-12T11:43:01.129Z"
   },
   {
    "duration": 9,
    "start_time": "2023-04-12T11:43:01.303Z"
   },
   {
    "duration": 23,
    "start_time": "2023-04-12T11:43:01.315Z"
   },
   {
    "duration": 41,
    "start_time": "2023-04-12T11:43:01.340Z"
   },
   {
    "duration": 57,
    "start_time": "2023-04-12T11:43:01.384Z"
   },
   {
    "duration": 23,
    "start_time": "2023-04-12T11:43:01.443Z"
   },
   {
    "duration": 18,
    "start_time": "2023-04-12T11:43:13.330Z"
   },
   {
    "duration": 53,
    "start_time": "2023-04-12T11:43:23.069Z"
   },
   {
    "duration": 77,
    "start_time": "2023-04-12T11:43:45.159Z"
   },
   {
    "duration": 15,
    "start_time": "2023-04-12T11:44:23.212Z"
   },
   {
    "duration": 15,
    "start_time": "2023-04-12T11:44:31.018Z"
   },
   {
    "duration": 15,
    "start_time": "2023-04-12T11:45:25.256Z"
   },
   {
    "duration": 15,
    "start_time": "2023-04-12T11:46:21.920Z"
   },
   {
    "duration": 16,
    "start_time": "2023-04-12T11:47:09.712Z"
   },
   {
    "duration": 14,
    "start_time": "2023-04-12T11:47:37.373Z"
   },
   {
    "duration": 49,
    "start_time": "2023-04-12T11:48:48.512Z"
   },
   {
    "duration": 91,
    "start_time": "2023-04-12T11:48:53.841Z"
   },
   {
    "duration": 443,
    "start_time": "2023-04-12T11:49:15.710Z"
   },
   {
    "duration": 14,
    "start_time": "2023-04-12T11:49:27.041Z"
   },
   {
    "duration": 8,
    "start_time": "2023-04-12T11:49:36.081Z"
   },
   {
    "duration": 13,
    "start_time": "2023-04-12T11:50:07.157Z"
   },
   {
    "duration": 10,
    "start_time": "2023-04-12T11:50:17.335Z"
   },
   {
    "duration": 28,
    "start_time": "2023-04-12T11:54:37.373Z"
   },
   {
    "duration": 26,
    "start_time": "2023-04-12T11:54:48.713Z"
   },
   {
    "duration": 14,
    "start_time": "2023-04-12T11:55:09.681Z"
   },
   {
    "duration": 11,
    "start_time": "2023-04-12T11:57:31.335Z"
   },
   {
    "duration": 7,
    "start_time": "2023-04-12T11:57:49.519Z"
   },
   {
    "duration": 13,
    "start_time": "2023-04-12T11:57:55.804Z"
   },
   {
    "duration": 11,
    "start_time": "2023-04-12T11:58:07.786Z"
   },
   {
    "duration": 12,
    "start_time": "2023-04-12T11:59:18.930Z"
   },
   {
    "duration": 11,
    "start_time": "2023-04-12T11:59:29.606Z"
   },
   {
    "duration": 6,
    "start_time": "2023-04-12T12:03:58.469Z"
   },
   {
    "duration": 10,
    "start_time": "2023-04-12T12:07:18.628Z"
   },
   {
    "duration": 10,
    "start_time": "2023-04-12T12:07:25.610Z"
   },
   {
    "duration": 1089,
    "start_time": "2023-04-12T12:07:40.125Z"
   },
   {
    "duration": 1172,
    "start_time": "2023-04-12T12:09:22.642Z"
   },
   {
    "duration": 5142,
    "start_time": "2023-04-12T12:13:49.370Z"
   },
   {
    "duration": 6,
    "start_time": "2023-04-12T12:19:05.625Z"
   },
   {
    "duration": 5635,
    "start_time": "2023-04-12T12:19:12.389Z"
   },
   {
    "duration": 3269,
    "start_time": "2023-04-12T12:22:45.345Z"
   },
   {
    "duration": 3137,
    "start_time": "2023-04-12T12:23:31.785Z"
   },
   {
    "duration": 12,
    "start_time": "2023-04-12T12:29:35.531Z"
   },
   {
    "duration": 2917,
    "start_time": "2023-04-13T13:42:52.078Z"
   },
   {
    "duration": 9,
    "start_time": "2023-04-13T13:42:54.997Z"
   },
   {
    "duration": 3127,
    "start_time": "2023-04-13T13:42:55.008Z"
   },
   {
    "duration": 71,
    "start_time": "2023-04-13T13:42:58.137Z"
   },
   {
    "duration": 42,
    "start_time": "2023-04-13T13:42:58.211Z"
   },
   {
    "duration": 94,
    "start_time": "2023-04-13T13:42:58.255Z"
   },
   {
    "duration": 66,
    "start_time": "2023-04-13T13:42:58.351Z"
   },
   {
    "duration": 14,
    "start_time": "2023-04-13T13:42:58.418Z"
   },
   {
    "duration": 23,
    "start_time": "2023-04-13T13:42:58.434Z"
   },
   {
    "duration": 161,
    "start_time": "2023-04-13T13:42:58.459Z"
   },
   {
    "duration": 3,
    "start_time": "2023-04-13T13:42:58.622Z"
   },
   {
    "duration": 32,
    "start_time": "2023-04-13T13:42:58.627Z"
   },
   {
    "duration": 63,
    "start_time": "2023-04-13T13:42:58.661Z"
   },
   {
    "duration": 24,
    "start_time": "2023-04-13T13:42:58.727Z"
   },
   {
    "duration": 13,
    "start_time": "2023-04-13T13:42:58.753Z"
   },
   {
    "duration": 69,
    "start_time": "2023-04-13T13:42:58.768Z"
   },
   {
    "duration": 81,
    "start_time": "2023-04-13T13:42:58.839Z"
   },
   {
    "duration": 253,
    "start_time": "2023-04-13T13:42:58.922Z"
   },
   {
    "duration": 795,
    "start_time": "2023-04-13T13:42:59.177Z"
   },
   {
    "duration": 483,
    "start_time": "2023-04-13T13:42:59.974Z"
   },
   {
    "duration": 832,
    "start_time": "2023-04-13T13:43:00.459Z"
   },
   {
    "duration": 1207,
    "start_time": "2023-04-13T13:43:01.293Z"
   },
   {
    "duration": 16,
    "start_time": "2023-04-13T13:43:02.502Z"
   },
   {
    "duration": 947,
    "start_time": "2023-04-13T13:43:02.519Z"
   },
   {
    "duration": 275,
    "start_time": "2023-04-13T13:43:03.468Z"
   },
   {
    "duration": 4,
    "start_time": "2023-04-13T13:43:03.745Z"
   },
   {
    "duration": 19,
    "start_time": "2023-04-13T13:43:03.750Z"
   },
   {
    "duration": 12,
    "start_time": "2023-04-13T13:43:03.771Z"
   },
   {
    "duration": 13,
    "start_time": "2023-04-13T13:43:03.785Z"
   },
   {
    "duration": 30,
    "start_time": "2023-04-13T13:43:03.800Z"
   },
   {
    "duration": 25,
    "start_time": "2023-04-13T13:43:03.832Z"
   },
   {
    "duration": 52,
    "start_time": "2023-04-13T13:43:03.859Z"
   },
   {
    "duration": 3107,
    "start_time": "2023-04-13T13:43:03.913Z"
   },
   {
    "duration": 117,
    "start_time": "2023-04-13T13:43:56.739Z"
   },
   {
    "duration": 318058,
    "start_time": "2023-04-13T13:51:58.423Z"
   },
   {
    "duration": 0,
    "start_time": "2023-04-13T13:57:16.483Z"
   },
   {
    "duration": 101,
    "start_time": "2023-04-13T13:57:24.555Z"
   },
   {
    "duration": 200,
    "start_time": "2023-04-13T13:59:07.638Z"
   },
   {
    "duration": 26096,
    "start_time": "2023-04-13T14:04:28.213Z"
   },
   {
    "duration": 0,
    "start_time": "2023-04-13T14:04:54.312Z"
   },
   {
    "duration": 30,
    "start_time": "2023-04-13T14:05:25.937Z"
   },
   {
    "duration": 113,
    "start_time": "2023-04-13T14:05:30.211Z"
   },
   {
    "duration": 10,
    "start_time": "2023-04-13T14:06:14.095Z"
   },
   {
    "duration": 4532,
    "start_time": "2023-04-13T14:06:56.775Z"
   },
   {
    "duration": 543,
    "start_time": "2023-04-13T14:07:36.954Z"
   },
   {
    "duration": 15,
    "start_time": "2023-04-13T14:08:07.606Z"
   },
   {
    "duration": 849,
    "start_time": "2023-04-13T14:08:20.833Z"
   },
   {
    "duration": 732,
    "start_time": "2023-04-13T14:08:33.423Z"
   },
   {
    "duration": 11,
    "start_time": "2023-04-13T14:09:11.860Z"
   },
   {
    "duration": 829,
    "start_time": "2023-04-13T14:09:14.295Z"
   },
   {
    "duration": 12,
    "start_time": "2023-04-13T14:09:55.720Z"
   },
   {
    "duration": 651,
    "start_time": "2023-04-13T14:09:58.272Z"
   },
   {
    "duration": 1293,
    "start_time": "2023-04-13T14:10:41.271Z"
   },
   {
    "duration": 757,
    "start_time": "2023-04-13T14:10:47.986Z"
   },
   {
    "duration": 731,
    "start_time": "2023-04-13T14:11:15.468Z"
   },
   {
    "duration": 598,
    "start_time": "2023-04-13T14:11:21.649Z"
   },
   {
    "duration": 662,
    "start_time": "2023-04-13T14:11:26.694Z"
   },
   {
    "duration": 4,
    "start_time": "2023-04-13T14:12:48.540Z"
   },
   {
    "duration": 193,
    "start_time": "2023-04-13T14:13:51.152Z"
   },
   {
    "duration": 6,
    "start_time": "2023-04-13T14:15:39.720Z"
   },
   {
    "duration": 5,
    "start_time": "2023-04-13T14:15:43.476Z"
   },
   {
    "duration": 27,
    "start_time": "2023-04-13T14:16:14.485Z"
   },
   {
    "duration": 360,
    "start_time": "2023-04-13T14:16:40.257Z"
   },
   {
    "duration": 21,
    "start_time": "2023-04-13T14:18:29.758Z"
   },
   {
    "duration": 516,
    "start_time": "2023-04-13T14:18:32.926Z"
   },
   {
    "duration": 834,
    "start_time": "2023-04-13T14:19:17.187Z"
   },
   {
    "duration": 11,
    "start_time": "2023-04-13T14:19:36.368Z"
   },
   {
    "duration": 591,
    "start_time": "2023-04-13T14:19:39.382Z"
   },
   {
    "duration": 158,
    "start_time": "2023-04-13T14:19:44.842Z"
   },
   {
    "duration": 904,
    "start_time": "2023-04-13T14:22:52.830Z"
   },
   {
    "duration": 26,
    "start_time": "2023-04-13T14:23:57.058Z"
   },
   {
    "duration": 203,
    "start_time": "2023-04-13T14:24:37.015Z"
   },
   {
    "duration": 12,
    "start_time": "2023-04-13T14:27:19.939Z"
   },
   {
    "duration": 768,
    "start_time": "2023-04-13T14:27:25.397Z"
   },
   {
    "duration": 490,
    "start_time": "2023-04-13T14:27:40.722Z"
   },
   {
    "duration": 719,
    "start_time": "2023-04-13T14:27:47.452Z"
   },
   {
    "duration": 14,
    "start_time": "2023-04-13T14:28:03.238Z"
   },
   {
    "duration": 860,
    "start_time": "2023-04-13T14:28:06.469Z"
   },
   {
    "duration": 456,
    "start_time": "2023-04-13T14:28:13.619Z"
   },
   {
    "duration": 645,
    "start_time": "2023-04-13T14:28:19.077Z"
   },
   {
    "duration": 7,
    "start_time": "2023-04-13T14:30:49.252Z"
   },
   {
    "duration": 18,
    "start_time": "2023-04-13T14:31:01.957Z"
   },
   {
    "duration": 6,
    "start_time": "2023-04-13T14:31:11.725Z"
   },
   {
    "duration": 155,
    "start_time": "2023-04-13T14:31:11.733Z"
   },
   {
    "duration": 761,
    "start_time": "2023-04-13T14:31:11.890Z"
   },
   {
    "duration": 69,
    "start_time": "2023-04-13T14:31:12.654Z"
   },
   {
    "duration": 41,
    "start_time": "2023-04-13T14:31:12.725Z"
   },
   {
    "duration": 93,
    "start_time": "2023-04-13T14:31:12.768Z"
   },
   {
    "duration": 18,
    "start_time": "2023-04-13T14:31:12.862Z"
   },
   {
    "duration": 35,
    "start_time": "2023-04-13T14:31:12.882Z"
   },
   {
    "duration": 21,
    "start_time": "2023-04-13T14:31:12.920Z"
   },
   {
    "duration": 160,
    "start_time": "2023-04-13T14:31:12.943Z"
   },
   {
    "duration": 3,
    "start_time": "2023-04-13T14:31:13.104Z"
   },
   {
    "duration": 25,
    "start_time": "2023-04-13T14:31:13.119Z"
   },
   {
    "duration": 28,
    "start_time": "2023-04-13T14:31:13.146Z"
   },
   {
    "duration": 38,
    "start_time": "2023-04-13T14:31:13.176Z"
   },
   {
    "duration": 9,
    "start_time": "2023-04-13T14:31:13.215Z"
   },
   {
    "duration": 40,
    "start_time": "2023-04-13T14:31:13.226Z"
   },
   {
    "duration": 19,
    "start_time": "2023-04-13T14:31:13.268Z"
   },
   {
    "duration": 263,
    "start_time": "2023-04-13T14:31:13.289Z"
   },
   {
    "duration": 691,
    "start_time": "2023-04-13T14:31:13.553Z"
   },
   {
    "duration": 543,
    "start_time": "2023-04-13T14:31:14.247Z"
   },
   {
    "duration": 839,
    "start_time": "2023-04-13T14:31:14.792Z"
   },
   {
    "duration": 15,
    "start_time": "2023-04-13T14:31:15.633Z"
   },
   {
    "duration": 1022,
    "start_time": "2023-04-13T14:31:15.650Z"
   },
   {
    "duration": 10,
    "start_time": "2023-04-13T14:31:16.676Z"
   },
   {
    "duration": 1076,
    "start_time": "2023-04-13T14:31:16.688Z"
   },
   {
    "duration": 174,
    "start_time": "2023-04-13T14:31:17.766Z"
   },
   {
    "duration": 26,
    "start_time": "2023-04-13T14:31:17.942Z"
   },
   {
    "duration": 18,
    "start_time": "2023-04-13T14:31:17.970Z"
   },
   {
    "duration": 555,
    "start_time": "2023-04-13T14:31:17.989Z"
   },
   {
    "duration": 4,
    "start_time": "2023-04-13T14:31:18.546Z"
   },
   {
    "duration": 357,
    "start_time": "2023-04-13T14:31:18.553Z"
   },
   {
    "duration": 9,
    "start_time": "2023-04-13T14:31:18.912Z"
   },
   {
    "duration": 0,
    "start_time": "2023-04-13T14:31:18.923Z"
   },
   {
    "duration": 0,
    "start_time": "2023-04-13T14:31:18.924Z"
   },
   {
    "duration": 0,
    "start_time": "2023-04-13T14:31:18.926Z"
   },
   {
    "duration": 0,
    "start_time": "2023-04-13T14:31:18.927Z"
   },
   {
    "duration": 0,
    "start_time": "2023-04-13T14:31:18.928Z"
   },
   {
    "duration": 0,
    "start_time": "2023-04-13T14:31:18.930Z"
   },
   {
    "duration": 0,
    "start_time": "2023-04-13T14:31:18.932Z"
   },
   {
    "duration": 0,
    "start_time": "2023-04-13T14:31:18.934Z"
   },
   {
    "duration": 3579,
    "start_time": "2023-04-13T14:31:23.143Z"
   },
   {
    "duration": 10,
    "start_time": "2023-04-13T14:37:11.551Z"
   },
   {
    "duration": 13,
    "start_time": "2023-04-13T14:37:52.276Z"
   },
   {
    "duration": 461,
    "start_time": "2023-04-13T14:41:38.311Z"
   },
   {
    "duration": 6,
    "start_time": "2023-04-13T14:41:47.964Z"
   },
   {
    "duration": 213,
    "start_time": "2023-04-13T14:42:28.218Z"
   },
   {
    "duration": 9,
    "start_time": "2023-04-13T14:42:34.189Z"
   },
   {
    "duration": 227,
    "start_time": "2023-04-13T14:43:01.480Z"
   },
   {
    "duration": 13,
    "start_time": "2023-04-13T14:43:11.622Z"
   },
   {
    "duration": 5,
    "start_time": "2023-04-13T14:43:20.067Z"
   },
   {
    "duration": 11,
    "start_time": "2023-04-13T14:43:37.272Z"
   },
   {
    "duration": 4130,
    "start_time": "2023-04-13T14:46:25.395Z"
   },
   {
    "duration": 15,
    "start_time": "2023-04-13T14:52:09.741Z"
   },
   {
    "duration": 11,
    "start_time": "2023-04-13T14:53:24.803Z"
   },
   {
    "duration": 879,
    "start_time": "2023-04-13T15:00:49.266Z"
   },
   {
    "duration": 483,
    "start_time": "2023-04-13T15:00:54.905Z"
   },
   {
    "duration": 640,
    "start_time": "2023-04-13T15:01:00.484Z"
   },
   {
    "duration": 1563,
    "start_time": "2023-04-15T05:05:25.016Z"
   },
   {
    "duration": 9,
    "start_time": "2023-04-15T05:05:26.581Z"
   },
   {
    "duration": 3296,
    "start_time": "2023-04-15T05:05:26.591Z"
   },
   {
    "duration": 77,
    "start_time": "2023-04-15T05:05:29.889Z"
   },
   {
    "duration": 33,
    "start_time": "2023-04-15T05:05:29.968Z"
   },
   {
    "duration": 81,
    "start_time": "2023-04-15T05:05:30.003Z"
   },
   {
    "duration": 17,
    "start_time": "2023-04-15T05:05:30.085Z"
   },
   {
    "duration": 12,
    "start_time": "2023-04-15T05:05:30.104Z"
   },
   {
    "duration": 37,
    "start_time": "2023-04-15T05:05:30.117Z"
   },
   {
    "duration": 160,
    "start_time": "2023-04-15T05:05:30.156Z"
   },
   {
    "duration": 3,
    "start_time": "2023-04-15T05:05:30.318Z"
   },
   {
    "duration": 45,
    "start_time": "2023-04-15T05:05:30.323Z"
   },
   {
    "duration": 20,
    "start_time": "2023-04-15T05:05:30.370Z"
   },
   {
    "duration": 15,
    "start_time": "2023-04-15T05:05:30.393Z"
   },
   {
    "duration": 30,
    "start_time": "2023-04-15T05:05:30.409Z"
   },
   {
    "duration": 58,
    "start_time": "2023-04-15T05:05:30.441Z"
   },
   {
    "duration": 17,
    "start_time": "2023-04-15T05:05:30.501Z"
   },
   {
    "duration": 263,
    "start_time": "2023-04-15T05:05:30.519Z"
   },
   {
    "duration": 715,
    "start_time": "2023-04-15T05:05:30.784Z"
   },
   {
    "duration": 444,
    "start_time": "2023-04-15T05:05:31.501Z"
   },
   {
    "duration": 691,
    "start_time": "2023-04-15T05:05:31.947Z"
   },
   {
    "duration": 35,
    "start_time": "2023-04-15T05:05:32.639Z"
   },
   {
    "duration": 989,
    "start_time": "2023-04-15T05:05:32.676Z"
   },
   {
    "duration": 9,
    "start_time": "2023-04-15T05:05:33.667Z"
   },
   {
    "duration": 897,
    "start_time": "2023-04-15T05:05:33.678Z"
   },
   {
    "duration": 187,
    "start_time": "2023-04-15T05:05:34.576Z"
   },
   {
    "duration": 21,
    "start_time": "2023-04-15T05:05:34.765Z"
   },
   {
    "duration": 24,
    "start_time": "2023-04-15T05:05:34.789Z"
   },
   {
    "duration": 498,
    "start_time": "2023-04-15T05:05:34.814Z"
   },
   {
    "duration": 3,
    "start_time": "2023-04-15T05:05:35.314Z"
   },
   {
    "duration": 385,
    "start_time": "2023-04-15T05:05:35.319Z"
   },
   {
    "duration": 132,
    "start_time": "2023-04-15T05:05:35.706Z"
   },
   {
    "duration": 0,
    "start_time": "2023-04-15T05:05:35.839Z"
   },
   {
    "duration": 0,
    "start_time": "2023-04-15T05:05:35.841Z"
   },
   {
    "duration": 0,
    "start_time": "2023-04-15T05:05:35.842Z"
   },
   {
    "duration": 0,
    "start_time": "2023-04-15T05:05:35.843Z"
   },
   {
    "duration": 0,
    "start_time": "2023-04-15T05:05:35.856Z"
   },
   {
    "duration": 0,
    "start_time": "2023-04-15T05:05:35.856Z"
   },
   {
    "duration": 0,
    "start_time": "2023-04-15T05:05:35.857Z"
   },
   {
    "duration": 0,
    "start_time": "2023-04-15T05:05:35.858Z"
   },
   {
    "duration": 6,
    "start_time": "2023-04-15T05:06:00.074Z"
   },
   {
    "duration": 4,
    "start_time": "2023-04-15T05:06:04.779Z"
   },
   {
    "duration": 3,
    "start_time": "2023-04-15T05:06:06.774Z"
   },
   {
    "duration": 8,
    "start_time": "2023-04-15T05:06:11.361Z"
   },
   {
    "duration": 11,
    "start_time": "2023-04-15T05:06:14.276Z"
   },
   {
    "duration": 26,
    "start_time": "2023-04-15T05:06:18.040Z"
   },
   {
    "duration": 8,
    "start_time": "2023-04-15T05:06:20.101Z"
   },
   {
    "duration": 19,
    "start_time": "2023-04-15T05:06:28.865Z"
   },
   {
    "duration": 10,
    "start_time": "2023-04-15T05:06:31.614Z"
   },
   {
    "duration": 7,
    "start_time": "2023-04-15T05:07:21.733Z"
   },
   {
    "duration": 22,
    "start_time": "2023-04-15T05:07:29.239Z"
   },
   {
    "duration": 46,
    "start_time": "2023-04-15T05:07:45.027Z"
   },
   {
    "duration": 25,
    "start_time": "2023-04-15T05:08:54.481Z"
   },
   {
    "duration": 5,
    "start_time": "2023-04-15T05:09:10.435Z"
   },
   {
    "duration": 18,
    "start_time": "2023-04-15T05:09:35.829Z"
   },
   {
    "duration": 45,
    "start_time": "2023-04-15T05:09:41.331Z"
   },
   {
    "duration": 4,
    "start_time": "2023-04-15T05:12:32.877Z"
   },
   {
    "duration": 3,
    "start_time": "2023-04-15T05:13:03.017Z"
   },
   {
    "duration": 16,
    "start_time": "2023-04-15T05:18:35.735Z"
   },
   {
    "duration": 8,
    "start_time": "2023-04-15T05:18:50.977Z"
   },
   {
    "duration": 8,
    "start_time": "2023-04-15T05:18:50.987Z"
   },
   {
    "duration": 660,
    "start_time": "2023-04-15T05:18:50.997Z"
   },
   {
    "duration": 48,
    "start_time": "2023-04-15T05:18:51.659Z"
   },
   {
    "duration": 41,
    "start_time": "2023-04-15T05:18:51.709Z"
   },
   {
    "duration": 58,
    "start_time": "2023-04-15T05:18:51.751Z"
   },
   {
    "duration": 17,
    "start_time": "2023-04-15T05:18:51.810Z"
   },
   {
    "duration": 21,
    "start_time": "2023-04-15T05:18:51.828Z"
   },
   {
    "duration": 16,
    "start_time": "2023-04-15T05:18:51.850Z"
   },
   {
    "duration": 150,
    "start_time": "2023-04-15T05:18:51.868Z"
   },
   {
    "duration": 4,
    "start_time": "2023-04-15T05:18:52.020Z"
   },
   {
    "duration": 14,
    "start_time": "2023-04-15T05:18:52.026Z"
   },
   {
    "duration": 19,
    "start_time": "2023-04-15T05:18:52.048Z"
   },
   {
    "duration": 10,
    "start_time": "2023-04-15T05:18:52.068Z"
   },
   {
    "duration": 5,
    "start_time": "2023-04-15T05:18:52.079Z"
   },
   {
    "duration": 26,
    "start_time": "2023-04-15T05:18:52.086Z"
   },
   {
    "duration": 16,
    "start_time": "2023-04-15T05:18:52.114Z"
   },
   {
    "duration": 241,
    "start_time": "2023-04-15T05:18:52.131Z"
   },
   {
    "duration": 647,
    "start_time": "2023-04-15T05:18:52.374Z"
   },
   {
    "duration": 420,
    "start_time": "2023-04-15T05:18:53.022Z"
   },
   {
    "duration": 656,
    "start_time": "2023-04-15T05:18:53.443Z"
   },
   {
    "duration": 13,
    "start_time": "2023-04-15T05:18:54.100Z"
   },
   {
    "duration": 985,
    "start_time": "2023-04-15T05:18:54.114Z"
   },
   {
    "duration": 9,
    "start_time": "2023-04-15T05:18:55.100Z"
   },
   {
    "duration": 839,
    "start_time": "2023-04-15T05:18:55.111Z"
   },
   {
    "duration": 158,
    "start_time": "2023-04-15T05:18:55.952Z"
   },
   {
    "duration": 20,
    "start_time": "2023-04-15T05:18:56.112Z"
   },
   {
    "duration": 27,
    "start_time": "2023-04-15T05:18:56.133Z"
   },
   {
    "duration": 476,
    "start_time": "2023-04-15T05:18:56.162Z"
   },
   {
    "duration": 3,
    "start_time": "2023-04-15T05:18:56.639Z"
   },
   {
    "duration": 345,
    "start_time": "2023-04-15T05:18:56.649Z"
   },
   {
    "duration": 5,
    "start_time": "2023-04-15T05:18:56.996Z"
   },
   {
    "duration": 5,
    "start_time": "2023-04-15T05:18:57.003Z"
   },
   {
    "duration": 4,
    "start_time": "2023-04-15T05:18:57.009Z"
   },
   {
    "duration": 13,
    "start_time": "2023-04-15T05:18:57.014Z"
   },
   {
    "duration": 21,
    "start_time": "2023-04-15T05:18:57.028Z"
   },
   {
    "duration": 14,
    "start_time": "2023-04-15T05:18:57.053Z"
   },
   {
    "duration": 9,
    "start_time": "2023-04-15T05:19:00.311Z"
   },
   {
    "duration": 10,
    "start_time": "2023-04-15T05:19:03.184Z"
   },
   {
    "duration": 4,
    "start_time": "2023-04-15T05:19:05.668Z"
   },
   {
    "duration": 25,
    "start_time": "2023-04-15T05:19:30.093Z"
   },
   {
    "duration": 2044,
    "start_time": "2023-04-15T05:19:33.509Z"
   },
   {
    "duration": 4024,
    "start_time": "2023-04-15T05:21:22.949Z"
   },
   {
    "duration": 2616,
    "start_time": "2023-04-15T05:21:29.548Z"
   },
   {
    "duration": 2227,
    "start_time": "2023-04-15T05:21:34.842Z"
   },
   {
    "duration": 3,
    "start_time": "2023-04-15T05:29:39.925Z"
   },
   {
    "duration": 552,
    "start_time": "2023-04-15T05:33:15.815Z"
   },
   {
    "duration": 645,
    "start_time": "2023-04-15T05:33:33.198Z"
   },
   {
    "duration": 16,
    "start_time": "2023-04-15T05:37:17.844Z"
   },
   {
    "duration": 13,
    "start_time": "2023-04-15T05:37:33.596Z"
   },
   {
    "duration": 6,
    "start_time": "2023-04-15T05:38:01.483Z"
   },
   {
    "duration": 47,
    "start_time": "2023-04-15T05:38:01.491Z"
   },
   {
    "duration": 708,
    "start_time": "2023-04-15T05:38:01.540Z"
   },
   {
    "duration": 52,
    "start_time": "2023-04-15T05:38:02.250Z"
   },
   {
    "duration": 47,
    "start_time": "2023-04-15T05:38:02.303Z"
   },
   {
    "duration": 64,
    "start_time": "2023-04-15T05:38:02.351Z"
   },
   {
    "duration": 31,
    "start_time": "2023-04-15T05:38:02.417Z"
   },
   {
    "duration": 40,
    "start_time": "2023-04-15T05:38:02.450Z"
   },
   {
    "duration": 26,
    "start_time": "2023-04-15T05:38:02.492Z"
   },
   {
    "duration": 167,
    "start_time": "2023-04-15T05:38:02.519Z"
   },
   {
    "duration": 2,
    "start_time": "2023-04-15T05:38:02.688Z"
   },
   {
    "duration": 15,
    "start_time": "2023-04-15T05:38:02.691Z"
   },
   {
    "duration": 7,
    "start_time": "2023-04-15T05:38:02.707Z"
   },
   {
    "duration": 16,
    "start_time": "2023-04-15T05:38:02.716Z"
   },
   {
    "duration": 9,
    "start_time": "2023-04-15T05:38:02.733Z"
   },
   {
    "duration": 23,
    "start_time": "2023-04-15T05:38:02.743Z"
   },
   {
    "duration": 16,
    "start_time": "2023-04-15T05:38:02.767Z"
   },
   {
    "duration": 242,
    "start_time": "2023-04-15T05:38:02.785Z"
   },
   {
    "duration": 920,
    "start_time": "2023-04-15T05:38:06.487Z"
   },
   {
    "duration": 588,
    "start_time": "2023-04-15T05:46:39.716Z"
   },
   {
    "duration": 722,
    "start_time": "2023-04-15T05:47:14.068Z"
   },
   {
    "duration": 698,
    "start_time": "2023-04-15T05:51:00.042Z"
   },
   {
    "duration": 176,
    "start_time": "2023-04-15T05:52:21.103Z"
   },
   {
    "duration": 151,
    "start_time": "2023-04-15T05:52:50.002Z"
   },
   {
    "duration": 118,
    "start_time": "2023-04-15T05:53:13.310Z"
   },
   {
    "duration": 6,
    "start_time": "2023-04-15T05:58:14.041Z"
   },
   {
    "duration": 2099,
    "start_time": "2023-04-15T05:58:23.751Z"
   },
   {
    "duration": 2069,
    "start_time": "2023-04-15T06:01:48.584Z"
   },
   {
    "duration": 43,
    "start_time": "2023-04-15T06:03:45.320Z"
   },
   {
    "duration": 88,
    "start_time": "2023-04-15T06:04:44.250Z"
   },
   {
    "duration": 11,
    "start_time": "2023-04-15T06:04:50.413Z"
   },
   {
    "duration": 2421,
    "start_time": "2023-04-15T06:06:24.539Z"
   },
   {
    "duration": 5,
    "start_time": "2023-04-15T06:06:33.775Z"
   },
   {
    "duration": 4,
    "start_time": "2023-04-15T06:06:41.520Z"
   },
   {
    "duration": 2236,
    "start_time": "2023-04-15T06:07:04.213Z"
   },
   {
    "duration": 1962,
    "start_time": "2023-04-15T06:07:27.389Z"
   },
   {
    "duration": 58,
    "start_time": "2023-04-15T06:07:42.912Z"
   },
   {
    "duration": 11,
    "start_time": "2023-04-15T06:07:49.721Z"
   },
   {
    "duration": 1873,
    "start_time": "2023-04-15T06:08:04.577Z"
   },
   {
    "duration": 7,
    "start_time": "2023-04-15T06:09:02.724Z"
   },
   {
    "duration": 2078,
    "start_time": "2023-04-15T06:11:45.374Z"
   },
   {
    "duration": 12,
    "start_time": "2023-04-15T06:12:18.677Z"
   },
   {
    "duration": 2504,
    "start_time": "2023-04-15T06:13:03.645Z"
   },
   {
    "duration": 297,
    "start_time": "2023-04-15T06:13:31.752Z"
   },
   {
    "duration": 4,
    "start_time": "2023-04-15T06:13:39.762Z"
   },
   {
    "duration": 217,
    "start_time": "2023-04-15T06:16:56.533Z"
   },
   {
    "duration": 408,
    "start_time": "2023-04-15T06:17:48.355Z"
   },
   {
    "duration": 2055,
    "start_time": "2023-04-15T06:18:39.809Z"
   },
   {
    "duration": 147,
    "start_time": "2023-04-15T06:20:12.702Z"
   },
   {
    "duration": 234,
    "start_time": "2023-04-15T06:21:32.425Z"
   },
   {
    "duration": 451,
    "start_time": "2023-04-15T06:22:04.301Z"
   },
   {
    "duration": 8,
    "start_time": "2023-04-15T06:26:16.878Z"
   },
   {
    "duration": 103,
    "start_time": "2023-04-15T06:28:54.648Z"
   },
   {
    "duration": 2140,
    "start_time": "2023-04-15T06:31:33.711Z"
   },
   {
    "duration": 568266,
    "start_time": "2023-04-15T06:49:11.705Z"
   },
   {
    "duration": 4,
    "start_time": "2023-04-15T06:59:12.514Z"
   },
   {
    "duration": 4,
    "start_time": "2023-04-15T06:59:43.481Z"
   },
   {
    "duration": 18,
    "start_time": "2023-04-15T07:01:28.582Z"
   },
   {
    "duration": 1885636,
    "start_time": "2023-04-15T07:03:30.095Z"
   },
   {
    "duration": 3,
    "start_time": "2023-04-15T07:36:18.533Z"
   },
   {
    "duration": 46,
    "start_time": "2023-04-15T07:37:07.014Z"
   },
   {
    "duration": 32,
    "start_time": "2023-04-15T07:37:52.202Z"
   },
   {
    "duration": 40,
    "start_time": "2023-04-15T07:38:01.597Z"
   },
   {
    "duration": 5387,
    "start_time": "2023-04-15T07:43:48.136Z"
   },
   {
    "duration": 5328,
    "start_time": "2023-04-15T07:44:32.204Z"
   },
   {
    "duration": 6813,
    "start_time": "2023-04-15T07:45:05.110Z"
   },
   {
    "duration": 6896,
    "start_time": "2023-04-15T07:46:00.979Z"
   },
   {
    "duration": 6715,
    "start_time": "2023-04-15T07:46:23.081Z"
   },
   {
    "duration": 6735,
    "start_time": "2023-04-15T07:48:54.369Z"
   },
   {
    "duration": 6706,
    "start_time": "2023-04-15T07:50:01.245Z"
   },
   {
    "duration": 12,
    "start_time": "2023-04-15T07:50:45.112Z"
   },
   {
    "duration": 14,
    "start_time": "2023-04-15T07:51:17.300Z"
   },
   {
    "duration": 5,
    "start_time": "2023-04-15T07:51:44.144Z"
   },
   {
    "duration": 5,
    "start_time": "2023-04-15T07:52:13.196Z"
   },
   {
    "duration": 7,
    "start_time": "2023-04-15T07:53:07.712Z"
   },
   {
    "duration": 24,
    "start_time": "2023-04-15T07:53:07.721Z"
   },
   {
    "duration": 664,
    "start_time": "2023-04-15T07:53:07.747Z"
   },
   {
    "duration": 52,
    "start_time": "2023-04-15T07:53:08.414Z"
   },
   {
    "duration": 33,
    "start_time": "2023-04-15T07:53:08.467Z"
   },
   {
    "duration": 69,
    "start_time": "2023-04-15T07:53:08.501Z"
   },
   {
    "duration": 16,
    "start_time": "2023-04-15T07:53:08.571Z"
   },
   {
    "duration": 13,
    "start_time": "2023-04-15T07:53:08.589Z"
   },
   {
    "duration": 46,
    "start_time": "2023-04-15T07:53:08.604Z"
   },
   {
    "duration": 144,
    "start_time": "2023-04-15T07:53:08.652Z"
   },
   {
    "duration": 3,
    "start_time": "2023-04-15T07:53:08.797Z"
   },
   {
    "duration": 9,
    "start_time": "2023-04-15T07:53:08.802Z"
   },
   {
    "duration": 5,
    "start_time": "2023-04-15T07:53:08.813Z"
   },
   {
    "duration": 5,
    "start_time": "2023-04-15T07:53:08.820Z"
   },
   {
    "duration": 23,
    "start_time": "2023-04-15T07:53:08.827Z"
   },
   {
    "duration": 26,
    "start_time": "2023-04-15T07:53:08.852Z"
   },
   {
    "duration": 17,
    "start_time": "2023-04-15T07:53:08.880Z"
   },
   {
    "duration": 272,
    "start_time": "2023-04-15T07:53:08.899Z"
   },
   {
    "duration": 969,
    "start_time": "2023-04-15T07:53:09.172Z"
   },
   {
    "duration": 494,
    "start_time": "2023-04-15T07:53:10.142Z"
   },
   {
    "duration": 618,
    "start_time": "2023-04-15T07:53:10.637Z"
   },
   {
    "duration": 14,
    "start_time": "2023-04-15T07:53:11.256Z"
   },
   {
    "duration": 983,
    "start_time": "2023-04-15T07:53:11.272Z"
   },
   {
    "duration": 552,
    "start_time": "2023-04-15T07:53:12.256Z"
   },
   {
    "duration": 9,
    "start_time": "2023-04-15T07:53:12.809Z"
   },
   {
    "duration": 888,
    "start_time": "2023-04-15T07:53:12.820Z"
   },
   {
    "duration": 172,
    "start_time": "2023-04-15T07:53:13.710Z"
   },
   {
    "duration": 19,
    "start_time": "2023-04-15T07:53:13.885Z"
   },
   {
    "duration": 15,
    "start_time": "2023-04-15T07:53:13.905Z"
   },
   {
    "duration": 496,
    "start_time": "2023-04-15T07:53:13.922Z"
   },
   {
    "duration": 3,
    "start_time": "2023-04-15T07:53:14.420Z"
   },
   {
    "duration": 409,
    "start_time": "2023-04-15T07:53:14.425Z"
   },
   {
    "duration": 13,
    "start_time": "2023-04-15T07:53:14.836Z"
   },
   {
    "duration": 6,
    "start_time": "2023-04-15T07:53:14.850Z"
   },
   {
    "duration": 4,
    "start_time": "2023-04-15T07:53:14.858Z"
   },
   {
    "duration": 10,
    "start_time": "2023-04-15T07:53:14.863Z"
   },
   {
    "duration": 10,
    "start_time": "2023-04-15T07:53:14.874Z"
   },
   {
    "duration": 15,
    "start_time": "2023-04-15T07:53:14.885Z"
   },
   {
    "duration": 8,
    "start_time": "2023-04-15T07:53:14.902Z"
   },
   {
    "duration": 47,
    "start_time": "2023-04-15T07:53:14.912Z"
   },
   {
    "duration": 4,
    "start_time": "2023-04-15T07:53:14.961Z"
   },
   {
    "duration": 29,
    "start_time": "2023-04-15T07:53:14.967Z"
   },
   {
    "duration": 4,
    "start_time": "2023-04-15T07:53:24.106Z"
   },
   {
    "duration": 8,
    "start_time": "2023-04-15T07:55:11.901Z"
   },
   {
    "duration": 104,
    "start_time": "2023-04-15T07:55:11.911Z"
   },
   {
    "duration": 674,
    "start_time": "2023-04-15T07:55:12.017Z"
   },
   {
    "duration": 56,
    "start_time": "2023-04-15T07:55:12.693Z"
   },
   {
    "duration": 33,
    "start_time": "2023-04-15T07:55:12.751Z"
   },
   {
    "duration": 70,
    "start_time": "2023-04-15T07:55:12.786Z"
   },
   {
    "duration": 18,
    "start_time": "2023-04-15T07:55:12.858Z"
   },
   {
    "duration": 14,
    "start_time": "2023-04-15T07:55:12.878Z"
   },
   {
    "duration": 19,
    "start_time": "2023-04-15T07:55:12.894Z"
   },
   {
    "duration": 172,
    "start_time": "2023-04-15T07:55:12.916Z"
   },
   {
    "duration": 3,
    "start_time": "2023-04-15T07:55:13.090Z"
   },
   {
    "duration": 32,
    "start_time": "2023-04-15T07:55:13.094Z"
   },
   {
    "duration": 25,
    "start_time": "2023-04-15T07:55:13.128Z"
   },
   {
    "duration": 21,
    "start_time": "2023-04-15T07:55:13.154Z"
   },
   {
    "duration": 7,
    "start_time": "2023-04-15T07:55:13.177Z"
   },
   {
    "duration": 33,
    "start_time": "2023-04-15T07:55:13.185Z"
   },
   {
    "duration": 17,
    "start_time": "2023-04-15T07:55:13.219Z"
   },
   {
    "duration": 235,
    "start_time": "2023-04-15T07:55:13.237Z"
   },
   {
    "duration": 858,
    "start_time": "2023-04-15T07:55:13.473Z"
   },
   {
    "duration": 517,
    "start_time": "2023-04-15T07:55:14.332Z"
   },
   {
    "duration": 789,
    "start_time": "2023-04-15T07:55:14.851Z"
   },
   {
    "duration": 13,
    "start_time": "2023-04-15T07:55:15.642Z"
   },
   {
    "duration": 847,
    "start_time": "2023-04-15T07:55:15.657Z"
   },
   {
    "duration": 671,
    "start_time": "2023-04-15T07:55:16.506Z"
   },
   {
    "duration": 8,
    "start_time": "2023-04-15T07:55:17.178Z"
   },
   {
    "duration": 757,
    "start_time": "2023-04-15T07:55:17.188Z"
   },
   {
    "duration": 170,
    "start_time": "2023-04-15T07:55:17.949Z"
   },
   {
    "duration": 31,
    "start_time": "2023-04-15T07:55:18.123Z"
   },
   {
    "duration": 18,
    "start_time": "2023-04-15T07:55:18.155Z"
   },
   {
    "duration": 562,
    "start_time": "2023-04-15T07:55:18.175Z"
   },
   {
    "duration": 12,
    "start_time": "2023-04-15T07:55:18.738Z"
   },
   {
    "duration": 366,
    "start_time": "2023-04-15T07:55:18.751Z"
   },
   {
    "duration": 6,
    "start_time": "2023-04-15T07:55:19.119Z"
   },
   {
    "duration": 9,
    "start_time": "2023-04-15T07:55:19.127Z"
   },
   {
    "duration": 14,
    "start_time": "2023-04-15T07:55:19.137Z"
   },
   {
    "duration": 11,
    "start_time": "2023-04-15T07:55:19.152Z"
   },
   {
    "duration": 9,
    "start_time": "2023-04-15T07:55:19.164Z"
   },
   {
    "duration": 21,
    "start_time": "2023-04-15T07:55:19.175Z"
   },
   {
    "duration": 12,
    "start_time": "2023-04-15T07:55:19.197Z"
   },
   {
    "duration": 12,
    "start_time": "2023-04-15T07:55:19.211Z"
   },
   {
    "duration": 32,
    "start_time": "2023-04-15T07:55:29.032Z"
   },
   {
    "duration": 34,
    "start_time": "2023-04-15T07:55:38.217Z"
   },
   {
    "duration": 5,
    "start_time": "2023-04-15T07:55:44.426Z"
   },
   {
    "duration": 6,
    "start_time": "2023-04-15T07:58:54.802Z"
   },
   {
    "duration": 17,
    "start_time": "2023-04-15T07:58:54.810Z"
   },
   {
    "duration": 706,
    "start_time": "2023-04-15T07:58:54.829Z"
   },
   {
    "duration": 48,
    "start_time": "2023-04-15T07:58:55.537Z"
   },
   {
    "duration": 41,
    "start_time": "2023-04-15T07:58:55.587Z"
   },
   {
    "duration": 61,
    "start_time": "2023-04-15T07:58:55.630Z"
   },
   {
    "duration": 16,
    "start_time": "2023-04-15T07:58:55.693Z"
   },
   {
    "duration": 12,
    "start_time": "2023-04-15T07:58:55.710Z"
   },
   {
    "duration": 35,
    "start_time": "2023-04-15T07:58:55.724Z"
   },
   {
    "duration": 149,
    "start_time": "2023-04-15T07:58:55.761Z"
   },
   {
    "duration": 3,
    "start_time": "2023-04-15T07:58:55.911Z"
   },
   {
    "duration": 16,
    "start_time": "2023-04-15T07:58:55.916Z"
   },
   {
    "duration": 23,
    "start_time": "2023-04-15T07:58:55.933Z"
   },
   {
    "duration": 6,
    "start_time": "2023-04-15T07:58:55.960Z"
   },
   {
    "duration": 10,
    "start_time": "2023-04-15T07:58:55.968Z"
   },
   {
    "duration": 36,
    "start_time": "2023-04-15T07:58:55.980Z"
   },
   {
    "duration": 23,
    "start_time": "2023-04-15T07:58:56.018Z"
   },
   {
    "duration": 243,
    "start_time": "2023-04-15T07:58:56.050Z"
   },
   {
    "duration": 860,
    "start_time": "2023-04-15T07:58:56.294Z"
   },
   {
    "duration": 597,
    "start_time": "2023-04-15T07:58:57.157Z"
   },
   {
    "duration": 620,
    "start_time": "2023-04-15T07:58:57.756Z"
   },
   {
    "duration": 12,
    "start_time": "2023-04-15T07:58:58.378Z"
   },
   {
    "duration": 946,
    "start_time": "2023-04-15T07:58:58.391Z"
   },
   {
    "duration": 564,
    "start_time": "2023-04-15T07:58:59.339Z"
   },
   {
    "duration": 9,
    "start_time": "2023-04-15T07:58:59.904Z"
   },
   {
    "duration": 901,
    "start_time": "2023-04-15T07:58:59.914Z"
   },
   {
    "duration": 171,
    "start_time": "2023-04-15T07:59:00.817Z"
   },
   {
    "duration": 20,
    "start_time": "2023-04-15T07:59:00.989Z"
   },
   {
    "duration": 26,
    "start_time": "2023-04-15T07:59:01.011Z"
   },
   {
    "duration": 523,
    "start_time": "2023-04-15T07:59:01.038Z"
   },
   {
    "duration": 4,
    "start_time": "2023-04-15T07:59:01.562Z"
   },
   {
    "duration": 451,
    "start_time": "2023-04-15T07:59:01.567Z"
   },
   {
    "duration": 6,
    "start_time": "2023-04-15T07:59:02.019Z"
   },
   {
    "duration": 84,
    "start_time": "2023-04-15T07:59:02.026Z"
   },
   {
    "duration": 37,
    "start_time": "2023-04-15T07:59:02.112Z"
   },
   {
    "duration": 52,
    "start_time": "2023-04-15T07:59:02.150Z"
   },
   {
    "duration": 59,
    "start_time": "2023-04-15T07:59:02.204Z"
   },
   {
    "duration": 48,
    "start_time": "2023-04-15T07:59:02.264Z"
   },
   {
    "duration": 26,
    "start_time": "2023-04-15T07:59:02.314Z"
   },
   {
    "duration": 46,
    "start_time": "2023-04-15T07:59:02.342Z"
   },
   {
    "duration": 47,
    "start_time": "2023-04-15T07:59:02.391Z"
   },
   {
    "duration": 35,
    "start_time": "2023-04-15T07:59:05.138Z"
   },
   {
    "duration": 14,
    "start_time": "2023-04-15T07:59:09.582Z"
   },
   {
    "duration": 14,
    "start_time": "2023-04-15T07:59:16.378Z"
   },
   {
    "duration": 291,
    "start_time": "2023-04-15T07:59:23.803Z"
   },
   {
    "duration": 1420,
    "start_time": "2023-04-15T08:00:03.001Z"
   },
   {
    "duration": 1440,
    "start_time": "2023-04-15T08:01:45.630Z"
   },
   {
    "duration": 1363,
    "start_time": "2023-04-15T08:02:19.315Z"
   },
   {
    "duration": 336,
    "start_time": "2023-04-15T08:02:52.413Z"
   },
   {
    "duration": 45,
    "start_time": "2023-04-15T08:05:37.074Z"
   },
   {
    "duration": 213,
    "start_time": "2023-04-15T08:05:52.712Z"
   },
   {
    "duration": 1394,
    "start_time": "2023-04-15T08:15:27.589Z"
   },
   {
    "duration": 18,
    "start_time": "2023-04-15T08:33:14.501Z"
   },
   {
    "duration": 6,
    "start_time": "2023-04-15T08:33:21.224Z"
   },
   {
    "duration": 55,
    "start_time": "2023-04-15T08:33:21.232Z"
   },
   {
    "duration": 671,
    "start_time": "2023-04-15T08:33:21.289Z"
   },
   {
    "duration": 49,
    "start_time": "2023-04-15T08:33:21.961Z"
   },
   {
    "duration": 44,
    "start_time": "2023-04-15T08:33:22.011Z"
   },
   {
    "duration": 50,
    "start_time": "2023-04-15T08:33:22.057Z"
   },
   {
    "duration": 16,
    "start_time": "2023-04-15T08:33:22.108Z"
   },
   {
    "duration": 29,
    "start_time": "2023-04-15T08:33:22.126Z"
   },
   {
    "duration": 16,
    "start_time": "2023-04-15T08:33:22.158Z"
   },
   {
    "duration": 151,
    "start_time": "2023-04-15T08:33:22.175Z"
   },
   {
    "duration": 3,
    "start_time": "2023-04-15T08:33:22.327Z"
   },
   {
    "duration": 16,
    "start_time": "2023-04-15T08:33:22.332Z"
   },
   {
    "duration": 4,
    "start_time": "2023-04-15T08:33:22.350Z"
   },
   {
    "duration": 8,
    "start_time": "2023-04-15T08:33:22.356Z"
   },
   {
    "duration": 6,
    "start_time": "2023-04-15T08:33:22.365Z"
   },
   {
    "duration": 27,
    "start_time": "2023-04-15T08:33:22.372Z"
   },
   {
    "duration": 17,
    "start_time": "2023-04-15T08:33:22.401Z"
   },
   {
    "duration": 266,
    "start_time": "2023-04-15T08:33:22.420Z"
   },
   {
    "duration": 858,
    "start_time": "2023-04-15T08:33:22.688Z"
   },
   {
    "duration": 579,
    "start_time": "2023-04-15T08:33:23.547Z"
   },
   {
    "duration": 606,
    "start_time": "2023-04-15T08:33:24.128Z"
   },
   {
    "duration": 22,
    "start_time": "2023-04-15T08:33:24.736Z"
   },
   {
    "duration": 1002,
    "start_time": "2023-04-15T08:33:24.760Z"
   },
   {
    "duration": 547,
    "start_time": "2023-04-15T08:33:25.764Z"
   },
   {
    "duration": 11,
    "start_time": "2023-04-15T08:33:33.319Z"
   },
   {
    "duration": 1288,
    "start_time": "2023-04-15T08:33:37.030Z"
   },
   {
    "duration": 176,
    "start_time": "2023-04-15T08:33:54.983Z"
   },
   {
    "duration": 2528,
    "start_time": "2023-04-15T08:36:24.468Z"
   },
   {
    "duration": 26,
    "start_time": "2023-04-15T08:36:39.395Z"
   },
   {
    "duration": 17,
    "start_time": "2023-04-15T08:36:44.013Z"
   },
   {
    "duration": 426,
    "start_time": "2023-04-15T08:36:49.418Z"
   },
   {
    "duration": 597,
    "start_time": "2023-04-15T08:38:43.347Z"
   },
   {
    "duration": 527,
    "start_time": "2023-04-15T08:39:12.926Z"
   },
   {
    "duration": 59,
    "start_time": "2023-04-16T05:31:41.005Z"
   },
   {
    "duration": 1723,
    "start_time": "2023-04-16T05:33:45.669Z"
   },
   {
    "duration": 3958,
    "start_time": "2023-04-16T05:33:47.401Z"
   },
   {
    "duration": 57,
    "start_time": "2023-04-16T05:33:51.360Z"
   },
   {
    "duration": 36,
    "start_time": "2023-04-16T05:33:51.419Z"
   },
   {
    "duration": 72,
    "start_time": "2023-04-16T05:33:51.457Z"
   },
   {
    "duration": 15,
    "start_time": "2023-04-16T05:33:51.530Z"
   },
   {
    "duration": 11,
    "start_time": "2023-04-16T05:33:51.547Z"
   },
   {
    "duration": 41,
    "start_time": "2023-04-16T05:33:51.559Z"
   },
   {
    "duration": 142,
    "start_time": "2023-04-16T05:33:51.601Z"
   },
   {
    "duration": 1072,
    "start_time": "2023-04-16T05:34:02.651Z"
   },
   {
    "duration": 1780,
    "start_time": "2023-04-16T05:34:47.446Z"
   },
   {
    "duration": 279,
    "start_time": "2023-04-16T05:44:50.415Z"
   },
   {
    "duration": 192,
    "start_time": "2023-04-16T05:46:01.172Z"
   },
   {
    "duration": 238,
    "start_time": "2023-04-16T05:46:35.959Z"
   },
   {
    "duration": 60,
    "start_time": "2023-04-16T05:47:12.799Z"
   },
   {
    "duration": 912,
    "start_time": "2023-04-16T05:59:13.657Z"
   },
   {
    "duration": 1065,
    "start_time": "2023-04-16T05:59:38.870Z"
   },
   {
    "duration": 1016,
    "start_time": "2023-04-16T06:00:33.806Z"
   },
   {
    "duration": 558,
    "start_time": "2023-04-16T06:01:14.307Z"
   },
   {
    "duration": 632,
    "start_time": "2023-04-16T06:01:51.112Z"
   },
   {
    "duration": 76,
    "start_time": "2023-04-16T06:02:58.346Z"
   },
   {
    "duration": 1294,
    "start_time": "2023-04-16T06:06:32.997Z"
   },
   {
    "duration": 165,
    "start_time": "2023-04-16T06:06:49.049Z"
   },
   {
    "duration": 151,
    "start_time": "2023-04-16T06:07:35.349Z"
   },
   {
    "duration": 147,
    "start_time": "2023-04-16T06:08:01.159Z"
   },
   {
    "duration": 26,
    "start_time": "2023-04-16T06:08:46.169Z"
   },
   {
    "duration": 1078,
    "start_time": "2023-04-16T06:08:58.650Z"
   },
   {
    "duration": 37,
    "start_time": "2023-04-16T06:09:18.118Z"
   },
   {
    "duration": 32,
    "start_time": "2023-04-16T06:09:23.293Z"
   },
   {
    "duration": 928,
    "start_time": "2023-04-16T06:09:29.296Z"
   },
   {
    "duration": 45,
    "start_time": "2023-04-16T06:12:26.424Z"
   },
   {
    "duration": 164,
    "start_time": "2023-04-16T06:12:48.597Z"
   },
   {
    "duration": 4,
    "start_time": "2023-04-16T06:13:32.189Z"
   },
   {
    "duration": 9,
    "start_time": "2023-04-16T06:15:09.913Z"
   },
   {
    "duration": 864,
    "start_time": "2023-04-16T06:15:09.924Z"
   },
   {
    "duration": 63,
    "start_time": "2023-04-16T06:15:10.796Z"
   },
   {
    "duration": 54,
    "start_time": "2023-04-16T06:15:10.860Z"
   },
   {
    "duration": 77,
    "start_time": "2023-04-16T06:15:10.916Z"
   },
   {
    "duration": 21,
    "start_time": "2023-04-16T06:15:10.998Z"
   },
   {
    "duration": 13,
    "start_time": "2023-04-16T06:15:11.020Z"
   },
   {
    "duration": 17,
    "start_time": "2023-04-16T06:15:11.035Z"
   },
   {
    "duration": 169,
    "start_time": "2023-04-16T06:15:11.053Z"
   },
   {
    "duration": 5,
    "start_time": "2023-04-16T06:15:11.224Z"
   },
   {
    "duration": 11,
    "start_time": "2023-04-16T06:15:11.231Z"
   },
   {
    "duration": 11,
    "start_time": "2023-04-16T06:15:11.243Z"
   },
   {
    "duration": 7,
    "start_time": "2023-04-16T06:15:11.255Z"
   },
   {
    "duration": 64,
    "start_time": "2023-04-16T06:15:11.264Z"
   },
   {
    "duration": 21,
    "start_time": "2023-04-16T06:15:11.330Z"
   },
   {
    "duration": 18,
    "start_time": "2023-04-16T06:15:11.353Z"
   },
   {
    "duration": 282,
    "start_time": "2023-04-16T06:15:11.385Z"
   },
   {
    "duration": 2,
    "start_time": "2023-04-16T06:15:15.012Z"
   },
   {
    "duration": 6,
    "start_time": "2023-04-16T06:15:22.005Z"
   },
   {
    "duration": 11,
    "start_time": "2023-04-16T06:16:40.474Z"
   },
   {
    "duration": 6,
    "start_time": "2023-04-16T06:17:04.652Z"
   },
   {
    "duration": 831,
    "start_time": "2023-04-16T06:17:04.660Z"
   },
   {
    "duration": 61,
    "start_time": "2023-04-16T06:17:05.506Z"
   },
   {
    "duration": 72,
    "start_time": "2023-04-16T06:17:05.569Z"
   },
   {
    "duration": 83,
    "start_time": "2023-04-16T06:17:05.643Z"
   },
   {
    "duration": 24,
    "start_time": "2023-04-16T06:17:05.731Z"
   },
   {
    "duration": 13,
    "start_time": "2023-04-16T06:17:05.757Z"
   },
   {
    "duration": 70,
    "start_time": "2023-04-16T06:17:05.771Z"
   },
   {
    "duration": 159,
    "start_time": "2023-04-16T06:17:05.844Z"
   },
   {
    "duration": 4,
    "start_time": "2023-04-16T06:17:06.018Z"
   },
   {
    "duration": 75,
    "start_time": "2023-04-16T06:17:06.024Z"
   },
   {
    "duration": 36,
    "start_time": "2023-04-16T06:17:06.101Z"
   },
   {
    "duration": 14,
    "start_time": "2023-04-16T06:17:06.139Z"
   },
   {
    "duration": 91,
    "start_time": "2023-04-16T06:17:06.155Z"
   },
   {
    "duration": 49,
    "start_time": "2023-04-16T06:17:06.248Z"
   },
   {
    "duration": 46,
    "start_time": "2023-04-16T06:17:06.302Z"
   },
   {
    "duration": 301,
    "start_time": "2023-04-16T06:17:06.350Z"
   },
   {
    "duration": 4,
    "start_time": "2023-04-16T06:17:06.653Z"
   },
   {
    "duration": 1154,
    "start_time": "2023-04-16T06:17:06.659Z"
   },
   {
    "duration": 216,
    "start_time": "2023-04-16T06:17:07.818Z"
   },
   {
    "duration": 605,
    "start_time": "2023-04-16T06:17:08.036Z"
   },
   {
    "duration": 270,
    "start_time": "2023-04-16T06:17:08.643Z"
   },
   {
    "duration": 724,
    "start_time": "2023-04-16T06:17:08.923Z"
   },
   {
    "duration": 210,
    "start_time": "2023-04-16T06:17:09.650Z"
   },
   {
    "duration": 1165,
    "start_time": "2023-04-16T06:17:09.862Z"
   },
   {
    "duration": 755,
    "start_time": "2023-04-16T06:17:11.029Z"
   },
   {
    "duration": 28,
    "start_time": "2023-04-16T06:17:11.794Z"
   },
   {
    "duration": 1495,
    "start_time": "2023-04-16T06:17:11.826Z"
   },
   {
    "duration": 316,
    "start_time": "2023-04-16T06:17:13.326Z"
   },
   {
    "duration": 25,
    "start_time": "2023-04-16T06:17:13.643Z"
   },
   {
    "duration": 44,
    "start_time": "2023-04-16T06:17:13.669Z"
   },
   {
    "duration": 814,
    "start_time": "2023-04-16T06:17:13.724Z"
   },
   {
    "duration": 187,
    "start_time": "2023-04-16T06:17:14.540Z"
   },
   {
    "duration": 4,
    "start_time": "2023-04-16T06:17:40.729Z"
   },
   {
    "duration": 6,
    "start_time": "2023-04-16T06:20:26.336Z"
   },
   {
    "duration": 6,
    "start_time": "2023-04-16T06:20:56.811Z"
   },
   {
    "duration": 3,
    "start_time": "2023-04-16T06:21:45.346Z"
   },
   {
    "duration": 81,
    "start_time": "2023-04-16T06:22:25.392Z"
   },
   {
    "duration": 5,
    "start_time": "2023-04-16T06:22:40.550Z"
   },
   {
    "duration": 3,
    "start_time": "2023-04-16T06:32:32.101Z"
   },
   {
    "duration": 3,
    "start_time": "2023-04-16T06:32:35.384Z"
   },
   {
    "duration": 5,
    "start_time": "2023-04-16T06:32:41.834Z"
   },
   {
    "duration": 667,
    "start_time": "2023-04-16T06:32:41.841Z"
   },
   {
    "duration": 46,
    "start_time": "2023-04-16T06:32:42.510Z"
   },
   {
    "duration": 47,
    "start_time": "2023-04-16T06:32:42.558Z"
   },
   {
    "duration": 83,
    "start_time": "2023-04-16T06:32:42.607Z"
   },
   {
    "duration": 18,
    "start_time": "2023-04-16T06:32:42.692Z"
   },
   {
    "duration": 15,
    "start_time": "2023-04-16T06:32:42.712Z"
   },
   {
    "duration": 20,
    "start_time": "2023-04-16T06:32:42.729Z"
   },
   {
    "duration": 167,
    "start_time": "2023-04-16T06:32:42.752Z"
   },
   {
    "duration": 4,
    "start_time": "2023-04-16T06:32:42.920Z"
   },
   {
    "duration": 13,
    "start_time": "2023-04-16T06:32:42.925Z"
   },
   {
    "duration": 6,
    "start_time": "2023-04-16T06:32:42.940Z"
   },
   {
    "duration": 6,
    "start_time": "2023-04-16T06:32:42.947Z"
   },
   {
    "duration": 23,
    "start_time": "2023-04-16T06:32:42.954Z"
   },
   {
    "duration": 22,
    "start_time": "2023-04-16T06:32:42.983Z"
   },
   {
    "duration": 17,
    "start_time": "2023-04-16T06:32:43.007Z"
   },
   {
    "duration": 266,
    "start_time": "2023-04-16T06:32:43.026Z"
   },
   {
    "duration": 5,
    "start_time": "2023-04-16T06:32:43.294Z"
   },
   {
    "duration": 921,
    "start_time": "2023-04-16T06:32:43.301Z"
   },
   {
    "duration": 192,
    "start_time": "2023-04-16T06:32:44.224Z"
   },
   {
    "duration": 541,
    "start_time": "2023-04-16T06:32:44.418Z"
   },
   {
    "duration": 204,
    "start_time": "2023-04-16T06:32:44.961Z"
   },
   {
    "duration": 747,
    "start_time": "2023-04-16T06:32:45.166Z"
   },
   {
    "duration": 232,
    "start_time": "2023-04-16T06:32:45.917Z"
   },
   {
    "duration": 1105,
    "start_time": "2023-04-16T06:32:46.153Z"
   },
   {
    "duration": 733,
    "start_time": "2023-04-16T06:32:47.260Z"
   },
   {
    "duration": 11,
    "start_time": "2023-04-16T06:32:47.995Z"
   },
   {
    "duration": 1338,
    "start_time": "2023-04-16T06:32:48.007Z"
   },
   {
    "duration": 193,
    "start_time": "2023-04-16T06:32:49.346Z"
   },
   {
    "duration": 36,
    "start_time": "2023-04-16T06:32:49.541Z"
   },
   {
    "duration": 22,
    "start_time": "2023-04-16T06:32:49.579Z"
   },
   {
    "duration": 4,
    "start_time": "2023-04-16T06:32:49.603Z"
   },
   {
    "duration": 795,
    "start_time": "2023-04-16T06:32:49.609Z"
   },
   {
    "duration": 192,
    "start_time": "2023-04-16T06:32:50.406Z"
   },
   {
    "duration": 4,
    "start_time": "2023-04-16T06:32:50.600Z"
   },
   {
    "duration": 58,
    "start_time": "2023-04-16T06:32:50.607Z"
   },
   {
    "duration": 36,
    "start_time": "2023-04-16T06:32:50.666Z"
   },
   {
    "duration": 22,
    "start_time": "2023-04-16T06:32:50.704Z"
   },
   {
    "duration": 28,
    "start_time": "2023-04-16T06:32:50.728Z"
   },
   {
    "duration": 10,
    "start_time": "2023-04-16T06:32:50.758Z"
   },
   {
    "duration": 39,
    "start_time": "2023-04-16T06:32:50.769Z"
   },
   {
    "duration": 40,
    "start_time": "2023-04-16T06:32:50.810Z"
   },
   {
    "duration": 2458,
    "start_time": "2023-04-16T06:32:50.851Z"
   },
   {
    "duration": 7,
    "start_time": "2023-04-16T06:32:53.377Z"
   },
   {
    "duration": 4,
    "start_time": "2023-04-16T06:44:03.059Z"
   },
   {
    "duration": 12,
    "start_time": "2023-04-16T06:44:12.317Z"
   },
   {
    "duration": 2288668,
    "start_time": "2023-04-16T06:45:24.199Z"
   },
   {
    "duration": 1234707,
    "start_time": "2023-04-16T07:23:54.290Z"
   },
   {
    "duration": 10,
    "start_time": "2023-04-16T07:47:18.571Z"
   },
   {
    "duration": 29,
    "start_time": "2023-04-16T07:47:35.495Z"
   },
   {
    "duration": 5,
    "start_time": "2023-04-16T08:12:25.711Z"
   },
   {
    "duration": 4,
    "start_time": "2023-04-16T08:12:54.093Z"
   },
   {
    "duration": 5,
    "start_time": "2023-04-16T08:13:24.244Z"
   },
   {
    "duration": 24,
    "start_time": "2023-04-16T08:13:46.804Z"
   },
   {
    "duration": 3,
    "start_time": "2023-04-16T08:13:59.038Z"
   },
   {
    "duration": 4980,
    "start_time": "2023-04-16T08:14:28.314Z"
   },
   {
    "duration": 313,
    "start_time": "2023-04-16T08:14:41.845Z"
   },
   {
    "duration": 1348,
    "start_time": "2023-04-16T08:14:46.555Z"
   },
   {
    "duration": 10,
    "start_time": "2023-04-16T08:14:56.199Z"
   },
   {
    "duration": 9,
    "start_time": "2023-04-16T08:15:01.930Z"
   },
   {
    "duration": 7,
    "start_time": "2023-04-16T08:24:26.525Z"
   },
   {
    "duration": 78,
    "start_time": "2023-04-16T08:25:15.168Z"
   },
   {
    "duration": 4,
    "start_time": "2023-04-16T08:25:24.731Z"
   },
   {
    "duration": 5297,
    "start_time": "2023-04-16T08:26:33.024Z"
   },
   {
    "duration": 235,
    "start_time": "2023-04-16T08:28:23.102Z"
   },
   {
    "duration": 215,
    "start_time": "2023-04-16T08:48:39.194Z"
   },
   {
    "duration": 1403,
    "start_time": "2023-04-16T08:49:59.192Z"
   },
   {
    "duration": 701,
    "start_time": "2023-04-16T08:50:00.598Z"
   },
   {
    "duration": 71,
    "start_time": "2023-04-16T08:50:01.301Z"
   },
   {
    "duration": 31,
    "start_time": "2023-04-16T08:50:01.390Z"
   },
   {
    "duration": 91,
    "start_time": "2023-04-16T08:50:01.423Z"
   },
   {
    "duration": 26,
    "start_time": "2023-04-16T08:50:01.516Z"
   },
   {
    "duration": 58,
    "start_time": "2023-04-16T08:50:01.544Z"
   },
   {
    "duration": 86,
    "start_time": "2023-04-16T08:50:01.604Z"
   },
   {
    "duration": 175,
    "start_time": "2023-04-16T08:50:01.692Z"
   },
   {
    "duration": 13,
    "start_time": "2023-04-16T08:50:01.869Z"
   },
   {
    "duration": 26,
    "start_time": "2023-04-16T08:50:01.894Z"
   },
   {
    "duration": 30,
    "start_time": "2023-04-16T08:50:01.922Z"
   },
   {
    "duration": 42,
    "start_time": "2023-04-16T08:50:01.954Z"
   },
   {
    "duration": 26,
    "start_time": "2023-04-16T08:50:01.999Z"
   },
   {
    "duration": 57,
    "start_time": "2023-04-16T08:50:02.027Z"
   },
   {
    "duration": 45,
    "start_time": "2023-04-16T08:50:02.086Z"
   },
   {
    "duration": 300,
    "start_time": "2023-04-16T08:50:02.133Z"
   },
   {
    "duration": 3,
    "start_time": "2023-04-16T08:50:02.435Z"
   },
   {
    "duration": 975,
    "start_time": "2023-04-16T08:50:02.440Z"
   },
   {
    "duration": 189,
    "start_time": "2023-04-16T08:50:03.416Z"
   },
   {
    "duration": 497,
    "start_time": "2023-04-16T08:50:03.607Z"
   },
   {
    "duration": 190,
    "start_time": "2023-04-16T08:50:04.106Z"
   },
   {
    "duration": 707,
    "start_time": "2023-04-16T08:50:04.298Z"
   },
   {
    "duration": 200,
    "start_time": "2023-04-16T08:50:05.007Z"
   },
   {
    "duration": 929,
    "start_time": "2023-04-16T08:50:05.209Z"
   },
   {
    "duration": 775,
    "start_time": "2023-04-16T08:50:06.140Z"
   },
   {
    "duration": 12,
    "start_time": "2023-04-16T08:50:06.916Z"
   },
   {
    "duration": 1379,
    "start_time": "2023-04-16T08:50:06.929Z"
   },
   {
    "duration": 199,
    "start_time": "2023-04-16T08:50:08.309Z"
   },
   {
    "duration": 37,
    "start_time": "2023-04-16T08:50:08.510Z"
   },
   {
    "duration": 49,
    "start_time": "2023-04-16T08:50:08.549Z"
   },
   {
    "duration": 5,
    "start_time": "2023-04-16T08:50:08.600Z"
   },
   {
    "duration": 786,
    "start_time": "2023-04-16T08:50:08.607Z"
   },
   {
    "duration": 178,
    "start_time": "2023-04-16T08:50:09.395Z"
   },
   {
    "duration": 5,
    "start_time": "2023-04-16T08:50:09.574Z"
   },
   {
    "duration": 20,
    "start_time": "2023-04-16T08:50:09.580Z"
   },
   {
    "duration": 7,
    "start_time": "2023-04-16T08:50:09.602Z"
   },
   {
    "duration": 16,
    "start_time": "2023-04-16T08:50:09.611Z"
   },
   {
    "duration": 8,
    "start_time": "2023-04-16T08:50:09.629Z"
   },
   {
    "duration": 10,
    "start_time": "2023-04-16T08:50:09.639Z"
   },
   {
    "duration": 43,
    "start_time": "2023-04-16T08:50:09.654Z"
   },
   {
    "duration": 27,
    "start_time": "2023-04-16T08:50:09.699Z"
   },
   {
    "duration": 2461,
    "start_time": "2023-04-16T08:50:09.728Z"
   },
   {
    "duration": 80,
    "start_time": "2023-04-16T08:50:12.197Z"
   },
   {
    "duration": 18,
    "start_time": "2023-04-16T08:50:12.282Z"
   },
   {
    "duration": 1222923,
    "start_time": "2023-04-16T08:50:12.301Z"
   },
   {
    "duration": 3,
    "start_time": "2023-04-16T09:10:35.225Z"
   },
   {
    "duration": 9,
    "start_time": "2023-04-16T09:10:35.230Z"
   },
   {
    "duration": 4923,
    "start_time": "2023-04-16T09:10:35.241Z"
   },
   {
    "duration": 328,
    "start_time": "2023-04-16T09:10:40.165Z"
   },
   {
    "duration": 1404,
    "start_time": "2023-04-16T09:10:40.495Z"
   },
   {
    "duration": 10,
    "start_time": "2023-04-16T09:10:41.901Z"
   },
   {
    "duration": 9,
    "start_time": "2023-04-16T23:24:41.683Z"
   },
   {
    "duration": 203,
    "start_time": "2023-04-16T23:24:54.609Z"
   },
   {
    "duration": 1620,
    "start_time": "2023-04-17T03:20:48.788Z"
   },
   {
    "duration": 3007,
    "start_time": "2023-04-17T03:20:50.410Z"
   },
   {
    "duration": 51,
    "start_time": "2023-04-17T03:20:53.419Z"
   },
   {
    "duration": 31,
    "start_time": "2023-04-17T03:20:53.472Z"
   },
   {
    "duration": 54,
    "start_time": "2023-04-17T03:20:53.504Z"
   },
   {
    "duration": 26,
    "start_time": "2023-04-17T03:20:53.560Z"
   },
   {
    "duration": 12,
    "start_time": "2023-04-17T03:20:53.587Z"
   },
   {
    "duration": 17,
    "start_time": "2023-04-17T03:20:53.601Z"
   },
   {
    "duration": 162,
    "start_time": "2023-04-17T03:20:53.620Z"
   },
   {
    "duration": 3,
    "start_time": "2023-04-17T03:20:53.784Z"
   },
   {
    "duration": 8,
    "start_time": "2023-04-17T03:20:53.789Z"
   },
   {
    "duration": 4,
    "start_time": "2023-04-17T03:20:53.799Z"
   },
   {
    "duration": 6,
    "start_time": "2023-04-17T03:20:53.805Z"
   },
   {
    "duration": 6,
    "start_time": "2023-04-17T03:20:53.812Z"
   },
   {
    "duration": 22,
    "start_time": "2023-04-17T03:20:53.820Z"
   },
   {
    "duration": 43,
    "start_time": "2023-04-17T03:20:53.844Z"
   },
   {
    "duration": 234,
    "start_time": "2023-04-17T03:20:53.888Z"
   },
   {
    "duration": 3,
    "start_time": "2023-04-17T03:20:54.124Z"
   },
   {
    "duration": 896,
    "start_time": "2023-04-17T03:20:58.847Z"
   },
   {
    "duration": 853,
    "start_time": "2023-04-17T03:21:45.017Z"
   },
   {
    "duration": 179,
    "start_time": "2023-04-17T03:22:42.714Z"
   },
   {
    "duration": 598,
    "start_time": "2023-04-17T03:23:15.388Z"
   },
   {
    "duration": 185,
    "start_time": "2023-04-17T03:23:36.982Z"
   },
   {
    "duration": 617,
    "start_time": "2023-04-17T03:23:53.746Z"
   },
   {
    "duration": 186,
    "start_time": "2023-04-17T03:24:22.597Z"
   },
   {
    "duration": 438,
    "start_time": "2023-04-17T03:26:11.189Z"
   },
   {
    "duration": 403,
    "start_time": "2023-04-17T03:26:25.186Z"
   },
   {
    "duration": 51,
    "start_time": "2023-04-17T03:27:12.309Z"
   },
   {
    "duration": 47,
    "start_time": "2023-04-17T03:27:37.043Z"
   },
   {
    "duration": 406,
    "start_time": "2023-04-17T03:28:43.387Z"
   },
   {
    "duration": 527,
    "start_time": "2023-04-17T03:29:00.862Z"
   },
   {
    "duration": 124,
    "start_time": "2023-04-17T03:34:38.685Z"
   },
   {
    "duration": 10,
    "start_time": "2023-04-17T03:34:50.995Z"
   },
   {
    "duration": 1280,
    "start_time": "2023-04-17T03:34:53.621Z"
   },
   {
    "duration": 175,
    "start_time": "2023-04-17T03:35:21.329Z"
   },
   {
    "duration": 58,
    "start_time": "2023-04-17T03:38:44.098Z"
   },
   {
    "duration": 144,
    "start_time": "2023-04-17T03:39:31.008Z"
   },
   {
    "duration": 31,
    "start_time": "2023-04-17T03:39:42.591Z"
   },
   {
    "duration": 23,
    "start_time": "2023-04-17T03:39:45.786Z"
   },
   {
    "duration": 713,
    "start_time": "2023-04-17T03:39:49.424Z"
   },
   {
    "duration": 169,
    "start_time": "2023-04-17T03:40:19.327Z"
   },
   {
    "duration": 49,
    "start_time": "2023-04-17T03:40:38.041Z"
   },
   {
    "duration": 112,
    "start_time": "2023-04-17T05:51:16.294Z"
   },
   {
    "duration": 1768,
    "start_time": "2023-04-17T05:54:34.312Z"
   },
   {
    "duration": 3005,
    "start_time": "2023-04-17T05:54:36.082Z"
   },
   {
    "duration": 68,
    "start_time": "2023-04-17T05:54:39.088Z"
   },
   {
    "duration": 39,
    "start_time": "2023-04-17T05:54:39.159Z"
   },
   {
    "duration": 131,
    "start_time": "2023-04-17T05:54:39.200Z"
   },
   {
    "duration": 19,
    "start_time": "2023-04-17T05:54:39.333Z"
   },
   {
    "duration": 14,
    "start_time": "2023-04-17T05:54:39.354Z"
   },
   {
    "duration": 23,
    "start_time": "2023-04-17T05:54:39.370Z"
   },
   {
    "duration": 196,
    "start_time": "2023-04-17T05:54:39.395Z"
   },
   {
    "duration": 3,
    "start_time": "2023-04-17T05:54:39.594Z"
   },
   {
    "duration": 11,
    "start_time": "2023-04-17T05:54:39.599Z"
   },
   {
    "duration": 17,
    "start_time": "2023-04-17T05:54:39.612Z"
   },
   {
    "duration": 35,
    "start_time": "2023-04-17T05:54:39.631Z"
   },
   {
    "duration": 7,
    "start_time": "2023-04-17T05:54:39.668Z"
   },
   {
    "duration": 55,
    "start_time": "2023-04-17T05:54:39.677Z"
   },
   {
    "duration": 15,
    "start_time": "2023-04-17T05:54:39.734Z"
   },
   {
    "duration": 237,
    "start_time": "2023-04-17T05:54:39.751Z"
   },
   {
    "duration": 3,
    "start_time": "2023-04-17T05:54:39.990Z"
   },
   {
    "duration": 1040,
    "start_time": "2023-04-17T05:54:39.995Z"
   },
   {
    "duration": 215,
    "start_time": "2023-04-17T05:54:41.036Z"
   },
   {
    "duration": 531,
    "start_time": "2023-04-17T05:54:41.252Z"
   },
   {
    "duration": 186,
    "start_time": "2023-04-17T05:54:41.785Z"
   },
   {
    "duration": 765,
    "start_time": "2023-04-17T05:54:41.972Z"
   },
   {
    "duration": 195,
    "start_time": "2023-04-17T05:54:42.739Z"
   },
   {
    "duration": 422,
    "start_time": "2023-04-17T05:54:42.936Z"
   },
   {
    "duration": 517,
    "start_time": "2023-04-17T05:54:43.360Z"
   },
   {
    "duration": 12,
    "start_time": "2023-04-17T05:54:43.879Z"
   },
   {
    "duration": 1646,
    "start_time": "2023-04-17T05:54:43.895Z"
   },
   {
    "duration": 200,
    "start_time": "2023-04-17T05:54:45.542Z"
   },
   {
    "duration": 42,
    "start_time": "2023-04-17T05:54:45.744Z"
   },
   {
    "duration": 49,
    "start_time": "2023-04-17T05:54:45.788Z"
   },
   {
    "duration": 4,
    "start_time": "2023-04-17T05:54:45.838Z"
   },
   {
    "duration": 933,
    "start_time": "2023-04-17T05:54:45.844Z"
   },
   {
    "duration": 206,
    "start_time": "2023-04-17T05:54:46.779Z"
   },
   {
    "duration": 4,
    "start_time": "2023-04-17T05:54:46.986Z"
   },
   {
    "duration": 13,
    "start_time": "2023-04-17T05:54:46.991Z"
   },
   {
    "duration": 11,
    "start_time": "2023-04-17T05:54:47.006Z"
   },
   {
    "duration": 24,
    "start_time": "2023-04-17T05:54:47.019Z"
   },
   {
    "duration": 8,
    "start_time": "2023-04-17T05:54:47.044Z"
   },
   {
    "duration": 12,
    "start_time": "2023-04-17T05:54:47.054Z"
   },
   {
    "duration": 15,
    "start_time": "2023-04-17T05:54:47.067Z"
   },
   {
    "duration": 38,
    "start_time": "2023-04-17T05:54:47.083Z"
   },
   {
    "duration": 2594,
    "start_time": "2023-04-17T05:54:50.942Z"
   },
   {
    "duration": 2846,
    "start_time": "2023-04-17T05:55:29.390Z"
   },
   {
    "duration": 4705,
    "start_time": "2023-04-17T05:57:59.488Z"
   },
   {
    "duration": 4403724,
    "start_time": "2023-04-17T05:58:29.987Z"
   },
   {
    "duration": 4561511,
    "start_time": "2023-04-17T07:12:17.908Z"
   },
   {
    "duration": 4,
    "start_time": "2023-04-17T09:06:02.039Z"
   },
   {
    "duration": 4,
    "start_time": "2023-04-17T09:06:11.539Z"
   },
   {
    "duration": 4516,
    "start_time": "2023-04-17T09:09:22.684Z"
   },
   {
    "duration": 421,
    "start_time": "2023-04-17T09:09:46.360Z"
   },
   {
    "duration": 363,
    "start_time": "2023-04-17T09:11:48.253Z"
   },
   {
    "duration": 1447,
    "start_time": "2023-04-17T09:11:52.500Z"
   },
   {
    "duration": 10,
    "start_time": "2023-04-17T10:53:37.644Z"
   },
   {
    "duration": 126,
    "start_time": "2023-04-17T11:05:00.161Z"
   },
   {
    "duration": 242,
    "start_time": "2023-04-17T11:05:03.706Z"
   },
   {
    "duration": 72,
    "start_time": "2023-04-18T11:33:53.831Z"
   },
   {
    "duration": 3202,
    "start_time": "2023-04-18T11:36:03.136Z"
   },
   {
    "duration": 4022,
    "start_time": "2023-04-18T11:36:06.343Z"
   },
   {
    "duration": 72,
    "start_time": "2023-04-18T11:36:10.367Z"
   },
   {
    "duration": 50,
    "start_time": "2023-04-18T11:36:10.448Z"
   },
   {
    "duration": 94,
    "start_time": "2023-04-18T11:36:10.500Z"
   },
   {
    "duration": 33,
    "start_time": "2023-04-18T11:36:10.597Z"
   },
   {
    "duration": 26,
    "start_time": "2023-04-18T11:36:10.632Z"
   },
   {
    "duration": 76,
    "start_time": "2023-04-18T11:36:10.660Z"
   },
   {
    "duration": 248,
    "start_time": "2023-04-18T11:36:10.738Z"
   },
   {
    "duration": 3,
    "start_time": "2023-04-18T11:36:10.989Z"
   },
   {
    "duration": 40,
    "start_time": "2023-04-18T11:36:10.994Z"
   },
   {
    "duration": 50,
    "start_time": "2023-04-18T11:36:11.036Z"
   },
   {
    "duration": 45,
    "start_time": "2023-04-18T11:36:11.088Z"
   },
   {
    "duration": 68,
    "start_time": "2023-04-18T11:36:11.135Z"
   },
   {
    "duration": 103,
    "start_time": "2023-04-18T11:36:11.205Z"
   },
   {
    "duration": 26,
    "start_time": "2023-04-18T11:36:11.310Z"
   },
   {
    "duration": 302,
    "start_time": "2023-04-18T11:36:11.338Z"
   },
   {
    "duration": 6,
    "start_time": "2023-04-18T11:36:11.651Z"
   },
   {
    "duration": 1319,
    "start_time": "2023-04-18T11:36:11.658Z"
   },
   {
    "duration": 245,
    "start_time": "2023-04-18T11:36:12.980Z"
   },
   {
    "duration": 681,
    "start_time": "2023-04-18T11:36:13.227Z"
   },
   {
    "duration": 248,
    "start_time": "2023-04-18T11:36:13.910Z"
   },
   {
    "duration": 1029,
    "start_time": "2023-04-18T11:36:14.160Z"
   },
   {
    "duration": 259,
    "start_time": "2023-04-18T11:36:15.191Z"
   },
   {
    "duration": 639,
    "start_time": "2023-04-18T11:36:15.453Z"
   },
   {
    "duration": 588,
    "start_time": "2023-04-18T11:36:16.094Z"
   },
   {
    "duration": 20,
    "start_time": "2023-04-18T11:36:16.687Z"
   },
   {
    "duration": 1894,
    "start_time": "2023-04-18T11:36:16.711Z"
   },
   {
    "duration": 260,
    "start_time": "2023-04-18T11:36:18.607Z"
   },
   {
    "duration": 50,
    "start_time": "2023-04-18T11:36:18.873Z"
   },
   {
    "duration": 48,
    "start_time": "2023-04-18T11:36:18.925Z"
   },
   {
    "duration": 5,
    "start_time": "2023-04-18T11:36:18.975Z"
   },
   {
    "duration": 1053,
    "start_time": "2023-04-18T11:36:18.981Z"
   },
   {
    "duration": 250,
    "start_time": "2023-04-18T11:36:20.036Z"
   },
   {
    "duration": 1214,
    "start_time": "2023-04-18T11:36:33.521Z"
   }
  ],
  "kernelspec": {
   "display_name": "Python 3 (ipykernel)",
   "language": "python",
   "name": "python3"
  },
  "language_info": {
   "codemirror_mode": {
    "name": "ipython",
    "version": 3
   },
   "file_extension": ".py",
   "mimetype": "text/x-python",
   "name": "python",
   "nbconvert_exporter": "python",
   "pygments_lexer": "ipython3",
   "version": "3.9.13"
  },
  "toc": {
   "base_numbering": 1,
   "nav_menu": {},
   "number_sections": true,
   "sideBar": true,
   "skip_h1_title": true,
   "title_cell": "Содержание",
   "title_sidebar": "Contents",
   "toc_cell": true,
   "toc_position": {
    "height": "calc(100% - 180px)",
    "left": "10px",
    "top": "150px",
    "width": "356.594px"
   },
   "toc_section_display": true,
   "toc_window_display": true
  }
 },
 "nbformat": 4,
 "nbformat_minor": 4
}

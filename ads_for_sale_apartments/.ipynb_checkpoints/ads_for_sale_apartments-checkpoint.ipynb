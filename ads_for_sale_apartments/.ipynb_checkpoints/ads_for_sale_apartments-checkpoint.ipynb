{
 "cells": [
  {
   "cell_type": "markdown",
   "metadata": {},
   "source": [
    "# Исследование объявлений о продаже квартир\n",
    "\n",
    "В вашем распоряжении данные сервиса Яндекс.Недвижимость — архив объявлений о продаже квартир в Санкт-Петербурге и соседних населённых пунктов за несколько лет. Нужно научиться определять рыночную стоимость объектов недвижимости. Ваша задача — установить параметры. Это позволит построить автоматизированную систему: она отследит аномалии и мошенническую деятельность. \n",
    "\n",
    "По каждой квартире на продажу доступны два вида данных. Первые вписаны пользователем, вторые — получены автоматически на основе картографических данных. Например, расстояние до центра, аэропорта, ближайшего парка и водоёма. "
   ]
  },
  {
   "cell_type": "markdown",
   "metadata": {},
   "source": [
    "### Откроем файл с данными и изучим общую информацию. "
   ]
  },
  {
   "cell_type": "code",
   "execution_count": 1,
   "metadata": {},
   "outputs": [],
   "source": [
    "#Импортируем библиотеки\n",
    "import pandas as pd\n",
    "import seaborn as sns\n",
    "import numpy as np\n",
    "\n",
    "%matplotlib inline\n",
    "import matplotlib.pyplot as plt\n",
    "\n",
    "pd.set_option('display.max_columns', None)"
   ]
  },
  {
   "cell_type": "code",
   "execution_count": 2,
   "metadata": {},
   "outputs": [],
   "source": [
    "#открываем файл\n",
    "try:\n",
    "    data = pd.read_csv('/datasets/real_estate_data.csv', sep = '\\t')\n",
    "except:\n",
    "    data = pd.read_csv('https://code.s3.yandex.net/datasets/real_estate_data.csv', sep = '\\t')"
   ]
  },
  {
   "cell_type": "code",
   "execution_count": 3,
   "metadata": {},
   "outputs": [
    {
     "data": {
      "text/html": [
       "<div>\n",
       "<style scoped>\n",
       "    .dataframe tbody tr th:only-of-type {\n",
       "        vertical-align: middle;\n",
       "    }\n",
       "\n",
       "    .dataframe tbody tr th {\n",
       "        vertical-align: top;\n",
       "    }\n",
       "\n",
       "    .dataframe thead th {\n",
       "        text-align: right;\n",
       "    }\n",
       "</style>\n",
       "<table border=\"1\" class=\"dataframe\">\n",
       "  <thead>\n",
       "    <tr style=\"text-align: right;\">\n",
       "      <th></th>\n",
       "      <th>total_images</th>\n",
       "      <th>last_price</th>\n",
       "      <th>total_area</th>\n",
       "      <th>first_day_exposition</th>\n",
       "      <th>rooms</th>\n",
       "      <th>ceiling_height</th>\n",
       "      <th>floors_total</th>\n",
       "      <th>living_area</th>\n",
       "      <th>floor</th>\n",
       "      <th>is_apartment</th>\n",
       "      <th>studio</th>\n",
       "      <th>open_plan</th>\n",
       "      <th>kitchen_area</th>\n",
       "      <th>balcony</th>\n",
       "      <th>locality_name</th>\n",
       "      <th>airports_nearest</th>\n",
       "      <th>cityCenters_nearest</th>\n",
       "      <th>parks_around3000</th>\n",
       "      <th>parks_nearest</th>\n",
       "      <th>ponds_around3000</th>\n",
       "      <th>ponds_nearest</th>\n",
       "      <th>days_exposition</th>\n",
       "    </tr>\n",
       "  </thead>\n",
       "  <tbody>\n",
       "    <tr>\n",
       "      <th>0</th>\n",
       "      <td>20</td>\n",
       "      <td>13000000.0</td>\n",
       "      <td>108.0</td>\n",
       "      <td>2019-03-07T00:00:00</td>\n",
       "      <td>3</td>\n",
       "      <td>2.70</td>\n",
       "      <td>16.0</td>\n",
       "      <td>51.0</td>\n",
       "      <td>8</td>\n",
       "      <td>NaN</td>\n",
       "      <td>False</td>\n",
       "      <td>False</td>\n",
       "      <td>25.0</td>\n",
       "      <td>NaN</td>\n",
       "      <td>Санкт-Петербург</td>\n",
       "      <td>18863.0</td>\n",
       "      <td>16028.0</td>\n",
       "      <td>1.0</td>\n",
       "      <td>482.0</td>\n",
       "      <td>2.0</td>\n",
       "      <td>755.0</td>\n",
       "      <td>NaN</td>\n",
       "    </tr>\n",
       "    <tr>\n",
       "      <th>1</th>\n",
       "      <td>7</td>\n",
       "      <td>3350000.0</td>\n",
       "      <td>40.4</td>\n",
       "      <td>2018-12-04T00:00:00</td>\n",
       "      <td>1</td>\n",
       "      <td>NaN</td>\n",
       "      <td>11.0</td>\n",
       "      <td>18.6</td>\n",
       "      <td>1</td>\n",
       "      <td>NaN</td>\n",
       "      <td>False</td>\n",
       "      <td>False</td>\n",
       "      <td>11.0</td>\n",
       "      <td>2.0</td>\n",
       "      <td>посёлок Шушары</td>\n",
       "      <td>12817.0</td>\n",
       "      <td>18603.0</td>\n",
       "      <td>0.0</td>\n",
       "      <td>NaN</td>\n",
       "      <td>0.0</td>\n",
       "      <td>NaN</td>\n",
       "      <td>81.0</td>\n",
       "    </tr>\n",
       "    <tr>\n",
       "      <th>2</th>\n",
       "      <td>10</td>\n",
       "      <td>5196000.0</td>\n",
       "      <td>56.0</td>\n",
       "      <td>2015-08-20T00:00:00</td>\n",
       "      <td>2</td>\n",
       "      <td>NaN</td>\n",
       "      <td>5.0</td>\n",
       "      <td>34.3</td>\n",
       "      <td>4</td>\n",
       "      <td>NaN</td>\n",
       "      <td>False</td>\n",
       "      <td>False</td>\n",
       "      <td>8.3</td>\n",
       "      <td>0.0</td>\n",
       "      <td>Санкт-Петербург</td>\n",
       "      <td>21741.0</td>\n",
       "      <td>13933.0</td>\n",
       "      <td>1.0</td>\n",
       "      <td>90.0</td>\n",
       "      <td>2.0</td>\n",
       "      <td>574.0</td>\n",
       "      <td>558.0</td>\n",
       "    </tr>\n",
       "    <tr>\n",
       "      <th>3</th>\n",
       "      <td>0</td>\n",
       "      <td>64900000.0</td>\n",
       "      <td>159.0</td>\n",
       "      <td>2015-07-24T00:00:00</td>\n",
       "      <td>3</td>\n",
       "      <td>NaN</td>\n",
       "      <td>14.0</td>\n",
       "      <td>NaN</td>\n",
       "      <td>9</td>\n",
       "      <td>NaN</td>\n",
       "      <td>False</td>\n",
       "      <td>False</td>\n",
       "      <td>NaN</td>\n",
       "      <td>0.0</td>\n",
       "      <td>Санкт-Петербург</td>\n",
       "      <td>28098.0</td>\n",
       "      <td>6800.0</td>\n",
       "      <td>2.0</td>\n",
       "      <td>84.0</td>\n",
       "      <td>3.0</td>\n",
       "      <td>234.0</td>\n",
       "      <td>424.0</td>\n",
       "    </tr>\n",
       "    <tr>\n",
       "      <th>4</th>\n",
       "      <td>2</td>\n",
       "      <td>10000000.0</td>\n",
       "      <td>100.0</td>\n",
       "      <td>2018-06-19T00:00:00</td>\n",
       "      <td>2</td>\n",
       "      <td>3.03</td>\n",
       "      <td>14.0</td>\n",
       "      <td>32.0</td>\n",
       "      <td>13</td>\n",
       "      <td>NaN</td>\n",
       "      <td>False</td>\n",
       "      <td>False</td>\n",
       "      <td>41.0</td>\n",
       "      <td>NaN</td>\n",
       "      <td>Санкт-Петербург</td>\n",
       "      <td>31856.0</td>\n",
       "      <td>8098.0</td>\n",
       "      <td>2.0</td>\n",
       "      <td>112.0</td>\n",
       "      <td>1.0</td>\n",
       "      <td>48.0</td>\n",
       "      <td>121.0</td>\n",
       "    </tr>\n",
       "  </tbody>\n",
       "</table>\n",
       "</div>"
      ],
      "text/plain": [
       "   total_images  last_price  total_area first_day_exposition  rooms  \\\n",
       "0            20  13000000.0       108.0  2019-03-07T00:00:00      3   \n",
       "1             7   3350000.0        40.4  2018-12-04T00:00:00      1   \n",
       "2            10   5196000.0        56.0  2015-08-20T00:00:00      2   \n",
       "3             0  64900000.0       159.0  2015-07-24T00:00:00      3   \n",
       "4             2  10000000.0       100.0  2018-06-19T00:00:00      2   \n",
       "\n",
       "   ceiling_height  floors_total  living_area  floor is_apartment  studio  \\\n",
       "0            2.70          16.0         51.0      8          NaN   False   \n",
       "1             NaN          11.0         18.6      1          NaN   False   \n",
       "2             NaN           5.0         34.3      4          NaN   False   \n",
       "3             NaN          14.0          NaN      9          NaN   False   \n",
       "4            3.03          14.0         32.0     13          NaN   False   \n",
       "\n",
       "   open_plan  kitchen_area  balcony    locality_name  airports_nearest  \\\n",
       "0      False          25.0      NaN  Санкт-Петербург           18863.0   \n",
       "1      False          11.0      2.0   посёлок Шушары           12817.0   \n",
       "2      False           8.3      0.0  Санкт-Петербург           21741.0   \n",
       "3      False           NaN      0.0  Санкт-Петербург           28098.0   \n",
       "4      False          41.0      NaN  Санкт-Петербург           31856.0   \n",
       "\n",
       "   cityCenters_nearest  parks_around3000  parks_nearest  ponds_around3000  \\\n",
       "0              16028.0               1.0          482.0               2.0   \n",
       "1              18603.0               0.0            NaN               0.0   \n",
       "2              13933.0               1.0           90.0               2.0   \n",
       "3               6800.0               2.0           84.0               3.0   \n",
       "4               8098.0               2.0          112.0               1.0   \n",
       "\n",
       "   ponds_nearest  days_exposition  \n",
       "0          755.0              NaN  \n",
       "1            NaN             81.0  \n",
       "2          574.0            558.0  \n",
       "3          234.0            424.0  \n",
       "4           48.0            121.0  "
      ]
     },
     "execution_count": 3,
     "metadata": {},
     "output_type": "execute_result"
    }
   ],
   "source": [
    "data.head()"
   ]
  },
  {
   "cell_type": "code",
   "execution_count": 4,
   "metadata": {},
   "outputs": [
    {
     "data": {
      "text/plain": [
       "(23699, 22)"
      ]
     },
     "execution_count": 4,
     "metadata": {},
     "output_type": "execute_result"
    }
   ],
   "source": [
    "data.shape"
   ]
  },
  {
   "cell_type": "markdown",
   "metadata": {},
   "source": [
    "Имеем выборку состоящую из 23699 строк, по 22 столбца.\n",
    "Сразу приведём названия столбцов к одному \"змеиному\" виду"
   ]
  },
  {
   "cell_type": "code",
   "execution_count": 5,
   "metadata": {},
   "outputs": [],
   "source": [
    "#приводим названия столбцов к одному виду\n",
    "columns_rename = {'cityCenters_nearest':'city_centers_nearest', 'parks_around3000':'parks_around_3000',\\\n",
    "                  'ponds_around3000':'ponds_around_3000'}\n",
    "data = data.rename(columns = columns_rename)"
   ]
  },
  {
   "cell_type": "markdown",
   "metadata": {},
   "source": [
    "Выведем общую информацию о датафрейме и посмотрим на типы данных."
   ]
  },
  {
   "cell_type": "code",
   "execution_count": 6,
   "metadata": {},
   "outputs": [
    {
     "name": "stdout",
     "output_type": "stream",
     "text": [
      "<class 'pandas.core.frame.DataFrame'>\n",
      "RangeIndex: 23699 entries, 0 to 23698\n",
      "Data columns (total 22 columns):\n",
      " #   Column                Non-Null Count  Dtype  \n",
      "---  ------                --------------  -----  \n",
      " 0   total_images          23699 non-null  int64  \n",
      " 1   last_price            23699 non-null  float64\n",
      " 2   total_area            23699 non-null  float64\n",
      " 3   first_day_exposition  23699 non-null  object \n",
      " 4   rooms                 23699 non-null  int64  \n",
      " 5   ceiling_height        14504 non-null  float64\n",
      " 6   floors_total          23613 non-null  float64\n",
      " 7   living_area           21796 non-null  float64\n",
      " 8   floor                 23699 non-null  int64  \n",
      " 9   is_apartment          2775 non-null   object \n",
      " 10  studio                23699 non-null  bool   \n",
      " 11  open_plan             23699 non-null  bool   \n",
      " 12  kitchen_area          21421 non-null  float64\n",
      " 13  balcony               12180 non-null  float64\n",
      " 14  locality_name         23650 non-null  object \n",
      " 15  airports_nearest      18157 non-null  float64\n",
      " 16  city_centers_nearest  18180 non-null  float64\n",
      " 17  parks_around_3000     18181 non-null  float64\n",
      " 18  parks_nearest         8079 non-null   float64\n",
      " 19  ponds_around_3000     18181 non-null  float64\n",
      " 20  ponds_nearest         9110 non-null   float64\n",
      " 21  days_exposition       20518 non-null  float64\n",
      "dtypes: bool(2), float64(14), int64(3), object(3)\n",
      "memory usage: 3.7+ MB\n"
     ]
    }
   ],
   "source": [
    "data.info()"
   ]
  },
  {
   "cell_type": "markdown",
   "metadata": {},
   "source": [
    "Ознакомимся со статистической информацией по всем числовым переменным."
   ]
  },
  {
   "cell_type": "code",
   "execution_count": 7,
   "metadata": {},
   "outputs": [
    {
     "data": {
      "text/html": [
       "<div>\n",
       "<style scoped>\n",
       "    .dataframe tbody tr th:only-of-type {\n",
       "        vertical-align: middle;\n",
       "    }\n",
       "\n",
       "    .dataframe tbody tr th {\n",
       "        vertical-align: top;\n",
       "    }\n",
       "\n",
       "    .dataframe thead th {\n",
       "        text-align: right;\n",
       "    }\n",
       "</style>\n",
       "<table border=\"1\" class=\"dataframe\">\n",
       "  <thead>\n",
       "    <tr style=\"text-align: right;\">\n",
       "      <th></th>\n",
       "      <th>total_images</th>\n",
       "      <th>last_price</th>\n",
       "      <th>total_area</th>\n",
       "      <th>rooms</th>\n",
       "      <th>ceiling_height</th>\n",
       "      <th>floors_total</th>\n",
       "      <th>living_area</th>\n",
       "      <th>floor</th>\n",
       "      <th>kitchen_area</th>\n",
       "      <th>balcony</th>\n",
       "      <th>airports_nearest</th>\n",
       "      <th>city_centers_nearest</th>\n",
       "      <th>parks_around_3000</th>\n",
       "      <th>parks_nearest</th>\n",
       "      <th>ponds_around_3000</th>\n",
       "      <th>ponds_nearest</th>\n",
       "      <th>days_exposition</th>\n",
       "    </tr>\n",
       "  </thead>\n",
       "  <tbody>\n",
       "    <tr>\n",
       "      <th>count</th>\n",
       "      <td>23699.000000</td>\n",
       "      <td>2.369900e+04</td>\n",
       "      <td>23699.000000</td>\n",
       "      <td>23699.000000</td>\n",
       "      <td>14504.000000</td>\n",
       "      <td>23613.000000</td>\n",
       "      <td>21796.000000</td>\n",
       "      <td>23699.000000</td>\n",
       "      <td>21421.000000</td>\n",
       "      <td>12180.000000</td>\n",
       "      <td>18157.000000</td>\n",
       "      <td>18180.000000</td>\n",
       "      <td>18181.000000</td>\n",
       "      <td>8079.000000</td>\n",
       "      <td>18181.000000</td>\n",
       "      <td>9110.000000</td>\n",
       "      <td>20518.000000</td>\n",
       "    </tr>\n",
       "    <tr>\n",
       "      <th>mean</th>\n",
       "      <td>9.858475</td>\n",
       "      <td>6.541549e+06</td>\n",
       "      <td>60.348651</td>\n",
       "      <td>2.070636</td>\n",
       "      <td>2.771499</td>\n",
       "      <td>10.673824</td>\n",
       "      <td>34.457852</td>\n",
       "      <td>5.892358</td>\n",
       "      <td>10.569807</td>\n",
       "      <td>1.150082</td>\n",
       "      <td>28793.672193</td>\n",
       "      <td>14191.277833</td>\n",
       "      <td>0.611408</td>\n",
       "      <td>490.804555</td>\n",
       "      <td>0.770255</td>\n",
       "      <td>517.980900</td>\n",
       "      <td>180.888634</td>\n",
       "    </tr>\n",
       "    <tr>\n",
       "      <th>std</th>\n",
       "      <td>5.682529</td>\n",
       "      <td>1.088701e+07</td>\n",
       "      <td>35.654083</td>\n",
       "      <td>1.078405</td>\n",
       "      <td>1.261056</td>\n",
       "      <td>6.597173</td>\n",
       "      <td>22.030445</td>\n",
       "      <td>4.885249</td>\n",
       "      <td>5.905438</td>\n",
       "      <td>1.071300</td>\n",
       "      <td>12630.880622</td>\n",
       "      <td>8608.386210</td>\n",
       "      <td>0.802074</td>\n",
       "      <td>342.317995</td>\n",
       "      <td>0.938346</td>\n",
       "      <td>277.720643</td>\n",
       "      <td>219.727988</td>\n",
       "    </tr>\n",
       "    <tr>\n",
       "      <th>min</th>\n",
       "      <td>0.000000</td>\n",
       "      <td>1.219000e+04</td>\n",
       "      <td>12.000000</td>\n",
       "      <td>0.000000</td>\n",
       "      <td>1.000000</td>\n",
       "      <td>1.000000</td>\n",
       "      <td>2.000000</td>\n",
       "      <td>1.000000</td>\n",
       "      <td>1.300000</td>\n",
       "      <td>0.000000</td>\n",
       "      <td>0.000000</td>\n",
       "      <td>181.000000</td>\n",
       "      <td>0.000000</td>\n",
       "      <td>1.000000</td>\n",
       "      <td>0.000000</td>\n",
       "      <td>13.000000</td>\n",
       "      <td>1.000000</td>\n",
       "    </tr>\n",
       "    <tr>\n",
       "      <th>25%</th>\n",
       "      <td>6.000000</td>\n",
       "      <td>3.400000e+06</td>\n",
       "      <td>40.000000</td>\n",
       "      <td>1.000000</td>\n",
       "      <td>2.520000</td>\n",
       "      <td>5.000000</td>\n",
       "      <td>18.600000</td>\n",
       "      <td>2.000000</td>\n",
       "      <td>7.000000</td>\n",
       "      <td>0.000000</td>\n",
       "      <td>18585.000000</td>\n",
       "      <td>9238.000000</td>\n",
       "      <td>0.000000</td>\n",
       "      <td>288.000000</td>\n",
       "      <td>0.000000</td>\n",
       "      <td>294.000000</td>\n",
       "      <td>45.000000</td>\n",
       "    </tr>\n",
       "    <tr>\n",
       "      <th>50%</th>\n",
       "      <td>9.000000</td>\n",
       "      <td>4.650000e+06</td>\n",
       "      <td>52.000000</td>\n",
       "      <td>2.000000</td>\n",
       "      <td>2.650000</td>\n",
       "      <td>9.000000</td>\n",
       "      <td>30.000000</td>\n",
       "      <td>4.000000</td>\n",
       "      <td>9.100000</td>\n",
       "      <td>1.000000</td>\n",
       "      <td>26726.000000</td>\n",
       "      <td>13098.500000</td>\n",
       "      <td>0.000000</td>\n",
       "      <td>455.000000</td>\n",
       "      <td>1.000000</td>\n",
       "      <td>502.000000</td>\n",
       "      <td>95.000000</td>\n",
       "    </tr>\n",
       "    <tr>\n",
       "      <th>75%</th>\n",
       "      <td>14.000000</td>\n",
       "      <td>6.800000e+06</td>\n",
       "      <td>69.900000</td>\n",
       "      <td>3.000000</td>\n",
       "      <td>2.800000</td>\n",
       "      <td>16.000000</td>\n",
       "      <td>42.300000</td>\n",
       "      <td>8.000000</td>\n",
       "      <td>12.000000</td>\n",
       "      <td>2.000000</td>\n",
       "      <td>37273.000000</td>\n",
       "      <td>16293.000000</td>\n",
       "      <td>1.000000</td>\n",
       "      <td>612.000000</td>\n",
       "      <td>1.000000</td>\n",
       "      <td>729.000000</td>\n",
       "      <td>232.000000</td>\n",
       "    </tr>\n",
       "    <tr>\n",
       "      <th>max</th>\n",
       "      <td>50.000000</td>\n",
       "      <td>7.630000e+08</td>\n",
       "      <td>900.000000</td>\n",
       "      <td>19.000000</td>\n",
       "      <td>100.000000</td>\n",
       "      <td>60.000000</td>\n",
       "      <td>409.700000</td>\n",
       "      <td>33.000000</td>\n",
       "      <td>112.000000</td>\n",
       "      <td>5.000000</td>\n",
       "      <td>84869.000000</td>\n",
       "      <td>65968.000000</td>\n",
       "      <td>3.000000</td>\n",
       "      <td>3190.000000</td>\n",
       "      <td>3.000000</td>\n",
       "      <td>1344.000000</td>\n",
       "      <td>1580.000000</td>\n",
       "    </tr>\n",
       "  </tbody>\n",
       "</table>\n",
       "</div>"
      ],
      "text/plain": [
       "       total_images    last_price    total_area         rooms  ceiling_height  \\\n",
       "count  23699.000000  2.369900e+04  23699.000000  23699.000000    14504.000000   \n",
       "mean       9.858475  6.541549e+06     60.348651      2.070636        2.771499   \n",
       "std        5.682529  1.088701e+07     35.654083      1.078405        1.261056   \n",
       "min        0.000000  1.219000e+04     12.000000      0.000000        1.000000   \n",
       "25%        6.000000  3.400000e+06     40.000000      1.000000        2.520000   \n",
       "50%        9.000000  4.650000e+06     52.000000      2.000000        2.650000   \n",
       "75%       14.000000  6.800000e+06     69.900000      3.000000        2.800000   \n",
       "max       50.000000  7.630000e+08    900.000000     19.000000      100.000000   \n",
       "\n",
       "       floors_total   living_area         floor  kitchen_area       balcony  \\\n",
       "count  23613.000000  21796.000000  23699.000000  21421.000000  12180.000000   \n",
       "mean      10.673824     34.457852      5.892358     10.569807      1.150082   \n",
       "std        6.597173     22.030445      4.885249      5.905438      1.071300   \n",
       "min        1.000000      2.000000      1.000000      1.300000      0.000000   \n",
       "25%        5.000000     18.600000      2.000000      7.000000      0.000000   \n",
       "50%        9.000000     30.000000      4.000000      9.100000      1.000000   \n",
       "75%       16.000000     42.300000      8.000000     12.000000      2.000000   \n",
       "max       60.000000    409.700000     33.000000    112.000000      5.000000   \n",
       "\n",
       "       airports_nearest  city_centers_nearest  parks_around_3000  \\\n",
       "count      18157.000000          18180.000000       18181.000000   \n",
       "mean       28793.672193          14191.277833           0.611408   \n",
       "std        12630.880622           8608.386210           0.802074   \n",
       "min            0.000000            181.000000           0.000000   \n",
       "25%        18585.000000           9238.000000           0.000000   \n",
       "50%        26726.000000          13098.500000           0.000000   \n",
       "75%        37273.000000          16293.000000           1.000000   \n",
       "max        84869.000000          65968.000000           3.000000   \n",
       "\n",
       "       parks_nearest  ponds_around_3000  ponds_nearest  days_exposition  \n",
       "count    8079.000000       18181.000000    9110.000000     20518.000000  \n",
       "mean      490.804555           0.770255     517.980900       180.888634  \n",
       "std       342.317995           0.938346     277.720643       219.727988  \n",
       "min         1.000000           0.000000      13.000000         1.000000  \n",
       "25%       288.000000           0.000000     294.000000        45.000000  \n",
       "50%       455.000000           1.000000     502.000000        95.000000  \n",
       "75%       612.000000           1.000000     729.000000       232.000000  \n",
       "max      3190.000000           3.000000    1344.000000      1580.000000  "
      ]
     },
     "execution_count": 7,
     "metadata": {},
     "output_type": "execute_result"
    }
   ],
   "source": [
    "data.describe()"
   ]
  },
  {
   "cell_type": "markdown",
   "metadata": {},
   "source": [
    "Построим общую гистограмму для всех числовых переменных."
   ]
  },
  {
   "cell_type": "code",
   "execution_count": 8,
   "metadata": {},
   "outputs": [
    {
     "data": {
      "image/png": "[encoded data removed]",
      "text/plain": [
       "<Figure size 1080x1440 with 20 Axes>"
      ]
     },
     "metadata": {
      "needs_background": "light"
     },
     "output_type": "display_data"
    }
   ],
   "source": [
    "data.hist(figsize=(15, 20));"
   ]
  },
  {
   "cell_type": "markdown",
   "metadata": {},
   "source": [
    "Описание данных\n",
    "* `airports_nearest` — расстояние до ближайшего аэропорта в метрах (м)\n",
    "* `balcony` — число балконов\n",
    "* `ceiling_height` — высота потолков (м)\n",
    "* `city_centers_nearest` — расстояние до центра города (м)\n",
    "* `days_exposition` — сколько дней было размещено объявление (от публикации до снятия)\n",
    "* `first_day_exposition` — дата публикации\n",
    "* `floor` — этаж\n",
    "* `floors_total` — всего этажей в доме\n",
    "* `is_apartment` — апартаменты (булев тип)\n",
    "* `kitchen_area` — площадь кухни в квадратных метрах (м²)\n",
    "* `last_price` — цена на момент снятия с публикации\n",
    "* `living_area` — жилая площадь в квадратных метрах (м²)\n",
    "* `locality_name` — название населённого пункта\n",
    "* `open_plan` — свободная планировка (булев тип)\n",
    "* `parks_around_3000` — число парков в радиусе 3 км\n",
    "* `parks_nearest` — расстояние до ближайшего парка (м)\n",
    "* `ponds_around_3000` — число водоёмов в радиусе 3 км\n",
    "* `ponds_nearest` — расстояние до ближайшего водоёма (м)\n",
    "* `rooms` — число комнат\n",
    "* `studio` — квартира-студия (булев тип)\n",
    "* `total_area` — общая площадь квартиры в квадратных метрах (м²)\n",
    "* `total_images` — число фотографий квартиры в объявлении"
   ]
  },
  {
   "cell_type": "markdown",
   "metadata": {},
   "source": [
    "Проверим данные на полные дубли."
   ]
  },
  {
   "cell_type": "code",
   "execution_count": 9,
   "metadata": {},
   "outputs": [
    {
     "data": {
      "text/plain": [
       "0"
      ]
     },
     "execution_count": 9,
     "metadata": {},
     "output_type": "execute_result"
    }
   ],
   "source": [
    "data.duplicated().sum()"
   ]
  },
  {
   "cell_type": "markdown",
   "metadata": {},
   "source": [
    "Вывод: \n",
    "* полных дубликатов в данных нет. Нужно будет проверить еще раз после предобработки данных.\n",
    "* неявные дубликаты будут рассмотрены далее.\n",
    "* в некоторых параметрах существуют пропуски данных. Больше всего пропусков в следующих параметрах: is_apartment, parks_nearest,ponds_nearest,balcony. Более детальный анализ и заполнение пропусков в данных будет выполнен далее.\n",
    "* Для некоторых параметров ('floors_total', 'balcony','parks_around_3000','ponds_around_3000') необходимо изменить тип данных."
   ]
  },
  {
   "cell_type": "markdown",
   "metadata": {},
   "source": [
    "### Предобработка данных"
   ]
  },
  {
   "cell_type": "markdown",
   "metadata": {},
   "source": [
    "#### Поиск и обработка пропусков"
   ]
  },
  {
   "cell_type": "markdown",
   "metadata": {},
   "source": [
    "Проверим данные на наличие пропусков"
   ]
  },
  {
   "cell_type": "code",
   "execution_count": 10,
   "metadata": {},
   "outputs": [
    {
     "data": {
      "text/plain": [
       "total_images                0\n",
       "last_price                  0\n",
       "total_area                  0\n",
       "first_day_exposition        0\n",
       "rooms                       0\n",
       "ceiling_height           9195\n",
       "floors_total               86\n",
       "living_area              1903\n",
       "floor                       0\n",
       "is_apartment            20924\n",
       "studio                      0\n",
       "open_plan                   0\n",
       "kitchen_area             2278\n",
       "balcony                 11519\n",
       "locality_name              49\n",
       "airports_nearest         5542\n",
       "city_centers_nearest     5519\n",
       "parks_around_3000        5518\n",
       "parks_nearest           15620\n",
       "ponds_around_3000        5518\n",
       "ponds_nearest           14589\n",
       "days_exposition          3181\n",
       "dtype: int64"
      ]
     },
     "execution_count": 10,
     "metadata": {},
     "output_type": "execute_result"
    }
   ],
   "source": [
    "data.isna().sum()"
   ]
  },
  {
   "cell_type": "code",
   "execution_count": 11,
   "metadata": {},
   "outputs": [
    {
     "data": {
      "text/plain": [
       "total_images            0.000000\n",
       "last_price              0.000000\n",
       "total_area              0.000000\n",
       "first_day_exposition    0.000000\n",
       "rooms                   0.000000\n",
       "ceiling_height          0.387991\n",
       "floors_total            0.003629\n",
       "living_area             0.080299\n",
       "floor                   0.000000\n",
       "is_apartment            0.882906\n",
       "studio                  0.000000\n",
       "open_plan               0.000000\n",
       "kitchen_area            0.096122\n",
       "balcony                 0.486054\n",
       "locality_name           0.002068\n",
       "airports_nearest        0.233850\n",
       "city_centers_nearest    0.232879\n",
       "parks_around_3000       0.232837\n",
       "parks_nearest           0.659100\n",
       "ponds_around_3000       0.232837\n",
       "ponds_nearest           0.615596\n",
       "days_exposition         0.134225\n",
       "dtype: float64"
      ]
     },
     "execution_count": 11,
     "metadata": {},
     "output_type": "execute_result"
    }
   ],
   "source": [
    "data.isna().sum()/len(data)"
   ]
  },
  {
   "cell_type": "markdown",
   "metadata": {},
   "source": [
    "Не все пропущенные значения влияют на исследование.\n",
    "Постараемся максимально заполнить пропущенные значения, где это возможно."
   ]
  },
  {
   "cell_type": "markdown",
   "metadata": {},
   "source": [
    "Исследуем значения в столбцах с пропусками"
   ]
  },
  {
   "cell_type": "code",
   "execution_count": 12,
   "metadata": {},
   "outputs": [
    {
     "data": {
      "text/plain": [
       "False    2725\n",
       "True       50\n",
       "Name: is_apartment, dtype: int64"
      ]
     },
     "execution_count": 12,
     "metadata": {},
     "output_type": "execute_result"
    }
   ],
   "source": [
    "data['is_apartment'].value_counts()"
   ]
  },
  {
   "cell_type": "code",
   "execution_count": 13,
   "metadata": {},
   "outputs": [
    {
     "data": {
      "text/plain": [
       "1.0    4195\n",
       "0.0    3758\n",
       "2.0    3659\n",
       "5.0     304\n",
       "4.0     183\n",
       "3.0      81\n",
       "Name: balcony, dtype: int64"
      ]
     },
     "execution_count": 13,
     "metadata": {},
     "output_type": "execute_result"
    }
   ],
   "source": [
    "data['balcony'].value_counts()"
   ]
  },
  {
   "cell_type": "code",
   "execution_count": 14,
   "metadata": {},
   "outputs": [
    {
     "data": {
      "text/plain": [
       "0.0    10106\n",
       "1.0     5681\n",
       "2.0     1747\n",
       "3.0      647\n",
       "Name: parks_around_3000, dtype: int64"
      ]
     },
     "execution_count": 14,
     "metadata": {},
     "output_type": "execute_result"
    }
   ],
   "source": [
    "data['parks_around_3000'].value_counts()"
   ]
  },
  {
   "cell_type": "code",
   "execution_count": 15,
   "metadata": {},
   "outputs": [
    {
     "data": {
      "text/plain": [
       "0.0    9071\n",
       "1.0    5717\n",
       "2.0    1892\n",
       "3.0    1501\n",
       "Name: ponds_around_3000, dtype: int64"
      ]
     },
     "execution_count": 15,
     "metadata": {},
     "output_type": "execute_result"
    }
   ],
   "source": [
    "data['ponds_around_3000'].value_counts()"
   ]
  },
  {
   "cell_type": "markdown",
   "metadata": {},
   "source": [
    "1. Логично предположить, что в столбце `is_apartment` можно заменить пропущенные значения, на значение False\n",
    "2. Пропущенные значения в `balcony` логично заменить на 0, поскольку скорее всего отсутствуют балконы.\n",
    "3. Пропущенные значения населённых пунктов (`locality_name`) заполним значениями 'Unknown'\n",
    "4. Так же заполним пропуски в `parks_around_3000`,`ponds_around_3000`,`parks_nearest`,`ponds_nearest` на 0\n",
    "5. Параметр `floors_total` (всего этажей в доме) заполним по значению в `floor` (этаж), даже если это некорректно, поскольку таких пропусков всего 86, то они не окажут влияния на выводы. "
   ]
  },
  {
   "cell_type": "code",
   "execution_count": 16,
   "metadata": {},
   "outputs": [],
   "source": [
    "# перебор названий столбцов в цикле и замена пропущенных значений на 0\n",
    "columns_to_replace = ['balcony','parks_around_3000','ponds_around_3000','parks_nearest','ponds_nearest']\n",
    "\n",
    "for col in columns_to_replace:\n",
    "    data[col] = data[col].fillna(0)\n",
    "    \n",
    "data['is_apartment'] = data['is_apartment'].fillna(False)\n",
    "data['locality_name'] = data['locality_name'].fillna('Unknown')\n",
    "data.loc[data['floors_total'].isna()==True,'floors_total']  = data.loc[data['floors_total'].isna()==True,'floor']"
   ]
  },
  {
   "cell_type": "markdown",
   "metadata": {},
   "source": [
    "Посмотрим где и сколько осталось пропусков, после наших преобразований."
   ]
  },
  {
   "cell_type": "code",
   "execution_count": 17,
   "metadata": {},
   "outputs": [
    {
     "data": {
      "text/plain": [
       "total_images               0\n",
       "last_price                 0\n",
       "total_area                 0\n",
       "first_day_exposition       0\n",
       "rooms                      0\n",
       "ceiling_height          9195\n",
       "floors_total               0\n",
       "living_area             1903\n",
       "floor                      0\n",
       "is_apartment               0\n",
       "studio                     0\n",
       "open_plan                  0\n",
       "kitchen_area            2278\n",
       "balcony                    0\n",
       "locality_name              0\n",
       "airports_nearest        5542\n",
       "city_centers_nearest    5519\n",
       "parks_around_3000          0\n",
       "parks_nearest              0\n",
       "ponds_around_3000          0\n",
       "ponds_nearest              0\n",
       "days_exposition         3181\n",
       "dtype: int64"
      ]
     },
     "execution_count": 17,
     "metadata": {},
     "output_type": "execute_result"
    }
   ],
   "source": [
    "data.isna().sum()"
   ]
  },
  {
   "cell_type": "markdown",
   "metadata": {},
   "source": [
    "Не вижу необходимости в заполнении пропусков в оставшихся переменных.\n",
    "\n",
    "Отмечу некоторые идеи, как можно заполнить пропуски в оставшихся столбцах:\n",
    "* ceiling_height (высота потолков) - можно заполнить пропуски медианным значением.\n",
    "* living_area (жилая площадь) - можно заполнить как доля от total_area (общей площади)\n",
    "* kitchen_area (площадь кухни) - можно заполнить как доля от living_area (жилой площади)"
   ]
  },
  {
   "cell_type": "markdown",
   "metadata": {},
   "source": [
    "#### Типы данных"
   ]
  },
  {
   "cell_type": "markdown",
   "metadata": {},
   "source": [
    "Просмотрев типы данных в каждом столбце, делаем вывод, что в некоторых столбцах данные представлены не в оптимальном виде.\n",
    " "
   ]
  },
  {
   "cell_type": "code",
   "execution_count": 18,
   "metadata": {},
   "outputs": [],
   "source": [
    "#изменяем тип данных\n",
    "data[['floors_total', 'balcony','parks_around_3000','ponds_around_3000']] =\\\n",
    "data[['floors_total', 'balcony','parks_around_3000','ponds_around_3000']].astype(int)"
   ]
  },
  {
   "cell_type": "code",
   "execution_count": 19,
   "metadata": {},
   "outputs": [
    {
     "name": "stdout",
     "output_type": "stream",
     "text": [
      "<class 'pandas.core.frame.DataFrame'>\n",
      "RangeIndex: 23699 entries, 0 to 23698\n",
      "Data columns (total 22 columns):\n",
      " #   Column                Non-Null Count  Dtype  \n",
      "---  ------                --------------  -----  \n",
      " 0   total_images          23699 non-null  int64  \n",
      " 1   last_price            23699 non-null  float64\n",
      " 2   total_area            23699 non-null  float64\n",
      " 3   first_day_exposition  23699 non-null  object \n",
      " 4   rooms                 23699 non-null  int64  \n",
      " 5   ceiling_height        14504 non-null  float64\n",
      " 6   floors_total          23699 non-null  int64  \n",
      " 7   living_area           21796 non-null  float64\n",
      " 8   floor                 23699 non-null  int64  \n",
      " 9   is_apartment          23699 non-null  bool   \n",
      " 10  studio                23699 non-null  bool   \n",
      " 11  open_plan             23699 non-null  bool   \n",
      " 12  kitchen_area          21421 non-null  float64\n",
      " 13  balcony               23699 non-null  int64  \n",
      " 14  locality_name         23699 non-null  object \n",
      " 15  airports_nearest      18157 non-null  float64\n",
      " 16  city_centers_nearest  18180 non-null  float64\n",
      " 17  parks_around_3000     23699 non-null  int64  \n",
      " 18  parks_nearest         23699 non-null  float64\n",
      " 19  ponds_around_3000     23699 non-null  int64  \n",
      " 20  ponds_nearest         23699 non-null  float64\n",
      " 21  days_exposition       20518 non-null  float64\n",
      "dtypes: bool(3), float64(10), int64(7), object(2)\n",
      "memory usage: 3.5+ MB\n"
     ]
    }
   ],
   "source": [
    "data.info()"
   ]
  },
  {
   "cell_type": "markdown",
   "metadata": {},
   "source": [
    "#### Неявные дубликаты"
   ]
  },
  {
   "cell_type": "markdown",
   "metadata": {},
   "source": [
    "Изучим какие уникальные значения представлены в столбце с названиями населённых пунктов `locality_name`"
   ]
  },
  {
   "cell_type": "code",
   "execution_count": 20,
   "metadata": {},
   "outputs": [
    {
     "data": {
      "text/plain": [
       "array(['Unknown', 'Бокситогорск', 'Волосово', 'Волхов', 'Всеволожск',\n",
       "       'Выборг', 'Высоцк', 'Гатчина', 'Зеленогорск', 'Ивангород',\n",
       "       'Каменногорск', 'Кингисепп', 'Кириши', 'Кировск', 'Колпино',\n",
       "       'Коммунар', 'Красное Село', 'Кронштадт', 'Кудрово',\n",
       "       'Лодейное Поле', 'Ломоносов', 'Луга', 'Любань', 'Мурино',\n",
       "       'Никольское', 'Новая Ладога', 'Отрадное', 'Павловск', 'Петергоф',\n",
       "       'Пикалёво', 'Подпорожье', 'Приморск', 'Приозерск', 'Пушкин',\n",
       "       'Санкт-Петербург', 'Светогорск', 'Сертолово', 'Сестрорецк',\n",
       "       'Сланцы', 'Сосновый Бор', 'Сясьстрой', 'Тихвин', 'Тосно',\n",
       "       'Шлиссельбург', 'городской поселок Большая Ижора',\n",
       "       'городской поселок Янино-1', 'городской посёлок Будогощь',\n",
       "       'городской посёлок Виллози', 'городской посёлок Лесогорский',\n",
       "       'городской посёлок Мга', 'городской посёлок Назия',\n",
       "       'городской посёлок Новоселье', 'городской посёлок Павлово',\n",
       "       'городской посёлок Рощино', 'городской посёлок Свирьстрой',\n",
       "       'городской посёлок Советский', 'городской посёлок Фёдоровское',\n",
       "       'городской посёлок Янино-1', 'деревня Агалатово', 'деревня Аро',\n",
       "       'деревня Батово', 'деревня Бегуницы', 'деревня Белогорка',\n",
       "       'деревня Большая Вруда', 'деревня Большая Пустомержа',\n",
       "       'деревня Большие Колпаны', 'деревня Большое Рейзино',\n",
       "       'деревня Большой Сабск', 'деревня Бор', 'деревня Борисова Грива',\n",
       "       'деревня Ваганово', 'деревня Вартемяги', 'деревня Вахнова Кара',\n",
       "       'деревня Выскатка', 'деревня Гарболово', 'деревня Глинка',\n",
       "       'деревня Горбунки', 'деревня Гостилицы', 'деревня Заклинье',\n",
       "       'деревня Заневка', 'деревня Зимитицы', 'деревня Извара',\n",
       "       'деревня Иссад', 'деревня Калитино', 'деревня Кальтино',\n",
       "       'деревня Камышовка', 'деревня Каськово', 'деревня Келози',\n",
       "       'деревня Кипень', 'деревня Кисельня', 'деревня Колтуши',\n",
       "       'деревня Коркино', 'деревня Котлы', 'деревня Кривко',\n",
       "       'деревня Кудрово', 'деревня Кузьмолово', 'деревня Курковицы',\n",
       "       'деревня Куровицы', 'деревня Куттузи', 'деревня Лаврики',\n",
       "       'деревня Лаголово', 'деревня Лампово', 'деревня Лесколово',\n",
       "       'деревня Лопухинка', 'деревня Лупполово',\n",
       "       'деревня Малая Романовка', 'деревня Малое Верево',\n",
       "       'деревня Малое Карлино', 'деревня Малые Колпаны',\n",
       "       'деревня Мануйлово', 'деревня Меньково', 'деревня Мины',\n",
       "       'деревня Мистолово', 'деревня Ненимяки', 'деревня Нижние Осельки',\n",
       "       'деревня Нижняя', 'деревня Низино', 'деревня Новое Девяткино',\n",
       "       'деревня Новолисино', 'деревня Нурма', 'деревня Оржицы',\n",
       "       'деревня Парицы', 'деревня Пельгора', 'деревня Пеники',\n",
       "       'деревня Пижма', 'деревня Пикколово', 'деревня Пудомяги',\n",
       "       'деревня Пустынка', 'деревня Пчева', 'деревня Рабитицы',\n",
       "       'деревня Разбегаево', 'деревня Раздолье', 'деревня Разметелево',\n",
       "       'деревня Рапполово', 'деревня Реброво', 'деревня Русско',\n",
       "       'деревня Сижно', 'деревня Снегирёвка', 'деревня Старая',\n",
       "       'деревня Старая Пустошь', 'деревня Старое Хинколово',\n",
       "       'деревня Старополье', 'деревня Старосиверская',\n",
       "       'деревня Старые Бегуницы', 'деревня Суоранда',\n",
       "       'деревня Сяськелево', 'деревня Тарасово', 'деревня Терпилицы',\n",
       "       'деревня Тихковицы', 'деревня Тойворово', 'деревня Торосово',\n",
       "       'деревня Торошковичи', 'деревня Трубников Бор',\n",
       "       'деревня Фалилеево', 'деревня Фёдоровское', 'деревня Хапо-Ое',\n",
       "       'деревня Хязельки', 'деревня Чудской Бор', 'деревня Шпаньково',\n",
       "       'деревня Щеглово', 'деревня Юкки', 'деревня Ялгино',\n",
       "       'деревня Яльгелево', 'деревня Ям-Тесово',\n",
       "       'коттеджный поселок Кивеннапа Север', 'коттеджный поселок Счастье',\n",
       "       'коттеджный посёлок Лесное', 'поселок Аннино', 'поселок Барышево',\n",
       "       'поселок Бугры', 'поселок Возрождение', 'поселок Войсковицы',\n",
       "       'поселок Володарское', 'поселок Гаврилово', 'поселок Гарболово',\n",
       "       'поселок Гладкое', 'поселок Глажево', 'поселок Глебычево',\n",
       "       'поселок Гончарово', 'поселок Громово', 'поселок Дружноселье',\n",
       "       'поселок Елизаветино', 'поселок Жилгородок', 'поселок Жилпосёлок',\n",
       "       'поселок Житково', 'поселок Заводской', 'поселок Запорожское',\n",
       "       'поселок Зимитицы', 'поселок Ильичёво', 'поселок Калитино',\n",
       "       'поселок Каложицы', 'поселок Кингисеппский', 'поселок Кирпичное',\n",
       "       'поселок Кобралово', 'поселок Кобринское', 'поселок Коммунары',\n",
       "       'поселок Коробицыно', 'поселок Котельский',\n",
       "       'поселок Красная Долина', 'поселок Красносельское',\n",
       "       'поселок Лесное', 'поселок Лисий Нос', 'поселок Лукаши',\n",
       "       'поселок Любань', 'поселок Мельниково', 'поселок Мичуринское',\n",
       "       'поселок Молодцово', 'поселок Мурино', 'поселок Новый Свет',\n",
       "       'поселок Новый Учхоз', 'поселок Оредеж',\n",
       "       'поселок Пансионат Зелёный Бор', 'поселок Первомайское',\n",
       "       'поселок Перово', 'поселок Петровское', 'поселок Победа',\n",
       "       'поселок Поляны', 'поселок Почап', 'поселок Починок',\n",
       "       'поселок Пушное', 'поселок Пчевжа', 'поселок Рабитицы',\n",
       "       'поселок Романовка', 'поселок Ромашки', 'поселок Рябово',\n",
       "       'поселок Севастьяново', 'поселок Селезнёво', 'поселок Сельцо',\n",
       "       'поселок Семиозерье', 'поселок Семрино', 'поселок Серебрянский',\n",
       "       'поселок Совхозный', 'поселок Старая Малукса',\n",
       "       'поселок Стеклянный', 'поселок Сумино', 'поселок Суходолье',\n",
       "       'поселок Тельмана', 'поселок Терволово', 'поселок Торковичи',\n",
       "       'поселок Тёсово-4', 'поселок Углово', 'поселок Усть-Луга',\n",
       "       'поселок Ушаки', 'поселок Цвелодубово', 'поселок Цвылёво',\n",
       "       'поселок городского типа Большая Ижора',\n",
       "       'поселок городского типа Вырица',\n",
       "       'поселок городского типа Дружная Горка',\n",
       "       'поселок городского типа Дубровка',\n",
       "       'поселок городского типа Ефимовский',\n",
       "       'поселок городского типа Кондратьево',\n",
       "       'поселок городского типа Красный Бор',\n",
       "       'поселок городского типа Кузьмоловский',\n",
       "       'поселок городского типа Лебяжье',\n",
       "       'поселок городского типа Лесогорский',\n",
       "       'поселок городского типа Назия',\n",
       "       'поселок городского типа Никольский',\n",
       "       'поселок городского типа Приладожский',\n",
       "       'поселок городского типа Рахья', 'поселок городского типа Рощино',\n",
       "       'поселок городского типа Рябово',\n",
       "       'поселок городского типа Синявино',\n",
       "       'поселок городского типа Советский',\n",
       "       'поселок городского типа Токсово',\n",
       "       'поселок городского типа Форносово',\n",
       "       'поселок городского типа имени Свердлова',\n",
       "       'поселок станции Вещево', 'поселок станции Корнево',\n",
       "       'поселок станции Лужайка', 'поселок станции Приветнинское',\n",
       "       'посёлок Александровская', 'посёлок Алексеевка', 'посёлок Аннино',\n",
       "       'посёлок Белоостров', 'посёлок Бугры', 'посёлок Возрождение',\n",
       "       'посёлок Войскорово', 'посёлок Высокоключевой',\n",
       "       'посёлок Гаврилово', 'посёлок Дзержинского', 'посёлок Жилгородок',\n",
       "       'посёлок Ильичёво', 'посёлок Кикерино', 'посёлок Кобралово',\n",
       "       'посёлок Коробицыно', 'посёлок Левашово', 'посёлок Ленинское',\n",
       "       'посёлок Лисий Нос', 'посёлок Мельниково', 'посёлок Металлострой',\n",
       "       'посёлок Мичуринское', 'посёлок Молодёжное', 'посёлок Мурино',\n",
       "       'посёлок Мыза-Ивановка', 'посёлок Новогорелово',\n",
       "       'посёлок Новый Свет', 'посёлок Пансионат Зелёный Бор',\n",
       "       'посёлок Парголово', 'посёлок Перово', 'посёлок Песочный',\n",
       "       'посёлок Петро-Славянка', 'посёлок Петровское',\n",
       "       'посёлок Платформа 69-й километр', 'посёлок Плодовое',\n",
       "       'посёлок Плоское', 'посёлок Победа', 'посёлок Поляны',\n",
       "       'посёлок Понтонный', 'посёлок Пригородный', 'посёлок Пудость',\n",
       "       'посёлок Репино', 'посёлок Ропша', 'посёлок Сапёрное',\n",
       "       'посёлок Сапёрный', 'посёлок Сосново', 'посёлок Старая Малукса',\n",
       "       'посёлок Стеклянный', 'посёлок Стрельна', 'посёлок Суйда',\n",
       "       'посёлок Сумино', 'посёлок Тельмана', 'посёлок Терволово',\n",
       "       'посёлок Торфяное', 'посёлок Усть-Ижора', 'посёлок Усть-Луга',\n",
       "       'посёлок Форт Красная Горка', 'посёлок Шугозеро', 'посёлок Шушары',\n",
       "       'посёлок Щеглово', 'посёлок городского типа Важины',\n",
       "       'посёлок городского типа Вознесенье',\n",
       "       'посёлок городского типа Вырица',\n",
       "       'посёлок городского типа Красный Бор',\n",
       "       'посёлок городского типа Кузнечное',\n",
       "       'посёлок городского типа Кузьмоловский',\n",
       "       'посёлок городского типа Лебяжье', 'посёлок городского типа Мга',\n",
       "       'посёлок городского типа Павлово',\n",
       "       'посёлок городского типа Рощино', 'посёлок городского типа Рябово',\n",
       "       'посёлок городского типа Сиверский',\n",
       "       'посёлок городского типа Тайцы', 'посёлок городского типа Токсово',\n",
       "       'посёлок городского типа Ульяновка',\n",
       "       'посёлок городского типа Форносово',\n",
       "       'посёлок городского типа имени Морозова',\n",
       "       'посёлок городского типа имени Свердлова',\n",
       "       'посёлок при железнодорожной станции Вещево',\n",
       "       'посёлок при железнодорожной станции Приветнинское',\n",
       "       'посёлок станции Громово', 'посёлок станции Свирь',\n",
       "       'садоводческое некоммерческое товарищество Лесная Поляна',\n",
       "       'садовое товарищество Новая Ропша',\n",
       "       'садовое товарищество Приладожский', 'садовое товарищество Рахья',\n",
       "       'садовое товарищество Садко', 'село Копорье', 'село Никольское',\n",
       "       'село Павлово', 'село Паша', 'село Путилово', 'село Рождествено',\n",
       "       'село Русско-Высоцкое', 'село Старая Ладога', 'село Шум'],\n",
       "      dtype=object)"
      ]
     },
     "execution_count": 20,
     "metadata": {},
     "output_type": "execute_result"
    }
   ],
   "source": [
    "data['locality_name'].sort_values().unique()"
   ]
  },
  {
   "cell_type": "markdown",
   "metadata": {},
   "source": [
    "Помимо `е` и `ё` в слове `поселок` в списке видим населенные пункты, которые дублируются в разном написании:\n",
    "* `поселок Мурино` и `Мурино`\n",
    "* `деревня Кудрово` и `Кудрово`"
   ]
  },
  {
   "cell_type": "code",
   "execution_count": 21,
   "metadata": {},
   "outputs": [],
   "source": [
    "data['locality_name'] = data['locality_name'].str.replace('поселок', 'посёлок')"
   ]
  },
  {
   "cell_type": "code",
   "execution_count": 22,
   "metadata": {},
   "outputs": [],
   "source": [
    "def upper_word(a):\n",
    "    return_str = ''\n",
    "    for i in a:\n",
    "        if i.isupper():\n",
    "            index = a.index(i)\n",
    "            return a[index:]"
   ]
  },
  {
   "cell_type": "code",
   "execution_count": 23,
   "metadata": {},
   "outputs": [],
   "source": [
    "data['locality_name_short'] = data['locality_name'].apply(upper_word)\n",
    "data['locality_name'] = data['locality_name'].replace('Мурино', 'посёлок Мурино')\n",
    "data['locality_name'] = data['locality_name'].replace('Кудрово', 'деревня Кудрово')"
   ]
  },
  {
   "cell_type": "code",
   "execution_count": 24,
   "metadata": {},
   "outputs": [
    {
     "data": {
      "text/plain": [
       "Санкт-Петербург                    15721\n",
       "посёлок Мурино                       590\n",
       "деревня Кудрово                      472\n",
       "посёлок Шушары                       440\n",
       "Всеволожск                           398\n",
       "                                   ...  \n",
       "деревня Куровицы                       1\n",
       "деревня Пустынка                       1\n",
       "посёлок Жилпосёлок                     1\n",
       "посёлок Платформа 69-й километр        1\n",
       "посёлок Почап                          1\n",
       "Name: locality_name, Length: 329, dtype: int64"
      ]
     },
     "execution_count": 24,
     "metadata": {},
     "output_type": "execute_result"
    }
   ],
   "source": [
    "data['locality_name'].value_counts()"
   ]
  },
  {
   "cell_type": "code",
   "execution_count": 25,
   "metadata": {},
   "outputs": [
    {
     "data": {
      "text/plain": [
       "Санкт-Петербург    15721\n",
       "Мурино               590\n",
       "Кудрово              472\n",
       "Шушары               440\n",
       "Всеволожск           398\n",
       "                   ...  \n",
       "Куровицы               1\n",
       "Семиозерье             1\n",
       "Лужайка                1\n",
       "Большой Сабск          1\n",
       "Котлы                  1\n",
       "Name: locality_name_short, Length: 306, dtype: int64"
      ]
     },
     "execution_count": 25,
     "metadata": {},
     "output_type": "execute_result"
    }
   ],
   "source": [
    "data['locality_name_short'].value_counts()"
   ]
  },
  {
   "cell_type": "markdown",
   "metadata": {},
   "source": [
    "#### Редкие и выбивающиеся значения."
   ]
  },
  {
   "cell_type": "code",
   "execution_count": 26,
   "metadata": {},
   "outputs": [
    {
     "data": {
      "text/plain": [
       "array([  1.  ,   1.2 ,   1.75,   2.  ,   2.2 ,   2.25,   2.3 ,   2.34,\n",
       "         2.4 ,   2.45,   2.46,   2.47,   2.48,   2.49,   2.5 ,   2.51,\n",
       "         2.52,   2.53,   2.54,   2.55,   2.56,   2.57,   2.58,   2.59,\n",
       "         2.6 ,   2.61,   2.62,   2.63,   2.64,   2.65,   2.66,   2.67,\n",
       "         2.68,   2.69,   2.7 ,   2.71,   2.72,   2.73,   2.74,   2.75,\n",
       "         2.76,   2.77,   2.78,   2.79,   2.8 ,   2.81,   2.82,   2.83,\n",
       "         2.84,   2.85,   2.86,   2.87,   2.88,   2.89,   2.9 ,   2.91,\n",
       "         2.92,   2.93,   2.94,   2.95,   2.96,   2.97,   2.98,   2.99,\n",
       "         3.  ,   3.01,   3.02,   3.03,   3.04,   3.05,   3.06,   3.07,\n",
       "         3.08,   3.09,   3.1 ,   3.11,   3.12,   3.13,   3.14,   3.15,\n",
       "         3.16,   3.17,   3.18,   3.2 ,   3.21,   3.22,   3.23,   3.24,\n",
       "         3.25,   3.26,   3.27,   3.28,   3.29,   3.3 ,   3.31,   3.32,\n",
       "         3.33,   3.34,   3.35,   3.36,   3.37,   3.38,   3.39,   3.4 ,\n",
       "         3.42,   3.43,   3.44,   3.45,   3.46,   3.47,   3.48,   3.49,\n",
       "         3.5 ,   3.51,   3.52,   3.53,   3.54,   3.55,   3.56,   3.57,\n",
       "         3.58,   3.59,   3.6 ,   3.62,   3.63,   3.65,   3.66,   3.67,\n",
       "         3.68,   3.69,   3.7 ,   3.75,   3.76,   3.78,   3.8 ,   3.82,\n",
       "         3.83,   3.84,   3.85,   3.86,   3.87,   3.88,   3.9 ,   3.93,\n",
       "         3.95,   3.98,   4.  ,   4.06,   4.1 ,   4.14,   4.15,   4.19,\n",
       "         4.2 ,   4.25,   4.3 ,   4.37,   4.4 ,   4.45,   4.5 ,   4.65,\n",
       "         4.7 ,   4.8 ,   4.9 ,   5.  ,   5.2 ,   5.3 ,   5.5 ,   5.6 ,\n",
       "         5.8 ,   6.  ,   8.  ,   8.3 ,  10.3 ,  14.  ,  20.  ,  22.6 ,\n",
       "        24.  ,  25.  ,  26.  ,  27.  ,  27.5 ,  32.  , 100.  ,    nan])"
      ]
     },
     "execution_count": 26,
     "metadata": {},
     "output_type": "execute_result"
    }
   ],
   "source": [
    "data['ceiling_height'].sort_values().unique()"
   ]
  },
  {
   "cell_type": "markdown",
   "metadata": {},
   "source": [
    "Ознакомившись с уникальными значениями высоты потолков `ceiling_height`, логично предположить что значения от 20 до 100, нужно разделить на 10."
   ]
  },
  {
   "cell_type": "code",
   "execution_count": 27,
   "metadata": {},
   "outputs": [],
   "source": [
    "data.loc[data['ceiling_height']>=20,'ceiling_height']  = data.loc[data['ceiling_height']>=20,'ceiling_height']/10"
   ]
  },
  {
   "cell_type": "code",
   "execution_count": 28,
   "metadata": {},
   "outputs": [
    {
     "data": {
      "text/plain": [
       "array([ 1.  ,  1.2 ,  1.75,  2.  ,  2.2 ,  2.25,  2.26,  2.3 ,  2.34,\n",
       "        2.4 ,  2.45,  2.46,  2.47,  2.48,  2.49,  2.5 ,  2.51,  2.52,\n",
       "        2.53,  2.54,  2.55,  2.56,  2.57,  2.58,  2.59,  2.6 ,  2.61,\n",
       "        2.62,  2.63,  2.64,  2.65,  2.66,  2.67,  2.68,  2.69,  2.7 ,\n",
       "        2.71,  2.72,  2.73,  2.74,  2.75,  2.76,  2.77,  2.78,  2.79,\n",
       "        2.8 ,  2.81,  2.82,  2.83,  2.84,  2.85,  2.86,  2.87,  2.88,\n",
       "        2.89,  2.9 ,  2.91,  2.92,  2.93,  2.94,  2.95,  2.96,  2.97,\n",
       "        2.98,  2.99,  3.  ,  3.01,  3.02,  3.03,  3.04,  3.05,  3.06,\n",
       "        3.07,  3.08,  3.09,  3.1 ,  3.11,  3.12,  3.13,  3.14,  3.15,\n",
       "        3.16,  3.17,  3.18,  3.2 ,  3.21,  3.22,  3.23,  3.24,  3.25,\n",
       "        3.26,  3.27,  3.28,  3.29,  3.3 ,  3.31,  3.32,  3.33,  3.34,\n",
       "        3.35,  3.36,  3.37,  3.38,  3.39,  3.4 ,  3.42,  3.43,  3.44,\n",
       "        3.45,  3.46,  3.47,  3.48,  3.49,  3.5 ,  3.51,  3.52,  3.53,\n",
       "        3.54,  3.55,  3.56,  3.57,  3.58,  3.59,  3.6 ,  3.62,  3.63,\n",
       "        3.65,  3.66,  3.67,  3.68,  3.69,  3.7 ,  3.75,  3.76,  3.78,\n",
       "        3.8 ,  3.82,  3.83,  3.84,  3.85,  3.86,  3.87,  3.88,  3.9 ,\n",
       "        3.93,  3.95,  3.98,  4.  ,  4.06,  4.1 ,  4.14,  4.15,  4.19,\n",
       "        4.2 ,  4.25,  4.3 ,  4.37,  4.4 ,  4.45,  4.5 ,  4.65,  4.7 ,\n",
       "        4.8 ,  4.9 ,  5.  ,  5.2 ,  5.3 ,  5.5 ,  5.6 ,  5.8 ,  6.  ,\n",
       "        8.  ,  8.3 , 10.  , 10.3 , 14.  ,   nan])"
      ]
     },
     "execution_count": 28,
     "metadata": {},
     "output_type": "execute_result"
    }
   ],
   "source": [
    "data['ceiling_height'].sort_values().unique()"
   ]
  },
  {
   "cell_type": "markdown",
   "metadata": {},
   "source": [
    "Скорее всего значения меньше 2-х метров и более 4-х являются аномальными и некорректными, но сейчас мы не будем их менять, а вернёмся к этому ниже."
   ]
  },
  {
   "cell_type": "markdown",
   "metadata": {},
   "source": [
    "После всех изменений проверяем данные на полные дубликаты"
   ]
  },
  {
   "cell_type": "code",
   "execution_count": 29,
   "metadata": {},
   "outputs": [
    {
     "data": {
      "text/plain": [
       "0"
      ]
     },
     "execution_count": 29,
     "metadata": {},
     "output_type": "execute_result"
    }
   ],
   "source": [
    "data.duplicated().sum()"
   ]
  },
  {
   "cell_type": "markdown",
   "metadata": {},
   "source": [
    "Полных дубликатов в данных нет."
   ]
  },
  {
   "cell_type": "markdown",
   "metadata": {},
   "source": [
    "Итог: Мы выполнили первичную предобработку данных, вдальнейшем, по необходимости будем изменять данные."
   ]
  },
  {
   "cell_type": "markdown",
   "metadata": {},
   "source": [
    "### Добавьление в таблицу новых столбцов"
   ]
  },
  {
   "cell_type": "code",
   "execution_count": 30,
   "metadata": {},
   "outputs": [],
   "source": [
    "#цена одного квадратного метра\n",
    "data['price_on_area'] = round(data['last_price']/data['total_area'], 1)"
   ]
  },
  {
   "cell_type": "code",
   "execution_count": 31,
   "metadata": {},
   "outputs": [],
   "source": [
    "#день недели публикации объявления (0 — понедельник, 1 — вторник и так далее);\n",
    "data['day_of_week_exposition'] = pd.DatetimeIndex(data=data['first_day_exposition']).dayofweek"
   ]
  },
  {
   "cell_type": "code",
   "execution_count": 32,
   "metadata": {},
   "outputs": [],
   "source": [
    "#месяц публикации объявления;\n",
    "data['month_exposition'] = pd.DatetimeIndex(data=data['first_day_exposition']).month"
   ]
  },
  {
   "cell_type": "code",
   "execution_count": 33,
   "metadata": {},
   "outputs": [],
   "source": [
    "#год публикации объявления;\n",
    "data['year_exposition'] = pd.DatetimeIndex(data=data['first_day_exposition']).year"
   ]
  },
  {
   "cell_type": "code",
   "execution_count": 34,
   "metadata": {},
   "outputs": [],
   "source": [
    "#тип этажа квартиры (значения — «‎первый», «последний», «другой»);\n",
    "def type_flor(row):\n",
    "    if row['floors_total'] == row['floor']:\n",
    "        return 'последний'\n",
    "    elif row['floor'] == 1:\n",
    "        return 'первый'\n",
    "    else:\n",
    "        return 'другой'\n",
    "\n",
    "data['floor_type'] = data.apply(type_flor, axis=1)"
   ]
  },
  {
   "cell_type": "code",
   "execution_count": 35,
   "metadata": {},
   "outputs": [],
   "source": [
    "#расстояние до центра города в километрах (переведите из м в км и округлите до целых значений)\n",
    "data['city_centers_nearest_km'] = round(data['city_centers_nearest']/1000)"
   ]
  },
  {
   "cell_type": "code",
   "execution_count": 36,
   "metadata": {},
   "outputs": [
    {
     "data": {
      "text/html": [
       "<div>\n",
       "<style scoped>\n",
       "    .dataframe tbody tr th:only-of-type {\n",
       "        vertical-align: middle;\n",
       "    }\n",
       "\n",
       "    .dataframe tbody tr th {\n",
       "        vertical-align: top;\n",
       "    }\n",
       "\n",
       "    .dataframe thead th {\n",
       "        text-align: right;\n",
       "    }\n",
       "</style>\n",
       "<table border=\"1\" class=\"dataframe\">\n",
       "  <thead>\n",
       "    <tr style=\"text-align: right;\">\n",
       "      <th></th>\n",
       "      <th>total_images</th>\n",
       "      <th>last_price</th>\n",
       "      <th>total_area</th>\n",
       "      <th>first_day_exposition</th>\n",
       "      <th>rooms</th>\n",
       "      <th>ceiling_height</th>\n",
       "      <th>floors_total</th>\n",
       "      <th>living_area</th>\n",
       "      <th>floor</th>\n",
       "      <th>is_apartment</th>\n",
       "      <th>studio</th>\n",
       "      <th>open_plan</th>\n",
       "      <th>kitchen_area</th>\n",
       "      <th>balcony</th>\n",
       "      <th>locality_name</th>\n",
       "      <th>airports_nearest</th>\n",
       "      <th>city_centers_nearest</th>\n",
       "      <th>parks_around_3000</th>\n",
       "      <th>parks_nearest</th>\n",
       "      <th>ponds_around_3000</th>\n",
       "      <th>ponds_nearest</th>\n",
       "      <th>days_exposition</th>\n",
       "      <th>locality_name_short</th>\n",
       "      <th>price_on_area</th>\n",
       "      <th>day_of_week_exposition</th>\n",
       "      <th>month_exposition</th>\n",
       "      <th>year_exposition</th>\n",
       "      <th>floor_type</th>\n",
       "      <th>city_centers_nearest_km</th>\n",
       "    </tr>\n",
       "  </thead>\n",
       "  <tbody>\n",
       "    <tr>\n",
       "      <th>0</th>\n",
       "      <td>20</td>\n",
       "      <td>13000000.0</td>\n",
       "      <td>108.0</td>\n",
       "      <td>2019-03-07T00:00:00</td>\n",
       "      <td>3</td>\n",
       "      <td>2.70</td>\n",
       "      <td>16</td>\n",
       "      <td>51.0</td>\n",
       "      <td>8</td>\n",
       "      <td>False</td>\n",
       "      <td>False</td>\n",
       "      <td>False</td>\n",
       "      <td>25.0</td>\n",
       "      <td>0</td>\n",
       "      <td>Санкт-Петербург</td>\n",
       "      <td>18863.0</td>\n",
       "      <td>16028.0</td>\n",
       "      <td>1</td>\n",
       "      <td>482.0</td>\n",
       "      <td>2</td>\n",
       "      <td>755.0</td>\n",
       "      <td>NaN</td>\n",
       "      <td>Санкт-Петербург</td>\n",
       "      <td>120370.4</td>\n",
       "      <td>3</td>\n",
       "      <td>3</td>\n",
       "      <td>2019</td>\n",
       "      <td>другой</td>\n",
       "      <td>16.0</td>\n",
       "    </tr>\n",
       "    <tr>\n",
       "      <th>1</th>\n",
       "      <td>7</td>\n",
       "      <td>3350000.0</td>\n",
       "      <td>40.4</td>\n",
       "      <td>2018-12-04T00:00:00</td>\n",
       "      <td>1</td>\n",
       "      <td>NaN</td>\n",
       "      <td>11</td>\n",
       "      <td>18.6</td>\n",
       "      <td>1</td>\n",
       "      <td>False</td>\n",
       "      <td>False</td>\n",
       "      <td>False</td>\n",
       "      <td>11.0</td>\n",
       "      <td>2</td>\n",
       "      <td>посёлок Шушары</td>\n",
       "      <td>12817.0</td>\n",
       "      <td>18603.0</td>\n",
       "      <td>0</td>\n",
       "      <td>0.0</td>\n",
       "      <td>0</td>\n",
       "      <td>0.0</td>\n",
       "      <td>81.0</td>\n",
       "      <td>Шушары</td>\n",
       "      <td>82920.8</td>\n",
       "      <td>1</td>\n",
       "      <td>12</td>\n",
       "      <td>2018</td>\n",
       "      <td>первый</td>\n",
       "      <td>19.0</td>\n",
       "    </tr>\n",
       "    <tr>\n",
       "      <th>2</th>\n",
       "      <td>10</td>\n",
       "      <td>5196000.0</td>\n",
       "      <td>56.0</td>\n",
       "      <td>2015-08-20T00:00:00</td>\n",
       "      <td>2</td>\n",
       "      <td>NaN</td>\n",
       "      <td>5</td>\n",
       "      <td>34.3</td>\n",
       "      <td>4</td>\n",
       "      <td>False</td>\n",
       "      <td>False</td>\n",
       "      <td>False</td>\n",
       "      <td>8.3</td>\n",
       "      <td>0</td>\n",
       "      <td>Санкт-Петербург</td>\n",
       "      <td>21741.0</td>\n",
       "      <td>13933.0</td>\n",
       "      <td>1</td>\n",
       "      <td>90.0</td>\n",
       "      <td>2</td>\n",
       "      <td>574.0</td>\n",
       "      <td>558.0</td>\n",
       "      <td>Санкт-Петербург</td>\n",
       "      <td>92785.7</td>\n",
       "      <td>3</td>\n",
       "      <td>8</td>\n",
       "      <td>2015</td>\n",
       "      <td>другой</td>\n",
       "      <td>14.0</td>\n",
       "    </tr>\n",
       "    <tr>\n",
       "      <th>3</th>\n",
       "      <td>0</td>\n",
       "      <td>64900000.0</td>\n",
       "      <td>159.0</td>\n",
       "      <td>2015-07-24T00:00:00</td>\n",
       "      <td>3</td>\n",
       "      <td>NaN</td>\n",
       "      <td>14</td>\n",
       "      <td>NaN</td>\n",
       "      <td>9</td>\n",
       "      <td>False</td>\n",
       "      <td>False</td>\n",
       "      <td>False</td>\n",
       "      <td>NaN</td>\n",
       "      <td>0</td>\n",
       "      <td>Санкт-Петербург</td>\n",
       "      <td>28098.0</td>\n",
       "      <td>6800.0</td>\n",
       "      <td>2</td>\n",
       "      <td>84.0</td>\n",
       "      <td>3</td>\n",
       "      <td>234.0</td>\n",
       "      <td>424.0</td>\n",
       "      <td>Санкт-Петербург</td>\n",
       "      <td>408176.1</td>\n",
       "      <td>4</td>\n",
       "      <td>7</td>\n",
       "      <td>2015</td>\n",
       "      <td>другой</td>\n",
       "      <td>7.0</td>\n",
       "    </tr>\n",
       "    <tr>\n",
       "      <th>4</th>\n",
       "      <td>2</td>\n",
       "      <td>10000000.0</td>\n",
       "      <td>100.0</td>\n",
       "      <td>2018-06-19T00:00:00</td>\n",
       "      <td>2</td>\n",
       "      <td>3.03</td>\n",
       "      <td>14</td>\n",
       "      <td>32.0</td>\n",
       "      <td>13</td>\n",
       "      <td>False</td>\n",
       "      <td>False</td>\n",
       "      <td>False</td>\n",
       "      <td>41.0</td>\n",
       "      <td>0</td>\n",
       "      <td>Санкт-Петербург</td>\n",
       "      <td>31856.0</td>\n",
       "      <td>8098.0</td>\n",
       "      <td>2</td>\n",
       "      <td>112.0</td>\n",
       "      <td>1</td>\n",
       "      <td>48.0</td>\n",
       "      <td>121.0</td>\n",
       "      <td>Санкт-Петербург</td>\n",
       "      <td>100000.0</td>\n",
       "      <td>1</td>\n",
       "      <td>6</td>\n",
       "      <td>2018</td>\n",
       "      <td>другой</td>\n",
       "      <td>8.0</td>\n",
       "    </tr>\n",
       "  </tbody>\n",
       "</table>\n",
       "</div>"
      ],
      "text/plain": [
       "   total_images  last_price  total_area first_day_exposition  rooms  \\\n",
       "0            20  13000000.0       108.0  2019-03-07T00:00:00      3   \n",
       "1             7   3350000.0        40.4  2018-12-04T00:00:00      1   \n",
       "2            10   5196000.0        56.0  2015-08-20T00:00:00      2   \n",
       "3             0  64900000.0       159.0  2015-07-24T00:00:00      3   \n",
       "4             2  10000000.0       100.0  2018-06-19T00:00:00      2   \n",
       "\n",
       "   ceiling_height  floors_total  living_area  floor  is_apartment  studio  \\\n",
       "0            2.70            16         51.0      8         False   False   \n",
       "1             NaN            11         18.6      1         False   False   \n",
       "2             NaN             5         34.3      4         False   False   \n",
       "3             NaN            14          NaN      9         False   False   \n",
       "4            3.03            14         32.0     13         False   False   \n",
       "\n",
       "   open_plan  kitchen_area  balcony    locality_name  airports_nearest  \\\n",
       "0      False          25.0        0  Санкт-Петербург           18863.0   \n",
       "1      False          11.0        2   посёлок Шушары           12817.0   \n",
       "2      False           8.3        0  Санкт-Петербург           21741.0   \n",
       "3      False           NaN        0  Санкт-Петербург           28098.0   \n",
       "4      False          41.0        0  Санкт-Петербург           31856.0   \n",
       "\n",
       "   city_centers_nearest  parks_around_3000  parks_nearest  ponds_around_3000  \\\n",
       "0               16028.0                  1          482.0                  2   \n",
       "1               18603.0                  0            0.0                  0   \n",
       "2               13933.0                  1           90.0                  2   \n",
       "3                6800.0                  2           84.0                  3   \n",
       "4                8098.0                  2          112.0                  1   \n",
       "\n",
       "   ponds_nearest  days_exposition locality_name_short  price_on_area  \\\n",
       "0          755.0              NaN     Санкт-Петербург       120370.4   \n",
       "1            0.0             81.0              Шушары        82920.8   \n",
       "2          574.0            558.0     Санкт-Петербург        92785.7   \n",
       "3          234.0            424.0     Санкт-Петербург       408176.1   \n",
       "4           48.0            121.0     Санкт-Петербург       100000.0   \n",
       "\n",
       "   day_of_week_exposition  month_exposition  year_exposition floor_type  \\\n",
       "0                       3                 3             2019     другой   \n",
       "1                       1                12             2018     первый   \n",
       "2                       3                 8             2015     другой   \n",
       "3                       4                 7             2015     другой   \n",
       "4                       1                 6             2018     другой   \n",
       "\n",
       "   city_centers_nearest_km  \n",
       "0                     16.0  \n",
       "1                     19.0  \n",
       "2                     14.0  \n",
       "3                      7.0  \n",
       "4                      8.0  "
      ]
     },
     "execution_count": 36,
     "metadata": {},
     "output_type": "execute_result"
    }
   ],
   "source": [
    "data.head()"
   ]
  },
  {
   "cell_type": "markdown",
   "metadata": {},
   "source": [
    "### Исследовательский анализ данных"
   ]
  },
  {
   "cell_type": "markdown",
   "metadata": {},
   "source": [
    "#### Общая площадь"
   ]
  },
  {
   "cell_type": "code",
   "execution_count": 37,
   "metadata": {},
   "outputs": [
    {
     "data": {
      "text/plain": [
       "count    23699.000000\n",
       "mean        60.348651\n",
       "std         35.654083\n",
       "min         12.000000\n",
       "25%         40.000000\n",
       "50%         52.000000\n",
       "75%         69.900000\n",
       "max        900.000000\n",
       "Name: total_area, dtype: float64"
      ]
     },
     "execution_count": 37,
     "metadata": {},
     "output_type": "execute_result"
    }
   ],
   "source": [
    "data['total_area'].describe()"
   ]
  },
  {
   "cell_type": "code",
   "execution_count": 38,
   "metadata": {},
   "outputs": [
    {
     "data": {
      "text/plain": [
       "52.0"
      ]
     },
     "execution_count": 38,
     "metadata": {},
     "output_type": "execute_result"
    }
   ],
   "source": [
    "data['total_area'].median()"
   ]
  },
  {
   "cell_type": "code",
   "execution_count": 39,
   "metadata": {},
   "outputs": [
    {
     "data": {
      "text/plain": [
       "0    45.0\n",
       "dtype: float64"
      ]
     },
     "execution_count": 39,
     "metadata": {},
     "output_type": "execute_result"
    }
   ],
   "source": [
    "data['total_area'].mode()"
   ]
  },
  {
   "cell_type": "code",
   "execution_count": 40,
   "metadata": {},
   "outputs": [
    {
     "data": {
      "image/png": "[encoded data removed]",
      "text/plain": [
       "<Figure size 432x288 with 1 Axes>"
      ]
     },
     "metadata": {
      "needs_background": "light"
     },
     "output_type": "display_data"
    }
   ],
   "source": [
    "plt.ylim(0, 150)\n",
    "data.boxplot('total_area',figsize = (15, 10))\n",
    "plt.show()"
   ]
  },
  {
   "cell_type": "markdown",
   "metadata": {},
   "source": [
    "«Усы» простираются влево и вправо от границ ящика на расстояние, равное\n",
    "1,5 межквартильным размахам (IQR). В размах «усов» попадают нормальные\n",
    "значения, а за пределами находятся выбросы, изображённые точками.\n",
    "Межквартильный размахам (IQR) = Q3 - Q1 = 70-40 = 30\n",
    "В размах «усов» попадают нормальные\n",
    "значения, а за пределами находятся выбросы.\n",
    "Таким образом, нас интересуют значений от 12 до 115 м2"
   ]
  },
  {
   "cell_type": "code",
   "execution_count": 41,
   "metadata": {},
   "outputs": [
    {
     "data": {
      "image/png": "[encoded data removed]",
      "text/plain": [
       "<Figure size 432x288 with 1 Axes>"
      ]
     },
     "metadata": {
      "needs_background": "light"
     },
     "output_type": "display_data"
    },
    {
     "data": {
      "image/png": "[encoded data removed]",
      "text/plain": [
       "<Figure size 432x288 with 1 Axes>"
      ]
     },
     "metadata": {
      "needs_background": "light"
     },
     "output_type": "display_data"
    }
   ],
   "source": [
    "# Все данные\n",
    "data['total_area'].hist(bins=100)\n",
    "plt.show()\n",
    "# Данные без выбросов\n",
    "data.query('total_area >= 12 and total_area <= 115')['total_area'].hist(bins=100)\n",
    "plt.show()"
   ]
  },
  {
   "cell_type": "markdown",
   "metadata": {},
   "source": [
    "Среднее значение = 60,34 кв.м.. Медианное значение = 52 кв. м."
   ]
  },
  {
   "cell_type": "markdown",
   "metadata": {},
   "source": [
    "#### Жилая площадь."
   ]
  },
  {
   "cell_type": "code",
   "execution_count": 42,
   "metadata": {},
   "outputs": [
    {
     "data": {
      "text/plain": [
       "count    21796.000000\n",
       "mean        34.457852\n",
       "std         22.030445\n",
       "min          2.000000\n",
       "25%         18.600000\n",
       "50%         30.000000\n",
       "75%         42.300000\n",
       "max        409.700000\n",
       "Name: living_area, dtype: float64"
      ]
     },
     "execution_count": 42,
     "metadata": {},
     "output_type": "execute_result"
    }
   ],
   "source": [
    "data['living_area'].describe()"
   ]
  },
  {
   "cell_type": "code",
   "execution_count": 43,
   "metadata": {},
   "outputs": [
    {
     "data": {
      "text/plain": [
       "30.0"
      ]
     },
     "execution_count": 43,
     "metadata": {},
     "output_type": "execute_result"
    }
   ],
   "source": [
    "data['living_area'].median()"
   ]
  },
  {
   "cell_type": "code",
   "execution_count": 44,
   "metadata": {},
   "outputs": [
    {
     "data": {
      "text/plain": [
       "0    18.0\n",
       "dtype: float64"
      ]
     },
     "execution_count": 44,
     "metadata": {},
     "output_type": "execute_result"
    }
   ],
   "source": [
    "data['living_area'].mode()"
   ]
  },
  {
   "cell_type": "code",
   "execution_count": 45,
   "metadata": {},
   "outputs": [
    {
     "data": {
      "image/png": "[encoded data removed]",
      "text/plain": [
       "<Figure size 432x288 with 1 Axes>"
      ]
     },
     "metadata": {
      "needs_background": "light"
     },
     "output_type": "display_data"
    }
   ],
   "source": [
    "plt.ylim(0, 100)\n",
    "data.boxplot('living_area',figsize = (15, 10))\n",
    "plt.show()"
   ]
  },
  {
   "cell_type": "code",
   "execution_count": 46,
   "metadata": {},
   "outputs": [
    {
     "data": {
      "image/png": "[encoded data removed]",
      "text/plain": [
       "<Figure size 432x288 with 1 Axes>"
      ]
     },
     "metadata": {
      "needs_background": "light"
     },
     "output_type": "display_data"
    },
    {
     "data": {
      "image/png": "[encoded data removed]",
      "text/plain": [
       "<Figure size 432x288 with 1 Axes>"
      ]
     },
     "metadata": {
      "needs_background": "light"
     },
     "output_type": "display_data"
    }
   ],
   "source": [
    "# Все данные\n",
    "data['living_area'].hist(bins=100)\n",
    "plt.show()\n",
    "# Данные без выбросов\n",
    "data.query('living_area >= 2 and living_area <= 80')['living_area'].hist(bins=100)\n",
    "plt.show()"
   ]
  },
  {
   "cell_type": "markdown",
   "metadata": {},
   "source": [
    "Среднее значение = 34,46 кв.м.. Медианное значение = 30 кв. м."
   ]
  },
  {
   "cell_type": "markdown",
   "metadata": {},
   "source": [
    "#### Площадь кухни."
   ]
  },
  {
   "cell_type": "code",
   "execution_count": 47,
   "metadata": {},
   "outputs": [
    {
     "data": {
      "text/plain": [
       "count    21421.000000\n",
       "mean        10.569807\n",
       "std          5.905438\n",
       "min          1.300000\n",
       "25%          7.000000\n",
       "50%          9.100000\n",
       "75%         12.000000\n",
       "max        112.000000\n",
       "Name: kitchen_area, dtype: float64"
      ]
     },
     "execution_count": 47,
     "metadata": {},
     "output_type": "execute_result"
    }
   ],
   "source": [
    "data['kitchen_area'].describe()"
   ]
  },
  {
   "cell_type": "code",
   "execution_count": 48,
   "metadata": {},
   "outputs": [
    {
     "data": {
      "text/plain": [
       "9.1"
      ]
     },
     "execution_count": 48,
     "metadata": {},
     "output_type": "execute_result"
    }
   ],
   "source": [
    "data['kitchen_area'].median()"
   ]
  },
  {
   "cell_type": "code",
   "execution_count": 49,
   "metadata": {},
   "outputs": [
    {
     "data": {
      "text/plain": [
       "0    6.0\n",
       "dtype: float64"
      ]
     },
     "execution_count": 49,
     "metadata": {},
     "output_type": "execute_result"
    }
   ],
   "source": [
    "data['kitchen_area'].mode()"
   ]
  },
  {
   "cell_type": "code",
   "execution_count": 50,
   "metadata": {},
   "outputs": [
    {
     "data": {
      "image/png": "[encoded data removed]",
      "text/plain": [
       "<Figure size 432x288 with 1 Axes>"
      ]
     },
     "metadata": {
      "needs_background": "light"
     },
     "output_type": "display_data"
    }
   ],
   "source": [
    "plt.ylim(0, 25)\n",
    "data.boxplot('kitchen_area',figsize = (15, 10))\n",
    "plt.show()"
   ]
  },
  {
   "cell_type": "code",
   "execution_count": 51,
   "metadata": {},
   "outputs": [
    {
     "data": {
      "image/png": "[encoded data removed]",
      "text/plain": [
       "<Figure size 432x288 with 1 Axes>"
      ]
     },
     "metadata": {
      "needs_background": "light"
     },
     "output_type": "display_data"
    },
    {
     "data": {
      "image/png": "[encoded data removed]",
      "text/plain": [
       "<Figure size 432x288 with 1 Axes>"
      ]
     },
     "metadata": {
      "needs_background": "light"
     },
     "output_type": "display_data"
    }
   ],
   "source": [
    "# Все данные\n",
    "data['kitchen_area'].hist(bins=100)\n",
    "plt.show()\n",
    "# Данные без выбросов\n",
    "data.query('kitchen_area >= 2 and kitchen_area <= 20')['kitchen_area'].hist(bins=100)\n",
    "plt.show()"
   ]
  },
  {
   "cell_type": "markdown",
   "metadata": {},
   "source": [
    "Среднее значение = 10,6 кв.м.. Медианное значение = 9,1 кв. м."
   ]
  },
  {
   "cell_type": "markdown",
   "metadata": {},
   "source": [
    "#### Цена объекта."
   ]
  },
  {
   "cell_type": "code",
   "execution_count": 52,
   "metadata": {},
   "outputs": [
    {
     "data": {
      "text/plain": [
       "count    2.369900e+04\n",
       "mean     6.541549e+06\n",
       "std      1.088701e+07\n",
       "min      1.219000e+04\n",
       "25%      3.400000e+06\n",
       "50%      4.650000e+06\n",
       "75%      6.800000e+06\n",
       "max      7.630000e+08\n",
       "Name: last_price, dtype: float64"
      ]
     },
     "execution_count": 52,
     "metadata": {},
     "output_type": "execute_result"
    }
   ],
   "source": [
    "data['last_price'].describe()"
   ]
  },
  {
   "cell_type": "code",
   "execution_count": 53,
   "metadata": {},
   "outputs": [
    {
     "data": {
      "text/plain": [
       "4650000.0"
      ]
     },
     "execution_count": 53,
     "metadata": {},
     "output_type": "execute_result"
    }
   ],
   "source": [
    "data['last_price'].median()"
   ]
  },
  {
   "cell_type": "code",
   "execution_count": 54,
   "metadata": {},
   "outputs": [
    {
     "data": {
      "text/plain": [
       "0    4500000.0\n",
       "dtype: float64"
      ]
     },
     "execution_count": 54,
     "metadata": {},
     "output_type": "execute_result"
    }
   ],
   "source": [
    "data['last_price'].mode()"
   ]
  },
  {
   "cell_type": "code",
   "execution_count": 55,
   "metadata": {},
   "outputs": [
    {
     "data": {
      "image/png": "[encoded data removed]",
      "text/plain": [
       "<Figure size 432x288 with 1 Axes>"
      ]
     },
     "metadata": {
      "needs_background": "light"
     },
     "output_type": "display_data"
    }
   ],
   "source": [
    "plt.ylim(-1e+06, 1.5e+07)\n",
    "data.boxplot('last_price',figsize = (15, 10))\n",
    "plt.show()"
   ]
  },
  {
   "cell_type": "code",
   "execution_count": 56,
   "metadata": {},
   "outputs": [
    {
     "data": {
      "image/png": "[encoded data removed]",
      "text/plain": [
       "<Figure size 432x288 with 1 Axes>"
      ]
     },
     "metadata": {
      "needs_background": "light"
     },
     "output_type": "display_data"
    },
    {
     "data": {
      "image/png": "[encoded data removed]",
      "text/plain": [
       "<Figure size 432x288 with 1 Axes>"
      ]
     },
     "metadata": {
      "needs_background": "light"
     },
     "output_type": "display_data"
    }
   ],
   "source": [
    "# Все данные\n",
    "data['last_price'].hist(bins=100)\n",
    "plt.show()\n",
    "# Данные без выбросов\n",
    "data.query('last_price >= 400000 and last_price <= 1.5e+07')['last_price'].hist(bins=100)\n",
    "plt.show()"
   ]
  },
  {
   "cell_type": "markdown",
   "metadata": {},
   "source": [
    "Среднее значение = 6,5 млн.руб.. Медианное значение = 4,65 млн. руб."
   ]
  },
  {
   "cell_type": "markdown",
   "metadata": {},
   "source": [
    "#### Количество комнат."
   ]
  },
  {
   "cell_type": "code",
   "execution_count": 57,
   "metadata": {},
   "outputs": [
    {
     "data": {
      "text/plain": [
       "count    23699.000000\n",
       "mean         2.070636\n",
       "std          1.078405\n",
       "min          0.000000\n",
       "25%          1.000000\n",
       "50%          2.000000\n",
       "75%          3.000000\n",
       "max         19.000000\n",
       "Name: rooms, dtype: float64"
      ]
     },
     "execution_count": 57,
     "metadata": {},
     "output_type": "execute_result"
    }
   ],
   "source": [
    "data['rooms'].describe()"
   ]
  },
  {
   "cell_type": "code",
   "execution_count": 58,
   "metadata": {},
   "outputs": [
    {
     "data": {
      "text/plain": [
       "2.0"
      ]
     },
     "execution_count": 58,
     "metadata": {},
     "output_type": "execute_result"
    }
   ],
   "source": [
    "data['rooms'].median()"
   ]
  },
  {
   "cell_type": "code",
   "execution_count": 59,
   "metadata": {},
   "outputs": [
    {
     "data": {
      "text/plain": [
       "0    1\n",
       "dtype: int64"
      ]
     },
     "execution_count": 59,
     "metadata": {},
     "output_type": "execute_result"
    }
   ],
   "source": [
    "data['rooms'].mode()"
   ]
  },
  {
   "cell_type": "code",
   "execution_count": 60,
   "metadata": {},
   "outputs": [
    {
     "data": {
      "image/png": "[encoded data removed]",
      "text/plain": [
       "<Figure size 432x288 with 1 Axes>"
      ]
     },
     "metadata": {
      "needs_background": "light"
     },
     "output_type": "display_data"
    }
   ],
   "source": [
    "plt.ylim(0,8)\n",
    "data.boxplot('rooms',figsize = (15, 10))\n",
    "plt.show()"
   ]
  },
  {
   "cell_type": "code",
   "execution_count": 61,
   "metadata": {},
   "outputs": [
    {
     "data": {
      "image/png": "[encoded data removed]",
      "text/plain": [
       "<Figure size 432x288 with 1 Axes>"
      ]
     },
     "metadata": {
      "needs_background": "light"
     },
     "output_type": "display_data"
    },
    {
     "data": {
      "image/png": "[encoded data removed]",
      "text/plain": [
       "<Figure size 432x288 with 1 Axes>"
      ]
     },
     "metadata": {
      "needs_background": "light"
     },
     "output_type": "display_data"
    }
   ],
   "source": [
    "# Все данные\n",
    "data['rooms'].hist(bins=100)\n",
    "plt.show()\n",
    "# Данные без выбросов\n",
    "data.query('rooms <= 7')['rooms'].hist(bins=20)\n",
    "plt.show()"
   ]
  },
  {
   "cell_type": "markdown",
   "metadata": {},
   "source": [
    "Ожидаемо, наиболее распространены квартиры с одной, двумя и тремя комнатами."
   ]
  },
  {
   "cell_type": "markdown",
   "metadata": {},
   "source": [
    "#### Высота потолков."
   ]
  },
  {
   "cell_type": "code",
   "execution_count": 62,
   "metadata": {},
   "outputs": [
    {
     "data": {
      "text/plain": [
       "count    14504.000000\n",
       "mean         2.729608\n",
       "std          0.319850\n",
       "min          1.000000\n",
       "25%          2.510000\n",
       "50%          2.650000\n",
       "75%          2.800000\n",
       "max         14.000000\n",
       "Name: ceiling_height, dtype: float64"
      ]
     },
     "execution_count": 62,
     "metadata": {},
     "output_type": "execute_result"
    }
   ],
   "source": [
    "data['ceiling_height'].describe()"
   ]
  },
  {
   "cell_type": "code",
   "execution_count": 63,
   "metadata": {},
   "outputs": [
    {
     "data": {
      "text/plain": [
       "2.65"
      ]
     },
     "execution_count": 63,
     "metadata": {},
     "output_type": "execute_result"
    }
   ],
   "source": [
    "data['ceiling_height'].median()"
   ]
  },
  {
   "cell_type": "code",
   "execution_count": 64,
   "metadata": {},
   "outputs": [
    {
     "data": {
      "text/plain": [
       "0    2.5\n",
       "dtype: float64"
      ]
     },
     "execution_count": 64,
     "metadata": {},
     "output_type": "execute_result"
    }
   ],
   "source": [
    "data['ceiling_height'].mode()"
   ]
  },
  {
   "cell_type": "code",
   "execution_count": 65,
   "metadata": {},
   "outputs": [
    {
     "data": {
      "image/png": "[encoded data removed]",
      "text/plain": [
       "<Figure size 432x288 with 1 Axes>"
      ]
     },
     "metadata": {
      "needs_background": "light"
     },
     "output_type": "display_data"
    }
   ],
   "source": [
    "plt.ylim(1,4)\n",
    "data.boxplot('ceiling_height',figsize = (15, 10))\n",
    "plt.show()"
   ]
  },
  {
   "cell_type": "code",
   "execution_count": 66,
   "metadata": {},
   "outputs": [
    {
     "data": {
      "image/png": "[encoded data removed]",
      "text/plain": [
       "<Figure size 432x288 with 1 Axes>"
      ]
     },
     "metadata": {
      "needs_background": "light"
     },
     "output_type": "display_data"
    },
    {
     "data": {
      "image/png": "[encoded data removed]",
      "text/plain": [
       "<Figure size 432x288 with 1 Axes>"
      ]
     },
     "metadata": {
      "needs_background": "light"
     },
     "output_type": "display_data"
    }
   ],
   "source": [
    "# Все данные\n",
    "data['ceiling_height'].hist(bins=100)\n",
    "plt.show()\n",
    "# Данные без выбросов\n",
    "data.query('ceiling_height>=2.4 and ceiling_height <= 3.5')['ceiling_height'].hist(bins=50)\n",
    "plt.show()"
   ]
  },
  {
   "cell_type": "markdown",
   "metadata": {},
   "source": [
    "Самое распространённое значение высоты потолков равно 2,5 метра. Медианное значение при этом составляет 2.65 метра."
   ]
  },
  {
   "cell_type": "markdown",
   "metadata": {},
   "source": [
    "#### Этаж квартиры."
   ]
  },
  {
   "cell_type": "code",
   "execution_count": 67,
   "metadata": {},
   "outputs": [
    {
     "data": {
      "text/plain": [
       "count    23699.000000\n",
       "mean         5.892358\n",
       "std          4.885249\n",
       "min          1.000000\n",
       "25%          2.000000\n",
       "50%          4.000000\n",
       "75%          8.000000\n",
       "max         33.000000\n",
       "Name: floor, dtype: float64"
      ]
     },
     "execution_count": 67,
     "metadata": {},
     "output_type": "execute_result"
    }
   ],
   "source": [
    "data['floor'].describe()"
   ]
  },
  {
   "cell_type": "code",
   "execution_count": 68,
   "metadata": {},
   "outputs": [
    {
     "data": {
      "text/plain": [
       "4.0"
      ]
     },
     "execution_count": 68,
     "metadata": {},
     "output_type": "execute_result"
    }
   ],
   "source": [
    "data['floor'].median()"
   ]
  },
  {
   "cell_type": "code",
   "execution_count": 69,
   "metadata": {},
   "outputs": [
    {
     "data": {
      "text/plain": [
       "0    2\n",
       "dtype: int64"
      ]
     },
     "execution_count": 69,
     "metadata": {},
     "output_type": "execute_result"
    }
   ],
   "source": [
    "#найдём самое распростанённое значение.\n",
    "data['floor'].mode()"
   ]
  },
  {
   "cell_type": "code",
   "execution_count": 70,
   "metadata": {},
   "outputs": [
    {
     "data": {
      "image/png": "[encoded data removed]",
      "text/plain": [
       "<Figure size 432x288 with 1 Axes>"
      ]
     },
     "metadata": {
      "needs_background": "light"
     },
     "output_type": "display_data"
    }
   ],
   "source": [
    "plt.ylim(1,20)\n",
    "data.boxplot('floor',figsize = (15, 10))\n",
    "plt.show()"
   ]
  },
  {
   "cell_type": "code",
   "execution_count": 71,
   "metadata": {},
   "outputs": [
    {
     "data": {
      "image/png": "[encoded data removed]",
      "text/plain": [
       "<Figure size 432x288 with 1 Axes>"
      ]
     },
     "metadata": {
      "needs_background": "light"
     },
     "output_type": "display_data"
    },
    {
     "data": {
      "image/png": "[encoded data removed]",
      "text/plain": [
       "<Figure size 432x288 with 1 Axes>"
      ]
     },
     "metadata": {
      "needs_background": "light"
     },
     "output_type": "display_data"
    }
   ],
   "source": [
    "# Все данные\n",
    "data['floor'].hist(bins=100)\n",
    "plt.show()\n",
    "# Данные без выбросов\n",
    "data.query('floor <= 17')['floor'].hist(bins=50)\n",
    "plt.show()"
   ]
  },
  {
   "cell_type": "markdown",
   "metadata": {},
   "source": [
    "Больше всего квартир продаётся на втором этаже."
   ]
  },
  {
   "cell_type": "markdown",
   "metadata": {},
   "source": [
    "#### Тип этажа квартиры."
   ]
  },
  {
   "cell_type": "code",
   "execution_count": 72,
   "metadata": {},
   "outputs": [
    {
     "data": {
      "text/plain": [
       "другой       17363\n",
       "последний     3447\n",
       "первый        2889\n",
       "Name: floor_type, dtype: int64"
      ]
     },
     "execution_count": 72,
     "metadata": {},
     "output_type": "execute_result"
    }
   ],
   "source": [
    "data['floor_type'].value_counts()"
   ]
  },
  {
   "cell_type": "code",
   "execution_count": 73,
   "metadata": {},
   "outputs": [
    {
     "data": {
      "image/png": "[encoded data removed]",
      "text/plain": [
       "<Figure size 432x288 with 1 Axes>"
      ]
     },
     "metadata": {
      "needs_background": "light"
     },
     "output_type": "display_data"
    }
   ],
   "source": [
    "data['floor_type'].hist()\n",
    "plt.show()"
   ]
  },
  {
   "cell_type": "markdown",
   "metadata": {},
   "source": [
    "#### Общее количество этажей в доме."
   ]
  },
  {
   "cell_type": "code",
   "execution_count": 74,
   "metadata": {},
   "outputs": [
    {
     "data": {
      "text/plain": [
       "count    23699.000000\n",
       "mean        10.671463\n",
       "std          6.595802\n",
       "min          1.000000\n",
       "25%          5.000000\n",
       "50%          9.000000\n",
       "75%         16.000000\n",
       "max         60.000000\n",
       "Name: floors_total, dtype: float64"
      ]
     },
     "execution_count": 74,
     "metadata": {},
     "output_type": "execute_result"
    }
   ],
   "source": [
    "data['floors_total'].describe()"
   ]
  },
  {
   "cell_type": "code",
   "execution_count": 75,
   "metadata": {},
   "outputs": [
    {
     "data": {
      "text/plain": [
       "9.0"
      ]
     },
     "execution_count": 75,
     "metadata": {},
     "output_type": "execute_result"
    }
   ],
   "source": [
    "data['floors_total'].median()"
   ]
  },
  {
   "cell_type": "code",
   "execution_count": 76,
   "metadata": {},
   "outputs": [
    {
     "data": {
      "text/plain": [
       "0    5\n",
       "dtype: int64"
      ]
     },
     "execution_count": 76,
     "metadata": {},
     "output_type": "execute_result"
    }
   ],
   "source": [
    "data['floors_total'].mode()"
   ]
  },
  {
   "cell_type": "code",
   "execution_count": 77,
   "metadata": {},
   "outputs": [
    {
     "data": {
      "image/png": "[encoded data removed]",
      "text/plain": [
       "<Figure size 432x288 with 1 Axes>"
      ]
     },
     "metadata": {
      "needs_background": "light"
     },
     "output_type": "display_data"
    }
   ],
   "source": [
    "plt.ylim(0,40)\n",
    "data.boxplot('floors_total',figsize = (15, 10))\n",
    "plt.show()"
   ]
  },
  {
   "cell_type": "code",
   "execution_count": 78,
   "metadata": {},
   "outputs": [
    {
     "data": {
      "image/png": "[encoded data removed]",
      "text/plain": [
       "<Figure size 432x288 with 1 Axes>"
      ]
     },
     "metadata": {
      "needs_background": "light"
     },
     "output_type": "display_data"
    },
    {
     "data": {
      "image/png": "[encoded data removed]",
      "text/plain": [
       "<Figure size 432x288 with 1 Axes>"
      ]
     },
     "metadata": {
      "needs_background": "light"
     },
     "output_type": "display_data"
    }
   ],
   "source": [
    "# Все данные\n",
    "data['floors_total'].hist(bins=100)\n",
    "plt.show()\n",
    "# Данные без выбросов\n",
    "data.query('floors_total <= 30')['floors_total'].hist(bins=50)\n",
    "plt.show()"
   ]
  },
  {
   "cell_type": "markdown",
   "metadata": {},
   "source": [
    "Больше всего квартир продаётся в пятиэтажных домах."
   ]
  },
  {
   "cell_type": "markdown",
   "metadata": {},
   "source": [
    "#### Расстояние до центра города в метрах."
   ]
  },
  {
   "cell_type": "code",
   "execution_count": 79,
   "metadata": {},
   "outputs": [
    {
     "data": {
      "text/plain": [
       "count    18180.000000\n",
       "mean     14191.277833\n",
       "std       8608.386210\n",
       "min        181.000000\n",
       "25%       9238.000000\n",
       "50%      13098.500000\n",
       "75%      16293.000000\n",
       "max      65968.000000\n",
       "Name: city_centers_nearest, dtype: float64"
      ]
     },
     "execution_count": 79,
     "metadata": {},
     "output_type": "execute_result"
    }
   ],
   "source": [
    "data['city_centers_nearest'].describe()"
   ]
  },
  {
   "cell_type": "code",
   "execution_count": 80,
   "metadata": {},
   "outputs": [
    {
     "data": {
      "text/plain": [
       "13098.5"
      ]
     },
     "execution_count": 80,
     "metadata": {},
     "output_type": "execute_result"
    }
   ],
   "source": [
    "data['city_centers_nearest'].median()"
   ]
  },
  {
   "cell_type": "code",
   "execution_count": 81,
   "metadata": {},
   "outputs": [
    {
     "data": {
      "image/png": "[encoded data removed]",
      "text/plain": [
       "<Figure size 432x288 with 1 Axes>"
      ]
     },
     "metadata": {
      "needs_background": "light"
     },
     "output_type": "display_data"
    }
   ],
   "source": [
    "plt.ylim(0,30000)\n",
    "data.boxplot('city_centers_nearest',figsize = (15, 10))\n",
    "plt.show()"
   ]
  },
  {
   "cell_type": "code",
   "execution_count": 82,
   "metadata": {},
   "outputs": [
    {
     "data": {
      "image/png": "[encoded data removed]",
      "text/plain": [
       "<Figure size 432x288 with 1 Axes>"
      ]
     },
     "metadata": {
      "needs_background": "light"
     },
     "output_type": "display_data"
    },
    {
     "data": {
      "image/png": "[encoded data removed]",
      "text/plain": [
       "<Figure size 432x288 with 1 Axes>"
      ]
     },
     "metadata": {
      "needs_background": "light"
     },
     "output_type": "display_data"
    }
   ],
   "source": [
    "# Все данные\n",
    "data['city_centers_nearest'].hist(bins=100)\n",
    "plt.show()\n",
    "# Данные без выбросов\n",
    "data.query('city_centers_nearest <= 30000')['city_centers_nearest'].hist(bins=50)\n",
    "plt.show()"
   ]
  },
  {
   "cell_type": "markdown",
   "metadata": {},
   "source": [
    "Большая часть проданных квартир находится на растоянии 15 км от центра города."
   ]
  },
  {
   "cell_type": "markdown",
   "metadata": {},
   "source": [
    "#### Расстояние до ближайшего аэропорта."
   ]
  },
  {
   "cell_type": "code",
   "execution_count": 83,
   "metadata": {},
   "outputs": [
    {
     "data": {
      "text/plain": [
       "count    18157.000000\n",
       "mean     28793.672193\n",
       "std      12630.880622\n",
       "min          0.000000\n",
       "25%      18585.000000\n",
       "50%      26726.000000\n",
       "75%      37273.000000\n",
       "max      84869.000000\n",
       "Name: airports_nearest, dtype: float64"
      ]
     },
     "execution_count": 83,
     "metadata": {},
     "output_type": "execute_result"
    }
   ],
   "source": [
    "data['airports_nearest'].describe()"
   ]
  },
  {
   "cell_type": "code",
   "execution_count": 84,
   "metadata": {},
   "outputs": [
    {
     "data": {
      "text/plain": [
       "26726.0"
      ]
     },
     "execution_count": 84,
     "metadata": {},
     "output_type": "execute_result"
    }
   ],
   "source": [
    "data['airports_nearest'].median()"
   ]
  },
  {
   "cell_type": "code",
   "execution_count": 85,
   "metadata": {},
   "outputs": [
    {
     "data": {
      "image/png": "[encoded data removed]",
      "text/plain": [
       "<Figure size 432x288 with 1 Axes>"
      ]
     },
     "metadata": {
      "needs_background": "light"
     },
     "output_type": "display_data"
    }
   ],
   "source": [
    "plt.ylim(0,80000)\n",
    "data.boxplot('airports_nearest',figsize = (15, 10))\n",
    "plt.show()"
   ]
  },
  {
   "cell_type": "code",
   "execution_count": 86,
   "metadata": {},
   "outputs": [
    {
     "data": {
      "image/png": "[encoded data removed]",
      "text/plain": [
       "<Figure size 432x288 with 1 Axes>"
      ]
     },
     "metadata": {
      "needs_background": "light"
     },
     "output_type": "display_data"
    },
    {
     "data": {
      "image/png": "[encoded data removed]",
      "text/plain": [
       "<Figure size 432x288 with 1 Axes>"
      ]
     },
     "metadata": {
      "needs_background": "light"
     },
     "output_type": "display_data"
    }
   ],
   "source": [
    "# Все данные\n",
    "data['airports_nearest'].hist(bins=100)\n",
    "plt.show()\n",
    "# Данные без выбросов\n",
    "data.query('airports_nearest <= 65000')['airports_nearest'].hist(bins=100)\n",
    "plt.show()"
   ]
  },
  {
   "cell_type": "markdown",
   "metadata": {},
   "source": [
    "#### Расстояние до ближайшего парка."
   ]
  },
  {
   "cell_type": "code",
   "execution_count": 87,
   "metadata": {},
   "outputs": [
    {
     "data": {
      "text/plain": [
       "count    8079.000000\n",
       "mean      490.804555\n",
       "std       342.317995\n",
       "min         1.000000\n",
       "25%       288.000000\n",
       "50%       455.000000\n",
       "75%       612.000000\n",
       "max      3190.000000\n",
       "Name: parks_nearest, dtype: float64"
      ]
     },
     "execution_count": 87,
     "metadata": {},
     "output_type": "execute_result"
    }
   ],
   "source": [
    "data.query('parks_nearest>0')['parks_nearest'].describe()"
   ]
  },
  {
   "cell_type": "code",
   "execution_count": 88,
   "metadata": {},
   "outputs": [
    {
     "data": {
      "text/plain": [
       "455.0"
      ]
     },
     "execution_count": 88,
     "metadata": {},
     "output_type": "execute_result"
    }
   ],
   "source": [
    "data.query('parks_nearest>0')['parks_nearest'].median()"
   ]
  },
  {
   "cell_type": "code",
   "execution_count": 89,
   "metadata": {},
   "outputs": [
    {
     "data": {
      "image/png": "[encoded data removed]",
      "text/plain": [
       "<Figure size 432x288 with 1 Axes>"
      ]
     },
     "metadata": {
      "needs_background": "light"
     },
     "output_type": "display_data"
    }
   ],
   "source": [
    "plt.ylim(0,1500)\n",
    "data.query('parks_nearest>0').boxplot('parks_nearest',figsize = (15, 10))\n",
    "plt.show()"
   ]
  },
  {
   "cell_type": "code",
   "execution_count": 90,
   "metadata": {},
   "outputs": [
    {
     "data": {
      "image/png": "[encoded data removed]",
      "text/plain": [
       "<Figure size 432x288 with 1 Axes>"
      ]
     },
     "metadata": {
      "needs_background": "light"
     },
     "output_type": "display_data"
    },
    {
     "data": {
      "image/png": "[encoded data removed]",
      "text/plain": [
       "<Figure size 432x288 with 1 Axes>"
      ]
     },
     "metadata": {
      "needs_background": "light"
     },
     "output_type": "display_data"
    }
   ],
   "source": [
    "# Все данные\n",
    "data.query('parks_nearest>0')['parks_nearest'].hist(bins=100)\n",
    "plt.show()\n",
    "# Данные без выбросов\n",
    "data.query('parks_nearest> 0 and parks_nearest <= 1200')['parks_nearest'].hist(bins=100)\n",
    "plt.show()"
   ]
  },
  {
   "cell_type": "markdown",
   "metadata": {},
   "source": [
    "В среднем, парк находится на расстоянии 450-500 метров."
   ]
  },
  {
   "cell_type": "markdown",
   "metadata": {},
   "source": [
    "#### День и месяц публикации объявления."
   ]
  },
  {
   "cell_type": "code",
   "execution_count": 91,
   "metadata": {},
   "outputs": [
    {
     "data": {
      "text/plain": [
       "2     2640\n",
       "3     2587\n",
       "4     2379\n",
       "11    2371\n",
       "10    2127\n",
       "9     1981\n",
       "6     1760\n",
       "8     1744\n",
       "7     1695\n",
       "12    1641\n",
       "1     1500\n",
       "5     1274\n",
       "Name: month_exposition, dtype: int64"
      ]
     },
     "execution_count": 91,
     "metadata": {},
     "output_type": "execute_result"
    }
   ],
   "source": [
    "data['month_exposition'].value_counts()"
   ]
  },
  {
   "cell_type": "code",
   "execution_count": 92,
   "metadata": {},
   "outputs": [
    {
     "data": {
      "image/png": "[encoded data removed]",
      "text/plain": [
       "<Figure size 432x288 with 1 Axes>"
      ]
     },
     "metadata": {
      "needs_background": "light"
     },
     "output_type": "display_data"
    }
   ],
   "source": [
    "data['month_exposition'].hist(bins=24)\n",
    "plt.show()"
   ]
  },
  {
   "cell_type": "markdown",
   "metadata": {},
   "source": [
    "Чаще всего объявления подаются в феврале - марте."
   ]
  },
  {
   "cell_type": "code",
   "execution_count": 93,
   "metadata": {},
   "outputs": [
    {
     "data": {
      "text/plain": [
       "3    4295\n",
       "1    4183\n",
       "4    4000\n",
       "2    3974\n",
       "0    3612\n",
       "5    1936\n",
       "6    1699\n",
       "Name: day_of_week_exposition, dtype: int64"
      ]
     },
     "execution_count": 93,
     "metadata": {},
     "output_type": "execute_result"
    }
   ],
   "source": [
    "data['day_of_week_exposition'].value_counts()"
   ]
  },
  {
   "cell_type": "code",
   "execution_count": 94,
   "metadata": {},
   "outputs": [
    {
     "data": {
      "image/png": "[encoded data removed]",
      "text/plain": [
       "<Figure size 432x288 with 1 Axes>"
      ]
     },
     "metadata": {
      "needs_background": "light"
     },
     "output_type": "display_data"
    }
   ],
   "source": [
    "data['day_of_week_exposition'].hist(bins=24)\n",
    "plt.title('Объявления по дням недели')\n",
    "plt.show()"
   ]
  },
  {
   "cell_type": "markdown",
   "metadata": {},
   "source": [
    "На удивление, объявления чаще размещаются в будни, а не в выходные. Видимо это связано с тем, что чаще объявления размещают риелторские службы, которые работают по будням."
   ]
  },
  {
   "cell_type": "markdown",
   "metadata": {},
   "source": [
    "#### Как быстро продавались квартиры?"
   ]
  },
  {
   "cell_type": "markdown",
   "metadata": {},
   "source": [
    "Поскольку мы ранее пропущенные значения в `days_exposition` заполнили 0, то сейчас будем исключать эти значения из анализа."
   ]
  },
  {
   "cell_type": "code",
   "execution_count": 95,
   "metadata": {},
   "outputs": [
    {
     "data": {
      "text/plain": [
       "count    20518.000000\n",
       "mean       180.888634\n",
       "std        219.727988\n",
       "min          1.000000\n",
       "25%         45.000000\n",
       "50%         95.000000\n",
       "75%        232.000000\n",
       "max       1580.000000\n",
       "Name: days_exposition, dtype: float64"
      ]
     },
     "execution_count": 95,
     "metadata": {},
     "output_type": "execute_result"
    }
   ],
   "source": [
    "data.query('days_exposition>0')['days_exposition'].describe()"
   ]
  },
  {
   "cell_type": "code",
   "execution_count": 96,
   "metadata": {},
   "outputs": [
    {
     "data": {
      "image/png": "[encoded data removed]",
      "text/plain": [
       "<Figure size 432x288 with 1 Axes>"
      ]
     },
     "metadata": {
      "needs_background": "light"
     },
     "output_type": "display_data"
    }
   ],
   "source": [
    "plt.ylim(0, 600)\n",
    "data.query('days_exposition>0').boxplot('days_exposition',figsize = (15, 10))\n",
    "plt.show()"
   ]
  },
  {
   "cell_type": "code",
   "execution_count": 97,
   "metadata": {},
   "outputs": [
    {
     "data": {
      "image/png": "[encoded data removed]",
      "text/plain": [
       "<Figure size 432x288 with 1 Axes>"
      ]
     },
     "metadata": {
      "needs_background": "light"
     },
     "output_type": "display_data"
    },
    {
     "data": {
      "image/png": "[encoded data removed]",
      "text/plain": [
       "<Figure size 432x288 with 1 Axes>"
      ]
     },
     "metadata": {
      "needs_background": "light"
     },
     "output_type": "display_data"
    },
    {
     "data": {
      "image/png": "[encoded data removed]",
      "text/plain": [
       "<Figure size 432x288 with 1 Axes>"
      ]
     },
     "metadata": {
      "needs_background": "light"
     },
     "output_type": "display_data"
    }
   ],
   "source": [
    "# Все данные\n",
    "data.query('days_exposition>0')['days_exposition'].hist(bins=100)\n",
    "plt.show()\n",
    "# Данные без выбросов\n",
    "data.query('days_exposition>0 and days_exposition <= 500')['days_exposition'].hist(bins=100)\n",
    "plt.show()\n",
    "\n",
    "data.query('days_exposition>0 and days_exposition <= 500')['days_exposition'].hist(bins=100, range=(0,100))\n",
    "plt.show()"
   ]
  },
  {
   "cell_type": "code",
   "execution_count": 98,
   "metadata": {},
   "outputs": [
    {
     "data": {
      "text/plain": [
       "181"
      ]
     },
     "execution_count": 98,
     "metadata": {},
     "output_type": "execute_result"
    }
   ],
   "source": [
    "round(data.query('days_exposition>0')['days_exposition'].mean())"
   ]
  },
  {
   "cell_type": "code",
   "execution_count": 99,
   "metadata": {},
   "outputs": [
    {
     "data": {
      "text/plain": [
       "95"
      ]
     },
     "execution_count": 99,
     "metadata": {},
     "output_type": "execute_result"
    }
   ],
   "source": [
    "round(data.query('days_exposition>0')['days_exposition'].median())"
   ]
  },
  {
   "cell_type": "markdown",
   "metadata": {},
   "source": [
    "Среднее значение = 181 день. Медианное значение = 95 дней."
   ]
  },
  {
   "cell_type": "markdown",
   "metadata": {},
   "source": [
    "Таким образом:\n",
    "* продажа обычно занимает около 95 дней;\n",
    "* если объект продан менее чем за 45 дней – это можно считать необычайно быстрой сделкой;\n",
    "* если в диапазоне более 230 дней – необычайно долгой продажей."
   ]
  },
  {
   "cell_type": "markdown",
   "metadata": {},
   "source": [
    "#### Зависимость стоимости объекта от общей площади."
   ]
  },
  {
   "cell_type": "markdown",
   "metadata": {},
   "source": [
    "Для анализа будем использовать данные без выбросов, которые мы ранее определили."
   ]
  },
  {
   "cell_type": "code",
   "execution_count": 100,
   "metadata": {},
   "outputs": [],
   "source": [
    "data = data.query('last_price >= 400000 and last_price <= 1.5e+07')"
   ]
  },
  {
   "cell_type": "code",
   "execution_count": 101,
   "metadata": {},
   "outputs": [],
   "source": [
    "good_total_area = 'total_area >= 12 and total_area <= 115'"
   ]
  },
  {
   "cell_type": "code",
   "execution_count": 102,
   "metadata": {},
   "outputs": [],
   "source": [
    "good_data = data.query(good_total_area)"
   ]
  },
  {
   "cell_type": "code",
   "execution_count": 103,
   "metadata": {
    "scrolled": true
   },
   "outputs": [
    {
     "data": {
      "text/plain": [
       "<AxesSubplot:xlabel='Цена', ylabel='Общая площадь'>"
      ]
     },
     "execution_count": 103,
     "metadata": {},
     "output_type": "execute_result"
    },
    {
     "data": {
      "image/png": "[encoded data removed]",
      "text/plain": [
       "<Figure size 432x288 with 1 Axes>"
      ]
     },
     "metadata": {
      "needs_background": "light"
     },
     "output_type": "display_data"
    }
   ],
   "source": [
    "good_data.plot(kind='scatter', y='total_area', x='last_price', ylabel='Общая площадь', xlabel='Цена')"
   ]
  },
  {
   "cell_type": "code",
   "execution_count": 104,
   "metadata": {},
   "outputs": [
    {
     "data": {
      "text/plain": [
       "0.7252688367789956"
      ]
     },
     "execution_count": 104,
     "metadata": {},
     "output_type": "execute_result"
    }
   ],
   "source": [
    "good_data['last_price'].corr(good_data['total_area'])"
   ]
  },
  {
   "cell_type": "markdown",
   "metadata": {},
   "source": [
    "График и коэффициент корреляции показывают сильную прямую зависимость между Общей площадью квартиры и её ценой."
   ]
  },
  {
   "cell_type": "markdown",
   "metadata": {},
   "source": [
    "#### Зависимость стоимости объекта от жилой площади."
   ]
  },
  {
   "cell_type": "code",
   "execution_count": 105,
   "metadata": {},
   "outputs": [],
   "source": [
    "good_living_area = 'living_area >= 2 and living_area <= 80'"
   ]
  },
  {
   "cell_type": "code",
   "execution_count": 106,
   "metadata": {},
   "outputs": [],
   "source": [
    "good_data = data.query(good_living_area)"
   ]
  },
  {
   "cell_type": "code",
   "execution_count": 107,
   "metadata": {},
   "outputs": [
    {
     "data": {
      "text/plain": [
       "<AxesSubplot:xlabel='Цена', ylabel='Жилая площадь'>"
      ]
     },
     "execution_count": 107,
     "metadata": {},
     "output_type": "execute_result"
    },
    {
     "data": {
      "image/png": "[encoded data removed]",
      "text/plain": [
       "<Figure size 432x288 with 1 Axes>"
      ]
     },
     "metadata": {
      "needs_background": "light"
     },
     "output_type": "display_data"
    }
   ],
   "source": [
    "good_data.plot(kind='scatter', y='living_area', x='last_price', ylabel='Жилая площадь', xlabel='Цена')"
   ]
  },
  {
   "cell_type": "code",
   "execution_count": 108,
   "metadata": {},
   "outputs": [
    {
     "data": {
      "text/plain": [
       "0.605074368176436"
      ]
     },
     "execution_count": 108,
     "metadata": {},
     "output_type": "execute_result"
    }
   ],
   "source": [
    "good_data['last_price'].corr(good_data['living_area'])"
   ]
  },
  {
   "cell_type": "markdown",
   "metadata": {},
   "source": [
    "График и коэффициент корреляции также как и в случае с общей площадью показывают сильную прямую зависимость между жилой площадью квартиры и её ценой, но в меньшей степени, чем в случае с общей площадью."
   ]
  },
  {
   "cell_type": "markdown",
   "metadata": {},
   "source": [
    "#### Зависимость стоимости объекта от площади кухни."
   ]
  },
  {
   "cell_type": "code",
   "execution_count": 109,
   "metadata": {},
   "outputs": [],
   "source": [
    "good_kitchen_area = 'kitchen_area >= 2 and kitchen_area <= 20'"
   ]
  },
  {
   "cell_type": "code",
   "execution_count": 110,
   "metadata": {},
   "outputs": [],
   "source": [
    "good_data = data.query(good_kitchen_area)"
   ]
  },
  {
   "cell_type": "code",
   "execution_count": 111,
   "metadata": {},
   "outputs": [
    {
     "data": {
      "text/plain": [
       "<AxesSubplot:xlabel='Цена', ylabel='Площадь кухни'>"
      ]
     },
     "execution_count": 111,
     "metadata": {},
     "output_type": "execute_result"
    },
    {
     "data": {
      "image/png": "[encoded data removed]",
      "text/plain": [
       "<Figure size 432x288 with 1 Axes>"
      ]
     },
     "metadata": {
      "needs_background": "light"
     },
     "output_type": "display_data"
    }
   ],
   "source": [
    "good_data.plot(kind='scatter', y='kitchen_area', x='last_price', ylabel='Площадь кухни', xlabel='Цена')"
   ]
  },
  {
   "cell_type": "code",
   "execution_count": 112,
   "metadata": {},
   "outputs": [
    {
     "data": {
      "text/plain": [
       "0.525982211493105"
      ]
     },
     "execution_count": 112,
     "metadata": {},
     "output_type": "execute_result"
    }
   ],
   "source": [
    "good_data['last_price'].corr(good_data['kitchen_area'])"
   ]
  },
  {
   "cell_type": "markdown",
   "metadata": {},
   "source": [
    "График и коэффициент корреляции также как и в случае с общей площадью показывают прямую зависимость между площадью кухни и ценой на квартиру, но в меньшей степени, чем в случае с общей площадью и чем в случае с жилой площадью."
   ]
  },
  {
   "cell_type": "markdown",
   "metadata": {},
   "source": [
    "#### Зависимость стоимости объекта от количества комнат."
   ]
  },
  {
   "cell_type": "code",
   "execution_count": 113,
   "metadata": {},
   "outputs": [],
   "source": [
    "good_rooms = 'rooms <= 7'"
   ]
  },
  {
   "cell_type": "code",
   "execution_count": 114,
   "metadata": {},
   "outputs": [],
   "source": [
    "good_data = data.query(good_rooms)"
   ]
  },
  {
   "cell_type": "code",
   "execution_count": 115,
   "metadata": {},
   "outputs": [
    {
     "data": {
      "text/plain": [
       "<AxesSubplot:xlabel='Цена', ylabel='Кол-во комнат'>"
      ]
     },
     "execution_count": 115,
     "metadata": {},
     "output_type": "execute_result"
    },
    {
     "data": {
      "image/png": "[encoded data removed]",
      "text/plain": [
       "<Figure size 432x288 with 1 Axes>"
      ]
     },
     "metadata": {
      "needs_background": "light"
     },
     "output_type": "display_data"
    }
   ],
   "source": [
    "good_data.plot(kind='scatter', y='rooms', x='last_price', ylabel='Кол-во комнат', xlabel='Цена')"
   ]
  },
  {
   "cell_type": "code",
   "execution_count": 116,
   "metadata": {},
   "outputs": [
    {
     "data": {
      "text/plain": [
       "0.4927597637612402"
      ]
     },
     "execution_count": 116,
     "metadata": {},
     "output_type": "execute_result"
    }
   ],
   "source": [
    "good_data['last_price'].corr(good_data['rooms'])"
   ]
  },
  {
   "cell_type": "code",
   "execution_count": 117,
   "metadata": {},
   "outputs": [
    {
     "data": {
      "text/plain": [
       "<AxesSubplot:xlabel='rooms'>"
      ]
     },
     "execution_count": 117,
     "metadata": {},
     "output_type": "execute_result"
    },
    {
     "data": {
      "image/png": "[encoded data removed]",
      "text/plain": [
       "<Figure size 720x360 with 1 Axes>"
      ]
     },
     "metadata": {
      "needs_background": "light"
     },
     "output_type": "display_data"
    }
   ],
   "source": [
    "#средняя цена в заисимости от кол-ва комнат\n",
    "good_data.pivot_table(index='rooms', values='last_price').sort_values(by='rooms').plot(kind='bar', figsize=(10, 5))\n"
   ]
  },
  {
   "cell_type": "markdown",
   "metadata": {},
   "source": [
    "Зависимоcmь цены на квартиру от кол-ва комнат имеется. "
   ]
  },
  {
   "cell_type": "markdown",
   "metadata": {},
   "source": [
    "#### Зависимость стоимости объекта от этажа, на котором расположена квартира (первый, последний, другой)."
   ]
  },
  {
   "cell_type": "code",
   "execution_count": 118,
   "metadata": {},
   "outputs": [
    {
     "data": {
      "text/plain": [
       "<AxesSubplot:xlabel='Цена', ylabel='Кол-во комнат'>"
      ]
     },
     "execution_count": 118,
     "metadata": {},
     "output_type": "execute_result"
    },
    {
     "data": {
      "image/png": "[encoded data removed]",
      "text/plain": [
       "<Figure size 432x288 with 1 Axes>"
      ]
     },
     "metadata": {
      "needs_background": "light"
     },
     "output_type": "display_data"
    }
   ],
   "source": [
    "data.plot(kind='scatter', y='floor_type', x='last_price', ylabel='Кол-во комнат', xlabel='Цена')"
   ]
  },
  {
   "cell_type": "code",
   "execution_count": 119,
   "metadata": {},
   "outputs": [
    {
     "data": {
      "text/plain": [
       "<AxesSubplot:xlabel='floor_type'>"
      ]
     },
     "execution_count": 119,
     "metadata": {},
     "output_type": "execute_result"
    },
    {
     "data": {
      "image/png": "[encoded data removed]",
      "text/plain": [
       "<Figure size 720x360 with 1 Axes>"
      ]
     },
     "metadata": {
      "needs_background": "light"
     },
     "output_type": "display_data"
    }
   ],
   "source": [
    "data.pivot_table(index='floor_type', values='last_price').sort_values(by='last_price').plot(kind='bar', figsize=(10, 5))"
   ]
  },
  {
   "cell_type": "markdown",
   "metadata": {},
   "source": [
    "Самые дорогие квартиры находятся между первым и последним этажами."
   ]
  },
  {
   "cell_type": "markdown",
   "metadata": {},
   "source": [
    "#### Зависимость стоимости объекта от даты размещения (день недели, месяц, год)."
   ]
  },
  {
   "cell_type": "code",
   "execution_count": 120,
   "metadata": {},
   "outputs": [
    {
     "data": {
      "text/plain": [
       "<AxesSubplot:xlabel='day_of_week_exposition'>"
      ]
     },
     "execution_count": 120,
     "metadata": {},
     "output_type": "execute_result"
    },
    {
     "data": {
      "image/png": "[encoded data removed]",
      "text/plain": [
       "<Figure size 720x360 with 1 Axes>"
      ]
     },
     "metadata": {
      "needs_background": "light"
     },
     "output_type": "display_data"
    }
   ],
   "source": [
    "data.pivot_table(index='day_of_week_exposition', values='last_price')\\\n",
    ".sort_values(by='day_of_week_exposition')\\\n",
    ".plot(kind='bar', figsize=(10, 5))"
   ]
  },
  {
   "cell_type": "code",
   "execution_count": 121,
   "metadata": {},
   "outputs": [
    {
     "data": {
      "text/plain": [
       "<AxesSubplot:xlabel='Цена', ylabel='День недели'>"
      ]
     },
     "execution_count": 121,
     "metadata": {},
     "output_type": "execute_result"
    },
    {
     "data": {
      "image/png": "[encoded data removed]",
      "text/plain": [
       "<Figure size 432x288 with 1 Axes>"
      ]
     },
     "metadata": {
      "needs_background": "light"
     },
     "output_type": "display_data"
    }
   ],
   "source": [
    "data.plot(kind='scatter', y='day_of_week_exposition', x='last_price', ylabel='День недели', xlabel='Цена')"
   ]
  },
  {
   "cell_type": "markdown",
   "metadata": {},
   "source": [
    "Не наблюдается зависимость цены от дня недели размещения объявления, что кажется логичным."
   ]
  },
  {
   "cell_type": "code",
   "execution_count": 122,
   "metadata": {},
   "outputs": [
    {
     "data": {
      "text/plain": [
       "<AxesSubplot:xlabel='month_exposition'>"
      ]
     },
     "execution_count": 122,
     "metadata": {},
     "output_type": "execute_result"
    },
    {
     "data": {
      "image/png": "[encoded data removed]",
      "text/plain": [
       "<Figure size 720x360 with 1 Axes>"
      ]
     },
     "metadata": {
      "needs_background": "light"
     },
     "output_type": "display_data"
    }
   ],
   "source": [
    "data.pivot_table(index='month_exposition', values='last_price')\\\n",
    ".sort_values(by='month_exposition')\\\n",
    ".plot(kind='bar', figsize=(10, 5))"
   ]
  },
  {
   "cell_type": "markdown",
   "metadata": {},
   "source": [
    "Не видно существенной зависимости цены квартиры, от месяца размещения объявления. Можно сказать лишь, что в апреле и в сентябре цена чуть выше других, а самая низкая цена в июле."
   ]
  },
  {
   "cell_type": "code",
   "execution_count": 123,
   "metadata": {},
   "outputs": [
    {
     "data": {
      "text/plain": [
       "<AxesSubplot:xlabel='year_exposition'>"
      ]
     },
     "execution_count": 123,
     "metadata": {},
     "output_type": "execute_result"
    },
    {
     "data": {
      "image/png": "[encoded data removed]",
      "text/plain": [
       "<Figure size 720x360 with 1 Axes>"
      ]
     },
     "metadata": {
      "needs_background": "light"
     },
     "output_type": "display_data"
    }
   ],
   "source": [
    "data.pivot_table(index='year_exposition', values='last_price')\\\n",
    ".sort_values(by='year_exposition')\\\n",
    ".plot(kind='bar', figsize=(10, 5))"
   ]
  },
  {
   "cell_type": "code",
   "execution_count": 124,
   "metadata": {},
   "outputs": [
    {
     "data": {
      "text/plain": [
       "<AxesSubplot:xlabel='Цена', ylabel='День недели'>"
      ]
     },
     "execution_count": 124,
     "metadata": {},
     "output_type": "execute_result"
    },
    {
     "data": {
      "image/png": "[encoded data removed]",
      "text/plain": [
       "<Figure size 432x288 with 1 Axes>"
      ]
     },
     "metadata": {
      "needs_background": "light"
     },
     "output_type": "display_data"
    }
   ],
   "source": [
    "data.plot(kind='scatter', y='year_exposition', x='last_price', ylabel='День недели', xlabel='Цена')"
   ]
  },
  {
   "cell_type": "code",
   "execution_count": 125,
   "metadata": {},
   "outputs": [
    {
     "data": {
      "text/plain": [
       "2018    8178\n",
       "2017    7777\n",
       "2019    2728\n",
       "2016    2626\n",
       "2015    1080\n",
       "2014     105\n",
       "Name: year_exposition, dtype: int64"
      ]
     },
     "execution_count": 125,
     "metadata": {},
     "output_type": "execute_result"
    }
   ],
   "source": [
    "data['year_exposition'].value_counts()"
   ]
  },
  {
   "cell_type": "markdown",
   "metadata": {},
   "source": [
    "Мы получили, что в 2014 году были самые высокие цены, но поскольку на 2014 год выпало всего 105 наблюдений, то нельзя верить этим данным."
   ]
  },
  {
   "cell_type": "markdown",
   "metadata": {},
   "source": [
    "#### Среднюя цена одного квадратного метра."
   ]
  },
  {
   "cell_type": "markdown",
   "metadata": {},
   "source": [
    "Посчитаем среднюю цену одного квадратного метра в 10 населённых пунктах с наибольшим числом объявлений. Выделим населённые пункты с самой высокой и низкой стоимостью квадратного метра."
   ]
  },
  {
   "cell_type": "code",
   "execution_count": 126,
   "metadata": {},
   "outputs": [
    {
     "data": {
      "text/html": [
       "<div>\n",
       "<style scoped>\n",
       "    .dataframe tbody tr th:only-of-type {\n",
       "        vertical-align: middle;\n",
       "    }\n",
       "\n",
       "    .dataframe tbody tr th {\n",
       "        vertical-align: top;\n",
       "    }\n",
       "\n",
       "    .dataframe thead tr th {\n",
       "        text-align: left;\n",
       "    }\n",
       "\n",
       "    .dataframe thead tr:last-of-type th {\n",
       "        text-align: right;\n",
       "    }\n",
       "</style>\n",
       "<table border=\"1\" class=\"dataframe\">\n",
       "  <thead>\n",
       "    <tr>\n",
       "      <th></th>\n",
       "      <th>mean</th>\n",
       "      <th>count</th>\n",
       "    </tr>\n",
       "    <tr>\n",
       "      <th></th>\n",
       "      <th>price_on_area</th>\n",
       "      <th>price_on_area</th>\n",
       "    </tr>\n",
       "    <tr>\n",
       "      <th>locality_name</th>\n",
       "      <th></th>\n",
       "      <th></th>\n",
       "    </tr>\n",
       "  </thead>\n",
       "  <tbody>\n",
       "    <tr>\n",
       "      <th>Санкт-Петербург</th>\n",
       "      <td>107261.675943</td>\n",
       "      <td>14557</td>\n",
       "    </tr>\n",
       "    <tr>\n",
       "      <th>посёлок Мурино</th>\n",
       "      <td>86087.510847</td>\n",
       "      <td>590</td>\n",
       "    </tr>\n",
       "    <tr>\n",
       "      <th>деревня Кудрово</th>\n",
       "      <td>95324.928602</td>\n",
       "      <td>472</td>\n",
       "    </tr>\n",
       "    <tr>\n",
       "      <th>посёлок Шушары</th>\n",
       "      <td>78677.363636</td>\n",
       "      <td>440</td>\n",
       "    </tr>\n",
       "    <tr>\n",
       "      <th>Всеволожск</th>\n",
       "      <td>67214.254156</td>\n",
       "      <td>397</td>\n",
       "    </tr>\n",
       "    <tr>\n",
       "      <th>Пушкин</th>\n",
       "      <td>101197.269516</td>\n",
       "      <td>351</td>\n",
       "    </tr>\n",
       "    <tr>\n",
       "      <th>Колпино</th>\n",
       "      <td>75333.298516</td>\n",
       "      <td>337</td>\n",
       "    </tr>\n",
       "    <tr>\n",
       "      <th>посёлок Парголово</th>\n",
       "      <td>90175.915291</td>\n",
       "      <td>327</td>\n",
       "    </tr>\n",
       "    <tr>\n",
       "      <th>Гатчина</th>\n",
       "      <td>68746.147231</td>\n",
       "      <td>307</td>\n",
       "    </tr>\n",
       "    <tr>\n",
       "      <th>Выборг</th>\n",
       "      <td>57932.876695</td>\n",
       "      <td>236</td>\n",
       "    </tr>\n",
       "  </tbody>\n",
       "</table>\n",
       "</div>"
      ],
      "text/plain": [
       "                            mean         count\n",
       "                   price_on_area price_on_area\n",
       "locality_name                                 \n",
       "Санкт-Петербург    107261.675943         14557\n",
       "посёлок Мурино      86087.510847           590\n",
       "деревня Кудрово     95324.928602           472\n",
       "посёлок Шушары      78677.363636           440\n",
       "Всеволожск          67214.254156           397\n",
       "Пушкин             101197.269516           351\n",
       "Колпино             75333.298516           337\n",
       "посёлок Парголово   90175.915291           327\n",
       "Гатчина             68746.147231           307\n",
       "Выборг              57932.876695           236"
      ]
     },
     "execution_count": 126,
     "metadata": {},
     "output_type": "execute_result"
    }
   ],
   "source": [
    "#Считаем среднюю цену одного квадратного метра в 10 населённых пунктах с наибольшим числом объявлений. \n",
    "top = pd.pivot_table(data, index='locality_name', values='price_on_area',  aggfunc=['mean','count'])\\\n",
    ".sort_values(by=( 'count', 'price_on_area'), ascending=False)\n",
    "\n",
    "top.head(10)"
   ]
  },
  {
   "cell_type": "markdown",
   "metadata": {},
   "source": [
    "В Санкт-Петербурге квадратный метр самый дорогой – что логично. В Выборге – самый дешевый.\n"
   ]
  },
  {
   "cell_type": "markdown",
   "metadata": {},
   "source": [
    "#### Стоимость объектов в зависимости от расстояния до центра города."
   ]
  },
  {
   "cell_type": "markdown",
   "metadata": {},
   "source": [
    "Проанализируем зависимость средней цены на квартиры и растояния от центра города Санкт-Петербург."
   ]
  },
  {
   "cell_type": "code",
   "execution_count": 127,
   "metadata": {},
   "outputs": [],
   "source": [
    "peterburg = data.query('locality_name == \"Санкт-Петербург\" and city_centers_nearest_km>0').\\\n",
    "groupby(['city_centers_nearest_km']).mean().reset_index()"
   ]
  },
  {
   "cell_type": "code",
   "execution_count": 128,
   "metadata": {},
   "outputs": [
    {
     "data": {
      "text/plain": [
       "<AxesSubplot:xlabel='city_centers_nearest_km', ylabel='last_price'>"
      ]
     },
     "execution_count": 128,
     "metadata": {},
     "output_type": "execute_result"
    },
    {
     "data": {
      "image/png": "[encoded data removed]",
      "text/plain": [
       "<Figure size 1080x432 with 1 Axes>"
      ]
     },
     "metadata": {
      "needs_background": "light"
     },
     "output_type": "display_data"
    }
   ],
   "source": [
    "peterburg.plot(kind='scatter', x='city_centers_nearest_km', y='last_price', grid=True, figsize=(15, 6))"
   ]
  },
  {
   "cell_type": "markdown",
   "metadata": {},
   "source": [
    "Рассмотри также как меняется стоимость квадратного метра, в зависимости от растояния до центра города."
   ]
  },
  {
   "cell_type": "code",
   "execution_count": 129,
   "metadata": {},
   "outputs": [
    {
     "data": {
      "text/plain": [
       "<AxesSubplot:xlabel='city_centers_nearest_km', ylabel='price_on_area'>"
      ]
     },
     "execution_count": 129,
     "metadata": {},
     "output_type": "execute_result"
    },
    {
     "data": {
      "image/png": "[encoded data removed]",
      "text/plain": [
       "<Figure size 1080x432 with 1 Axes>"
      ]
     },
     "metadata": {
      "needs_background": "light"
     },
     "output_type": "display_data"
    }
   ],
   "source": [
    "peterburg.plot(kind='scatter', x='city_centers_nearest_km', y='price_on_area', grid=True, figsize=(15, 6))"
   ]
  },
  {
   "cell_type": "markdown",
   "metadata": {},
   "source": [
    "Из графиков видно, что цена уменьшается вместе с увеличением расстояния до центра города.\n",
    "Но при этом видно, что до 8-го километра и после него, имеется разная зависимость.\n",
    "Цена на квартиры находящиеся ближе 8-ми км от центра города меняется сильнее с каждым километром.\n",
    "Но приэтом цена квадратного метра меняется более равномерно каждым киллометром."
   ]
  },
  {
   "cell_type": "markdown",
   "metadata": {},
   "source": [
    "### Общий вывод"
   ]
  },
  {
   "cell_type": "markdown",
   "metadata": {},
   "source": [
    "Проанализировав полученные данные, мы получили следующие значения медианы, среднего значения и моды для разных параметров:\n",
    "\n",
    "| Признак                   | Медиана | Среднее | Мода  |\n",
    "|---------------------------|---------|---------|-------|\n",
    "| Общая площадь, м2         | 52      | 60      | 45    |\n",
    "| Жилая площадь             | 30      | 34.5    | 18    |\n",
    "| Площадь кухни             | 9,1     | 10,6    | 6     |\n",
    "| Цена объекта, млн.руб.    | 4,65    | 6,54    | 4,5   |\n",
    "| Кол-во комнат             | 2       | 2       | 1     |\n",
    "| Высота потолков           | 2,65    | 2,73    | 2,5   |\n",
    "| Этаж квартиры             | 4       | 6       | 2     |\n",
    "| Общее кол-во этажей       | 9       | 11      | 5     |\n",
    "| Растояние до центра, км   | 13      | 14      | ---   |\n",
    "| Растояние до аэропорта, км| 27      | 29      | ---   |\n",
    "| Растояние до парка, м     | 455     | 490     | ---   |\n"
   ]
  },
  {
   "cell_type": "markdown",
   "metadata": {},
   "source": [
    "Выводы, полученные на основании анализа данных:\n",
    "* На продажу квартиры в среднем уходит 95 дней. Если удаётся продать быстрее 45 дней, то вам очень повезло!\n",
    "* Чаще всего объявления подаются в феврале - марте, и при этом в будние дни.\n",
    "* Стоимость квартиры зависит от: общей площади, жилой площади, площади кухни, кол-ва комнат.\n",
    "* Стоимость квартир очень слабо зависит от даты размещения. Можно сказать лишь, что в апреле и в сентябре цена чуть выше других, а самая низкая цена в июле.\n",
    "* Более дорогие квартиры находятся между первым и последним этажом.\n",
    "* Чаще всего продаются квартиры на втором этаже.\n",
    "* Больше всего квартир продаётся в 5-ти этажных домах.\n",
    "* Самые дорогие квартиры продаются в центре города Санкт-Перебурга, чем дальше от центра города, тем квартиры дешевле. Цена уменьшается вместе с увеличением расстояния до центра города. При этом до 8-го километра и после него, имеется разная зависимость. Цена на квартиры находящиеся ближе 8-ми км от центра города меняется сильнее с каждым километром. Но приэтом цена квадратного метра меняется более равномерно с каждым киллометром."
   ]
  }
 ],
 "metadata": {
  "ExecuteTimeLog": [
   {
    "duration": 404,
    "start_time": "2023-01-23T07:33:28.865Z"
   },
   {
    "duration": 201,
    "start_time": "2023-01-23T07:33:53.881Z"
   },
   {
    "duration": 16,
    "start_time": "2023-01-23T07:34:11.518Z"
   },
   {
    "duration": 75,
    "start_time": "2023-01-23T07:34:25.689Z"
   },
   {
    "duration": 364,
    "start_time": "2023-01-23T07:35:50.094Z"
   },
   {
    "duration": 92,
    "start_time": "2023-01-23T07:36:02.107Z"
   },
   {
    "duration": 6,
    "start_time": "2023-01-23T07:36:04.448Z"
   },
   {
    "duration": 85,
    "start_time": "2023-01-23T07:36:14.751Z"
   },
   {
    "duration": 27,
    "start_time": "2023-01-23T07:36:16.731Z"
   },
   {
    "duration": 15,
    "start_time": "2023-01-23T07:39:06.393Z"
   },
   {
    "duration": 4,
    "start_time": "2023-01-23T08:11:20.048Z"
   },
   {
    "duration": 5,
    "start_time": "2023-01-23T08:11:48.032Z"
   },
   {
    "duration": 3,
    "start_time": "2023-01-23T08:12:19.953Z"
   },
   {
    "duration": 27,
    "start_time": "2023-01-23T08:13:05.062Z"
   },
   {
    "duration": 8,
    "start_time": "2023-01-23T08:14:03.352Z"
   },
   {
    "duration": 24,
    "start_time": "2023-01-23T08:16:18.949Z"
   },
   {
    "duration": 7,
    "start_time": "2023-01-23T08:17:49.020Z"
   },
   {
    "duration": 16,
    "start_time": "2023-01-23T08:18:30.057Z"
   },
   {
    "duration": 2429,
    "start_time": "2023-01-23T08:21:32.752Z"
   },
   {
    "duration": 2,
    "start_time": "2023-01-23T08:37:55.625Z"
   },
   {
    "duration": 23,
    "start_time": "2023-01-23T08:37:58.470Z"
   },
   {
    "duration": 21,
    "start_time": "2023-01-23T08:38:12.302Z"
   },
   {
    "duration": 26,
    "start_time": "2023-01-23T08:38:37.961Z"
   },
   {
    "duration": 35,
    "start_time": "2023-01-23T08:38:50.160Z"
   },
   {
    "duration": 31,
    "start_time": "2023-01-23T08:39:03.150Z"
   },
   {
    "duration": 7,
    "start_time": "2023-01-23T12:55:11.993Z"
   },
   {
    "duration": 23,
    "start_time": "2023-01-23T12:55:30.815Z"
   },
   {
    "duration": 5,
    "start_time": "2023-01-23T12:58:47.234Z"
   },
   {
    "duration": 11,
    "start_time": "2023-01-23T12:58:50.105Z"
   },
   {
    "duration": 14,
    "start_time": "2023-01-23T12:59:07.013Z"
   },
   {
    "duration": 9,
    "start_time": "2023-01-23T12:59:30.432Z"
   },
   {
    "duration": 19,
    "start_time": "2023-01-23T13:00:00.681Z"
   },
   {
    "duration": 7,
    "start_time": "2023-01-23T13:02:49.403Z"
   },
   {
    "duration": 9,
    "start_time": "2023-01-23T13:03:40.078Z"
   },
   {
    "duration": 10,
    "start_time": "2023-01-23T13:03:55.218Z"
   },
   {
    "duration": 8,
    "start_time": "2023-01-23T13:05:04.947Z"
   },
   {
    "duration": 8,
    "start_time": "2023-01-23T13:06:47.545Z"
   },
   {
    "duration": 5,
    "start_time": "2023-01-23T13:08:45.371Z"
   },
   {
    "duration": 11,
    "start_time": "2023-01-23T13:08:55.272Z"
   },
   {
    "duration": 8,
    "start_time": "2023-01-23T13:09:30.862Z"
   },
   {
    "duration": 7,
    "start_time": "2023-01-23T13:09:45.470Z"
   },
   {
    "duration": 8,
    "start_time": "2023-01-23T13:10:29.503Z"
   },
   {
    "duration": 42,
    "start_time": "2023-01-23T13:13:53.583Z"
   },
   {
    "duration": 11,
    "start_time": "2023-01-23T13:17:00.240Z"
   },
   {
    "duration": 12,
    "start_time": "2023-01-23T13:17:07.796Z"
   },
   {
    "duration": 17,
    "start_time": "2023-01-23T13:19:17.064Z"
   },
   {
    "duration": 12,
    "start_time": "2023-01-23T13:19:22.154Z"
   },
   {
    "duration": 10,
    "start_time": "2023-01-23T13:19:41.662Z"
   },
   {
    "duration": 63,
    "start_time": "2023-01-23T13:19:57.405Z"
   },
   {
    "duration": 359,
    "start_time": "2023-01-23T13:44:36.433Z"
   },
   {
    "duration": 311,
    "start_time": "2023-01-23T13:44:39.756Z"
   },
   {
    "duration": 28,
    "start_time": "2023-01-23T13:44:42.206Z"
   },
   {
    "duration": 4,
    "start_time": "2023-01-23T13:44:45.978Z"
   },
   {
    "duration": 17,
    "start_time": "2023-01-23T13:48:31.480Z"
   },
   {
    "duration": 2649,
    "start_time": "2023-01-23T13:48:34.804Z"
   },
   {
    "duration": 3,
    "start_time": "2023-01-23T13:50:54.490Z"
   },
   {
    "duration": 2,
    "start_time": "2023-01-23T13:50:57.765Z"
   },
   {
    "duration": 9,
    "start_time": "2023-01-23T13:52:28.864Z"
   },
   {
    "duration": 1031,
    "start_time": "2023-01-23T13:59:23.861Z"
   },
   {
    "duration": 13,
    "start_time": "2023-01-23T13:59:37.533Z"
   },
   {
    "duration": 11,
    "start_time": "2023-01-23T14:00:35.487Z"
   },
   {
    "duration": 21,
    "start_time": "2023-01-23T14:01:43.449Z"
   },
   {
    "duration": 416,
    "start_time": "2023-01-24T05:27:31.430Z"
   },
   {
    "duration": 330,
    "start_time": "2023-01-24T05:27:31.848Z"
   },
   {
    "duration": 28,
    "start_time": "2023-01-24T05:27:32.180Z"
   },
   {
    "duration": 4,
    "start_time": "2023-01-24T05:27:32.209Z"
   },
   {
    "duration": 36,
    "start_time": "2023-01-24T05:27:32.216Z"
   },
   {
    "duration": 2434,
    "start_time": "2023-01-24T05:27:32.253Z"
   },
   {
    "duration": 23,
    "start_time": "2023-01-24T05:27:34.690Z"
   },
   {
    "duration": 13,
    "start_time": "2023-01-24T05:27:34.714Z"
   },
   {
    "duration": 10,
    "start_time": "2023-01-24T05:27:44.324Z"
   },
   {
    "duration": 2,
    "start_time": "2023-01-24T05:28:26.084Z"
   },
   {
    "duration": 91,
    "start_time": "2023-01-24T05:28:28.906Z"
   },
   {
    "duration": 25,
    "start_time": "2023-01-24T05:28:31.416Z"
   },
   {
    "duration": 6,
    "start_time": "2023-01-24T05:28:34.487Z"
   },
   {
    "duration": 17,
    "start_time": "2023-01-24T05:28:36.550Z"
   },
   {
    "duration": 1927,
    "start_time": "2023-01-24T05:28:39.144Z"
   },
   {
    "duration": 21,
    "start_time": "2023-01-24T05:28:44.864Z"
   },
   {
    "duration": 15,
    "start_time": "2023-01-24T05:28:47.431Z"
   },
   {
    "duration": 12,
    "start_time": "2023-01-24T05:28:51.409Z"
   },
   {
    "duration": 9,
    "start_time": "2023-01-24T05:28:54.867Z"
   },
   {
    "duration": 10,
    "start_time": "2023-01-24T05:28:57.070Z"
   },
   {
    "duration": 46,
    "start_time": "2023-01-24T05:34:20.721Z"
   },
   {
    "duration": 304,
    "start_time": "2023-01-24T05:34:34.660Z"
   },
   {
    "duration": 20,
    "start_time": "2023-01-24T05:38:19.071Z"
   },
   {
    "duration": 15,
    "start_time": "2023-01-24T05:38:38.296Z"
   },
   {
    "duration": 23,
    "start_time": "2023-01-24T05:39:06.399Z"
   },
   {
    "duration": 23,
    "start_time": "2023-01-24T05:39:14.865Z"
   },
   {
    "duration": 212,
    "start_time": "2023-01-24T05:40:39.006Z"
   },
   {
    "duration": 9,
    "start_time": "2023-01-24T05:49:34.885Z"
   },
   {
    "duration": 18,
    "start_time": "2023-01-24T05:49:50.320Z"
   },
   {
    "duration": 20,
    "start_time": "2023-01-24T05:50:15.793Z"
   },
   {
    "duration": 20,
    "start_time": "2023-01-24T05:50:27.627Z"
   },
   {
    "duration": 3,
    "start_time": "2023-01-24T05:52:17.781Z"
   },
   {
    "duration": 97,
    "start_time": "2023-01-24T05:52:20.019Z"
   },
   {
    "duration": 24,
    "start_time": "2023-01-24T05:52:22.083Z"
   },
   {
    "duration": 5,
    "start_time": "2023-01-24T05:52:24.963Z"
   },
   {
    "duration": 15,
    "start_time": "2023-01-24T05:52:26.944Z"
   },
   {
    "duration": 2219,
    "start_time": "2023-01-24T05:52:30.398Z"
   },
   {
    "duration": 24,
    "start_time": "2023-01-24T05:52:35.236Z"
   },
   {
    "duration": 10,
    "start_time": "2023-01-24T05:52:40.426Z"
   },
   {
    "duration": 12,
    "start_time": "2023-01-24T05:52:56.912Z"
   },
   {
    "duration": 8,
    "start_time": "2023-01-24T05:53:00.047Z"
   },
   {
    "duration": 9,
    "start_time": "2023-01-24T05:53:02.897Z"
   },
   {
    "duration": 16,
    "start_time": "2023-01-24T05:53:28.582Z"
   },
   {
    "duration": 29,
    "start_time": "2023-01-24T05:56:18.855Z"
   },
   {
    "duration": 3,
    "start_time": "2023-01-24T05:57:42.844Z"
   },
   {
    "duration": 4,
    "start_time": "2023-01-24T05:58:26.607Z"
   },
   {
    "duration": 48,
    "start_time": "2023-01-24T05:58:53.814Z"
   },
   {
    "duration": 4,
    "start_time": "2023-01-24T05:59:03.046Z"
   },
   {
    "duration": 4,
    "start_time": "2023-01-24T05:59:13.963Z"
   },
   {
    "duration": 5,
    "start_time": "2023-01-24T05:59:16.117Z"
   },
   {
    "duration": 4,
    "start_time": "2023-01-24T05:59:23.693Z"
   },
   {
    "duration": 21,
    "start_time": "2023-01-24T06:00:00.944Z"
   },
   {
    "duration": 26,
    "start_time": "2023-01-24T06:00:16.660Z"
   },
   {
    "duration": 13,
    "start_time": "2023-01-24T06:02:05.683Z"
   },
   {
    "duration": 37,
    "start_time": "2023-01-24T06:02:24.570Z"
   },
   {
    "duration": 29,
    "start_time": "2023-01-24T06:03:03.697Z"
   },
   {
    "duration": 31,
    "start_time": "2023-01-24T06:04:00.332Z"
   },
   {
    "duration": 8,
    "start_time": "2023-01-24T06:04:30.329Z"
   },
   {
    "duration": 14,
    "start_time": "2023-01-24T06:04:46.843Z"
   },
   {
    "duration": 14,
    "start_time": "2023-01-24T06:22:50.255Z"
   },
   {
    "duration": 32,
    "start_time": "2023-01-24T06:23:23.052Z"
   },
   {
    "duration": 32,
    "start_time": "2023-01-24T06:23:51.769Z"
   },
   {
    "duration": 15,
    "start_time": "2023-01-24T06:24:32.266Z"
   },
   {
    "duration": 16,
    "start_time": "2023-01-24T06:25:15.132Z"
   },
   {
    "duration": 14,
    "start_time": "2023-01-24T06:25:27.679Z"
   },
   {
    "duration": 16,
    "start_time": "2023-01-24T06:26:47.300Z"
   },
   {
    "duration": 14,
    "start_time": "2023-01-24T06:26:55.257Z"
   },
   {
    "duration": 22,
    "start_time": "2023-01-24T06:27:52.555Z"
   },
   {
    "duration": 20,
    "start_time": "2023-01-24T06:28:06.526Z"
   },
   {
    "duration": 20,
    "start_time": "2023-01-24T06:28:25.945Z"
   },
   {
    "duration": 20,
    "start_time": "2023-01-24T06:28:33.718Z"
   },
   {
    "duration": 31,
    "start_time": "2023-01-24T06:28:49.963Z"
   },
   {
    "duration": 8,
    "start_time": "2023-01-24T06:30:12.004Z"
   },
   {
    "duration": 7,
    "start_time": "2023-01-24T06:30:30.985Z"
   },
   {
    "duration": 5647,
    "start_time": "2023-01-24T06:33:44.510Z"
   },
   {
    "duration": 52,
    "start_time": "2023-01-24T06:34:37.170Z"
   },
   {
    "duration": 20,
    "start_time": "2023-01-24T06:35:26.326Z"
   },
   {
    "duration": 17,
    "start_time": "2023-01-24T06:35:48.629Z"
   },
   {
    "duration": 36,
    "start_time": "2023-01-24T06:36:07.879Z"
   },
   {
    "duration": 28,
    "start_time": "2023-01-24T06:37:20.435Z"
   },
   {
    "duration": 8,
    "start_time": "2023-01-24T06:39:31.371Z"
   },
   {
    "duration": 5,
    "start_time": "2023-01-24T06:39:37.809Z"
   },
   {
    "duration": 10,
    "start_time": "2023-01-24T06:39:42.600Z"
   },
   {
    "duration": 10,
    "start_time": "2023-01-24T06:39:45.472Z"
   },
   {
    "duration": 7,
    "start_time": "2023-01-24T06:44:16.932Z"
   },
   {
    "duration": 8,
    "start_time": "2023-01-24T06:44:47.692Z"
   },
   {
    "duration": 9,
    "start_time": "2023-01-24T06:45:17.934Z"
   },
   {
    "duration": 9,
    "start_time": "2023-01-24T06:45:39.304Z"
   },
   {
    "duration": 22,
    "start_time": "2023-01-24T06:47:21.847Z"
   },
   {
    "duration": 39,
    "start_time": "2023-01-24T06:48:15.355Z"
   },
   {
    "duration": 4,
    "start_time": "2023-01-24T08:14:45.735Z"
   },
   {
    "duration": 21,
    "start_time": "2023-01-24T08:14:58.886Z"
   },
   {
    "duration": 4,
    "start_time": "2023-01-24T08:16:05.292Z"
   },
   {
    "duration": 22,
    "start_time": "2023-01-24T08:16:07.968Z"
   },
   {
    "duration": 9,
    "start_time": "2023-01-24T08:17:59.649Z"
   },
   {
    "duration": 10,
    "start_time": "2023-01-24T08:18:22.438Z"
   },
   {
    "duration": 11,
    "start_time": "2023-01-24T08:20:54.581Z"
   },
   {
    "duration": 11,
    "start_time": "2023-01-24T08:21:59.968Z"
   },
   {
    "duration": 47,
    "start_time": "2023-01-25T04:28:41.271Z"
   },
   {
    "duration": 367,
    "start_time": "2023-01-25T04:29:12.099Z"
   },
   {
    "duration": 359,
    "start_time": "2023-01-25T04:29:12.467Z"
   },
   {
    "duration": 33,
    "start_time": "2023-01-25T04:29:12.828Z"
   },
   {
    "duration": 5,
    "start_time": "2023-01-25T04:29:12.863Z"
   },
   {
    "duration": 26,
    "start_time": "2023-01-25T04:29:12.871Z"
   },
   {
    "duration": 2382,
    "start_time": "2023-01-25T04:29:12.899Z"
   },
   {
    "duration": 22,
    "start_time": "2023-01-25T04:29:15.283Z"
   },
   {
    "duration": 22,
    "start_time": "2023-01-25T04:29:15.306Z"
   },
   {
    "duration": 15,
    "start_time": "2023-01-25T04:29:15.329Z"
   },
   {
    "duration": 29,
    "start_time": "2023-01-25T04:29:15.346Z"
   },
   {
    "duration": 17,
    "start_time": "2023-01-25T04:29:15.378Z"
   },
   {
    "duration": 23,
    "start_time": "2023-01-25T04:29:15.397Z"
   },
   {
    "duration": 15,
    "start_time": "2023-01-25T04:29:15.421Z"
   },
   {
    "duration": 38,
    "start_time": "2023-01-25T04:29:15.438Z"
   },
   {
    "duration": 24,
    "start_time": "2023-01-25T04:29:15.478Z"
   },
   {
    "duration": 19,
    "start_time": "2023-01-25T04:29:15.504Z"
   },
   {
    "duration": 58,
    "start_time": "2023-01-25T04:29:15.524Z"
   },
   {
    "duration": 0,
    "start_time": "2023-01-25T04:29:15.584Z"
   },
   {
    "duration": 0,
    "start_time": "2023-01-25T04:29:15.585Z"
   },
   {
    "duration": 0,
    "start_time": "2023-01-25T04:29:15.586Z"
   },
   {
    "duration": 0,
    "start_time": "2023-01-25T04:29:15.587Z"
   },
   {
    "duration": 0,
    "start_time": "2023-01-25T04:29:15.588Z"
   },
   {
    "duration": 0,
    "start_time": "2023-01-25T04:29:15.590Z"
   },
   {
    "duration": 0,
    "start_time": "2023-01-25T04:29:15.590Z"
   },
   {
    "duration": 0,
    "start_time": "2023-01-25T04:29:15.591Z"
   },
   {
    "duration": 0,
    "start_time": "2023-01-25T04:29:15.592Z"
   },
   {
    "duration": 0,
    "start_time": "2023-01-25T04:29:15.593Z"
   },
   {
    "duration": 0,
    "start_time": "2023-01-25T04:29:15.594Z"
   },
   {
    "duration": 10,
    "start_time": "2023-01-25T04:29:53.918Z"
   },
   {
    "duration": 31,
    "start_time": "2023-01-25T04:29:53.929Z"
   },
   {
    "duration": 7,
    "start_time": "2023-01-25T04:29:53.963Z"
   },
   {
    "duration": 15,
    "start_time": "2023-01-25T04:29:53.972Z"
   },
   {
    "duration": 8,
    "start_time": "2023-01-25T04:29:53.988Z"
   },
   {
    "duration": 19,
    "start_time": "2023-01-25T04:29:53.998Z"
   },
   {
    "duration": 39,
    "start_time": "2023-01-25T04:29:54.018Z"
   },
   {
    "duration": 6,
    "start_time": "2023-01-25T04:29:54.058Z"
   },
   {
    "duration": 12,
    "start_time": "2023-01-25T04:29:54.066Z"
   },
   {
    "duration": 19,
    "start_time": "2023-01-25T04:29:54.081Z"
   },
   {
    "duration": 7,
    "start_time": "2023-01-25T04:29:54.101Z"
   },
   {
    "duration": 11,
    "start_time": "2023-01-25T04:29:54.110Z"
   },
   {
    "duration": 20,
    "start_time": "2023-01-25T04:30:09.699Z"
   },
   {
    "duration": 8,
    "start_time": "2023-01-25T04:32:59.394Z"
   },
   {
    "duration": 21,
    "start_time": "2023-01-25T04:33:01.524Z"
   },
   {
    "duration": 9,
    "start_time": "2023-01-25T04:33:28.447Z"
   },
   {
    "duration": 20,
    "start_time": "2023-01-25T04:33:31.201Z"
   },
   {
    "duration": 261,
    "start_time": "2023-01-25T04:58:04.180Z"
   },
   {
    "duration": 21,
    "start_time": "2023-01-25T04:58:06.985Z"
   },
   {
    "duration": 5,
    "start_time": "2023-01-25T05:02:07.058Z"
   },
   {
    "duration": 31,
    "start_time": "2023-01-25T05:02:09.127Z"
   },
   {
    "duration": 2341,
    "start_time": "2023-01-25T05:15:14.539Z"
   },
   {
    "duration": 5,
    "start_time": "2023-01-25T05:18:19.184Z"
   },
   {
    "duration": 249,
    "start_time": "2023-01-25T05:19:01.229Z"
   },
   {
    "duration": 133,
    "start_time": "2023-01-25T05:19:11.717Z"
   },
   {
    "duration": 769,
    "start_time": "2023-01-25T05:41:28.925Z"
   },
   {
    "duration": 332,
    "start_time": "2023-01-25T05:41:29.696Z"
   },
   {
    "duration": 28,
    "start_time": "2023-01-25T05:41:30.030Z"
   },
   {
    "duration": 9,
    "start_time": "2023-01-25T05:41:30.060Z"
   },
   {
    "duration": 21,
    "start_time": "2023-01-25T05:41:30.071Z"
   },
   {
    "duration": 2186,
    "start_time": "2023-01-25T05:41:30.094Z"
   },
   {
    "duration": 21,
    "start_time": "2023-01-25T05:41:32.282Z"
   },
   {
    "duration": 17,
    "start_time": "2023-01-25T05:41:32.305Z"
   },
   {
    "duration": 12,
    "start_time": "2023-01-25T05:41:32.324Z"
   },
   {
    "duration": 14,
    "start_time": "2023-01-25T05:41:32.339Z"
   },
   {
    "duration": 29,
    "start_time": "2023-01-25T05:41:32.355Z"
   },
   {
    "duration": 13,
    "start_time": "2023-01-25T05:41:32.385Z"
   },
   {
    "duration": 15,
    "start_time": "2023-01-25T05:41:32.400Z"
   },
   {
    "duration": 21,
    "start_time": "2023-01-25T05:41:32.417Z"
   },
   {
    "duration": 26,
    "start_time": "2023-01-25T05:41:32.440Z"
   },
   {
    "duration": 21,
    "start_time": "2023-01-25T05:41:32.468Z"
   },
   {
    "duration": 9,
    "start_time": "2023-01-25T05:41:32.490Z"
   },
   {
    "duration": 41,
    "start_time": "2023-01-25T05:41:32.501Z"
   },
   {
    "duration": 7,
    "start_time": "2023-01-25T05:41:32.544Z"
   },
   {
    "duration": 31,
    "start_time": "2023-01-25T05:41:32.552Z"
   },
   {
    "duration": 8,
    "start_time": "2023-01-25T05:41:32.585Z"
   },
   {
    "duration": 31,
    "start_time": "2023-01-25T05:41:32.595Z"
   },
   {
    "duration": 37,
    "start_time": "2023-01-25T05:41:32.628Z"
   },
   {
    "duration": 4,
    "start_time": "2023-01-25T05:41:32.666Z"
   },
   {
    "duration": 29,
    "start_time": "2023-01-25T05:41:32.672Z"
   },
   {
    "duration": 19,
    "start_time": "2023-01-25T05:41:32.703Z"
   },
   {
    "duration": 15,
    "start_time": "2023-01-25T05:41:32.724Z"
   },
   {
    "duration": 18,
    "start_time": "2023-01-25T05:41:32.743Z"
   },
   {
    "duration": 11,
    "start_time": "2023-01-25T05:41:32.762Z"
   },
   {
    "duration": 16,
    "start_time": "2023-01-25T05:41:32.774Z"
   },
   {
    "duration": 252,
    "start_time": "2023-01-25T05:41:32.791Z"
   },
   {
    "duration": 3,
    "start_time": "2023-01-25T05:41:33.045Z"
   },
   {
    "duration": 32,
    "start_time": "2023-01-25T05:41:33.050Z"
   },
   {
    "duration": 153,
    "start_time": "2023-01-25T05:41:33.084Z"
   },
   {
    "duration": 612,
    "start_time": "2023-01-25T06:09:51.665Z"
   },
   {
    "duration": 98,
    "start_time": "2023-01-25T06:09:54.589Z"
   },
   {
    "duration": 26,
    "start_time": "2023-01-25T06:09:57.299Z"
   },
   {
    "duration": 5,
    "start_time": "2023-01-25T06:10:20.075Z"
   },
   {
    "duration": 17,
    "start_time": "2023-01-25T06:10:22.249Z"
   },
   {
    "duration": 74,
    "start_time": "2023-01-25T06:10:25.288Z"
   },
   {
    "duration": 4,
    "start_time": "2023-01-25T07:08:13.173Z"
   },
   {
    "duration": 105,
    "start_time": "2023-01-25T07:08:16.764Z"
   },
   {
    "duration": 23,
    "start_time": "2023-01-25T07:08:18.967Z"
   },
   {
    "duration": 14,
    "start_time": "2023-01-25T07:08:25.104Z"
   },
   {
    "duration": 5,
    "start_time": "2023-01-25T07:13:38.302Z"
   },
   {
    "duration": 10,
    "start_time": "2023-01-25T07:15:09.014Z"
   },
   {
    "duration": 16,
    "start_time": "2023-01-25T07:18:29.141Z"
   },
   {
    "duration": 181,
    "start_time": "2023-01-25T07:39:53.239Z"
   },
   {
    "duration": 263,
    "start_time": "2023-01-25T07:43:02.578Z"
   },
   {
    "duration": 336,
    "start_time": "2023-01-25T07:43:30.337Z"
   },
   {
    "duration": 59,
    "start_time": "2023-01-25T07:46:14.874Z"
   },
   {
    "duration": 74,
    "start_time": "2023-01-25T07:47:21.552Z"
   },
   {
    "duration": 7,
    "start_time": "2023-01-25T07:47:32.269Z"
   },
   {
    "duration": 82,
    "start_time": "2023-01-25T07:48:37.731Z"
   },
   {
    "duration": 9,
    "start_time": "2023-01-25T07:48:42.598Z"
   },
   {
    "duration": 10,
    "start_time": "2023-01-25T07:49:15.903Z"
   },
   {
    "duration": 263,
    "start_time": "2023-01-25T07:49:22.317Z"
   },
   {
    "duration": 461,
    "start_time": "2023-01-25T07:50:09.956Z"
   },
   {
    "duration": 6,
    "start_time": "2023-01-25T07:50:17.190Z"
   },
   {
    "duration": 359,
    "start_time": "2023-01-25T07:50:19.438Z"
   },
   {
    "duration": 7,
    "start_time": "2023-01-25T07:50:38.024Z"
   },
   {
    "duration": 238,
    "start_time": "2023-01-25T07:50:40.284Z"
   },
   {
    "duration": 8,
    "start_time": "2023-01-25T07:51:21.573Z"
   },
   {
    "duration": 621,
    "start_time": "2023-01-25T07:51:24.070Z"
   },
   {
    "duration": 4,
    "start_time": "2023-01-25T07:52:52.689Z"
   },
   {
    "duration": 6,
    "start_time": "2023-01-25T07:52:59.178Z"
   },
   {
    "duration": 692,
    "start_time": "2023-01-25T07:53:01.059Z"
   },
   {
    "duration": 6,
    "start_time": "2023-01-25T07:53:32.291Z"
   },
   {
    "duration": 802,
    "start_time": "2023-01-25T07:53:34.239Z"
   },
   {
    "duration": 6,
    "start_time": "2023-01-25T07:54:36.850Z"
   },
   {
    "duration": 6,
    "start_time": "2023-01-25T07:54:44.147Z"
   },
   {
    "duration": 1362,
    "start_time": "2023-01-25T07:54:46.170Z"
   },
   {
    "duration": 281,
    "start_time": "2023-01-25T08:03:49.793Z"
   },
   {
    "duration": 289,
    "start_time": "2023-01-25T08:04:04.948Z"
   },
   {
    "duration": 5,
    "start_time": "2023-01-25T08:07:39.827Z"
   },
   {
    "duration": 6,
    "start_time": "2023-01-25T08:07:54.638Z"
   },
   {
    "duration": 7,
    "start_time": "2023-01-25T08:12:50.643Z"
   },
   {
    "duration": 8,
    "start_time": "2023-01-25T08:12:59.909Z"
   },
   {
    "duration": 1776,
    "start_time": "2023-01-25T08:15:38.714Z"
   },
   {
    "duration": 583,
    "start_time": "2023-01-25T08:15:48.970Z"
   },
   {
    "duration": 275,
    "start_time": "2023-01-25T08:15:59.107Z"
   },
   {
    "duration": 295,
    "start_time": "2023-01-25T08:17:42.330Z"
   },
   {
    "duration": 318,
    "start_time": "2023-01-25T08:17:51.218Z"
   },
   {
    "duration": 242,
    "start_time": "2023-01-25T08:27:38.533Z"
   },
   {
    "duration": 16,
    "start_time": "2023-01-25T08:44:58.566Z"
   },
   {
    "duration": 5,
    "start_time": "2023-01-25T08:45:12.427Z"
   },
   {
    "duration": 11,
    "start_time": "2023-01-25T08:45:14.610Z"
   },
   {
    "duration": 14,
    "start_time": "2023-01-25T08:45:16.798Z"
   },
   {
    "duration": 9,
    "start_time": "2023-01-25T08:45:19.864Z"
   },
   {
    "duration": 275,
    "start_time": "2023-01-25T08:45:22.856Z"
   },
   {
    "duration": 6,
    "start_time": "2023-01-25T08:45:25.550Z"
   },
   {
    "duration": 10,
    "start_time": "2023-01-25T08:45:33.582Z"
   },
   {
    "duration": 11,
    "start_time": "2023-01-25T08:45:56.574Z"
   },
   {
    "duration": 30,
    "start_time": "2023-01-25T08:47:23.419Z"
   },
   {
    "duration": 25,
    "start_time": "2023-01-25T08:47:42.598Z"
   },
   {
    "duration": 47,
    "start_time": "2023-01-25T08:48:05.477Z"
   },
   {
    "duration": 35,
    "start_time": "2023-01-25T08:48:17.562Z"
   },
   {
    "duration": 26,
    "start_time": "2023-01-25T08:48:34.512Z"
   },
   {
    "duration": 38,
    "start_time": "2023-01-25T08:48:47.604Z"
   },
   {
    "duration": 23,
    "start_time": "2023-01-25T08:49:10.467Z"
   },
   {
    "duration": 35,
    "start_time": "2023-01-25T08:49:37.709Z"
   },
   {
    "duration": 12,
    "start_time": "2023-01-25T08:50:28.546Z"
   },
   {
    "duration": 41,
    "start_time": "2023-01-25T08:50:38.329Z"
   },
   {
    "duration": 37,
    "start_time": "2023-01-25T08:50:48.404Z"
   },
   {
    "duration": 53,
    "start_time": "2023-01-25T08:51:11.314Z"
   },
   {
    "duration": 36,
    "start_time": "2023-01-25T08:51:25.190Z"
   },
   {
    "duration": 36,
    "start_time": "2023-01-25T08:51:33.834Z"
   },
   {
    "duration": 36,
    "start_time": "2023-01-25T08:52:01.950Z"
   },
   {
    "duration": 24,
    "start_time": "2023-01-25T08:52:31.008Z"
   },
   {
    "duration": 31,
    "start_time": "2023-01-25T08:54:21.637Z"
   },
   {
    "duration": 40,
    "start_time": "2023-01-25T08:55:25.670Z"
   },
   {
    "duration": 46,
    "start_time": "2023-01-25T08:55:25.818Z"
   },
   {
    "duration": 13,
    "start_time": "2023-01-25T08:55:32.927Z"
   },
   {
    "duration": 6,
    "start_time": "2023-01-25T08:55:43.366Z"
   },
   {
    "duration": 5,
    "start_time": "2023-01-25T08:55:54.171Z"
   },
   {
    "duration": 5,
    "start_time": "2023-01-25T08:58:39.349Z"
   },
   {
    "duration": 57,
    "start_time": "2023-01-25T08:58:46.513Z"
   },
   {
    "duration": 52,
    "start_time": "2023-01-25T08:59:00.337Z"
   },
   {
    "duration": 19,
    "start_time": "2023-01-25T08:59:13.421Z"
   },
   {
    "duration": 24,
    "start_time": "2023-01-25T09:02:34.931Z"
   },
   {
    "duration": 23,
    "start_time": "2023-01-25T09:03:21.881Z"
   },
   {
    "duration": 11,
    "start_time": "2023-01-25T09:03:37.685Z"
   },
   {
    "duration": 875,
    "start_time": "2023-01-25T09:04:23.727Z"
   },
   {
    "duration": 704,
    "start_time": "2023-01-25T09:04:36.995Z"
   },
   {
    "duration": 3,
    "start_time": "2023-01-25T09:05:16.843Z"
   },
   {
    "duration": 11,
    "start_time": "2023-01-25T09:05:25.714Z"
   },
   {
    "duration": 6,
    "start_time": "2023-01-25T09:05:52.824Z"
   },
   {
    "duration": 13,
    "start_time": "2023-01-25T09:05:58.439Z"
   },
   {
    "duration": 14,
    "start_time": "2023-01-25T09:06:06.820Z"
   },
   {
    "duration": 5,
    "start_time": "2023-01-25T09:06:12.632Z"
   },
   {
    "duration": 32,
    "start_time": "2023-01-25T09:07:26.025Z"
   },
   {
    "duration": 39,
    "start_time": "2023-01-25T09:08:06.255Z"
   },
   {
    "duration": 6,
    "start_time": "2023-01-25T09:45:19.654Z"
   },
   {
    "duration": 102,
    "start_time": "2023-01-25T09:45:22.056Z"
   },
   {
    "duration": 27,
    "start_time": "2023-01-25T09:45:24.161Z"
   },
   {
    "duration": 4,
    "start_time": "2023-01-25T09:46:06.773Z"
   },
   {
    "duration": 66,
    "start_time": "2023-01-25T09:47:08.232Z"
   },
   {
    "duration": 4,
    "start_time": "2023-01-25T09:48:07.598Z"
   },
   {
    "duration": 16,
    "start_time": "2023-01-25T09:48:17.540Z"
   },
   {
    "duration": 42,
    "start_time": "2023-01-25T09:51:08.808Z"
   },
   {
    "duration": 46,
    "start_time": "2023-01-25T09:53:36.297Z"
   },
   {
    "duration": 10,
    "start_time": "2023-01-25T09:58:19.994Z"
   },
   {
    "duration": 39,
    "start_time": "2023-01-25T10:03:39.642Z"
   },
   {
    "duration": 33,
    "start_time": "2023-01-25T10:04:49.223Z"
   },
   {
    "duration": 34,
    "start_time": "2023-01-25T10:13:12.080Z"
   },
   {
    "duration": 42,
    "start_time": "2023-01-25T10:14:03.752Z"
   },
   {
    "duration": 56,
    "start_time": "2023-01-25T10:15:11.077Z"
   },
   {
    "duration": 5,
    "start_time": "2023-01-25T10:15:16.550Z"
   },
   {
    "duration": 15,
    "start_time": "2023-01-25T10:15:44.544Z"
   },
   {
    "duration": 16,
    "start_time": "2023-01-25T10:16:03.713Z"
   },
   {
    "duration": 45,
    "start_time": "2023-01-25T10:16:12.422Z"
   },
   {
    "duration": 38,
    "start_time": "2023-01-25T10:17:42.113Z"
   },
   {
    "duration": 13,
    "start_time": "2023-01-25T10:18:01.214Z"
   },
   {
    "duration": 16,
    "start_time": "2023-01-25T10:28:51.984Z"
   },
   {
    "duration": 9,
    "start_time": "2023-01-25T10:28:58.162Z"
   },
   {
    "duration": 2,
    "start_time": "2023-01-25T10:39:55.206Z"
   },
   {
    "duration": 11,
    "start_time": "2023-01-25T10:40:34.232Z"
   },
   {
    "duration": 117,
    "start_time": "2023-01-25T10:41:08.813Z"
   },
   {
    "duration": 131,
    "start_time": "2023-01-25T10:41:19.728Z"
   },
   {
    "duration": 144,
    "start_time": "2023-01-25T10:41:45.353Z"
   },
   {
    "duration": 128,
    "start_time": "2023-01-25T10:42:28.701Z"
   },
   {
    "duration": 129,
    "start_time": "2023-01-25T10:42:43.368Z"
   },
   {
    "duration": 111,
    "start_time": "2023-01-25T10:46:39.748Z"
   },
   {
    "duration": 154,
    "start_time": "2023-01-25T10:50:59.248Z"
   },
   {
    "duration": 197,
    "start_time": "2023-01-25T10:51:12.060Z"
   },
   {
    "duration": 151,
    "start_time": "2023-01-25T10:51:21.652Z"
   },
   {
    "duration": 250,
    "start_time": "2023-01-25T10:52:00.000Z"
   },
   {
    "duration": 112,
    "start_time": "2023-01-25T10:54:19.452Z"
   },
   {
    "duration": 132,
    "start_time": "2023-01-25T10:55:36.041Z"
   },
   {
    "duration": 1336,
    "start_time": "2023-01-25T11:02:51.647Z"
   },
   {
    "duration": 1053,
    "start_time": "2023-01-25T11:03:29.641Z"
   },
   {
    "duration": 1435,
    "start_time": "2023-01-25T11:03:39.482Z"
   },
   {
    "duration": 7,
    "start_time": "2023-01-25T11:05:07.029Z"
   },
   {
    "duration": 1445,
    "start_time": "2023-01-25T11:05:09.471Z"
   },
   {
    "duration": 7,
    "start_time": "2023-01-25T11:05:20.004Z"
   },
   {
    "duration": 1302,
    "start_time": "2023-01-25T11:05:21.881Z"
   },
   {
    "duration": 7,
    "start_time": "2023-01-25T11:10:32.608Z"
   },
   {
    "duration": 1063,
    "start_time": "2023-01-25T11:11:25.826Z"
   },
   {
    "duration": 10,
    "start_time": "2023-01-25T11:28:59.741Z"
   },
   {
    "duration": 8,
    "start_time": "2023-01-25T11:29:13.829Z"
   },
   {
    "duration": 3,
    "start_time": "2023-01-25T11:32:14.071Z"
   },
   {
    "duration": 1290,
    "start_time": "2023-01-26T07:14:15.180Z"
   },
   {
    "duration": 310,
    "start_time": "2023-01-26T07:14:17.846Z"
   },
   {
    "duration": 28,
    "start_time": "2023-01-26T07:14:20.036Z"
   },
   {
    "duration": 4,
    "start_time": "2023-01-26T07:14:23.503Z"
   },
   {
    "duration": 5,
    "start_time": "2023-01-26T07:14:25.626Z"
   },
   {
    "duration": 3,
    "start_time": "2023-01-26T07:16:13.482Z"
   },
   {
    "duration": 8,
    "start_time": "2023-01-26T07:17:41.916Z"
   },
   {
    "duration": 178,
    "start_time": "2023-01-26T07:17:41.926Z"
   },
   {
    "duration": 35,
    "start_time": "2023-01-26T07:17:42.107Z"
   },
   {
    "duration": 18,
    "start_time": "2023-01-26T07:17:42.148Z"
   },
   {
    "duration": 19,
    "start_time": "2023-01-26T07:17:42.169Z"
   },
   {
    "duration": 39,
    "start_time": "2023-01-26T07:17:42.191Z"
   },
   {
    "duration": 117,
    "start_time": "2023-01-26T07:17:42.232Z"
   },
   {
    "duration": 2633,
    "start_time": "2023-01-26T07:17:42.351Z"
   },
   {
    "duration": 10,
    "start_time": "2023-01-26T07:17:44.987Z"
   },
   {
    "duration": 66,
    "start_time": "2023-01-26T07:17:44.999Z"
   },
   {
    "duration": 18,
    "start_time": "2023-01-26T07:17:45.067Z"
   },
   {
    "duration": 27,
    "start_time": "2023-01-26T07:17:45.087Z"
   },
   {
    "duration": 26,
    "start_time": "2023-01-26T07:17:45.115Z"
   },
   {
    "duration": 36,
    "start_time": "2023-01-26T07:17:45.146Z"
   },
   {
    "duration": 22,
    "start_time": "2023-01-26T07:17:45.184Z"
   },
   {
    "duration": 53,
    "start_time": "2023-01-26T07:17:45.212Z"
   },
   {
    "duration": 16,
    "start_time": "2023-01-26T07:17:45.267Z"
   },
   {
    "duration": 52,
    "start_time": "2023-01-26T07:17:45.285Z"
   },
   {
    "duration": 31,
    "start_time": "2023-01-26T07:17:45.340Z"
   },
   {
    "duration": 13,
    "start_time": "2023-01-26T07:17:45.373Z"
   },
   {
    "duration": 60,
    "start_time": "2023-01-26T07:17:45.387Z"
   },
   {
    "duration": 9,
    "start_time": "2023-01-26T07:17:45.449Z"
   },
   {
    "duration": 19,
    "start_time": "2023-01-26T07:17:45.460Z"
   },
   {
    "duration": 9,
    "start_time": "2023-01-26T07:17:45.481Z"
   },
   {
    "duration": 14,
    "start_time": "2023-01-26T07:17:45.492Z"
   },
   {
    "duration": 55,
    "start_time": "2023-01-26T07:17:45.508Z"
   },
   {
    "duration": 5,
    "start_time": "2023-01-26T07:17:45.565Z"
   },
   {
    "duration": 17,
    "start_time": "2023-01-26T07:17:45.572Z"
   },
   {
    "duration": 54,
    "start_time": "2023-01-26T07:17:45.591Z"
   },
   {
    "duration": 4,
    "start_time": "2023-01-26T07:17:45.647Z"
   },
   {
    "duration": 37,
    "start_time": "2023-01-26T07:17:45.653Z"
   },
   {
    "duration": 27,
    "start_time": "2023-01-26T07:17:45.692Z"
   },
   {
    "duration": 14,
    "start_time": "2023-01-26T07:17:45.721Z"
   },
   {
    "duration": 389,
    "start_time": "2023-01-26T07:17:45.737Z"
   },
   {
    "duration": 12,
    "start_time": "2023-01-26T07:17:46.128Z"
   },
   {
    "duration": 67,
    "start_time": "2023-01-26T07:17:46.142Z"
   },
   {
    "duration": 12,
    "start_time": "2023-01-26T07:17:46.212Z"
   },
   {
    "duration": 135,
    "start_time": "2023-01-26T07:17:46.227Z"
   },
   {
    "duration": 140,
    "start_time": "2023-01-26T07:17:46.364Z"
   },
   {
    "duration": 381,
    "start_time": "2023-01-26T07:17:46.508Z"
   },
   {
    "duration": 360,
    "start_time": "2023-01-26T07:17:46.893Z"
   },
   {
    "duration": 8,
    "start_time": "2023-01-26T07:17:47.256Z"
   },
   {
    "duration": 1633,
    "start_time": "2023-01-26T07:17:47.266Z"
   },
   {
    "duration": 271,
    "start_time": "2023-01-26T07:17:48.901Z"
   },
   {
    "duration": 6,
    "start_time": "2023-01-26T07:17:49.174Z"
   },
   {
    "duration": 63,
    "start_time": "2023-01-26T07:17:49.183Z"
   },
   {
    "duration": 291,
    "start_time": "2023-01-26T07:17:49.248Z"
   },
   {
    "duration": 37,
    "start_time": "2023-01-26T07:17:49.542Z"
   },
   {
    "duration": 34,
    "start_time": "2023-01-26T07:18:22.229Z"
   },
   {
    "duration": 69,
    "start_time": "2023-01-26T07:19:54.217Z"
   },
   {
    "duration": 89,
    "start_time": "2023-01-26T07:20:22.728Z"
   },
   {
    "duration": 21,
    "start_time": "2023-01-26T07:23:01.765Z"
   },
   {
    "duration": 16,
    "start_time": "2023-01-26T07:24:20.545Z"
   },
   {
    "duration": 13,
    "start_time": "2023-01-26T07:25:12.818Z"
   },
   {
    "duration": 106,
    "start_time": "2023-01-26T07:25:41.725Z"
   },
   {
    "duration": 18,
    "start_time": "2023-01-26T07:25:52.305Z"
   },
   {
    "duration": 23,
    "start_time": "2023-01-26T07:26:20.959Z"
   },
   {
    "duration": 58,
    "start_time": "2023-01-26T07:26:26.939Z"
   },
   {
    "duration": 18,
    "start_time": "2023-01-26T07:27:07.143Z"
   },
   {
    "duration": 14,
    "start_time": "2023-01-26T07:27:37.710Z"
   },
   {
    "duration": 126,
    "start_time": "2023-01-26T07:27:59.513Z"
   },
   {
    "duration": 934,
    "start_time": "2023-01-26T07:29:23.852Z"
   },
   {
    "duration": 68,
    "start_time": "2023-01-26T07:30:15.856Z"
   },
   {
    "duration": 151,
    "start_time": "2023-01-26T07:30:30.604Z"
   },
   {
    "duration": 53,
    "start_time": "2023-01-26T07:31:05.033Z"
   },
   {
    "duration": 993,
    "start_time": "2023-01-26T07:31:21.348Z"
   },
   {
    "duration": 1185,
    "start_time": "2023-01-26T07:32:11.615Z"
   },
   {
    "duration": 853,
    "start_time": "2023-01-26T07:33:28.053Z"
   },
   {
    "duration": 16,
    "start_time": "2023-01-26T07:34:24.506Z"
   },
   {
    "duration": 1025,
    "start_time": "2023-01-26T07:34:30.007Z"
   },
   {
    "duration": 19,
    "start_time": "2023-01-26T07:35:08.907Z"
   },
   {
    "duration": 17,
    "start_time": "2023-01-26T07:35:11.671Z"
   },
   {
    "duration": 57,
    "start_time": "2023-01-26T07:36:04.935Z"
   },
   {
    "duration": 1163,
    "start_time": "2023-01-26T07:36:43.868Z"
   },
   {
    "duration": 23,
    "start_time": "2023-01-26T07:38:11.816Z"
   },
   {
    "duration": 18,
    "start_time": "2023-01-26T07:38:32.035Z"
   },
   {
    "duration": 54,
    "start_time": "2023-01-26T07:38:38.613Z"
   },
   {
    "duration": 50,
    "start_time": "2023-01-26T07:39:43.060Z"
   },
   {
    "duration": 55,
    "start_time": "2023-01-26T07:39:51.851Z"
   },
   {
    "duration": 56,
    "start_time": "2023-01-26T07:39:59.942Z"
   },
   {
    "duration": 18,
    "start_time": "2023-01-26T07:40:15.453Z"
   },
   {
    "duration": 20,
    "start_time": "2023-01-26T07:42:27.255Z"
   },
   {
    "duration": 60,
    "start_time": "2023-01-26T07:42:38.484Z"
   },
   {
    "duration": 57,
    "start_time": "2023-01-26T07:42:47.469Z"
   },
   {
    "duration": 58,
    "start_time": "2023-01-26T07:43:11.509Z"
   },
   {
    "duration": 55,
    "start_time": "2023-01-26T07:44:01.583Z"
   },
   {
    "duration": 18,
    "start_time": "2023-01-26T07:44:50.937Z"
   },
   {
    "duration": 19,
    "start_time": "2023-01-26T07:45:40.418Z"
   },
   {
    "duration": 14,
    "start_time": "2023-01-26T07:47:10.995Z"
   },
   {
    "duration": 14,
    "start_time": "2023-01-26T07:47:18.637Z"
   },
   {
    "duration": 22,
    "start_time": "2023-01-26T07:47:44.200Z"
   },
   {
    "duration": 17,
    "start_time": "2023-01-26T07:47:50.140Z"
   },
   {
    "duration": 16,
    "start_time": "2023-01-26T07:48:29.312Z"
   },
   {
    "duration": 16,
    "start_time": "2023-01-26T07:48:56.363Z"
   },
   {
    "duration": 17,
    "start_time": "2023-01-26T07:50:15.780Z"
   },
   {
    "duration": 18,
    "start_time": "2023-01-26T07:50:30.658Z"
   },
   {
    "duration": 20,
    "start_time": "2023-01-26T07:57:08.599Z"
   },
   {
    "duration": 21,
    "start_time": "2023-01-26T07:57:26.759Z"
   },
   {
    "duration": 19,
    "start_time": "2023-01-26T07:57:43.356Z"
   },
   {
    "duration": 32,
    "start_time": "2023-01-26T07:57:57.732Z"
   },
   {
    "duration": 18,
    "start_time": "2023-01-26T07:58:23.717Z"
   },
   {
    "duration": 10,
    "start_time": "2023-01-26T07:58:28.879Z"
   },
   {
    "duration": 20,
    "start_time": "2023-01-26T07:58:42.073Z"
   },
   {
    "duration": 19,
    "start_time": "2023-01-26T07:58:50.354Z"
   },
   {
    "duration": 24,
    "start_time": "2023-01-26T07:59:02.332Z"
   },
   {
    "duration": 16,
    "start_time": "2023-01-26T07:59:11.510Z"
   },
   {
    "duration": 224,
    "start_time": "2023-01-26T07:59:17.662Z"
   },
   {
    "duration": 174,
    "start_time": "2023-01-26T08:02:41.416Z"
   },
   {
    "duration": 235,
    "start_time": "2023-01-26T08:02:55.326Z"
   },
   {
    "duration": 14,
    "start_time": "2023-01-26T08:05:47.667Z"
   },
   {
    "duration": 17,
    "start_time": "2023-01-26T08:06:23.676Z"
   },
   {
    "duration": 198,
    "start_time": "2023-01-26T08:06:28.855Z"
   },
   {
    "duration": 170,
    "start_time": "2023-01-26T08:06:56.546Z"
   },
   {
    "duration": 10,
    "start_time": "2023-01-26T08:18:37.886Z"
   },
   {
    "duration": 11,
    "start_time": "2023-01-26T08:19:07.651Z"
   },
   {
    "duration": 5,
    "start_time": "2023-01-26T08:19:20.827Z"
   },
   {
    "duration": 7,
    "start_time": "2023-01-26T08:19:53.314Z"
   },
   {
    "duration": 20,
    "start_time": "2023-01-26T08:20:46.260Z"
   },
   {
    "duration": 99,
    "start_time": "2023-01-26T08:20:58.016Z"
   },
   {
    "duration": 6,
    "start_time": "2023-01-26T08:21:00.563Z"
   },
   {
    "duration": 18,
    "start_time": "2023-01-26T08:21:07.128Z"
   },
   {
    "duration": 13,
    "start_time": "2023-01-26T08:21:09.358Z"
   },
   {
    "duration": 8,
    "start_time": "2023-01-26T08:21:13.257Z"
   },
   {
    "duration": 38,
    "start_time": "2023-01-26T08:21:31.080Z"
   },
   {
    "duration": 7,
    "start_time": "2023-01-26T08:26:31.614Z"
   },
   {
    "duration": 6,
    "start_time": "2023-01-26T08:36:34.569Z"
   },
   {
    "duration": 7,
    "start_time": "2023-01-26T08:36:58.712Z"
   },
   {
    "duration": 12,
    "start_time": "2023-01-26T08:44:20.511Z"
   },
   {
    "duration": 8,
    "start_time": "2023-01-26T08:44:37.392Z"
   },
   {
    "duration": 8,
    "start_time": "2023-01-26T08:45:04.500Z"
   },
   {
    "duration": 19,
    "start_time": "2023-01-26T08:58:53.172Z"
   },
   {
    "duration": 11,
    "start_time": "2023-01-26T09:00:18.664Z"
   },
   {
    "duration": 10,
    "start_time": "2023-01-26T09:00:22.390Z"
   },
   {
    "duration": 18,
    "start_time": "2023-01-26T09:00:33.612Z"
   },
   {
    "duration": 15,
    "start_time": "2023-01-26T09:00:48.409Z"
   },
   {
    "duration": 10,
    "start_time": "2023-01-26T09:02:59.514Z"
   },
   {
    "duration": 56,
    "start_time": "2023-01-26T09:03:20.363Z"
   },
   {
    "duration": 13,
    "start_time": "2023-01-26T09:07:25.013Z"
   },
   {
    "duration": 16,
    "start_time": "2023-01-26T09:07:45.546Z"
   },
   {
    "duration": 21,
    "start_time": "2023-01-26T09:08:10.542Z"
   },
   {
    "duration": 12,
    "start_time": "2023-01-26T09:11:04.588Z"
   },
   {
    "duration": 11,
    "start_time": "2023-01-26T09:11:11.910Z"
   },
   {
    "duration": 10,
    "start_time": "2023-01-26T09:11:19.506Z"
   },
   {
    "duration": 11,
    "start_time": "2023-01-26T09:11:22.708Z"
   },
   {
    "duration": 8,
    "start_time": "2023-01-26T09:11:41.656Z"
   },
   {
    "duration": 8,
    "start_time": "2023-01-26T09:15:59.710Z"
   },
   {
    "duration": 22,
    "start_time": "2023-01-26T09:16:15.415Z"
   },
   {
    "duration": 7,
    "start_time": "2023-01-26T09:18:36.320Z"
   },
   {
    "duration": 12,
    "start_time": "2023-01-26T09:31:37.959Z"
   },
   {
    "duration": 29,
    "start_time": "2023-01-26T09:31:47.960Z"
   },
   {
    "duration": 13,
    "start_time": "2023-01-26T09:32:07.567Z"
   },
   {
    "duration": 11,
    "start_time": "2023-01-26T09:32:33.360Z"
   },
   {
    "duration": 28,
    "start_time": "2023-01-26T09:32:58.434Z"
   },
   {
    "duration": 29,
    "start_time": "2023-01-26T09:38:03.134Z"
   },
   {
    "duration": 3,
    "start_time": "2023-01-26T09:38:05.466Z"
   },
   {
    "duration": 29,
    "start_time": "2023-01-26T09:38:08.544Z"
   },
   {
    "duration": 25,
    "start_time": "2023-01-26T09:40:10.257Z"
   },
   {
    "duration": 28,
    "start_time": "2023-01-26T09:40:41.584Z"
   },
   {
    "duration": 22,
    "start_time": "2023-01-26T09:41:08.911Z"
   },
   {
    "duration": 15,
    "start_time": "2023-01-26T09:41:18.276Z"
   },
   {
    "duration": 11,
    "start_time": "2023-01-26T09:42:34.157Z"
   },
   {
    "duration": 11,
    "start_time": "2023-01-26T09:43:20.326Z"
   },
   {
    "duration": 12,
    "start_time": "2023-01-26T09:43:55.063Z"
   },
   {
    "duration": 41,
    "start_time": "2023-01-26T09:44:29.458Z"
   },
   {
    "duration": 13,
    "start_time": "2023-01-26T09:48:10.944Z"
   },
   {
    "duration": 13,
    "start_time": "2023-01-26T09:48:35.947Z"
   },
   {
    "duration": 8,
    "start_time": "2023-01-26T09:48:56.976Z"
   },
   {
    "duration": 9,
    "start_time": "2023-01-26T09:49:31.433Z"
   },
   {
    "duration": 10,
    "start_time": "2023-01-26T09:54:17.509Z"
   },
   {
    "duration": 9,
    "start_time": "2023-01-26T09:54:26.176Z"
   },
   {
    "duration": 15,
    "start_time": "2023-01-26T09:56:18.963Z"
   },
   {
    "duration": 10,
    "start_time": "2023-01-26T09:56:29.717Z"
   },
   {
    "duration": 11,
    "start_time": "2023-01-26T09:56:58.309Z"
   },
   {
    "duration": 10,
    "start_time": "2023-01-26T09:57:27.272Z"
   },
   {
    "duration": 12,
    "start_time": "2023-01-26T09:57:40.308Z"
   },
   {
    "duration": 11,
    "start_time": "2023-01-26T09:57:56.018Z"
   },
   {
    "duration": 14,
    "start_time": "2023-01-26T09:58:18.659Z"
   },
   {
    "duration": 15,
    "start_time": "2023-01-26T10:11:01.482Z"
   },
   {
    "duration": 6,
    "start_time": "2023-01-26T10:13:47.214Z"
   },
   {
    "duration": 12,
    "start_time": "2023-01-26T10:14:03.077Z"
   },
   {
    "duration": 7,
    "start_time": "2023-01-26T10:15:10.102Z"
   },
   {
    "duration": 85,
    "start_time": "2023-01-26T10:19:10.827Z"
   },
   {
    "duration": 105,
    "start_time": "2023-01-26T10:20:17.694Z"
   },
   {
    "duration": 107,
    "start_time": "2023-01-26T10:22:31.365Z"
   },
   {
    "duration": 153,
    "start_time": "2023-01-26T10:29:49.123Z"
   },
   {
    "duration": 7,
    "start_time": "2023-01-26T10:32:32.671Z"
   },
   {
    "duration": 184,
    "start_time": "2023-01-26T10:34:28.569Z"
   },
   {
    "duration": 201,
    "start_time": "2023-01-26T10:34:38.402Z"
   },
   {
    "duration": 140,
    "start_time": "2023-01-26T10:35:22.882Z"
   },
   {
    "duration": 141,
    "start_time": "2023-01-26T10:35:45.996Z"
   },
   {
    "duration": 142,
    "start_time": "2023-01-26T10:35:52.463Z"
   },
   {
    "duration": 9,
    "start_time": "2023-01-26T10:39:45.722Z"
   },
   {
    "duration": 410,
    "start_time": "2023-01-26T10:39:57.584Z"
   },
   {
    "duration": 608,
    "start_time": "2023-01-26T10:40:27.823Z"
   },
   {
    "duration": 448,
    "start_time": "2023-01-26T10:40:52.639Z"
   },
   {
    "duration": 469,
    "start_time": "2023-01-26T10:41:04.019Z"
   },
   {
    "duration": 469,
    "start_time": "2023-01-26T10:41:11.109Z"
   },
   {
    "duration": 623,
    "start_time": "2023-01-26T10:53:46.960Z"
   },
   {
    "duration": 579,
    "start_time": "2023-01-26T10:57:26.784Z"
   },
   {
    "duration": 542,
    "start_time": "2023-01-26T10:58:22.875Z"
   },
   {
    "duration": 726,
    "start_time": "2023-01-26T10:58:31.764Z"
   },
   {
    "duration": 3,
    "start_time": "2023-01-26T11:09:31.685Z"
   },
   {
    "duration": 3,
    "start_time": "2023-01-26T11:14:43.175Z"
   },
   {
    "duration": 14,
    "start_time": "2023-01-26T11:20:22.753Z"
   },
   {
    "duration": 7,
    "start_time": "2023-01-26T11:20:50.264Z"
   },
   {
    "duration": 140,
    "start_time": "2023-01-26T11:21:23.520Z"
   },
   {
    "duration": 157,
    "start_time": "2023-01-26T11:21:32.532Z"
   },
   {
    "duration": 603,
    "start_time": "2023-01-26T11:23:23.963Z"
   },
   {
    "duration": 585,
    "start_time": "2023-01-26T11:23:39.104Z"
   },
   {
    "duration": 712,
    "start_time": "2023-01-26T11:23:56.360Z"
   },
   {
    "duration": 577,
    "start_time": "2023-01-26T11:25:26.759Z"
   },
   {
    "duration": 7,
    "start_time": "2023-01-26T11:28:03.920Z"
   },
   {
    "duration": 18,
    "start_time": "2023-01-26T11:31:13.638Z"
   },
   {
    "duration": 5,
    "start_time": "2023-01-26T11:33:09.572Z"
   },
   {
    "duration": 5,
    "start_time": "2023-01-26T11:33:15.681Z"
   },
   {
    "duration": 187,
    "start_time": "2023-01-26T11:33:37.109Z"
   },
   {
    "duration": 115,
    "start_time": "2023-01-26T11:33:52.465Z"
   },
   {
    "duration": 128,
    "start_time": "2023-01-26T11:34:00.731Z"
   },
   {
    "duration": 130,
    "start_time": "2023-01-26T11:34:14.064Z"
   },
   {
    "duration": 116,
    "start_time": "2023-01-26T11:34:25.198Z"
   },
   {
    "duration": 780,
    "start_time": "2023-01-26T11:34:55.105Z"
   },
   {
    "duration": 560,
    "start_time": "2023-01-26T11:35:13.987Z"
   },
   {
    "duration": 65,
    "start_time": "2023-01-26T11:36:35.814Z"
   },
   {
    "duration": 12,
    "start_time": "2023-01-26T11:37:05.765Z"
   },
   {
    "duration": 8,
    "start_time": "2023-01-26T11:38:05.544Z"
   },
   {
    "duration": 161,
    "start_time": "2023-01-26T11:38:49.765Z"
   },
   {
    "duration": 201,
    "start_time": "2023-01-26T11:39:08.868Z"
   },
   {
    "duration": 180,
    "start_time": "2023-01-26T11:39:16.518Z"
   },
   {
    "duration": 192,
    "start_time": "2023-01-26T11:39:22.587Z"
   },
   {
    "duration": 172,
    "start_time": "2023-01-26T11:39:32.572Z"
   },
   {
    "duration": 171,
    "start_time": "2023-01-26T11:39:41.461Z"
   },
   {
    "duration": 147,
    "start_time": "2023-01-26T11:40:27.329Z"
   },
   {
    "duration": 310,
    "start_time": "2023-01-26T11:40:38.869Z"
   },
   {
    "duration": 145,
    "start_time": "2023-01-26T11:41:03.147Z"
   },
   {
    "duration": 125,
    "start_time": "2023-01-26T11:41:50.387Z"
   },
   {
    "duration": 132,
    "start_time": "2023-01-26T11:42:11.566Z"
   },
   {
    "duration": 141,
    "start_time": "2023-01-26T11:43:18.723Z"
   },
   {
    "duration": 168,
    "start_time": "2023-01-26T11:43:23.258Z"
   },
   {
    "duration": 521,
    "start_time": "2023-01-26T11:44:12.014Z"
   },
   {
    "duration": 723,
    "start_time": "2023-01-26T11:45:38.957Z"
   },
   {
    "duration": 156,
    "start_time": "2023-01-26T11:48:53.211Z"
   },
   {
    "duration": 557,
    "start_time": "2023-01-26T11:49:25.494Z"
   },
   {
    "duration": 117,
    "start_time": "2023-01-26T11:53:46.536Z"
   },
   {
    "duration": 161,
    "start_time": "2023-01-26T11:53:54.623Z"
   },
   {
    "duration": 117,
    "start_time": "2023-01-26T11:54:10.560Z"
   },
   {
    "duration": 129,
    "start_time": "2023-01-26T11:54:43.213Z"
   },
   {
    "duration": 132,
    "start_time": "2023-01-26T11:54:51.633Z"
   },
   {
    "duration": 126,
    "start_time": "2023-01-26T11:54:59.118Z"
   },
   {
    "duration": 762,
    "start_time": "2023-01-26T11:56:18.451Z"
   },
   {
    "duration": 818,
    "start_time": "2023-01-26T11:57:44.577Z"
   },
   {
    "duration": 943,
    "start_time": "2023-01-26T11:58:13.258Z"
   },
   {
    "duration": 757,
    "start_time": "2023-01-26T11:58:46.165Z"
   },
   {
    "duration": 909,
    "start_time": "2023-01-26T11:59:33.221Z"
   },
   {
    "duration": 9,
    "start_time": "2023-01-26T12:01:46.568Z"
   },
   {
    "duration": 10,
    "start_time": "2023-01-26T12:01:58.656Z"
   },
   {
    "duration": 9,
    "start_time": "2023-01-26T12:06:19.100Z"
   },
   {
    "duration": 6,
    "start_time": "2023-01-26T12:06:34.325Z"
   },
   {
    "duration": 6,
    "start_time": "2023-01-26T12:06:37.711Z"
   },
   {
    "duration": 10,
    "start_time": "2023-01-26T12:07:39.522Z"
   },
   {
    "duration": 12,
    "start_time": "2023-01-26T12:07:58.377Z"
   },
   {
    "duration": 14,
    "start_time": "2023-01-26T12:09:26.440Z"
   },
   {
    "duration": 119,
    "start_time": "2023-01-26T12:11:34.105Z"
   },
   {
    "duration": 1470,
    "start_time": "2023-01-27T05:08:27.733Z"
   },
   {
    "duration": 168,
    "start_time": "2023-01-27T05:08:29.205Z"
   },
   {
    "duration": 28,
    "start_time": "2023-01-27T05:08:29.375Z"
   },
   {
    "duration": 5,
    "start_time": "2023-01-27T05:08:29.406Z"
   },
   {
    "duration": 13,
    "start_time": "2023-01-27T05:08:29.413Z"
   },
   {
    "duration": 20,
    "start_time": "2023-01-27T05:08:29.428Z"
   },
   {
    "duration": 123,
    "start_time": "2023-01-27T05:08:29.450Z"
   },
   {
    "duration": 2482,
    "start_time": "2023-01-27T05:08:29.576Z"
   },
   {
    "duration": 14,
    "start_time": "2023-01-27T05:08:32.061Z"
   },
   {
    "duration": 32,
    "start_time": "2023-01-27T05:08:32.078Z"
   },
   {
    "duration": 13,
    "start_time": "2023-01-27T05:08:32.113Z"
   },
   {
    "duration": 16,
    "start_time": "2023-01-27T05:08:32.127Z"
   },
   {
    "duration": 8,
    "start_time": "2023-01-27T05:08:32.145Z"
   },
   {
    "duration": 7,
    "start_time": "2023-01-27T05:08:32.157Z"
   },
   {
    "duration": 30,
    "start_time": "2023-01-27T05:08:32.167Z"
   },
   {
    "duration": 11,
    "start_time": "2023-01-27T05:08:32.200Z"
   },
   {
    "duration": 13,
    "start_time": "2023-01-27T05:08:32.213Z"
   },
   {
    "duration": 21,
    "start_time": "2023-01-27T05:08:32.228Z"
   },
   {
    "duration": 47,
    "start_time": "2023-01-27T05:08:32.251Z"
   },
   {
    "duration": 18,
    "start_time": "2023-01-27T05:08:32.300Z"
   },
   {
    "duration": 10,
    "start_time": "2023-01-27T05:08:32.321Z"
   },
   {
    "duration": 26,
    "start_time": "2023-01-27T05:08:32.333Z"
   },
   {
    "duration": 29,
    "start_time": "2023-01-27T05:08:32.361Z"
   },
   {
    "duration": 11,
    "start_time": "2023-01-27T05:08:32.392Z"
   },
   {
    "duration": 12,
    "start_time": "2023-01-27T05:08:32.404Z"
   },
   {
    "duration": 5,
    "start_time": "2023-01-27T05:08:32.418Z"
   },
   {
    "duration": 13,
    "start_time": "2023-01-27T05:08:32.425Z"
   },
   {
    "duration": 61,
    "start_time": "2023-01-27T05:08:32.440Z"
   },
   {
    "duration": 6,
    "start_time": "2023-01-27T05:08:32.503Z"
   },
   {
    "duration": 22,
    "start_time": "2023-01-27T05:08:32.511Z"
   },
   {
    "duration": 10,
    "start_time": "2023-01-27T05:08:32.535Z"
   },
   {
    "duration": 12,
    "start_time": "2023-01-27T05:08:32.547Z"
   },
   {
    "duration": 346,
    "start_time": "2023-01-27T05:08:32.561Z"
   },
   {
    "duration": 6,
    "start_time": "2023-01-27T05:08:32.909Z"
   },
   {
    "duration": 40,
    "start_time": "2023-01-27T05:08:32.917Z"
   },
   {
    "duration": 26,
    "start_time": "2023-01-27T05:08:32.959Z"
   },
   {
    "duration": 8,
    "start_time": "2023-01-27T05:08:32.987Z"
   },
   {
    "duration": 175,
    "start_time": "2023-01-27T05:08:32.997Z"
   },
   {
    "duration": 635,
    "start_time": "2023-01-27T05:08:33.174Z"
   },
   {
    "duration": 12,
    "start_time": "2023-01-27T05:08:33.812Z"
   },
   {
    "duration": 28,
    "start_time": "2023-01-27T05:08:33.830Z"
   },
   {
    "duration": 141,
    "start_time": "2023-01-27T05:08:33.861Z"
   },
   {
    "duration": 628,
    "start_time": "2023-01-27T05:08:34.004Z"
   },
   {
    "duration": 17,
    "start_time": "2023-01-27T05:08:34.634Z"
   },
   {
    "duration": 11,
    "start_time": "2023-01-27T05:08:34.653Z"
   },
   {
    "duration": 271,
    "start_time": "2023-01-27T05:08:34.666Z"
   },
   {
    "duration": 663,
    "start_time": "2023-01-27T05:08:34.939Z"
   },
   {
    "duration": 13,
    "start_time": "2023-01-27T05:08:35.604Z"
   },
   {
    "duration": 31,
    "start_time": "2023-01-27T05:08:35.619Z"
   },
   {
    "duration": 200,
    "start_time": "2023-01-27T05:08:35.652Z"
   },
   {
    "duration": 714,
    "start_time": "2023-01-27T05:08:35.854Z"
   },
   {
    "duration": 25,
    "start_time": "2023-01-27T05:08:36.570Z"
   },
   {
    "duration": 155,
    "start_time": "2023-01-27T05:08:36.597Z"
   },
   {
    "duration": 1029,
    "start_time": "2023-01-27T05:08:36.754Z"
   },
   {
    "duration": 11,
    "start_time": "2023-01-27T05:08:37.785Z"
   },
   {
    "duration": 14,
    "start_time": "2023-01-27T05:08:37.798Z"
   },
   {
    "duration": 277,
    "start_time": "2023-01-27T05:08:37.814Z"
   },
   {
    "duration": 34,
    "start_time": "2023-01-27T05:08:38.094Z"
   },
   {
    "duration": 22,
    "start_time": "2023-01-27T05:08:38.130Z"
   },
   {
    "duration": 239,
    "start_time": "2023-01-27T05:08:38.155Z"
   },
   {
    "duration": 249,
    "start_time": "2023-01-27T05:08:38.397Z"
   },
   {
    "duration": 11,
    "start_time": "2023-01-27T05:19:59.781Z"
   },
   {
    "duration": 7,
    "start_time": "2023-01-27T05:20:16.448Z"
   },
   {
    "duration": 6,
    "start_time": "2023-01-27T05:20:21.448Z"
   },
   {
    "duration": 210,
    "start_time": "2023-01-27T05:20:53.233Z"
   },
   {
    "duration": 148,
    "start_time": "2023-01-27T05:21:12.318Z"
   },
   {
    "duration": 248,
    "start_time": "2023-01-27T05:21:21.084Z"
   },
   {
    "duration": 321,
    "start_time": "2023-01-27T05:22:24.047Z"
   },
   {
    "duration": 452,
    "start_time": "2023-01-27T05:22:50.118Z"
   },
   {
    "duration": 364,
    "start_time": "2023-01-27T05:23:01.154Z"
   },
   {
    "duration": 420,
    "start_time": "2023-01-27T05:23:14.284Z"
   },
   {
    "duration": 509,
    "start_time": "2023-01-27T05:24:24.087Z"
   },
   {
    "duration": 503,
    "start_time": "2023-01-27T05:24:34.000Z"
   },
   {
    "duration": 602,
    "start_time": "2023-01-27T05:24:42.491Z"
   },
   {
    "duration": 531,
    "start_time": "2023-01-27T05:28:03.453Z"
   },
   {
    "duration": 596,
    "start_time": "2023-01-27T05:28:11.431Z"
   },
   {
    "duration": 564,
    "start_time": "2023-01-27T05:28:29.416Z"
   },
   {
    "duration": 427,
    "start_time": "2023-01-27T05:28:36.482Z"
   },
   {
    "duration": 460,
    "start_time": "2023-01-27T05:28:42.637Z"
   },
   {
    "duration": 13,
    "start_time": "2023-01-27T05:32:43.487Z"
   },
   {
    "duration": 6,
    "start_time": "2023-01-27T05:33:11.484Z"
   },
   {
    "duration": 256,
    "start_time": "2023-01-27T05:33:47.815Z"
   },
   {
    "duration": 267,
    "start_time": "2023-01-27T05:34:20.257Z"
   },
   {
    "duration": 154,
    "start_time": "2023-01-27T05:34:59.381Z"
   },
   {
    "duration": 533,
    "start_time": "2023-01-27T05:36:05.683Z"
   },
   {
    "duration": 502,
    "start_time": "2023-01-27T05:36:22.677Z"
   },
   {
    "duration": 630,
    "start_time": "2023-01-27T05:36:37.622Z"
   },
   {
    "duration": 463,
    "start_time": "2023-01-27T05:36:46.344Z"
   },
   {
    "duration": 460,
    "start_time": "2023-01-27T05:36:55.246Z"
   },
   {
    "duration": 101,
    "start_time": "2023-01-27T05:39:37.557Z"
   },
   {
    "duration": 13,
    "start_time": "2023-01-27T05:52:23.777Z"
   },
   {
    "duration": 7,
    "start_time": "2023-01-27T05:52:56.153Z"
   },
   {
    "duration": 141,
    "start_time": "2023-01-27T05:53:30.078Z"
   },
   {
    "duration": 165,
    "start_time": "2023-01-27T05:53:41.069Z"
   },
   {
    "duration": 289,
    "start_time": "2023-01-27T05:53:52.525Z"
   },
   {
    "duration": 614,
    "start_time": "2023-01-27T05:54:56.545Z"
   },
   {
    "duration": 8,
    "start_time": "2023-01-27T05:56:02.199Z"
   },
   {
    "duration": 8,
    "start_time": "2023-01-27T05:56:30.607Z"
   },
   {
    "duration": 10,
    "start_time": "2023-01-27T05:56:32.860Z"
   },
   {
    "duration": 106,
    "start_time": "2023-01-27T05:58:39.282Z"
   },
   {
    "duration": 12,
    "start_time": "2023-01-27T06:12:41.620Z"
   },
   {
    "duration": 12,
    "start_time": "2023-01-27T06:13:01.436Z"
   },
   {
    "duration": 310,
    "start_time": "2023-01-27T06:13:29.129Z"
   },
   {
    "duration": 133,
    "start_time": "2023-01-27T06:13:35.318Z"
   },
   {
    "duration": 14,
    "start_time": "2023-01-27T06:15:08.956Z"
   },
   {
    "duration": 9,
    "start_time": "2023-01-27T06:15:20.629Z"
   },
   {
    "duration": 151,
    "start_time": "2023-01-27T06:15:56.073Z"
   },
   {
    "duration": 330,
    "start_time": "2023-01-27T06:16:05.660Z"
   },
   {
    "duration": 19,
    "start_time": "2023-01-27T06:16:37.905Z"
   },
   {
    "duration": 8,
    "start_time": "2023-01-27T06:17:07.406Z"
   },
   {
    "duration": 9,
    "start_time": "2023-01-27T06:17:14.897Z"
   },
   {
    "duration": 166,
    "start_time": "2023-01-27T06:18:07.163Z"
   },
   {
    "duration": 329,
    "start_time": "2023-01-27T06:18:22.459Z"
   },
   {
    "duration": 195,
    "start_time": "2023-01-27T06:18:56.696Z"
   },
   {
    "duration": 177,
    "start_time": "2023-01-27T06:19:00.166Z"
   },
   {
    "duration": 189,
    "start_time": "2023-01-27T06:19:04.266Z"
   },
   {
    "duration": 460,
    "start_time": "2023-01-27T06:19:36.750Z"
   },
   {
    "duration": 12,
    "start_time": "2023-01-27T06:25:09.004Z"
   },
   {
    "duration": 7,
    "start_time": "2023-01-27T06:25:35.214Z"
   },
   {
    "duration": 156,
    "start_time": "2023-01-27T06:26:26.906Z"
   },
   {
    "duration": 133,
    "start_time": "2023-01-27T06:26:31.480Z"
   },
   {
    "duration": 477,
    "start_time": "2023-01-27T06:27:25.498Z"
   },
   {
    "duration": 11,
    "start_time": "2023-01-27T06:31:05.259Z"
   },
   {
    "duration": 6,
    "start_time": "2023-01-27T06:31:32.948Z"
   },
   {
    "duration": 316,
    "start_time": "2023-01-27T06:32:26.525Z"
   },
   {
    "duration": 123,
    "start_time": "2023-01-27T06:32:38.231Z"
   },
   {
    "duration": 495,
    "start_time": "2023-01-27T06:33:16.956Z"
   },
   {
    "duration": 604,
    "start_time": "2023-01-27T06:33:29.653Z"
   },
   {
    "duration": 662,
    "start_time": "2023-01-27T06:33:52.103Z"
   },
   {
    "duration": 11,
    "start_time": "2023-01-27T09:07:43.328Z"
   },
   {
    "duration": 16,
    "start_time": "2023-01-27T09:08:03.197Z"
   },
   {
    "duration": 8,
    "start_time": "2023-01-27T09:08:11.613Z"
   },
   {
    "duration": 14,
    "start_time": "2023-01-27T09:09:08.075Z"
   },
   {
    "duration": 11,
    "start_time": "2023-01-27T09:09:22.129Z"
   },
   {
    "duration": 229,
    "start_time": "2023-01-27T09:10:31.519Z"
   },
   {
    "duration": 192,
    "start_time": "2023-01-27T09:11:08.268Z"
   },
   {
    "duration": 167,
    "start_time": "2023-01-27T09:11:29.882Z"
   },
   {
    "duration": 639,
    "start_time": "2023-01-27T09:12:43.107Z"
   },
   {
    "duration": 90,
    "start_time": "2023-01-27T09:14:03.156Z"
   },
   {
    "duration": 857,
    "start_time": "2023-01-27T09:14:13.353Z"
   },
   {
    "duration": 15,
    "start_time": "2023-01-27T09:15:59.623Z"
   },
   {
    "duration": 7,
    "start_time": "2023-01-27T09:16:16.656Z"
   },
   {
    "duration": 291,
    "start_time": "2023-01-27T09:17:38.339Z"
   },
   {
    "duration": 179,
    "start_time": "2023-01-27T09:17:44.995Z"
   },
   {
    "duration": 262,
    "start_time": "2023-01-27T09:17:59.977Z"
   },
   {
    "duration": 177,
    "start_time": "2023-01-27T09:18:06.148Z"
   },
   {
    "duration": 159,
    "start_time": "2023-01-27T09:18:15.005Z"
   },
   {
    "duration": 165,
    "start_time": "2023-01-27T09:18:22.756Z"
   },
   {
    "duration": 205,
    "start_time": "2023-01-27T09:18:29.647Z"
   },
   {
    "duration": 7,
    "start_time": "2023-01-27T09:20:18.320Z"
   },
   {
    "duration": 166,
    "start_time": "2023-01-27T09:20:35.663Z"
   },
   {
    "duration": 104,
    "start_time": "2023-01-27T09:22:19.694Z"
   },
   {
    "duration": 12,
    "start_time": "2023-01-27T09:39:01.093Z"
   },
   {
    "duration": 6,
    "start_time": "2023-01-27T09:44:43.034Z"
   },
   {
    "duration": 31,
    "start_time": "2023-01-27T09:46:28.404Z"
   },
   {
    "duration": 26,
    "start_time": "2023-01-27T09:47:50.106Z"
   },
   {
    "duration": 15,
    "start_time": "2023-01-27T09:48:26.638Z"
   },
   {
    "duration": 515,
    "start_time": "2023-01-27T09:48:39.553Z"
   },
   {
    "duration": 336,
    "start_time": "2023-01-27T09:50:24.705Z"
   },
   {
    "duration": 346,
    "start_time": "2023-01-27T09:51:19.888Z"
   },
   {
    "duration": 324,
    "start_time": "2023-01-27T09:52:17.590Z"
   },
   {
    "duration": 21,
    "start_time": "2023-01-27T09:53:13.579Z"
   },
   {
    "duration": 112,
    "start_time": "2023-01-27T09:54:57.760Z"
   },
   {
    "duration": 30,
    "start_time": "2023-01-27T09:56:56.600Z"
   },
   {
    "duration": 4,
    "start_time": "2023-01-27T09:56:59.978Z"
   },
   {
    "duration": 22,
    "start_time": "2023-01-27T09:57:01.982Z"
   },
   {
    "duration": 368,
    "start_time": "2023-01-27T09:57:31.799Z"
   },
   {
    "duration": 7,
    "start_time": "2023-01-27T09:57:52.589Z"
   },
   {
    "duration": 10,
    "start_time": "2023-01-27T10:03:11.355Z"
   },
   {
    "duration": 15,
    "start_time": "2023-01-27T10:03:14.738Z"
   },
   {
    "duration": 19,
    "start_time": "2023-01-27T10:03:32.612Z"
   },
   {
    "duration": 275,
    "start_time": "2023-01-27T10:03:34.977Z"
   },
   {
    "duration": 11,
    "start_time": "2023-01-27T10:03:39.738Z"
   },
   {
    "duration": 9,
    "start_time": "2023-01-27T10:04:57.214Z"
   },
   {
    "duration": 11,
    "start_time": "2023-01-27T10:05:12.642Z"
   },
   {
    "duration": 296,
    "start_time": "2023-01-27T10:05:46.177Z"
   },
   {
    "duration": 7,
    "start_time": "2023-01-27T10:06:21.742Z"
   },
   {
    "duration": 171,
    "start_time": "2023-01-27T10:07:42.666Z"
   },
   {
    "duration": 3,
    "start_time": "2023-01-27T10:10:09.514Z"
   },
   {
    "duration": 7,
    "start_time": "2023-01-27T10:10:12.155Z"
   },
   {
    "duration": 318,
    "start_time": "2023-01-27T10:10:41.674Z"
   },
   {
    "duration": 12,
    "start_time": "2023-01-27T10:11:26.130Z"
   },
   {
    "duration": 19,
    "start_time": "2023-01-27T10:12:11.517Z"
   },
   {
    "duration": 13,
    "start_time": "2023-01-27T10:12:13.125Z"
   },
   {
    "duration": 352,
    "start_time": "2023-01-27T10:12:15.477Z"
   },
   {
    "duration": 13,
    "start_time": "2023-01-27T10:12:23.479Z"
   },
   {
    "duration": 97,
    "start_time": "2023-01-27T10:13:21.128Z"
   },
   {
    "duration": 207,
    "start_time": "2023-01-27T10:32:04.407Z"
   },
   {
    "duration": 20,
    "start_time": "2023-01-27T10:35:38.329Z"
   },
   {
    "duration": 241,
    "start_time": "2023-01-27T10:35:53.143Z"
   },
   {
    "duration": 20,
    "start_time": "2023-01-27T10:36:21.263Z"
   },
   {
    "duration": 262,
    "start_time": "2023-01-27T10:39:35.911Z"
   },
   {
    "duration": 22,
    "start_time": "2023-01-27T10:39:55.133Z"
   },
   {
    "duration": 277,
    "start_time": "2023-01-27T10:40:04.582Z"
   },
   {
    "duration": 277,
    "start_time": "2023-01-27T10:41:57.339Z"
   },
   {
    "duration": 30,
    "start_time": "2023-01-27T10:42:29.362Z"
   },
   {
    "duration": 220,
    "start_time": "2023-01-27T10:42:42.634Z"
   },
   {
    "duration": 262,
    "start_time": "2023-01-27T10:43:56.608Z"
   },
   {
    "duration": 393,
    "start_time": "2023-01-27T10:44:00.615Z"
   },
   {
    "duration": 277,
    "start_time": "2023-01-27T10:45:15.379Z"
   },
   {
    "duration": 292,
    "start_time": "2023-01-27T10:46:21.751Z"
   },
   {
    "duration": 20,
    "start_time": "2023-01-27T10:50:50.640Z"
   },
   {
    "duration": 211,
    "start_time": "2023-01-27T10:51:09.956Z"
   },
   {
    "duration": 182,
    "start_time": "2023-01-27T10:51:42.161Z"
   },
   {
    "duration": 234,
    "start_time": "2023-01-27T10:51:59.945Z"
   },
   {
    "duration": 239,
    "start_time": "2023-01-27T10:57:43.407Z"
   },
   {
    "duration": 252,
    "start_time": "2023-01-27T10:58:21.062Z"
   },
   {
    "duration": 200,
    "start_time": "2023-01-27T10:58:48.873Z"
   },
   {
    "duration": 206,
    "start_time": "2023-01-27T10:58:59.140Z"
   },
   {
    "duration": 6,
    "start_time": "2023-01-27T10:59:31.913Z"
   },
   {
    "duration": 33,
    "start_time": "2023-01-27T11:05:13.279Z"
   },
   {
    "duration": 23,
    "start_time": "2023-01-27T11:05:17.745Z"
   },
   {
    "duration": 187,
    "start_time": "2023-01-27T11:05:30.278Z"
   },
   {
    "duration": 211,
    "start_time": "2023-01-27T11:07:04.544Z"
   },
   {
    "duration": 77,
    "start_time": "2023-01-27T11:21:27.801Z"
   },
   {
    "duration": 7,
    "start_time": "2023-01-27T12:26:09.903Z"
   },
   {
    "duration": 149,
    "start_time": "2023-01-27T12:26:09.914Z"
   },
   {
    "duration": 32,
    "start_time": "2023-01-27T12:26:10.066Z"
   },
   {
    "duration": 24,
    "start_time": "2023-01-27T12:26:10.100Z"
   },
   {
    "duration": 41,
    "start_time": "2023-01-27T12:26:10.126Z"
   },
   {
    "duration": 35,
    "start_time": "2023-01-27T12:26:10.170Z"
   },
   {
    "duration": 99,
    "start_time": "2023-01-27T12:26:10.207Z"
   },
   {
    "duration": 2309,
    "start_time": "2023-01-27T12:26:10.308Z"
   },
   {
    "duration": 11,
    "start_time": "2023-01-27T12:26:12.620Z"
   },
   {
    "duration": 33,
    "start_time": "2023-01-27T12:26:12.633Z"
   },
   {
    "duration": 37,
    "start_time": "2023-01-27T12:26:12.668Z"
   },
   {
    "duration": 32,
    "start_time": "2023-01-27T12:26:12.707Z"
   },
   {
    "duration": 55,
    "start_time": "2023-01-27T12:26:12.741Z"
   },
   {
    "duration": 40,
    "start_time": "2023-01-27T12:26:12.798Z"
   },
   {
    "duration": 87,
    "start_time": "2023-01-27T12:26:12.849Z"
   },
   {
    "duration": 52,
    "start_time": "2023-01-27T12:26:12.938Z"
   },
   {
    "duration": 38,
    "start_time": "2023-01-27T12:26:12.992Z"
   },
   {
    "duration": 49,
    "start_time": "2023-01-27T12:26:13.033Z"
   },
   {
    "duration": 52,
    "start_time": "2023-01-27T12:26:13.083Z"
   },
   {
    "duration": 53,
    "start_time": "2023-01-27T12:26:13.137Z"
   },
   {
    "duration": 26,
    "start_time": "2023-01-27T12:26:13.191Z"
   },
   {
    "duration": 48,
    "start_time": "2023-01-27T12:26:13.219Z"
   },
   {
    "duration": 28,
    "start_time": "2023-01-27T12:26:13.269Z"
   },
   {
    "duration": 59,
    "start_time": "2023-01-27T12:26:13.299Z"
   },
   {
    "duration": 60,
    "start_time": "2023-01-27T12:26:13.360Z"
   },
   {
    "duration": 64,
    "start_time": "2023-01-27T12:26:13.423Z"
   },
   {
    "duration": 38,
    "start_time": "2023-01-27T12:26:13.489Z"
   },
   {
    "duration": 47,
    "start_time": "2023-01-27T12:26:13.529Z"
   },
   {
    "duration": 60,
    "start_time": "2023-01-27T12:26:13.578Z"
   },
   {
    "duration": 43,
    "start_time": "2023-01-27T12:26:13.640Z"
   },
   {
    "duration": 25,
    "start_time": "2023-01-27T12:26:13.686Z"
   },
   {
    "duration": 19,
    "start_time": "2023-01-27T12:26:13.713Z"
   },
   {
    "duration": 288,
    "start_time": "2023-01-27T12:26:13.734Z"
   },
   {
    "duration": 6,
    "start_time": "2023-01-27T12:26:14.024Z"
   },
   {
    "duration": 36,
    "start_time": "2023-01-27T12:26:14.031Z"
   },
   {
    "duration": 20,
    "start_time": "2023-01-27T12:26:14.069Z"
   },
   {
    "duration": 5,
    "start_time": "2023-01-27T12:26:14.090Z"
   },
   {
    "duration": 155,
    "start_time": "2023-01-27T12:26:14.097Z"
   },
   {
    "duration": 542,
    "start_time": "2023-01-27T12:26:14.255Z"
   },
   {
    "duration": 11,
    "start_time": "2023-01-27T12:26:14.799Z"
   },
   {
    "duration": 16,
    "start_time": "2023-01-27T12:26:14.812Z"
   },
   {
    "duration": 129,
    "start_time": "2023-01-27T12:26:14.835Z"
   },
   {
    "duration": 752,
    "start_time": "2023-01-27T12:26:14.966Z"
   },
   {
    "duration": 10,
    "start_time": "2023-01-27T12:26:15.720Z"
   },
   {
    "duration": 8,
    "start_time": "2023-01-27T12:26:15.732Z"
   },
   {
    "duration": 153,
    "start_time": "2023-01-27T12:26:15.742Z"
   },
   {
    "duration": 692,
    "start_time": "2023-01-27T12:26:15.897Z"
   },
   {
    "duration": 14,
    "start_time": "2023-01-27T12:26:16.591Z"
   },
   {
    "duration": 6,
    "start_time": "2023-01-27T12:26:16.608Z"
   },
   {
    "duration": 182,
    "start_time": "2023-01-27T12:26:16.616Z"
   },
   {
    "duration": 562,
    "start_time": "2023-01-27T12:26:16.800Z"
   },
   {
    "duration": 20,
    "start_time": "2023-01-27T12:26:17.364Z"
   },
   {
    "duration": 6,
    "start_time": "2023-01-27T12:26:17.386Z"
   },
   {
    "duration": 151,
    "start_time": "2023-01-27T12:26:17.394Z"
   },
   {
    "duration": 711,
    "start_time": "2023-01-27T12:26:17.547Z"
   },
   {
    "duration": 14,
    "start_time": "2023-01-27T12:26:18.260Z"
   },
   {
    "duration": 8,
    "start_time": "2023-01-27T12:26:18.285Z"
   },
   {
    "duration": 168,
    "start_time": "2023-01-27T12:26:18.295Z"
   },
   {
    "duration": 573,
    "start_time": "2023-01-27T12:26:18.466Z"
   },
   {
    "duration": 12,
    "start_time": "2023-01-27T12:26:19.041Z"
   },
   {
    "duration": 19,
    "start_time": "2023-01-27T12:26:19.056Z"
   },
   {
    "duration": 26,
    "start_time": "2023-01-27T12:26:19.085Z"
   },
   {
    "duration": 195,
    "start_time": "2023-01-27T12:26:19.113Z"
   },
   {
    "duration": 627,
    "start_time": "2023-01-27T12:26:19.311Z"
   },
   {
    "duration": 11,
    "start_time": "2023-01-27T12:26:19.946Z"
   },
   {
    "duration": 213,
    "start_time": "2023-01-27T12:26:19.960Z"
   },
   {
    "duration": 16,
    "start_time": "2023-01-27T12:26:20.176Z"
   },
   {
    "duration": 57,
    "start_time": "2023-01-27T12:26:20.194Z"
   },
   {
    "duration": 46,
    "start_time": "2023-01-27T12:26:20.253Z"
   },
   {
    "duration": 177,
    "start_time": "2023-01-27T12:26:20.302Z"
   },
   {
    "duration": 561,
    "start_time": "2023-01-27T12:26:20.481Z"
   },
   {
    "duration": 12,
    "start_time": "2023-01-27T12:26:21.044Z"
   },
   {
    "duration": 25,
    "start_time": "2023-01-27T12:26:21.059Z"
   },
   {
    "duration": 155,
    "start_time": "2023-01-27T12:26:21.086Z"
   },
   {
    "duration": 779,
    "start_time": "2023-01-27T12:26:21.245Z"
   },
   {
    "duration": 14,
    "start_time": "2023-01-27T12:26:22.026Z"
   },
   {
    "duration": 49,
    "start_time": "2023-01-27T12:26:22.042Z"
   },
   {
    "duration": 194,
    "start_time": "2023-01-27T12:26:22.093Z"
   },
   {
    "duration": 591,
    "start_time": "2023-01-27T12:26:22.288Z"
   },
   {
    "duration": 15,
    "start_time": "2023-01-27T12:26:22.884Z"
   },
   {
    "duration": 16,
    "start_time": "2023-01-27T12:26:22.902Z"
   },
   {
    "duration": 160,
    "start_time": "2023-01-27T12:26:22.919Z"
   },
   {
    "duration": 581,
    "start_time": "2023-01-27T12:26:23.081Z"
   },
   {
    "duration": 7,
    "start_time": "2023-01-27T12:26:23.665Z"
   },
   {
    "duration": 186,
    "start_time": "2023-01-27T12:26:23.686Z"
   },
   {
    "duration": 14,
    "start_time": "2023-01-27T12:26:23.874Z"
   },
   {
    "duration": 166,
    "start_time": "2023-01-27T12:26:23.890Z"
   },
   {
    "duration": 28,
    "start_time": "2023-01-27T12:26:24.058Z"
   },
   {
    "duration": 127,
    "start_time": "2023-01-27T12:26:24.088Z"
   },
   {
    "duration": 998,
    "start_time": "2023-01-27T12:26:24.218Z"
   },
   {
    "duration": 11,
    "start_time": "2023-01-27T12:26:25.218Z"
   },
   {
    "duration": 11,
    "start_time": "2023-01-27T12:26:25.231Z"
   },
   {
    "duration": 10,
    "start_time": "2023-01-27T12:26:25.244Z"
   },
   {
    "duration": 29,
    "start_time": "2023-01-27T12:26:25.256Z"
   },
   {
    "duration": 14,
    "start_time": "2023-01-27T12:26:25.287Z"
   },
   {
    "duration": 227,
    "start_time": "2023-01-27T12:26:25.303Z"
   },
   {
    "duration": 6,
    "start_time": "2023-01-27T12:26:25.532Z"
   },
   {
    "duration": 10,
    "start_time": "2023-01-27T12:26:25.540Z"
   },
   {
    "duration": 12,
    "start_time": "2023-01-27T12:26:25.552Z"
   },
   {
    "duration": 251,
    "start_time": "2023-01-27T12:26:25.566Z"
   },
   {
    "duration": 6,
    "start_time": "2023-01-27T12:26:25.819Z"
   },
   {
    "duration": 3,
    "start_time": "2023-01-27T12:26:25.827Z"
   },
   {
    "duration": 18,
    "start_time": "2023-01-27T12:26:25.831Z"
   },
   {
    "duration": 238,
    "start_time": "2023-01-27T12:26:25.851Z"
   },
   {
    "duration": 6,
    "start_time": "2023-01-27T12:26:26.091Z"
   },
   {
    "duration": 12,
    "start_time": "2023-01-27T12:26:26.099Z"
   },
   {
    "duration": 15,
    "start_time": "2023-01-27T12:26:26.113Z"
   },
   {
    "duration": 229,
    "start_time": "2023-01-27T12:26:26.130Z"
   },
   {
    "duration": 8,
    "start_time": "2023-01-27T12:26:26.361Z"
   },
   {
    "duration": 206,
    "start_time": "2023-01-27T12:26:26.385Z"
   },
   {
    "duration": 257,
    "start_time": "2023-01-27T12:26:26.594Z"
   },
   {
    "duration": 174,
    "start_time": "2023-01-27T12:26:26.853Z"
   },
   {
    "duration": 229,
    "start_time": "2023-01-27T12:26:27.030Z"
   },
   {
    "duration": 227,
    "start_time": "2023-01-27T12:26:27.261Z"
   },
   {
    "duration": 294,
    "start_time": "2023-01-27T12:26:27.490Z"
   },
   {
    "duration": 202,
    "start_time": "2023-01-27T12:26:27.786Z"
   },
   {
    "duration": 258,
    "start_time": "2023-01-27T12:26:27.991Z"
   },
   {
    "duration": 7,
    "start_time": "2023-01-27T12:26:28.251Z"
   },
   {
    "duration": 45,
    "start_time": "2023-01-27T12:26:28.260Z"
   },
   {
    "duration": 23,
    "start_time": "2023-01-27T12:26:28.307Z"
   },
   {
    "duration": 230,
    "start_time": "2023-01-27T12:26:28.332Z"
   },
   {
    "duration": 208,
    "start_time": "2023-01-27T12:26:28.565Z"
   },
   {
    "duration": 110,
    "start_time": "2023-01-27T12:26:28.790Z"
   },
   {
    "duration": 1226,
    "start_time": "2023-01-28T08:30:18.091Z"
   },
   {
    "duration": 109,
    "start_time": "2023-01-28T08:30:19.319Z"
   },
   {
    "duration": 25,
    "start_time": "2023-01-28T08:30:19.430Z"
   },
   {
    "duration": 13,
    "start_time": "2023-01-28T08:30:19.457Z"
   },
   {
    "duration": 23,
    "start_time": "2023-01-28T08:30:19.472Z"
   },
   {
    "duration": 87,
    "start_time": "2023-01-28T08:30:19.496Z"
   },
   {
    "duration": 122,
    "start_time": "2023-01-28T08:30:19.585Z"
   },
   {
    "duration": 2220,
    "start_time": "2023-01-28T08:30:19.710Z"
   },
   {
    "duration": 11,
    "start_time": "2023-01-28T08:30:21.933Z"
   },
   {
    "duration": 17,
    "start_time": "2023-01-28T08:30:21.948Z"
   },
   {
    "duration": 30,
    "start_time": "2023-01-28T08:30:21.966Z"
   },
   {
    "duration": 32,
    "start_time": "2023-01-28T08:30:21.997Z"
   },
   {
    "duration": 15,
    "start_time": "2023-01-28T08:30:22.031Z"
   },
   {
    "duration": 6,
    "start_time": "2023-01-28T08:30:22.047Z"
   },
   {
    "duration": 19,
    "start_time": "2023-01-28T08:30:22.054Z"
   },
   {
    "duration": 8,
    "start_time": "2023-01-28T08:30:22.074Z"
   },
   {
    "duration": 10,
    "start_time": "2023-01-28T08:30:22.084Z"
   },
   {
    "duration": 19,
    "start_time": "2023-01-28T08:30:22.096Z"
   },
   {
    "duration": 34,
    "start_time": "2023-01-28T08:30:22.116Z"
   },
   {
    "duration": 16,
    "start_time": "2023-01-28T08:30:22.152Z"
   },
   {
    "duration": 6,
    "start_time": "2023-01-28T08:30:22.169Z"
   },
   {
    "duration": 20,
    "start_time": "2023-01-28T08:30:22.176Z"
   },
   {
    "duration": 38,
    "start_time": "2023-01-28T08:30:22.197Z"
   },
   {
    "duration": 13,
    "start_time": "2023-01-28T08:30:22.237Z"
   },
   {
    "duration": 12,
    "start_time": "2023-01-28T08:30:22.251Z"
   },
   {
    "duration": 6,
    "start_time": "2023-01-28T08:30:22.265Z"
   },
   {
    "duration": 19,
    "start_time": "2023-01-28T08:30:22.272Z"
   },
   {
    "duration": 33,
    "start_time": "2023-01-28T08:30:22.295Z"
   },
   {
    "duration": 9,
    "start_time": "2023-01-28T08:30:22.333Z"
   },
   {
    "duration": 12,
    "start_time": "2023-01-28T08:30:22.344Z"
   },
   {
    "duration": 11,
    "start_time": "2023-01-28T08:30:22.358Z"
   },
   {
    "duration": 11,
    "start_time": "2023-01-28T08:30:22.370Z"
   },
   {
    "duration": 283,
    "start_time": "2023-01-28T08:30:22.383Z"
   },
   {
    "duration": 3,
    "start_time": "2023-01-28T08:30:22.668Z"
   },
   {
    "duration": 36,
    "start_time": "2023-01-28T08:30:22.673Z"
   },
   {
    "duration": 31,
    "start_time": "2023-01-28T08:30:22.711Z"
   },
   {
    "duration": 5,
    "start_time": "2023-01-28T08:30:22.743Z"
   },
   {
    "duration": 122,
    "start_time": "2023-01-28T08:30:22.750Z"
   },
   {
    "duration": 496,
    "start_time": "2023-01-28T08:30:22.874Z"
   },
   {
    "duration": 9,
    "start_time": "2023-01-28T08:30:23.371Z"
   },
   {
    "duration": 27,
    "start_time": "2023-01-28T08:30:23.382Z"
   },
   {
    "duration": 175,
    "start_time": "2023-01-28T08:30:23.414Z"
   },
   {
    "duration": 561,
    "start_time": "2023-01-28T08:30:23.592Z"
   },
   {
    "duration": 11,
    "start_time": "2023-01-28T08:30:24.156Z"
   },
   {
    "duration": 78,
    "start_time": "2023-01-28T08:30:24.169Z"
   },
   {
    "duration": 304,
    "start_time": "2023-01-28T08:30:24.249Z"
   },
   {
    "duration": 516,
    "start_time": "2023-01-28T08:30:24.555Z"
   },
   {
    "duration": 13,
    "start_time": "2023-01-28T08:30:25.072Z"
   },
   {
    "duration": 82,
    "start_time": "2023-01-28T08:30:25.086Z"
   },
   {
    "duration": 176,
    "start_time": "2023-01-28T08:30:25.170Z"
   },
   {
    "duration": 529,
    "start_time": "2023-01-28T08:30:25.348Z"
   },
   {
    "duration": 9,
    "start_time": "2023-01-28T08:30:25.879Z"
   },
   {
    "duration": 60,
    "start_time": "2023-01-28T08:30:25.889Z"
   },
   {
    "duration": 206,
    "start_time": "2023-01-28T08:30:25.950Z"
   },
   {
    "duration": 635,
    "start_time": "2023-01-28T08:30:26.158Z"
   },
   {
    "duration": 14,
    "start_time": "2023-01-28T08:30:26.799Z"
   },
   {
    "duration": 47,
    "start_time": "2023-01-28T08:30:26.815Z"
   },
   {
    "duration": 157,
    "start_time": "2023-01-28T08:30:26.865Z"
   },
   {
    "duration": 491,
    "start_time": "2023-01-28T08:30:27.024Z"
   },
   {
    "duration": 13,
    "start_time": "2023-01-28T08:30:27.517Z"
   },
   {
    "duration": 63,
    "start_time": "2023-01-28T08:30:27.531Z"
   },
   {
    "duration": 46,
    "start_time": "2023-01-28T08:30:27.596Z"
   },
   {
    "duration": 195,
    "start_time": "2023-01-28T08:30:27.644Z"
   },
   {
    "duration": 549,
    "start_time": "2023-01-28T08:30:27.840Z"
   },
   {
    "duration": 15,
    "start_time": "2023-01-28T08:30:28.391Z"
   },
   {
    "duration": 304,
    "start_time": "2023-01-28T08:30:28.408Z"
   },
   {
    "duration": 11,
    "start_time": "2023-01-28T08:30:28.714Z"
   },
   {
    "duration": 15,
    "start_time": "2023-01-28T08:30:28.727Z"
   },
   {
    "duration": 8,
    "start_time": "2023-01-28T08:30:28.745Z"
   },
   {
    "duration": 159,
    "start_time": "2023-01-28T08:30:28.754Z"
   },
   {
    "duration": 474,
    "start_time": "2023-01-28T08:30:28.916Z"
   },
   {
    "duration": 23,
    "start_time": "2023-01-28T08:30:29.391Z"
   },
   {
    "duration": 20,
    "start_time": "2023-01-28T08:30:29.416Z"
   },
   {
    "duration": 117,
    "start_time": "2023-01-28T08:30:29.438Z"
   },
   {
    "duration": 431,
    "start_time": "2023-01-28T08:30:29.557Z"
   },
   {
    "duration": 16,
    "start_time": "2023-01-28T08:30:29.990Z"
   },
   {
    "duration": 28,
    "start_time": "2023-01-28T08:30:30.012Z"
   },
   {
    "duration": 164,
    "start_time": "2023-01-28T08:30:30.041Z"
   },
   {
    "duration": 605,
    "start_time": "2023-01-28T08:30:30.212Z"
   },
   {
    "duration": 14,
    "start_time": "2023-01-28T08:30:30.818Z"
   },
   {
    "duration": 37,
    "start_time": "2023-01-28T08:30:30.834Z"
   },
   {
    "duration": 195,
    "start_time": "2023-01-28T08:30:30.877Z"
   },
   {
    "duration": 531,
    "start_time": "2023-01-28T08:30:31.074Z"
   },
   {
    "duration": 6,
    "start_time": "2023-01-28T08:30:31.606Z"
   },
   {
    "duration": 201,
    "start_time": "2023-01-28T08:30:31.613Z"
   },
   {
    "duration": 5,
    "start_time": "2023-01-28T08:30:31.816Z"
   },
   {
    "duration": 160,
    "start_time": "2023-01-28T08:30:31.829Z"
   },
   {
    "duration": 22,
    "start_time": "2023-01-28T08:30:31.991Z"
   },
   {
    "duration": 167,
    "start_time": "2023-01-28T08:30:32.015Z"
   },
   {
    "duration": 912,
    "start_time": "2023-01-28T08:30:32.184Z"
   },
   {
    "duration": 11,
    "start_time": "2023-01-28T08:30:33.099Z"
   },
   {
    "duration": 38,
    "start_time": "2023-01-28T08:30:33.111Z"
   },
   {
    "duration": 10,
    "start_time": "2023-01-28T08:30:33.151Z"
   },
   {
    "duration": 14,
    "start_time": "2023-01-28T08:30:33.163Z"
   },
   {
    "duration": 19,
    "start_time": "2023-01-28T08:30:33.179Z"
   },
   {
    "duration": 242,
    "start_time": "2023-01-28T08:30:33.203Z"
   },
   {
    "duration": 7,
    "start_time": "2023-01-28T08:30:33.447Z"
   },
   {
    "duration": 15,
    "start_time": "2023-01-28T08:30:33.456Z"
   },
   {
    "duration": 17,
    "start_time": "2023-01-28T08:30:33.473Z"
   },
   {
    "duration": 266,
    "start_time": "2023-01-28T08:30:33.492Z"
   },
   {
    "duration": 6,
    "start_time": "2023-01-28T08:30:33.760Z"
   },
   {
    "duration": 12,
    "start_time": "2023-01-28T08:30:33.768Z"
   },
   {
    "duration": 20,
    "start_time": "2023-01-28T08:30:33.782Z"
   },
   {
    "duration": 258,
    "start_time": "2023-01-28T08:30:33.804Z"
   },
   {
    "duration": 10,
    "start_time": "2023-01-28T08:30:34.064Z"
   },
   {
    "duration": 10,
    "start_time": "2023-01-28T08:30:34.076Z"
   },
   {
    "duration": 47,
    "start_time": "2023-01-28T08:30:34.089Z"
   },
   {
    "duration": 219,
    "start_time": "2023-01-28T08:30:34.139Z"
   },
   {
    "duration": 6,
    "start_time": "2023-01-28T08:30:34.359Z"
   },
   {
    "duration": 213,
    "start_time": "2023-01-28T08:30:34.367Z"
   },
   {
    "duration": 286,
    "start_time": "2023-01-28T08:30:34.581Z"
   },
   {
    "duration": 164,
    "start_time": "2023-01-28T08:30:34.869Z"
   },
   {
    "duration": 179,
    "start_time": "2023-01-28T08:30:35.037Z"
   },
   {
    "duration": 205,
    "start_time": "2023-01-28T08:30:35.217Z"
   },
   {
    "duration": 209,
    "start_time": "2023-01-28T08:30:35.428Z"
   },
   {
    "duration": 201,
    "start_time": "2023-01-28T08:30:35.638Z"
   },
   {
    "duration": 198,
    "start_time": "2023-01-28T08:30:35.840Z"
   },
   {
    "duration": 5,
    "start_time": "2023-01-28T08:30:36.040Z"
   },
   {
    "duration": 33,
    "start_time": "2023-01-28T08:30:36.047Z"
   },
   {
    "duration": 23,
    "start_time": "2023-01-28T08:30:36.082Z"
   },
   {
    "duration": 205,
    "start_time": "2023-01-28T08:30:36.108Z"
   },
   {
    "duration": 196,
    "start_time": "2023-01-28T08:30:36.319Z"
   },
   {
    "duration": 1237,
    "start_time": "2023-01-28T08:32:30.433Z"
   },
   {
    "duration": 97,
    "start_time": "2023-01-28T08:32:31.671Z"
   },
   {
    "duration": 25,
    "start_time": "2023-01-28T08:32:31.770Z"
   },
   {
    "duration": 68,
    "start_time": "2023-01-28T08:32:31.802Z"
   },
   {
    "duration": 14,
    "start_time": "2023-01-28T08:32:31.872Z"
   },
   {
    "duration": 56,
    "start_time": "2023-01-28T08:32:31.887Z"
   },
   {
    "duration": 82,
    "start_time": "2023-01-28T08:32:31.944Z"
   },
   {
    "duration": 2017,
    "start_time": "2023-01-28T08:32:32.027Z"
   },
   {
    "duration": 10,
    "start_time": "2023-01-28T08:32:34.046Z"
   },
   {
    "duration": 20,
    "start_time": "2023-01-28T08:32:34.059Z"
   },
   {
    "duration": 36,
    "start_time": "2023-01-28T08:32:34.081Z"
   },
   {
    "duration": 35,
    "start_time": "2023-01-28T08:32:34.121Z"
   },
   {
    "duration": 12,
    "start_time": "2023-01-28T08:32:34.158Z"
   },
   {
    "duration": 10,
    "start_time": "2023-01-28T08:32:34.172Z"
   },
   {
    "duration": 13,
    "start_time": "2023-01-28T08:32:34.184Z"
   },
   {
    "duration": 18,
    "start_time": "2023-01-28T08:32:34.203Z"
   },
   {
    "duration": 30,
    "start_time": "2023-01-28T08:32:34.223Z"
   },
   {
    "duration": 16,
    "start_time": "2023-01-28T08:32:34.255Z"
   },
   {
    "duration": 38,
    "start_time": "2023-01-28T08:32:34.273Z"
   },
   {
    "duration": 35,
    "start_time": "2023-01-28T08:32:34.314Z"
   },
   {
    "duration": 3,
    "start_time": "2023-01-28T08:32:34.351Z"
   },
   {
    "duration": 25,
    "start_time": "2023-01-28T08:32:34.356Z"
   },
   {
    "duration": 8,
    "start_time": "2023-01-28T08:32:34.383Z"
   },
   {
    "duration": 21,
    "start_time": "2023-01-28T08:32:34.392Z"
   },
   {
    "duration": 19,
    "start_time": "2023-01-28T08:32:34.415Z"
   },
   {
    "duration": 4,
    "start_time": "2023-01-28T08:32:34.436Z"
   },
   {
    "duration": 11,
    "start_time": "2023-01-28T08:32:34.442Z"
   },
   {
    "duration": 24,
    "start_time": "2023-01-28T08:32:34.457Z"
   },
   {
    "duration": 4,
    "start_time": "2023-01-28T08:32:34.483Z"
   },
   {
    "duration": 31,
    "start_time": "2023-01-28T08:32:34.488Z"
   },
   {
    "duration": 17,
    "start_time": "2023-01-28T08:32:34.522Z"
   },
   {
    "duration": 10,
    "start_time": "2023-01-28T08:32:34.541Z"
   },
   {
    "duration": 301,
    "start_time": "2023-01-28T08:32:34.553Z"
   },
   {
    "duration": 4,
    "start_time": "2023-01-28T08:32:34.856Z"
   },
   {
    "duration": 50,
    "start_time": "2023-01-28T08:32:34.862Z"
   },
   {
    "duration": 23,
    "start_time": "2023-01-28T08:32:34.920Z"
   },
   {
    "duration": 13,
    "start_time": "2023-01-28T08:32:34.945Z"
   },
   {
    "duration": 123,
    "start_time": "2023-01-28T08:32:34.960Z"
   },
   {
    "duration": 512,
    "start_time": "2023-01-28T08:32:35.084Z"
   },
   {
    "duration": 20,
    "start_time": "2023-01-28T08:32:35.598Z"
   },
   {
    "duration": 55,
    "start_time": "2023-01-28T08:32:35.619Z"
   },
   {
    "duration": 163,
    "start_time": "2023-01-28T08:32:35.676Z"
   },
   {
    "duration": 503,
    "start_time": "2023-01-28T08:32:35.841Z"
   },
   {
    "duration": 9,
    "start_time": "2023-01-28T08:32:36.345Z"
   },
   {
    "duration": 9,
    "start_time": "2023-01-28T08:32:36.356Z"
   },
   {
    "duration": 256,
    "start_time": "2023-01-28T08:32:36.366Z"
   },
   {
    "duration": 533,
    "start_time": "2023-01-28T08:32:36.624Z"
   },
   {
    "duration": 10,
    "start_time": "2023-01-28T08:32:37.158Z"
   },
   {
    "duration": 42,
    "start_time": "2023-01-28T08:32:37.170Z"
   },
   {
    "duration": 129,
    "start_time": "2023-01-28T08:32:37.213Z"
   },
   {
    "duration": 522,
    "start_time": "2023-01-28T08:32:37.344Z"
   },
   {
    "duration": 8,
    "start_time": "2023-01-28T08:32:37.868Z"
   },
   {
    "duration": 5,
    "start_time": "2023-01-28T08:32:37.878Z"
   },
   {
    "duration": 138,
    "start_time": "2023-01-28T08:32:37.884Z"
   },
   {
    "duration": 538,
    "start_time": "2023-01-28T08:32:38.027Z"
   },
   {
    "duration": 9,
    "start_time": "2023-01-28T08:32:38.567Z"
   },
   {
    "duration": 10,
    "start_time": "2023-01-28T08:32:38.577Z"
   },
   {
    "duration": 131,
    "start_time": "2023-01-28T08:32:38.599Z"
   },
   {
    "duration": 417,
    "start_time": "2023-01-28T08:32:38.733Z"
   },
   {
    "duration": 8,
    "start_time": "2023-01-28T08:32:39.152Z"
   },
   {
    "duration": 9,
    "start_time": "2023-01-28T08:32:39.162Z"
   },
   {
    "duration": 7,
    "start_time": "2023-01-28T08:32:39.173Z"
   },
   {
    "duration": 155,
    "start_time": "2023-01-28T08:32:39.182Z"
   },
   {
    "duration": 440,
    "start_time": "2023-01-28T08:32:39.339Z"
   },
   {
    "duration": 7,
    "start_time": "2023-01-28T08:32:39.781Z"
   },
   {
    "duration": 268,
    "start_time": "2023-01-28T08:32:39.804Z"
   },
   {
    "duration": 8,
    "start_time": "2023-01-28T08:32:40.073Z"
   },
   {
    "duration": 15,
    "start_time": "2023-01-28T08:32:40.083Z"
   },
   {
    "duration": 32,
    "start_time": "2023-01-28T08:32:40.100Z"
   },
   {
    "duration": 134,
    "start_time": "2023-01-28T08:32:40.133Z"
   },
   {
    "duration": 440,
    "start_time": "2023-01-28T08:32:40.269Z"
   },
   {
    "duration": 12,
    "start_time": "2023-01-28T08:32:40.718Z"
   },
   {
    "duration": 22,
    "start_time": "2023-01-28T08:32:40.731Z"
   },
   {
    "duration": 162,
    "start_time": "2023-01-28T08:32:40.755Z"
   },
   {
    "duration": 414,
    "start_time": "2023-01-28T08:32:40.920Z"
   },
   {
    "duration": 9,
    "start_time": "2023-01-28T08:32:41.336Z"
   },
   {
    "duration": 29,
    "start_time": "2023-01-28T08:32:41.346Z"
   },
   {
    "duration": 160,
    "start_time": "2023-01-28T08:32:41.377Z"
   },
   {
    "duration": 589,
    "start_time": "2023-01-28T08:32:41.538Z"
   },
   {
    "duration": 12,
    "start_time": "2023-01-28T08:32:42.129Z"
   },
   {
    "duration": 11,
    "start_time": "2023-01-28T08:32:42.143Z"
   },
   {
    "duration": 127,
    "start_time": "2023-01-28T08:32:42.160Z"
   },
   {
    "duration": 505,
    "start_time": "2023-01-28T08:32:42.289Z"
   },
   {
    "duration": 25,
    "start_time": "2023-01-28T08:32:42.798Z"
   },
   {
    "duration": 141,
    "start_time": "2023-01-28T08:32:42.826Z"
   },
   {
    "duration": 6,
    "start_time": "2023-01-28T08:32:42.969Z"
   },
   {
    "duration": 148,
    "start_time": "2023-01-28T08:32:42.977Z"
   },
   {
    "duration": 13,
    "start_time": "2023-01-28T08:32:43.128Z"
   },
   {
    "duration": 117,
    "start_time": "2023-01-28T08:32:43.142Z"
   },
   {
    "duration": 970,
    "start_time": "2023-01-28T08:32:43.261Z"
   },
   {
    "duration": 11,
    "start_time": "2023-01-28T08:32:44.233Z"
   },
   {
    "duration": 11,
    "start_time": "2023-01-28T08:32:44.246Z"
   },
   {
    "duration": 9,
    "start_time": "2023-01-28T08:32:44.259Z"
   },
   {
    "duration": 20,
    "start_time": "2023-01-28T08:32:44.270Z"
   },
   {
    "duration": 14,
    "start_time": "2023-01-28T08:32:44.292Z"
   },
   {
    "duration": 231,
    "start_time": "2023-01-28T08:32:44.308Z"
   },
   {
    "duration": 7,
    "start_time": "2023-01-28T08:32:44.541Z"
   },
   {
    "duration": 7,
    "start_time": "2023-01-28T08:32:44.549Z"
   },
   {
    "duration": 12,
    "start_time": "2023-01-28T08:32:44.558Z"
   },
   {
    "duration": 215,
    "start_time": "2023-01-28T08:32:44.573Z"
   },
   {
    "duration": 17,
    "start_time": "2023-01-28T08:32:44.790Z"
   },
   {
    "duration": 29,
    "start_time": "2023-01-28T08:32:44.808Z"
   },
   {
    "duration": 12,
    "start_time": "2023-01-28T08:32:44.838Z"
   },
   {
    "duration": 203,
    "start_time": "2023-01-28T08:32:44.851Z"
   },
   {
    "duration": 6,
    "start_time": "2023-01-28T08:32:45.055Z"
   },
   {
    "duration": 5,
    "start_time": "2023-01-28T08:32:45.063Z"
   },
   {
    "duration": 12,
    "start_time": "2023-01-28T08:32:45.070Z"
   },
   {
    "duration": 223,
    "start_time": "2023-01-28T08:32:45.084Z"
   },
   {
    "duration": 11,
    "start_time": "2023-01-28T08:32:45.316Z"
   },
   {
    "duration": 160,
    "start_time": "2023-01-28T08:32:45.329Z"
   },
   {
    "duration": 284,
    "start_time": "2023-01-28T08:32:45.490Z"
   },
   {
    "duration": 159,
    "start_time": "2023-01-28T08:32:45.775Z"
   },
   {
    "duration": 155,
    "start_time": "2023-01-28T08:32:45.935Z"
   },
   {
    "duration": 186,
    "start_time": "2023-01-28T08:32:46.092Z"
   },
   {
    "duration": 190,
    "start_time": "2023-01-28T08:32:46.279Z"
   },
   {
    "duration": 165,
    "start_time": "2023-01-28T08:32:46.471Z"
   },
   {
    "duration": 198,
    "start_time": "2023-01-28T08:32:46.638Z"
   },
   {
    "duration": 5,
    "start_time": "2023-01-28T08:32:46.838Z"
   },
   {
    "duration": 27,
    "start_time": "2023-01-28T08:32:46.845Z"
   },
   {
    "duration": 44,
    "start_time": "2023-01-28T08:32:46.874Z"
   },
   {
    "duration": 203,
    "start_time": "2023-01-28T08:32:46.922Z"
   },
   {
    "duration": 199,
    "start_time": "2023-01-28T08:32:47.133Z"
   },
   {
    "duration": 6,
    "start_time": "2023-01-28T08:35:02.952Z"
   },
   {
    "duration": 15,
    "start_time": "2023-01-28T08:35:49.833Z"
   },
   {
    "duration": 100,
    "start_time": "2023-01-28T08:35:53.233Z"
   },
   {
    "duration": 19,
    "start_time": "2023-01-28T08:36:06.994Z"
   },
   {
    "duration": 7,
    "start_time": "2023-01-28T08:36:57.879Z"
   },
   {
    "duration": 6,
    "start_time": "2023-01-28T08:37:05.242Z"
   },
   {
    "duration": 1309,
    "start_time": "2023-01-30T04:59:25.613Z"
   },
   {
    "duration": 322,
    "start_time": "2023-01-30T04:59:26.924Z"
   },
   {
    "duration": 22,
    "start_time": "2023-01-30T04:59:27.248Z"
   },
   {
    "duration": 3,
    "start_time": "2023-01-30T04:59:27.272Z"
   },
   {
    "duration": 6,
    "start_time": "2023-01-30T04:59:27.277Z"
   },
   {
    "duration": 22,
    "start_time": "2023-01-30T04:59:27.284Z"
   },
   {
    "duration": 71,
    "start_time": "2023-01-30T04:59:27.307Z"
   },
   {
    "duration": 1813,
    "start_time": "2023-01-30T04:59:44.931Z"
   },
   {
    "duration": 6,
    "start_time": "2023-01-30T05:10:54.365Z"
   },
   {
    "duration": 54,
    "start_time": "2023-01-30T05:16:32.815Z"
   },
   {
    "duration": 5,
    "start_time": "2023-01-30T05:17:23.368Z"
   },
   {
    "duration": 98,
    "start_time": "2023-01-30T05:17:23.375Z"
   },
   {
    "duration": 21,
    "start_time": "2023-01-30T05:17:23.475Z"
   },
   {
    "duration": 5,
    "start_time": "2023-01-30T05:17:23.498Z"
   },
   {
    "duration": 6,
    "start_time": "2023-01-30T05:17:23.505Z"
   },
   {
    "duration": 19,
    "start_time": "2023-01-30T05:17:23.513Z"
   },
   {
    "duration": 102,
    "start_time": "2023-01-30T05:17:23.533Z"
   },
   {
    "duration": 2067,
    "start_time": "2023-01-30T05:17:23.637Z"
   },
   {
    "duration": 9,
    "start_time": "2023-01-30T05:17:25.706Z"
   },
   {
    "duration": 13,
    "start_time": "2023-01-30T05:17:25.717Z"
   },
   {
    "duration": 6,
    "start_time": "2023-01-30T05:17:25.733Z"
   },
   {
    "duration": 29,
    "start_time": "2023-01-30T05:17:25.740Z"
   },
   {
    "duration": 19,
    "start_time": "2023-01-30T05:17:25.770Z"
   },
   {
    "duration": 26,
    "start_time": "2023-01-30T05:17:25.791Z"
   },
   {
    "duration": 168,
    "start_time": "2023-01-30T05:17:25.819Z"
   },
   {
    "duration": 17,
    "start_time": "2023-01-30T05:17:25.989Z"
   },
   {
    "duration": 11,
    "start_time": "2023-01-30T05:17:26.008Z"
   },
   {
    "duration": 60,
    "start_time": "2023-01-30T05:17:26.021Z"
   },
   {
    "duration": 35,
    "start_time": "2023-01-30T05:17:26.082Z"
   },
   {
    "duration": 25,
    "start_time": "2023-01-30T05:17:26.119Z"
   },
   {
    "duration": 20,
    "start_time": "2023-01-30T05:17:26.146Z"
   },
   {
    "duration": 28,
    "start_time": "2023-01-30T05:17:26.167Z"
   },
   {
    "duration": 12,
    "start_time": "2023-01-30T05:17:26.197Z"
   },
   {
    "duration": 31,
    "start_time": "2023-01-30T05:17:26.211Z"
   },
   {
    "duration": 25,
    "start_time": "2023-01-30T05:17:26.244Z"
   },
   {
    "duration": 7,
    "start_time": "2023-01-30T05:17:26.271Z"
   },
   {
    "duration": 9,
    "start_time": "2023-01-30T05:17:26.280Z"
   },
   {
    "duration": 26,
    "start_time": "2023-01-30T05:17:26.291Z"
   },
   {
    "duration": 4,
    "start_time": "2023-01-30T05:17:26.322Z"
   },
   {
    "duration": 13,
    "start_time": "2023-01-30T05:17:26.328Z"
   },
   {
    "duration": 10,
    "start_time": "2023-01-30T05:17:26.368Z"
   },
   {
    "duration": 10,
    "start_time": "2023-01-30T05:17:26.380Z"
   },
   {
    "duration": 268,
    "start_time": "2023-01-30T05:17:26.392Z"
   },
   {
    "duration": 7,
    "start_time": "2023-01-30T05:17:26.662Z"
   },
   {
    "duration": 72,
    "start_time": "2023-01-30T05:17:26.670Z"
   },
   {
    "duration": 40,
    "start_time": "2023-01-30T05:17:26.744Z"
   },
   {
    "duration": 9,
    "start_time": "2023-01-30T05:17:26.785Z"
   },
   {
    "duration": 26,
    "start_time": "2023-01-30T05:17:26.795Z"
   },
   {
    "duration": 140,
    "start_time": "2023-01-30T05:17:26.823Z"
   },
   {
    "duration": 439,
    "start_time": "2023-01-30T05:17:26.967Z"
   },
   {
    "duration": 10,
    "start_time": "2023-01-30T05:17:27.407Z"
   },
   {
    "duration": 29,
    "start_time": "2023-01-30T05:17:27.418Z"
   },
   {
    "duration": 134,
    "start_time": "2023-01-30T05:17:27.448Z"
   },
   {
    "duration": 492,
    "start_time": "2023-01-30T05:17:27.584Z"
   },
   {
    "duration": 11,
    "start_time": "2023-01-30T05:17:28.078Z"
   },
   {
    "duration": 30,
    "start_time": "2023-01-30T05:17:28.091Z"
   },
   {
    "duration": 119,
    "start_time": "2023-01-30T05:17:28.122Z"
   },
   {
    "duration": 609,
    "start_time": "2023-01-30T05:17:28.243Z"
   },
   {
    "duration": 17,
    "start_time": "2023-01-30T05:17:28.854Z"
   },
   {
    "duration": 20,
    "start_time": "2023-01-30T05:17:28.873Z"
   },
   {
    "duration": 141,
    "start_time": "2023-01-30T05:17:28.895Z"
   },
   {
    "duration": 483,
    "start_time": "2023-01-30T05:17:29.038Z"
   },
   {
    "duration": 8,
    "start_time": "2023-01-30T05:17:29.522Z"
   },
   {
    "duration": 19,
    "start_time": "2023-01-30T05:17:29.532Z"
   },
   {
    "duration": 116,
    "start_time": "2023-01-30T05:17:29.552Z"
   },
   {
    "duration": 473,
    "start_time": "2023-01-30T05:17:29.670Z"
   },
   {
    "duration": 9,
    "start_time": "2023-01-30T05:17:30.145Z"
   },
   {
    "duration": 85,
    "start_time": "2023-01-30T05:17:30.155Z"
   },
   {
    "duration": 130,
    "start_time": "2023-01-30T05:17:30.242Z"
   },
   {
    "duration": 420,
    "start_time": "2023-01-30T05:17:30.374Z"
   },
   {
    "duration": 8,
    "start_time": "2023-01-30T05:17:30.796Z"
   },
   {
    "duration": 40,
    "start_time": "2023-01-30T05:17:30.806Z"
   },
   {
    "duration": 53,
    "start_time": "2023-01-30T05:17:30.848Z"
   },
   {
    "duration": 143,
    "start_time": "2023-01-30T05:17:30.902Z"
   },
   {
    "duration": 420,
    "start_time": "2023-01-30T05:17:31.047Z"
   },
   {
    "duration": 8,
    "start_time": "2023-01-30T05:17:31.468Z"
   },
   {
    "duration": 136,
    "start_time": "2023-01-30T05:17:31.478Z"
   },
   {
    "duration": 8,
    "start_time": "2023-01-30T05:17:31.616Z"
   },
   {
    "duration": 14,
    "start_time": "2023-01-30T05:17:31.626Z"
   },
   {
    "duration": 25,
    "start_time": "2023-01-30T05:17:31.642Z"
   },
   {
    "duration": 218,
    "start_time": "2023-01-30T05:17:31.668Z"
   },
   {
    "duration": 412,
    "start_time": "2023-01-30T05:17:31.888Z"
   },
   {
    "duration": 8,
    "start_time": "2023-01-30T05:17:32.302Z"
   },
   {
    "duration": 12,
    "start_time": "2023-01-30T05:17:32.312Z"
   },
   {
    "duration": 118,
    "start_time": "2023-01-30T05:17:32.325Z"
   },
   {
    "duration": 434,
    "start_time": "2023-01-30T05:17:32.444Z"
   },
   {
    "duration": 9,
    "start_time": "2023-01-30T05:17:32.880Z"
   },
   {
    "duration": 11,
    "start_time": "2023-01-30T05:17:32.891Z"
   },
   {
    "duration": 153,
    "start_time": "2023-01-30T05:17:32.903Z"
   },
   {
    "duration": 594,
    "start_time": "2023-01-30T05:17:33.058Z"
   },
   {
    "duration": 16,
    "start_time": "2023-01-30T05:17:33.654Z"
   },
   {
    "duration": 10,
    "start_time": "2023-01-30T05:17:33.671Z"
   },
   {
    "duration": 146,
    "start_time": "2023-01-30T05:17:33.687Z"
   },
   {
    "duration": 500,
    "start_time": "2023-01-30T05:17:33.834Z"
   },
   {
    "duration": 7,
    "start_time": "2023-01-30T05:17:34.335Z"
   },
   {
    "duration": 171,
    "start_time": "2023-01-30T05:17:34.344Z"
   },
   {
    "duration": 10,
    "start_time": "2023-01-30T05:17:34.517Z"
   },
   {
    "duration": 170,
    "start_time": "2023-01-30T05:17:34.529Z"
   },
   {
    "duration": 13,
    "start_time": "2023-01-30T05:17:34.701Z"
   },
   {
    "duration": 156,
    "start_time": "2023-01-30T05:17:34.715Z"
   },
   {
    "duration": 897,
    "start_time": "2023-01-30T05:17:34.873Z"
   },
   {
    "duration": 11,
    "start_time": "2023-01-30T05:17:35.772Z"
   },
   {
    "duration": 18,
    "start_time": "2023-01-30T05:17:35.785Z"
   },
   {
    "duration": 8,
    "start_time": "2023-01-30T05:17:35.805Z"
   },
   {
    "duration": 6,
    "start_time": "2023-01-30T05:17:35.814Z"
   },
   {
    "duration": 11,
    "start_time": "2023-01-30T05:17:35.822Z"
   },
   {
    "duration": 240,
    "start_time": "2023-01-30T05:17:35.835Z"
   },
   {
    "duration": 7,
    "start_time": "2023-01-30T05:17:36.076Z"
   },
   {
    "duration": 8,
    "start_time": "2023-01-30T05:17:36.085Z"
   },
   {
    "duration": 12,
    "start_time": "2023-01-30T05:17:36.095Z"
   },
   {
    "duration": 233,
    "start_time": "2023-01-30T05:17:36.109Z"
   },
   {
    "duration": 6,
    "start_time": "2023-01-30T05:17:36.344Z"
   },
   {
    "duration": 4,
    "start_time": "2023-01-30T05:17:36.368Z"
   },
   {
    "duration": 18,
    "start_time": "2023-01-30T05:17:36.374Z"
   },
   {
    "duration": 250,
    "start_time": "2023-01-30T05:17:36.394Z"
   },
   {
    "duration": 6,
    "start_time": "2023-01-30T05:17:36.646Z"
   },
   {
    "duration": 15,
    "start_time": "2023-01-30T05:17:36.653Z"
   },
   {
    "duration": 12,
    "start_time": "2023-01-30T05:17:36.670Z"
   },
   {
    "duration": 243,
    "start_time": "2023-01-30T05:17:36.684Z"
   },
   {
    "duration": 6,
    "start_time": "2023-01-30T05:17:36.928Z"
   },
   {
    "duration": 203,
    "start_time": "2023-01-30T05:17:36.936Z"
   },
   {
    "duration": 180,
    "start_time": "2023-01-30T05:17:37.141Z"
   },
   {
    "duration": 234,
    "start_time": "2023-01-30T05:17:37.323Z"
   },
   {
    "duration": 161,
    "start_time": "2023-01-30T05:17:37.559Z"
   },
   {
    "duration": 179,
    "start_time": "2023-01-30T05:17:37.721Z"
   },
   {
    "duration": 191,
    "start_time": "2023-01-30T05:17:37.902Z"
   },
   {
    "duration": 178,
    "start_time": "2023-01-30T05:17:38.094Z"
   },
   {
    "duration": 193,
    "start_time": "2023-01-30T05:17:38.274Z"
   },
   {
    "duration": 6,
    "start_time": "2023-01-30T05:17:38.468Z"
   },
   {
    "duration": 26,
    "start_time": "2023-01-30T05:17:38.475Z"
   },
   {
    "duration": 15,
    "start_time": "2023-01-30T05:17:38.503Z"
   },
   {
    "duration": 218,
    "start_time": "2023-01-30T05:17:38.520Z"
   },
   {
    "duration": 181,
    "start_time": "2023-01-30T05:17:38.740Z"
   },
   {
    "duration": 48,
    "start_time": "2023-01-30T05:26:02.048Z"
   },
   {
    "duration": 157,
    "start_time": "2023-01-30T05:31:34.456Z"
   },
   {
    "duration": 153,
    "start_time": "2023-01-30T05:32:11.687Z"
   },
   {
    "duration": 47,
    "start_time": "2023-01-30T05:34:48.485Z"
   },
   {
    "duration": 24,
    "start_time": "2023-01-30T06:05:46.890Z"
   },
   {
    "duration": 55,
    "start_time": "2023-01-30T06:06:52.468Z"
   },
   {
    "duration": 7,
    "start_time": "2023-01-30T06:15:35.096Z"
   },
   {
    "duration": 108,
    "start_time": "2023-01-30T06:15:35.106Z"
   },
   {
    "duration": 21,
    "start_time": "2023-01-30T06:15:35.216Z"
   },
   {
    "duration": 28,
    "start_time": "2023-01-30T06:15:35.240Z"
   },
   {
    "duration": 13,
    "start_time": "2023-01-30T06:15:35.270Z"
   },
   {
    "duration": 28,
    "start_time": "2023-01-30T06:15:35.285Z"
   },
   {
    "duration": 91,
    "start_time": "2023-01-30T06:15:35.315Z"
   },
   {
    "duration": 2029,
    "start_time": "2023-01-30T06:15:35.408Z"
   },
   {
    "duration": 34,
    "start_time": "2023-01-30T06:15:37.440Z"
   },
   {
    "duration": 16,
    "start_time": "2023-01-30T06:15:37.476Z"
   },
   {
    "duration": 27,
    "start_time": "2023-01-30T06:15:37.494Z"
   },
   {
    "duration": 16,
    "start_time": "2023-01-30T06:15:37.524Z"
   },
   {
    "duration": 25,
    "start_time": "2023-01-30T06:15:37.542Z"
   },
   {
    "duration": 16,
    "start_time": "2023-01-30T06:15:37.570Z"
   },
   {
    "duration": 8,
    "start_time": "2023-01-30T06:15:37.589Z"
   },
   {
    "duration": 36,
    "start_time": "2023-01-30T06:15:37.599Z"
   },
   {
    "duration": 10,
    "start_time": "2023-01-30T06:15:37.636Z"
   },
   {
    "duration": 138,
    "start_time": "2023-01-30T06:15:37.648Z"
   },
   {
    "duration": 0,
    "start_time": "2023-01-30T06:15:37.791Z"
   },
   {
    "duration": 0,
    "start_time": "2023-01-30T06:15:37.792Z"
   },
   {
    "duration": 0,
    "start_time": "2023-01-30T06:15:37.792Z"
   },
   {
    "duration": 0,
    "start_time": "2023-01-30T06:15:37.793Z"
   },
   {
    "duration": 0,
    "start_time": "2023-01-30T06:15:37.794Z"
   },
   {
    "duration": 0,
    "start_time": "2023-01-30T06:15:37.796Z"
   },
   {
    "duration": 0,
    "start_time": "2023-01-30T06:15:37.796Z"
   },
   {
    "duration": 0,
    "start_time": "2023-01-30T06:15:37.797Z"
   },
   {
    "duration": 0,
    "start_time": "2023-01-30T06:15:37.798Z"
   },
   {
    "duration": 0,
    "start_time": "2023-01-30T06:15:37.799Z"
   },
   {
    "duration": 0,
    "start_time": "2023-01-30T06:15:37.801Z"
   },
   {
    "duration": 0,
    "start_time": "2023-01-30T06:15:37.802Z"
   },
   {
    "duration": 0,
    "start_time": "2023-01-30T06:15:37.803Z"
   },
   {
    "duration": 0,
    "start_time": "2023-01-30T06:15:37.804Z"
   },
   {
    "duration": 0,
    "start_time": "2023-01-30T06:15:37.806Z"
   },
   {
    "duration": 0,
    "start_time": "2023-01-30T06:15:37.807Z"
   },
   {
    "duration": 0,
    "start_time": "2023-01-30T06:15:37.809Z"
   },
   {
    "duration": 0,
    "start_time": "2023-01-30T06:15:37.810Z"
   },
   {
    "duration": 0,
    "start_time": "2023-01-30T06:15:37.812Z"
   },
   {
    "duration": 0,
    "start_time": "2023-01-30T06:15:37.814Z"
   },
   {
    "duration": 0,
    "start_time": "2023-01-30T06:15:37.815Z"
   },
   {
    "duration": 0,
    "start_time": "2023-01-30T06:15:37.817Z"
   },
   {
    "duration": 0,
    "start_time": "2023-01-30T06:15:37.818Z"
   },
   {
    "duration": 0,
    "start_time": "2023-01-30T06:15:37.819Z"
   },
   {
    "duration": 0,
    "start_time": "2023-01-30T06:15:37.868Z"
   },
   {
    "duration": 0,
    "start_time": "2023-01-30T06:15:37.869Z"
   },
   {
    "duration": 0,
    "start_time": "2023-01-30T06:15:37.870Z"
   },
   {
    "duration": 0,
    "start_time": "2023-01-30T06:15:37.871Z"
   },
   {
    "duration": 0,
    "start_time": "2023-01-30T06:15:37.872Z"
   },
   {
    "duration": 0,
    "start_time": "2023-01-30T06:15:37.874Z"
   },
   {
    "duration": 0,
    "start_time": "2023-01-30T06:15:37.875Z"
   },
   {
    "duration": 0,
    "start_time": "2023-01-30T06:15:37.876Z"
   },
   {
    "duration": 0,
    "start_time": "2023-01-30T06:15:37.877Z"
   },
   {
    "duration": 0,
    "start_time": "2023-01-30T06:15:37.878Z"
   },
   {
    "duration": 0,
    "start_time": "2023-01-30T06:15:37.880Z"
   },
   {
    "duration": 0,
    "start_time": "2023-01-30T06:15:37.881Z"
   },
   {
    "duration": 0,
    "start_time": "2023-01-30T06:15:37.882Z"
   },
   {
    "duration": 0,
    "start_time": "2023-01-30T06:15:37.883Z"
   },
   {
    "duration": 0,
    "start_time": "2023-01-30T06:15:37.884Z"
   },
   {
    "duration": 1,
    "start_time": "2023-01-30T06:15:37.884Z"
   },
   {
    "duration": 0,
    "start_time": "2023-01-30T06:15:37.886Z"
   },
   {
    "duration": 0,
    "start_time": "2023-01-30T06:15:37.887Z"
   },
   {
    "duration": 0,
    "start_time": "2023-01-30T06:15:37.888Z"
   },
   {
    "duration": 0,
    "start_time": "2023-01-30T06:15:37.889Z"
   },
   {
    "duration": 0,
    "start_time": "2023-01-30T06:15:37.890Z"
   },
   {
    "duration": 0,
    "start_time": "2023-01-30T06:15:37.891Z"
   },
   {
    "duration": 0,
    "start_time": "2023-01-30T06:15:37.892Z"
   },
   {
    "duration": 0,
    "start_time": "2023-01-30T06:15:37.893Z"
   },
   {
    "duration": 0,
    "start_time": "2023-01-30T06:15:37.894Z"
   },
   {
    "duration": 0,
    "start_time": "2023-01-30T06:15:37.895Z"
   },
   {
    "duration": 0,
    "start_time": "2023-01-30T06:15:37.897Z"
   },
   {
    "duration": 0,
    "start_time": "2023-01-30T06:15:37.898Z"
   },
   {
    "duration": 0,
    "start_time": "2023-01-30T06:15:37.899Z"
   },
   {
    "duration": 0,
    "start_time": "2023-01-30T06:15:37.900Z"
   },
   {
    "duration": 0,
    "start_time": "2023-01-30T06:15:37.901Z"
   },
   {
    "duration": 0,
    "start_time": "2023-01-30T06:15:37.903Z"
   },
   {
    "duration": 0,
    "start_time": "2023-01-30T06:15:37.904Z"
   },
   {
    "duration": 0,
    "start_time": "2023-01-30T06:15:37.904Z"
   },
   {
    "duration": 0,
    "start_time": "2023-01-30T06:15:37.905Z"
   },
   {
    "duration": 0,
    "start_time": "2023-01-30T06:15:37.906Z"
   },
   {
    "duration": 0,
    "start_time": "2023-01-30T06:15:37.906Z"
   },
   {
    "duration": 0,
    "start_time": "2023-01-30T06:15:37.968Z"
   },
   {
    "duration": 0,
    "start_time": "2023-01-30T06:15:37.969Z"
   },
   {
    "duration": 0,
    "start_time": "2023-01-30T06:15:37.971Z"
   },
   {
    "duration": 0,
    "start_time": "2023-01-30T06:15:37.972Z"
   },
   {
    "duration": 0,
    "start_time": "2023-01-30T06:15:37.973Z"
   },
   {
    "duration": 0,
    "start_time": "2023-01-30T06:15:37.974Z"
   },
   {
    "duration": 0,
    "start_time": "2023-01-30T06:15:37.975Z"
   },
   {
    "duration": 0,
    "start_time": "2023-01-30T06:15:37.977Z"
   },
   {
    "duration": 0,
    "start_time": "2023-01-30T06:15:37.979Z"
   },
   {
    "duration": 0,
    "start_time": "2023-01-30T06:15:37.981Z"
   },
   {
    "duration": 0,
    "start_time": "2023-01-30T06:15:37.983Z"
   },
   {
    "duration": 0,
    "start_time": "2023-01-30T06:15:37.984Z"
   },
   {
    "duration": 0,
    "start_time": "2023-01-30T06:15:37.993Z"
   },
   {
    "duration": 0,
    "start_time": "2023-01-30T06:15:37.995Z"
   },
   {
    "duration": 0,
    "start_time": "2023-01-30T06:15:37.996Z"
   },
   {
    "duration": 0,
    "start_time": "2023-01-30T06:15:37.998Z"
   },
   {
    "duration": 0,
    "start_time": "2023-01-30T06:15:37.999Z"
   },
   {
    "duration": 0,
    "start_time": "2023-01-30T06:15:38.000Z"
   },
   {
    "duration": 0,
    "start_time": "2023-01-30T06:15:38.002Z"
   },
   {
    "duration": 0,
    "start_time": "2023-01-30T06:15:38.003Z"
   },
   {
    "duration": 0,
    "start_time": "2023-01-30T06:15:38.004Z"
   },
   {
    "duration": 0,
    "start_time": "2023-01-30T06:15:38.005Z"
   },
   {
    "duration": 0,
    "start_time": "2023-01-30T06:15:38.006Z"
   },
   {
    "duration": 0,
    "start_time": "2023-01-30T06:15:38.069Z"
   },
   {
    "duration": 0,
    "start_time": "2023-01-30T06:15:38.070Z"
   },
   {
    "duration": 0,
    "start_time": "2023-01-30T06:15:38.071Z"
   },
   {
    "duration": 0,
    "start_time": "2023-01-30T06:15:38.072Z"
   },
   {
    "duration": 0,
    "start_time": "2023-01-30T06:15:38.074Z"
   },
   {
    "duration": 0,
    "start_time": "2023-01-30T06:15:38.075Z"
   },
   {
    "duration": 0,
    "start_time": "2023-01-30T06:15:38.076Z"
   },
   {
    "duration": 0,
    "start_time": "2023-01-30T06:15:38.077Z"
   },
   {
    "duration": 0,
    "start_time": "2023-01-30T06:15:38.079Z"
   },
   {
    "duration": 0,
    "start_time": "2023-01-30T06:15:38.081Z"
   },
   {
    "duration": 0,
    "start_time": "2023-01-30T06:15:38.082Z"
   },
   {
    "duration": 0,
    "start_time": "2023-01-30T06:15:38.084Z"
   },
   {
    "duration": 0,
    "start_time": "2023-01-30T06:15:38.086Z"
   },
   {
    "duration": 0,
    "start_time": "2023-01-30T06:15:38.088Z"
   },
   {
    "duration": 0,
    "start_time": "2023-01-30T06:15:38.089Z"
   },
   {
    "duration": 0,
    "start_time": "2023-01-30T06:15:38.091Z"
   },
   {
    "duration": 0,
    "start_time": "2023-01-30T06:15:38.092Z"
   },
   {
    "duration": 0,
    "start_time": "2023-01-30T06:15:38.094Z"
   },
   {
    "duration": 0,
    "start_time": "2023-01-30T06:15:38.095Z"
   },
   {
    "duration": 0,
    "start_time": "2023-01-30T06:15:38.097Z"
   },
   {
    "duration": 0,
    "start_time": "2023-01-30T06:15:38.098Z"
   },
   {
    "duration": 0,
    "start_time": "2023-01-30T06:15:38.100Z"
   },
   {
    "duration": 7,
    "start_time": "2023-01-30T06:21:11.184Z"
   },
   {
    "duration": 7,
    "start_time": "2023-01-30T06:21:16.817Z"
   },
   {
    "duration": 99,
    "start_time": "2023-01-30T06:21:16.826Z"
   },
   {
    "duration": 20,
    "start_time": "2023-01-30T06:21:16.927Z"
   },
   {
    "duration": 4,
    "start_time": "2023-01-30T06:21:16.968Z"
   },
   {
    "duration": 6,
    "start_time": "2023-01-30T06:21:16.973Z"
   },
   {
    "duration": 16,
    "start_time": "2023-01-30T06:21:16.980Z"
   },
   {
    "duration": 107,
    "start_time": "2023-01-30T06:21:16.998Z"
   },
   {
    "duration": 1934,
    "start_time": "2023-01-30T06:21:17.106Z"
   },
   {
    "duration": 35,
    "start_time": "2023-01-30T06:21:19.042Z"
   },
   {
    "duration": 9,
    "start_time": "2023-01-30T06:21:19.079Z"
   },
   {
    "duration": 10,
    "start_time": "2023-01-30T06:21:19.091Z"
   },
   {
    "duration": 7,
    "start_time": "2023-01-30T06:21:19.102Z"
   },
   {
    "duration": 6,
    "start_time": "2023-01-30T06:21:19.111Z"
   },
   {
    "duration": 9,
    "start_time": "2023-01-30T06:21:19.119Z"
   },
   {
    "duration": 39,
    "start_time": "2023-01-30T06:21:19.129Z"
   },
   {
    "duration": 11,
    "start_time": "2023-01-30T06:21:19.170Z"
   },
   {
    "duration": 8,
    "start_time": "2023-01-30T06:21:19.182Z"
   },
   {
    "duration": 7,
    "start_time": "2023-01-30T06:21:19.192Z"
   },
   {
    "duration": 14,
    "start_time": "2023-01-30T06:21:19.200Z"
   },
   {
    "duration": 65,
    "start_time": "2023-01-30T06:21:19.215Z"
   },
   {
    "duration": 24,
    "start_time": "2023-01-30T06:21:19.283Z"
   },
   {
    "duration": 8,
    "start_time": "2023-01-30T06:21:19.309Z"
   },
   {
    "duration": 21,
    "start_time": "2023-01-30T06:21:19.318Z"
   },
   {
    "duration": 9,
    "start_time": "2023-01-30T06:21:19.341Z"
   },
   {
    "duration": 21,
    "start_time": "2023-01-30T06:21:19.352Z"
   },
   {
    "duration": 13,
    "start_time": "2023-01-30T06:21:19.374Z"
   },
   {
    "duration": 8,
    "start_time": "2023-01-30T06:21:19.389Z"
   },
   {
    "duration": 12,
    "start_time": "2023-01-30T06:21:19.399Z"
   },
   {
    "duration": 31,
    "start_time": "2023-01-30T06:21:19.417Z"
   },
   {
    "duration": 5,
    "start_time": "2023-01-30T06:21:19.467Z"
   },
   {
    "duration": 14,
    "start_time": "2023-01-30T06:21:19.474Z"
   },
   {
    "duration": 12,
    "start_time": "2023-01-30T06:21:19.490Z"
   },
   {
    "duration": 12,
    "start_time": "2023-01-30T06:21:19.504Z"
   },
   {
    "duration": 270,
    "start_time": "2023-01-30T06:21:19.518Z"
   },
   {
    "duration": 4,
    "start_time": "2023-01-30T06:21:19.790Z"
   },
   {
    "duration": 25,
    "start_time": "2023-01-30T06:21:19.796Z"
   },
   {
    "duration": 11,
    "start_time": "2023-01-30T06:21:19.823Z"
   },
   {
    "duration": 5,
    "start_time": "2023-01-30T06:21:19.836Z"
   },
   {
    "duration": 27,
    "start_time": "2023-01-30T06:21:19.843Z"
   },
   {
    "duration": 127,
    "start_time": "2023-01-30T06:21:19.872Z"
   },
   {
    "duration": 601,
    "start_time": "2023-01-30T06:21:20.001Z"
   },
   {
    "duration": 9,
    "start_time": "2023-01-30T06:21:20.604Z"
   },
   {
    "duration": 10,
    "start_time": "2023-01-30T06:21:20.615Z"
   },
   {
    "duration": 140,
    "start_time": "2023-01-30T06:21:20.627Z"
   },
   {
    "duration": 484,
    "start_time": "2023-01-30T06:21:20.769Z"
   },
   {
    "duration": 15,
    "start_time": "2023-01-30T06:21:21.255Z"
   },
   {
    "duration": 12,
    "start_time": "2023-01-30T06:21:21.272Z"
   },
   {
    "duration": 120,
    "start_time": "2023-01-30T06:21:21.286Z"
   },
   {
    "duration": 462,
    "start_time": "2023-01-30T06:21:21.408Z"
   },
   {
    "duration": 9,
    "start_time": "2023-01-30T06:21:21.872Z"
   },
   {
    "duration": 4,
    "start_time": "2023-01-30T06:21:21.884Z"
   },
   {
    "duration": 242,
    "start_time": "2023-01-30T06:21:21.890Z"
   },
   {
    "duration": 475,
    "start_time": "2023-01-30T06:21:22.134Z"
   },
   {
    "duration": 9,
    "start_time": "2023-01-30T06:21:22.611Z"
   },
   {
    "duration": 6,
    "start_time": "2023-01-30T06:21:22.622Z"
   },
   {
    "duration": 129,
    "start_time": "2023-01-30T06:21:22.630Z"
   },
   {
    "duration": 458,
    "start_time": "2023-01-30T06:21:22.760Z"
   },
   {
    "duration": 10,
    "start_time": "2023-01-30T06:21:23.220Z"
   },
   {
    "duration": 7,
    "start_time": "2023-01-30T06:21:23.231Z"
   },
   {
    "duration": 138,
    "start_time": "2023-01-30T06:21:23.239Z"
   },
   {
    "duration": 544,
    "start_time": "2023-01-30T06:21:23.379Z"
   },
   {
    "duration": 11,
    "start_time": "2023-01-30T06:21:23.924Z"
   },
   {
    "duration": 12,
    "start_time": "2023-01-30T06:21:23.937Z"
   },
   {
    "duration": 19,
    "start_time": "2023-01-30T06:21:23.951Z"
   },
   {
    "duration": 144,
    "start_time": "2023-01-30T06:21:23.972Z"
   },
   {
    "duration": 419,
    "start_time": "2023-01-30T06:21:24.118Z"
   },
   {
    "duration": 6,
    "start_time": "2023-01-30T06:21:24.539Z"
   },
   {
    "duration": 127,
    "start_time": "2023-01-30T06:21:24.546Z"
   },
   {
    "duration": 12,
    "start_time": "2023-01-30T06:21:24.675Z"
   },
   {
    "duration": 6,
    "start_time": "2023-01-30T06:21:24.690Z"
   },
   {
    "duration": 8,
    "start_time": "2023-01-30T06:21:24.699Z"
   },
   {
    "duration": 161,
    "start_time": "2023-01-30T06:21:24.710Z"
   },
   {
    "duration": 550,
    "start_time": "2023-01-30T06:21:24.872Z"
   },
   {
    "duration": 9,
    "start_time": "2023-01-30T06:21:25.423Z"
   },
   {
    "duration": 5,
    "start_time": "2023-01-30T06:21:25.434Z"
   },
   {
    "duration": 126,
    "start_time": "2023-01-30T06:21:25.441Z"
   },
   {
    "duration": 381,
    "start_time": "2023-01-30T06:21:25.569Z"
   },
   {
    "duration": 18,
    "start_time": "2023-01-30T06:21:25.952Z"
   },
   {
    "duration": 5,
    "start_time": "2023-01-30T06:21:25.971Z"
   },
   {
    "duration": 115,
    "start_time": "2023-01-30T06:21:25.978Z"
   },
   {
    "duration": 417,
    "start_time": "2023-01-30T06:21:26.096Z"
   },
   {
    "duration": 11,
    "start_time": "2023-01-30T06:21:26.515Z"
   },
   {
    "duration": 8,
    "start_time": "2023-01-30T06:21:26.531Z"
   },
   {
    "duration": 120,
    "start_time": "2023-01-30T06:21:26.541Z"
   },
   {
    "duration": 612,
    "start_time": "2023-01-30T06:21:26.666Z"
   },
   {
    "duration": 6,
    "start_time": "2023-01-30T06:21:27.279Z"
   },
   {
    "duration": 139,
    "start_time": "2023-01-30T06:21:27.286Z"
   },
   {
    "duration": 6,
    "start_time": "2023-01-30T06:21:27.427Z"
   },
   {
    "duration": 147,
    "start_time": "2023-01-30T06:21:27.435Z"
   },
   {
    "duration": 13,
    "start_time": "2023-01-30T06:21:27.583Z"
   },
   {
    "duration": 130,
    "start_time": "2023-01-30T06:21:27.598Z"
   },
   {
    "duration": 777,
    "start_time": "2023-01-30T06:21:27.730Z"
   },
   {
    "duration": 10,
    "start_time": "2023-01-30T06:21:28.509Z"
   },
   {
    "duration": 9,
    "start_time": "2023-01-30T06:21:28.521Z"
   },
   {
    "duration": 12,
    "start_time": "2023-01-30T06:21:28.532Z"
   },
   {
    "duration": 14,
    "start_time": "2023-01-30T06:21:28.546Z"
   },
   {
    "duration": 14,
    "start_time": "2023-01-30T06:21:28.567Z"
   },
   {
    "duration": 180,
    "start_time": "2023-01-30T06:21:28.582Z"
   },
   {
    "duration": 6,
    "start_time": "2023-01-30T06:21:28.766Z"
   },
   {
    "duration": 7,
    "start_time": "2023-01-30T06:21:28.774Z"
   },
   {
    "duration": 10,
    "start_time": "2023-01-30T06:21:28.782Z"
   },
   {
    "duration": 205,
    "start_time": "2023-01-30T06:21:28.794Z"
   },
   {
    "duration": 24,
    "start_time": "2023-01-30T06:21:29.001Z"
   },
   {
    "duration": 19,
    "start_time": "2023-01-30T06:21:29.029Z"
   },
   {
    "duration": 13,
    "start_time": "2023-01-30T06:21:29.050Z"
   },
   {
    "duration": 202,
    "start_time": "2023-01-30T06:21:29.065Z"
   },
   {
    "duration": 6,
    "start_time": "2023-01-30T06:21:29.269Z"
   },
   {
    "duration": 4,
    "start_time": "2023-01-30T06:21:29.277Z"
   },
   {
    "duration": 11,
    "start_time": "2023-01-30T06:21:29.283Z"
   },
   {
    "duration": 213,
    "start_time": "2023-01-30T06:21:29.295Z"
   },
   {
    "duration": 6,
    "start_time": "2023-01-30T06:21:29.510Z"
   },
   {
    "duration": 183,
    "start_time": "2023-01-30T06:21:29.518Z"
   },
   {
    "duration": 183,
    "start_time": "2023-01-30T06:21:29.703Z"
   },
   {
    "duration": 143,
    "start_time": "2023-01-30T06:21:29.888Z"
   },
   {
    "duration": 154,
    "start_time": "2023-01-30T06:21:30.032Z"
   },
   {
    "duration": 217,
    "start_time": "2023-01-30T06:21:30.188Z"
   },
   {
    "duration": 183,
    "start_time": "2023-01-30T06:21:30.407Z"
   },
   {
    "duration": 165,
    "start_time": "2023-01-30T06:21:30.592Z"
   },
   {
    "duration": 301,
    "start_time": "2023-01-30T06:21:30.759Z"
   },
   {
    "duration": 10,
    "start_time": "2023-01-30T06:21:31.062Z"
   },
   {
    "duration": 47,
    "start_time": "2023-01-30T06:21:31.074Z"
   },
   {
    "duration": 24,
    "start_time": "2023-01-30T06:21:31.123Z"
   },
   {
    "duration": 170,
    "start_time": "2023-01-30T06:21:31.148Z"
   },
   {
    "duration": 166,
    "start_time": "2023-01-30T06:21:31.319Z"
   },
   {
    "duration": 52,
    "start_time": "2023-01-30T06:39:27.428Z"
   },
   {
    "duration": 6,
    "start_time": "2023-01-30T06:45:38.362Z"
   },
   {
    "duration": 6,
    "start_time": "2023-01-30T06:46:54.010Z"
   },
   {
    "duration": 6,
    "start_time": "2023-01-30T06:48:19.716Z"
   },
   {
    "duration": 8,
    "start_time": "2023-01-30T06:50:45.196Z"
   },
   {
    "duration": 7,
    "start_time": "2023-01-30T06:56:33.690Z"
   },
   {
    "duration": 5,
    "start_time": "2023-01-30T07:22:04.771Z"
   },
   {
    "duration": 190,
    "start_time": "2023-01-30T07:22:04.778Z"
   },
   {
    "duration": 32,
    "start_time": "2023-01-30T07:22:04.970Z"
   },
   {
    "duration": 68,
    "start_time": "2023-01-30T07:22:05.004Z"
   },
   {
    "duration": 29,
    "start_time": "2023-01-30T07:22:05.076Z"
   },
   {
    "duration": 36,
    "start_time": "2023-01-30T07:22:05.107Z"
   },
   {
    "duration": 96,
    "start_time": "2023-01-30T07:22:05.145Z"
   },
   {
    "duration": 1952,
    "start_time": "2023-01-30T07:22:05.242Z"
   },
   {
    "duration": 21,
    "start_time": "2023-01-30T07:22:07.195Z"
   },
   {
    "duration": 9,
    "start_time": "2023-01-30T07:22:07.218Z"
   },
   {
    "duration": 39,
    "start_time": "2023-01-30T07:22:07.228Z"
   },
   {
    "duration": 13,
    "start_time": "2023-01-30T07:22:07.270Z"
   },
   {
    "duration": 18,
    "start_time": "2023-01-30T07:22:07.285Z"
   },
   {
    "duration": 6,
    "start_time": "2023-01-30T07:22:07.307Z"
   },
   {
    "duration": 23,
    "start_time": "2023-01-30T07:22:07.315Z"
   },
   {
    "duration": 30,
    "start_time": "2023-01-30T07:22:07.341Z"
   },
   {
    "duration": 13,
    "start_time": "2023-01-30T07:22:07.373Z"
   },
   {
    "duration": 9,
    "start_time": "2023-01-30T07:22:07.388Z"
   },
   {
    "duration": 16,
    "start_time": "2023-01-30T07:22:07.399Z"
   },
   {
    "duration": 23,
    "start_time": "2023-01-30T07:22:07.417Z"
   },
   {
    "duration": 21,
    "start_time": "2023-01-30T07:22:07.468Z"
   },
   {
    "duration": 12,
    "start_time": "2023-01-30T07:22:07.491Z"
   },
   {
    "duration": 34,
    "start_time": "2023-01-30T07:22:07.505Z"
   },
   {
    "duration": 28,
    "start_time": "2023-01-30T07:22:07.541Z"
   },
   {
    "duration": 15,
    "start_time": "2023-01-30T07:22:07.571Z"
   },
   {
    "duration": 15,
    "start_time": "2023-01-30T07:22:07.589Z"
   },
   {
    "duration": 13,
    "start_time": "2023-01-30T07:22:07.606Z"
   },
   {
    "duration": 45,
    "start_time": "2023-01-30T07:22:07.621Z"
   },
   {
    "duration": 37,
    "start_time": "2023-01-30T07:22:07.668Z"
   },
   {
    "duration": 9,
    "start_time": "2023-01-30T07:22:07.707Z"
   },
   {
    "duration": 14,
    "start_time": "2023-01-30T07:22:07.718Z"
   },
   {
    "duration": 27,
    "start_time": "2023-01-30T07:22:07.735Z"
   },
   {
    "duration": 15,
    "start_time": "2023-01-30T07:22:07.764Z"
   },
   {
    "duration": 318,
    "start_time": "2023-01-30T07:22:07.780Z"
   },
   {
    "duration": 6,
    "start_time": "2023-01-30T07:22:08.100Z"
   },
   {
    "duration": 32,
    "start_time": "2023-01-30T07:22:08.108Z"
   },
   {
    "duration": 30,
    "start_time": "2023-01-30T07:22:08.142Z"
   },
   {
    "duration": 5,
    "start_time": "2023-01-30T07:22:08.175Z"
   },
   {
    "duration": 8,
    "start_time": "2023-01-30T07:22:08.182Z"
   },
   {
    "duration": 167,
    "start_time": "2023-01-30T07:22:08.191Z"
   },
   {
    "duration": 521,
    "start_time": "2023-01-30T07:22:08.368Z"
   },
   {
    "duration": 10,
    "start_time": "2023-01-30T07:22:08.891Z"
   },
   {
    "duration": 15,
    "start_time": "2023-01-30T07:22:08.903Z"
   },
   {
    "duration": 7,
    "start_time": "2023-01-30T07:22:08.920Z"
   },
   {
    "duration": 128,
    "start_time": "2023-01-30T07:22:08.929Z"
   },
   {
    "duration": 723,
    "start_time": "2023-01-30T07:22:09.059Z"
   },
   {
    "duration": 12,
    "start_time": "2023-01-30T07:22:09.784Z"
   },
   {
    "duration": 6,
    "start_time": "2023-01-30T07:22:09.798Z"
   },
   {
    "duration": 7,
    "start_time": "2023-01-30T07:22:09.806Z"
   },
   {
    "duration": 158,
    "start_time": "2023-01-30T07:22:09.815Z"
   },
   {
    "duration": 536,
    "start_time": "2023-01-30T07:22:09.975Z"
   },
   {
    "duration": 12,
    "start_time": "2023-01-30T07:22:10.514Z"
   },
   {
    "duration": 15,
    "start_time": "2023-01-30T07:22:10.528Z"
   },
   {
    "duration": 10,
    "start_time": "2023-01-30T07:22:10.545Z"
   },
   {
    "duration": 128,
    "start_time": "2023-01-30T07:22:10.568Z"
   },
   {
    "duration": 565,
    "start_time": "2023-01-30T07:22:10.698Z"
   },
   {
    "duration": 11,
    "start_time": "2023-01-30T07:22:11.265Z"
   },
   {
    "duration": 24,
    "start_time": "2023-01-30T07:22:11.278Z"
   },
   {
    "duration": 25,
    "start_time": "2023-01-30T07:22:11.307Z"
   },
   {
    "duration": 311,
    "start_time": "2023-01-30T07:22:11.334Z"
   },
   {
    "duration": 439,
    "start_time": "2023-01-30T07:22:11.648Z"
   },
   {
    "duration": 12,
    "start_time": "2023-01-30T07:22:12.089Z"
   },
   {
    "duration": 19,
    "start_time": "2023-01-30T07:22:12.103Z"
   },
   {
    "duration": 18,
    "start_time": "2023-01-30T07:22:12.124Z"
   },
   {
    "duration": 110,
    "start_time": "2023-01-30T07:22:12.144Z"
   },
   {
    "duration": 458,
    "start_time": "2023-01-30T07:22:12.256Z"
   },
   {
    "duration": 7,
    "start_time": "2023-01-30T07:22:12.717Z"
   },
   {
    "duration": 14,
    "start_time": "2023-01-30T07:22:12.726Z"
   },
   {
    "duration": 11,
    "start_time": "2023-01-30T07:22:12.741Z"
   },
   {
    "duration": 119,
    "start_time": "2023-01-30T07:22:12.754Z"
   },
   {
    "duration": 568,
    "start_time": "2023-01-30T07:22:12.875Z"
   },
   {
    "duration": 11,
    "start_time": "2023-01-30T07:22:13.446Z"
   },
   {
    "duration": 130,
    "start_time": "2023-01-30T07:22:13.466Z"
   },
   {
    "duration": 10,
    "start_time": "2023-01-30T07:22:13.598Z"
   },
   {
    "duration": 12,
    "start_time": "2023-01-30T07:22:13.610Z"
   },
   {
    "duration": 8,
    "start_time": "2023-01-30T07:22:13.624Z"
   },
   {
    "duration": 159,
    "start_time": "2023-01-30T07:22:13.634Z"
   },
   {
    "duration": 426,
    "start_time": "2023-01-30T07:22:13.794Z"
   },
   {
    "duration": 11,
    "start_time": "2023-01-30T07:22:14.221Z"
   },
   {
    "duration": 5,
    "start_time": "2023-01-30T07:22:14.234Z"
   },
   {
    "duration": 135,
    "start_time": "2023-01-30T07:22:14.241Z"
   },
   {
    "duration": 535,
    "start_time": "2023-01-30T07:22:14.378Z"
   },
   {
    "duration": 16,
    "start_time": "2023-01-30T07:22:14.916Z"
   },
   {
    "duration": 23,
    "start_time": "2023-01-30T07:22:14.934Z"
   },
   {
    "duration": 238,
    "start_time": "2023-01-30T07:22:14.970Z"
   },
   {
    "duration": 581,
    "start_time": "2023-01-30T07:22:15.209Z"
   },
   {
    "duration": 15,
    "start_time": "2023-01-30T07:22:15.792Z"
   },
   {
    "duration": 10,
    "start_time": "2023-01-30T07:22:15.809Z"
   },
   {
    "duration": 138,
    "start_time": "2023-01-30T07:22:15.821Z"
   },
   {
    "duration": 483,
    "start_time": "2023-01-30T07:22:15.966Z"
   },
   {
    "duration": 16,
    "start_time": "2023-01-30T07:22:16.453Z"
   },
   {
    "duration": 153,
    "start_time": "2023-01-30T07:22:16.471Z"
   },
   {
    "duration": 6,
    "start_time": "2023-01-30T07:22:16.625Z"
   },
   {
    "duration": 164,
    "start_time": "2023-01-30T07:22:16.632Z"
   },
   {
    "duration": 15,
    "start_time": "2023-01-30T07:22:16.798Z"
   },
   {
    "duration": 273,
    "start_time": "2023-01-30T07:22:16.816Z"
   },
   {
    "duration": 699,
    "start_time": "2023-01-30T07:22:17.093Z"
   },
   {
    "duration": 15,
    "start_time": "2023-01-30T07:22:17.794Z"
   },
   {
    "duration": 11,
    "start_time": "2023-01-30T07:22:17.811Z"
   },
   {
    "duration": 14,
    "start_time": "2023-01-30T07:22:17.825Z"
   },
   {
    "duration": 35,
    "start_time": "2023-01-30T07:22:17.841Z"
   },
   {
    "duration": 16,
    "start_time": "2023-01-30T07:22:17.880Z"
   },
   {
    "duration": 230,
    "start_time": "2023-01-30T07:22:17.899Z"
   },
   {
    "duration": 8,
    "start_time": "2023-01-30T07:22:18.131Z"
   },
   {
    "duration": 8,
    "start_time": "2023-01-30T07:22:18.141Z"
   },
   {
    "duration": 11,
    "start_time": "2023-01-30T07:22:18.168Z"
   },
   {
    "duration": 250,
    "start_time": "2023-01-30T07:22:18.181Z"
   },
   {
    "duration": 7,
    "start_time": "2023-01-30T07:22:18.433Z"
   },
   {
    "duration": 5,
    "start_time": "2023-01-30T07:22:18.441Z"
   },
   {
    "duration": 25,
    "start_time": "2023-01-30T07:22:18.448Z"
   },
   {
    "duration": 205,
    "start_time": "2023-01-30T07:22:18.474Z"
   },
   {
    "duration": 6,
    "start_time": "2023-01-30T07:22:18.680Z"
   },
   {
    "duration": 3,
    "start_time": "2023-01-30T07:22:18.688Z"
   },
   {
    "duration": 11,
    "start_time": "2023-01-30T07:22:18.692Z"
   },
   {
    "duration": 229,
    "start_time": "2023-01-30T07:22:18.705Z"
   },
   {
    "duration": 7,
    "start_time": "2023-01-30T07:22:18.936Z"
   },
   {
    "duration": 206,
    "start_time": "2023-01-30T07:22:18.945Z"
   },
   {
    "duration": 294,
    "start_time": "2023-01-30T07:22:19.153Z"
   },
   {
    "duration": 154,
    "start_time": "2023-01-30T07:22:19.449Z"
   },
   {
    "duration": 173,
    "start_time": "2023-01-30T07:22:19.605Z"
   },
   {
    "duration": 179,
    "start_time": "2023-01-30T07:22:19.779Z"
   },
   {
    "duration": 186,
    "start_time": "2023-01-30T07:22:19.969Z"
   },
   {
    "duration": 158,
    "start_time": "2023-01-30T07:22:20.157Z"
   },
   {
    "duration": 183,
    "start_time": "2023-01-30T07:22:20.316Z"
   },
   {
    "duration": 9,
    "start_time": "2023-01-30T07:22:20.500Z"
   },
   {
    "duration": 25,
    "start_time": "2023-01-30T07:22:20.511Z"
   },
   {
    "duration": 41,
    "start_time": "2023-01-30T07:22:20.538Z"
   },
   {
    "duration": 172,
    "start_time": "2023-01-30T07:22:20.581Z"
   },
   {
    "duration": 181,
    "start_time": "2023-01-30T07:22:20.754Z"
   },
   {
    "duration": 43,
    "start_time": "2023-01-30T07:25:33.713Z"
   },
   {
    "duration": 1497,
    "start_time": "2023-01-30T17:20:32.440Z"
   },
   {
    "duration": 340,
    "start_time": "2023-01-30T17:20:33.939Z"
   },
   {
    "duration": 26,
    "start_time": "2023-01-30T17:20:34.280Z"
   },
   {
    "duration": 5,
    "start_time": "2023-01-30T17:20:34.309Z"
   },
   {
    "duration": 5,
    "start_time": "2023-01-30T17:20:34.316Z"
   },
   {
    "duration": 23,
    "start_time": "2023-01-30T17:20:34.323Z"
   },
   {
    "duration": 81,
    "start_time": "2023-01-30T17:20:34.349Z"
   },
   {
    "duration": 2142,
    "start_time": "2023-01-30T17:20:34.431Z"
   },
   {
    "duration": 25,
    "start_time": "2023-01-30T17:20:36.575Z"
   },
   {
    "duration": 24,
    "start_time": "2023-01-30T17:20:36.602Z"
   },
   {
    "duration": 41,
    "start_time": "2023-01-30T17:20:36.627Z"
   },
   {
    "duration": 25,
    "start_time": "2023-01-30T17:20:36.670Z"
   },
   {
    "duration": 31,
    "start_time": "2023-01-30T17:20:36.697Z"
   },
   {
    "duration": 17,
    "start_time": "2023-01-30T17:20:36.729Z"
   },
   {
    "duration": 32,
    "start_time": "2023-01-30T17:20:36.748Z"
   },
   {
    "duration": 16,
    "start_time": "2023-01-30T17:20:36.782Z"
   },
   {
    "duration": 22,
    "start_time": "2023-01-30T17:20:36.800Z"
   },
   {
    "duration": 11,
    "start_time": "2023-01-30T17:20:36.824Z"
   },
   {
    "duration": 26,
    "start_time": "2023-01-30T17:20:36.837Z"
   },
   {
    "duration": 23,
    "start_time": "2023-01-30T17:20:36.865Z"
   },
   {
    "duration": 17,
    "start_time": "2023-01-30T17:20:36.890Z"
   },
   {
    "duration": 20,
    "start_time": "2023-01-30T17:20:36.908Z"
   },
   {
    "duration": 42,
    "start_time": "2023-01-30T17:20:36.929Z"
   },
   {
    "duration": 32,
    "start_time": "2023-01-30T17:20:36.972Z"
   },
   {
    "duration": 49,
    "start_time": "2023-01-30T17:20:37.005Z"
   },
   {
    "duration": 35,
    "start_time": "2023-01-30T17:20:37.055Z"
   },
   {
    "duration": 13,
    "start_time": "2023-01-30T17:20:37.091Z"
   },
   {
    "duration": 22,
    "start_time": "2023-01-30T17:20:37.108Z"
   },
   {
    "duration": 47,
    "start_time": "2023-01-30T17:20:37.132Z"
   },
   {
    "duration": 4,
    "start_time": "2023-01-30T17:20:37.181Z"
   },
   {
    "duration": 31,
    "start_time": "2023-01-30T17:20:37.186Z"
   },
   {
    "duration": 22,
    "start_time": "2023-01-30T17:20:37.218Z"
   },
   {
    "duration": 28,
    "start_time": "2023-01-30T17:20:37.241Z"
   },
   {
    "duration": 280,
    "start_time": "2023-01-30T17:20:37.271Z"
   },
   {
    "duration": 5,
    "start_time": "2023-01-30T17:20:37.552Z"
   },
   {
    "duration": 49,
    "start_time": "2023-01-30T17:20:37.558Z"
   },
   {
    "duration": 18,
    "start_time": "2023-01-30T17:20:37.609Z"
   },
   {
    "duration": 15,
    "start_time": "2023-01-30T17:20:37.628Z"
   },
   {
    "duration": 13,
    "start_time": "2023-01-30T17:20:37.644Z"
   },
   {
    "duration": 129,
    "start_time": "2023-01-30T17:20:37.659Z"
   },
   {
    "duration": 485,
    "start_time": "2023-01-30T17:20:37.789Z"
   },
   {
    "duration": 10,
    "start_time": "2023-01-30T17:20:38.276Z"
   },
   {
    "duration": 19,
    "start_time": "2023-01-30T17:20:38.287Z"
   },
   {
    "duration": 27,
    "start_time": "2023-01-30T17:20:38.308Z"
   },
   {
    "duration": 126,
    "start_time": "2023-01-30T17:20:38.337Z"
   },
   {
    "duration": 515,
    "start_time": "2023-01-30T17:20:38.464Z"
   },
   {
    "duration": 9,
    "start_time": "2023-01-30T17:20:38.981Z"
   },
   {
    "duration": 22,
    "start_time": "2023-01-30T17:20:38.991Z"
   },
   {
    "duration": 31,
    "start_time": "2023-01-30T17:20:39.015Z"
   },
   {
    "duration": 276,
    "start_time": "2023-01-30T17:20:39.048Z"
   },
   {
    "duration": 519,
    "start_time": "2023-01-30T17:20:39.328Z"
   },
   {
    "duration": 10,
    "start_time": "2023-01-30T17:20:39.848Z"
   },
   {
    "duration": 14,
    "start_time": "2023-01-30T17:20:39.859Z"
   },
   {
    "duration": 10,
    "start_time": "2023-01-30T17:20:39.875Z"
   },
   {
    "duration": 139,
    "start_time": "2023-01-30T17:20:39.886Z"
   },
   {
    "duration": 520,
    "start_time": "2023-01-30T17:20:40.027Z"
   },
   {
    "duration": 9,
    "start_time": "2023-01-30T17:20:40.550Z"
   },
   {
    "duration": 42,
    "start_time": "2023-01-30T17:20:40.561Z"
   },
   {
    "duration": 19,
    "start_time": "2023-01-30T17:20:40.605Z"
   },
   {
    "duration": 138,
    "start_time": "2023-01-30T17:20:40.625Z"
   },
   {
    "duration": 505,
    "start_time": "2023-01-30T17:20:40.764Z"
   },
   {
    "duration": 10,
    "start_time": "2023-01-30T17:20:41.270Z"
   },
   {
    "duration": 26,
    "start_time": "2023-01-30T17:20:41.281Z"
   },
   {
    "duration": 9,
    "start_time": "2023-01-30T17:20:41.309Z"
   },
   {
    "duration": 140,
    "start_time": "2023-01-30T17:20:41.320Z"
   },
   {
    "duration": 427,
    "start_time": "2023-01-30T17:20:41.462Z"
   },
   {
    "duration": 9,
    "start_time": "2023-01-30T17:20:41.891Z"
   },
   {
    "duration": 23,
    "start_time": "2023-01-30T17:20:41.902Z"
   },
   {
    "duration": 9,
    "start_time": "2023-01-30T17:20:41.927Z"
   },
   {
    "duration": 133,
    "start_time": "2023-01-30T17:20:41.938Z"
   },
   {
    "duration": 456,
    "start_time": "2023-01-30T17:20:42.073Z"
   },
   {
    "duration": 8,
    "start_time": "2023-01-30T17:20:42.531Z"
   },
   {
    "duration": 231,
    "start_time": "2023-01-30T17:20:42.540Z"
   },
   {
    "duration": 8,
    "start_time": "2023-01-30T17:20:42.773Z"
   },
   {
    "duration": 18,
    "start_time": "2023-01-30T17:20:42.783Z"
   },
   {
    "duration": 28,
    "start_time": "2023-01-30T17:20:42.802Z"
   },
   {
    "duration": 139,
    "start_time": "2023-01-30T17:20:42.832Z"
   },
   {
    "duration": 437,
    "start_time": "2023-01-30T17:20:42.973Z"
   },
   {
    "duration": 10,
    "start_time": "2023-01-30T17:20:43.421Z"
   },
   {
    "duration": 5,
    "start_time": "2023-01-30T17:20:43.434Z"
   },
   {
    "duration": 148,
    "start_time": "2023-01-30T17:20:43.440Z"
   },
   {
    "duration": 424,
    "start_time": "2023-01-30T17:20:43.594Z"
   },
   {
    "duration": 9,
    "start_time": "2023-01-30T17:20:44.021Z"
   },
   {
    "duration": 5,
    "start_time": "2023-01-30T17:20:44.032Z"
   },
   {
    "duration": 143,
    "start_time": "2023-01-30T17:20:44.039Z"
   },
   {
    "duration": 662,
    "start_time": "2023-01-30T17:20:44.184Z"
   },
   {
    "duration": 15,
    "start_time": "2023-01-30T17:20:44.849Z"
   },
   {
    "duration": 17,
    "start_time": "2023-01-30T17:20:44.866Z"
   },
   {
    "duration": 138,
    "start_time": "2023-01-30T17:20:44.885Z"
   },
   {
    "duration": 510,
    "start_time": "2023-01-30T17:20:45.025Z"
   },
   {
    "duration": 6,
    "start_time": "2023-01-30T17:20:45.536Z"
   },
   {
    "duration": 155,
    "start_time": "2023-01-30T17:20:45.544Z"
   },
   {
    "duration": 6,
    "start_time": "2023-01-30T17:20:45.701Z"
   },
   {
    "duration": 161,
    "start_time": "2023-01-30T17:20:45.709Z"
   },
   {
    "duration": 13,
    "start_time": "2023-01-30T17:20:45.872Z"
   },
   {
    "duration": 127,
    "start_time": "2023-01-30T17:20:45.886Z"
   },
   {
    "duration": 870,
    "start_time": "2023-01-30T17:20:46.020Z"
   },
   {
    "duration": 10,
    "start_time": "2023-01-30T17:20:46.891Z"
   },
   {
    "duration": 19,
    "start_time": "2023-01-30T17:20:46.903Z"
   },
   {
    "duration": 8,
    "start_time": "2023-01-30T17:20:46.924Z"
   },
   {
    "duration": 3,
    "start_time": "2023-01-30T17:20:46.934Z"
   },
   {
    "duration": 10,
    "start_time": "2023-01-30T17:20:46.939Z"
   },
   {
    "duration": 223,
    "start_time": "2023-01-30T17:20:46.951Z"
   },
   {
    "duration": 6,
    "start_time": "2023-01-30T17:20:47.176Z"
   },
   {
    "duration": 4,
    "start_time": "2023-01-30T17:20:47.184Z"
   },
   {
    "duration": 11,
    "start_time": "2023-01-30T17:20:47.190Z"
   },
   {
    "duration": 218,
    "start_time": "2023-01-30T17:20:47.203Z"
   },
   {
    "duration": 7,
    "start_time": "2023-01-30T17:20:47.422Z"
   },
   {
    "duration": 4,
    "start_time": "2023-01-30T17:20:47.430Z"
   },
   {
    "duration": 10,
    "start_time": "2023-01-30T17:20:47.435Z"
   },
   {
    "duration": 213,
    "start_time": "2023-01-30T17:20:47.446Z"
   },
   {
    "duration": 6,
    "start_time": "2023-01-30T17:20:47.660Z"
   },
   {
    "duration": 4,
    "start_time": "2023-01-30T17:20:47.667Z"
   },
   {
    "duration": 13,
    "start_time": "2023-01-30T17:20:47.672Z"
   },
   {
    "duration": 208,
    "start_time": "2023-01-30T17:20:47.686Z"
   },
   {
    "duration": 6,
    "start_time": "2023-01-30T17:20:47.896Z"
   },
   {
    "duration": 173,
    "start_time": "2023-01-30T17:20:47.903Z"
   },
   {
    "duration": 255,
    "start_time": "2023-01-30T17:20:48.078Z"
   },
   {
    "duration": 151,
    "start_time": "2023-01-30T17:20:48.335Z"
   },
   {
    "duration": 168,
    "start_time": "2023-01-30T17:20:48.488Z"
   },
   {
    "duration": 181,
    "start_time": "2023-01-30T17:20:48.657Z"
   },
   {
    "duration": 194,
    "start_time": "2023-01-30T17:20:48.840Z"
   },
   {
    "duration": 169,
    "start_time": "2023-01-30T17:20:49.035Z"
   },
   {
    "duration": 186,
    "start_time": "2023-01-30T17:20:49.205Z"
   },
   {
    "duration": 5,
    "start_time": "2023-01-30T17:20:49.393Z"
   },
   {
    "duration": 35,
    "start_time": "2023-01-30T17:20:49.400Z"
   },
   {
    "duration": 15,
    "start_time": "2023-01-30T17:20:49.436Z"
   },
   {
    "duration": 180,
    "start_time": "2023-01-30T17:20:49.453Z"
   },
   {
    "duration": 175,
    "start_time": "2023-01-30T17:20:49.635Z"
   }
  ],
  "kernelspec": {
   "display_name": "Python 3 (ipykernel)",
   "language": "python",
   "name": "python3"
  },
  "language_info": {
   "codemirror_mode": {
    "name": "ipython",
    "version": 3
   },
   "file_extension": ".py",
   "mimetype": "text/x-python",
   "name": "python",
   "nbconvert_exporter": "python",
   "pygments_lexer": "ipython3",
   "version": "3.9.13"
  },
  "toc": {
   "base_numbering": 1,
   "nav_menu": {},
   "number_sections": true,
   "sideBar": true,
   "skip_h1_title": true,
   "title_cell": "Table of Contents",
   "title_sidebar": "Contents",
   "toc_cell": false,
   "toc_position": {
    "height": "calc(100% - 180px)",
    "left": "10px",
    "top": "150px",
    "width": "356.594px"
   },
   "toc_section_display": true,
   "toc_window_display": true
  }
 },
 "nbformat": 4,
 "nbformat_minor": 4
}

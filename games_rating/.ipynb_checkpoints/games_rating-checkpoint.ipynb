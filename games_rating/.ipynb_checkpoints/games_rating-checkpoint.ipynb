{
 "cells": [
  {
   "cell_type": "markdown",
   "metadata": {},
   "source": [
    "# Описание проекта\n",
    "\n",
    "Вы работаете в интернет-магазине «Стримчик», который продаёт по всему миру компьютерные игры. Из открытых источников доступны исторические данные о продажах игр, оценки пользователей и экспертов, жанры и платформы (например, Xbox или PlayStation). Вам нужно выявить определяющие успешность игры закономерности. Это позволит сделать ставку на потенциально популярный продукт и спланировать рекламные кампании.\n",
    "\n",
    "Перед вами данные до 2016 года. Представим, что сейчас декабрь 2016 г., и вы планируете кампанию на 2017-й. Нужно отработать принцип работы с данными. Неважно, прогнозируете ли вы продажи на 2017 год по данным 2016-го или же 2027-й — по данным 2026 года.\n",
    "\n",
    "В наборе данных попадается аббревиатура ESRB (Entertainment Software Rating Board) — это ассоциация, определяющая возрастной рейтинг компьютерных игр. ESRB оценивает игровой контент и присваивает ему подходящую возрастную категорию, например, «Для взрослых», «Для детей младшего возраста» или «Для подростков»."
   ]
  },
  {
   "cell_type": "markdown",
   "metadata": {},
   "source": [
    "### Общее описание данных"
   ]
  },
  {
   "cell_type": "code",
   "execution_count": 681,
   "metadata": {},
   "outputs": [],
   "source": [
    "import pandas as pd\n",
    "import seaborn as sns\n",
    "from scipy import stats as st\n",
    "\n",
    "import matplotlib.pyplot as plt\n",
    "%matplotlib inline"
   ]
  },
  {
   "cell_type": "code",
   "execution_count": 682,
   "metadata": {},
   "outputs": [],
   "source": [
    "try:\n",
    "    data = pd.read_csv('/datasets/games.csv')\n",
    "except:\n",
    "    data = pd.read_csv('https://code.s3.yandex.net/datasets/games.csv')"
   ]
  },
  {
   "cell_type": "code",
   "execution_count": 683,
   "metadata": {},
   "outputs": [
    {
     "data": {
      "text/html": [
       "<div>\n",
       "<style scoped>\n",
       "    .dataframe tbody tr th:only-of-type {\n",
       "        vertical-align: middle;\n",
       "    }\n",
       "\n",
       "    .dataframe tbody tr th {\n",
       "        vertical-align: top;\n",
       "    }\n",
       "\n",
       "    .dataframe thead th {\n",
       "        text-align: right;\n",
       "    }\n",
       "</style>\n",
       "<table border=\"1\" class=\"dataframe\">\n",
       "  <thead>\n",
       "    <tr style=\"text-align: right;\">\n",
       "      <th></th>\n",
       "      <th>Name</th>\n",
       "      <th>Platform</th>\n",
       "      <th>Year_of_Release</th>\n",
       "      <th>Genre</th>\n",
       "      <th>NA_sales</th>\n",
       "      <th>EU_sales</th>\n",
       "      <th>JP_sales</th>\n",
       "      <th>Other_sales</th>\n",
       "      <th>Critic_Score</th>\n",
       "      <th>User_Score</th>\n",
       "      <th>Rating</th>\n",
       "    </tr>\n",
       "  </thead>\n",
       "  <tbody>\n",
       "    <tr>\n",
       "      <th>0</th>\n",
       "      <td>Wii Sports</td>\n",
       "      <td>Wii</td>\n",
       "      <td>2006.0</td>\n",
       "      <td>Sports</td>\n",
       "      <td>41.36</td>\n",
       "      <td>28.96</td>\n",
       "      <td>3.77</td>\n",
       "      <td>8.45</td>\n",
       "      <td>76.0</td>\n",
       "      <td>8</td>\n",
       "      <td>E</td>\n",
       "    </tr>\n",
       "    <tr>\n",
       "      <th>1</th>\n",
       "      <td>Super Mario Bros.</td>\n",
       "      <td>NES</td>\n",
       "      <td>1985.0</td>\n",
       "      <td>Platform</td>\n",
       "      <td>29.08</td>\n",
       "      <td>3.58</td>\n",
       "      <td>6.81</td>\n",
       "      <td>0.77</td>\n",
       "      <td>NaN</td>\n",
       "      <td>NaN</td>\n",
       "      <td>NaN</td>\n",
       "    </tr>\n",
       "    <tr>\n",
       "      <th>2</th>\n",
       "      <td>Mario Kart Wii</td>\n",
       "      <td>Wii</td>\n",
       "      <td>2008.0</td>\n",
       "      <td>Racing</td>\n",
       "      <td>15.68</td>\n",
       "      <td>12.76</td>\n",
       "      <td>3.79</td>\n",
       "      <td>3.29</td>\n",
       "      <td>82.0</td>\n",
       "      <td>8.3</td>\n",
       "      <td>E</td>\n",
       "    </tr>\n",
       "    <tr>\n",
       "      <th>3</th>\n",
       "      <td>Wii Sports Resort</td>\n",
       "      <td>Wii</td>\n",
       "      <td>2009.0</td>\n",
       "      <td>Sports</td>\n",
       "      <td>15.61</td>\n",
       "      <td>10.93</td>\n",
       "      <td>3.28</td>\n",
       "      <td>2.95</td>\n",
       "      <td>80.0</td>\n",
       "      <td>8</td>\n",
       "      <td>E</td>\n",
       "    </tr>\n",
       "    <tr>\n",
       "      <th>4</th>\n",
       "      <td>Pokemon Red/Pokemon Blue</td>\n",
       "      <td>GB</td>\n",
       "      <td>1996.0</td>\n",
       "      <td>Role-Playing</td>\n",
       "      <td>11.27</td>\n",
       "      <td>8.89</td>\n",
       "      <td>10.22</td>\n",
       "      <td>1.00</td>\n",
       "      <td>NaN</td>\n",
       "      <td>NaN</td>\n",
       "      <td>NaN</td>\n",
       "    </tr>\n",
       "    <tr>\n",
       "      <th>5</th>\n",
       "      <td>Tetris</td>\n",
       "      <td>GB</td>\n",
       "      <td>1989.0</td>\n",
       "      <td>Puzzle</td>\n",
       "      <td>23.20</td>\n",
       "      <td>2.26</td>\n",
       "      <td>4.22</td>\n",
       "      <td>0.58</td>\n",
       "      <td>NaN</td>\n",
       "      <td>NaN</td>\n",
       "      <td>NaN</td>\n",
       "    </tr>\n",
       "    <tr>\n",
       "      <th>6</th>\n",
       "      <td>New Super Mario Bros.</td>\n",
       "      <td>DS</td>\n",
       "      <td>2006.0</td>\n",
       "      <td>Platform</td>\n",
       "      <td>11.28</td>\n",
       "      <td>9.14</td>\n",
       "      <td>6.50</td>\n",
       "      <td>2.88</td>\n",
       "      <td>89.0</td>\n",
       "      <td>8.5</td>\n",
       "      <td>E</td>\n",
       "    </tr>\n",
       "    <tr>\n",
       "      <th>7</th>\n",
       "      <td>Wii Play</td>\n",
       "      <td>Wii</td>\n",
       "      <td>2006.0</td>\n",
       "      <td>Misc</td>\n",
       "      <td>13.96</td>\n",
       "      <td>9.18</td>\n",
       "      <td>2.93</td>\n",
       "      <td>2.84</td>\n",
       "      <td>58.0</td>\n",
       "      <td>6.6</td>\n",
       "      <td>E</td>\n",
       "    </tr>\n",
       "    <tr>\n",
       "      <th>8</th>\n",
       "      <td>New Super Mario Bros. Wii</td>\n",
       "      <td>Wii</td>\n",
       "      <td>2009.0</td>\n",
       "      <td>Platform</td>\n",
       "      <td>14.44</td>\n",
       "      <td>6.94</td>\n",
       "      <td>4.70</td>\n",
       "      <td>2.24</td>\n",
       "      <td>87.0</td>\n",
       "      <td>8.4</td>\n",
       "      <td>E</td>\n",
       "    </tr>\n",
       "    <tr>\n",
       "      <th>9</th>\n",
       "      <td>Duck Hunt</td>\n",
       "      <td>NES</td>\n",
       "      <td>1984.0</td>\n",
       "      <td>Shooter</td>\n",
       "      <td>26.93</td>\n",
       "      <td>0.63</td>\n",
       "      <td>0.28</td>\n",
       "      <td>0.47</td>\n",
       "      <td>NaN</td>\n",
       "      <td>NaN</td>\n",
       "      <td>NaN</td>\n",
       "    </tr>\n",
       "  </tbody>\n",
       "</table>\n",
       "</div>"
      ],
      "text/plain": [
       "                        Name Platform  Year_of_Release         Genre  \\\n",
       "0                 Wii Sports      Wii           2006.0        Sports   \n",
       "1          Super Mario Bros.      NES           1985.0      Platform   \n",
       "2             Mario Kart Wii      Wii           2008.0        Racing   \n",
       "3          Wii Sports Resort      Wii           2009.0        Sports   \n",
       "4   Pokemon Red/Pokemon Blue       GB           1996.0  Role-Playing   \n",
       "5                     Tetris       GB           1989.0        Puzzle   \n",
       "6      New Super Mario Bros.       DS           2006.0      Platform   \n",
       "7                   Wii Play      Wii           2006.0          Misc   \n",
       "8  New Super Mario Bros. Wii      Wii           2009.0      Platform   \n",
       "9                  Duck Hunt      NES           1984.0       Shooter   \n",
       "\n",
       "   NA_sales  EU_sales  JP_sales  Other_sales  Critic_Score User_Score Rating  \n",
       "0     41.36     28.96      3.77         8.45          76.0          8      E  \n",
       "1     29.08      3.58      6.81         0.77           NaN        NaN    NaN  \n",
       "2     15.68     12.76      3.79         3.29          82.0        8.3      E  \n",
       "3     15.61     10.93      3.28         2.95          80.0          8      E  \n",
       "4     11.27      8.89     10.22         1.00           NaN        NaN    NaN  \n",
       "5     23.20      2.26      4.22         0.58           NaN        NaN    NaN  \n",
       "6     11.28      9.14      6.50         2.88          89.0        8.5      E  \n",
       "7     13.96      9.18      2.93         2.84          58.0        6.6      E  \n",
       "8     14.44      6.94      4.70         2.24          87.0        8.4      E  \n",
       "9     26.93      0.63      0.28         0.47           NaN        NaN    NaN  "
      ]
     },
     "execution_count": 683,
     "metadata": {},
     "output_type": "execute_result"
    }
   ],
   "source": [
    "data.head(10)"
   ]
  },
  {
   "cell_type": "code",
   "execution_count": 684,
   "metadata": {},
   "outputs": [],
   "source": [
    "#Заменяем названия столбцов (приводим к нижнему регистру);\n",
    "data.columns = data.columns.str.lower()"
   ]
  },
  {
   "cell_type": "code",
   "execution_count": 685,
   "metadata": {},
   "outputs": [
    {
     "name": "stdout",
     "output_type": "stream",
     "text": [
      "<class 'pandas.core.frame.DataFrame'>\n",
      "RangeIndex: 16715 entries, 0 to 16714\n",
      "Data columns (total 11 columns):\n",
      " #   Column           Non-Null Count  Dtype  \n",
      "---  ------           --------------  -----  \n",
      " 0   name             16713 non-null  object \n",
      " 1   platform         16715 non-null  object \n",
      " 2   year_of_release  16446 non-null  float64\n",
      " 3   genre            16713 non-null  object \n",
      " 4   na_sales         16715 non-null  float64\n",
      " 5   eu_sales         16715 non-null  float64\n",
      " 6   jp_sales         16715 non-null  float64\n",
      " 7   other_sales      16715 non-null  float64\n",
      " 8   critic_score     8137 non-null   float64\n",
      " 9   user_score       10014 non-null  object \n",
      " 10  rating           9949 non-null   object \n",
      "dtypes: float64(6), object(5)\n",
      "memory usage: 1.4+ MB\n"
     ]
    }
   ],
   "source": [
    "data.info()"
   ]
  },
  {
   "cell_type": "markdown",
   "metadata": {},
   "source": [
    "Описание данных\n",
    "* `name` — название игры\n",
    "* `platform` — платформа\n",
    "* `year_of_release` — год выпуска\n",
    "* `genre` — жанр игры\n",
    "* `na_sales` — продажи в Северной Америке (миллионы проданных копий)\n",
    "* `eu_sales` — продажи в Европе (миллионы проданных копий)\n",
    "* `jp_sales` — продажи в Японии (миллионы проданных копий)\n",
    "* `other_sales` — продажи в других странах (миллионы проданных копий)\n",
    "* `critic_score` — оценка критиков (максимум 100)\n",
    "* `user_score` — оценка пользователей (максимум 10)\n",
    "* `rating` — рейтинг от организации ESRB (англ. Entertainment Software Rating Board). Эта ассоциация определяет рейтинг компьютерных игр и присваивает им подходящую возрастную категорию."
   ]
  },
  {
   "cell_type": "markdown",
   "metadata": {},
   "source": [
    "Видим, что есть столбцы с неоптимальным типом данных: `year_of_release`, `user_score`, `critic_score`. А также видим, что есть пропуски в некоторых столбцах. Далее будем работать над устранением проблемм с выборкой."
   ]
  },
  {
   "cell_type": "markdown",
   "metadata": {},
   "source": [
    "### Предобработка данных"
   ]
  },
  {
   "cell_type": "markdown",
   "metadata": {},
   "source": [
    "#### Поиск и обработка пропусков"
   ]
  },
  {
   "cell_type": "markdown",
   "metadata": {},
   "source": [
    "Проверим данные на наличие пропусков."
   ]
  },
  {
   "cell_type": "code",
   "execution_count": 686,
   "metadata": {},
   "outputs": [
    {
     "data": {
      "text/plain": [
       "name                  2\n",
       "platform              0\n",
       "year_of_release     269\n",
       "genre                 2\n",
       "na_sales              0\n",
       "eu_sales              0\n",
       "jp_sales              0\n",
       "other_sales           0\n",
       "critic_score       8578\n",
       "user_score         6701\n",
       "rating             6766\n",
       "dtype: int64"
      ]
     },
     "execution_count": 686,
     "metadata": {},
     "output_type": "execute_result"
    }
   ],
   "source": [
    "data.isna().sum()"
   ]
  },
  {
   "cell_type": "code",
   "execution_count": 687,
   "metadata": {},
   "outputs": [
    {
     "data": {
      "text/plain": [
       "name               0.000120\n",
       "platform           0.000000\n",
       "year_of_release    0.016093\n",
       "genre              0.000120\n",
       "na_sales           0.000000\n",
       "eu_sales           0.000000\n",
       "jp_sales           0.000000\n",
       "other_sales        0.000000\n",
       "critic_score       0.513192\n",
       "user_score         0.400897\n",
       "rating             0.404786\n",
       "dtype: float64"
      ]
     },
     "execution_count": 687,
     "metadata": {},
     "output_type": "execute_result"
    }
   ],
   "source": [
    "data.isna().sum()/len(data)"
   ]
  },
  {
   "cell_type": "markdown",
   "metadata": {},
   "source": [
    "Видим, что большое кол-во пропусков в столбцах:\n",
    "* critic_score — оценка критиков (максимум 100)\n",
    "* user_score — оценка пользователей (максимум 10)\n",
    "* rating — рейтинг от организации ESRB"
   ]
  },
  {
   "cell_type": "code",
   "execution_count": 688,
   "metadata": {},
   "outputs": [
    {
     "data": {
      "text/html": [
       "<div>\n",
       "<style scoped>\n",
       "    .dataframe tbody tr th:only-of-type {\n",
       "        vertical-align: middle;\n",
       "    }\n",
       "\n",
       "    .dataframe tbody tr th {\n",
       "        vertical-align: top;\n",
       "    }\n",
       "\n",
       "    .dataframe thead th {\n",
       "        text-align: right;\n",
       "    }\n",
       "</style>\n",
       "<table border=\"1\" class=\"dataframe\">\n",
       "  <thead>\n",
       "    <tr style=\"text-align: right;\">\n",
       "      <th></th>\n",
       "      <th>name</th>\n",
       "      <th>platform</th>\n",
       "      <th>year_of_release</th>\n",
       "      <th>genre</th>\n",
       "      <th>na_sales</th>\n",
       "      <th>eu_sales</th>\n",
       "      <th>jp_sales</th>\n",
       "      <th>other_sales</th>\n",
       "      <th>critic_score</th>\n",
       "      <th>user_score</th>\n",
       "      <th>rating</th>\n",
       "    </tr>\n",
       "  </thead>\n",
       "  <tbody>\n",
       "    <tr>\n",
       "      <th>659</th>\n",
       "      <td>NaN</td>\n",
       "      <td>GEN</td>\n",
       "      <td>1993.0</td>\n",
       "      <td>NaN</td>\n",
       "      <td>1.78</td>\n",
       "      <td>0.53</td>\n",
       "      <td>0.00</td>\n",
       "      <td>0.08</td>\n",
       "      <td>NaN</td>\n",
       "      <td>NaN</td>\n",
       "      <td>NaN</td>\n",
       "    </tr>\n",
       "    <tr>\n",
       "      <th>14244</th>\n",
       "      <td>NaN</td>\n",
       "      <td>GEN</td>\n",
       "      <td>1993.0</td>\n",
       "      <td>NaN</td>\n",
       "      <td>0.00</td>\n",
       "      <td>0.00</td>\n",
       "      <td>0.03</td>\n",
       "      <td>0.00</td>\n",
       "      <td>NaN</td>\n",
       "      <td>NaN</td>\n",
       "      <td>NaN</td>\n",
       "    </tr>\n",
       "  </tbody>\n",
       "</table>\n",
       "</div>"
      ],
      "text/plain": [
       "      name platform  year_of_release genre  na_sales  eu_sales  jp_sales  \\\n",
       "659    NaN      GEN           1993.0   NaN      1.78      0.53      0.00   \n",
       "14244  NaN      GEN           1993.0   NaN      0.00      0.00      0.03   \n",
       "\n",
       "       other_sales  critic_score user_score rating  \n",
       "659           0.08           NaN        NaN    NaN  \n",
       "14244         0.00           NaN        NaN    NaN  "
      ]
     },
     "execution_count": 688,
     "metadata": {},
     "output_type": "execute_result"
    }
   ],
   "source": [
    "data[data['name'].isna()==True]"
   ]
  },
  {
   "cell_type": "markdown",
   "metadata": {},
   "source": [
    "Видим, что пропуски в столбцах name и genre у одних и тех же строк, поэтому просто избавимся от них."
   ]
  },
  {
   "cell_type": "code",
   "execution_count": 689,
   "metadata": {},
   "outputs": [],
   "source": [
    "data = data[data['genre'].isna()==False].reset_index()"
   ]
  },
  {
   "cell_type": "markdown",
   "metadata": {},
   "source": [
    "Обработаем `year_of_release`"
   ]
  },
  {
   "cell_type": "code",
   "execution_count": 690,
   "metadata": {},
   "outputs": [
    {
     "data": {
      "text/plain": [
       "LEGO Harry Potter: Years 5-7               7\n",
       "Rock Band                                  4\n",
       "Happy Feet Two                             4\n",
       "Bejeweled 3                                3\n",
       "WRC: FIA World Rally Championship          3\n",
       "                                          ..\n",
       "Dead Island: Riptide                       1\n",
       "Shonen Jump's Yu-Gi-Oh! GX Card Almanac    1\n",
       "Combat Wings: The Great Battles of WWII    1\n",
       "Jonah Lomu Rugby Challenge                 1\n",
       "WCW Backstage Assault                      1\n",
       "Name: name, Length: 232, dtype: int64"
      ]
     },
     "execution_count": 690,
     "metadata": {},
     "output_type": "execute_result"
    }
   ],
   "source": [
    "data[data['year_of_release'].isna()==True]['name'].value_counts()"
   ]
  },
  {
   "cell_type": "code",
   "execution_count": 691,
   "metadata": {},
   "outputs": [
    {
     "data": {
      "text/plain": [
       "array(['Madden NFL 2004', 'FIFA Soccer 2004',\n",
       "       'LEGO Batman: The Videogame', 'wwe Smackdown vs. Raw 2006',\n",
       "       'Space Invaders', 'Rock Band',\n",
       "       \"Frogger's Adventures: Temple of the Frog\",\n",
       "       'LEGO Indiana Jones: The Original Adventures', 'Call of Duty 3',\n",
       "       'Call of Duty: Black Ops', 'Triple Play 99', 'Adventure', 'Combat',\n",
       "       'LEGO Harry Potter: Years 5-7', 'NASCAR Thunder 2003',\n",
       "       'Hitman 2: Silent Assassin', 'Legacy of Kain: Soul Reaver',\n",
       "       'Donkey Kong Land III', 'Air-Sea Battle', 'Suikoden III',\n",
       "       'Wheel of Fortune', 'Yakuza 4', 'Namco Museum', 'Rhythm Heaven',\n",
       "       'The Lord of the Rings: War in the North', 'Madden NFL 07',\n",
       "       'MLB SlugFest 20-03', 'Shaun White Snowboarding',\n",
       "       'PES 2009: Pro Evolution Soccer', 'WarioWare: Twisted!',\n",
       "       'Madden NFL 11', 'Test Drive Unlimited 2',\n",
       "       'The Chronicles of Narnia: The Lion, The Witch and The Wardrobe',\n",
       "       'Monster Hunter 2', 'Metal Gear Solid 2: Substance',\n",
       "       'Advance Wars: Days of Ruin', 'The Golden Compass',\n",
       "       'Madden NFL 06', 'NASCAR: Dirt to Daytona', 'Madden NFL 2002',\n",
       "       'Def Jam: Fight for NY', 'NBA Street Vol. 2', 'Fishing Derby',\n",
       "       'Wet', 'Sonic the Hedgehog', 'Karate', 'Tiger Woods PGA Tour 07',\n",
       "       'Circus Atari',\n",
       "       'The Chronicles of Riddick: Escape from Butcher Bay',\n",
       "       \"Maze Craze: A Game of Cops 'n Robbers\", 'Silent Hill: Homecoming',\n",
       "       'Super Breakout', \"Robert Ludlum's The Bourne Conspiracy\",\n",
       "       'NHL Slapshot', 'TERA', 'NFL GameDay 2003',\n",
       "       'Harvest Moon: Save the Homeland', 'Hangman', 'NBA Live 2003',\n",
       "       \"Cubix Robots for Everyone: Clash 'n' Bash\",\n",
       "       'Dragon Ball Z: Budokai Tenkaichi 2 (JP sales)', 'Tropico 4',\n",
       "       'Tomb Raider (2013)', 'Bejeweled 3', 'Custom Robo',\n",
       "       'Final Fantasy XI', 'Singularity', 'Dragster',\n",
       "       'All-Star Baseball 2005', 'Star Wars Jedi Knight II: Jedi Outcast',\n",
       "       'Slot Machine', 'The Dukes of Hazzard II: Daisy Dukes It Out',\n",
       "       'Harvest Moon: The Tale of Two Towns', 'Shrek the Third',\n",
       "       'Nicktoons: Battle for Volcano Island', 'Haven: Call of the King',\n",
       "       'Unreal Championship 2: The Liandri Conflict', 'Pac-Man Fever',\n",
       "       'The Legend of Zelda: The Minish Cap(weekly JP sales)', 'Indy 500',\n",
       "       'Disgaea 3: Absence of Detention', 'Flag Capture', 'Gun',\n",
       "       'Rock Revolution', 'College Hoops 2K6',\n",
       "       'Jonah Lomu Rugby Challenge', 'Mega Man X Collection',\n",
       "       'BioShock 2', 'Danganronpa: Trigger Happy Havoc', 'Jet X20',\n",
       "       \"Tony Hawk's Downhill Jam\", 'Tribes: Aerial Assault',\n",
       "       'Big Beach Sports 2', 'Yu Yu Hakusho: Dark Tournament',\n",
       "       'Ghostbusters II', 'Breakaway IV', 'Robotech: Battlecry',\n",
       "       'Move Fitness', 'Valkyria Chronicles III: Unrecorded Chronicles',\n",
       "       'DanceDanceRevolution II', 'WRC: FIA World Rally Championship',\n",
       "       'Famista 64', 'Dead Space 3', 'Pet Zombies', 'Star Trek: Legacy',\n",
       "       'Backbreaker', 'Twisted Metal: Small Brawl', 'Otomedius Excellent',\n",
       "       'NBA Starting Five', 'Teen Titans', 'Trauma Team',\n",
       "       \"James Cameron's Dark Angel\", 'Sword of the Samurai',\n",
       "       'Splatterhouse', 'Alone in the Dark: The New Nightmare',\n",
       "       'Vegas Party', 'Jurassic Park: The Game', 'Home Run',\n",
       "       'eJay Clubworld', 'Our House Party!', 'WCW Backstage Assault',\n",
       "       \"Disney's Cinderella: Magical Dreams\", 'Transworld Surf',\n",
       "       'Street Fighter IV', 'Nintendo Puzzle Collection',\n",
       "       'Charm Girls Club: My Fashion Mall', 'Record of Agarest War Zero',\n",
       "       'Rocksmith',\n",
       "       'Super Robot Wars OG Saga: Masou Kishin II - Revelation of Evil God',\n",
       "       'Saru! Get You! Million Monkeys', 'Street Hoops',\n",
       "       'Godzilla: Destroy All Monsters Melee',\n",
       "       'The Daring Game for Girls', 'Major League Baseball 2K6',\n",
       "       'Star Trek: Conquest', 'GiFTPiA', 'Happy Feet Two',\n",
       "       \"Disney's Chicken Little: Ace In Action\",\n",
       "       'Atsumare! Power Pro Kun no DS Koushien',\n",
       "       'My Healthy Cooking Coach', 'Luminous Arc 2 (JP sales)',\n",
       "       'Egg Monster Hero', 'Demon Chaos', 'Samurai Shodown Anthology',\n",
       "       'Action Man-Operation Extreme', 'Super Puzzle Fighter II',\n",
       "       'Charm Girls Club: My Fashion Show', 'Face Racers: Photo Finish',\n",
       "       'Zero: Tsukihami no Kamen', 'The Hidden', 'Get Fit with Mel B',\n",
       "       'Mega Man Battle Network: Operation Shooting Star',\n",
       "       'Smashing Drive', 'Port Royale 3', 'Dream Trigger 3D',\n",
       "       'Dead Island: Riptide', 'Yoostar on MTV', 'Tornado',\n",
       "       \"McFarlane's Evil Prophecy\", 'Drake of the 99 Dragons',\n",
       "       'Build-A-Bear Workshop: Friendship Valley', 'Rayman Arena',\n",
       "       'National Geographic Challenge!', 'Alex Rider: Stormbreaker',\n",
       "       'Chou Soujuu Mecha MG',\n",
       "       'Prinny: Can I Really Be The Hero? (US sales)',\n",
       "       'Combat Elite: WWII Paratroopers', \"Flip's Twisted World\",\n",
       "       'Mobile Ops: The One Year War',\n",
       "       \"Tom Clancy's Rainbow Six: Critical Hour\",\n",
       "       'Jewel Link Chronicles: Mountains of Madness',\n",
       "       'Captain America: Super Soldier', 'Mountain Bike Adrenaline',\n",
       "       'Drill Dozer', 'GRID', 'Tour de France 2011',\n",
       "       'Reader Rabbit 2nd Grade', 'Monster Hunter Frontier Online',\n",
       "       'RollerCoaster Tycoon', 'Battle vs. Chess',\n",
       "       'The History Channel: Great Battles - Medieval',\n",
       "       'Clockwork Empires', 'B.L.U.E.: Legend of Water', 'NHL Hitz Pro',\n",
       "       \"Luxor: Pharaoh's Challenge\", 'Sega Rally 2006',\n",
       "       'Half-Minute Hero 2', 'Housekeeping', 'Major League Baseball 2K8',\n",
       "       'Sabre Wulf', 'Swords', 'Beyond the Labyrinth',\n",
       "       'Bikkuriman Daijiten', 'Majesty 2: The Fantasy Kingdom Sim',\n",
       "       'Fullmetal Alchemist: Brotherhood',\n",
       "       'Samurai Spirits: Tenkaichi Kenkakuden', 'World of Tanks',\n",
       "       'Tom and Jerry in War of the Whiskers', 'Super Duper Sumos',\n",
       "       'The King of Fighters: Maximum Impact - Maniax',\n",
       "       'Combat Wings: The Great Battles of WWII', 'Tube Slider',\n",
       "       'Umineko no Naku Koro ni San: Shinjitsu to Gensou no Yasoukyoku',\n",
       "       'Payout Poker & Casino', 'Wii de Asobu: Metroid Prime',\n",
       "       'Legacy of Ys: Books I & II', 'Saint', 'Steal Princess',\n",
       "       'Mario Tennis', 'Runaway: A Twist of Fate',\n",
       "       \"Yu-Gi-Oh! 5D's Wheelie Breakers (JP sales)\",\n",
       "       \"Cabela's Alaskan Adventure\",\n",
       "       'Writing and Speaking Beautiful Japanese DS', 'Virtua Quest',\n",
       "       \"Shonen Jump's Yu-Gi-Oh! GX Card Almanac\", 'Without Warning',\n",
       "       'PDC World Championship Darts 2008',\n",
       "       'Dinotopia: The Sunstone Odyssey', 'Jet Impulse', 'Dream Dancer',\n",
       "       \"Dance! It's Your Stage\", 'Football Manager 2007',\n",
       "       'Ferrari: The Race Experience', 'Aquaman: Battle for Atlantis',\n",
       "       'Homeworld Remastered Collection', 'Shorts',\n",
       "       'AKB1/48: Idol to Guam de Koishitara...',\n",
       "       'Brothers in Arms: Furious 4', 'Agarest Senki: Re-appearance',\n",
       "       'Freaky Flyers', 'Inversion', 'Hakuouki: Shinsengumi Kitan'],\n",
       "      dtype=object)"
      ]
     },
     "execution_count": 691,
     "metadata": {},
     "output_type": "execute_result"
    }
   ],
   "source": [
    "data[data['year_of_release'].isna()==True]['name'].unique()"
   ]
  },
  {
   "cell_type": "code",
   "execution_count": 692,
   "metadata": {},
   "outputs": [],
   "source": [
    "games_without_year_of_release = list(data[data['year_of_release'].isna()==True]['name'].unique())"
   ]
  },
  {
   "cell_type": "code",
   "execution_count": 693,
   "metadata": {},
   "outputs": [
    {
     "data": {
      "text/plain": [
       "name                                    year_of_release\n",
       "AKB1/48: Idol to Guam de Koishitara...  2011.0             1\n",
       "Aquaman: Battle for Atlantis            2003.0             1\n",
       "Battle vs. Chess                        2011.0             1\n",
       "Bejeweled 3                             2010.0             1\n",
       "BioShock 2                              2010.0             2\n",
       "                                                          ..\n",
       "Wheel of Fortune                        1997.0             1\n",
       "                                        1998.0             1\n",
       "                                        2010.0             2\n",
       "Without Warning                         2005.0             1\n",
       "World of Tanks                          2011.0             1\n",
       "Name: platform, Length: 113, dtype: int64"
      ]
     },
     "execution_count": 693,
     "metadata": {},
     "output_type": "execute_result"
    }
   ],
   "source": [
    "data[(data['name'].isin(games_without_year_of_release)) & (data['year_of_release'].isna()==False)].\\\n",
    "groupby(['name','year_of_release'])['platform'].count()"
   ]
  },
  {
   "cell_type": "markdown",
   "metadata": {},
   "source": [
    "Часть пропусков в значениях `year_of_release` можно заполнить на основе данных о выходе конкретных игр, но на других платформах. Но поскольку пропусков небольшое кол-во и нет уверенности, что игры выходят на всех платформах в одно время, то мы просто избавимся от этих строк."
   ]
  },
  {
   "cell_type": "code",
   "execution_count": 694,
   "metadata": {},
   "outputs": [],
   "source": [
    "data = data[data['year_of_release'].isna()==False]"
   ]
  },
  {
   "cell_type": "markdown",
   "metadata": {},
   "source": [
    "Проверим значения в `critic_score`"
   ]
  },
  {
   "cell_type": "code",
   "execution_count": 695,
   "metadata": {},
   "outputs": [
    {
     "data": {
      "text/plain": [
       "70.0    252\n",
       "71.0    248\n",
       "75.0    240\n",
       "80.0    235\n",
       "73.0    234\n",
       "       ... \n",
       "29.0      3\n",
       "20.0      3\n",
       "13.0      1\n",
       "17.0      1\n",
       "21.0      1\n",
       "Name: critic_score, Length: 81, dtype: int64"
      ]
     },
     "execution_count": 695,
     "metadata": {},
     "output_type": "execute_result"
    }
   ],
   "source": [
    "data['critic_score'].value_counts()"
   ]
  },
  {
   "cell_type": "code",
   "execution_count": 696,
   "metadata": {},
   "outputs": [
    {
     "data": {
      "text/plain": [
       "array([76., nan, 82., 80., 89., 58., 87., 91., 61., 97., 95., 77., 88.,\n",
       "       83., 94., 93., 85., 86., 98., 96., 90., 84., 73., 74., 78., 92.,\n",
       "       71., 72., 68., 62., 49., 67., 81., 66., 56., 79., 70., 59., 64.,\n",
       "       75., 60., 63., 69., 50., 25., 42., 44., 55., 48., 57., 29., 47.,\n",
       "       65., 54., 20., 53., 37., 38., 33., 52., 30., 32., 43., 45., 51.,\n",
       "       40., 46., 39., 34., 41., 36., 31., 27., 35., 26., 19., 28., 23.,\n",
       "       24., 21., 17., 13.])"
      ]
     },
     "execution_count": 696,
     "metadata": {},
     "output_type": "execute_result"
    }
   ],
   "source": [
    "data['critic_score'].unique()"
   ]
  },
  {
   "cell_type": "markdown",
   "metadata": {},
   "source": [
    "Заполним пропуски в `critic_score`"
   ]
  },
  {
   "cell_type": "code",
   "execution_count": 697,
   "metadata": {},
   "outputs": [],
   "source": [
    "data['critic_score'] = data['critic_score'].fillna(0)"
   ]
  },
  {
   "cell_type": "markdown",
   "metadata": {},
   "source": [
    "Проверим значения в `user_score`"
   ]
  },
  {
   "cell_type": "code",
   "execution_count": 698,
   "metadata": {},
   "outputs": [
    {
     "data": {
      "text/plain": [
       "tbd    2376\n",
       "7.8     322\n",
       "8       285\n",
       "8.2     276\n",
       "8.3     252\n",
       "       ... \n",
       "1.9       2\n",
       "2.3       2\n",
       "1         2\n",
       "9.7       1\n",
       "0         1\n",
       "Name: user_score, Length: 96, dtype: int64"
      ]
     },
     "execution_count": 698,
     "metadata": {},
     "output_type": "execute_result"
    }
   ],
   "source": [
    "data['user_score'].value_counts()"
   ]
  },
  {
   "cell_type": "code",
   "execution_count": 699,
   "metadata": {},
   "outputs": [
    {
     "data": {
      "text/html": [
       "<div>\n",
       "<style scoped>\n",
       "    .dataframe tbody tr th:only-of-type {\n",
       "        vertical-align: middle;\n",
       "    }\n",
       "\n",
       "    .dataframe tbody tr th {\n",
       "        vertical-align: top;\n",
       "    }\n",
       "\n",
       "    .dataframe thead th {\n",
       "        text-align: right;\n",
       "    }\n",
       "</style>\n",
       "<table border=\"1\" class=\"dataframe\">\n",
       "  <thead>\n",
       "    <tr style=\"text-align: right;\">\n",
       "      <th></th>\n",
       "      <th>index</th>\n",
       "      <th>name</th>\n",
       "      <th>platform</th>\n",
       "      <th>year_of_release</th>\n",
       "      <th>genre</th>\n",
       "      <th>na_sales</th>\n",
       "      <th>eu_sales</th>\n",
       "      <th>jp_sales</th>\n",
       "      <th>other_sales</th>\n",
       "      <th>critic_score</th>\n",
       "      <th>user_score</th>\n",
       "      <th>rating</th>\n",
       "    </tr>\n",
       "  </thead>\n",
       "  <tbody>\n",
       "    <tr>\n",
       "      <th>119</th>\n",
       "      <td>119</td>\n",
       "      <td>Zumba Fitness</td>\n",
       "      <td>Wii</td>\n",
       "      <td>2010.0</td>\n",
       "      <td>Sports</td>\n",
       "      <td>3.45</td>\n",
       "      <td>2.59</td>\n",
       "      <td>0.0</td>\n",
       "      <td>0.66</td>\n",
       "      <td>0.0</td>\n",
       "      <td>tbd</td>\n",
       "      <td>E</td>\n",
       "    </tr>\n",
       "    <tr>\n",
       "      <th>301</th>\n",
       "      <td>301</td>\n",
       "      <td>Namco Museum: 50th Anniversary</td>\n",
       "      <td>PS2</td>\n",
       "      <td>2005.0</td>\n",
       "      <td>Misc</td>\n",
       "      <td>2.08</td>\n",
       "      <td>1.35</td>\n",
       "      <td>0.0</td>\n",
       "      <td>0.54</td>\n",
       "      <td>61.0</td>\n",
       "      <td>tbd</td>\n",
       "      <td>E10+</td>\n",
       "    </tr>\n",
       "    <tr>\n",
       "      <th>520</th>\n",
       "      <td>520</td>\n",
       "      <td>Zumba Fitness 2</td>\n",
       "      <td>Wii</td>\n",
       "      <td>2011.0</td>\n",
       "      <td>Sports</td>\n",
       "      <td>1.51</td>\n",
       "      <td>1.03</td>\n",
       "      <td>0.0</td>\n",
       "      <td>0.27</td>\n",
       "      <td>0.0</td>\n",
       "      <td>tbd</td>\n",
       "      <td>T</td>\n",
       "    </tr>\n",
       "    <tr>\n",
       "      <th>645</th>\n",
       "      <td>645</td>\n",
       "      <td>uDraw Studio</td>\n",
       "      <td>Wii</td>\n",
       "      <td>2010.0</td>\n",
       "      <td>Misc</td>\n",
       "      <td>1.65</td>\n",
       "      <td>0.57</td>\n",
       "      <td>0.0</td>\n",
       "      <td>0.20</td>\n",
       "      <td>71.0</td>\n",
       "      <td>tbd</td>\n",
       "      <td>E</td>\n",
       "    </tr>\n",
       "    <tr>\n",
       "      <th>717</th>\n",
       "      <td>718</td>\n",
       "      <td>Just Dance Kids</td>\n",
       "      <td>Wii</td>\n",
       "      <td>2010.0</td>\n",
       "      <td>Misc</td>\n",
       "      <td>1.52</td>\n",
       "      <td>0.54</td>\n",
       "      <td>0.0</td>\n",
       "      <td>0.18</td>\n",
       "      <td>0.0</td>\n",
       "      <td>tbd</td>\n",
       "      <td>E</td>\n",
       "    </tr>\n",
       "    <tr>\n",
       "      <th>...</th>\n",
       "      <td>...</td>\n",
       "      <td>...</td>\n",
       "      <td>...</td>\n",
       "      <td>...</td>\n",
       "      <td>...</td>\n",
       "      <td>...</td>\n",
       "      <td>...</td>\n",
       "      <td>...</td>\n",
       "      <td>...</td>\n",
       "      <td>...</td>\n",
       "      <td>...</td>\n",
       "      <td>...</td>\n",
       "    </tr>\n",
       "    <tr>\n",
       "      <th>16693</th>\n",
       "      <td>16695</td>\n",
       "      <td>Planet Monsters</td>\n",
       "      <td>GBA</td>\n",
       "      <td>2001.0</td>\n",
       "      <td>Action</td>\n",
       "      <td>0.01</td>\n",
       "      <td>0.00</td>\n",
       "      <td>0.0</td>\n",
       "      <td>0.00</td>\n",
       "      <td>67.0</td>\n",
       "      <td>tbd</td>\n",
       "      <td>E</td>\n",
       "    </tr>\n",
       "    <tr>\n",
       "      <th>16695</th>\n",
       "      <td>16697</td>\n",
       "      <td>Bust-A-Move 3000</td>\n",
       "      <td>GC</td>\n",
       "      <td>2003.0</td>\n",
       "      <td>Puzzle</td>\n",
       "      <td>0.01</td>\n",
       "      <td>0.00</td>\n",
       "      <td>0.0</td>\n",
       "      <td>0.00</td>\n",
       "      <td>53.0</td>\n",
       "      <td>tbd</td>\n",
       "      <td>E</td>\n",
       "    </tr>\n",
       "    <tr>\n",
       "      <th>16696</th>\n",
       "      <td>16698</td>\n",
       "      <td>Mega Brain Boost</td>\n",
       "      <td>DS</td>\n",
       "      <td>2008.0</td>\n",
       "      <td>Puzzle</td>\n",
       "      <td>0.01</td>\n",
       "      <td>0.00</td>\n",
       "      <td>0.0</td>\n",
       "      <td>0.00</td>\n",
       "      <td>48.0</td>\n",
       "      <td>tbd</td>\n",
       "      <td>E</td>\n",
       "    </tr>\n",
       "    <tr>\n",
       "      <th>16702</th>\n",
       "      <td>16704</td>\n",
       "      <td>Plushees</td>\n",
       "      <td>DS</td>\n",
       "      <td>2008.0</td>\n",
       "      <td>Simulation</td>\n",
       "      <td>0.01</td>\n",
       "      <td>0.00</td>\n",
       "      <td>0.0</td>\n",
       "      <td>0.00</td>\n",
       "      <td>0.0</td>\n",
       "      <td>tbd</td>\n",
       "      <td>E</td>\n",
       "    </tr>\n",
       "    <tr>\n",
       "      <th>16704</th>\n",
       "      <td>16706</td>\n",
       "      <td>Men in Black II: Alien Escape</td>\n",
       "      <td>GC</td>\n",
       "      <td>2003.0</td>\n",
       "      <td>Shooter</td>\n",
       "      <td>0.01</td>\n",
       "      <td>0.00</td>\n",
       "      <td>0.0</td>\n",
       "      <td>0.00</td>\n",
       "      <td>0.0</td>\n",
       "      <td>tbd</td>\n",
       "      <td>T</td>\n",
       "    </tr>\n",
       "  </tbody>\n",
       "</table>\n",
       "<p>2376 rows × 12 columns</p>\n",
       "</div>"
      ],
      "text/plain": [
       "       index                            name platform  year_of_release  \\\n",
       "119      119                   Zumba Fitness      Wii           2010.0   \n",
       "301      301  Namco Museum: 50th Anniversary      PS2           2005.0   \n",
       "520      520                 Zumba Fitness 2      Wii           2011.0   \n",
       "645      645                    uDraw Studio      Wii           2010.0   \n",
       "717      718                 Just Dance Kids      Wii           2010.0   \n",
       "...      ...                             ...      ...              ...   \n",
       "16693  16695                 Planet Monsters      GBA           2001.0   \n",
       "16695  16697                Bust-A-Move 3000       GC           2003.0   \n",
       "16696  16698                Mega Brain Boost       DS           2008.0   \n",
       "16702  16704                        Plushees       DS           2008.0   \n",
       "16704  16706   Men in Black II: Alien Escape       GC           2003.0   \n",
       "\n",
       "            genre  na_sales  eu_sales  jp_sales  other_sales  critic_score  \\\n",
       "119        Sports      3.45      2.59       0.0         0.66           0.0   \n",
       "301          Misc      2.08      1.35       0.0         0.54          61.0   \n",
       "520        Sports      1.51      1.03       0.0         0.27           0.0   \n",
       "645          Misc      1.65      0.57       0.0         0.20          71.0   \n",
       "717          Misc      1.52      0.54       0.0         0.18           0.0   \n",
       "...           ...       ...       ...       ...          ...           ...   \n",
       "16693      Action      0.01      0.00       0.0         0.00          67.0   \n",
       "16695      Puzzle      0.01      0.00       0.0         0.00          53.0   \n",
       "16696      Puzzle      0.01      0.00       0.0         0.00          48.0   \n",
       "16702  Simulation      0.01      0.00       0.0         0.00           0.0   \n",
       "16704     Shooter      0.01      0.00       0.0         0.00           0.0   \n",
       "\n",
       "      user_score rating  \n",
       "119          tbd      E  \n",
       "301          tbd   E10+  \n",
       "520          tbd      T  \n",
       "645          tbd      E  \n",
       "717          tbd      E  \n",
       "...          ...    ...  \n",
       "16693        tbd      E  \n",
       "16695        tbd      E  \n",
       "16696        tbd      E  \n",
       "16702        tbd      E  \n",
       "16704        tbd      T  \n",
       "\n",
       "[2376 rows x 12 columns]"
      ]
     },
     "execution_count": 699,
     "metadata": {},
     "output_type": "execute_result"
    }
   ],
   "source": [
    "data[data['user_score']=='tbd']"
   ]
  },
  {
   "cell_type": "code",
   "execution_count": 700,
   "metadata": {},
   "outputs": [
    {
     "data": {
      "text/plain": [
       "array(['8', nan, '8.3', '8.5', '6.6', '8.4', '8.6', '7.7', '6.3', '7.4',\n",
       "       '8.2', '9', '7.9', '8.1', '8.7', '7.1', '3.4', '5.3', '4.8', '3.2',\n",
       "       '8.9', '6.4', '7.8', '7.5', '2.6', '7.2', '9.2', '7', '7.3', '4.3',\n",
       "       '7.6', '5.7', '5', '9.1', '6.5', 'tbd', '8.8', '6.9', '9.4', '6.8',\n",
       "       '6.1', '6.7', '5.4', '4', '4.9', '4.5', '9.3', '6.2', '4.2', '6',\n",
       "       '3.7', '4.1', '5.8', '5.6', '5.5', '4.4', '4.6', '5.9', '3.9',\n",
       "       '3.1', '2.9', '5.2', '3.3', '4.7', '5.1', '3.5', '2.5', '1.9', '3',\n",
       "       '2.7', '2.2', '2', '9.5', '2.1', '3.6', '2.8', '1.8', '3.8', '0',\n",
       "       '1.6', '9.6', '2.4', '1.7', '1.1', '0.3', '1.5', '0.7', '1.2',\n",
       "       '2.3', '0.5', '1.3', '0.2', '0.6', '1.4', '0.9', '1', '9.7'],\n",
       "      dtype=object)"
      ]
     },
     "execution_count": 700,
     "metadata": {},
     "output_type": "execute_result"
    }
   ],
   "source": [
    "data['user_score'].unique()"
   ]
  },
  {
   "cell_type": "markdown",
   "metadata": {},
   "source": [
    "Заполним явные и неявные пропуски в `user_score`"
   ]
  },
  {
   "cell_type": "code",
   "execution_count": 701,
   "metadata": {},
   "outputs": [],
   "source": [
    "data['user_score'] = data['user_score'].fillna(-1)\n",
    "data.loc[(data['user_score']=='tbd'), ('user_score')] = -1"
   ]
  },
  {
   "cell_type": "markdown",
   "metadata": {},
   "source": [
    "Проверим значения в `rating`"
   ]
  },
  {
   "cell_type": "code",
   "execution_count": 702,
   "metadata": {},
   "outputs": [
    {
     "data": {
      "text/plain": [
       "array(['E', nan, 'M', 'T', 'E10+', 'K-A', 'AO', 'EC', 'RP'], dtype=object)"
      ]
     },
     "execution_count": 702,
     "metadata": {},
     "output_type": "execute_result"
    }
   ],
   "source": [
    "data['rating'].unique()"
   ]
  },
  {
   "cell_type": "markdown",
   "metadata": {},
   "source": [
    "Заполним пропуски в `rating`"
   ]
  },
  {
   "cell_type": "code",
   "execution_count": 703,
   "metadata": {},
   "outputs": [],
   "source": [
    "data['rating'] = data['rating'].fillna('No_Rating')"
   ]
  },
  {
   "cell_type": "markdown",
   "metadata": {},
   "source": [
    "Ещё раз проверим на наличие пропусков в данных."
   ]
  },
  {
   "cell_type": "code",
   "execution_count": 704,
   "metadata": {
    "scrolled": true
   },
   "outputs": [
    {
     "data": {
      "text/plain": [
       "index              0\n",
       "name               0\n",
       "platform           0\n",
       "year_of_release    0\n",
       "genre              0\n",
       "na_sales           0\n",
       "eu_sales           0\n",
       "jp_sales           0\n",
       "other_sales        0\n",
       "critic_score       0\n",
       "user_score         0\n",
       "rating             0\n",
       "dtype: int64"
      ]
     },
     "execution_count": 704,
     "metadata": {},
     "output_type": "execute_result"
    }
   ],
   "source": [
    "data.isna().sum()"
   ]
  },
  {
   "cell_type": "markdown",
   "metadata": {},
   "source": [
    "#### Типы данных"
   ]
  },
  {
   "cell_type": "code",
   "execution_count": 705,
   "metadata": {},
   "outputs": [],
   "source": [
    "#изменяем тип данных\n",
    "data[['year_of_release','critic_score']] = data[['year_of_release','critic_score']].astype(int)\n",
    "data[['user_score']] = data[['user_score']].astype('float32')"
   ]
  },
  {
   "cell_type": "markdown",
   "metadata": {},
   "source": [
    "#### Проверка на явные и неявные дубликаты"
   ]
  },
  {
   "cell_type": "markdown",
   "metadata": {},
   "source": [
    "Для начала проверим выборку на полные дубликаты."
   ]
  },
  {
   "cell_type": "code",
   "execution_count": 706,
   "metadata": {},
   "outputs": [
    {
     "data": {
      "text/plain": [
       "0"
      ]
     },
     "execution_count": 706,
     "metadata": {},
     "output_type": "execute_result"
    }
   ],
   "source": [
    "data.duplicated().sum()"
   ]
  },
  {
   "cell_type": "markdown",
   "metadata": {},
   "source": [
    "Рассмотрим, нет ли неявных дубликатов в категориальных данных."
   ]
  },
  {
   "cell_type": "code",
   "execution_count": 707,
   "metadata": {},
   "outputs": [
    {
     "data": {
      "text/plain": [
       "array(['Wii', 'NES', 'GB', 'DS', 'X360', 'PS3', 'PS2', 'SNES', 'GBA',\n",
       "       'PS4', '3DS', 'N64', 'PS', 'XB', 'PC', '2600', 'PSP', 'XOne',\n",
       "       'WiiU', 'GC', 'GEN', 'DC', 'PSV', 'SAT', 'SCD', 'WS', 'NG', 'TG16',\n",
       "       '3DO', 'GG', 'PCFX'], dtype=object)"
      ]
     },
     "execution_count": 707,
     "metadata": {},
     "output_type": "execute_result"
    }
   ],
   "source": [
    "data['platform'].unique()"
   ]
  },
  {
   "cell_type": "code",
   "execution_count": 708,
   "metadata": {},
   "outputs": [
    {
     "data": {
      "text/plain": [
       "array(['Sports', 'Platform', 'Racing', 'Role-Playing', 'Puzzle', 'Misc',\n",
       "       'Shooter', 'Simulation', 'Action', 'Fighting', 'Adventure',\n",
       "       'Strategy'], dtype=object)"
      ]
     },
     "execution_count": 708,
     "metadata": {},
     "output_type": "execute_result"
    }
   ],
   "source": [
    "data['genre'].unique()"
   ]
  },
  {
   "cell_type": "code",
   "execution_count": 709,
   "metadata": {},
   "outputs": [
    {
     "data": {
      "text/plain": [
       "3"
      ]
     },
     "execution_count": 709,
     "metadata": {},
     "output_type": "execute_result"
    }
   ],
   "source": [
    "data.duplicated(['name','platform']).sum()"
   ]
  },
  {
   "cell_type": "code",
   "execution_count": 710,
   "metadata": {},
   "outputs": [
    {
     "data": {
      "text/html": [
       "<div>\n",
       "<style scoped>\n",
       "    .dataframe tbody tr th:only-of-type {\n",
       "        vertical-align: middle;\n",
       "    }\n",
       "\n",
       "    .dataframe tbody tr th {\n",
       "        vertical-align: top;\n",
       "    }\n",
       "\n",
       "    .dataframe thead th {\n",
       "        text-align: right;\n",
       "    }\n",
       "</style>\n",
       "<table border=\"1\" class=\"dataframe\">\n",
       "  <thead>\n",
       "    <tr style=\"text-align: right;\">\n",
       "      <th></th>\n",
       "      <th>index</th>\n",
       "      <th>name</th>\n",
       "      <th>platform</th>\n",
       "      <th>year_of_release</th>\n",
       "      <th>genre</th>\n",
       "      <th>na_sales</th>\n",
       "      <th>eu_sales</th>\n",
       "      <th>jp_sales</th>\n",
       "      <th>other_sales</th>\n",
       "      <th>critic_score</th>\n",
       "      <th>user_score</th>\n",
       "      <th>rating</th>\n",
       "    </tr>\n",
       "  </thead>\n",
       "  <tbody>\n",
       "    <tr>\n",
       "      <th>1590</th>\n",
       "      <td>1591</td>\n",
       "      <td>Need for Speed: Most Wanted</td>\n",
       "      <td>X360</td>\n",
       "      <td>2005</td>\n",
       "      <td>Racing</td>\n",
       "      <td>1.0</td>\n",
       "      <td>0.13</td>\n",
       "      <td>0.02</td>\n",
       "      <td>0.10</td>\n",
       "      <td>83</td>\n",
       "      <td>8.5</td>\n",
       "      <td>T</td>\n",
       "    </tr>\n",
       "    <tr>\n",
       "      <th>11714</th>\n",
       "      <td>11715</td>\n",
       "      <td>Need for Speed: Most Wanted</td>\n",
       "      <td>PC</td>\n",
       "      <td>2012</td>\n",
       "      <td>Racing</td>\n",
       "      <td>0.0</td>\n",
       "      <td>0.06</td>\n",
       "      <td>0.00</td>\n",
       "      <td>0.02</td>\n",
       "      <td>82</td>\n",
       "      <td>8.5</td>\n",
       "      <td>T</td>\n",
       "    </tr>\n",
       "    <tr>\n",
       "      <th>16228</th>\n",
       "      <td>16230</td>\n",
       "      <td>Madden NFL 13</td>\n",
       "      <td>PS3</td>\n",
       "      <td>2012</td>\n",
       "      <td>Sports</td>\n",
       "      <td>0.0</td>\n",
       "      <td>0.01</td>\n",
       "      <td>0.00</td>\n",
       "      <td>0.00</td>\n",
       "      <td>83</td>\n",
       "      <td>5.5</td>\n",
       "      <td>E</td>\n",
       "    </tr>\n",
       "  </tbody>\n",
       "</table>\n",
       "</div>"
      ],
      "text/plain": [
       "       index                         name platform  year_of_release   genre  \\\n",
       "1590    1591  Need for Speed: Most Wanted     X360             2005  Racing   \n",
       "11714  11715  Need for Speed: Most Wanted       PC             2012  Racing   \n",
       "16228  16230                Madden NFL 13      PS3             2012  Sports   \n",
       "\n",
       "       na_sales  eu_sales  jp_sales  other_sales  critic_score  user_score  \\\n",
       "1590        1.0      0.13      0.02         0.10            83         8.5   \n",
       "11714       0.0      0.06      0.00         0.02            82         8.5   \n",
       "16228       0.0      0.01      0.00         0.00            83         5.5   \n",
       "\n",
       "      rating  \n",
       "1590       T  \n",
       "11714      T  \n",
       "16228      E  "
      ]
     },
     "execution_count": 710,
     "metadata": {},
     "output_type": "execute_result"
    }
   ],
   "source": [
    "data[data.duplicated(['name','platform'])==True]"
   ]
  },
  {
   "cell_type": "code",
   "execution_count": 711,
   "metadata": {},
   "outputs": [
    {
     "data": {
      "text/html": [
       "<div>\n",
       "<style scoped>\n",
       "    .dataframe tbody tr th:only-of-type {\n",
       "        vertical-align: middle;\n",
       "    }\n",
       "\n",
       "    .dataframe tbody tr th {\n",
       "        vertical-align: top;\n",
       "    }\n",
       "\n",
       "    .dataframe thead th {\n",
       "        text-align: right;\n",
       "    }\n",
       "</style>\n",
       "<table border=\"1\" class=\"dataframe\">\n",
       "  <thead>\n",
       "    <tr style=\"text-align: right;\">\n",
       "      <th></th>\n",
       "      <th>index</th>\n",
       "      <th>name</th>\n",
       "      <th>platform</th>\n",
       "      <th>year_of_release</th>\n",
       "      <th>genre</th>\n",
       "      <th>na_sales</th>\n",
       "      <th>eu_sales</th>\n",
       "      <th>jp_sales</th>\n",
       "      <th>other_sales</th>\n",
       "      <th>critic_score</th>\n",
       "      <th>user_score</th>\n",
       "      <th>rating</th>\n",
       "    </tr>\n",
       "  </thead>\n",
       "  <tbody>\n",
       "    <tr>\n",
       "      <th>1189</th>\n",
       "      <td>1190</td>\n",
       "      <td>Need for Speed: Most Wanted</td>\n",
       "      <td>X360</td>\n",
       "      <td>2012</td>\n",
       "      <td>Racing</td>\n",
       "      <td>0.62</td>\n",
       "      <td>0.78</td>\n",
       "      <td>0.01</td>\n",
       "      <td>0.15</td>\n",
       "      <td>83</td>\n",
       "      <td>8.5</td>\n",
       "      <td>T</td>\n",
       "    </tr>\n",
       "    <tr>\n",
       "      <th>1590</th>\n",
       "      <td>1591</td>\n",
       "      <td>Need for Speed: Most Wanted</td>\n",
       "      <td>X360</td>\n",
       "      <td>2005</td>\n",
       "      <td>Racing</td>\n",
       "      <td>1.00</td>\n",
       "      <td>0.13</td>\n",
       "      <td>0.02</td>\n",
       "      <td>0.10</td>\n",
       "      <td>83</td>\n",
       "      <td>8.5</td>\n",
       "      <td>T</td>\n",
       "    </tr>\n",
       "  </tbody>\n",
       "</table>\n",
       "</div>"
      ],
      "text/plain": [
       "      index                         name platform  year_of_release   genre  \\\n",
       "1189   1190  Need for Speed: Most Wanted     X360             2012  Racing   \n",
       "1590   1591  Need for Speed: Most Wanted     X360             2005  Racing   \n",
       "\n",
       "      na_sales  eu_sales  jp_sales  other_sales  critic_score  user_score  \\\n",
       "1189      0.62      0.78      0.01         0.15            83         8.5   \n",
       "1590      1.00      0.13      0.02         0.10            83         8.5   \n",
       "\n",
       "     rating  \n",
       "1189      T  \n",
       "1590      T  "
      ]
     },
     "execution_count": 711,
     "metadata": {},
     "output_type": "execute_result"
    }
   ],
   "source": [
    "data[(data['name']=='Need for Speed: Most Wanted') & (data['platform']=='X360')]"
   ]
  },
  {
   "cell_type": "markdown",
   "metadata": {},
   "source": [
    "Видим, что есть три строки, с неявными дублями. Возможно в этих строках есть ошибки. Но поскольку таких строк мало, и они не окажут влияние на дальнейший анализ, то оставим их в таком виде, как есть."
   ]
  },
  {
   "cell_type": "markdown",
   "metadata": {},
   "source": [
    "Как видим, полных дублей в нашей выборке нет. Идём далее."
   ]
  },
  {
   "cell_type": "markdown",
   "metadata": {},
   "source": [
    "###  Суммарные продажи во всех регионах"
   ]
  },
  {
   "cell_type": "code",
   "execution_count": 712,
   "metadata": {},
   "outputs": [
    {
     "data": {
      "text/html": [
       "<div>\n",
       "<style scoped>\n",
       "    .dataframe tbody tr th:only-of-type {\n",
       "        vertical-align: middle;\n",
       "    }\n",
       "\n",
       "    .dataframe tbody tr th {\n",
       "        vertical-align: top;\n",
       "    }\n",
       "\n",
       "    .dataframe thead th {\n",
       "        text-align: right;\n",
       "    }\n",
       "</style>\n",
       "<table border=\"1\" class=\"dataframe\">\n",
       "  <thead>\n",
       "    <tr style=\"text-align: right;\">\n",
       "      <th></th>\n",
       "      <th>index</th>\n",
       "      <th>name</th>\n",
       "      <th>platform</th>\n",
       "      <th>year_of_release</th>\n",
       "      <th>genre</th>\n",
       "      <th>na_sales</th>\n",
       "      <th>eu_sales</th>\n",
       "      <th>jp_sales</th>\n",
       "      <th>other_sales</th>\n",
       "      <th>critic_score</th>\n",
       "      <th>user_score</th>\n",
       "      <th>rating</th>\n",
       "    </tr>\n",
       "  </thead>\n",
       "  <tbody>\n",
       "    <tr>\n",
       "      <th>0</th>\n",
       "      <td>0</td>\n",
       "      <td>Wii Sports</td>\n",
       "      <td>Wii</td>\n",
       "      <td>2006</td>\n",
       "      <td>Sports</td>\n",
       "      <td>41.36</td>\n",
       "      <td>28.96</td>\n",
       "      <td>3.77</td>\n",
       "      <td>8.45</td>\n",
       "      <td>76</td>\n",
       "      <td>8.0</td>\n",
       "      <td>E</td>\n",
       "    </tr>\n",
       "    <tr>\n",
       "      <th>1</th>\n",
       "      <td>1</td>\n",
       "      <td>Super Mario Bros.</td>\n",
       "      <td>NES</td>\n",
       "      <td>1985</td>\n",
       "      <td>Platform</td>\n",
       "      <td>29.08</td>\n",
       "      <td>3.58</td>\n",
       "      <td>6.81</td>\n",
       "      <td>0.77</td>\n",
       "      <td>0</td>\n",
       "      <td>-1.0</td>\n",
       "      <td>No_Rating</td>\n",
       "    </tr>\n",
       "    <tr>\n",
       "      <th>2</th>\n",
       "      <td>2</td>\n",
       "      <td>Mario Kart Wii</td>\n",
       "      <td>Wii</td>\n",
       "      <td>2008</td>\n",
       "      <td>Racing</td>\n",
       "      <td>15.68</td>\n",
       "      <td>12.76</td>\n",
       "      <td>3.79</td>\n",
       "      <td>3.29</td>\n",
       "      <td>82</td>\n",
       "      <td>8.3</td>\n",
       "      <td>E</td>\n",
       "    </tr>\n",
       "    <tr>\n",
       "      <th>3</th>\n",
       "      <td>3</td>\n",
       "      <td>Wii Sports Resort</td>\n",
       "      <td>Wii</td>\n",
       "      <td>2009</td>\n",
       "      <td>Sports</td>\n",
       "      <td>15.61</td>\n",
       "      <td>10.93</td>\n",
       "      <td>3.28</td>\n",
       "      <td>2.95</td>\n",
       "      <td>80</td>\n",
       "      <td>8.0</td>\n",
       "      <td>E</td>\n",
       "    </tr>\n",
       "    <tr>\n",
       "      <th>4</th>\n",
       "      <td>4</td>\n",
       "      <td>Pokemon Red/Pokemon Blue</td>\n",
       "      <td>GB</td>\n",
       "      <td>1996</td>\n",
       "      <td>Role-Playing</td>\n",
       "      <td>11.27</td>\n",
       "      <td>8.89</td>\n",
       "      <td>10.22</td>\n",
       "      <td>1.00</td>\n",
       "      <td>0</td>\n",
       "      <td>-1.0</td>\n",
       "      <td>No_Rating</td>\n",
       "    </tr>\n",
       "  </tbody>\n",
       "</table>\n",
       "</div>"
      ],
      "text/plain": [
       "   index                      name platform  year_of_release         genre  \\\n",
       "0      0                Wii Sports      Wii             2006        Sports   \n",
       "1      1         Super Mario Bros.      NES             1985      Platform   \n",
       "2      2            Mario Kart Wii      Wii             2008        Racing   \n",
       "3      3         Wii Sports Resort      Wii             2009        Sports   \n",
       "4      4  Pokemon Red/Pokemon Blue       GB             1996  Role-Playing   \n",
       "\n",
       "   na_sales  eu_sales  jp_sales  other_sales  critic_score  user_score  \\\n",
       "0     41.36     28.96      3.77         8.45            76         8.0   \n",
       "1     29.08      3.58      6.81         0.77             0        -1.0   \n",
       "2     15.68     12.76      3.79         3.29            82         8.3   \n",
       "3     15.61     10.93      3.28         2.95            80         8.0   \n",
       "4     11.27      8.89     10.22         1.00             0        -1.0   \n",
       "\n",
       "      rating  \n",
       "0          E  \n",
       "1  No_Rating  \n",
       "2          E  \n",
       "3          E  \n",
       "4  No_Rating  "
      ]
     },
     "execution_count": 712,
     "metadata": {},
     "output_type": "execute_result"
    }
   ],
   "source": [
    "data.head()"
   ]
  },
  {
   "cell_type": "markdown",
   "metadata": {},
   "source": [
    "Добавим столбец с сумарными продажами по всем регионам."
   ]
  },
  {
   "cell_type": "code",
   "execution_count": 713,
   "metadata": {},
   "outputs": [],
   "source": [
    "data['total_sales'] = data.loc[:,['na_sales', 'eu_sales', 'eu_sales', 'jp_sales', 'other_sales']].sum(axis=1)"
   ]
  },
  {
   "cell_type": "code",
   "execution_count": 714,
   "metadata": {
    "scrolled": true
   },
   "outputs": [
    {
     "data": {
      "text/html": [
       "<div>\n",
       "<style scoped>\n",
       "    .dataframe tbody tr th:only-of-type {\n",
       "        vertical-align: middle;\n",
       "    }\n",
       "\n",
       "    .dataframe tbody tr th {\n",
       "        vertical-align: top;\n",
       "    }\n",
       "\n",
       "    .dataframe thead th {\n",
       "        text-align: right;\n",
       "    }\n",
       "</style>\n",
       "<table border=\"1\" class=\"dataframe\">\n",
       "  <thead>\n",
       "    <tr style=\"text-align: right;\">\n",
       "      <th></th>\n",
       "      <th>index</th>\n",
       "      <th>name</th>\n",
       "      <th>platform</th>\n",
       "      <th>year_of_release</th>\n",
       "      <th>genre</th>\n",
       "      <th>na_sales</th>\n",
       "      <th>eu_sales</th>\n",
       "      <th>jp_sales</th>\n",
       "      <th>other_sales</th>\n",
       "      <th>critic_score</th>\n",
       "      <th>user_score</th>\n",
       "      <th>rating</th>\n",
       "      <th>total_sales</th>\n",
       "    </tr>\n",
       "  </thead>\n",
       "  <tbody>\n",
       "    <tr>\n",
       "      <th>0</th>\n",
       "      <td>0</td>\n",
       "      <td>Wii Sports</td>\n",
       "      <td>Wii</td>\n",
       "      <td>2006</td>\n",
       "      <td>Sports</td>\n",
       "      <td>41.36</td>\n",
       "      <td>28.96</td>\n",
       "      <td>3.77</td>\n",
       "      <td>8.45</td>\n",
       "      <td>76</td>\n",
       "      <td>8.0</td>\n",
       "      <td>E</td>\n",
       "      <td>111.50</td>\n",
       "    </tr>\n",
       "    <tr>\n",
       "      <th>1</th>\n",
       "      <td>1</td>\n",
       "      <td>Super Mario Bros.</td>\n",
       "      <td>NES</td>\n",
       "      <td>1985</td>\n",
       "      <td>Platform</td>\n",
       "      <td>29.08</td>\n",
       "      <td>3.58</td>\n",
       "      <td>6.81</td>\n",
       "      <td>0.77</td>\n",
       "      <td>0</td>\n",
       "      <td>-1.0</td>\n",
       "      <td>No_Rating</td>\n",
       "      <td>43.82</td>\n",
       "    </tr>\n",
       "    <tr>\n",
       "      <th>2</th>\n",
       "      <td>2</td>\n",
       "      <td>Mario Kart Wii</td>\n",
       "      <td>Wii</td>\n",
       "      <td>2008</td>\n",
       "      <td>Racing</td>\n",
       "      <td>15.68</td>\n",
       "      <td>12.76</td>\n",
       "      <td>3.79</td>\n",
       "      <td>3.29</td>\n",
       "      <td>82</td>\n",
       "      <td>8.3</td>\n",
       "      <td>E</td>\n",
       "      <td>48.28</td>\n",
       "    </tr>\n",
       "    <tr>\n",
       "      <th>3</th>\n",
       "      <td>3</td>\n",
       "      <td>Wii Sports Resort</td>\n",
       "      <td>Wii</td>\n",
       "      <td>2009</td>\n",
       "      <td>Sports</td>\n",
       "      <td>15.61</td>\n",
       "      <td>10.93</td>\n",
       "      <td>3.28</td>\n",
       "      <td>2.95</td>\n",
       "      <td>80</td>\n",
       "      <td>8.0</td>\n",
       "      <td>E</td>\n",
       "      <td>43.70</td>\n",
       "    </tr>\n",
       "    <tr>\n",
       "      <th>4</th>\n",
       "      <td>4</td>\n",
       "      <td>Pokemon Red/Pokemon Blue</td>\n",
       "      <td>GB</td>\n",
       "      <td>1996</td>\n",
       "      <td>Role-Playing</td>\n",
       "      <td>11.27</td>\n",
       "      <td>8.89</td>\n",
       "      <td>10.22</td>\n",
       "      <td>1.00</td>\n",
       "      <td>0</td>\n",
       "      <td>-1.0</td>\n",
       "      <td>No_Rating</td>\n",
       "      <td>40.27</td>\n",
       "    </tr>\n",
       "  </tbody>\n",
       "</table>\n",
       "</div>"
      ],
      "text/plain": [
       "   index                      name platform  year_of_release         genre  \\\n",
       "0      0                Wii Sports      Wii             2006        Sports   \n",
       "1      1         Super Mario Bros.      NES             1985      Platform   \n",
       "2      2            Mario Kart Wii      Wii             2008        Racing   \n",
       "3      3         Wii Sports Resort      Wii             2009        Sports   \n",
       "4      4  Pokemon Red/Pokemon Blue       GB             1996  Role-Playing   \n",
       "\n",
       "   na_sales  eu_sales  jp_sales  other_sales  critic_score  user_score  \\\n",
       "0     41.36     28.96      3.77         8.45            76         8.0   \n",
       "1     29.08      3.58      6.81         0.77             0        -1.0   \n",
       "2     15.68     12.76      3.79         3.29            82         8.3   \n",
       "3     15.61     10.93      3.28         2.95            80         8.0   \n",
       "4     11.27      8.89     10.22         1.00             0        -1.0   \n",
       "\n",
       "      rating  total_sales  \n",
       "0          E       111.50  \n",
       "1  No_Rating        43.82  \n",
       "2          E        48.28  \n",
       "3          E        43.70  \n",
       "4  No_Rating        40.27  "
      ]
     },
     "execution_count": 714,
     "metadata": {},
     "output_type": "execute_result"
    }
   ],
   "source": [
    "data.head()"
   ]
  },
  {
   "cell_type": "markdown",
   "metadata": {},
   "source": [
    "###  Исследовательский анализ данных"
   ]
  },
  {
   "cell_type": "markdown",
   "metadata": {},
   "source": [
    "#### Сколько игр выпускалось в разные годы. Важны ли данные за все периоды?"
   ]
  },
  {
   "cell_type": "code",
   "execution_count": 715,
   "metadata": {},
   "outputs": [
    {
     "data": {
      "image/png": "[encoded data removed]",
      "text/plain": [
       "<Figure size 720x360 with 1 Axes>"
      ]
     },
     "metadata": {
      "needs_background": "light"
     },
     "output_type": "display_data"
    }
   ],
   "source": [
    "data[(data[['name','year_of_release']].duplicated()==False) & (data['year_of_release']>0)][['name','year_of_release']].\\\n",
    "groupby('year_of_release').count().\\\n",
    "plot(grid=True, figsize=(10, 5), legend=False, title='Количество игр по годам').\\\n",
    "set(xlabel='Год релиза', ylabel='Кол-во игр');"
   ]
  },
  {
   "cell_type": "markdown",
   "metadata": {},
   "source": [
    "Количество выпускаемых игр начало расти с начала 90-х. Насыщение по кол-ву выпускаемых игр наступило в 2007 году, и затем началось снижение. Можно смело не учитывать данные до 1990 года."
   ]
  },
  {
   "cell_type": "markdown",
   "metadata": {},
   "source": [
    "#### Как менялись продажи по платформам. Выберите платформы с наибольшими суммарными продажами и постройте распределение по годам. За какой характерный срок появляются новые и исчезают старые платформы?"
   ]
  },
  {
   "cell_type": "code",
   "execution_count": 716,
   "metadata": {},
   "outputs": [
    {
     "data": {
      "image/png": "[encoded data removed]",
      "text/plain": [
       "<Figure size 720x360 with 1 Axes>"
      ]
     },
     "metadata": {
      "needs_background": "light"
     },
     "output_type": "display_data"
    }
   ],
   "source": [
    "data.pivot_table(index='platform',values='total_sales',aggfunc='sum').\\\n",
    "sort_values('total_sales', ascending=False).\\\n",
    "plot(grid=True, kind='bar', figsize=(10, 5), legend=False, title='Продажи по платформам').\\\n",
    "set(xlabel='Платформа', ylabel='Продажи');"
   ]
  },
  {
   "cell_type": "markdown",
   "metadata": {},
   "source": [
    "Исходя из графика видно, что явных лидеров 6, но мы далее будем анализировать топ 10."
   ]
  },
  {
   "cell_type": "code",
   "execution_count": 717,
   "metadata": {},
   "outputs": [
    {
     "data": {
      "text/html": [
       "<div>\n",
       "<style scoped>\n",
       "    .dataframe tbody tr th:only-of-type {\n",
       "        vertical-align: middle;\n",
       "    }\n",
       "\n",
       "    .dataframe tbody tr th {\n",
       "        vertical-align: top;\n",
       "    }\n",
       "\n",
       "    .dataframe thead th {\n",
       "        text-align: right;\n",
       "    }\n",
       "</style>\n",
       "<table border=\"1\" class=\"dataframe\">\n",
       "  <thead>\n",
       "    <tr style=\"text-align: right;\">\n",
       "      <th></th>\n",
       "      <th>total_sales</th>\n",
       "    </tr>\n",
       "    <tr>\n",
       "      <th>platform</th>\n",
       "      <th></th>\n",
       "    </tr>\n",
       "  </thead>\n",
       "  <tbody>\n",
       "    <tr>\n",
       "      <th>PS2</th>\n",
       "      <td>1566.19</td>\n",
       "    </tr>\n",
       "    <tr>\n",
       "      <th>PS3</th>\n",
       "      <td>1258.55</td>\n",
       "    </tr>\n",
       "    <tr>\n",
       "      <th>X360</th>\n",
       "      <td>1229.56</td>\n",
       "    </tr>\n",
       "    <tr>\n",
       "      <th>Wii</th>\n",
       "      <td>1149.50</td>\n",
       "    </tr>\n",
       "    <tr>\n",
       "      <th>DS</th>\n",
       "      <td>991.19</td>\n",
       "    </tr>\n",
       "    <tr>\n",
       "      <th>PS</th>\n",
       "      <td>939.97</td>\n",
       "    </tr>\n",
       "    <tr>\n",
       "      <th>PS4</th>\n",
       "      <td>455.23</td>\n",
       "    </tr>\n",
       "    <tr>\n",
       "      <th>PC</th>\n",
       "      <td>396.13</td>\n",
       "    </tr>\n",
       "    <tr>\n",
       "      <th>GBA</th>\n",
       "      <td>387.47</td>\n",
       "    </tr>\n",
       "    <tr>\n",
       "      <th>PSP</th>\n",
       "      <td>355.15</td>\n",
       "    </tr>\n",
       "  </tbody>\n",
       "</table>\n",
       "</div>"
      ],
      "text/plain": [
       "          total_sales\n",
       "platform             \n",
       "PS2           1566.19\n",
       "PS3           1258.55\n",
       "X360          1229.56\n",
       "Wii           1149.50\n",
       "DS             991.19\n",
       "PS             939.97\n",
       "PS4            455.23\n",
       "PC             396.13\n",
       "GBA            387.47\n",
       "PSP            355.15"
      ]
     },
     "execution_count": 717,
     "metadata": {},
     "output_type": "execute_result"
    }
   ],
   "source": [
    "top_platform = data.pivot_table(index='platform',values='total_sales',aggfunc='sum').\\\n",
    "sort_values('total_sales', ascending=False).head(10)\n",
    "top_platform"
   ]
  },
  {
   "cell_type": "code",
   "execution_count": 718,
   "metadata": {},
   "outputs": [
    {
     "data": {
      "text/plain": [
       "['PS2', 'PS3', 'X360', 'Wii', 'DS', 'PS', 'PS4', 'PC', 'GBA', 'PSP']"
      ]
     },
     "execution_count": 718,
     "metadata": {},
     "output_type": "execute_result"
    }
   ],
   "source": [
    "list(top_platform.index)"
   ]
  },
  {
   "cell_type": "code",
   "execution_count": 719,
   "metadata": {},
   "outputs": [
    {
     "data": {
      "image/png": "[encoded data removed]",
      "text/plain": [
       "<Figure size 720x360 with 1 Axes>"
      ]
     },
     "metadata": {
      "needs_background": "light"
     },
     "output_type": "display_data"
    }
   ],
   "source": [
    "data.query('platform in list(@top_platform.index) and year_of_release>0').\\\n",
    "pivot_table(index='year_of_release',values='total_sales',columns='platform',aggfunc='sum').fillna(0).\\\n",
    "plot(grid=True, figsize=(10, 5), title='Продажи в разрезе платформ, по годам').\\\n",
    "set(xlabel='Год релиза', ylabel='Продажи');"
   ]
  },
  {
   "cell_type": "markdown",
   "metadata": {},
   "source": [
    "Проанализировав график,  можно сделать выводы:\n",
    "* Каждые 5-7 лет появляются новые платформы для игр.\n",
    "* Платформа \"живёт\" около 10 лет."
   ]
  },
  {
   "cell_type": "markdown",
   "metadata": {},
   "source": [
    "#### Какие платформы лидируют по продажам, растут или падают? Выберите несколько потенциально прибыльных платформ."
   ]
  },
  {
   "cell_type": "markdown",
   "metadata": {},
   "source": [
    "Для дальнейшего анализа возьмём актуальные данные. Исходя из того, что мы проанализировали ранее, будем рассматривать данные начиная с 2014 года."
   ]
  },
  {
   "cell_type": "code",
   "execution_count": 720,
   "metadata": {},
   "outputs": [],
   "source": [
    "data_actual = data.query('2014<=year_of_release<2016')\n",
    "#*данные за 2016 год не полные"
   ]
  },
  {
   "cell_type": "code",
   "execution_count": 721,
   "metadata": {},
   "outputs": [
    {
     "data": {
      "text/plain": [
       "(1187, 13)"
      ]
     },
     "execution_count": 721,
     "metadata": {},
     "output_type": "execute_result"
    }
   ],
   "source": [
    "data_actual.shape"
   ]
  },
  {
   "cell_type": "code",
   "execution_count": 722,
   "metadata": {},
   "outputs": [
    {
     "data": {
      "text/html": [
       "<div>\n",
       "<style scoped>\n",
       "    .dataframe tbody tr th:only-of-type {\n",
       "        vertical-align: middle;\n",
       "    }\n",
       "\n",
       "    .dataframe tbody tr th {\n",
       "        vertical-align: top;\n",
       "    }\n",
       "\n",
       "    .dataframe thead th {\n",
       "        text-align: right;\n",
       "    }\n",
       "</style>\n",
       "<table border=\"1\" class=\"dataframe\">\n",
       "  <thead>\n",
       "    <tr style=\"text-align: right;\">\n",
       "      <th></th>\n",
       "      <th>total_sales</th>\n",
       "    </tr>\n",
       "    <tr>\n",
       "      <th>platform</th>\n",
       "      <th></th>\n",
       "    </tr>\n",
       "  </thead>\n",
       "  <tbody>\n",
       "    <tr>\n",
       "      <th>PS4</th>\n",
       "      <td>317.16</td>\n",
       "    </tr>\n",
       "    <tr>\n",
       "      <th>XOne</th>\n",
       "      <td>150.83</td>\n",
       "    </tr>\n",
       "    <tr>\n",
       "      <th>PS3</th>\n",
       "      <td>88.86</td>\n",
       "    </tr>\n",
       "    <tr>\n",
       "      <th>3DS</th>\n",
       "      <td>85.33</td>\n",
       "    </tr>\n",
       "    <tr>\n",
       "      <th>X360</th>\n",
       "      <td>61.48</td>\n",
       "    </tr>\n",
       "    <tr>\n",
       "      <th>WiiU</th>\n",
       "      <td>50.05</td>\n",
       "    </tr>\n",
       "    <tr>\n",
       "      <th>PC</th>\n",
       "      <td>36.24</td>\n",
       "    </tr>\n",
       "    <tr>\n",
       "      <th>PSV</th>\n",
       "      <td>21.29</td>\n",
       "    </tr>\n",
       "    <tr>\n",
       "      <th>Wii</th>\n",
       "      <td>7.37</td>\n",
       "    </tr>\n",
       "    <tr>\n",
       "      <th>PSP</th>\n",
       "      <td>0.36</td>\n",
       "    </tr>\n",
       "  </tbody>\n",
       "</table>\n",
       "</div>"
      ],
      "text/plain": [
       "          total_sales\n",
       "platform             \n",
       "PS4            317.16\n",
       "XOne           150.83\n",
       "PS3             88.86\n",
       "3DS             85.33\n",
       "X360            61.48\n",
       "WiiU            50.05\n",
       "PC              36.24\n",
       "PSV             21.29\n",
       "Wii              7.37\n",
       "PSP              0.36"
      ]
     },
     "execution_count": 722,
     "metadata": {},
     "output_type": "execute_result"
    }
   ],
   "source": [
    "top_platform_actual = data_actual.pivot_table(index='platform',values='total_sales',aggfunc='sum').\\\n",
    "sort_values('total_sales', ascending=False).head(10)\n",
    "top_platform_actual"
   ]
  },
  {
   "cell_type": "code",
   "execution_count": 723,
   "metadata": {},
   "outputs": [
    {
     "data": {
      "image/png": "[encoded data removed]",
      "text/plain": [
       "<Figure size 720x360 with 1 Axes>"
      ]
     },
     "metadata": {
      "needs_background": "light"
     },
     "output_type": "display_data"
    }
   ],
   "source": [
    "data_actual.query('platform in list(@top_platform_actual.index)').\\\n",
    "pivot_table(index='year_of_release',values='total_sales',columns='platform',aggfunc='sum').fillna(0).\\\n",
    "plot(grid=True, figsize=(10, 5), title='Продажи в разрезе платформ, по годам').\\\n",
    "set(xlabel='Год релиза', ylabel='Продажи');"
   ]
  },
  {
   "cell_type": "markdown",
   "metadata": {},
   "source": [
    "Растущими, и наиболее перспективными являются две платформы: PS4 и XOne. Данные платформы пришли на смену своих предшественников PS3 и X360."
   ]
  },
  {
   "cell_type": "markdown",
   "metadata": {},
   "source": [
    "#### График «ящик с усами» по глобальным продажам игр в разбивке по платформам."
   ]
  },
  {
   "cell_type": "code",
   "execution_count": 724,
   "metadata": {},
   "outputs": [
    {
     "data": {
      "image/png": "[encoded data removed]",
      "text/plain": [
       "<Figure size 1080x576 with 1 Axes>"
      ]
     },
     "metadata": {
      "needs_background": "light"
     },
     "output_type": "display_data"
    }
   ],
   "source": [
    "plt.figure(figsize=(15, 8))\n",
    "plt.ylim(0, 4.5)\n",
    "sns.boxplot(data=data_actual, x='platform', y='total_sales').\\\n",
    "set(xlabel='Платформы', ylabel='Продажи', title='Продажи игр по платформам')\n",
    "plt.show()"
   ]
  },
  {
   "cell_type": "markdown",
   "metadata": {},
   "source": [
    "Видим, что у платформ PS4 и XOne более высокие медианные значения. Также близко находятся платформы Wii и X360."
   ]
  },
  {
   "cell_type": "markdown",
   "metadata": {},
   "source": [
    "#### Посмотрите, как влияют на продажи внутри одной популярной платформы отзывы пользователей и критиков. Постройте диаграмму рассеяния и посчитайте корреляцию между отзывами и продажами. Сформулируйте выводы."
   ]
  },
  {
   "cell_type": "markdown",
   "metadata": {},
   "source": [
    "Для анализа возьмём данные по двум самым популярным платформам за выбранный период (PS3, X360) и по двум набирающим популярность в рассматриваемый период платформам (PS4 и XOne)"
   ]
  },
  {
   "cell_type": "code",
   "execution_count": 725,
   "metadata": {},
   "outputs": [
    {
     "data": {
      "text/html": [
       "<div>\n",
       "<style scoped>\n",
       "    .dataframe tbody tr th:only-of-type {\n",
       "        vertical-align: middle;\n",
       "    }\n",
       "\n",
       "    .dataframe tbody tr th {\n",
       "        vertical-align: top;\n",
       "    }\n",
       "\n",
       "    .dataframe thead th {\n",
       "        text-align: right;\n",
       "    }\n",
       "</style>\n",
       "<table border=\"1\" class=\"dataframe\">\n",
       "  <thead>\n",
       "    <tr style=\"text-align: right;\">\n",
       "      <th></th>\n",
       "      <th>critic_score</th>\n",
       "      <th>user_score</th>\n",
       "      <th>total_sales</th>\n",
       "    </tr>\n",
       "  </thead>\n",
       "  <tbody>\n",
       "    <tr>\n",
       "      <th>critic_score</th>\n",
       "      <td>1.000000</td>\n",
       "      <td>0.602514</td>\n",
       "      <td>0.409803</td>\n",
       "    </tr>\n",
       "    <tr>\n",
       "      <th>user_score</th>\n",
       "      <td>0.602514</td>\n",
       "      <td>1.000000</td>\n",
       "      <td>-0.016003</td>\n",
       "    </tr>\n",
       "    <tr>\n",
       "      <th>total_sales</th>\n",
       "      <td>0.409803</td>\n",
       "      <td>-0.016003</td>\n",
       "      <td>1.000000</td>\n",
       "    </tr>\n",
       "  </tbody>\n",
       "</table>\n",
       "</div>"
      ],
      "text/plain": [
       "              critic_score  user_score  total_sales\n",
       "critic_score      1.000000    0.602514     0.409803\n",
       "user_score        0.602514    1.000000    -0.016003\n",
       "total_sales       0.409803   -0.016003     1.000000"
      ]
     },
     "execution_count": 725,
     "metadata": {},
     "output_type": "execute_result"
    }
   ],
   "source": [
    "data_actual.query('platform==\"PS4\" and user_score>=0 and critic_score>0')[['critic_score','user_score','total_sales']].corr()"
   ]
  },
  {
   "cell_type": "code",
   "execution_count": 726,
   "metadata": {},
   "outputs": [
    {
     "data": {
      "image/png": "[encoded data removed]",
      "text/plain": [
       "<Figure size 1080x360 with 2 Axes>"
      ]
     },
     "metadata": {
      "needs_background": "light"
     },
     "output_type": "display_data"
    }
   ],
   "source": [
    "fig, axes = plt.subplots(ncols=2, figsize=(15, 5))\n",
    "\n",
    "fig.suptitle('Продажи игр на платформе PS4')\n",
    "\n",
    "data_actual.query('platform==\"PS4\" and user_score>=0 and critic_score>0').\\\n",
    "plot(x='critic_score', y='total_sales', kind='scatter',grid=True, ax=axes[0]).\\\n",
    "set(xlabel='Оценка критиков', ylabel='Продажи')\n",
    "\n",
    "data_actual.query('platform==\"PS4\" and user_score>=0 and critic_score>0').\\\n",
    "plot(x='user_score', y='total_sales', kind='scatter',grid=True, ax=axes[1]).\\\n",
    "set(xlabel='Оценка пользователей', ylabel='Продажи')\n",
    "\n",
    "plt.show()"
   ]
  },
  {
   "cell_type": "code",
   "execution_count": 727,
   "metadata": {},
   "outputs": [
    {
     "data": {
      "text/html": [
       "<div>\n",
       "<style scoped>\n",
       "    .dataframe tbody tr th:only-of-type {\n",
       "        vertical-align: middle;\n",
       "    }\n",
       "\n",
       "    .dataframe tbody tr th {\n",
       "        vertical-align: top;\n",
       "    }\n",
       "\n",
       "    .dataframe thead th {\n",
       "        text-align: right;\n",
       "    }\n",
       "</style>\n",
       "<table border=\"1\" class=\"dataframe\">\n",
       "  <thead>\n",
       "    <tr style=\"text-align: right;\">\n",
       "      <th></th>\n",
       "      <th>critic_score</th>\n",
       "      <th>user_score</th>\n",
       "      <th>total_sales</th>\n",
       "    </tr>\n",
       "  </thead>\n",
       "  <tbody>\n",
       "    <tr>\n",
       "      <th>critic_score</th>\n",
       "      <td>1.000000</td>\n",
       "      <td>0.693445</td>\n",
       "      <td>0.406851</td>\n",
       "    </tr>\n",
       "    <tr>\n",
       "      <th>user_score</th>\n",
       "      <td>0.693445</td>\n",
       "      <td>1.000000</td>\n",
       "      <td>0.113568</td>\n",
       "    </tr>\n",
       "    <tr>\n",
       "      <th>total_sales</th>\n",
       "      <td>0.406851</td>\n",
       "      <td>0.113568</td>\n",
       "      <td>1.000000</td>\n",
       "    </tr>\n",
       "  </tbody>\n",
       "</table>\n",
       "</div>"
      ],
      "text/plain": [
       "              critic_score  user_score  total_sales\n",
       "critic_score      1.000000    0.693445     0.406851\n",
       "user_score        0.693445    1.000000     0.113568\n",
       "total_sales       0.406851    0.113568     1.000000"
      ]
     },
     "execution_count": 727,
     "metadata": {},
     "output_type": "execute_result"
    }
   ],
   "source": [
    "data_actual.query('platform==\"PS3\" and user_score>=0 and critic_score>0')[['critic_score','user_score','total_sales']].corr()"
   ]
  },
  {
   "cell_type": "code",
   "execution_count": 728,
   "metadata": {},
   "outputs": [
    {
     "data": {
      "image/png": "[encoded data removed]",
      "text/plain": [
       "<Figure size 1080x360 with 2 Axes>"
      ]
     },
     "metadata": {
      "needs_background": "light"
     },
     "output_type": "display_data"
    }
   ],
   "source": [
    "fig, axes = plt.subplots(ncols=2, figsize=(15, 5))\n",
    "\n",
    "fig.suptitle('Продажи игр на платформе PS3')\n",
    "\n",
    "data_actual.query('platform==\"PS3\" and user_score>=0 and critic_score>0 and total_sales<=5').\\\n",
    "plot(x='critic_score', y='total_sales', kind='scatter', grid=True, ax=axes[0]).\\\n",
    "set(xlabel='Оценка критиков', ylabel='Продажи')\n",
    "\n",
    "data_actual.query('platform==\"PS3\" and user_score>=0 and critic_score>0 and total_sales<=5').\\\n",
    "plot(x='user_score', y='total_sales', kind='scatter', grid=True, ax=axes[1]).\\\n",
    "set(xlabel='Оценка пользователей', ylabel='Продажи')\n",
    "\n",
    "plt.show()"
   ]
  },
  {
   "cell_type": "code",
   "execution_count": 729,
   "metadata": {},
   "outputs": [
    {
     "data": {
      "text/html": [
       "<div>\n",
       "<style scoped>\n",
       "    .dataframe tbody tr th:only-of-type {\n",
       "        vertical-align: middle;\n",
       "    }\n",
       "\n",
       "    .dataframe tbody tr th {\n",
       "        vertical-align: top;\n",
       "    }\n",
       "\n",
       "    .dataframe thead th {\n",
       "        text-align: right;\n",
       "    }\n",
       "</style>\n",
       "<table border=\"1\" class=\"dataframe\">\n",
       "  <thead>\n",
       "    <tr style=\"text-align: right;\">\n",
       "      <th></th>\n",
       "      <th>critic_score</th>\n",
       "      <th>user_score</th>\n",
       "      <th>total_sales</th>\n",
       "    </tr>\n",
       "  </thead>\n",
       "  <tbody>\n",
       "    <tr>\n",
       "      <th>critic_score</th>\n",
       "      <td>1.000000</td>\n",
       "      <td>0.625309</td>\n",
       "      <td>0.511123</td>\n",
       "    </tr>\n",
       "    <tr>\n",
       "      <th>user_score</th>\n",
       "      <td>0.625309</td>\n",
       "      <td>1.000000</td>\n",
       "      <td>0.334478</td>\n",
       "    </tr>\n",
       "    <tr>\n",
       "      <th>total_sales</th>\n",
       "      <td>0.511123</td>\n",
       "      <td>0.334478</td>\n",
       "      <td>1.000000</td>\n",
       "    </tr>\n",
       "  </tbody>\n",
       "</table>\n",
       "</div>"
      ],
      "text/plain": [
       "              critic_score  user_score  total_sales\n",
       "critic_score      1.000000    0.625309     0.511123\n",
       "user_score        0.625309    1.000000     0.334478\n",
       "total_sales       0.511123    0.334478     1.000000"
      ]
     },
     "execution_count": 729,
     "metadata": {},
     "output_type": "execute_result"
    }
   ],
   "source": [
    "data_actual.query('platform==\"X360\" and user_score>=0 and critic_score>0')[['critic_score','user_score','total_sales']].corr()"
   ]
  },
  {
   "cell_type": "code",
   "execution_count": 730,
   "metadata": {},
   "outputs": [
    {
     "data": {
      "image/png": "[encoded data removed]",
      "text/plain": [
       "<Figure size 1080x360 with 2 Axes>"
      ]
     },
     "metadata": {
      "needs_background": "light"
     },
     "output_type": "display_data"
    }
   ],
   "source": [
    "fig, axes = plt.subplots(ncols=2, figsize=(15, 5))\n",
    "\n",
    "fig.suptitle('Продажи игр на платформе X360')\n",
    "\n",
    "data_actual.query('platform==\"X360\" and user_score>=0 and critic_score>0  and total_sales<=5').\\\n",
    "plot(x='critic_score', y='total_sales', kind='scatter', grid=True, ax=axes[0]).\\\n",
    "set(xlabel='Оценка критиков', ylabel='Продажи')\n",
    "\n",
    "data_actual.query('platform==\"X360\" and user_score>=0 and critic_score>0  and total_sales<=5').\\\n",
    "plot(x='user_score', y='total_sales', kind='scatter', grid=True, ax=axes[1]).\\\n",
    "set(xlabel='Оценка пользователей', ylabel='Продажи')\n",
    "\n",
    "plt.show()"
   ]
  },
  {
   "cell_type": "code",
   "execution_count": 731,
   "metadata": {},
   "outputs": [
    {
     "data": {
      "text/html": [
       "<div>\n",
       "<style scoped>\n",
       "    .dataframe tbody tr th:only-of-type {\n",
       "        vertical-align: middle;\n",
       "    }\n",
       "\n",
       "    .dataframe tbody tr th {\n",
       "        vertical-align: top;\n",
       "    }\n",
       "\n",
       "    .dataframe thead th {\n",
       "        text-align: right;\n",
       "    }\n",
       "</style>\n",
       "<table border=\"1\" class=\"dataframe\">\n",
       "  <thead>\n",
       "    <tr style=\"text-align: right;\">\n",
       "      <th></th>\n",
       "      <th>critic_score</th>\n",
       "      <th>user_score</th>\n",
       "      <th>total_sales</th>\n",
       "    </tr>\n",
       "  </thead>\n",
       "  <tbody>\n",
       "    <tr>\n",
       "      <th>critic_score</th>\n",
       "      <td>1.000000</td>\n",
       "      <td>0.453434</td>\n",
       "      <td>0.468115</td>\n",
       "    </tr>\n",
       "    <tr>\n",
       "      <th>user_score</th>\n",
       "      <td>0.453434</td>\n",
       "      <td>1.000000</td>\n",
       "      <td>-0.059719</td>\n",
       "    </tr>\n",
       "    <tr>\n",
       "      <th>total_sales</th>\n",
       "      <td>0.468115</td>\n",
       "      <td>-0.059719</td>\n",
       "      <td>1.000000</td>\n",
       "    </tr>\n",
       "  </tbody>\n",
       "</table>\n",
       "</div>"
      ],
      "text/plain": [
       "              critic_score  user_score  total_sales\n",
       "critic_score      1.000000    0.453434     0.468115\n",
       "user_score        0.453434    1.000000    -0.059719\n",
       "total_sales       0.468115   -0.059719     1.000000"
      ]
     },
     "execution_count": 731,
     "metadata": {},
     "output_type": "execute_result"
    }
   ],
   "source": [
    "data_actual.query('platform==\"XOne\" and user_score>=0 and critic_score>0')[['critic_score','user_score','total_sales']].corr()"
   ]
  },
  {
   "cell_type": "code",
   "execution_count": 732,
   "metadata": {},
   "outputs": [
    {
     "data": {
      "image/png": "[encoded data removed]",
      "text/plain": [
       "<Figure size 1080x360 with 2 Axes>"
      ]
     },
     "metadata": {
      "needs_background": "light"
     },
     "output_type": "display_data"
    }
   ],
   "source": [
    "fig, axes = plt.subplots(ncols=2, figsize=(15, 5))\n",
    "\n",
    "fig.suptitle('Продажи игр на платформе XOne')\n",
    "\n",
    "data_actual.query('platform==\"XOne\" and user_score>=0 and critic_score>0').\\\n",
    "plot(x='critic_score', y='total_sales', kind='scatter',grid=True, ax=axes[0]).\\\n",
    "set(xlabel='Оценка критиков', ylabel='Продажи')\n",
    "\n",
    "data_actual.query('platform==\"XOne\" and user_score>=0 and critic_score>0').\\\n",
    "plot(x='user_score', y='total_sales', kind='scatter',grid=True, ax=axes[1]).\\\n",
    "set(xlabel='Оценка пользователей', ylabel='Продажи')\n",
    "\n",
    "plt.show()"
   ]
  },
  {
   "cell_type": "markdown",
   "metadata": {},
   "source": [
    "Исходя из полученных коэффициентов корреляции и диаграмм рассеивания приходим к следующим выводам:\n",
    "    \n",
    "* взаимосвязь между отзывами пользователей и продажами отсутствует для всех рассмотренных платформ;\n",
    "* взаимосвязь между отзывами критиков и продажами существует, она положительная,но не слишком большая (для каких-то платформ чуть больше, для каких-то чуть меньше, но не существенно);"
   ]
  },
  {
   "cell_type": "markdown",
   "metadata": {},
   "source": [
    "#### Посмотрите на общее распределение игр по жанрам. Что можно сказать о самых прибыльных жанрах? Выделяются ли жанры с высокими и низкими продажами?"
   ]
  },
  {
   "cell_type": "code",
   "execution_count": 733,
   "metadata": {},
   "outputs": [
    {
     "data": {
      "image/png": "[encoded data removed]",
      "text/plain": [
       "<Figure size 720x360 with 1 Axes>"
      ]
     },
     "metadata": {
      "needs_background": "light"
     },
     "output_type": "display_data"
    }
   ],
   "source": [
    "data_actual.pivot_table(index='genre',values='total_sales',aggfunc='sum').\\\n",
    "sort_values('total_sales', ascending=False).\\\n",
    "plot(grid=True, kind='bar', figsize=(10, 5), legend=False, title='Продажи по жанрам').\\\n",
    "set(xlabel='Жанр', ylabel='Продажи');"
   ]
  },
  {
   "cell_type": "code",
   "execution_count": 734,
   "metadata": {},
   "outputs": [
    {
     "data": {
      "image/png": "[encoded data removed]",
      "text/plain": [
       "<Figure size 1080x576 with 1 Axes>"
      ]
     },
     "metadata": {
      "needs_background": "light"
     },
     "output_type": "display_data"
    }
   ],
   "source": [
    "plt.figure(figsize=(15, 8))\n",
    "plt.ylim(0, 4.5)\n",
    "sns.boxplot(data=data_actual, x='genre', y='total_sales').\\\n",
    "set(xlabel=':Жанр', ylabel='Продажи', title='Продажи игр по жанрам')\n",
    "plt.show()"
   ]
  },
  {
   "cell_type": "markdown",
   "metadata": {},
   "source": [
    "Жанры с наибольшими общими продажами: Action (явный лидер), Shooter, Sports, Role-Playing.\n",
    "Жанры с наименьшими общими продажами: Puzzle, Strategy.\n",
    "\n",
    "Так же исходя из медианных показателей по продажам, видим, что наиболее привлекательный жанр игр это Shooter поскольку в этом жанре чаще всего игры приносят высокий доход.\n",
    "При этом в жанре Action есть несколько игр, за счёт которых общие продажи этого жанра максимальные.\n",
    "\n",
    "Чтобы говорить о прибыльности, нужно знать о затратах на производство и поддержку игр. В данном случае, мы можем говорить лишь о продажах и доходах."
   ]
  },
  {
   "cell_type": "markdown",
   "metadata": {},
   "source": [
    "### Портреты пользователей по регионам"
   ]
  },
  {
   "cell_type": "markdown",
   "metadata": {},
   "source": [
    "Определим для пользователей каждого региона (NA, EU, JP):\n",
    "\n",
    "* Самые популярные платформы (топ-5). Опишите различия в долях продаж.\n",
    "* Самые популярные жанры (топ-5). Поясните разницу.\n",
    "* Влияет ли рейтинг ESRB на продажи в отдельном регионе?"
   ]
  },
  {
   "cell_type": "markdown",
   "metadata": {},
   "source": [
    "#### Самые популярные платформы"
   ]
  },
  {
   "cell_type": "code",
   "execution_count": 735,
   "metadata": {},
   "outputs": [
    {
     "data": {
      "image/png": "[encoded data removed]",
      "text/plain": [
       "<Figure size 1224x360 with 3 Axes>"
      ]
     },
     "metadata": {
      "needs_background": "light"
     },
     "output_type": "display_data"
    }
   ],
   "source": [
    "fig, axes = plt.subplots(ncols=3, figsize=(17, 5))\n",
    "\n",
    "fig.suptitle('Продажи игр по платформам')\n",
    "\n",
    "data_actual.pivot_table(index='platform',values='na_sales',aggfunc='sum').\\\n",
    "sort_values('na_sales', ascending=False).\\\n",
    "plot(grid=True, kind='bar', legend=False, title='Северная Америка',ax=axes[0]).\\\n",
    "set(xlabel='Платформа', ylabel='Продажи')\n",
    "\n",
    "data_actual.pivot_table(index='platform',values='eu_sales',aggfunc='sum').\\\n",
    "sort_values('eu_sales', ascending=False).\\\n",
    "plot(grid=True, kind='bar', legend=False, title='Европа',ax=axes[1]).\\\n",
    "set(xlabel='Платформа', ylabel='Продажи')\n",
    "\n",
    "data_actual.pivot_table(index='platform',values='jp_sales',aggfunc='sum').\\\n",
    "sort_values('jp_sales', ascending=False).\\\n",
    "plot(grid=True, kind='bar', legend=False, title='Япония',ax=axes[2]).\\\n",
    "set(xlabel='Платформа', ylabel='Продажи')\n",
    "\n",
    "plt.show()"
   ]
  },
  {
   "cell_type": "markdown",
   "metadata": {},
   "source": [
    "Видим, что в разных регионах, разное распределение продаж по платформам.\n",
    "\n",
    "* В Северной Америке два лидера среди платформ это `PS4` и `XOne`\n",
    "* В Европе явным лидером среди платформ является `PS4`\n",
    "* В Японии явным лидером является платформа `3DS`"
   ]
  },
  {
   "cell_type": "markdown",
   "metadata": {},
   "source": [
    "#### Самые популярные жанры"
   ]
  },
  {
   "cell_type": "code",
   "execution_count": 736,
   "metadata": {},
   "outputs": [
    {
     "data": {
      "image/png": "[encoded data removed]",
      "text/plain": [
       "<Figure size 1224x360 with 3 Axes>"
      ]
     },
     "metadata": {
      "needs_background": "light"
     },
     "output_type": "display_data"
    }
   ],
   "source": [
    "fig, axes = plt.subplots(ncols=3, figsize=(17, 5))\n",
    "\n",
    "fig.suptitle('Продажи игр по жанрам')\n",
    "\n",
    "data_actual.pivot_table(index='genre',values='na_sales',aggfunc='sum').\\\n",
    "sort_values('na_sales', ascending=False).\\\n",
    "plot(grid=True, kind='bar', legend=False, title='Северная Америка',ax=axes[0]).\\\n",
    "set(xlabel='Жанры', ylabel='Продажи')\n",
    "\n",
    "data_actual.pivot_table(index='genre',values='eu_sales',aggfunc='sum').\\\n",
    "sort_values('eu_sales', ascending=False).\\\n",
    "plot(grid=True, kind='bar', legend=False, title='Европа',ax=axes[1]).\\\n",
    "set(xlabel='Жанры', ylabel='Продажи')\n",
    "\n",
    "data_actual.pivot_table(index='genre',values='jp_sales',aggfunc='sum').\\\n",
    "sort_values('jp_sales', ascending=False).\\\n",
    "plot(grid=True, kind='bar', legend=False, title='Япония',ax=axes[2]).\\\n",
    "set(xlabel='Жанры', ylabel='Продажи')\n",
    "\n",
    "plt.show()"
   ]
  },
  {
   "cell_type": "markdown",
   "metadata": {},
   "source": [
    "Видим, что в Северной Америке и в Европе схожие предпочтения по жанрам, в отличии от Японии.\n",
    "\n",
    "* В Северной Америке и в Европе явный лидер среди жанров это `Action`\n",
    "* В Японии явным лидером является жанр `Role-Playing`"
   ]
  },
  {
   "cell_type": "markdown",
   "metadata": {},
   "source": [
    "#### Влияние рейтинга ESRB на продажи по регионам"
   ]
  },
  {
   "cell_type": "code",
   "execution_count": 737,
   "metadata": {},
   "outputs": [
    {
     "data": {
      "image/png": "[encoded data removed]",
      "text/plain": [
       "<Figure size 1224x360 with 3 Axes>"
      ]
     },
     "metadata": {
      "needs_background": "light"
     },
     "output_type": "display_data"
    }
   ],
   "source": [
    "fig, axes = plt.subplots(ncols=3, figsize=(17, 5))\n",
    "\n",
    "fig.suptitle('Продажи игр в разрезе рейтинга ESRB')\n",
    "\n",
    "data_actual.pivot_table(index='rating',values='na_sales',aggfunc='sum').\\\n",
    "sort_values('na_sales', ascending=False).\\\n",
    "plot(grid=True, kind='bar', legend=False, title='Северная Америка',ax=axes[0]).\\\n",
    "set(xlabel='Рейтинг', ylabel='Продажи')\n",
    "\n",
    "data_actual.pivot_table(index='rating',values='eu_sales',aggfunc='sum').\\\n",
    "sort_values('eu_sales', ascending=False).\\\n",
    "plot(grid=True, kind='bar', legend=False, title='Европа',ax=axes[1]).\\\n",
    "set(xlabel='Рейтинг', ylabel='Продажи')\n",
    "\n",
    "data_actual.pivot_table(index='rating',values='jp_sales',aggfunc='sum').\\\n",
    "sort_values('jp_sales', ascending=False).\\\n",
    "plot(grid=True, kind='bar', legend=False, title='Япония',ax=axes[2]).\\\n",
    "set(xlabel='Рейтинг', ylabel='Продажи')\n",
    "\n",
    "plt.show()"
   ]
  },
  {
   "cell_type": "markdown",
   "metadata": {},
   "source": [
    "Видим, что по аналогии с игровыми жанрами, в Северной Америке и в Европе схожие распределения продаж в зависимости от возрастного реутинга, в отличии от Японии.\n",
    "\n",
    "* В Северной Америке и в Европе явный лидером является группа `M`, на втором месте игры без рейтинга.\n",
    "* В Японии лидером является группа `T`, но при этом больше всего игр остались без рейтинга."
   ]
  },
  {
   "cell_type": "markdown",
   "metadata": {},
   "source": [
    "### Проверка гипотез"
   ]
  },
  {
   "cell_type": "markdown",
   "metadata": {},
   "source": [
    "#### Средние пользовательские рейтинги платформ Xbox One и PC одинаковые"
   ]
  },
  {
   "cell_type": "markdown",
   "metadata": {},
   "source": [
    "Воспользуемся специальным методом для проверки гипотезы о равенстве среднего двух генеральных совокупностей по взятым из них выборкам."
   ]
  },
  {
   "cell_type": "markdown",
   "metadata": {},
   "source": [
    "```\n",
    "H_0: Средние пользовательские рейтинги (user_score) игр на платформе \"Xbox One\" и на \"PC\" равны.\n",
    "H_1: Средние пользовательские рейтинги (user_score) игр на платформе \"Xbox One\" и на \"PC\" не равны.\n",
    "    \n",
    "alpha = 0.05\n",
    "```"
   ]
  },
  {
   "cell_type": "code",
   "execution_count": 738,
   "metadata": {},
   "outputs": [],
   "source": [
    "xbox_user_rating = data_actual[(data_actual['platform'] =='XOne') & (data_actual['user_score']>=0.0)]['user_score']\n",
    "pc_user_rating = data_actual[(data_actual['platform'] =='PC') & (data_actual['user_score']>=0.0)]['user_score']"
   ]
  },
  {
   "cell_type": "code",
   "execution_count": 739,
   "metadata": {},
   "outputs": [
    {
     "name": "stdout",
     "output_type": "stream",
     "text": [
      "6.5919194 6.2987013\n"
     ]
    }
   ],
   "source": [
    "print(xbox_user_rating.mean(), pc_user_rating.mean())"
   ]
  },
  {
   "cell_type": "code",
   "execution_count": 740,
   "metadata": {},
   "outputs": [
    {
     "name": "stdout",
     "output_type": "stream",
     "text": [
      "0.20641464237821372\n",
      "Не получилось отвергнуть нулевую гипотезу\n"
     ]
    }
   ],
   "source": [
    "# results = вызов метода для проверки гипотезы\n",
    "results = st.ttest_ind(xbox_user_rating, pc_user_rating, equal_var=False)\n",
    "# alpha = задайте значение уровня значимости\n",
    "alpha = 0.05\n",
    "# вывод значения p-value на экран\n",
    "print(results.pvalue)\n",
    "# условный оператор с выводом строки с ответом\n",
    "if results.pvalue < alpha:\n",
    "    print('Отвергаем нулевую гипотезу')\n",
    "else:\n",
    "    print('Не получилось отвергнуть нулевую гипотезу') "
   ]
  },
  {
   "cell_type": "markdown",
   "metadata": {},
   "source": [
    "Мы видим большое значение p-value, что говорит о том, что наша гипотеза о том, что средние пользовательские рейтинги платформ Xbox One и PC одинаковые подтвердилась."
   ]
  },
  {
   "cell_type": "markdown",
   "metadata": {},
   "source": [
    "#### Средние пользовательские рейтинги жанров Action (англ. «действие», экшен-игры) и Sports (англ. «спортивные соревнования») разные"
   ]
  },
  {
   "cell_type": "markdown",
   "metadata": {},
   "source": [
    "```\n",
    "H_0: Средние пользовательские рейтинги (user_score)  жанров \"Action\" и \"Sports\" равны.\n",
    "H_1: Средние пользовательские рейтинги (user_score)  жанров \"Action\" и \"Sports\" не равны.\n",
    "    \n",
    "alpha = 0.05\n",
    "```"
   ]
  },
  {
   "cell_type": "code",
   "execution_count": 741,
   "metadata": {},
   "outputs": [],
   "source": [
    "action_user_rating = data_actual[(data_actual['genre'] =='Action') & (data_actual['user_score']>=0.0)]['user_score']\n",
    "sports_user_rating = data_actual[(data_actual['genre'] =='Sports') & (data_actual['user_score']>=0.0)]['user_score']"
   ]
  },
  {
   "cell_type": "code",
   "execution_count": 742,
   "metadata": {},
   "outputs": [
    {
     "name": "stdout",
     "output_type": "stream",
     "text": [
      "6.8094335 5.14\n"
     ]
    }
   ],
   "source": [
    "print(action_user_rating.mean(), sports_user_rating.mean())"
   ]
  },
  {
   "cell_type": "code",
   "execution_count": 743,
   "metadata": {},
   "outputs": [
    {
     "name": "stdout",
     "output_type": "stream",
     "text": [
      "5.639224861385725e-13\n",
      "Отвергаем нулевую гипотезу\n"
     ]
    }
   ],
   "source": [
    "# results = вызов метода для проверки гипотезы\n",
    "results = st.ttest_ind(action_user_rating, sports_user_rating, equal_var=False)\n",
    "# alpha = задайте значение уровня значимости\n",
    "alpha = 0.05\n",
    "# вывод значения p-value на экран\n",
    "print(results.pvalue)\n",
    "# условный оператор с выводом строки с ответом\n",
    "if results.pvalue < alpha:\n",
    "    print('Отвергаем нулевую гипотезу')\n",
    "else:\n",
    "    print('Не получилось отвергнуть нулевую гипотезу')"
   ]
  },
  {
   "cell_type": "markdown",
   "metadata": {},
   "source": [
    "Мы видим очень маленькое значение p-value, что говорит о том, что наша гипотеза о том, что средние пользовательские рейтинги платформ Xbox One и PC одинаковые не подтвердилась."
   ]
  },
  {
   "cell_type": "markdown",
   "metadata": {},
   "source": [
    "### Общий Вывод"
   ]
  },
  {
   "cell_type": "markdown",
   "metadata": {},
   "source": [
    "Изучив исторические данные о продажах игр, мы пришли к следующим выводам:\n",
    "\n",
    "* Продажи игр начали активно расти с начала 90-х годов. Насыщение рынка наступило в 2007 году, и затем началось снижение продаж.\n",
    "\n",
    "* Примерно каждые 5-7 лет появляются новые платформы для игр, и новая латформа \"живёт\" около 10 лет.\n",
    "\n",
    "* На 2016 год растущими, и наиболее перспективными являются две платформы: PS4 и XOne. Данные платформы пришли на смену своих предшественников PS3 и X360.\n",
    "* Отсутствует взаимосвязь между отзывами пользователей и продажами. С другой стороны, взаимосвязь между отзывами критиков и продажами существует, она положительная, но не слишком большая (для каких-то платформ чуть больше, для каких-то чуть меньше, но не существенно).\n",
    "* Жанры с наибольшими общими продажами: Action (явный лидер), Shooter, Sports, Role-Playing. Жанры с наименьшими продажами: Puzzle, Strategy.\n",
    "* Исходя из медианных показателей по продажам, выяснили, что наиболее привлекательный с точки зрения бизнеса жанр игр это Shooter поскольку в этом жанре чаще всего игры приносят высокий доход. При этом в жанре Action есть несколько игр, за счёт которых общие продажи этого жанра максимальные.\n",
    "\n",
    "* В разных регионах, разное распределение продаж по платформам:\n",
    "\n",
    "  * в Северной Америке явный лидер среди платформ это `PS4`\n",
    "  * в Европе явным лидером среди платформ является `PS4`\n",
    "  * в Японии явным лидером является платформа `3DS`\n",
    "\n",
    "* В Северной Америке и в Европе схожие предпочтения по жанрам, в отличии от Японии:\n",
    "\n",
    "  * в Северной Америке и в Европе лидер среди жанров это `Action` на втором месте `Shooter`\n",
    "  * в Японии явным лидером является жанр `Role-Playing`, а затем уже `Action`\n",
    "\n",
    "* По аналогии с игровыми жанрами, в Северной Америке и в Европе схожие распределения продаж в зависимости от возрастного рейтинга, в отличии от Японии.\n",
    "\n",
    "  * В Северной Америке и в Европе явный лидером является группа `M`, на втором месте игры без рейтинга\n",
    "  * В Японии лидером является группа `T`, но при этом больше всего игр остались без рейтинга.\n",
    "\n",
    "Обе сформулированные гипотезы подтвердились:\n",
    "\n",
    "* Средние пользовательские рейтинги платформ Xbox One и PC одинаковые.\n",
    "* Средние пользовательские рейтинги жанров Action и Sports разные."
   ]
  }
 ],
 "metadata": {
  "ExecuteTimeLog": [
   {
    "duration": 386,
    "start_time": "2023-02-13T10:27:56.556Z"
   },
   {
    "duration": 183,
    "start_time": "2023-02-13T10:28:25.436Z"
   },
   {
    "duration": 32,
    "start_time": "2023-02-13T10:28:33.564Z"
   },
   {
    "duration": 185,
    "start_time": "2023-02-13T10:30:18.216Z"
   },
   {
    "duration": 6,
    "start_time": "2023-02-13T10:30:20.280Z"
   },
   {
    "duration": 130,
    "start_time": "2023-02-13T10:30:27.099Z"
   },
   {
    "duration": 15,
    "start_time": "2023-02-13T10:30:29.327Z"
   },
   {
    "duration": 52,
    "start_time": "2023-02-13T10:30:41.603Z"
   },
   {
    "duration": 19,
    "start_time": "2023-02-13T10:30:43.553Z"
   },
   {
    "duration": 5,
    "start_time": "2023-02-13T10:31:44.624Z"
   },
   {
    "duration": 3,
    "start_time": "2023-02-13T10:33:34.652Z"
   },
   {
    "duration": 23,
    "start_time": "2023-02-13T10:33:42.127Z"
   },
   {
    "duration": 5,
    "start_time": "2023-02-13T10:34:06.099Z"
   },
   {
    "duration": 72,
    "start_time": "2023-02-13T10:34:35.822Z"
   },
   {
    "duration": 4,
    "start_time": "2023-02-13T10:34:41.222Z"
   },
   {
    "duration": 4,
    "start_time": "2023-02-13T10:38:14.643Z"
   },
   {
    "duration": 16,
    "start_time": "2023-02-13T10:38:16.617Z"
   },
   {
    "duration": 20,
    "start_time": "2023-02-13T10:38:40.947Z"
   },
   {
    "duration": 9,
    "start_time": "2023-02-13T10:42:23.246Z"
   },
   {
    "duration": 10,
    "start_time": "2023-02-13T10:42:52.726Z"
   },
   {
    "duration": 9,
    "start_time": "2023-02-13T10:43:39.347Z"
   },
   {
    "duration": 8,
    "start_time": "2023-02-13T10:43:56.382Z"
   },
   {
    "duration": 7,
    "start_time": "2023-02-13T10:45:14.641Z"
   },
   {
    "duration": 7,
    "start_time": "2023-02-13T10:45:46.982Z"
   },
   {
    "duration": 33,
    "start_time": "2023-02-13T10:58:16.908Z"
   },
   {
    "duration": 23,
    "start_time": "2023-02-13T10:59:38.494Z"
   },
   {
    "duration": 19,
    "start_time": "2023-02-13T10:59:56.832Z"
   },
   {
    "duration": 8,
    "start_time": "2023-02-13T11:03:11.862Z"
   },
   {
    "duration": 21,
    "start_time": "2023-02-13T11:03:31.987Z"
   },
   {
    "duration": 12,
    "start_time": "2023-02-13T11:04:19.932Z"
   },
   {
    "duration": 8,
    "start_time": "2023-02-13T11:04:33.681Z"
   },
   {
    "duration": 23,
    "start_time": "2023-02-13T11:05:03.011Z"
   },
   {
    "duration": 6,
    "start_time": "2023-02-13T11:06:40.786Z"
   },
   {
    "duration": 6,
    "start_time": "2023-02-13T11:07:03.306Z"
   },
   {
    "duration": 5,
    "start_time": "2023-02-13T11:07:26.677Z"
   },
   {
    "duration": 6,
    "start_time": "2023-02-13T11:07:35.738Z"
   },
   {
    "duration": 70,
    "start_time": "2023-02-13T11:11:08.271Z"
   },
   {
    "duration": 17,
    "start_time": "2023-02-13T11:17:47.836Z"
   },
   {
    "duration": 9,
    "start_time": "2023-02-13T11:20:02.534Z"
   },
   {
    "duration": 8,
    "start_time": "2023-02-13T11:20:25.529Z"
   },
   {
    "duration": 9,
    "start_time": "2023-02-13T11:20:38.595Z"
   },
   {
    "duration": 7,
    "start_time": "2023-02-13T11:22:06.319Z"
   },
   {
    "duration": 18,
    "start_time": "2023-02-13T11:23:23.419Z"
   },
   {
    "duration": 9,
    "start_time": "2023-02-13T11:23:50.658Z"
   },
   {
    "duration": 21,
    "start_time": "2023-02-13T11:25:31.667Z"
   },
   {
    "duration": 3,
    "start_time": "2023-02-14T05:50:58.098Z"
   },
   {
    "duration": 201,
    "start_time": "2023-02-14T05:50:58.104Z"
   },
   {
    "duration": 14,
    "start_time": "2023-02-14T05:50:58.307Z"
   },
   {
    "duration": 4,
    "start_time": "2023-02-14T05:50:58.323Z"
   },
   {
    "duration": 15,
    "start_time": "2023-02-14T05:50:58.329Z"
   },
   {
    "duration": 25,
    "start_time": "2023-02-14T05:50:58.345Z"
   },
   {
    "duration": 14,
    "start_time": "2023-02-14T05:50:58.372Z"
   },
   {
    "duration": 6,
    "start_time": "2023-02-14T05:50:58.388Z"
   },
   {
    "duration": 19,
    "start_time": "2023-02-14T05:50:58.396Z"
   },
   {
    "duration": 7,
    "start_time": "2023-02-14T05:50:58.417Z"
   },
   {
    "duration": 6,
    "start_time": "2023-02-14T05:50:58.427Z"
   },
   {
    "duration": 9,
    "start_time": "2023-02-14T05:50:58.448Z"
   },
   {
    "duration": 16,
    "start_time": "2023-02-14T05:50:58.458Z"
   },
   {
    "duration": 8,
    "start_time": "2023-02-14T05:50:58.475Z"
   },
   {
    "duration": 20,
    "start_time": "2023-02-14T05:50:58.484Z"
   },
   {
    "duration": 2,
    "start_time": "2023-02-14T05:50:58.506Z"
   },
   {
    "duration": 6,
    "start_time": "2023-02-14T05:52:50.859Z"
   },
   {
    "duration": 5,
    "start_time": "2023-02-14T05:54:04.009Z"
   },
   {
    "duration": 4,
    "start_time": "2023-02-14T05:54:11.441Z"
   },
   {
    "duration": 19,
    "start_time": "2023-02-14T05:55:04.619Z"
   },
   {
    "duration": 13,
    "start_time": "2023-02-14T05:56:07.375Z"
   },
   {
    "duration": 8,
    "start_time": "2023-02-14T05:56:18.977Z"
   },
   {
    "duration": 11,
    "start_time": "2023-02-14T05:56:52.247Z"
   },
   {
    "duration": 10,
    "start_time": "2023-02-14T05:59:47.772Z"
   },
   {
    "duration": 14,
    "start_time": "2023-02-14T06:03:06.505Z"
   },
   {
    "duration": 8,
    "start_time": "2023-02-14T06:05:49.468Z"
   },
   {
    "duration": 41,
    "start_time": "2023-02-14T06:06:15.767Z"
   },
   {
    "duration": 27,
    "start_time": "2023-02-14T06:14:25.252Z"
   },
   {
    "duration": 21,
    "start_time": "2023-02-14T06:15:47.338Z"
   },
   {
    "duration": 5,
    "start_time": "2023-02-14T06:19:39.371Z"
   },
   {
    "duration": 10,
    "start_time": "2023-02-14T06:20:05.527Z"
   },
   {
    "duration": 3,
    "start_time": "2023-02-14T06:20:54.511Z"
   },
   {
    "duration": 10,
    "start_time": "2023-02-14T06:21:02.854Z"
   },
   {
    "duration": 14,
    "start_time": "2023-02-14T06:22:25.859Z"
   },
   {
    "duration": 14,
    "start_time": "2023-02-14T06:23:41.429Z"
   },
   {
    "duration": 5,
    "start_time": "2023-02-14T06:28:33.670Z"
   },
   {
    "duration": 3,
    "start_time": "2023-02-14T06:29:20.126Z"
   },
   {
    "duration": 5,
    "start_time": "2023-02-14T06:29:43.912Z"
   },
   {
    "duration": 4,
    "start_time": "2023-02-14T06:31:04.801Z"
   },
   {
    "duration": 7,
    "start_time": "2023-02-14T06:31:56.686Z"
   },
   {
    "duration": 8,
    "start_time": "2023-02-14T06:32:12.042Z"
   },
   {
    "duration": 7,
    "start_time": "2023-02-14T06:34:53.849Z"
   },
   {
    "duration": 5,
    "start_time": "2023-02-14T06:34:57.960Z"
   },
   {
    "duration": 10,
    "start_time": "2023-02-14T06:35:20.759Z"
   },
   {
    "duration": 5,
    "start_time": "2023-02-14T06:35:52.706Z"
   },
   {
    "duration": 9,
    "start_time": "2023-02-14T06:36:50.378Z"
   },
   {
    "duration": 15,
    "start_time": "2023-02-14T06:36:53.014Z"
   },
   {
    "duration": 6,
    "start_time": "2023-02-14T06:37:20.929Z"
   },
   {
    "duration": 8,
    "start_time": "2023-02-14T06:37:28.453Z"
   },
   {
    "duration": 9,
    "start_time": "2023-02-14T06:37:44.624Z"
   },
   {
    "duration": 11,
    "start_time": "2023-02-14T07:52:36.407Z"
   },
   {
    "duration": 5,
    "start_time": "2023-02-14T07:55:29.108Z"
   },
   {
    "duration": 12,
    "start_time": "2023-02-14T07:55:46.233Z"
   },
   {
    "duration": 6,
    "start_time": "2023-02-14T07:56:49.934Z"
   },
   {
    "duration": 51,
    "start_time": "2023-02-14T07:57:14.768Z"
   },
   {
    "duration": 2,
    "start_time": "2023-02-14T07:57:31.822Z"
   },
   {
    "duration": 57,
    "start_time": "2023-02-14T07:57:31.826Z"
   },
   {
    "duration": 16,
    "start_time": "2023-02-14T07:57:31.886Z"
   },
   {
    "duration": 6,
    "start_time": "2023-02-14T07:57:31.903Z"
   },
   {
    "duration": 21,
    "start_time": "2023-02-14T07:57:31.911Z"
   },
   {
    "duration": 17,
    "start_time": "2023-02-14T07:57:31.934Z"
   },
   {
    "duration": 12,
    "start_time": "2023-02-14T07:57:31.952Z"
   },
   {
    "duration": 13,
    "start_time": "2023-02-14T07:57:31.966Z"
   },
   {
    "duration": 6,
    "start_time": "2023-02-14T07:57:31.980Z"
   },
   {
    "duration": 4,
    "start_time": "2023-02-14T07:57:31.987Z"
   },
   {
    "duration": 6,
    "start_time": "2023-02-14T07:57:31.994Z"
   },
   {
    "duration": 53,
    "start_time": "2023-02-14T07:57:32.002Z"
   },
   {
    "duration": 7,
    "start_time": "2023-02-14T07:57:32.058Z"
   },
   {
    "duration": 5,
    "start_time": "2023-02-14T07:57:32.067Z"
   },
   {
    "duration": 10,
    "start_time": "2023-02-14T07:57:32.073Z"
   },
   {
    "duration": 7,
    "start_time": "2023-02-14T07:57:32.084Z"
   },
   {
    "duration": 8,
    "start_time": "2023-02-14T07:57:32.092Z"
   },
   {
    "duration": 6,
    "start_time": "2023-02-14T07:57:32.101Z"
   },
   {
    "duration": 7,
    "start_time": "2023-02-14T07:57:32.108Z"
   },
   {
    "duration": 35,
    "start_time": "2023-02-14T07:57:32.116Z"
   },
   {
    "duration": 9,
    "start_time": "2023-02-14T07:57:32.153Z"
   },
   {
    "duration": 26,
    "start_time": "2023-02-14T07:57:32.164Z"
   },
   {
    "duration": 6,
    "start_time": "2023-02-14T07:57:32.191Z"
   },
   {
    "duration": 8,
    "start_time": "2023-02-14T07:57:32.198Z"
   },
   {
    "duration": 7,
    "start_time": "2023-02-14T07:57:32.207Z"
   },
   {
    "duration": 36,
    "start_time": "2023-02-14T07:57:32.216Z"
   },
   {
    "duration": 7,
    "start_time": "2023-02-14T07:57:32.254Z"
   },
   {
    "duration": 17,
    "start_time": "2023-02-14T07:57:32.263Z"
   },
   {
    "duration": 11,
    "start_time": "2023-02-14T07:57:32.282Z"
   },
   {
    "duration": 6,
    "start_time": "2023-02-14T07:57:41.117Z"
   },
   {
    "duration": 13,
    "start_time": "2023-02-14T07:57:44.430Z"
   },
   {
    "duration": 352,
    "start_time": "2023-02-14T08:00:51.331Z"
   },
   {
    "duration": 47,
    "start_time": "2023-02-14T08:06:30.250Z"
   },
   {
    "duration": 787,
    "start_time": "2023-02-14T08:07:30.842Z"
   },
   {
    "duration": 722,
    "start_time": "2023-02-14T08:07:52.021Z"
   },
   {
    "duration": 761,
    "start_time": "2023-02-14T08:08:20.001Z"
   },
   {
    "duration": 6,
    "start_time": "2023-02-14T08:08:28.083Z"
   },
   {
    "duration": 10,
    "start_time": "2023-02-14T08:08:43.165Z"
   },
   {
    "duration": 9,
    "start_time": "2023-02-14T08:08:52.471Z"
   },
   {
    "duration": 10,
    "start_time": "2023-02-14T08:08:58.361Z"
   },
   {
    "duration": 11,
    "start_time": "2023-02-14T08:09:26.567Z"
   },
   {
    "duration": 9,
    "start_time": "2023-02-14T08:10:01.314Z"
   },
   {
    "duration": 25,
    "start_time": "2023-02-14T08:10:14.278Z"
   },
   {
    "duration": 778,
    "start_time": "2023-02-14T08:10:36.417Z"
   },
   {
    "duration": 984,
    "start_time": "2023-02-14T08:10:46.027Z"
   },
   {
    "duration": 27,
    "start_time": "2023-02-14T08:10:54.188Z"
   },
   {
    "duration": 16,
    "start_time": "2023-02-14T08:11:13.980Z"
   },
   {
    "duration": 14,
    "start_time": "2023-02-14T08:13:10.306Z"
   },
   {
    "duration": 152,
    "start_time": "2023-02-14T08:13:45.781Z"
   },
   {
    "duration": 164,
    "start_time": "2023-02-14T08:14:53.173Z"
   },
   {
    "duration": 209,
    "start_time": "2023-02-14T08:15:41.715Z"
   },
   {
    "duration": 152,
    "start_time": "2023-02-14T08:16:12.149Z"
   },
   {
    "duration": 159,
    "start_time": "2023-02-14T08:16:18.411Z"
   },
   {
    "duration": 124,
    "start_time": "2023-02-14T08:16:56.864Z"
   },
   {
    "duration": 130,
    "start_time": "2023-02-14T08:17:18.178Z"
   },
   {
    "duration": 150,
    "start_time": "2023-02-14T08:17:41.802Z"
   },
   {
    "duration": 137,
    "start_time": "2023-02-14T08:23:46.013Z"
   },
   {
    "duration": 3,
    "start_time": "2023-02-14T08:27:18.432Z"
   },
   {
    "duration": 130,
    "start_time": "2023-02-14T08:35:49.746Z"
   },
   {
    "duration": 139,
    "start_time": "2023-02-14T08:36:08.562Z"
   },
   {
    "duration": 20,
    "start_time": "2023-02-14T08:36:50.495Z"
   },
   {
    "duration": 280,
    "start_time": "2023-02-14T08:38:52.769Z"
   },
   {
    "duration": 323,
    "start_time": "2023-02-14T08:39:51.143Z"
   },
   {
    "duration": 266,
    "start_time": "2023-02-14T08:40:26.959Z"
   },
   {
    "duration": 267,
    "start_time": "2023-02-14T08:40:40.146Z"
   },
   {
    "duration": 266,
    "start_time": "2023-02-14T08:42:03.019Z"
   },
   {
    "duration": 268,
    "start_time": "2023-02-14T08:42:12.755Z"
   },
   {
    "duration": 255,
    "start_time": "2023-02-14T08:42:42.315Z"
   },
   {
    "duration": 321,
    "start_time": "2023-02-14T08:42:57.035Z"
   },
   {
    "duration": 13,
    "start_time": "2023-02-14T08:45:07.339Z"
   },
   {
    "duration": 13,
    "start_time": "2023-02-14T08:45:34.657Z"
   },
   {
    "duration": 14,
    "start_time": "2023-02-14T08:49:39.135Z"
   },
   {
    "duration": 3,
    "start_time": "2023-02-14T08:49:50.342Z"
   },
   {
    "duration": 4,
    "start_time": "2023-02-14T08:50:02.239Z"
   },
   {
    "duration": 32,
    "start_time": "2023-02-14T08:52:21.372Z"
   },
   {
    "duration": 18,
    "start_time": "2023-02-14T08:52:46.936Z"
   },
   {
    "duration": 22,
    "start_time": "2023-02-14T08:53:43.964Z"
   },
   {
    "duration": 33,
    "start_time": "2023-02-14T08:54:10.265Z"
   },
   {
    "duration": 234,
    "start_time": "2023-02-14T08:54:28.893Z"
   },
   {
    "duration": 207,
    "start_time": "2023-02-14T08:55:08.158Z"
   },
   {
    "duration": 32,
    "start_time": "2023-02-14T08:57:28.353Z"
   },
   {
    "duration": 34,
    "start_time": "2023-02-14T08:57:53.676Z"
   },
   {
    "duration": 473,
    "start_time": "2023-02-14T08:59:27.690Z"
   },
   {
    "duration": 161,
    "start_time": "2023-02-14T08:59:40.242Z"
   },
   {
    "duration": 230,
    "start_time": "2023-02-14T09:00:14.095Z"
   },
   {
    "duration": 346,
    "start_time": "2023-02-14T09:04:12.223Z"
   },
   {
    "duration": 234,
    "start_time": "2023-02-14T09:04:31.130Z"
   },
   {
    "duration": 228,
    "start_time": "2023-02-14T09:05:23.667Z"
   },
   {
    "duration": 3,
    "start_time": "2023-02-14T09:44:14.529Z"
   },
   {
    "duration": 6,
    "start_time": "2023-02-14T09:50:03.698Z"
   },
   {
    "duration": 13,
    "start_time": "2023-02-14T09:50:10.052Z"
   },
   {
    "duration": 4,
    "start_time": "2023-02-14T09:50:21.499Z"
   },
   {
    "duration": 15,
    "start_time": "2023-02-14T09:51:28.788Z"
   },
   {
    "duration": 246,
    "start_time": "2023-02-14T09:53:14.256Z"
   },
   {
    "duration": 22,
    "start_time": "2023-02-14T10:04:26.383Z"
   },
   {
    "duration": 120,
    "start_time": "2023-02-14T10:08:48.198Z"
   },
   {
    "duration": 147,
    "start_time": "2023-02-14T10:09:15.245Z"
   },
   {
    "duration": 100,
    "start_time": "2023-02-14T10:09:28.307Z"
   },
   {
    "duration": 102,
    "start_time": "2023-02-14T10:09:56.416Z"
   },
   {
    "duration": 22,
    "start_time": "2023-02-14T10:11:03.134Z"
   },
   {
    "duration": 37,
    "start_time": "2023-02-14T10:11:50.365Z"
   },
   {
    "duration": 10,
    "start_time": "2023-02-14T10:12:46.403Z"
   },
   {
    "duration": 29,
    "start_time": "2023-02-14T10:12:58.591Z"
   },
   {
    "duration": 22,
    "start_time": "2023-02-14T10:15:27.239Z"
   },
   {
    "duration": 8,
    "start_time": "2023-02-14T10:17:04.294Z"
   },
   {
    "duration": 4,
    "start_time": "2023-02-14T10:17:07.115Z"
   },
   {
    "duration": 15,
    "start_time": "2023-02-14T10:17:10.256Z"
   },
   {
    "duration": 243,
    "start_time": "2023-02-14T10:17:15.433Z"
   },
   {
    "duration": 7,
    "start_time": "2023-02-14T10:17:37.572Z"
   },
   {
    "duration": 60,
    "start_time": "2023-02-14T10:17:46.957Z"
   },
   {
    "duration": 23,
    "start_time": "2023-02-14T10:17:54.935Z"
   },
   {
    "duration": 23,
    "start_time": "2023-02-14T10:18:10.072Z"
   },
   {
    "duration": 111,
    "start_time": "2023-02-14T10:18:45.852Z"
   },
   {
    "duration": 132,
    "start_time": "2023-02-14T10:19:00.604Z"
   },
   {
    "duration": 104,
    "start_time": "2023-02-14T10:19:11.072Z"
   },
   {
    "duration": 168,
    "start_time": "2023-02-14T10:21:54.926Z"
   },
   {
    "duration": 94,
    "start_time": "2023-02-14T10:22:32.766Z"
   },
   {
    "duration": 82,
    "start_time": "2023-02-14T10:22:56.691Z"
   },
   {
    "duration": 226,
    "start_time": "2023-02-14T10:23:47.598Z"
   },
   {
    "duration": 245,
    "start_time": "2023-02-14T10:23:52.272Z"
   },
   {
    "duration": 3,
    "start_time": "2023-02-14T10:26:29.753Z"
   },
   {
    "duration": 52,
    "start_time": "2023-02-14T10:26:29.758Z"
   },
   {
    "duration": 14,
    "start_time": "2023-02-14T10:26:29.812Z"
   },
   {
    "duration": 5,
    "start_time": "2023-02-14T10:26:29.828Z"
   },
   {
    "duration": 15,
    "start_time": "2023-02-14T10:26:29.835Z"
   },
   {
    "duration": 8,
    "start_time": "2023-02-14T10:26:29.852Z"
   },
   {
    "duration": 14,
    "start_time": "2023-02-14T10:26:29.861Z"
   },
   {
    "duration": 12,
    "start_time": "2023-02-14T10:26:29.877Z"
   },
   {
    "duration": 8,
    "start_time": "2023-02-14T10:26:29.892Z"
   },
   {
    "duration": 4,
    "start_time": "2023-02-14T10:26:29.902Z"
   },
   {
    "duration": 10,
    "start_time": "2023-02-14T10:26:29.908Z"
   },
   {
    "duration": 45,
    "start_time": "2023-02-14T10:26:29.919Z"
   },
   {
    "duration": 6,
    "start_time": "2023-02-14T10:26:29.966Z"
   },
   {
    "duration": 7,
    "start_time": "2023-02-14T10:26:29.974Z"
   },
   {
    "duration": 15,
    "start_time": "2023-02-14T10:26:29.982Z"
   },
   {
    "duration": 8,
    "start_time": "2023-02-14T10:26:29.998Z"
   },
   {
    "duration": 9,
    "start_time": "2023-02-14T10:26:30.007Z"
   },
   {
    "duration": 7,
    "start_time": "2023-02-14T10:26:30.017Z"
   },
   {
    "duration": 21,
    "start_time": "2023-02-14T10:26:30.026Z"
   },
   {
    "duration": 7,
    "start_time": "2023-02-14T10:26:30.049Z"
   },
   {
    "duration": 13,
    "start_time": "2023-02-14T10:26:30.057Z"
   },
   {
    "duration": 30,
    "start_time": "2023-02-14T10:26:30.071Z"
   },
   {
    "duration": 6,
    "start_time": "2023-02-14T10:26:30.102Z"
   },
   {
    "duration": 14,
    "start_time": "2023-02-14T10:26:30.111Z"
   },
   {
    "duration": 14,
    "start_time": "2023-02-14T10:26:30.127Z"
   },
   {
    "duration": 16,
    "start_time": "2023-02-14T10:26:30.143Z"
   },
   {
    "duration": 24,
    "start_time": "2023-02-14T10:26:30.160Z"
   },
   {
    "duration": 15,
    "start_time": "2023-02-14T10:26:30.185Z"
   },
   {
    "duration": 12,
    "start_time": "2023-02-14T10:26:30.201Z"
   },
   {
    "duration": 14,
    "start_time": "2023-02-14T10:26:30.215Z"
   },
   {
    "duration": 15,
    "start_time": "2023-02-14T10:26:30.230Z"
   },
   {
    "duration": 145,
    "start_time": "2023-02-14T10:26:30.246Z"
   },
   {
    "duration": 267,
    "start_time": "2023-02-14T10:26:30.392Z"
   },
   {
    "duration": 14,
    "start_time": "2023-02-14T10:26:30.661Z"
   },
   {
    "duration": 19,
    "start_time": "2023-02-14T10:26:30.676Z"
   },
   {
    "duration": 250,
    "start_time": "2023-02-14T10:26:30.696Z"
   },
   {
    "duration": 6,
    "start_time": "2023-02-14T10:26:30.948Z"
   },
   {
    "duration": 36,
    "start_time": "2023-02-14T10:26:30.955Z"
   },
   {
    "duration": 27,
    "start_time": "2023-02-14T10:26:30.994Z"
   },
   {
    "duration": 286,
    "start_time": "2023-02-14T10:26:31.023Z"
   },
   {
    "duration": 38,
    "start_time": "2023-02-14T10:26:31.311Z"
   },
   {
    "duration": 24,
    "start_time": "2023-02-14T10:26:31.351Z"
   },
   {
    "duration": 191,
    "start_time": "2023-02-14T10:26:31.376Z"
   },
   {
    "duration": 104,
    "start_time": "2023-02-14T10:26:31.568Z"
   },
   {
    "duration": 86,
    "start_time": "2023-02-14T10:28:15.100Z"
   },
   {
    "duration": 83,
    "start_time": "2023-02-14T10:28:42.199Z"
   },
   {
    "duration": 82,
    "start_time": "2023-02-14T10:29:42.912Z"
   },
   {
    "duration": 29,
    "start_time": "2023-02-14T13:07:13.465Z"
   },
   {
    "duration": 31,
    "start_time": "2023-02-14T13:07:39.587Z"
   },
   {
    "duration": 792,
    "start_time": "2023-02-14T13:08:54.339Z"
   },
   {
    "duration": 970,
    "start_time": "2023-02-14T13:08:58.134Z"
   },
   {
    "duration": 872,
    "start_time": "2023-02-14T13:09:11.716Z"
   },
   {
    "duration": 832,
    "start_time": "2023-02-14T13:09:21.278Z"
   },
   {
    "duration": 750,
    "start_time": "2023-02-14T13:09:46.389Z"
   },
   {
    "duration": 1042,
    "start_time": "2023-02-14T13:11:10.680Z"
   },
   {
    "duration": 22,
    "start_time": "2023-02-14T13:11:34.482Z"
   },
   {
    "duration": 26,
    "start_time": "2023-02-14T13:12:01.554Z"
   },
   {
    "duration": 35,
    "start_time": "2023-02-14T13:12:48.564Z"
   },
   {
    "duration": 25,
    "start_time": "2023-02-14T13:13:05.244Z"
   },
   {
    "duration": 15,
    "start_time": "2023-02-14T13:14:00.828Z"
   },
   {
    "duration": 16,
    "start_time": "2023-02-14T13:14:23.845Z"
   },
   {
    "duration": 13,
    "start_time": "2023-02-14T13:14:31.663Z"
   },
   {
    "duration": 12,
    "start_time": "2023-02-14T13:14:37.238Z"
   },
   {
    "duration": 9,
    "start_time": "2023-02-14T13:18:46.779Z"
   },
   {
    "duration": 7,
    "start_time": "2023-02-14T13:19:01.347Z"
   },
   {
    "duration": 16,
    "start_time": "2023-02-14T13:19:25.202Z"
   },
   {
    "duration": 15,
    "start_time": "2023-02-14T13:19:49.725Z"
   },
   {
    "duration": 12,
    "start_time": "2023-02-14T13:20:31.484Z"
   },
   {
    "duration": 119,
    "start_time": "2023-02-14T13:30:34.270Z"
   },
   {
    "duration": 114,
    "start_time": "2023-02-14T13:30:39.043Z"
   },
   {
    "duration": 122,
    "start_time": "2023-02-14T13:31:56.599Z"
   },
   {
    "duration": 145,
    "start_time": "2023-02-14T13:33:26.340Z"
   },
   {
    "duration": 126,
    "start_time": "2023-02-14T13:35:26.489Z"
   },
   {
    "duration": 119,
    "start_time": "2023-02-14T13:36:40.083Z"
   },
   {
    "duration": 149,
    "start_time": "2023-02-14T13:37:11.990Z"
   },
   {
    "duration": 62,
    "start_time": "2023-02-14T13:37:17.658Z"
   },
   {
    "duration": 52,
    "start_time": "2023-02-14T13:37:25.232Z"
   },
   {
    "duration": 155,
    "start_time": "2023-02-14T13:37:34.992Z"
   },
   {
    "duration": 146,
    "start_time": "2023-02-14T13:37:51.933Z"
   },
   {
    "duration": 128,
    "start_time": "2023-02-14T13:38:49.795Z"
   },
   {
    "duration": 127,
    "start_time": "2023-02-14T13:39:03.605Z"
   },
   {
    "duration": 223,
    "start_time": "2023-02-14T13:39:41.385Z"
   },
   {
    "duration": 106,
    "start_time": "2023-02-14T13:46:16.527Z"
   },
   {
    "duration": 115,
    "start_time": "2023-02-14T13:46:27.404Z"
   },
   {
    "duration": 103,
    "start_time": "2023-02-14T13:46:35.953Z"
   },
   {
    "duration": 164,
    "start_time": "2023-02-14T13:50:54.098Z"
   },
   {
    "duration": 151,
    "start_time": "2023-02-14T13:51:51.183Z"
   },
   {
    "duration": 150,
    "start_time": "2023-02-14T13:53:23.493Z"
   },
   {
    "duration": 147,
    "start_time": "2023-02-14T13:54:54.573Z"
   },
   {
    "duration": 149,
    "start_time": "2023-02-14T14:00:56.806Z"
   },
   {
    "duration": 147,
    "start_time": "2023-02-14T14:03:18.727Z"
   },
   {
    "duration": 149,
    "start_time": "2023-02-14T14:03:24.203Z"
   },
   {
    "duration": 163,
    "start_time": "2023-02-14T14:03:30.869Z"
   },
   {
    "duration": 237,
    "start_time": "2023-02-14T14:03:49.281Z"
   },
   {
    "duration": 270,
    "start_time": "2023-02-14T14:04:38.016Z"
   },
   {
    "duration": 241,
    "start_time": "2023-02-14T14:05:16.773Z"
   },
   {
    "duration": 175,
    "start_time": "2023-02-14T14:05:34.520Z"
   },
   {
    "duration": 149,
    "start_time": "2023-02-14T14:06:19.289Z"
   },
   {
    "duration": 281,
    "start_time": "2023-02-14T14:06:31.292Z"
   },
   {
    "duration": 62,
    "start_time": "2023-02-14T14:11:14.534Z"
   },
   {
    "duration": 43,
    "start_time": "2023-02-14T14:11:26.456Z"
   },
   {
    "duration": 158,
    "start_time": "2023-02-14T14:11:51.914Z"
   },
   {
    "duration": 94,
    "start_time": "2023-02-14T14:12:22.254Z"
   },
   {
    "duration": 254,
    "start_time": "2023-02-14T14:12:26.853Z"
   },
   {
    "duration": 151,
    "start_time": "2023-02-14T14:12:36.425Z"
   },
   {
    "duration": 183,
    "start_time": "2023-02-14T14:12:43.323Z"
   },
   {
    "duration": 156,
    "start_time": "2023-02-14T14:12:48.233Z"
   },
   {
    "duration": 152,
    "start_time": "2023-02-14T14:13:12.635Z"
   },
   {
    "duration": 271,
    "start_time": "2023-02-14T14:13:25.045Z"
   },
   {
    "duration": 196,
    "start_time": "2023-02-14T14:15:25.735Z"
   },
   {
    "duration": 147,
    "start_time": "2023-02-14T14:15:59.264Z"
   },
   {
    "duration": 176,
    "start_time": "2023-02-14T14:17:43.829Z"
   },
   {
    "duration": 151,
    "start_time": "2023-02-14T14:18:54.990Z"
   },
   {
    "duration": 281,
    "start_time": "2023-02-14T14:27:37.565Z"
   },
   {
    "duration": 189,
    "start_time": "2023-02-14T14:28:31.490Z"
   },
   {
    "duration": 55,
    "start_time": "2023-02-14T14:28:59.504Z"
   },
   {
    "duration": 290,
    "start_time": "2023-02-14T14:29:12.696Z"
   },
   {
    "duration": 278,
    "start_time": "2023-02-14T14:30:24.789Z"
   },
   {
    "duration": 220,
    "start_time": "2023-02-14T14:31:23.735Z"
   },
   {
    "duration": 269,
    "start_time": "2023-02-14T14:31:32.897Z"
   },
   {
    "duration": 262,
    "start_time": "2023-02-14T14:31:39.671Z"
   },
   {
    "duration": 361,
    "start_time": "2023-02-15T05:46:58.377Z"
   },
   {
    "duration": 345,
    "start_time": "2023-02-15T05:47:17.074Z"
   },
   {
    "duration": 319,
    "start_time": "2023-02-15T05:47:47.087Z"
   },
   {
    "duration": 508,
    "start_time": "2023-02-15T05:49:05.341Z"
   },
   {
    "duration": 325,
    "start_time": "2023-02-15T05:54:07.183Z"
   },
   {
    "duration": 315,
    "start_time": "2023-02-15T05:55:23.392Z"
   },
   {
    "duration": 303,
    "start_time": "2023-02-15T05:55:42.002Z"
   },
   {
    "duration": 314,
    "start_time": "2023-02-15T05:57:28.827Z"
   },
   {
    "duration": 287,
    "start_time": "2023-02-15T05:58:10.704Z"
   },
   {
    "duration": 311,
    "start_time": "2023-02-15T05:58:27.493Z"
   },
   {
    "duration": 531,
    "start_time": "2023-02-15T05:59:58.626Z"
   },
   {
    "duration": 323,
    "start_time": "2023-02-15T06:00:18.900Z"
   },
   {
    "duration": 21,
    "start_time": "2023-02-15T06:10:38.108Z"
   },
   {
    "duration": 219,
    "start_time": "2023-02-15T06:13:01.972Z"
   },
   {
    "duration": 10,
    "start_time": "2023-02-15T06:20:45.887Z"
   },
   {
    "duration": 319,
    "start_time": "2023-02-15T06:20:58.396Z"
   },
   {
    "duration": 22,
    "start_time": "2023-02-15T06:27:46.220Z"
   },
   {
    "duration": 177,
    "start_time": "2023-02-15T06:56:05.826Z"
   },
   {
    "duration": 335,
    "start_time": "2023-02-15T07:02:06.746Z"
   },
   {
    "duration": 331,
    "start_time": "2023-02-15T07:02:22.985Z"
   },
   {
    "duration": 425,
    "start_time": "2023-02-15T07:02:58.990Z"
   },
   {
    "duration": 446,
    "start_time": "2023-02-15T07:03:23.871Z"
   },
   {
    "duration": 572,
    "start_time": "2023-02-15T07:03:32.647Z"
   },
   {
    "duration": 427,
    "start_time": "2023-02-15T07:03:46.350Z"
   },
   {
    "duration": 437,
    "start_time": "2023-02-15T07:04:11.805Z"
   },
   {
    "duration": 441,
    "start_time": "2023-02-15T07:04:29.756Z"
   },
   {
    "duration": 492,
    "start_time": "2023-02-15T07:04:36.243Z"
   },
   {
    "duration": 423,
    "start_time": "2023-02-15T07:04:43.007Z"
   },
   {
    "duration": 568,
    "start_time": "2023-02-15T07:04:48.572Z"
   },
   {
    "duration": 458,
    "start_time": "2023-02-15T07:04:53.483Z"
   },
   {
    "duration": 23,
    "start_time": "2023-02-15T07:06:03.466Z"
   },
   {
    "duration": 504,
    "start_time": "2023-02-15T07:09:07.203Z"
   },
   {
    "duration": 503,
    "start_time": "2023-02-15T07:13:50.704Z"
   },
   {
    "duration": 32,
    "start_time": "2023-02-15T07:14:32.917Z"
   },
   {
    "duration": 377,
    "start_time": "2023-02-15T07:18:08.044Z"
   },
   {
    "duration": 3,
    "start_time": "2023-02-15T07:20:48.972Z"
   },
   {
    "duration": 500,
    "start_time": "2023-02-15T09:28:22.680Z"
   },
   {
    "duration": 21,
    "start_time": "2023-02-15T09:32:29.276Z"
   },
   {
    "duration": 5,
    "start_time": "2023-02-15T09:32:47.400Z"
   },
   {
    "duration": 32,
    "start_time": "2023-02-15T09:33:40.073Z"
   },
   {
    "duration": 8,
    "start_time": "2023-02-15T09:46:48.547Z"
   },
   {
    "duration": 6,
    "start_time": "2023-02-15T09:46:57.525Z"
   },
   {
    "duration": 24,
    "start_time": "2023-02-15T09:47:04.159Z"
   },
   {
    "duration": 6,
    "start_time": "2023-02-15T09:47:11.892Z"
   },
   {
    "duration": 7,
    "start_time": "2023-02-15T09:47:35.251Z"
   },
   {
    "duration": 9,
    "start_time": "2023-02-15T09:49:19.359Z"
   },
   {
    "duration": 5,
    "start_time": "2023-02-15T10:03:15.507Z"
   },
   {
    "duration": 11,
    "start_time": "2023-02-15T10:03:43.355Z"
   },
   {
    "duration": 5,
    "start_time": "2023-02-15T10:03:50.095Z"
   },
   {
    "duration": 8,
    "start_time": "2023-02-15T10:04:02.268Z"
   },
   {
    "duration": 4,
    "start_time": "2023-02-15T10:08:11.392Z"
   },
   {
    "duration": 4,
    "start_time": "2023-02-15T10:11:15.655Z"
   },
   {
    "duration": 3,
    "start_time": "2023-02-15T10:11:44.351Z"
   },
   {
    "duration": 6,
    "start_time": "2023-02-15T10:19:37.731Z"
   },
   {
    "duration": 3,
    "start_time": "2023-02-15T10:19:56.314Z"
   },
   {
    "duration": 5,
    "start_time": "2023-02-15T10:20:09.027Z"
   },
   {
    "duration": 5,
    "start_time": "2023-02-15T10:21:00.091Z"
   },
   {
    "duration": 13,
    "start_time": "2023-02-15T10:33:40.869Z"
   },
   {
    "duration": 8,
    "start_time": "2023-02-15T10:34:10.530Z"
   },
   {
    "duration": 9,
    "start_time": "2023-02-15T10:34:20.499Z"
   },
   {
    "duration": 6,
    "start_time": "2023-02-17T06:57:14.448Z"
   },
   {
    "duration": 54,
    "start_time": "2023-02-17T06:57:14.456Z"
   },
   {
    "duration": 15,
    "start_time": "2023-02-17T06:57:14.512Z"
   },
   {
    "duration": 8,
    "start_time": "2023-02-17T06:57:14.529Z"
   },
   {
    "duration": 16,
    "start_time": "2023-02-17T06:57:14.539Z"
   },
   {
    "duration": 10,
    "start_time": "2023-02-17T06:57:18.290Z"
   },
   {
    "duration": 10,
    "start_time": "2023-02-17T06:57:21.220Z"
   },
   {
    "duration": 13,
    "start_time": "2023-02-17T07:01:29.194Z"
   },
   {
    "duration": 13,
    "start_time": "2023-02-17T07:01:57.055Z"
   },
   {
    "duration": 27,
    "start_time": "2023-02-17T07:04:42.285Z"
   },
   {
    "duration": 8,
    "start_time": "2023-02-17T07:05:50.601Z"
   },
   {
    "duration": 6,
    "start_time": "2023-02-17T07:07:12.905Z"
   },
   {
    "duration": 15,
    "start_time": "2023-02-17T07:11:32.190Z"
   },
   {
    "duration": 55,
    "start_time": "2023-02-17T07:13:22.949Z"
   },
   {
    "duration": 7,
    "start_time": "2023-02-17T07:16:33.635Z"
   },
   {
    "duration": 10,
    "start_time": "2023-02-17T07:19:32.742Z"
   },
   {
    "duration": 5,
    "start_time": "2023-02-17T07:19:58.301Z"
   },
   {
    "duration": 19,
    "start_time": "2023-02-17T07:20:23.692Z"
   },
   {
    "duration": 12,
    "start_time": "2023-02-17T07:20:53.575Z"
   },
   {
    "duration": 22,
    "start_time": "2023-02-17T07:22:03.214Z"
   },
   {
    "duration": 23,
    "start_time": "2023-02-17T07:23:37.747Z"
   },
   {
    "duration": 14,
    "start_time": "2023-02-17T07:25:45.890Z"
   },
   {
    "duration": 21,
    "start_time": "2023-02-17T07:26:11.630Z"
   },
   {
    "duration": 11,
    "start_time": "2023-02-17T07:26:54.835Z"
   },
   {
    "duration": 5,
    "start_time": "2023-02-17T07:29:46.165Z"
   },
   {
    "duration": 6,
    "start_time": "2023-02-17T07:30:13.428Z"
   },
   {
    "duration": 76,
    "start_time": "2023-02-17T08:17:20.930Z"
   },
   {
    "duration": 14,
    "start_time": "2023-02-17T08:19:11.927Z"
   },
   {
    "duration": 239,
    "start_time": "2023-02-17T08:19:18.992Z"
   },
   {
    "duration": 242,
    "start_time": "2023-02-17T08:19:24.653Z"
   },
   {
    "duration": 254,
    "start_time": "2023-02-17T08:20:14.738Z"
   },
   {
    "duration": 366,
    "start_time": "2023-02-17T08:20:52.365Z"
   },
   {
    "duration": 257,
    "start_time": "2023-02-17T08:21:19.011Z"
   },
   {
    "duration": 299,
    "start_time": "2023-02-17T08:21:36.026Z"
   },
   {
    "duration": 114,
    "start_time": "2023-02-17T08:22:08.213Z"
   },
   {
    "duration": 239,
    "start_time": "2023-02-17T08:22:18.610Z"
   },
   {
    "duration": 250,
    "start_time": "2023-02-17T08:23:13.536Z"
   },
   {
    "duration": 247,
    "start_time": "2023-02-17T08:23:19.189Z"
   },
   {
    "duration": 623,
    "start_time": "2023-02-17T08:26:28.477Z"
   },
   {
    "duration": 258,
    "start_time": "2023-02-17T08:26:58.456Z"
   },
   {
    "duration": 289,
    "start_time": "2023-02-17T08:27:16.586Z"
   },
   {
    "duration": 299,
    "start_time": "2023-02-17T08:27:31.198Z"
   },
   {
    "duration": 306,
    "start_time": "2023-02-17T08:28:13.781Z"
   },
   {
    "duration": 300,
    "start_time": "2023-02-17T08:29:22.881Z"
   },
   {
    "duration": 161,
    "start_time": "2023-02-17T08:29:43.720Z"
   },
   {
    "duration": 470,
    "start_time": "2023-02-17T08:29:52.228Z"
   },
   {
    "duration": 318,
    "start_time": "2023-02-17T08:30:53.937Z"
   },
   {
    "duration": 292,
    "start_time": "2023-02-17T08:31:06.820Z"
   },
   {
    "duration": 296,
    "start_time": "2023-02-17T08:31:40.477Z"
   },
   {
    "duration": 269,
    "start_time": "2023-02-17T08:32:20.632Z"
   },
   {
    "duration": 47,
    "start_time": "2023-02-17T10:16:43.425Z"
   },
   {
    "duration": 46,
    "start_time": "2023-02-17T10:20:27.615Z"
   },
   {
    "duration": 53,
    "start_time": "2023-02-17T10:34:53.572Z"
   },
   {
    "duration": 13,
    "start_time": "2023-02-17T10:35:01.218Z"
   },
   {
    "duration": 5,
    "start_time": "2023-02-17T11:27:34.582Z"
   },
   {
    "duration": 9,
    "start_time": "2023-02-17T11:27:39.759Z"
   },
   {
    "duration": 4,
    "start_time": "2023-02-17T11:27:46.345Z"
   },
   {
    "duration": 61,
    "start_time": "2023-02-17T11:27:46.351Z"
   },
   {
    "duration": 15,
    "start_time": "2023-02-17T11:27:46.413Z"
   },
   {
    "duration": 7,
    "start_time": "2023-02-17T11:27:46.430Z"
   },
   {
    "duration": 24,
    "start_time": "2023-02-17T11:27:46.439Z"
   },
   {
    "duration": 11,
    "start_time": "2023-02-17T11:27:46.465Z"
   },
   {
    "duration": 14,
    "start_time": "2023-02-17T11:27:46.478Z"
   },
   {
    "duration": 14,
    "start_time": "2023-02-17T11:27:46.493Z"
   },
   {
    "duration": 7,
    "start_time": "2023-02-17T11:27:46.509Z"
   },
   {
    "duration": 7,
    "start_time": "2023-02-17T11:27:46.517Z"
   },
   {
    "duration": 29,
    "start_time": "2023-02-17T11:27:46.525Z"
   },
   {
    "duration": 6,
    "start_time": "2023-02-17T11:27:46.556Z"
   },
   {
    "duration": 16,
    "start_time": "2023-02-17T11:27:46.564Z"
   },
   {
    "duration": 4,
    "start_time": "2023-02-17T11:27:46.582Z"
   },
   {
    "duration": 5,
    "start_time": "2023-02-17T11:27:46.588Z"
   },
   {
    "duration": 4,
    "start_time": "2023-02-17T11:27:46.594Z"
   },
   {
    "duration": 7,
    "start_time": "2023-02-17T11:27:46.600Z"
   },
   {
    "duration": 40,
    "start_time": "2023-02-17T11:27:46.608Z"
   },
   {
    "duration": 30,
    "start_time": "2023-02-17T11:27:46.650Z"
   },
   {
    "duration": 5,
    "start_time": "2023-02-17T11:27:46.681Z"
   },
   {
    "duration": 10,
    "start_time": "2023-02-17T11:27:46.687Z"
   },
   {
    "duration": 6,
    "start_time": "2023-02-17T11:27:46.698Z"
   },
   {
    "duration": 5,
    "start_time": "2023-02-17T11:27:46.705Z"
   },
   {
    "duration": 8,
    "start_time": "2023-02-17T11:27:49.184Z"
   },
   {
    "duration": 8,
    "start_time": "2023-02-17T11:28:31.090Z"
   },
   {
    "duration": 14,
    "start_time": "2023-02-17T11:28:51.516Z"
   },
   {
    "duration": 63,
    "start_time": "2023-02-17T11:29:16.883Z"
   },
   {
    "duration": 5,
    "start_time": "2023-02-17T11:31:16.672Z"
   },
   {
    "duration": 5,
    "start_time": "2023-02-17T11:32:12.471Z"
   },
   {
    "duration": 10,
    "start_time": "2023-02-17T11:33:52.898Z"
   },
   {
    "duration": 16,
    "start_time": "2023-02-17T11:34:27.519Z"
   },
   {
    "duration": 16,
    "start_time": "2023-02-17T11:35:33.054Z"
   },
   {
    "duration": 17,
    "start_time": "2023-02-17T11:36:16.644Z"
   },
   {
    "duration": 13,
    "start_time": "2023-02-17T11:37:19.859Z"
   },
   {
    "duration": 10,
    "start_time": "2023-02-17T11:37:36.310Z"
   },
   {
    "duration": 15,
    "start_time": "2023-02-17T11:37:42.262Z"
   },
   {
    "duration": 13,
    "start_time": "2023-02-17T11:38:58.327Z"
   },
   {
    "duration": 44,
    "start_time": "2023-02-17T11:47:57.804Z"
   },
   {
    "duration": 5,
    "start_time": "2023-02-17T12:28:58.246Z"
   },
   {
    "duration": 57,
    "start_time": "2023-02-17T12:28:58.253Z"
   },
   {
    "duration": 18,
    "start_time": "2023-02-17T12:28:58.313Z"
   },
   {
    "duration": 15,
    "start_time": "2023-02-17T12:28:58.333Z"
   },
   {
    "duration": 13,
    "start_time": "2023-02-17T12:28:58.350Z"
   },
   {
    "duration": 9,
    "start_time": "2023-02-17T12:28:58.364Z"
   },
   {
    "duration": 11,
    "start_time": "2023-02-17T12:28:58.374Z"
   },
   {
    "duration": 14,
    "start_time": "2023-02-17T12:28:58.387Z"
   },
   {
    "duration": 46,
    "start_time": "2023-02-17T12:28:58.404Z"
   },
   {
    "duration": 8,
    "start_time": "2023-02-17T12:28:58.452Z"
   },
   {
    "duration": 12,
    "start_time": "2023-02-17T12:28:58.461Z"
   },
   {
    "duration": 6,
    "start_time": "2023-02-17T12:28:58.474Z"
   },
   {
    "duration": 13,
    "start_time": "2023-02-17T12:28:58.482Z"
   },
   {
    "duration": 5,
    "start_time": "2023-02-17T12:28:58.496Z"
   },
   {
    "duration": 7,
    "start_time": "2023-02-17T12:28:58.503Z"
   },
   {
    "duration": 5,
    "start_time": "2023-02-17T12:28:58.511Z"
   },
   {
    "duration": 4,
    "start_time": "2023-02-17T12:28:58.549Z"
   },
   {
    "duration": 9,
    "start_time": "2023-02-17T12:28:58.555Z"
   },
   {
    "duration": 24,
    "start_time": "2023-02-17T12:28:58.566Z"
   },
   {
    "duration": 5,
    "start_time": "2023-02-17T12:28:58.591Z"
   },
   {
    "duration": 8,
    "start_time": "2023-02-17T12:28:58.598Z"
   },
   {
    "duration": 8,
    "start_time": "2023-02-17T12:28:58.607Z"
   },
   {
    "duration": 7,
    "start_time": "2023-02-17T12:28:58.647Z"
   },
   {
    "duration": 13,
    "start_time": "2023-02-17T12:28:58.660Z"
   },
   {
    "duration": 10,
    "start_time": "2023-02-17T12:28:58.675Z"
   },
   {
    "duration": 18,
    "start_time": "2023-02-17T12:28:58.687Z"
   },
   {
    "duration": 4,
    "start_time": "2023-02-17T12:28:58.707Z"
   },
   {
    "duration": 8,
    "start_time": "2023-02-17T12:28:58.713Z"
   },
   {
    "duration": 8,
    "start_time": "2023-02-17T12:28:58.749Z"
   },
   {
    "duration": 19,
    "start_time": "2023-02-17T12:28:58.759Z"
   },
   {
    "duration": 20,
    "start_time": "2023-02-17T12:28:58.779Z"
   },
   {
    "duration": 12,
    "start_time": "2023-02-17T12:28:58.801Z"
   },
   {
    "duration": 5,
    "start_time": "2023-02-17T12:28:58.849Z"
   },
   {
    "duration": 15,
    "start_time": "2023-02-17T12:28:58.856Z"
   },
   {
    "duration": 175,
    "start_time": "2023-02-17T12:28:58.873Z"
   },
   {
    "duration": 318,
    "start_time": "2023-02-17T12:28:59.050Z"
   },
   {
    "duration": 15,
    "start_time": "2023-02-17T12:28:59.370Z"
   },
   {
    "duration": 4,
    "start_time": "2023-02-17T12:28:59.386Z"
   },
   {
    "duration": 276,
    "start_time": "2023-02-17T12:28:59.392Z"
   },
   {
    "duration": 6,
    "start_time": "2023-02-17T12:28:59.670Z"
   },
   {
    "duration": 7,
    "start_time": "2023-02-17T12:28:59.677Z"
   },
   {
    "duration": 16,
    "start_time": "2023-02-17T12:28:59.686Z"
   },
   {
    "duration": 344,
    "start_time": "2023-02-17T12:28:59.704Z"
   },
   {
    "duration": 481,
    "start_time": "2023-02-17T12:29:00.050Z"
   },
   {
    "duration": 17,
    "start_time": "2023-02-17T12:29:00.533Z"
   },
   {
    "duration": 344,
    "start_time": "2023-02-17T12:29:00.552Z"
   },
   {
    "duration": 20,
    "start_time": "2023-02-17T12:29:00.898Z"
   },
   {
    "duration": 330,
    "start_time": "2023-02-17T12:29:00.920Z"
   },
   {
    "duration": 16,
    "start_time": "2023-02-17T12:29:01.252Z"
   },
   {
    "duration": 316,
    "start_time": "2023-02-17T12:29:01.269Z"
   },
   {
    "duration": 13,
    "start_time": "2023-02-17T12:29:01.587Z"
   },
   {
    "duration": 337,
    "start_time": "2023-02-17T12:29:01.602Z"
   },
   {
    "duration": 219,
    "start_time": "2023-02-17T12:29:01.941Z"
   },
   {
    "duration": 501,
    "start_time": "2023-02-17T12:29:02.162Z"
   },
   {
    "duration": 522,
    "start_time": "2023-02-17T12:29:02.665Z"
   },
   {
    "duration": 567,
    "start_time": "2023-02-17T12:29:03.189Z"
   },
   {
    "duration": 7,
    "start_time": "2023-02-17T12:29:03.758Z"
   },
   {
    "duration": 28,
    "start_time": "2023-02-17T12:29:03.766Z"
   },
   {
    "duration": 10,
    "start_time": "2023-02-17T12:29:03.796Z"
   },
   {
    "duration": 8,
    "start_time": "2023-02-17T12:29:03.808Z"
   },
   {
    "duration": 27,
    "start_time": "2023-02-17T12:29:03.818Z"
   },
   {
    "duration": 11,
    "start_time": "2023-02-17T12:29:03.847Z"
   },
   {
    "duration": 1200,
    "start_time": "2023-02-17T13:35:55.080Z"
   },
   {
    "duration": 56,
    "start_time": "2023-02-17T13:35:56.282Z"
   },
   {
    "duration": 37,
    "start_time": "2023-02-17T13:35:56.339Z"
   },
   {
    "duration": 11,
    "start_time": "2023-02-17T13:35:56.382Z"
   },
   {
    "duration": 24,
    "start_time": "2023-02-17T13:35:56.396Z"
   },
   {
    "duration": 11,
    "start_time": "2023-02-17T13:35:56.423Z"
   },
   {
    "duration": 53,
    "start_time": "2023-02-17T13:35:56.436Z"
   },
   {
    "duration": 20,
    "start_time": "2023-02-17T13:35:56.491Z"
   },
   {
    "duration": 21,
    "start_time": "2023-02-17T13:35:56.513Z"
   },
   {
    "duration": 55,
    "start_time": "2023-02-17T13:35:56.536Z"
   },
   {
    "duration": 25,
    "start_time": "2023-02-17T13:35:56.594Z"
   },
   {
    "duration": 8,
    "start_time": "2023-02-17T13:35:56.621Z"
   },
   {
    "duration": 32,
    "start_time": "2023-02-17T13:35:56.631Z"
   },
   {
    "duration": 19,
    "start_time": "2023-02-17T13:35:56.668Z"
   },
   {
    "duration": 10,
    "start_time": "2023-02-17T13:35:56.689Z"
   },
   {
    "duration": 11,
    "start_time": "2023-02-17T13:35:56.701Z"
   },
   {
    "duration": 10,
    "start_time": "2023-02-17T13:35:56.714Z"
   },
   {
    "duration": 22,
    "start_time": "2023-02-17T13:35:56.726Z"
   },
   {
    "duration": 68,
    "start_time": "2023-02-17T13:35:56.750Z"
   },
   {
    "duration": 11,
    "start_time": "2023-02-17T13:35:56.820Z"
   },
   {
    "duration": 14,
    "start_time": "2023-02-17T13:35:56.833Z"
   },
   {
    "duration": 39,
    "start_time": "2023-02-17T13:35:56.848Z"
   },
   {
    "duration": 7,
    "start_time": "2023-02-17T13:35:56.889Z"
   },
   {
    "duration": 14,
    "start_time": "2023-02-17T13:35:56.898Z"
   },
   {
    "duration": 9,
    "start_time": "2023-02-17T13:35:56.914Z"
   },
   {
    "duration": 21,
    "start_time": "2023-02-17T13:35:56.924Z"
   },
   {
    "duration": 20,
    "start_time": "2023-02-17T13:35:56.946Z"
   },
   {
    "duration": 16,
    "start_time": "2023-02-17T13:35:56.973Z"
   },
   {
    "duration": 11,
    "start_time": "2023-02-17T13:35:56.991Z"
   },
   {
    "duration": 17,
    "start_time": "2023-02-17T13:35:57.004Z"
   },
   {
    "duration": 15,
    "start_time": "2023-02-17T13:35:57.023Z"
   },
   {
    "duration": 20,
    "start_time": "2023-02-17T13:35:57.040Z"
   },
   {
    "duration": 26,
    "start_time": "2023-02-17T13:35:57.062Z"
   },
   {
    "duration": 19,
    "start_time": "2023-02-17T13:35:57.090Z"
   },
   {
    "duration": 198,
    "start_time": "2023-02-17T13:35:57.111Z"
   },
   {
    "duration": 450,
    "start_time": "2023-02-17T13:35:57.311Z"
   },
   {
    "duration": 20,
    "start_time": "2023-02-17T13:35:57.762Z"
   },
   {
    "duration": 15,
    "start_time": "2023-02-17T13:35:57.784Z"
   },
   {
    "duration": 760,
    "start_time": "2023-02-17T13:35:57.801Z"
   },
   {
    "duration": 13,
    "start_time": "2023-02-17T13:35:58.576Z"
   },
   {
    "duration": 6,
    "start_time": "2023-02-17T13:35:58.595Z"
   },
   {
    "duration": 63,
    "start_time": "2023-02-17T13:35:58.603Z"
   },
   {
    "duration": 727,
    "start_time": "2023-02-17T13:35:58.668Z"
   },
   {
    "duration": 649,
    "start_time": "2023-02-17T13:35:59.397Z"
   },
   {
    "duration": 23,
    "start_time": "2023-02-17T13:36:00.048Z"
   },
   {
    "duration": 359,
    "start_time": "2023-02-17T13:36:00.079Z"
   },
   {
    "duration": 29,
    "start_time": "2023-02-17T13:36:00.440Z"
   },
   {
    "duration": 449,
    "start_time": "2023-02-17T13:36:00.474Z"
   },
   {
    "duration": 34,
    "start_time": "2023-02-17T13:36:00.925Z"
   },
   {
    "duration": 347,
    "start_time": "2023-02-17T13:36:00.972Z"
   },
   {
    "duration": 14,
    "start_time": "2023-02-17T13:36:01.320Z"
   },
   {
    "duration": 436,
    "start_time": "2023-02-17T13:36:01.335Z"
   },
   {
    "duration": 219,
    "start_time": "2023-02-17T13:36:01.773Z"
   },
   {
    "duration": 551,
    "start_time": "2023-02-17T13:36:01.994Z"
   },
   {
    "duration": 575,
    "start_time": "2023-02-17T13:36:02.546Z"
   },
   {
    "duration": 471,
    "start_time": "2023-02-17T13:36:03.123Z"
   },
   {
    "duration": 7,
    "start_time": "2023-02-17T13:36:03.596Z"
   },
   {
    "duration": 8,
    "start_time": "2023-02-17T13:36:03.604Z"
   },
   {
    "duration": 20,
    "start_time": "2023-02-17T13:36:03.613Z"
   },
   {
    "duration": 22,
    "start_time": "2023-02-17T13:36:03.634Z"
   },
   {
    "duration": 25,
    "start_time": "2023-02-17T13:36:03.658Z"
   },
   {
    "duration": 11,
    "start_time": "2023-02-17T13:36:03.684Z"
   },
   {
    "duration": 83,
    "start_time": "2023-02-17T13:54:20.523Z"
   },
   {
    "duration": 5,
    "start_time": "2023-02-18T06:18:35.676Z"
   },
   {
    "duration": 78,
    "start_time": "2023-02-18T06:18:35.683Z"
   },
   {
    "duration": 15,
    "start_time": "2023-02-18T06:18:35.763Z"
   },
   {
    "duration": 26,
    "start_time": "2023-02-18T06:18:35.780Z"
   },
   {
    "duration": 27,
    "start_time": "2023-02-18T06:18:35.808Z"
   },
   {
    "duration": 25,
    "start_time": "2023-02-18T06:18:35.837Z"
   },
   {
    "duration": 20,
    "start_time": "2023-02-18T06:18:35.864Z"
   },
   {
    "duration": 29,
    "start_time": "2023-02-18T06:18:35.886Z"
   },
   {
    "duration": 19,
    "start_time": "2023-02-18T06:18:35.917Z"
   },
   {
    "duration": 13,
    "start_time": "2023-02-18T06:18:35.938Z"
   },
   {
    "duration": 7,
    "start_time": "2023-02-18T06:18:35.954Z"
   },
   {
    "duration": 12,
    "start_time": "2023-02-18T06:18:35.962Z"
   },
   {
    "duration": 27,
    "start_time": "2023-02-18T06:18:35.975Z"
   },
   {
    "duration": 11,
    "start_time": "2023-02-18T06:18:36.004Z"
   },
   {
    "duration": 18,
    "start_time": "2023-02-18T06:18:36.017Z"
   },
   {
    "duration": 4,
    "start_time": "2023-02-18T06:18:36.037Z"
   },
   {
    "duration": 25,
    "start_time": "2023-02-18T06:18:36.043Z"
   },
   {
    "duration": 30,
    "start_time": "2023-02-18T06:18:36.070Z"
   },
   {
    "duration": 32,
    "start_time": "2023-02-18T06:18:36.102Z"
   },
   {
    "duration": 9,
    "start_time": "2023-02-18T06:18:36.136Z"
   },
   {
    "duration": 12,
    "start_time": "2023-02-18T06:18:36.147Z"
   },
   {
    "duration": 27,
    "start_time": "2023-02-18T06:18:36.160Z"
   },
   {
    "duration": 12,
    "start_time": "2023-02-18T06:18:36.188Z"
   },
   {
    "duration": 33,
    "start_time": "2023-02-18T06:18:36.201Z"
   },
   {
    "duration": 23,
    "start_time": "2023-02-18T06:18:36.235Z"
   },
   {
    "duration": 26,
    "start_time": "2023-02-18T06:18:36.259Z"
   },
   {
    "duration": 25,
    "start_time": "2023-02-18T06:18:36.286Z"
   },
   {
    "duration": 35,
    "start_time": "2023-02-18T06:18:36.313Z"
   },
   {
    "duration": 35,
    "start_time": "2023-02-18T06:18:36.351Z"
   },
   {
    "duration": 41,
    "start_time": "2023-02-18T06:18:36.387Z"
   },
   {
    "duration": 19,
    "start_time": "2023-02-18T06:18:36.430Z"
   },
   {
    "duration": 35,
    "start_time": "2023-02-18T06:18:36.451Z"
   },
   {
    "duration": 27,
    "start_time": "2023-02-18T06:18:36.488Z"
   },
   {
    "duration": 37,
    "start_time": "2023-02-18T06:18:36.516Z"
   },
   {
    "duration": 159,
    "start_time": "2023-02-18T06:18:36.555Z"
   },
   {
    "duration": 284,
    "start_time": "2023-02-18T06:18:36.716Z"
   },
   {
    "duration": 14,
    "start_time": "2023-02-18T06:18:37.002Z"
   },
   {
    "duration": 20,
    "start_time": "2023-02-18T06:18:37.017Z"
   },
   {
    "duration": 254,
    "start_time": "2023-02-18T06:18:37.038Z"
   },
   {
    "duration": 5,
    "start_time": "2023-02-18T06:18:41.063Z"
   },
   {
    "duration": 4,
    "start_time": "2023-02-18T06:18:44.118Z"
   },
   {
    "duration": 14,
    "start_time": "2023-02-18T06:18:51.668Z"
   },
   {
    "duration": 240,
    "start_time": "2023-02-18T06:19:01.315Z"
   },
   {
    "duration": 45,
    "start_time": "2023-02-18T06:19:39.677Z"
   },
   {
    "duration": 39,
    "start_time": "2023-02-18T06:20:06.298Z"
   },
   {
    "duration": 253,
    "start_time": "2023-02-18T06:21:12.133Z"
   },
   {
    "duration": 42,
    "start_time": "2023-02-18T06:23:04.195Z"
   },
   {
    "duration": 3,
    "start_time": "2023-02-18T06:23:19.720Z"
   },
   {
    "duration": 50,
    "start_time": "2023-02-18T06:23:19.726Z"
   },
   {
    "duration": 14,
    "start_time": "2023-02-18T06:23:19.778Z"
   },
   {
    "duration": 6,
    "start_time": "2023-02-18T06:23:19.794Z"
   },
   {
    "duration": 17,
    "start_time": "2023-02-18T06:23:19.801Z"
   },
   {
    "duration": 9,
    "start_time": "2023-02-18T06:23:19.819Z"
   },
   {
    "duration": 9,
    "start_time": "2023-02-18T06:23:19.847Z"
   },
   {
    "duration": 12,
    "start_time": "2023-02-18T06:23:19.857Z"
   },
   {
    "duration": 8,
    "start_time": "2023-02-18T06:23:19.870Z"
   },
   {
    "duration": 9,
    "start_time": "2023-02-18T06:23:19.879Z"
   },
   {
    "duration": 7,
    "start_time": "2023-02-18T06:23:19.890Z"
   },
   {
    "duration": 4,
    "start_time": "2023-02-18T06:23:19.899Z"
   },
   {
    "duration": 52,
    "start_time": "2023-02-18T06:23:19.904Z"
   },
   {
    "duration": 6,
    "start_time": "2023-02-18T06:23:19.958Z"
   },
   {
    "duration": 6,
    "start_time": "2023-02-18T06:23:19.967Z"
   },
   {
    "duration": 6,
    "start_time": "2023-02-18T06:23:19.974Z"
   },
   {
    "duration": 8,
    "start_time": "2023-02-18T06:23:19.982Z"
   },
   {
    "duration": 12,
    "start_time": "2023-02-18T06:23:19.991Z"
   },
   {
    "duration": 25,
    "start_time": "2023-02-18T06:23:20.005Z"
   },
   {
    "duration": 5,
    "start_time": "2023-02-18T06:23:20.047Z"
   },
   {
    "duration": 12,
    "start_time": "2023-02-18T06:23:20.053Z"
   },
   {
    "duration": 6,
    "start_time": "2023-02-18T06:23:20.066Z"
   },
   {
    "duration": 6,
    "start_time": "2023-02-18T06:23:20.073Z"
   },
   {
    "duration": 10,
    "start_time": "2023-02-18T06:23:20.080Z"
   },
   {
    "duration": 8,
    "start_time": "2023-02-18T06:23:20.091Z"
   },
   {
    "duration": 12,
    "start_time": "2023-02-18T06:23:20.100Z"
   },
   {
    "duration": 4,
    "start_time": "2023-02-18T06:23:20.113Z"
   },
   {
    "duration": 5,
    "start_time": "2023-02-18T06:23:20.147Z"
   },
   {
    "duration": 10,
    "start_time": "2023-02-18T06:23:20.153Z"
   },
   {
    "duration": 14,
    "start_time": "2023-02-18T06:23:20.165Z"
   },
   {
    "duration": 12,
    "start_time": "2023-02-18T06:23:20.181Z"
   },
   {
    "duration": 12,
    "start_time": "2023-02-18T06:23:20.195Z"
   },
   {
    "duration": 6,
    "start_time": "2023-02-18T06:23:20.208Z"
   },
   {
    "duration": 42,
    "start_time": "2023-02-18T06:23:20.215Z"
   },
   {
    "duration": 143,
    "start_time": "2023-02-18T06:23:20.258Z"
   },
   {
    "duration": 257,
    "start_time": "2023-02-18T06:23:20.402Z"
   },
   {
    "duration": 13,
    "start_time": "2023-02-18T06:23:20.661Z"
   },
   {
    "duration": 4,
    "start_time": "2023-02-18T06:23:20.675Z"
   },
   {
    "duration": 235,
    "start_time": "2023-02-18T06:23:20.680Z"
   },
   {
    "duration": 6,
    "start_time": "2023-02-18T06:23:20.916Z"
   },
   {
    "duration": 9,
    "start_time": "2023-02-18T06:23:20.923Z"
   },
   {
    "duration": 13,
    "start_time": "2023-02-18T06:23:20.947Z"
   },
   {
    "duration": 249,
    "start_time": "2023-02-18T06:23:20.961Z"
   },
   {
    "duration": 372,
    "start_time": "2023-02-18T06:23:21.212Z"
   },
   {
    "duration": 12,
    "start_time": "2023-02-18T06:23:21.586Z"
   },
   {
    "duration": 278,
    "start_time": "2023-02-18T06:23:21.599Z"
   },
   {
    "duration": 12,
    "start_time": "2023-02-18T06:23:21.879Z"
   },
   {
    "duration": 256,
    "start_time": "2023-02-18T06:23:21.892Z"
   },
   {
    "duration": 11,
    "start_time": "2023-02-18T06:23:22.149Z"
   },
   {
    "duration": 243,
    "start_time": "2023-02-18T06:23:22.162Z"
   },
   {
    "duration": 11,
    "start_time": "2023-02-18T06:23:22.406Z"
   },
   {
    "duration": 263,
    "start_time": "2023-02-18T06:23:22.419Z"
   },
   {
    "duration": 161,
    "start_time": "2023-02-18T06:23:22.684Z"
   },
   {
    "duration": 380,
    "start_time": "2023-02-18T06:23:22.847Z"
   },
   {
    "duration": 413,
    "start_time": "2023-02-18T06:23:23.228Z"
   },
   {
    "duration": 454,
    "start_time": "2023-02-18T06:23:23.643Z"
   },
   {
    "duration": 7,
    "start_time": "2023-02-18T06:23:24.099Z"
   },
   {
    "duration": 8,
    "start_time": "2023-02-18T06:23:24.108Z"
   },
   {
    "duration": 7,
    "start_time": "2023-02-18T06:23:24.118Z"
   },
   {
    "duration": 22,
    "start_time": "2023-02-18T06:23:24.127Z"
   },
   {
    "duration": 9,
    "start_time": "2023-02-18T06:23:24.150Z"
   },
   {
    "duration": 8,
    "start_time": "2023-02-18T06:23:24.161Z"
   },
   {
    "duration": 252,
    "start_time": "2023-02-18T06:25:55.960Z"
   },
   {
    "duration": 54,
    "start_time": "2023-02-18T06:34:55.439Z"
   },
   {
    "duration": 50,
    "start_time": "2023-02-18T06:38:02.523Z"
   },
   {
    "duration": 42,
    "start_time": "2023-02-18T06:45:59.411Z"
   },
   {
    "duration": 46,
    "start_time": "2023-02-18T06:48:27.478Z"
   },
   {
    "duration": 5,
    "start_time": "2023-02-18T06:50:55.122Z"
   },
   {
    "duration": 60,
    "start_time": "2023-02-18T06:50:55.129Z"
   },
   {
    "duration": 20,
    "start_time": "2023-02-18T06:50:55.191Z"
   },
   {
    "duration": 19,
    "start_time": "2023-02-18T06:50:55.213Z"
   },
   {
    "duration": 21,
    "start_time": "2023-02-18T06:50:55.234Z"
   },
   {
    "duration": 10,
    "start_time": "2023-02-18T06:50:55.258Z"
   },
   {
    "duration": 15,
    "start_time": "2023-02-18T06:50:55.270Z"
   },
   {
    "duration": 12,
    "start_time": "2023-02-18T06:50:55.287Z"
   },
   {
    "duration": 7,
    "start_time": "2023-02-18T06:50:57.990Z"
   },
   {
    "duration": 4,
    "start_time": "2023-02-18T06:51:49.659Z"
   },
   {
    "duration": 49,
    "start_time": "2023-02-18T06:51:49.665Z"
   },
   {
    "duration": 18,
    "start_time": "2023-02-18T06:51:49.717Z"
   },
   {
    "duration": 5,
    "start_time": "2023-02-18T06:51:49.736Z"
   },
   {
    "duration": 14,
    "start_time": "2023-02-18T06:51:49.742Z"
   },
   {
    "duration": 7,
    "start_time": "2023-02-18T06:51:49.758Z"
   },
   {
    "duration": 8,
    "start_time": "2023-02-18T06:51:49.767Z"
   },
   {
    "duration": 12,
    "start_time": "2023-02-18T06:51:49.776Z"
   },
   {
    "duration": 8,
    "start_time": "2023-02-18T06:51:49.789Z"
   },
   {
    "duration": 6,
    "start_time": "2023-02-18T06:51:49.798Z"
   },
   {
    "duration": 5,
    "start_time": "2023-02-18T06:51:49.806Z"
   },
   {
    "duration": 36,
    "start_time": "2023-02-18T06:51:49.813Z"
   },
   {
    "duration": 12,
    "start_time": "2023-02-18T06:51:49.851Z"
   },
   {
    "duration": 4,
    "start_time": "2023-02-18T06:51:49.864Z"
   },
   {
    "duration": 7,
    "start_time": "2023-02-18T06:51:49.869Z"
   },
   {
    "duration": 10,
    "start_time": "2023-02-18T06:51:49.877Z"
   },
   {
    "duration": 14,
    "start_time": "2023-02-18T06:51:49.888Z"
   },
   {
    "duration": 18,
    "start_time": "2023-02-18T06:51:49.903Z"
   },
   {
    "duration": 35,
    "start_time": "2023-02-18T06:51:49.922Z"
   },
   {
    "duration": 5,
    "start_time": "2023-02-18T06:51:49.959Z"
   },
   {
    "duration": 9,
    "start_time": "2023-02-18T06:51:49.966Z"
   },
   {
    "duration": 5,
    "start_time": "2023-02-18T06:51:49.977Z"
   },
   {
    "duration": 9,
    "start_time": "2023-02-18T06:51:49.984Z"
   },
   {
    "duration": 13,
    "start_time": "2023-02-18T06:51:49.995Z"
   },
   {
    "duration": 10,
    "start_time": "2023-02-18T06:51:50.010Z"
   },
   {
    "duration": 29,
    "start_time": "2023-02-18T06:51:50.021Z"
   },
   {
    "duration": 4,
    "start_time": "2023-02-18T06:51:50.051Z"
   },
   {
    "duration": 10,
    "start_time": "2023-02-18T06:51:50.056Z"
   },
   {
    "duration": 7,
    "start_time": "2023-02-18T06:51:50.069Z"
   },
   {
    "duration": 16,
    "start_time": "2023-02-18T06:51:50.077Z"
   },
   {
    "duration": 12,
    "start_time": "2023-02-18T06:51:50.094Z"
   },
   {
    "duration": 14,
    "start_time": "2023-02-18T06:51:50.108Z"
   },
   {
    "duration": 25,
    "start_time": "2023-02-18T06:51:50.124Z"
   },
   {
    "duration": 17,
    "start_time": "2023-02-18T06:51:50.150Z"
   },
   {
    "duration": 135,
    "start_time": "2023-02-18T06:51:50.168Z"
   },
   {
    "duration": 250,
    "start_time": "2023-02-18T06:51:50.305Z"
   },
   {
    "duration": 13,
    "start_time": "2023-02-18T06:51:50.557Z"
   },
   {
    "duration": 8,
    "start_time": "2023-02-18T06:51:50.572Z"
   },
   {
    "duration": 235,
    "start_time": "2023-02-18T06:51:50.581Z"
   },
   {
    "duration": 6,
    "start_time": "2023-02-18T06:51:50.817Z"
   },
   {
    "duration": 6,
    "start_time": "2023-02-18T06:51:50.824Z"
   },
   {
    "duration": 23,
    "start_time": "2023-02-18T06:51:50.832Z"
   },
   {
    "duration": 239,
    "start_time": "2023-02-18T06:51:50.856Z"
   },
   {
    "duration": 236,
    "start_time": "2023-02-18T06:51:51.096Z"
   },
   {
    "duration": 16,
    "start_time": "2023-02-18T06:51:51.333Z"
   },
   {
    "duration": 262,
    "start_time": "2023-02-18T06:51:51.350Z"
   },
   {
    "duration": 11,
    "start_time": "2023-02-18T06:51:51.613Z"
   },
   {
    "duration": 247,
    "start_time": "2023-02-18T06:51:51.626Z"
   },
   {
    "duration": 11,
    "start_time": "2023-02-18T06:51:51.875Z"
   },
   {
    "duration": 245,
    "start_time": "2023-02-18T06:51:51.888Z"
   },
   {
    "duration": 14,
    "start_time": "2023-02-18T06:51:52.135Z"
   },
   {
    "duration": 393,
    "start_time": "2023-02-18T06:51:52.151Z"
   },
   {
    "duration": 150,
    "start_time": "2023-02-18T06:51:52.548Z"
   },
   {
    "duration": 283,
    "start_time": "2023-02-18T06:51:52.700Z"
   },
   {
    "duration": 380,
    "start_time": "2023-02-18T06:51:52.984Z"
   },
   {
    "duration": 412,
    "start_time": "2023-02-18T06:51:53.366Z"
   },
   {
    "duration": 323,
    "start_time": "2023-02-18T06:51:53.779Z"
   },
   {
    "duration": 7,
    "start_time": "2023-02-18T06:51:54.104Z"
   },
   {
    "duration": 25,
    "start_time": "2023-02-18T06:51:54.112Z"
   },
   {
    "duration": 29,
    "start_time": "2023-02-18T06:51:54.138Z"
   },
   {
    "duration": 13,
    "start_time": "2023-02-18T06:51:54.169Z"
   },
   {
    "duration": 9,
    "start_time": "2023-02-18T06:51:54.183Z"
   },
   {
    "duration": 6,
    "start_time": "2023-02-18T06:51:54.194Z"
   }
  ],
  "kernelspec": {
   "display_name": "Python 3 (ipykernel)",
   "language": "python",
   "name": "python3"
  },
  "language_info": {
   "codemirror_mode": {
    "name": "ipython",
    "version": 3
   },
   "file_extension": ".py",
   "mimetype": "text/x-python",
   "name": "python",
   "nbconvert_exporter": "python",
   "pygments_lexer": "ipython3",
   "version": "3.9.13"
  },
  "toc": {
   "base_numbering": 1,
   "nav_menu": {},
   "number_sections": true,
   "sideBar": true,
   "skip_h1_title": true,
   "title_cell": "Table of Contents",
   "title_sidebar": "Contents",
   "toc_cell": false,
   "toc_position": {
    "height": "calc(100% - 180px)",
    "left": "10px",
    "top": "150px",
    "width": "356.594px"
   },
   "toc_section_display": true,
   "toc_window_display": true
  }
 },
 "nbformat": 4,
 "nbformat_minor": 4
}

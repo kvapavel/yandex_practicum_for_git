{
 "cells": [
  {
   "cell_type": "markdown",
   "metadata": {},
   "source": [
    "<font color='blue' size=4><b>Комментарий тимлида</b></font>\n",
    "\n",
    "<font color='blue'>Привет, Павел! Меня зовут Денис Абрашин. Рад проверить твою работу. Предлагаю общаться на «ты». Если тебе по душе другой стиль обращения, просто измени \"настройки\" ниже. Они вступят в силу в следующий раз:</font>"
   ]
  },
  {
   "cell_type": "markdown",
   "metadata": {},
   "source": [
    "- [x] общение на \"ты\"\n",
    "- [ ] общение на \"вы\""
   ]
  },
  {
   "cell_type": "markdown",
   "metadata": {},
   "source": [
    "<font color='blue'>✨ Поздравляю с началом работы над финальным проектом! Мне уже не терпится взглянуть на твой блокнот в деталях, но в начале давай условимся об оформлении проверки, чтобы она была более наглядной и понятной. Для этого я буду использовать различные цвета и значки:</font>\n",
    "\n",
    "<div class=\"alert alert-block alert-success\">\n",
    "✔️ <b>Зеленый текст</b> - все отлично\n",
    "</div>\n",
    "\n",
    "<div class=\"alert alert-block alert-warning\">\n",
    "⚠️ <b>Желтый текст</b> - сделано все правильно, однако есть рекомендации, на что стоит обратить внимание\n",
    "</div>\n",
    "\n",
    "<div class=\"alert alert-block alert-danger\">\n",
    "❌ <b>Красный текст</b> - есть недочеты, которые следует исправить для усвоения правильных навыков и зачета работы\n",
    "</div>\n",
    "\n",
    "---\n",
    "\n",
    "<font color='blue'>Пожалуйста, не удаляй мои комментарии в случае возврата работы, так будет проще разобраться, какие были недочеты, и как они были исправлены.</font>\n",
    "\n",
    "Ответы на мои комментарии при необходимости лучше тоже помечать вот так:\n",
    "\n",
    "<div class=\"alert alert-block alert-info\">\n",
    "<b>Комментарий разработчика:</b> \n",
    "Текст комментария, вопроса, объяснения, пожелания\n",
    "</div>\n",
    "\n",
    "Для этого просто добавь в блокнот ячейку markdown следующего вида:\n",
    "```html\n",
    "<div class=\"alert alert-block alert-info\">\n",
    "<b>Комментарий студента:</b> \n",
    "Текст комментария, вопроса, объяснения, пожелания\n",
    "</div>\n",
    "```\n",
    "\n",
    "<font color='blue'><b>Вперёд к новым успехам! Каждый может!</b></font>"
   ]
  },
  {
   "cell_type": "markdown",
   "metadata": {},
   "source": [
    "## Описание проекта: телекоммуникации"
   ]
  },
  {
   "cell_type": "markdown",
   "metadata": {},
   "source": [
    "Оператор связи «Ниединогоразрыва.ком» хочет научиться прогнозировать отток клиентов. Если выяснится, что пользователь планирует уйти, ему будут предложены промокоды и специальные условия. Команда оператора собрала персональные данные о некоторых клиентах, информацию об их тарифах и договорах."
   ]
  },
  {
   "cell_type": "markdown",
   "metadata": {},
   "source": [
    "**Описание услуг**\n",
    "\n",
    "Оператор предоставляет два основных типа услуг: \n",
    "1. Стационарную телефонную связь. Возможно подключение телефонного аппарата к нескольким линиям одновременно.\n",
    "2. Интернет. Подключение может быть двух типов: через телефонную линию (DSL, от англ. `digital subscriber line`, «цифровая абонентская линия») или оптоволоконный кабель (`Fiber optic`).\n",
    "\n",
    "\n",
    "Также доступны такие услуги:\n",
    "\n",
    "* Интернет-безопасность: антивирус (`DeviceProtection`) и блокировка небезопасных сайтов (`OnlineSecurity`);\n",
    "* Выделенная линия технической поддержки (`TechSupport`);\n",
    "* Облачное хранилище файлов для резервного копирования данных (`OnlineBackup`);\n",
    "* Стриминговое телевидение (`StreamingTV`) и каталог фильмов (`StreamingMovies`).\n",
    "* За услуги клиенты могут платить каждый месяц или заключить договор на 1–2 года. Доступны различные способы расчёта и возможность получения электронного чека."
   ]
  },
  {
   "cell_type": "markdown",
   "metadata": {},
   "source": [
    "***Описание данных***\n",
    "\n",
    "Данные состоят из файлов, полученных из разных источников:\n",
    "\n",
    "* `contract_new.csv` — информация о договоре;\n",
    "    - BeginDate - дата начала пользования услугами\n",
    "    - EndDate - дата окончания пользования услугами\n",
    "    - Type - тип договора: ежемесячный, годовой и т.д\n",
    "    - PaperlessBilling - выставления счёта по электронной почте\n",
    "    - PaymentMethod - способ оплаты\n",
    "    - MonthlyCharges - ежемесячные траты на услуги\n",
    "    - TotalCharges - всего потрачено денег на услуги\n",
    "* `personal_new.csv` — персональные данные клиента;\n",
    "    - gender - пол\n",
    "    - SeniorCitizen - наличие пенсионного статуса по возрасту\n",
    "    - Partner - наличие супруга/супруги\n",
    "    - Dependents - наличие иждивенцев\n",
    "* `internet_new.csv` — информация об интернет-услугах;\n",
    "    - InternetService - наличие услуг Интернет\n",
    "    - OnlineSecurity - межсетевой экран\n",
    "    - OnlineBackup - облачное хранилище файлов для резервного копирования данных\n",
    "    - DeviceProtection - антивирус\n",
    "    - TechSupport - выделенная линия технической поддержки\n",
    "    - StreamingTV - онлайн-ТВ\n",
    "    - StreamingMovies - онлайн-кинотеатр\n",
    "* `phone_new.csv` — информация об услугах телефонии.\n",
    "    - MultipleLines - возможность подключения телефонного аппарата к нескольким линиям одновременно\n",
    "\n",
    "Во всех файлах столбец `customerID` содержит код клиента.\n",
    "\n",
    "Информация о договорах актуальна на 1 февраля 2020."
   ]
  },
  {
   "cell_type": "markdown",
   "metadata": {},
   "source": [
    "<div class=\"alert alert-block alert-success\">\n",
    "✔️ <b>Ревью 1</b>: Здорово, что в блокноте есть подробное описание задачи, которое облегчает погружение в предметную область.\n",
    "</div>"
   ]
  },
  {
   "cell_type": "markdown",
   "metadata": {},
   "source": [
    "## План работы"
   ]
  },
  {
   "cell_type": "markdown",
   "metadata": {},
   "source": [
    "1. Загрузка и ознакомление с данными.\n",
    "   - Проверка форматов данных.\n",
    "   - Проверка на дубли.\n",
    "   - Проверка на пропуски.\n",
    "2. Исследование и предобработка данных.\n",
    "   - Изменение форматов данных.\n",
    "   - Заполнение пропусков.\n",
    "   - Выделение целевого признака.\n",
    "   - Добавление синтетических признаков.\n",
    "   - Объединение данных.\n",
    "   - Анализ выбросов и аномалий.\n",
    "   - Проверка корреляции признаков.\n",
    "5. Разработка модели.\n",
    "   - Подготовка признаков и разделение выборки.\n",
    "   - Обучение моделей.\n",
    "     - Логистическая регрессия.\n",
    "     - Случайный лес.\n",
    "     - Бустинг (LightGBM or Catboost)\n",
    "6. Тестирование и анализ лучшей модели.\n",
    "   - Анализ метрик.\n",
    "   - Анализ важности признаков.\n",
    "7. Итоговый отчёт."
   ]
  },
  {
   "cell_type": "markdown",
   "metadata": {},
   "source": [
    "<div class=\"alert alert-block alert-success\">\n",
    "✔️ <b>Ревью 1</b>: План мне понятен. Хорошо, что к обучению запланированы три модели.\n",
    "</div>"
   ]
  },
  {
   "cell_type": "markdown",
   "metadata": {},
   "source": [
    "<div class=\"alert alert-block alert-warning\">\n",
    "⚠️ <b>Ревью 1</b>: По пункту \"Подготовка признаков и разделение выборки\" на всякий случай напомню, что кодирование признаков нужно делать после разделения на выборки и лучше в конвейере.\n",
    "</div>"
   ]
  },
  {
   "cell_type": "code",
   "execution_count": 1,
   "metadata": {},
   "outputs": [
    {
     "name": "stdout",
     "output_type": "stream",
     "text": [
      "Requirement already satisfied: phik in c:\\anaconda3\\lib\\site-packages (0.12.3)\n",
      "Requirement already satisfied: numpy>=1.18.0 in c:\\anaconda3\\lib\\site-packages (from phik) (1.21.5)\n",
      "Requirement already satisfied: scipy>=1.5.2 in c:\\anaconda3\\lib\\site-packages (from phik) (1.7.3)\n",
      "Requirement already satisfied: pandas>=0.25.1 in c:\\anaconda3\\lib\\site-packages (from phik) (1.4.2)\n",
      "Requirement already satisfied: matplotlib>=2.2.3 in c:\\anaconda3\\lib\\site-packages (from phik) (3.5.1)\n",
      "Requirement already satisfied: joblib>=0.14.1 in c:\\anaconda3\\lib\\site-packages (from phik) (1.1.0)\n",
      "Requirement already satisfied: cycler>=0.10 in c:\\anaconda3\\lib\\site-packages (from matplotlib>=2.2.3->phik) (0.11.0)\n",
      "Requirement already satisfied: fonttools>=4.22.0 in c:\\anaconda3\\lib\\site-packages (from matplotlib>=2.2.3->phik) (4.25.0)\n",
      "Requirement already satisfied: kiwisolver>=1.0.1 in c:\\anaconda3\\lib\\site-packages (from matplotlib>=2.2.3->phik) (1.3.2)\n",
      "Requirement already satisfied: packaging>=20.0 in c:\\anaconda3\\lib\\site-packages (from matplotlib>=2.2.3->phik) (21.3)\n",
      "Requirement already satisfied: pillow>=6.2.0 in c:\\anaconda3\\lib\\site-packages (from matplotlib>=2.2.3->phik) (9.5.0)\n",
      "Requirement already satisfied: pyparsing>=2.2.1 in c:\\anaconda3\\lib\\site-packages (from matplotlib>=2.2.3->phik) (3.0.4)\n",
      "Requirement already satisfied: python-dateutil>=2.7 in c:\\anaconda3\\lib\\site-packages (from matplotlib>=2.2.3->phik) (2.8.2)\n",
      "Requirement already satisfied: pytz>=2020.1 in c:\\anaconda3\\lib\\site-packages (from pandas>=0.25.1->phik) (2021.3)\n",
      "Requirement already satisfied: six>=1.5 in c:\\anaconda3\\lib\\site-packages (from python-dateutil>=2.7->matplotlib>=2.2.3->phik) (1.16.0)\n"
     ]
    },
    {
     "name": "stderr",
     "output_type": "stream",
     "text": [
      "WARNING: Ignoring invalid distribution -illow (c:\\anaconda3\\lib\\site-packages)\n",
      "WARNING: Ignoring invalid distribution -illow (c:\\anaconda3\\lib\\site-packages)\n",
      "\n",
      "[notice] A new release of pip is available: 23.1.2 -> 23.2.1\n",
      "[notice] To update, run: python.exe -m pip install --upgrade pip\n"
     ]
    }
   ],
   "source": [
    "!pip install phik"
   ]
  },
  {
   "cell_type": "code",
   "execution_count": 2,
   "metadata": {},
   "outputs": [
    {
     "name": "stdout",
     "output_type": "stream",
     "text": [
      "Requirement already satisfied: shap in c:\\anaconda3\\lib\\site-packages (0.42.1)\n",
      "Requirement already satisfied: numpy in c:\\anaconda3\\lib\\site-packages (from shap) (1.21.5)\n",
      "Requirement already satisfied: scipy in c:\\anaconda3\\lib\\site-packages (from shap) (1.7.3)\n",
      "Requirement already satisfied: scikit-learn in c:\\anaconda3\\lib\\site-packages (from shap) (1.0.2)\n",
      "Requirement already satisfied: pandas in c:\\anaconda3\\lib\\site-packages (from shap) (1.4.2)\n",
      "Requirement already satisfied: tqdm>=4.27.0 in c:\\anaconda3\\lib\\site-packages (from shap) (4.64.0)\n",
      "Requirement already satisfied: packaging>20.9 in c:\\anaconda3\\lib\\site-packages (from shap) (21.3)\n",
      "Requirement already satisfied: slicer==0.0.7 in c:\\anaconda3\\lib\\site-packages (from shap) (0.0.7)\n",
      "Requirement already satisfied: numba in c:\\anaconda3\\lib\\site-packages (from shap) (0.55.1)\n",
      "Requirement already satisfied: cloudpickle in c:\\anaconda3\\lib\\site-packages (from shap) (2.0.0)\n",
      "Requirement already satisfied: pyparsing!=3.0.5,>=2.0.2 in c:\\anaconda3\\lib\\site-packages (from packaging>20.9->shap) (3.0.4)\n",
      "Requirement already satisfied: colorama in c:\\anaconda3\\lib\\site-packages (from tqdm>=4.27.0->shap) (0.4.6)\n",
      "Requirement already satisfied: llvmlite<0.39,>=0.38.0rc1 in c:\\anaconda3\\lib\\site-packages (from numba->shap) (0.38.0)\n",
      "Requirement already satisfied: setuptools in c:\\anaconda3\\lib\\site-packages (from numba->shap) (61.2.0)\n",
      "Requirement already satisfied: python-dateutil>=2.8.1 in c:\\anaconda3\\lib\\site-packages (from pandas->shap) (2.8.2)\n",
      "Requirement already satisfied: pytz>=2020.1 in c:\\anaconda3\\lib\\site-packages (from pandas->shap) (2021.3)\n",
      "Requirement already satisfied: joblib>=0.11 in c:\\anaconda3\\lib\\site-packages (from scikit-learn->shap) (1.1.0)\n",
      "Requirement already satisfied: threadpoolctl>=2.0.0 in c:\\anaconda3\\lib\\site-packages (from scikit-learn->shap) (2.2.0)\n",
      "Requirement already satisfied: six>=1.5 in c:\\anaconda3\\lib\\site-packages (from python-dateutil>=2.8.1->pandas->shap) (1.16.0)\n"
     ]
    },
    {
     "name": "stderr",
     "output_type": "stream",
     "text": [
      "WARNING: Ignoring invalid distribution -illow (c:\\anaconda3\\lib\\site-packages)\n",
      "WARNING: Ignoring invalid distribution -illow (c:\\anaconda3\\lib\\site-packages)\n",
      "\n",
      "[notice] A new release of pip is available: 23.1.2 -> 23.2.1\n",
      "[notice] To update, run: python.exe -m pip install --upgrade pip\n"
     ]
    }
   ],
   "source": [
    "!pip install shap"
   ]
  },
  {
   "cell_type": "code",
   "execution_count": 3,
   "metadata": {},
   "outputs": [
    {
     "name": "stderr",
     "output_type": "stream",
     "text": [
      "Using `tqdm.autonotebook.tqdm` in notebook mode. Use `tqdm.tqdm` instead to force console mode (e.g. in jupyter console)\n"
     ]
    }
   ],
   "source": [
    "#Библиотеки\n",
    "import pandas as pd\n",
    "import seaborn as sns\n",
    "import numpy as np\n",
    "import matplotlib.pyplot as plt\n",
    "\n",
    "\n",
    "#Инструменты\n",
    "from sklearn.model_selection import (\n",
    "    GridSearchCV, \n",
    "    train_test_split\n",
    ")\n",
    "from sklearn.preprocessing import (\n",
    "    OneHotEncoder,\n",
    "    OrdinalEncoder,\n",
    "    StandardScaler\n",
    ")\n",
    "from sklearn.compose import make_column_transformer\n",
    "from sklearn.pipeline import make_pipeline\n",
    "from tqdm import tqdm\n",
    "import phik\n",
    "from phik.report import plot_correlation_matrix\n",
    "import shap\n",
    "\n",
    "\n",
    "#Модели\n",
    "from sklearn.linear_model import LogisticRegression\n",
    "from sklearn.ensemble import RandomForestClassifier\n",
    "from catboost import CatBoostClassifier\n",
    "\n",
    "\n",
    "\n",
    "#метрики\n",
    "from sklearn.metrics import (\n",
    "    f1_score,\n",
    "    roc_auc_score,\n",
    "    roc_curve,\n",
    "    accuracy_score,\n",
    "    confusion_matrix\n",
    ")\n",
    "\n",
    "\n",
    "# отключить некритические предупреждения в коде\n",
    "import warnings\n",
    "warnings.filterwarnings(\"ignore\")\n",
    "\n",
    "\n",
    "RANDOM_STATE = 310723"
   ]
  },
  {
   "cell_type": "code",
   "execution_count": 4,
   "metadata": {},
   "outputs": [],
   "source": [
    "try:\n",
    "    contract = pd.read_csv('/datasets/contract_new.csv')\n",
    "    personal = pd.read_csv('/datasets/personal_new.csv')\n",
    "    internet = pd.read_csv('/datasets/internet_new.csv')\n",
    "    phone = pd.read_csv('/datasets/phone_new.csv')\n",
    "    \n",
    "except:\n",
    "    contract = pd.read_csv('https://code.s3.yandex.net/datasets/contract_new.csv')\n",
    "    personal = pd.read_csv('https://code.s3.yandex.net/datasets/personal_new.csv')\n",
    "    internet = pd.read_csv('https://code.s3.yandex.net/datasets/internet_new.csv')\n",
    "    phone = pd.read_csv('https://code.s3.yandex.net/datasets/phone_new.csv')"
   ]
  },
  {
   "cell_type": "markdown",
   "metadata": {},
   "source": [
    "<div class=\"alert alert-block alert-success\">\n",
    "✔️ <b>Ревью 1</b>: Загрузка даных выполнена верно.\n",
    "</div>"
   ]
  },
  {
   "cell_type": "markdown",
   "metadata": {},
   "source": [
    "## Загрузка и ознакомление с данными"
   ]
  },
  {
   "cell_type": "markdown",
   "metadata": {},
   "source": [
    "### Информация о договоре (contract)"
   ]
  },
  {
   "cell_type": "code",
   "execution_count": 5,
   "metadata": {},
   "outputs": [
    {
     "data": {
      "text/html": [
       "<div>\n",
       "<style scoped>\n",
       "    .dataframe tbody tr th:only-of-type {\n",
       "        vertical-align: middle;\n",
       "    }\n",
       "\n",
       "    .dataframe tbody tr th {\n",
       "        vertical-align: top;\n",
       "    }\n",
       "\n",
       "    .dataframe thead th {\n",
       "        text-align: right;\n",
       "    }\n",
       "</style>\n",
       "<table border=\"1\" class=\"dataframe\">\n",
       "  <thead>\n",
       "    <tr style=\"text-align: right;\">\n",
       "      <th></th>\n",
       "      <th>customerID</th>\n",
       "      <th>BeginDate</th>\n",
       "      <th>EndDate</th>\n",
       "      <th>Type</th>\n",
       "      <th>PaperlessBilling</th>\n",
       "      <th>PaymentMethod</th>\n",
       "      <th>MonthlyCharges</th>\n",
       "      <th>TotalCharges</th>\n",
       "    </tr>\n",
       "  </thead>\n",
       "  <tbody>\n",
       "    <tr>\n",
       "      <th>0</th>\n",
       "      <td>7590-VHVEG</td>\n",
       "      <td>2020-01-01</td>\n",
       "      <td>No</td>\n",
       "      <td>Month-to-month</td>\n",
       "      <td>Yes</td>\n",
       "      <td>Electronic check</td>\n",
       "      <td>29.85</td>\n",
       "      <td>31.04</td>\n",
       "    </tr>\n",
       "    <tr>\n",
       "      <th>1</th>\n",
       "      <td>5575-GNVDE</td>\n",
       "      <td>2017-04-01</td>\n",
       "      <td>No</td>\n",
       "      <td>One year</td>\n",
       "      <td>No</td>\n",
       "      <td>Mailed check</td>\n",
       "      <td>56.95</td>\n",
       "      <td>2071.84</td>\n",
       "    </tr>\n",
       "    <tr>\n",
       "      <th>2</th>\n",
       "      <td>3668-QPYBK</td>\n",
       "      <td>2019-10-01</td>\n",
       "      <td>No</td>\n",
       "      <td>Month-to-month</td>\n",
       "      <td>Yes</td>\n",
       "      <td>Mailed check</td>\n",
       "      <td>53.85</td>\n",
       "      <td>226.17</td>\n",
       "    </tr>\n",
       "  </tbody>\n",
       "</table>\n",
       "</div>"
      ],
      "text/plain": [
       "   customerID   BeginDate EndDate            Type PaperlessBilling  \\\n",
       "0  7590-VHVEG  2020-01-01      No  Month-to-month              Yes   \n",
       "1  5575-GNVDE  2017-04-01      No        One year               No   \n",
       "2  3668-QPYBK  2019-10-01      No  Month-to-month              Yes   \n",
       "\n",
       "      PaymentMethod  MonthlyCharges TotalCharges  \n",
       "0  Electronic check           29.85        31.04  \n",
       "1      Mailed check           56.95      2071.84  \n",
       "2      Mailed check           53.85       226.17  "
      ]
     },
     "execution_count": 5,
     "metadata": {},
     "output_type": "execute_result"
    }
   ],
   "source": [
    "contract.head(3)"
   ]
  },
  {
   "cell_type": "code",
   "execution_count": 6,
   "metadata": {},
   "outputs": [
    {
     "name": "stdout",
     "output_type": "stream",
     "text": [
      "<class 'pandas.core.frame.DataFrame'>\n",
      "RangeIndex: 7043 entries, 0 to 7042\n",
      "Data columns (total 8 columns):\n",
      " #   Column            Non-Null Count  Dtype  \n",
      "---  ------            --------------  -----  \n",
      " 0   customerID        7043 non-null   object \n",
      " 1   BeginDate         7043 non-null   object \n",
      " 2   EndDate           7043 non-null   object \n",
      " 3   Type              7043 non-null   object \n",
      " 4   PaperlessBilling  7043 non-null   object \n",
      " 5   PaymentMethod     7043 non-null   object \n",
      " 6   MonthlyCharges    7043 non-null   float64\n",
      " 7   TotalCharges      7043 non-null   object \n",
      "dtypes: float64(1), object(7)\n",
      "memory usage: 440.3+ KB\n"
     ]
    }
   ],
   "source": [
    "contract.info()"
   ]
  },
  {
   "cell_type": "code",
   "execution_count": 7,
   "metadata": {},
   "outputs": [
    {
     "data": {
      "text/html": [
       "<div>\n",
       "<style scoped>\n",
       "    .dataframe tbody tr th:only-of-type {\n",
       "        vertical-align: middle;\n",
       "    }\n",
       "\n",
       "    .dataframe tbody tr th {\n",
       "        vertical-align: top;\n",
       "    }\n",
       "\n",
       "    .dataframe thead th {\n",
       "        text-align: right;\n",
       "    }\n",
       "</style>\n",
       "<table border=\"1\" class=\"dataframe\">\n",
       "  <thead>\n",
       "    <tr style=\"text-align: right;\">\n",
       "      <th></th>\n",
       "      <th>MonthlyCharges</th>\n",
       "    </tr>\n",
       "  </thead>\n",
       "  <tbody>\n",
       "    <tr>\n",
       "      <th>count</th>\n",
       "      <td>7043.000000</td>\n",
       "    </tr>\n",
       "    <tr>\n",
       "      <th>mean</th>\n",
       "      <td>64.761692</td>\n",
       "    </tr>\n",
       "    <tr>\n",
       "      <th>std</th>\n",
       "      <td>30.090047</td>\n",
       "    </tr>\n",
       "    <tr>\n",
       "      <th>min</th>\n",
       "      <td>18.250000</td>\n",
       "    </tr>\n",
       "    <tr>\n",
       "      <th>25%</th>\n",
       "      <td>35.500000</td>\n",
       "    </tr>\n",
       "    <tr>\n",
       "      <th>50%</th>\n",
       "      <td>70.350000</td>\n",
       "    </tr>\n",
       "    <tr>\n",
       "      <th>75%</th>\n",
       "      <td>89.850000</td>\n",
       "    </tr>\n",
       "    <tr>\n",
       "      <th>max</th>\n",
       "      <td>118.750000</td>\n",
       "    </tr>\n",
       "  </tbody>\n",
       "</table>\n",
       "</div>"
      ],
      "text/plain": [
       "       MonthlyCharges\n",
       "count     7043.000000\n",
       "mean        64.761692\n",
       "std         30.090047\n",
       "min         18.250000\n",
       "25%         35.500000\n",
       "50%         70.350000\n",
       "75%         89.850000\n",
       "max        118.750000"
      ]
     },
     "execution_count": 7,
     "metadata": {},
     "output_type": "execute_result"
    }
   ],
   "source": [
    "contract.describe()"
   ]
  },
  {
   "cell_type": "code",
   "execution_count": 8,
   "metadata": {},
   "outputs": [
    {
     "name": "stdout",
     "output_type": "stream",
     "text": [
      "Мы имеем данные за период с 2013-10-01 по 2020-02-01\n"
     ]
    }
   ],
   "source": [
    "mindate = contract['BeginDate'].min()\n",
    "maxdate = contract['BeginDate'].max()\n",
    "print(f'Мы имеем данные за период с {mindate} по {maxdate}')"
   ]
  },
  {
   "cell_type": "code",
   "execution_count": 9,
   "metadata": {},
   "outputs": [
    {
     "name": "stdout",
     "output_type": "stream",
     "text": [
      "Кол-во полных дублей равно 0, кол-во дублей по коду клиента равно 0\n"
     ]
    }
   ],
   "source": [
    "dubl_all = contract.duplicated().sum()\n",
    "dubl_id = contract['customerID'].duplicated().sum()\n",
    "print(f'Кол-во полных дублей равно {dubl_all}, кол-во дублей по коду клиента равно {dubl_id}')"
   ]
  },
  {
   "cell_type": "code",
   "execution_count": 10,
   "metadata": {},
   "outputs": [
    {
     "data": {
      "text/plain": [
       "No            5942\n",
       "2020-01-01      39\n",
       "2019-12-01      38\n",
       "2018-11-01      35\n",
       "2019-09-01      32\n",
       "              ... \n",
       "2014-09-01       2\n",
       "2014-12-01       2\n",
       "2014-06-01       1\n",
       "2014-10-01       1\n",
       "2014-11-01       1\n",
       "Name: EndDate, Length: 67, dtype: int64"
      ]
     },
     "execution_count": 10,
     "metadata": {},
     "output_type": "execute_result"
    }
   ],
   "source": [
    "contract['EndDate'].value_counts()"
   ]
  },
  {
   "cell_type": "code",
   "execution_count": 11,
   "metadata": {},
   "outputs": [
    {
     "data": {
      "text/plain": [
       "Month-to-month    3875\n",
       "Two year          1695\n",
       "One year          1473\n",
       "Name: Type, dtype: int64"
      ]
     },
     "execution_count": 11,
     "metadata": {},
     "output_type": "execute_result"
    }
   ],
   "source": [
    "contract['Type'].value_counts()"
   ]
  },
  {
   "cell_type": "code",
   "execution_count": 12,
   "metadata": {},
   "outputs": [
    {
     "data": {
      "text/plain": [
       "Yes    4171\n",
       "No     2872\n",
       "Name: PaperlessBilling, dtype: int64"
      ]
     },
     "execution_count": 12,
     "metadata": {},
     "output_type": "execute_result"
    }
   ],
   "source": [
    "contract['PaperlessBilling'].value_counts()"
   ]
  },
  {
   "cell_type": "code",
   "execution_count": 13,
   "metadata": {},
   "outputs": [
    {
     "data": {
      "text/plain": [
       "Electronic check             2365\n",
       "Mailed check                 1612\n",
       "Bank transfer (automatic)    1544\n",
       "Credit card (automatic)      1522\n",
       "Name: PaymentMethod, dtype: int64"
      ]
     },
     "execution_count": 13,
     "metadata": {},
     "output_type": "execute_result"
    }
   ],
   "source": [
    "contract['PaymentMethod'].value_counts()"
   ]
  },
  {
   "cell_type": "code",
   "execution_count": 14,
   "metadata": {},
   "outputs": [
    {
     "data": {
      "text/plain": [
       "20.05     61\n",
       "19.85     45\n",
       "19.95     44\n",
       "19.90     44\n",
       "20.00     43\n",
       "          ..\n",
       "23.65      1\n",
       "114.70     1\n",
       "43.65      1\n",
       "87.80      1\n",
       "78.70      1\n",
       "Name: MonthlyCharges, Length: 1585, dtype: int64"
      ]
     },
     "execution_count": 14,
     "metadata": {},
     "output_type": "execute_result"
    }
   ],
   "source": [
    "contract['MonthlyCharges'].value_counts()"
   ]
  },
  {
   "cell_type": "markdown",
   "metadata": {},
   "source": [
    "<div class=\"alert alert-block alert-success\">\n",
    "✔️ <b>Ревью 1</b>: Хорошо, что изучаешь уникальные значения."
   ]
  },
  {
   "cell_type": "markdown",
   "metadata": {},
   "source": [
    "<div class=\"alert alert-block alert-warning\">\n",
    "⚠️ <b>Ревью 1</b>: Иногда повторяющиеся операции, например, вывод информации о столбце, лучше оформить в цикле и/или с функцией.\n",
    "</div>"
   ]
  },
  {
   "cell_type": "code",
   "execution_count": 15,
   "metadata": {},
   "outputs": [
    {
     "data": {
      "image/png": "[encoded data removed]",
      "text/plain": [
       "<Figure size 432x288 with 1 Axes>"
      ]
     },
     "metadata": {
      "needs_background": "light"
     },
     "output_type": "display_data"
    }
   ],
   "source": [
    "sns.histplot(contract['MonthlyCharges'])\n",
    "plt.title('Распределение значений месячных трат')\n",
    "plt.xlabel('Месячные траты')\n",
    "plt.ylabel('Частота появления в датасете');"
   ]
  },
  {
   "cell_type": "code",
   "execution_count": 16,
   "metadata": {},
   "outputs": [
    {
     "data": {
      "text/plain": [
       "           11\n",
       "20.45       6\n",
       "101.0       5\n",
       "21.53       4\n",
       "40.1        4\n",
       "           ..\n",
       "4357.5      1\n",
       "3509.55     1\n",
       "2530.8      1\n",
       "2599.1      1\n",
       "7251.82     1\n",
       "Name: TotalCharges, Length: 6658, dtype: int64"
      ]
     },
     "execution_count": 16,
     "metadata": {},
     "output_type": "execute_result"
    }
   ],
   "source": [
    "contract['TotalCharges'].value_counts()"
   ]
  },
  {
   "cell_type": "markdown",
   "metadata": {},
   "source": [
    "<div class=\"alert alert-block alert-warning\">\n",
    "⚠️ <b>Ревью 1</b>: На распределение TotalCharges было бы тоже интересно взглянуть. Есть ли выбросы в числовых признаках? Не пройтись ли по ним потом с помощью RobustScaler?\n",
    "</div>"
   ]
  },
  {
   "cell_type": "markdown",
   "metadata": {},
   "source": [
    "***Вывод:***\n",
    "- Поля BeginDate, EndDate, `TotalCharges` имеют не оптимальный формат.\n",
    "- Явных и неявных дублей в данных нет.\n",
    "- в поле `TotalCharges` есть неявные пропуски, которые необходимо будет заполнить.\n",
    "- На основе поля `EndDate` мы будем формировать целевой признак, для обучения модели."
   ]
  },
  {
   "cell_type": "markdown",
   "metadata": {},
   "source": [
    "<div class=\"alert alert-block alert-success\">\n",
    "✔️ <b>Ревью 1</b>: Хорошее наблюдение неявного пропуска.\n",
    "</div>"
   ]
  },
  {
   "cell_type": "markdown",
   "metadata": {},
   "source": [
    "### Персональные данные клиента (personal)"
   ]
  },
  {
   "cell_type": "code",
   "execution_count": 17,
   "metadata": {},
   "outputs": [
    {
     "data": {
      "text/html": [
       "<div>\n",
       "<style scoped>\n",
       "    .dataframe tbody tr th:only-of-type {\n",
       "        vertical-align: middle;\n",
       "    }\n",
       "\n",
       "    .dataframe tbody tr th {\n",
       "        vertical-align: top;\n",
       "    }\n",
       "\n",
       "    .dataframe thead th {\n",
       "        text-align: right;\n",
       "    }\n",
       "</style>\n",
       "<table border=\"1\" class=\"dataframe\">\n",
       "  <thead>\n",
       "    <tr style=\"text-align: right;\">\n",
       "      <th></th>\n",
       "      <th>customerID</th>\n",
       "      <th>gender</th>\n",
       "      <th>SeniorCitizen</th>\n",
       "      <th>Partner</th>\n",
       "      <th>Dependents</th>\n",
       "    </tr>\n",
       "  </thead>\n",
       "  <tbody>\n",
       "    <tr>\n",
       "      <th>0</th>\n",
       "      <td>7590-VHVEG</td>\n",
       "      <td>Female</td>\n",
       "      <td>0</td>\n",
       "      <td>Yes</td>\n",
       "      <td>No</td>\n",
       "    </tr>\n",
       "    <tr>\n",
       "      <th>1</th>\n",
       "      <td>5575-GNVDE</td>\n",
       "      <td>Male</td>\n",
       "      <td>0</td>\n",
       "      <td>No</td>\n",
       "      <td>No</td>\n",
       "    </tr>\n",
       "    <tr>\n",
       "      <th>2</th>\n",
       "      <td>3668-QPYBK</td>\n",
       "      <td>Male</td>\n",
       "      <td>0</td>\n",
       "      <td>No</td>\n",
       "      <td>No</td>\n",
       "    </tr>\n",
       "  </tbody>\n",
       "</table>\n",
       "</div>"
      ],
      "text/plain": [
       "   customerID  gender  SeniorCitizen Partner Dependents\n",
       "0  7590-VHVEG  Female              0     Yes         No\n",
       "1  5575-GNVDE    Male              0      No         No\n",
       "2  3668-QPYBK    Male              0      No         No"
      ]
     },
     "execution_count": 17,
     "metadata": {},
     "output_type": "execute_result"
    }
   ],
   "source": [
    "personal.head(3)"
   ]
  },
  {
   "cell_type": "code",
   "execution_count": 18,
   "metadata": {},
   "outputs": [
    {
     "name": "stdout",
     "output_type": "stream",
     "text": [
      "<class 'pandas.core.frame.DataFrame'>\n",
      "RangeIndex: 7043 entries, 0 to 7042\n",
      "Data columns (total 5 columns):\n",
      " #   Column         Non-Null Count  Dtype \n",
      "---  ------         --------------  ----- \n",
      " 0   customerID     7043 non-null   object\n",
      " 1   gender         7043 non-null   object\n",
      " 2   SeniorCitizen  7043 non-null   int64 \n",
      " 3   Partner        7043 non-null   object\n",
      " 4   Dependents     7043 non-null   object\n",
      "dtypes: int64(1), object(4)\n",
      "memory usage: 275.2+ KB\n"
     ]
    }
   ],
   "source": [
    "personal.info()"
   ]
  },
  {
   "cell_type": "code",
   "execution_count": 19,
   "metadata": {},
   "outputs": [
    {
     "data": {
      "text/html": [
       "<div>\n",
       "<style scoped>\n",
       "    .dataframe tbody tr th:only-of-type {\n",
       "        vertical-align: middle;\n",
       "    }\n",
       "\n",
       "    .dataframe tbody tr th {\n",
       "        vertical-align: top;\n",
       "    }\n",
       "\n",
       "    .dataframe thead th {\n",
       "        text-align: right;\n",
       "    }\n",
       "</style>\n",
       "<table border=\"1\" class=\"dataframe\">\n",
       "  <thead>\n",
       "    <tr style=\"text-align: right;\">\n",
       "      <th></th>\n",
       "      <th>SeniorCitizen</th>\n",
       "    </tr>\n",
       "  </thead>\n",
       "  <tbody>\n",
       "    <tr>\n",
       "      <th>count</th>\n",
       "      <td>7043.000000</td>\n",
       "    </tr>\n",
       "    <tr>\n",
       "      <th>mean</th>\n",
       "      <td>0.162147</td>\n",
       "    </tr>\n",
       "    <tr>\n",
       "      <th>std</th>\n",
       "      <td>0.368612</td>\n",
       "    </tr>\n",
       "    <tr>\n",
       "      <th>min</th>\n",
       "      <td>0.000000</td>\n",
       "    </tr>\n",
       "    <tr>\n",
       "      <th>25%</th>\n",
       "      <td>0.000000</td>\n",
       "    </tr>\n",
       "    <tr>\n",
       "      <th>50%</th>\n",
       "      <td>0.000000</td>\n",
       "    </tr>\n",
       "    <tr>\n",
       "      <th>75%</th>\n",
       "      <td>0.000000</td>\n",
       "    </tr>\n",
       "    <tr>\n",
       "      <th>max</th>\n",
       "      <td>1.000000</td>\n",
       "    </tr>\n",
       "  </tbody>\n",
       "</table>\n",
       "</div>"
      ],
      "text/plain": [
       "       SeniorCitizen\n",
       "count    7043.000000\n",
       "mean        0.162147\n",
       "std         0.368612\n",
       "min         0.000000\n",
       "25%         0.000000\n",
       "50%         0.000000\n",
       "75%         0.000000\n",
       "max         1.000000"
      ]
     },
     "execution_count": 19,
     "metadata": {},
     "output_type": "execute_result"
    }
   ],
   "source": [
    "personal.describe()"
   ]
  },
  {
   "cell_type": "code",
   "execution_count": 20,
   "metadata": {},
   "outputs": [
    {
     "name": "stdout",
     "output_type": "stream",
     "text": [
      "Кол-во полных дублей равно 0, кол-во дублей по коду клиента равно 0\n"
     ]
    }
   ],
   "source": [
    "dubl_all = personal.duplicated().sum()\n",
    "dubl_id = personal['customerID'].duplicated().sum()\n",
    "print(f'Кол-во полных дублей равно {dubl_all}, кол-во дублей по коду клиента равно {dubl_id}')"
   ]
  },
  {
   "cell_type": "code",
   "execution_count": 21,
   "metadata": {},
   "outputs": [
    {
     "data": {
      "text/plain": [
       "Male      3555\n",
       "Female    3488\n",
       "Name: gender, dtype: int64"
      ]
     },
     "execution_count": 21,
     "metadata": {},
     "output_type": "execute_result"
    }
   ],
   "source": [
    "personal['gender'].value_counts()"
   ]
  },
  {
   "cell_type": "code",
   "execution_count": 22,
   "metadata": {},
   "outputs": [
    {
     "data": {
      "text/plain": [
       "0    5901\n",
       "1    1142\n",
       "Name: SeniorCitizen, dtype: int64"
      ]
     },
     "execution_count": 22,
     "metadata": {},
     "output_type": "execute_result"
    }
   ],
   "source": [
    "personal['SeniorCitizen'].value_counts()"
   ]
  },
  {
   "cell_type": "markdown",
   "metadata": {},
   "source": [
    "<div class=\"alert alert-block alert-warning\">\n",
    "⚠️ <b>Ревью 1</b>: Обращает на себя внимение этот категориальный признак. Вернуть бы его к виду, как у других бинарных признаков (Yes/No).\n",
    "</div>"
   ]
  },
  {
   "cell_type": "code",
   "execution_count": 23,
   "metadata": {},
   "outputs": [
    {
     "data": {
      "text/plain": [
       "No     3641\n",
       "Yes    3402\n",
       "Name: Partner, dtype: int64"
      ]
     },
     "execution_count": 23,
     "metadata": {},
     "output_type": "execute_result"
    }
   ],
   "source": [
    "personal['Partner'].value_counts()"
   ]
  },
  {
   "cell_type": "code",
   "execution_count": 24,
   "metadata": {},
   "outputs": [
    {
     "data": {
      "text/plain": [
       "No     4933\n",
       "Yes    2110\n",
       "Name: Dependents, dtype: int64"
      ]
     },
     "execution_count": 24,
     "metadata": {},
     "output_type": "execute_result"
    }
   ],
   "source": [
    "personal['Dependents'].value_counts()"
   ]
  },
  {
   "cell_type": "markdown",
   "metadata": {},
   "source": [
    "***Вывод:***\n",
    "- в таблице с персональнами данными явные и неявные дубли отсутствуют.\n",
    "- явных и неявных пропущенных значений также нет."
   ]
  },
  {
   "cell_type": "markdown",
   "metadata": {},
   "source": [
    "### Информация об интернет-услугах (internet)"
   ]
  },
  {
   "cell_type": "code",
   "execution_count": 25,
   "metadata": {},
   "outputs": [
    {
     "data": {
      "text/html": [
       "<div>\n",
       "<style scoped>\n",
       "    .dataframe tbody tr th:only-of-type {\n",
       "        vertical-align: middle;\n",
       "    }\n",
       "\n",
       "    .dataframe tbody tr th {\n",
       "        vertical-align: top;\n",
       "    }\n",
       "\n",
       "    .dataframe thead th {\n",
       "        text-align: right;\n",
       "    }\n",
       "</style>\n",
       "<table border=\"1\" class=\"dataframe\">\n",
       "  <thead>\n",
       "    <tr style=\"text-align: right;\">\n",
       "      <th></th>\n",
       "      <th>customerID</th>\n",
       "      <th>InternetService</th>\n",
       "      <th>OnlineSecurity</th>\n",
       "      <th>OnlineBackup</th>\n",
       "      <th>DeviceProtection</th>\n",
       "      <th>TechSupport</th>\n",
       "      <th>StreamingTV</th>\n",
       "      <th>StreamingMovies</th>\n",
       "    </tr>\n",
       "  </thead>\n",
       "  <tbody>\n",
       "    <tr>\n",
       "      <th>0</th>\n",
       "      <td>7590-VHVEG</td>\n",
       "      <td>DSL</td>\n",
       "      <td>No</td>\n",
       "      <td>Yes</td>\n",
       "      <td>No</td>\n",
       "      <td>No</td>\n",
       "      <td>No</td>\n",
       "      <td>No</td>\n",
       "    </tr>\n",
       "    <tr>\n",
       "      <th>1</th>\n",
       "      <td>5575-GNVDE</td>\n",
       "      <td>DSL</td>\n",
       "      <td>Yes</td>\n",
       "      <td>No</td>\n",
       "      <td>Yes</td>\n",
       "      <td>No</td>\n",
       "      <td>No</td>\n",
       "      <td>No</td>\n",
       "    </tr>\n",
       "    <tr>\n",
       "      <th>2</th>\n",
       "      <td>3668-QPYBK</td>\n",
       "      <td>DSL</td>\n",
       "      <td>Yes</td>\n",
       "      <td>Yes</td>\n",
       "      <td>No</td>\n",
       "      <td>No</td>\n",
       "      <td>No</td>\n",
       "      <td>No</td>\n",
       "    </tr>\n",
       "  </tbody>\n",
       "</table>\n",
       "</div>"
      ],
      "text/plain": [
       "   customerID InternetService OnlineSecurity OnlineBackup DeviceProtection  \\\n",
       "0  7590-VHVEG             DSL             No          Yes               No   \n",
       "1  5575-GNVDE             DSL            Yes           No              Yes   \n",
       "2  3668-QPYBK             DSL            Yes          Yes               No   \n",
       "\n",
       "  TechSupport StreamingTV StreamingMovies  \n",
       "0          No          No              No  \n",
       "1          No          No              No  \n",
       "2          No          No              No  "
      ]
     },
     "execution_count": 25,
     "metadata": {},
     "output_type": "execute_result"
    }
   ],
   "source": [
    "internet.head(3)"
   ]
  },
  {
   "cell_type": "code",
   "execution_count": 26,
   "metadata": {},
   "outputs": [
    {
     "name": "stdout",
     "output_type": "stream",
     "text": [
      "<class 'pandas.core.frame.DataFrame'>\n",
      "RangeIndex: 5517 entries, 0 to 5516\n",
      "Data columns (total 8 columns):\n",
      " #   Column            Non-Null Count  Dtype \n",
      "---  ------            --------------  ----- \n",
      " 0   customerID        5517 non-null   object\n",
      " 1   InternetService   5517 non-null   object\n",
      " 2   OnlineSecurity    5517 non-null   object\n",
      " 3   OnlineBackup      5517 non-null   object\n",
      " 4   DeviceProtection  5517 non-null   object\n",
      " 5   TechSupport       5517 non-null   object\n",
      " 6   StreamingTV       5517 non-null   object\n",
      " 7   StreamingMovies   5517 non-null   object\n",
      "dtypes: object(8)\n",
      "memory usage: 344.9+ KB\n"
     ]
    }
   ],
   "source": [
    "internet.info()"
   ]
  },
  {
   "cell_type": "code",
   "execution_count": 27,
   "metadata": {},
   "outputs": [
    {
     "name": "stdout",
     "output_type": "stream",
     "text": [
      "Кол-во полных дублей равно 0, кол-во дублей по коду клиента равно 0\n"
     ]
    }
   ],
   "source": [
    "dubl_all = internet.duplicated().sum()\n",
    "dubl_id = internet['customerID'].duplicated().sum()\n",
    "print(f'Кол-во полных дублей равно {dubl_all}, кол-во дублей по коду клиента равно {dubl_id}')"
   ]
  },
  {
   "cell_type": "code",
   "execution_count": 28,
   "metadata": {},
   "outputs": [
    {
     "data": {
      "text/plain": [
       "Fiber optic    3096\n",
       "DSL            2421\n",
       "Name: InternetService, dtype: int64"
      ]
     },
     "execution_count": 28,
     "metadata": {},
     "output_type": "execute_result"
    }
   ],
   "source": [
    "internet['InternetService'].value_counts()"
   ]
  },
  {
   "cell_type": "code",
   "execution_count": 29,
   "metadata": {},
   "outputs": [
    {
     "data": {
      "text/plain": [
       "No     3498\n",
       "Yes    2019\n",
       "Name: OnlineSecurity, dtype: int64"
      ]
     },
     "execution_count": 29,
     "metadata": {},
     "output_type": "execute_result"
    }
   ],
   "source": [
    "internet['OnlineSecurity'].value_counts()"
   ]
  },
  {
   "cell_type": "code",
   "execution_count": 30,
   "metadata": {},
   "outputs": [
    {
     "data": {
      "text/plain": [
       "No     3088\n",
       "Yes    2429\n",
       "Name: OnlineBackup, dtype: int64"
      ]
     },
     "execution_count": 30,
     "metadata": {},
     "output_type": "execute_result"
    }
   ],
   "source": [
    "internet['OnlineBackup'].value_counts()"
   ]
  },
  {
   "cell_type": "code",
   "execution_count": 31,
   "metadata": {},
   "outputs": [
    {
     "data": {
      "text/plain": [
       "No     3095\n",
       "Yes    2422\n",
       "Name: DeviceProtection, dtype: int64"
      ]
     },
     "execution_count": 31,
     "metadata": {},
     "output_type": "execute_result"
    }
   ],
   "source": [
    "internet['DeviceProtection'].value_counts()"
   ]
  },
  {
   "cell_type": "code",
   "execution_count": 32,
   "metadata": {},
   "outputs": [
    {
     "data": {
      "text/plain": [
       "No     3473\n",
       "Yes    2044\n",
       "Name: TechSupport, dtype: int64"
      ]
     },
     "execution_count": 32,
     "metadata": {},
     "output_type": "execute_result"
    }
   ],
   "source": [
    "internet['TechSupport'].value_counts()"
   ]
  },
  {
   "cell_type": "code",
   "execution_count": 33,
   "metadata": {},
   "outputs": [
    {
     "data": {
      "text/plain": [
       "No     2810\n",
       "Yes    2707\n",
       "Name: StreamingTV, dtype: int64"
      ]
     },
     "execution_count": 33,
     "metadata": {},
     "output_type": "execute_result"
    }
   ],
   "source": [
    "internet['StreamingTV'].value_counts()"
   ]
  },
  {
   "cell_type": "code",
   "execution_count": 34,
   "metadata": {},
   "outputs": [
    {
     "data": {
      "text/plain": [
       "No     2785\n",
       "Yes    2732\n",
       "Name: StreamingMovies, dtype: int64"
      ]
     },
     "execution_count": 34,
     "metadata": {},
     "output_type": "execute_result"
    }
   ],
   "source": [
    "internet['StreamingMovies'].value_counts()"
   ]
  },
  {
   "cell_type": "markdown",
   "metadata": {},
   "source": [
    "***Вывод:***\n",
    "- в таблице с информацией об интернет услугах явные и неявные дубли отсутствуют.\n",
    "- явных и неявных пропущенных значений также нет."
   ]
  },
  {
   "cell_type": "markdown",
   "metadata": {},
   "source": [
    "###  Информация об услугах телефонии (phone)"
   ]
  },
  {
   "cell_type": "code",
   "execution_count": 35,
   "metadata": {},
   "outputs": [
    {
     "data": {
      "text/html": [
       "<div>\n",
       "<style scoped>\n",
       "    .dataframe tbody tr th:only-of-type {\n",
       "        vertical-align: middle;\n",
       "    }\n",
       "\n",
       "    .dataframe tbody tr th {\n",
       "        vertical-align: top;\n",
       "    }\n",
       "\n",
       "    .dataframe thead th {\n",
       "        text-align: right;\n",
       "    }\n",
       "</style>\n",
       "<table border=\"1\" class=\"dataframe\">\n",
       "  <thead>\n",
       "    <tr style=\"text-align: right;\">\n",
       "      <th></th>\n",
       "      <th>customerID</th>\n",
       "      <th>MultipleLines</th>\n",
       "    </tr>\n",
       "  </thead>\n",
       "  <tbody>\n",
       "    <tr>\n",
       "      <th>0</th>\n",
       "      <td>5575-GNVDE</td>\n",
       "      <td>No</td>\n",
       "    </tr>\n",
       "    <tr>\n",
       "      <th>1</th>\n",
       "      <td>3668-QPYBK</td>\n",
       "      <td>No</td>\n",
       "    </tr>\n",
       "    <tr>\n",
       "      <th>2</th>\n",
       "      <td>9237-HQITU</td>\n",
       "      <td>No</td>\n",
       "    </tr>\n",
       "  </tbody>\n",
       "</table>\n",
       "</div>"
      ],
      "text/plain": [
       "   customerID MultipleLines\n",
       "0  5575-GNVDE            No\n",
       "1  3668-QPYBK            No\n",
       "2  9237-HQITU            No"
      ]
     },
     "execution_count": 35,
     "metadata": {},
     "output_type": "execute_result"
    }
   ],
   "source": [
    "phone.head(3)"
   ]
  },
  {
   "cell_type": "code",
   "execution_count": 36,
   "metadata": {},
   "outputs": [
    {
     "name": "stdout",
     "output_type": "stream",
     "text": [
      "<class 'pandas.core.frame.DataFrame'>\n",
      "RangeIndex: 6361 entries, 0 to 6360\n",
      "Data columns (total 2 columns):\n",
      " #   Column         Non-Null Count  Dtype \n",
      "---  ------         --------------  ----- \n",
      " 0   customerID     6361 non-null   object\n",
      " 1   MultipleLines  6361 non-null   object\n",
      "dtypes: object(2)\n",
      "memory usage: 99.5+ KB\n"
     ]
    }
   ],
   "source": [
    "phone.info()"
   ]
  },
  {
   "cell_type": "code",
   "execution_count": 37,
   "metadata": {},
   "outputs": [
    {
     "name": "stdout",
     "output_type": "stream",
     "text": [
      "Кол-во полных дублей равно 0, кол-во дублей по коду клиента равно 0\n"
     ]
    }
   ],
   "source": [
    "dubl_all = phone.duplicated().sum()\n",
    "dubl_id = phone['customerID'].duplicated().sum()\n",
    "print(f'Кол-во полных дублей равно {dubl_all}, кол-во дублей по коду клиента равно {dubl_id}')"
   ]
  },
  {
   "cell_type": "code",
   "execution_count": 38,
   "metadata": {},
   "outputs": [
    {
     "data": {
      "text/plain": [
       "No     3390\n",
       "Yes    2971\n",
       "Name: MultipleLines, dtype: int64"
      ]
     },
     "execution_count": 38,
     "metadata": {},
     "output_type": "execute_result"
    }
   ],
   "source": [
    "phone['MultipleLines'].value_counts()"
   ]
  },
  {
   "cell_type": "markdown",
   "metadata": {},
   "source": [
    "***Вывод:***\n",
    "- в таблице с информацией об услугах телефонии явные и неявные дубли отсутствуют.\n",
    "- явных и неявных пропущенных значений также нет."
   ]
  },
  {
   "cell_type": "markdown",
   "metadata": {},
   "source": [
    "**Общий вывод:**\n",
    "\n",
    "- Поля BeginDate, EndDate, TotalCharges имеют не оптимальный формат.\n",
    "- Явных и неявных дублей в данных нет.\n",
    "- В поле TotalCharges есть неявные пропуски, которые необходимо будет заполнить.\n",
    "- На основе поля EndDate мы будем формировать целевой признак, для обучения модели."
   ]
  },
  {
   "cell_type": "markdown",
   "metadata": {},
   "source": [
    "<div class=\"alert alert-block alert-success\">\n",
    "✔️ <b>Ревью 1</b>: Согласен с промежуточными выводами.\n",
    "</div>"
   ]
  },
  {
   "cell_type": "markdown",
   "metadata": {},
   "source": [
    "## Исследование и предобработка данных."
   ]
  },
  {
   "cell_type": "markdown",
   "metadata": {},
   "source": [
    "### Изменение форматов данных. Заполнение пропусков."
   ]
  },
  {
   "cell_type": "code",
   "execution_count": 39,
   "metadata": {},
   "outputs": [],
   "source": [
    "#приводим названия столбцов к нижнему регистру\n",
    "df_all = [contract, personal, internet, phone]\n",
    "for df in df_all:\n",
    "    df.columns = df.columns.str.lower()"
   ]
  },
  {
   "cell_type": "markdown",
   "metadata": {},
   "source": [
    "Посмотрим, в каких строках есть неявные пропуски в поле totalcharges."
   ]
  },
  {
   "cell_type": "code",
   "execution_count": 40,
   "metadata": {},
   "outputs": [
    {
     "data": {
      "text/html": [
       "<div>\n",
       "<style scoped>\n",
       "    .dataframe tbody tr th:only-of-type {\n",
       "        vertical-align: middle;\n",
       "    }\n",
       "\n",
       "    .dataframe tbody tr th {\n",
       "        vertical-align: top;\n",
       "    }\n",
       "\n",
       "    .dataframe thead th {\n",
       "        text-align: right;\n",
       "    }\n",
       "</style>\n",
       "<table border=\"1\" class=\"dataframe\">\n",
       "  <thead>\n",
       "    <tr style=\"text-align: right;\">\n",
       "      <th></th>\n",
       "      <th>customerid</th>\n",
       "      <th>begindate</th>\n",
       "      <th>enddate</th>\n",
       "      <th>type</th>\n",
       "      <th>paperlessbilling</th>\n",
       "      <th>paymentmethod</th>\n",
       "      <th>monthlycharges</th>\n",
       "      <th>totalcharges</th>\n",
       "    </tr>\n",
       "  </thead>\n",
       "  <tbody>\n",
       "    <tr>\n",
       "      <th>488</th>\n",
       "      <td>4472-LVYGI</td>\n",
       "      <td>2020-02-01</td>\n",
       "      <td>No</td>\n",
       "      <td>Two year</td>\n",
       "      <td>Yes</td>\n",
       "      <td>Bank transfer (automatic)</td>\n",
       "      <td>52.55</td>\n",
       "      <td></td>\n",
       "    </tr>\n",
       "    <tr>\n",
       "      <th>753</th>\n",
       "      <td>3115-CZMZD</td>\n",
       "      <td>2020-02-01</td>\n",
       "      <td>No</td>\n",
       "      <td>Two year</td>\n",
       "      <td>No</td>\n",
       "      <td>Mailed check</td>\n",
       "      <td>20.25</td>\n",
       "      <td></td>\n",
       "    </tr>\n",
       "    <tr>\n",
       "      <th>936</th>\n",
       "      <td>5709-LVOEQ</td>\n",
       "      <td>2020-02-01</td>\n",
       "      <td>No</td>\n",
       "      <td>Two year</td>\n",
       "      <td>No</td>\n",
       "      <td>Mailed check</td>\n",
       "      <td>80.85</td>\n",
       "      <td></td>\n",
       "    </tr>\n",
       "    <tr>\n",
       "      <th>1082</th>\n",
       "      <td>4367-NUYAO</td>\n",
       "      <td>2020-02-01</td>\n",
       "      <td>No</td>\n",
       "      <td>Two year</td>\n",
       "      <td>No</td>\n",
       "      <td>Mailed check</td>\n",
       "      <td>25.75</td>\n",
       "      <td></td>\n",
       "    </tr>\n",
       "    <tr>\n",
       "      <th>1340</th>\n",
       "      <td>1371-DWPAZ</td>\n",
       "      <td>2020-02-01</td>\n",
       "      <td>No</td>\n",
       "      <td>Two year</td>\n",
       "      <td>No</td>\n",
       "      <td>Credit card (automatic)</td>\n",
       "      <td>56.05</td>\n",
       "      <td></td>\n",
       "    </tr>\n",
       "    <tr>\n",
       "      <th>3331</th>\n",
       "      <td>7644-OMVMY</td>\n",
       "      <td>2020-02-01</td>\n",
       "      <td>No</td>\n",
       "      <td>Two year</td>\n",
       "      <td>No</td>\n",
       "      <td>Mailed check</td>\n",
       "      <td>19.85</td>\n",
       "      <td></td>\n",
       "    </tr>\n",
       "    <tr>\n",
       "      <th>3826</th>\n",
       "      <td>3213-VVOLG</td>\n",
       "      <td>2020-02-01</td>\n",
       "      <td>No</td>\n",
       "      <td>Two year</td>\n",
       "      <td>No</td>\n",
       "      <td>Mailed check</td>\n",
       "      <td>25.35</td>\n",
       "      <td></td>\n",
       "    </tr>\n",
       "    <tr>\n",
       "      <th>4380</th>\n",
       "      <td>2520-SGTTA</td>\n",
       "      <td>2020-02-01</td>\n",
       "      <td>No</td>\n",
       "      <td>Two year</td>\n",
       "      <td>No</td>\n",
       "      <td>Mailed check</td>\n",
       "      <td>20.00</td>\n",
       "      <td></td>\n",
       "    </tr>\n",
       "    <tr>\n",
       "      <th>5218</th>\n",
       "      <td>2923-ARZLG</td>\n",
       "      <td>2020-02-01</td>\n",
       "      <td>No</td>\n",
       "      <td>One year</td>\n",
       "      <td>Yes</td>\n",
       "      <td>Mailed check</td>\n",
       "      <td>19.70</td>\n",
       "      <td></td>\n",
       "    </tr>\n",
       "    <tr>\n",
       "      <th>6670</th>\n",
       "      <td>4075-WKNIU</td>\n",
       "      <td>2020-02-01</td>\n",
       "      <td>No</td>\n",
       "      <td>Two year</td>\n",
       "      <td>No</td>\n",
       "      <td>Mailed check</td>\n",
       "      <td>73.35</td>\n",
       "      <td></td>\n",
       "    </tr>\n",
       "    <tr>\n",
       "      <th>6754</th>\n",
       "      <td>2775-SEFEE</td>\n",
       "      <td>2020-02-01</td>\n",
       "      <td>No</td>\n",
       "      <td>Two year</td>\n",
       "      <td>Yes</td>\n",
       "      <td>Bank transfer (automatic)</td>\n",
       "      <td>61.90</td>\n",
       "      <td></td>\n",
       "    </tr>\n",
       "  </tbody>\n",
       "</table>\n",
       "</div>"
      ],
      "text/plain": [
       "      customerid   begindate enddate      type paperlessbilling  \\\n",
       "488   4472-LVYGI  2020-02-01      No  Two year              Yes   \n",
       "753   3115-CZMZD  2020-02-01      No  Two year               No   \n",
       "936   5709-LVOEQ  2020-02-01      No  Two year               No   \n",
       "1082  4367-NUYAO  2020-02-01      No  Two year               No   \n",
       "1340  1371-DWPAZ  2020-02-01      No  Two year               No   \n",
       "3331  7644-OMVMY  2020-02-01      No  Two year               No   \n",
       "3826  3213-VVOLG  2020-02-01      No  Two year               No   \n",
       "4380  2520-SGTTA  2020-02-01      No  Two year               No   \n",
       "5218  2923-ARZLG  2020-02-01      No  One year              Yes   \n",
       "6670  4075-WKNIU  2020-02-01      No  Two year               No   \n",
       "6754  2775-SEFEE  2020-02-01      No  Two year              Yes   \n",
       "\n",
       "                  paymentmethod  monthlycharges totalcharges  \n",
       "488   Bank transfer (automatic)           52.55               \n",
       "753                Mailed check           20.25               \n",
       "936                Mailed check           80.85               \n",
       "1082               Mailed check           25.75               \n",
       "1340    Credit card (automatic)           56.05               \n",
       "3331               Mailed check           19.85               \n",
       "3826               Mailed check           25.35               \n",
       "4380               Mailed check           20.00               \n",
       "5218               Mailed check           19.70               \n",
       "6670               Mailed check           73.35               \n",
       "6754  Bank transfer (automatic)           61.90               "
      ]
     },
     "execution_count": 40,
     "metadata": {},
     "output_type": "execute_result"
    }
   ],
   "source": [
    "contract[contract['totalcharges']==' ']"
   ]
  },
  {
   "cell_type": "markdown",
   "metadata": {},
   "source": [
    "Поскольку пропуски в строках, где дата начала (begindate) соответствует дате среза данных, то логично считать, что ещё не было расходов."
   ]
  },
  {
   "cell_type": "markdown",
   "metadata": {},
   "source": [
    "<div class=\"alert alert-block alert-success\">\n",
    "✔️ <b>Ревью 1</b>: Да, это обоснованный способ заполнения. Есть ещё вариант, если предположить, что первое число месяца - это не дата подключения, а дата отчетного периода. Тогда можно заполнить денежными суммами из другого столбца.\n",
    "</div>"
   ]
  },
  {
   "cell_type": "code",
   "execution_count": 41,
   "metadata": {},
   "outputs": [],
   "source": [
    "contract['totalcharges'] = np.where(contract['totalcharges']==' ',0,contract['totalcharges'])"
   ]
  },
  {
   "cell_type": "code",
   "execution_count": 42,
   "metadata": {},
   "outputs": [
    {
     "data": {
      "text/plain": [
       "0          11\n",
       "20.45       6\n",
       "101.0       5\n",
       "21.53       4\n",
       "40.1        4\n",
       "           ..\n",
       "4357.5      1\n",
       "3509.55     1\n",
       "2530.8      1\n",
       "2599.1      1\n",
       "7251.82     1\n",
       "Name: totalcharges, Length: 6658, dtype: int64"
      ]
     },
     "execution_count": 42,
     "metadata": {},
     "output_type": "execute_result"
    }
   ],
   "source": [
    "contract['totalcharges'].value_counts()"
   ]
  },
  {
   "cell_type": "code",
   "execution_count": 43,
   "metadata": {},
   "outputs": [],
   "source": [
    "contract['totalcharges'] = contract['totalcharges'].astype('float')\n",
    "personal['seniorcitizen'] = np.where(personal['seniorcitizen']==1,'Yes','No')"
   ]
  },
  {
   "cell_type": "markdown",
   "metadata": {},
   "source": [
    "### Выделение целевого признака."
   ]
  },
  {
   "cell_type": "markdown",
   "metadata": {},
   "source": [
    "Добавим целевую переменную на основе поля `dateend`."
   ]
  },
  {
   "cell_type": "code",
   "execution_count": 44,
   "metadata": {},
   "outputs": [],
   "source": [
    "contract['target'] = np.where(contract['enddate']=='No',0,1)"
   ]
  },
  {
   "cell_type": "code",
   "execution_count": 45,
   "metadata": {},
   "outputs": [
    {
     "data": {
      "text/html": [
       "<div>\n",
       "<style scoped>\n",
       "    .dataframe tbody tr th:only-of-type {\n",
       "        vertical-align: middle;\n",
       "    }\n",
       "\n",
       "    .dataframe tbody tr th {\n",
       "        vertical-align: top;\n",
       "    }\n",
       "\n",
       "    .dataframe thead th {\n",
       "        text-align: right;\n",
       "    }\n",
       "</style>\n",
       "<table border=\"1\" class=\"dataframe\">\n",
       "  <thead>\n",
       "    <tr style=\"text-align: right;\">\n",
       "      <th></th>\n",
       "      <th>customerid</th>\n",
       "      <th>begindate</th>\n",
       "      <th>enddate</th>\n",
       "      <th>type</th>\n",
       "      <th>paperlessbilling</th>\n",
       "      <th>paymentmethod</th>\n",
       "      <th>monthlycharges</th>\n",
       "      <th>totalcharges</th>\n",
       "      <th>target</th>\n",
       "    </tr>\n",
       "  </thead>\n",
       "  <tbody>\n",
       "    <tr>\n",
       "      <th>0</th>\n",
       "      <td>7590-VHVEG</td>\n",
       "      <td>2020-01-01</td>\n",
       "      <td>No</td>\n",
       "      <td>Month-to-month</td>\n",
       "      <td>Yes</td>\n",
       "      <td>Electronic check</td>\n",
       "      <td>29.85</td>\n",
       "      <td>31.04</td>\n",
       "      <td>0</td>\n",
       "    </tr>\n",
       "    <tr>\n",
       "      <th>1</th>\n",
       "      <td>5575-GNVDE</td>\n",
       "      <td>2017-04-01</td>\n",
       "      <td>No</td>\n",
       "      <td>One year</td>\n",
       "      <td>No</td>\n",
       "      <td>Mailed check</td>\n",
       "      <td>56.95</td>\n",
       "      <td>2071.84</td>\n",
       "      <td>0</td>\n",
       "    </tr>\n",
       "    <tr>\n",
       "      <th>2</th>\n",
       "      <td>3668-QPYBK</td>\n",
       "      <td>2019-10-01</td>\n",
       "      <td>No</td>\n",
       "      <td>Month-to-month</td>\n",
       "      <td>Yes</td>\n",
       "      <td>Mailed check</td>\n",
       "      <td>53.85</td>\n",
       "      <td>226.17</td>\n",
       "      <td>0</td>\n",
       "    </tr>\n",
       "    <tr>\n",
       "      <th>3</th>\n",
       "      <td>7795-CFOCW</td>\n",
       "      <td>2016-05-01</td>\n",
       "      <td>No</td>\n",
       "      <td>One year</td>\n",
       "      <td>No</td>\n",
       "      <td>Bank transfer (automatic)</td>\n",
       "      <td>42.30</td>\n",
       "      <td>1960.60</td>\n",
       "      <td>0</td>\n",
       "    </tr>\n",
       "    <tr>\n",
       "      <th>4</th>\n",
       "      <td>9237-HQITU</td>\n",
       "      <td>2019-09-01</td>\n",
       "      <td>No</td>\n",
       "      <td>Month-to-month</td>\n",
       "      <td>Yes</td>\n",
       "      <td>Electronic check</td>\n",
       "      <td>70.70</td>\n",
       "      <td>353.50</td>\n",
       "      <td>0</td>\n",
       "    </tr>\n",
       "  </tbody>\n",
       "</table>\n",
       "</div>"
      ],
      "text/plain": [
       "   customerid   begindate enddate            type paperlessbilling  \\\n",
       "0  7590-VHVEG  2020-01-01      No  Month-to-month              Yes   \n",
       "1  5575-GNVDE  2017-04-01      No        One year               No   \n",
       "2  3668-QPYBK  2019-10-01      No  Month-to-month              Yes   \n",
       "3  7795-CFOCW  2016-05-01      No        One year               No   \n",
       "4  9237-HQITU  2019-09-01      No  Month-to-month              Yes   \n",
       "\n",
       "               paymentmethod  monthlycharges  totalcharges  target  \n",
       "0           Electronic check           29.85         31.04       0  \n",
       "1               Mailed check           56.95       2071.84       0  \n",
       "2               Mailed check           53.85        226.17       0  \n",
       "3  Bank transfer (automatic)           42.30       1960.60       0  \n",
       "4           Electronic check           70.70        353.50       0  "
      ]
     },
     "execution_count": 45,
     "metadata": {},
     "output_type": "execute_result"
    }
   ],
   "source": [
    "contract.head()"
   ]
  },
  {
   "cell_type": "code",
   "execution_count": 46,
   "metadata": {},
   "outputs": [
    {
     "data": {
      "text/html": [
       "<div>\n",
       "<style scoped>\n",
       "    .dataframe tbody tr th:only-of-type {\n",
       "        vertical-align: middle;\n",
       "    }\n",
       "\n",
       "    .dataframe tbody tr th {\n",
       "        vertical-align: top;\n",
       "    }\n",
       "\n",
       "    .dataframe thead th {\n",
       "        text-align: right;\n",
       "    }\n",
       "</style>\n",
       "<table border=\"1\" class=\"dataframe\">\n",
       "  <thead>\n",
       "    <tr style=\"text-align: right;\">\n",
       "      <th></th>\n",
       "      <th>customerid</th>\n",
       "      <th>begindate</th>\n",
       "      <th>enddate</th>\n",
       "      <th>type</th>\n",
       "      <th>paperlessbilling</th>\n",
       "      <th>paymentmethod</th>\n",
       "      <th>monthlycharges</th>\n",
       "      <th>totalcharges</th>\n",
       "      <th>target</th>\n",
       "    </tr>\n",
       "  </thead>\n",
       "  <tbody>\n",
       "    <tr>\n",
       "      <th>9</th>\n",
       "      <td>6388-TABGU</td>\n",
       "      <td>2014-12-01</td>\n",
       "      <td>2017-05-01</td>\n",
       "      <td>One year</td>\n",
       "      <td>No</td>\n",
       "      <td>Bank transfer (automatic)</td>\n",
       "      <td>56.15</td>\n",
       "      <td>1628.35</td>\n",
       "      <td>1</td>\n",
       "    </tr>\n",
       "    <tr>\n",
       "      <th>15</th>\n",
       "      <td>3655-SNQYZ</td>\n",
       "      <td>2014-05-01</td>\n",
       "      <td>2016-03-01</td>\n",
       "      <td>Two year</td>\n",
       "      <td>No</td>\n",
       "      <td>Credit card (automatic)</td>\n",
       "      <td>113.25</td>\n",
       "      <td>2491.50</td>\n",
       "      <td>1</td>\n",
       "    </tr>\n",
       "    <tr>\n",
       "      <th>25</th>\n",
       "      <td>6865-JZNKO</td>\n",
       "      <td>2017-08-01</td>\n",
       "      <td>2018-09-01</td>\n",
       "      <td>Month-to-month</td>\n",
       "      <td>Yes</td>\n",
       "      <td>Bank transfer (automatic)</td>\n",
       "      <td>55.30</td>\n",
       "      <td>726.09</td>\n",
       "      <td>1</td>\n",
       "    </tr>\n",
       "    <tr>\n",
       "      <th>30</th>\n",
       "      <td>3841-NFECX</td>\n",
       "      <td>2014-03-01</td>\n",
       "      <td>2018-11-01</td>\n",
       "      <td>Two year</td>\n",
       "      <td>Yes</td>\n",
       "      <td>Credit card (automatic)</td>\n",
       "      <td>96.35</td>\n",
       "      <td>5395.60</td>\n",
       "      <td>1</td>\n",
       "    </tr>\n",
       "    <tr>\n",
       "      <th>35</th>\n",
       "      <td>6234-RAAPL</td>\n",
       "      <td>2014-02-01</td>\n",
       "      <td>2018-12-01</td>\n",
       "      <td>Two year</td>\n",
       "      <td>No</td>\n",
       "      <td>Bank transfer (automatic)</td>\n",
       "      <td>99.90</td>\n",
       "      <td>5794.20</td>\n",
       "      <td>1</td>\n",
       "    </tr>\n",
       "  </tbody>\n",
       "</table>\n",
       "</div>"
      ],
      "text/plain": [
       "    customerid   begindate     enddate            type paperlessbilling  \\\n",
       "9   6388-TABGU  2014-12-01  2017-05-01        One year               No   \n",
       "15  3655-SNQYZ  2014-05-01  2016-03-01        Two year               No   \n",
       "25  6865-JZNKO  2017-08-01  2018-09-01  Month-to-month              Yes   \n",
       "30  3841-NFECX  2014-03-01  2018-11-01        Two year              Yes   \n",
       "35  6234-RAAPL  2014-02-01  2018-12-01        Two year               No   \n",
       "\n",
       "                paymentmethod  monthlycharges  totalcharges  target  \n",
       "9   Bank transfer (automatic)           56.15       1628.35       1  \n",
       "15    Credit card (automatic)          113.25       2491.50       1  \n",
       "25  Bank transfer (automatic)           55.30        726.09       1  \n",
       "30    Credit card (automatic)           96.35       5395.60       1  \n",
       "35  Bank transfer (automatic)           99.90       5794.20       1  "
      ]
     },
     "execution_count": 46,
     "metadata": {},
     "output_type": "execute_result"
    }
   ],
   "source": [
    "contract[contract['target']==1].head()"
   ]
  },
  {
   "cell_type": "markdown",
   "metadata": {},
   "source": [
    "<div class=\"alert alert-block alert-success\">\n",
    "✔️ <b>Ревью 1</b>: По коду целевая переменная сформирована правильно...\n",
    "</div>"
   ]
  },
  {
   "cell_type": "markdown",
   "metadata": {},
   "source": [
    "<div class=\"alert alert-block alert-warning\">\n",
    "⚠️ <b>Ревью 1</b>: ... но лучше посмотреть на примеры и первого класса.\n",
    "</div>"
   ]
  },
  {
   "cell_type": "code",
   "execution_count": 47,
   "metadata": {},
   "outputs": [
    {
     "data": {
      "text/plain": [
       "0    5942\n",
       "1    1101\n",
       "Name: target, dtype: int64"
      ]
     },
     "execution_count": 47,
     "metadata": {},
     "output_type": "execute_result"
    }
   ],
   "source": [
    "contract['target'].value_counts()"
   ]
  },
  {
   "cell_type": "markdown",
   "metadata": {},
   "source": [
    "Имеем дисбаланс классов примерно 6 к 1."
   ]
  },
  {
   "cell_type": "markdown",
   "metadata": {},
   "source": [
    "<div class=\"alert alert-block alert-success\">\n",
    "✔️ <b>Ревью 1</b>: Молодец, что обратил внимание на дисбаланс.\n",
    "</div>"
   ]
  },
  {
   "cell_type": "markdown",
   "metadata": {},
   "source": [
    "### Добавление синтетических признаков."
   ]
  },
  {
   "cell_type": "markdown",
   "metadata": {},
   "source": [
    "Поскольку целевой признак мы сформировали на основе поля `dateend`, то при обучении модели, параметр `dateend` нельзя использовать напрямую. Поэтому сформирует дополнительный признак `period_use`, который будет равняться количеству дней пользования услугами (`dateend`-`datebegin`), для этого, там где отсутствует значение `dateend`, возьмём текущую дату (дату среза данных)."
   ]
  },
  {
   "cell_type": "code",
   "execution_count": 48,
   "metadata": {},
   "outputs": [],
   "source": [
    "contract['enddate'] = np.where(contract['enddate']=='No','2020-02-01',contract['enddate'])"
   ]
  },
  {
   "cell_type": "code",
   "execution_count": 49,
   "metadata": {},
   "outputs": [
    {
     "data": {
      "text/html": [
       "<div>\n",
       "<style scoped>\n",
       "    .dataframe tbody tr th:only-of-type {\n",
       "        vertical-align: middle;\n",
       "    }\n",
       "\n",
       "    .dataframe tbody tr th {\n",
       "        vertical-align: top;\n",
       "    }\n",
       "\n",
       "    .dataframe thead th {\n",
       "        text-align: right;\n",
       "    }\n",
       "</style>\n",
       "<table border=\"1\" class=\"dataframe\">\n",
       "  <thead>\n",
       "    <tr style=\"text-align: right;\">\n",
       "      <th></th>\n",
       "      <th>customerid</th>\n",
       "      <th>begindate</th>\n",
       "      <th>enddate</th>\n",
       "      <th>type</th>\n",
       "      <th>paperlessbilling</th>\n",
       "      <th>paymentmethod</th>\n",
       "      <th>monthlycharges</th>\n",
       "      <th>totalcharges</th>\n",
       "      <th>target</th>\n",
       "    </tr>\n",
       "  </thead>\n",
       "  <tbody>\n",
       "    <tr>\n",
       "      <th>0</th>\n",
       "      <td>7590-VHVEG</td>\n",
       "      <td>2020-01-01</td>\n",
       "      <td>2020-02-01</td>\n",
       "      <td>Month-to-month</td>\n",
       "      <td>Yes</td>\n",
       "      <td>Electronic check</td>\n",
       "      <td>29.85</td>\n",
       "      <td>31.04</td>\n",
       "      <td>0</td>\n",
       "    </tr>\n",
       "    <tr>\n",
       "      <th>1</th>\n",
       "      <td>5575-GNVDE</td>\n",
       "      <td>2017-04-01</td>\n",
       "      <td>2020-02-01</td>\n",
       "      <td>One year</td>\n",
       "      <td>No</td>\n",
       "      <td>Mailed check</td>\n",
       "      <td>56.95</td>\n",
       "      <td>2071.84</td>\n",
       "      <td>0</td>\n",
       "    </tr>\n",
       "    <tr>\n",
       "      <th>2</th>\n",
       "      <td>3668-QPYBK</td>\n",
       "      <td>2019-10-01</td>\n",
       "      <td>2020-02-01</td>\n",
       "      <td>Month-to-month</td>\n",
       "      <td>Yes</td>\n",
       "      <td>Mailed check</td>\n",
       "      <td>53.85</td>\n",
       "      <td>226.17</td>\n",
       "      <td>0</td>\n",
       "    </tr>\n",
       "    <tr>\n",
       "      <th>3</th>\n",
       "      <td>7795-CFOCW</td>\n",
       "      <td>2016-05-01</td>\n",
       "      <td>2020-02-01</td>\n",
       "      <td>One year</td>\n",
       "      <td>No</td>\n",
       "      <td>Bank transfer (automatic)</td>\n",
       "      <td>42.30</td>\n",
       "      <td>1960.60</td>\n",
       "      <td>0</td>\n",
       "    </tr>\n",
       "    <tr>\n",
       "      <th>4</th>\n",
       "      <td>9237-HQITU</td>\n",
       "      <td>2019-09-01</td>\n",
       "      <td>2020-02-01</td>\n",
       "      <td>Month-to-month</td>\n",
       "      <td>Yes</td>\n",
       "      <td>Electronic check</td>\n",
       "      <td>70.70</td>\n",
       "      <td>353.50</td>\n",
       "      <td>0</td>\n",
       "    </tr>\n",
       "  </tbody>\n",
       "</table>\n",
       "</div>"
      ],
      "text/plain": [
       "   customerid   begindate     enddate            type paperlessbilling  \\\n",
       "0  7590-VHVEG  2020-01-01  2020-02-01  Month-to-month              Yes   \n",
       "1  5575-GNVDE  2017-04-01  2020-02-01        One year               No   \n",
       "2  3668-QPYBK  2019-10-01  2020-02-01  Month-to-month              Yes   \n",
       "3  7795-CFOCW  2016-05-01  2020-02-01        One year               No   \n",
       "4  9237-HQITU  2019-09-01  2020-02-01  Month-to-month              Yes   \n",
       "\n",
       "               paymentmethod  monthlycharges  totalcharges  target  \n",
       "0           Electronic check           29.85         31.04       0  \n",
       "1               Mailed check           56.95       2071.84       0  \n",
       "2               Mailed check           53.85        226.17       0  \n",
       "3  Bank transfer (automatic)           42.30       1960.60       0  \n",
       "4           Electronic check           70.70        353.50       0  "
      ]
     },
     "execution_count": 49,
     "metadata": {},
     "output_type": "execute_result"
    }
   ],
   "source": [
    "contract.head()"
   ]
  },
  {
   "cell_type": "code",
   "execution_count": 50,
   "metadata": {},
   "outputs": [],
   "source": [
    "contract['begindate'] = pd.to_datetime(contract['begindate'])\n",
    "contract['enddate'] = pd.to_datetime(contract['enddate'])"
   ]
  },
  {
   "cell_type": "code",
   "execution_count": 51,
   "metadata": {},
   "outputs": [],
   "source": [
    "contract['period_use'] = (contract['enddate'] - contract['begindate']).astype('timedelta64[D]')"
   ]
  },
  {
   "cell_type": "code",
   "execution_count": 52,
   "metadata": {},
   "outputs": [
    {
     "data": {
      "text/html": [
       "<div>\n",
       "<style scoped>\n",
       "    .dataframe tbody tr th:only-of-type {\n",
       "        vertical-align: middle;\n",
       "    }\n",
       "\n",
       "    .dataframe tbody tr th {\n",
       "        vertical-align: top;\n",
       "    }\n",
       "\n",
       "    .dataframe thead th {\n",
       "        text-align: right;\n",
       "    }\n",
       "</style>\n",
       "<table border=\"1\" class=\"dataframe\">\n",
       "  <thead>\n",
       "    <tr style=\"text-align: right;\">\n",
       "      <th></th>\n",
       "      <th>customerid</th>\n",
       "      <th>begindate</th>\n",
       "      <th>enddate</th>\n",
       "      <th>type</th>\n",
       "      <th>paperlessbilling</th>\n",
       "      <th>paymentmethod</th>\n",
       "      <th>monthlycharges</th>\n",
       "      <th>totalcharges</th>\n",
       "      <th>target</th>\n",
       "      <th>period_use</th>\n",
       "    </tr>\n",
       "  </thead>\n",
       "  <tbody>\n",
       "    <tr>\n",
       "      <th>0</th>\n",
       "      <td>7590-VHVEG</td>\n",
       "      <td>2020-01-01</td>\n",
       "      <td>2020-02-01</td>\n",
       "      <td>Month-to-month</td>\n",
       "      <td>Yes</td>\n",
       "      <td>Electronic check</td>\n",
       "      <td>29.85</td>\n",
       "      <td>31.04</td>\n",
       "      <td>0</td>\n",
       "      <td>31.0</td>\n",
       "    </tr>\n",
       "    <tr>\n",
       "      <th>1</th>\n",
       "      <td>5575-GNVDE</td>\n",
       "      <td>2017-04-01</td>\n",
       "      <td>2020-02-01</td>\n",
       "      <td>One year</td>\n",
       "      <td>No</td>\n",
       "      <td>Mailed check</td>\n",
       "      <td>56.95</td>\n",
       "      <td>2071.84</td>\n",
       "      <td>0</td>\n",
       "      <td>1036.0</td>\n",
       "    </tr>\n",
       "    <tr>\n",
       "      <th>2</th>\n",
       "      <td>3668-QPYBK</td>\n",
       "      <td>2019-10-01</td>\n",
       "      <td>2020-02-01</td>\n",
       "      <td>Month-to-month</td>\n",
       "      <td>Yes</td>\n",
       "      <td>Mailed check</td>\n",
       "      <td>53.85</td>\n",
       "      <td>226.17</td>\n",
       "      <td>0</td>\n",
       "      <td>123.0</td>\n",
       "    </tr>\n",
       "    <tr>\n",
       "      <th>3</th>\n",
       "      <td>7795-CFOCW</td>\n",
       "      <td>2016-05-01</td>\n",
       "      <td>2020-02-01</td>\n",
       "      <td>One year</td>\n",
       "      <td>No</td>\n",
       "      <td>Bank transfer (automatic)</td>\n",
       "      <td>42.30</td>\n",
       "      <td>1960.60</td>\n",
       "      <td>0</td>\n",
       "      <td>1371.0</td>\n",
       "    </tr>\n",
       "    <tr>\n",
       "      <th>4</th>\n",
       "      <td>9237-HQITU</td>\n",
       "      <td>2019-09-01</td>\n",
       "      <td>2020-02-01</td>\n",
       "      <td>Month-to-month</td>\n",
       "      <td>Yes</td>\n",
       "      <td>Electronic check</td>\n",
       "      <td>70.70</td>\n",
       "      <td>353.50</td>\n",
       "      <td>0</td>\n",
       "      <td>153.0</td>\n",
       "    </tr>\n",
       "  </tbody>\n",
       "</table>\n",
       "</div>"
      ],
      "text/plain": [
       "   customerid  begindate    enddate            type paperlessbilling  \\\n",
       "0  7590-VHVEG 2020-01-01 2020-02-01  Month-to-month              Yes   \n",
       "1  5575-GNVDE 2017-04-01 2020-02-01        One year               No   \n",
       "2  3668-QPYBK 2019-10-01 2020-02-01  Month-to-month              Yes   \n",
       "3  7795-CFOCW 2016-05-01 2020-02-01        One year               No   \n",
       "4  9237-HQITU 2019-09-01 2020-02-01  Month-to-month              Yes   \n",
       "\n",
       "               paymentmethod  monthlycharges  totalcharges  target  period_use  \n",
       "0           Electronic check           29.85         31.04       0        31.0  \n",
       "1               Mailed check           56.95       2071.84       0      1036.0  \n",
       "2               Mailed check           53.85        226.17       0       123.0  \n",
       "3  Bank transfer (automatic)           42.30       1960.60       0      1371.0  \n",
       "4           Electronic check           70.70        353.50       0       153.0  "
      ]
     },
     "execution_count": 52,
     "metadata": {},
     "output_type": "execute_result"
    }
   ],
   "source": [
    "contract.head()"
   ]
  },
  {
   "cell_type": "markdown",
   "metadata": {},
   "source": [
    "<div class=\"alert alert-block alert-success\">\n",
    "✔️ <b>Ревью 1</b>: Новый признак действительно устраняет недостатки абсолютных дат.\n",
    "</div>"
   ]
  },
  {
   "cell_type": "code",
   "execution_count": 53,
   "metadata": {},
   "outputs": [
    {
     "name": "stdout",
     "output_type": "stream",
     "text": [
      "<class 'pandas.core.frame.DataFrame'>\n",
      "RangeIndex: 7043 entries, 0 to 7042\n",
      "Data columns (total 10 columns):\n",
      " #   Column            Non-Null Count  Dtype         \n",
      "---  ------            --------------  -----         \n",
      " 0   customerid        7043 non-null   object        \n",
      " 1   begindate         7043 non-null   datetime64[ns]\n",
      " 2   enddate           7043 non-null   datetime64[ns]\n",
      " 3   type              7043 non-null   object        \n",
      " 4   paperlessbilling  7043 non-null   object        \n",
      " 5   paymentmethod     7043 non-null   object        \n",
      " 6   monthlycharges    7043 non-null   float64       \n",
      " 7   totalcharges      7043 non-null   float64       \n",
      " 8   target            7043 non-null   int32         \n",
      " 9   period_use        7043 non-null   float64       \n",
      "dtypes: datetime64[ns](2), float64(3), int32(1), object(4)\n",
      "memory usage: 522.8+ KB\n"
     ]
    }
   ],
   "source": [
    "contract.info()"
   ]
  },
  {
   "cell_type": "markdown",
   "metadata": {},
   "source": [
    "### Объединение данных."
   ]
  },
  {
   "cell_type": "code",
   "execution_count": 54,
   "metadata": {},
   "outputs": [
    {
     "data": {
      "text/html": [
       "<div>\n",
       "<style scoped>\n",
       "    .dataframe tbody tr th:only-of-type {\n",
       "        vertical-align: middle;\n",
       "    }\n",
       "\n",
       "    .dataframe tbody tr th {\n",
       "        vertical-align: top;\n",
       "    }\n",
       "\n",
       "    .dataframe thead th {\n",
       "        text-align: right;\n",
       "    }\n",
       "</style>\n",
       "<table border=\"1\" class=\"dataframe\">\n",
       "  <thead>\n",
       "    <tr style=\"text-align: right;\">\n",
       "      <th></th>\n",
       "      <th>customerid</th>\n",
       "      <th>begindate</th>\n",
       "      <th>enddate</th>\n",
       "      <th>type</th>\n",
       "      <th>paperlessbilling</th>\n",
       "      <th>paymentmethod</th>\n",
       "      <th>monthlycharges</th>\n",
       "      <th>totalcharges</th>\n",
       "      <th>target</th>\n",
       "      <th>period_use</th>\n",
       "      <th>...</th>\n",
       "      <th>partner</th>\n",
       "      <th>dependents</th>\n",
       "      <th>internetservice</th>\n",
       "      <th>onlinesecurity</th>\n",
       "      <th>onlinebackup</th>\n",
       "      <th>deviceprotection</th>\n",
       "      <th>techsupport</th>\n",
       "      <th>streamingtv</th>\n",
       "      <th>streamingmovies</th>\n",
       "      <th>multiplelines</th>\n",
       "    </tr>\n",
       "  </thead>\n",
       "  <tbody>\n",
       "    <tr>\n",
       "      <th>0</th>\n",
       "      <td>7590-VHVEG</td>\n",
       "      <td>2020-01-01</td>\n",
       "      <td>2020-02-01</td>\n",
       "      <td>Month-to-month</td>\n",
       "      <td>Yes</td>\n",
       "      <td>Electronic check</td>\n",
       "      <td>29.85</td>\n",
       "      <td>31.04</td>\n",
       "      <td>0</td>\n",
       "      <td>31.0</td>\n",
       "      <td>...</td>\n",
       "      <td>Yes</td>\n",
       "      <td>No</td>\n",
       "      <td>DSL</td>\n",
       "      <td>No</td>\n",
       "      <td>Yes</td>\n",
       "      <td>No</td>\n",
       "      <td>No</td>\n",
       "      <td>No</td>\n",
       "      <td>No</td>\n",
       "      <td>NaN</td>\n",
       "    </tr>\n",
       "    <tr>\n",
       "      <th>1</th>\n",
       "      <td>5575-GNVDE</td>\n",
       "      <td>2017-04-01</td>\n",
       "      <td>2020-02-01</td>\n",
       "      <td>One year</td>\n",
       "      <td>No</td>\n",
       "      <td>Mailed check</td>\n",
       "      <td>56.95</td>\n",
       "      <td>2071.84</td>\n",
       "      <td>0</td>\n",
       "      <td>1036.0</td>\n",
       "      <td>...</td>\n",
       "      <td>No</td>\n",
       "      <td>No</td>\n",
       "      <td>DSL</td>\n",
       "      <td>Yes</td>\n",
       "      <td>No</td>\n",
       "      <td>Yes</td>\n",
       "      <td>No</td>\n",
       "      <td>No</td>\n",
       "      <td>No</td>\n",
       "      <td>No</td>\n",
       "    </tr>\n",
       "    <tr>\n",
       "      <th>2</th>\n",
       "      <td>3668-QPYBK</td>\n",
       "      <td>2019-10-01</td>\n",
       "      <td>2020-02-01</td>\n",
       "      <td>Month-to-month</td>\n",
       "      <td>Yes</td>\n",
       "      <td>Mailed check</td>\n",
       "      <td>53.85</td>\n",
       "      <td>226.17</td>\n",
       "      <td>0</td>\n",
       "      <td>123.0</td>\n",
       "      <td>...</td>\n",
       "      <td>No</td>\n",
       "      <td>No</td>\n",
       "      <td>DSL</td>\n",
       "      <td>Yes</td>\n",
       "      <td>Yes</td>\n",
       "      <td>No</td>\n",
       "      <td>No</td>\n",
       "      <td>No</td>\n",
       "      <td>No</td>\n",
       "      <td>No</td>\n",
       "    </tr>\n",
       "    <tr>\n",
       "      <th>3</th>\n",
       "      <td>7795-CFOCW</td>\n",
       "      <td>2016-05-01</td>\n",
       "      <td>2020-02-01</td>\n",
       "      <td>One year</td>\n",
       "      <td>No</td>\n",
       "      <td>Bank transfer (automatic)</td>\n",
       "      <td>42.30</td>\n",
       "      <td>1960.60</td>\n",
       "      <td>0</td>\n",
       "      <td>1371.0</td>\n",
       "      <td>...</td>\n",
       "      <td>No</td>\n",
       "      <td>No</td>\n",
       "      <td>DSL</td>\n",
       "      <td>Yes</td>\n",
       "      <td>No</td>\n",
       "      <td>Yes</td>\n",
       "      <td>Yes</td>\n",
       "      <td>No</td>\n",
       "      <td>No</td>\n",
       "      <td>NaN</td>\n",
       "    </tr>\n",
       "    <tr>\n",
       "      <th>4</th>\n",
       "      <td>9237-HQITU</td>\n",
       "      <td>2019-09-01</td>\n",
       "      <td>2020-02-01</td>\n",
       "      <td>Month-to-month</td>\n",
       "      <td>Yes</td>\n",
       "      <td>Electronic check</td>\n",
       "      <td>70.70</td>\n",
       "      <td>353.50</td>\n",
       "      <td>0</td>\n",
       "      <td>153.0</td>\n",
       "      <td>...</td>\n",
       "      <td>No</td>\n",
       "      <td>No</td>\n",
       "      <td>Fiber optic</td>\n",
       "      <td>No</td>\n",
       "      <td>No</td>\n",
       "      <td>No</td>\n",
       "      <td>No</td>\n",
       "      <td>No</td>\n",
       "      <td>No</td>\n",
       "      <td>No</td>\n",
       "    </tr>\n",
       "  </tbody>\n",
       "</table>\n",
       "<p>5 rows × 22 columns</p>\n",
       "</div>"
      ],
      "text/plain": [
       "   customerid  begindate    enddate            type paperlessbilling  \\\n",
       "0  7590-VHVEG 2020-01-01 2020-02-01  Month-to-month              Yes   \n",
       "1  5575-GNVDE 2017-04-01 2020-02-01        One year               No   \n",
       "2  3668-QPYBK 2019-10-01 2020-02-01  Month-to-month              Yes   \n",
       "3  7795-CFOCW 2016-05-01 2020-02-01        One year               No   \n",
       "4  9237-HQITU 2019-09-01 2020-02-01  Month-to-month              Yes   \n",
       "\n",
       "               paymentmethod  monthlycharges  totalcharges  target  \\\n",
       "0           Electronic check           29.85         31.04       0   \n",
       "1               Mailed check           56.95       2071.84       0   \n",
       "2               Mailed check           53.85        226.17       0   \n",
       "3  Bank transfer (automatic)           42.30       1960.60       0   \n",
       "4           Electronic check           70.70        353.50       0   \n",
       "\n",
       "   period_use  ... partner dependents internetservice onlinesecurity  \\\n",
       "0        31.0  ...     Yes         No             DSL             No   \n",
       "1      1036.0  ...      No         No             DSL            Yes   \n",
       "2       123.0  ...      No         No             DSL            Yes   \n",
       "3      1371.0  ...      No         No             DSL            Yes   \n",
       "4       153.0  ...      No         No     Fiber optic             No   \n",
       "\n",
       "  onlinebackup deviceprotection techsupport streamingtv streamingmovies  \\\n",
       "0          Yes               No          No          No              No   \n",
       "1           No              Yes          No          No              No   \n",
       "2          Yes               No          No          No              No   \n",
       "3           No              Yes         Yes          No              No   \n",
       "4           No               No          No          No              No   \n",
       "\n",
       "  multiplelines  \n",
       "0           NaN  \n",
       "1            No  \n",
       "2            No  \n",
       "3           NaN  \n",
       "4            No  \n",
       "\n",
       "[5 rows x 22 columns]"
      ]
     },
     "execution_count": 54,
     "metadata": {},
     "output_type": "execute_result"
    }
   ],
   "source": [
    "data = contract.merge(personal, how='inner').merge(internet, how='left').merge(phone,how='left')\n",
    "data.head()"
   ]
  },
  {
   "cell_type": "code",
   "execution_count": 55,
   "metadata": {},
   "outputs": [
    {
     "name": "stdout",
     "output_type": "stream",
     "text": [
      "<class 'pandas.core.frame.DataFrame'>\n",
      "Int64Index: 7043 entries, 0 to 7042\n",
      "Data columns (total 22 columns):\n",
      " #   Column            Non-Null Count  Dtype         \n",
      "---  ------            --------------  -----         \n",
      " 0   customerid        7043 non-null   object        \n",
      " 1   begindate         7043 non-null   datetime64[ns]\n",
      " 2   enddate           7043 non-null   datetime64[ns]\n",
      " 3   type              7043 non-null   object        \n",
      " 4   paperlessbilling  7043 non-null   object        \n",
      " 5   paymentmethod     7043 non-null   object        \n",
      " 6   monthlycharges    7043 non-null   float64       \n",
      " 7   totalcharges      7043 non-null   float64       \n",
      " 8   target            7043 non-null   int32         \n",
      " 9   period_use        7043 non-null   float64       \n",
      " 10  gender            7043 non-null   object        \n",
      " 11  seniorcitizen     7043 non-null   object        \n",
      " 12  partner           7043 non-null   object        \n",
      " 13  dependents        7043 non-null   object        \n",
      " 14  internetservice   5517 non-null   object        \n",
      " 15  onlinesecurity    5517 non-null   object        \n",
      " 16  onlinebackup      5517 non-null   object        \n",
      " 17  deviceprotection  5517 non-null   object        \n",
      " 18  techsupport       5517 non-null   object        \n",
      " 19  streamingtv       5517 non-null   object        \n",
      " 20  streamingmovies   5517 non-null   object        \n",
      " 21  multiplelines     6361 non-null   object        \n",
      "dtypes: datetime64[ns](2), float64(3), int32(1), object(16)\n",
      "memory usage: 1.2+ MB\n"
     ]
    }
   ],
   "source": [
    "data.info()"
   ]
  },
  {
   "cell_type": "markdown",
   "metadata": {},
   "source": [
    "<div class=\"alert alert-block alert-warning\">\n",
    "⚠️ <b>Ревью 1</b>: Лучше бы везде применить левое объединение, чтобы не потерять данные при изменении датасета. Если каких-то данных не будет, появятся пропуски. Но в этом датасете всё хорошо, поэтому, думаю, ты и применил how='inner'.\n",
    "</div>"
   ]
  },
  {
   "cell_type": "code",
   "execution_count": 56,
   "metadata": {},
   "outputs": [],
   "source": [
    "data['multiplelines'] = data['multiplelines'].fillna('no_phone')\n",
    "data = data.fillna('no_internet')"
   ]
  },
  {
   "cell_type": "markdown",
   "metadata": {},
   "source": [
    "<div class=\"alert alert-block alert-warning\">\n",
    "⚠️ <b>Ревью 1</b>: Очень опасное заполнение пропусков константой 'no_internet' без взгляда на их количество до. Уникальные значения ведь теперь тоже поменялись. Интересно, какое распределение целевого признака у значений признаков.\n",
    "</div>"
   ]
  },
  {
   "cell_type": "code",
   "execution_count": 57,
   "metadata": {},
   "outputs": [
    {
     "name": "stdout",
     "output_type": "stream",
     "text": [
      "<class 'pandas.core.frame.DataFrame'>\n",
      "Int64Index: 7043 entries, 0 to 7042\n",
      "Data columns (total 22 columns):\n",
      " #   Column            Non-Null Count  Dtype         \n",
      "---  ------            --------------  -----         \n",
      " 0   customerid        7043 non-null   object        \n",
      " 1   begindate         7043 non-null   datetime64[ns]\n",
      " 2   enddate           7043 non-null   datetime64[ns]\n",
      " 3   type              7043 non-null   object        \n",
      " 4   paperlessbilling  7043 non-null   object        \n",
      " 5   paymentmethod     7043 non-null   object        \n",
      " 6   monthlycharges    7043 non-null   float64       \n",
      " 7   totalcharges      7043 non-null   float64       \n",
      " 8   target            7043 non-null   int32         \n",
      " 9   period_use        7043 non-null   float64       \n",
      " 10  gender            7043 non-null   object        \n",
      " 11  seniorcitizen     7043 non-null   object        \n",
      " 12  partner           7043 non-null   object        \n",
      " 13  dependents        7043 non-null   object        \n",
      " 14  internetservice   7043 non-null   object        \n",
      " 15  onlinesecurity    7043 non-null   object        \n",
      " 16  onlinebackup      7043 non-null   object        \n",
      " 17  deviceprotection  7043 non-null   object        \n",
      " 18  techsupport       7043 non-null   object        \n",
      " 19  streamingtv       7043 non-null   object        \n",
      " 20  streamingmovies   7043 non-null   object        \n",
      " 21  multiplelines     7043 non-null   object        \n",
      "dtypes: datetime64[ns](2), float64(3), int32(1), object(16)\n",
      "memory usage: 1.2+ MB\n"
     ]
    }
   ],
   "source": [
    "data.info()"
   ]
  },
  {
   "cell_type": "markdown",
   "metadata": {},
   "source": [
    "### Анализ выбросов и аномалий."
   ]
  },
  {
   "cell_type": "code",
   "execution_count": 58,
   "metadata": {},
   "outputs": [],
   "source": [
    "#функция для отрисовки графика с усами и гистограммы\n",
    "def describe_plot(data):\n",
    "    position = 0\n",
    "    plt.figure(figsize=[15, 20])\n",
    "    plt.subplots_adjust(top=0.94, wspace=0.5, hspace=0.5)\n",
    "    plt.suptitle('Распределение признаков.', fontsize=15)\n",
    "\n",
    "    for column_name in data.columns:\n",
    "        position += 1\n",
    "        plt.subplot(5, 2, position)\n",
    "        sns.set_style('darkgrid')\n",
    "        plt.title(f'Ящик с усами для параметра {column_name.upper()}', fontsize=10)\n",
    "        sns.set_style('darkgrid')\n",
    "        sns.boxplot(data=data[column_name], orient='h')\n",
    "        plt.axvline(np.mean(data[column_name]), \n",
    "                color='r', \n",
    "                linestyle='-',\n",
    "                label='Среднее')\n",
    "        plt.legend(title=f'Среднее = {np.mean(data[column_name]):.2f}, Медиана = {np.median(data[column_name]):.2f}', \n",
    "               loc='center', \n",
    "               edgecolor = 'r',\n",
    "               facecolor = 'oldlace',\n",
    "               bbox_to_anchor=(0.5, -0.24))\n",
    "        position += 1\n",
    "        plt.subplot(5, 2, position)\n",
    "        sns.set_style('darkgrid')\n",
    "        plt.title(f'Гистограмма для параметра {column_name.upper()}', fontsize=10)\n",
    "        sns.histplot(data[column_name], color='b', kde=False)\n",
    "    plt.show();"
   ]
  },
  {
   "cell_type": "markdown",
   "metadata": {},
   "source": [
    "Посмотрим, как распределены числовые признаки."
   ]
  },
  {
   "cell_type": "code",
   "execution_count": 59,
   "metadata": {},
   "outputs": [
    {
     "data": {
      "image/png": "[encoded data removed]",
      "text/plain": [
       "<Figure size 1080x1440 with 6 Axes>"
      ]
     },
     "metadata": {
      "needs_background": "light"
     },
     "output_type": "display_data"
    }
   ],
   "source": [
    "describe_plot(data[['monthlycharges','totalcharges','period_use']])"
   ]
  },
  {
   "cell_type": "markdown",
   "metadata": {},
   "source": [
    "Каких-то серьёзныз аномалий или выбросов, которые могли бы повлиять на обучение модели, не обнаружено."
   ]
  },
  {
   "cell_type": "markdown",
   "metadata": {},
   "source": [
    "<div class=\"alert alert-block alert-success\">\n",
    "✔️ <b>Ревью 1</b>: Хорошая визуализация.\n",
    "</div>"
   ]
  },
  {
   "cell_type": "markdown",
   "metadata": {},
   "source": [
    "<div class=\"alert alert-block alert-warning\">\n",
    "⚠️ <b>Ревью 1</b>:\n",
    "    \n",
    "- Диаграммы смотрелись бы информативнее при разделении распределений по целевой переменной.\n",
    "- Про отсутствие влияния выбросов на модель у меня пока нет уверенности. Это подскажет сравнение метрик на кросс-валидации и тесте. Как мне кажется, у общих расходов выбросы есть. И они могут расти со временем, так как действующие клиенты будут продолжать тратить деньги. Поэтому выше я и спросил про RobustScaler.\n",
    "    \n",
    "</div>"
   ]
  },
  {
   "cell_type": "markdown",
   "metadata": {},
   "source": [
    "Посмотрим, как ведут себя числовые признаки в разрезе целевого признака."
   ]
  },
  {
   "cell_type": "code",
   "execution_count": 60,
   "metadata": {},
   "outputs": [
    {
     "data": {
      "image/png": "[encoded data removed]",
      "text/plain": [
       "<Figure size 581.625x540 with 12 Axes>"
      ]
     },
     "metadata": {},
     "output_type": "display_data"
    }
   ],
   "source": [
    "sns.pairplot(data[['monthlycharges','totalcharges','period_use','target']],hue='target');"
   ]
  },
  {
   "cell_type": "markdown",
   "metadata": {},
   "source": [
    "Исходя из графиков, видно, что есть заметные различия в признаках, для двух классов. Так же видно, что есть подозрение на мультиколлинеарность между 'monthlycharges' и 'totalcharges'."
   ]
  },
  {
   "cell_type": "markdown",
   "metadata": {},
   "source": [
    "<div class=\"alert alert-block alert-success\">\n",
    "✔️ <b>Ревью 1</b>: Да, теперь вижу разделение по целевой переменной для числовых признаков. Вот бы ещё было что-то для категориальных.\n",
    "</div>"
   ]
  },
  {
   "cell_type": "markdown",
   "metadata": {},
   "source": [
    "### Проверка корреляций признаков"
   ]
  },
  {
   "cell_type": "code",
   "execution_count": 61,
   "metadata": {},
   "outputs": [],
   "source": [
    "#сделаем поле customerid индексом\n",
    "data = data.set_index('customerid')"
   ]
  },
  {
   "cell_type": "code",
   "execution_count": 62,
   "metadata": {},
   "outputs": [],
   "source": [
    "interval_cols = ['monthlycharges', 'totalcharges', 'period_use']"
   ]
  },
  {
   "cell_type": "markdown",
   "metadata": {},
   "source": [
    "<div class=\"alert alert-block alert-success\">\n",
    "✔️ <b>Ревью 1</b>: Здорово, что для анализа корреляций используется подходящий метод.\n",
    "</div>"
   ]
  },
  {
   "cell_type": "markdown",
   "metadata": {},
   "source": [
    "<div class=\"alert alert-block alert-danger\">\n",
    "❌ <s><b>Ревью 1</b>: 'target' не является числовым признаком. Его не нужно включать в список.</s>\n",
    "</div>"
   ]
  },
  {
   "cell_type": "markdown",
   "metadata": {},
   "source": [
    "<div class=\"alert alert-block alert-info\">\n",
    "<b>Комментарий студента:</b> \n",
    "Исправил.\n",
    "</div>"
   ]
  },
  {
   "cell_type": "code",
   "execution_count": 63,
   "metadata": {},
   "outputs": [
    {
     "data": {
      "text/html": [
       "<div>\n",
       "<style scoped>\n",
       "    .dataframe tbody tr th:only-of-type {\n",
       "        vertical-align: middle;\n",
       "    }\n",
       "\n",
       "    .dataframe tbody tr th {\n",
       "        vertical-align: top;\n",
       "    }\n",
       "\n",
       "    .dataframe thead th {\n",
       "        text-align: right;\n",
       "    }\n",
       "</style>\n",
       "<table border=\"1\" class=\"dataframe\">\n",
       "  <thead>\n",
       "    <tr style=\"text-align: right;\">\n",
       "      <th></th>\n",
       "      <th>begindate</th>\n",
       "      <th>enddate</th>\n",
       "      <th>type</th>\n",
       "      <th>paperlessbilling</th>\n",
       "      <th>paymentmethod</th>\n",
       "      <th>monthlycharges</th>\n",
       "      <th>totalcharges</th>\n",
       "      <th>target</th>\n",
       "      <th>period_use</th>\n",
       "      <th>gender</th>\n",
       "      <th>...</th>\n",
       "      <th>partner</th>\n",
       "      <th>dependents</th>\n",
       "      <th>internetservice</th>\n",
       "      <th>onlinesecurity</th>\n",
       "      <th>onlinebackup</th>\n",
       "      <th>deviceprotection</th>\n",
       "      <th>techsupport</th>\n",
       "      <th>streamingtv</th>\n",
       "      <th>streamingmovies</th>\n",
       "      <th>multiplelines</th>\n",
       "    </tr>\n",
       "  </thead>\n",
       "  <tbody>\n",
       "    <tr>\n",
       "      <th>begindate</th>\n",
       "      <td>1.00</td>\n",
       "      <td>0.55</td>\n",
       "      <td>0.77</td>\n",
       "      <td>0.08</td>\n",
       "      <td>0.46</td>\n",
       "      <td>0.42</td>\n",
       "      <td>0.77</td>\n",
       "      <td>0.45</td>\n",
       "      <td>0.98</td>\n",
       "      <td>0.01</td>\n",
       "      <td>...</td>\n",
       "      <td>0.47</td>\n",
       "      <td>0.21</td>\n",
       "      <td>0.19</td>\n",
       "      <td>0.46</td>\n",
       "      <td>0.50</td>\n",
       "      <td>0.50</td>\n",
       "      <td>0.46</td>\n",
       "      <td>0.42</td>\n",
       "      <td>0.43</td>\n",
       "      <td>0.47</td>\n",
       "    </tr>\n",
       "    <tr>\n",
       "      <th>enddate</th>\n",
       "      <td>0.55</td>\n",
       "      <td>1.00</td>\n",
       "      <td>0.29</td>\n",
       "      <td>0.06</td>\n",
       "      <td>0.17</td>\n",
       "      <td>0.17</td>\n",
       "      <td>0.22</td>\n",
       "      <td>1.00</td>\n",
       "      <td>0.40</td>\n",
       "      <td>0.02</td>\n",
       "      <td>...</td>\n",
       "      <td>0.18</td>\n",
       "      <td>0.06</td>\n",
       "      <td>0.12</td>\n",
       "      <td>0.17</td>\n",
       "      <td>0.24</td>\n",
       "      <td>0.23</td>\n",
       "      <td>0.15</td>\n",
       "      <td>0.19</td>\n",
       "      <td>0.20</td>\n",
       "      <td>0.25</td>\n",
       "    </tr>\n",
       "    <tr>\n",
       "      <th>type</th>\n",
       "      <td>0.77</td>\n",
       "      <td>0.29</td>\n",
       "      <td>1.00</td>\n",
       "      <td>0.11</td>\n",
       "      <td>0.28</td>\n",
       "      <td>0.39</td>\n",
       "      <td>0.47</td>\n",
       "      <td>0.09</td>\n",
       "      <td>0.63</td>\n",
       "      <td>0.00</td>\n",
       "      <td>...</td>\n",
       "      <td>0.18</td>\n",
       "      <td>0.15</td>\n",
       "      <td>0.51</td>\n",
       "      <td>0.64</td>\n",
       "      <td>0.58</td>\n",
       "      <td>0.63</td>\n",
       "      <td>0.67</td>\n",
       "      <td>0.55</td>\n",
       "      <td>0.55</td>\n",
       "      <td>0.24</td>\n",
       "    </tr>\n",
       "    <tr>\n",
       "      <th>paperlessbilling</th>\n",
       "      <td>0.08</td>\n",
       "      <td>0.06</td>\n",
       "      <td>0.11</td>\n",
       "      <td>1.00</td>\n",
       "      <td>0.37</td>\n",
       "      <td>0.47</td>\n",
       "      <td>0.20</td>\n",
       "      <td>0.08</td>\n",
       "      <td>0.03</td>\n",
       "      <td>0.00</td>\n",
       "      <td>...</td>\n",
       "      <td>0.01</td>\n",
       "      <td>0.17</td>\n",
       "      <td>0.23</td>\n",
       "      <td>0.21</td>\n",
       "      <td>0.20</td>\n",
       "      <td>0.20</td>\n",
       "      <td>0.20</td>\n",
       "      <td>0.20</td>\n",
       "      <td>0.20</td>\n",
       "      <td>0.10</td>\n",
       "    </tr>\n",
       "    <tr>\n",
       "      <th>paymentmethod</th>\n",
       "      <td>0.46</td>\n",
       "      <td>0.17</td>\n",
       "      <td>0.28</td>\n",
       "      <td>0.37</td>\n",
       "      <td>1.00</td>\n",
       "      <td>0.40</td>\n",
       "      <td>0.34</td>\n",
       "      <td>0.21</td>\n",
       "      <td>0.35</td>\n",
       "      <td>0.00</td>\n",
       "      <td>...</td>\n",
       "      <td>0.24</td>\n",
       "      <td>0.22</td>\n",
       "      <td>0.32</td>\n",
       "      <td>0.32</td>\n",
       "      <td>0.29</td>\n",
       "      <td>0.30</td>\n",
       "      <td>0.32</td>\n",
       "      <td>0.28</td>\n",
       "      <td>0.29</td>\n",
       "      <td>0.17</td>\n",
       "    </tr>\n",
       "    <tr>\n",
       "      <th>monthlycharges</th>\n",
       "      <td>0.42</td>\n",
       "      <td>0.17</td>\n",
       "      <td>0.39</td>\n",
       "      <td>0.47</td>\n",
       "      <td>0.40</td>\n",
       "      <td>1.00</td>\n",
       "      <td>0.71</td>\n",
       "      <td>0.23</td>\n",
       "      <td>0.39</td>\n",
       "      <td>0.01</td>\n",
       "      <td>...</td>\n",
       "      <td>0.20</td>\n",
       "      <td>0.18</td>\n",
       "      <td>0.92</td>\n",
       "      <td>0.81</td>\n",
       "      <td>0.82</td>\n",
       "      <td>0.83</td>\n",
       "      <td>0.82</td>\n",
       "      <td>0.86</td>\n",
       "      <td>0.86</td>\n",
       "      <td>0.71</td>\n",
       "    </tr>\n",
       "    <tr>\n",
       "      <th>totalcharges</th>\n",
       "      <td>0.77</td>\n",
       "      <td>0.22</td>\n",
       "      <td>0.47</td>\n",
       "      <td>0.20</td>\n",
       "      <td>0.34</td>\n",
       "      <td>0.71</td>\n",
       "      <td>1.00</td>\n",
       "      <td>0.30</td>\n",
       "      <td>0.85</td>\n",
       "      <td>0.00</td>\n",
       "      <td>...</td>\n",
       "      <td>0.38</td>\n",
       "      <td>0.08</td>\n",
       "      <td>0.49</td>\n",
       "      <td>0.52</td>\n",
       "      <td>0.55</td>\n",
       "      <td>0.56</td>\n",
       "      <td>0.53</td>\n",
       "      <td>0.56</td>\n",
       "      <td>0.55</td>\n",
       "      <td>0.47</td>\n",
       "    </tr>\n",
       "    <tr>\n",
       "      <th>target</th>\n",
       "      <td>0.45</td>\n",
       "      <td>1.00</td>\n",
       "      <td>0.09</td>\n",
       "      <td>0.08</td>\n",
       "      <td>0.21</td>\n",
       "      <td>0.23</td>\n",
       "      <td>0.30</td>\n",
       "      <td>1.00</td>\n",
       "      <td>0.37</td>\n",
       "      <td>0.01</td>\n",
       "      <td>...</td>\n",
       "      <td>0.23</td>\n",
       "      <td>0.05</td>\n",
       "      <td>0.06</td>\n",
       "      <td>0.06</td>\n",
       "      <td>0.09</td>\n",
       "      <td>0.09</td>\n",
       "      <td>0.05</td>\n",
       "      <td>0.08</td>\n",
       "      <td>0.09</td>\n",
       "      <td>0.11</td>\n",
       "    </tr>\n",
       "    <tr>\n",
       "      <th>period_use</th>\n",
       "      <td>0.98</td>\n",
       "      <td>0.40</td>\n",
       "      <td>0.63</td>\n",
       "      <td>0.03</td>\n",
       "      <td>0.35</td>\n",
       "      <td>0.39</td>\n",
       "      <td>0.85</td>\n",
       "      <td>0.37</td>\n",
       "      <td>1.00</td>\n",
       "      <td>0.00</td>\n",
       "      <td>...</td>\n",
       "      <td>0.45</td>\n",
       "      <td>0.20</td>\n",
       "      <td>0.06</td>\n",
       "      <td>0.35</td>\n",
       "      <td>0.37</td>\n",
       "      <td>0.37</td>\n",
       "      <td>0.35</td>\n",
       "      <td>0.31</td>\n",
       "      <td>0.31</td>\n",
       "      <td>0.35</td>\n",
       "    </tr>\n",
       "    <tr>\n",
       "      <th>gender</th>\n",
       "      <td>0.01</td>\n",
       "      <td>0.02</td>\n",
       "      <td>0.00</td>\n",
       "      <td>0.00</td>\n",
       "      <td>0.00</td>\n",
       "      <td>0.01</td>\n",
       "      <td>0.00</td>\n",
       "      <td>0.01</td>\n",
       "      <td>0.00</td>\n",
       "      <td>1.00</td>\n",
       "      <td>...</td>\n",
       "      <td>0.00</td>\n",
       "      <td>0.00</td>\n",
       "      <td>0.00</td>\n",
       "      <td>0.00</td>\n",
       "      <td>0.00</td>\n",
       "      <td>0.00</td>\n",
       "      <td>0.00</td>\n",
       "      <td>0.00</td>\n",
       "      <td>0.00</td>\n",
       "      <td>0.00</td>\n",
       "    </tr>\n",
       "    <tr>\n",
       "      <th>seniorcitizen</th>\n",
       "      <td>0.05</td>\n",
       "      <td>0.09</td>\n",
       "      <td>0.09</td>\n",
       "      <td>0.24</td>\n",
       "      <td>0.29</td>\n",
       "      <td>0.30</td>\n",
       "      <td>0.14</td>\n",
       "      <td>0.09</td>\n",
       "      <td>0.06</td>\n",
       "      <td>0.00</td>\n",
       "      <td>...</td>\n",
       "      <td>0.02</td>\n",
       "      <td>0.32</td>\n",
       "      <td>0.16</td>\n",
       "      <td>0.13</td>\n",
       "      <td>0.11</td>\n",
       "      <td>0.11</td>\n",
       "      <td>0.14</td>\n",
       "      <td>0.11</td>\n",
       "      <td>0.11</td>\n",
       "      <td>0.09</td>\n",
       "    </tr>\n",
       "    <tr>\n",
       "      <th>partner</th>\n",
       "      <td>0.47</td>\n",
       "      <td>0.18</td>\n",
       "      <td>0.18</td>\n",
       "      <td>0.01</td>\n",
       "      <td>0.24</td>\n",
       "      <td>0.20</td>\n",
       "      <td>0.38</td>\n",
       "      <td>0.23</td>\n",
       "      <td>0.45</td>\n",
       "      <td>0.00</td>\n",
       "      <td>...</td>\n",
       "      <td>1.00</td>\n",
       "      <td>0.65</td>\n",
       "      <td>0.00</td>\n",
       "      <td>0.09</td>\n",
       "      <td>0.09</td>\n",
       "      <td>0.10</td>\n",
       "      <td>0.08</td>\n",
       "      <td>0.08</td>\n",
       "      <td>0.08</td>\n",
       "      <td>0.09</td>\n",
       "    </tr>\n",
       "    <tr>\n",
       "      <th>dependents</th>\n",
       "      <td>0.21</td>\n",
       "      <td>0.06</td>\n",
       "      <td>0.15</td>\n",
       "      <td>0.17</td>\n",
       "      <td>0.22</td>\n",
       "      <td>0.18</td>\n",
       "      <td>0.08</td>\n",
       "      <td>0.05</td>\n",
       "      <td>0.20</td>\n",
       "      <td>0.00</td>\n",
       "      <td>...</td>\n",
       "      <td>0.65</td>\n",
       "      <td>1.00</td>\n",
       "      <td>0.11</td>\n",
       "      <td>0.12</td>\n",
       "      <td>0.10</td>\n",
       "      <td>0.09</td>\n",
       "      <td>0.11</td>\n",
       "      <td>0.09</td>\n",
       "      <td>0.08</td>\n",
       "      <td>0.01</td>\n",
       "    </tr>\n",
       "    <tr>\n",
       "      <th>internetservice</th>\n",
       "      <td>0.19</td>\n",
       "      <td>0.12</td>\n",
       "      <td>0.51</td>\n",
       "      <td>0.23</td>\n",
       "      <td>0.32</td>\n",
       "      <td>0.92</td>\n",
       "      <td>0.49</td>\n",
       "      <td>0.06</td>\n",
       "      <td>0.06</td>\n",
       "      <td>0.00</td>\n",
       "      <td>...</td>\n",
       "      <td>0.00</td>\n",
       "      <td>0.11</td>\n",
       "      <td>1.00</td>\n",
       "      <td>0.95</td>\n",
       "      <td>0.94</td>\n",
       "      <td>0.94</td>\n",
       "      <td>0.95</td>\n",
       "      <td>0.95</td>\n",
       "      <td>0.95</td>\n",
       "      <td>0.74</td>\n",
       "    </tr>\n",
       "    <tr>\n",
       "      <th>onlinesecurity</th>\n",
       "      <td>0.46</td>\n",
       "      <td>0.17</td>\n",
       "      <td>0.64</td>\n",
       "      <td>0.21</td>\n",
       "      <td>0.32</td>\n",
       "      <td>0.81</td>\n",
       "      <td>0.52</td>\n",
       "      <td>0.06</td>\n",
       "      <td>0.35</td>\n",
       "      <td>0.00</td>\n",
       "      <td>...</td>\n",
       "      <td>0.09</td>\n",
       "      <td>0.12</td>\n",
       "      <td>0.95</td>\n",
       "      <td>1.00</td>\n",
       "      <td>0.95</td>\n",
       "      <td>0.95</td>\n",
       "      <td>0.95</td>\n",
       "      <td>0.94</td>\n",
       "      <td>0.94</td>\n",
       "      <td>0.54</td>\n",
       "    </tr>\n",
       "    <tr>\n",
       "      <th>onlinebackup</th>\n",
       "      <td>0.50</td>\n",
       "      <td>0.24</td>\n",
       "      <td>0.58</td>\n",
       "      <td>0.20</td>\n",
       "      <td>0.29</td>\n",
       "      <td>0.82</td>\n",
       "      <td>0.55</td>\n",
       "      <td>0.09</td>\n",
       "      <td>0.37</td>\n",
       "      <td>0.00</td>\n",
       "      <td>...</td>\n",
       "      <td>0.09</td>\n",
       "      <td>0.10</td>\n",
       "      <td>0.94</td>\n",
       "      <td>0.95</td>\n",
       "      <td>1.00</td>\n",
       "      <td>0.95</td>\n",
       "      <td>0.95</td>\n",
       "      <td>0.95</td>\n",
       "      <td>0.95</td>\n",
       "      <td>0.56</td>\n",
       "    </tr>\n",
       "    <tr>\n",
       "      <th>deviceprotection</th>\n",
       "      <td>0.50</td>\n",
       "      <td>0.23</td>\n",
       "      <td>0.63</td>\n",
       "      <td>0.20</td>\n",
       "      <td>0.30</td>\n",
       "      <td>0.83</td>\n",
       "      <td>0.56</td>\n",
       "      <td>0.09</td>\n",
       "      <td>0.37</td>\n",
       "      <td>0.00</td>\n",
       "      <td>...</td>\n",
       "      <td>0.10</td>\n",
       "      <td>0.09</td>\n",
       "      <td>0.94</td>\n",
       "      <td>0.95</td>\n",
       "      <td>0.95</td>\n",
       "      <td>1.00</td>\n",
       "      <td>0.95</td>\n",
       "      <td>0.95</td>\n",
       "      <td>0.95</td>\n",
       "      <td>0.56</td>\n",
       "    </tr>\n",
       "    <tr>\n",
       "      <th>techsupport</th>\n",
       "      <td>0.46</td>\n",
       "      <td>0.15</td>\n",
       "      <td>0.67</td>\n",
       "      <td>0.20</td>\n",
       "      <td>0.32</td>\n",
       "      <td>0.82</td>\n",
       "      <td>0.53</td>\n",
       "      <td>0.05</td>\n",
       "      <td>0.35</td>\n",
       "      <td>0.00</td>\n",
       "      <td>...</td>\n",
       "      <td>0.08</td>\n",
       "      <td>0.11</td>\n",
       "      <td>0.95</td>\n",
       "      <td>0.95</td>\n",
       "      <td>0.95</td>\n",
       "      <td>0.95</td>\n",
       "      <td>1.00</td>\n",
       "      <td>0.95</td>\n",
       "      <td>0.95</td>\n",
       "      <td>0.54</td>\n",
       "    </tr>\n",
       "    <tr>\n",
       "      <th>streamingtv</th>\n",
       "      <td>0.42</td>\n",
       "      <td>0.19</td>\n",
       "      <td>0.55</td>\n",
       "      <td>0.20</td>\n",
       "      <td>0.28</td>\n",
       "      <td>0.86</td>\n",
       "      <td>0.56</td>\n",
       "      <td>0.08</td>\n",
       "      <td>0.31</td>\n",
       "      <td>0.00</td>\n",
       "      <td>...</td>\n",
       "      <td>0.08</td>\n",
       "      <td>0.09</td>\n",
       "      <td>0.95</td>\n",
       "      <td>0.94</td>\n",
       "      <td>0.95</td>\n",
       "      <td>0.95</td>\n",
       "      <td>0.95</td>\n",
       "      <td>1.00</td>\n",
       "      <td>0.97</td>\n",
       "      <td>0.59</td>\n",
       "    </tr>\n",
       "    <tr>\n",
       "      <th>streamingmovies</th>\n",
       "      <td>0.43</td>\n",
       "      <td>0.20</td>\n",
       "      <td>0.55</td>\n",
       "      <td>0.20</td>\n",
       "      <td>0.29</td>\n",
       "      <td>0.86</td>\n",
       "      <td>0.55</td>\n",
       "      <td>0.09</td>\n",
       "      <td>0.31</td>\n",
       "      <td>0.00</td>\n",
       "      <td>...</td>\n",
       "      <td>0.08</td>\n",
       "      <td>0.08</td>\n",
       "      <td>0.95</td>\n",
       "      <td>0.94</td>\n",
       "      <td>0.95</td>\n",
       "      <td>0.95</td>\n",
       "      <td>0.95</td>\n",
       "      <td>0.97</td>\n",
       "      <td>1.00</td>\n",
       "      <td>0.59</td>\n",
       "    </tr>\n",
       "    <tr>\n",
       "      <th>multiplelines</th>\n",
       "      <td>0.47</td>\n",
       "      <td>0.25</td>\n",
       "      <td>0.24</td>\n",
       "      <td>0.10</td>\n",
       "      <td>0.17</td>\n",
       "      <td>0.71</td>\n",
       "      <td>0.47</td>\n",
       "      <td>0.11</td>\n",
       "      <td>0.35</td>\n",
       "      <td>0.00</td>\n",
       "      <td>...</td>\n",
       "      <td>0.09</td>\n",
       "      <td>0.01</td>\n",
       "      <td>0.74</td>\n",
       "      <td>0.54</td>\n",
       "      <td>0.56</td>\n",
       "      <td>0.56</td>\n",
       "      <td>0.54</td>\n",
       "      <td>0.59</td>\n",
       "      <td>0.59</td>\n",
       "      <td>1.00</td>\n",
       "    </tr>\n",
       "  </tbody>\n",
       "</table>\n",
       "<p>21 rows × 21 columns</p>\n",
       "</div>"
      ],
      "text/plain": [
       "                  begindate  enddate  type  paperlessbilling  paymentmethod  \\\n",
       "begindate              1.00     0.55  0.77              0.08           0.46   \n",
       "enddate                0.55     1.00  0.29              0.06           0.17   \n",
       "type                   0.77     0.29  1.00              0.11           0.28   \n",
       "paperlessbilling       0.08     0.06  0.11              1.00           0.37   \n",
       "paymentmethod          0.46     0.17  0.28              0.37           1.00   \n",
       "monthlycharges         0.42     0.17  0.39              0.47           0.40   \n",
       "totalcharges           0.77     0.22  0.47              0.20           0.34   \n",
       "target                 0.45     1.00  0.09              0.08           0.21   \n",
       "period_use             0.98     0.40  0.63              0.03           0.35   \n",
       "gender                 0.01     0.02  0.00              0.00           0.00   \n",
       "seniorcitizen          0.05     0.09  0.09              0.24           0.29   \n",
       "partner                0.47     0.18  0.18              0.01           0.24   \n",
       "dependents             0.21     0.06  0.15              0.17           0.22   \n",
       "internetservice        0.19     0.12  0.51              0.23           0.32   \n",
       "onlinesecurity         0.46     0.17  0.64              0.21           0.32   \n",
       "onlinebackup           0.50     0.24  0.58              0.20           0.29   \n",
       "deviceprotection       0.50     0.23  0.63              0.20           0.30   \n",
       "techsupport            0.46     0.15  0.67              0.20           0.32   \n",
       "streamingtv            0.42     0.19  0.55              0.20           0.28   \n",
       "streamingmovies        0.43     0.20  0.55              0.20           0.29   \n",
       "multiplelines          0.47     0.25  0.24              0.10           0.17   \n",
       "\n",
       "                  monthlycharges  totalcharges  target  period_use  gender  \\\n",
       "begindate                   0.42          0.77    0.45        0.98    0.01   \n",
       "enddate                     0.17          0.22    1.00        0.40    0.02   \n",
       "type                        0.39          0.47    0.09        0.63    0.00   \n",
       "paperlessbilling            0.47          0.20    0.08        0.03    0.00   \n",
       "paymentmethod               0.40          0.34    0.21        0.35    0.00   \n",
       "monthlycharges              1.00          0.71    0.23        0.39    0.01   \n",
       "totalcharges                0.71          1.00    0.30        0.85    0.00   \n",
       "target                      0.23          0.30    1.00        0.37    0.01   \n",
       "period_use                  0.39          0.85    0.37        1.00    0.00   \n",
       "gender                      0.01          0.00    0.01        0.00    1.00   \n",
       "seniorcitizen               0.30          0.14    0.09        0.06    0.00   \n",
       "partner                     0.20          0.38    0.23        0.45    0.00   \n",
       "dependents                  0.18          0.08    0.05        0.20    0.00   \n",
       "internetservice             0.92          0.49    0.06        0.06    0.00   \n",
       "onlinesecurity              0.81          0.52    0.06        0.35    0.00   \n",
       "onlinebackup                0.82          0.55    0.09        0.37    0.00   \n",
       "deviceprotection            0.83          0.56    0.09        0.37    0.00   \n",
       "techsupport                 0.82          0.53    0.05        0.35    0.00   \n",
       "streamingtv                 0.86          0.56    0.08        0.31    0.00   \n",
       "streamingmovies             0.86          0.55    0.09        0.31    0.00   \n",
       "multiplelines               0.71          0.47    0.11        0.35    0.00   \n",
       "\n",
       "                  ...  partner  dependents  internetservice  onlinesecurity  \\\n",
       "begindate         ...     0.47        0.21             0.19            0.46   \n",
       "enddate           ...     0.18        0.06             0.12            0.17   \n",
       "type              ...     0.18        0.15             0.51            0.64   \n",
       "paperlessbilling  ...     0.01        0.17             0.23            0.21   \n",
       "paymentmethod     ...     0.24        0.22             0.32            0.32   \n",
       "monthlycharges    ...     0.20        0.18             0.92            0.81   \n",
       "totalcharges      ...     0.38        0.08             0.49            0.52   \n",
       "target            ...     0.23        0.05             0.06            0.06   \n",
       "period_use        ...     0.45        0.20             0.06            0.35   \n",
       "gender            ...     0.00        0.00             0.00            0.00   \n",
       "seniorcitizen     ...     0.02        0.32             0.16            0.13   \n",
       "partner           ...     1.00        0.65             0.00            0.09   \n",
       "dependents        ...     0.65        1.00             0.11            0.12   \n",
       "internetservice   ...     0.00        0.11             1.00            0.95   \n",
       "onlinesecurity    ...     0.09        0.12             0.95            1.00   \n",
       "onlinebackup      ...     0.09        0.10             0.94            0.95   \n",
       "deviceprotection  ...     0.10        0.09             0.94            0.95   \n",
       "techsupport       ...     0.08        0.11             0.95            0.95   \n",
       "streamingtv       ...     0.08        0.09             0.95            0.94   \n",
       "streamingmovies   ...     0.08        0.08             0.95            0.94   \n",
       "multiplelines     ...     0.09        0.01             0.74            0.54   \n",
       "\n",
       "                  onlinebackup  deviceprotection  techsupport  streamingtv  \\\n",
       "begindate                 0.50              0.50         0.46         0.42   \n",
       "enddate                   0.24              0.23         0.15         0.19   \n",
       "type                      0.58              0.63         0.67         0.55   \n",
       "paperlessbilling          0.20              0.20         0.20         0.20   \n",
       "paymentmethod             0.29              0.30         0.32         0.28   \n",
       "monthlycharges            0.82              0.83         0.82         0.86   \n",
       "totalcharges              0.55              0.56         0.53         0.56   \n",
       "target                    0.09              0.09         0.05         0.08   \n",
       "period_use                0.37              0.37         0.35         0.31   \n",
       "gender                    0.00              0.00         0.00         0.00   \n",
       "seniorcitizen             0.11              0.11         0.14         0.11   \n",
       "partner                   0.09              0.10         0.08         0.08   \n",
       "dependents                0.10              0.09         0.11         0.09   \n",
       "internetservice           0.94              0.94         0.95         0.95   \n",
       "onlinesecurity            0.95              0.95         0.95         0.94   \n",
       "onlinebackup              1.00              0.95         0.95         0.95   \n",
       "deviceprotection          0.95              1.00         0.95         0.95   \n",
       "techsupport               0.95              0.95         1.00         0.95   \n",
       "streamingtv               0.95              0.95         0.95         1.00   \n",
       "streamingmovies           0.95              0.95         0.95         0.97   \n",
       "multiplelines             0.56              0.56         0.54         0.59   \n",
       "\n",
       "                  streamingmovies  multiplelines  \n",
       "begindate                    0.43           0.47  \n",
       "enddate                      0.20           0.25  \n",
       "type                         0.55           0.24  \n",
       "paperlessbilling             0.20           0.10  \n",
       "paymentmethod                0.29           0.17  \n",
       "monthlycharges               0.86           0.71  \n",
       "totalcharges                 0.55           0.47  \n",
       "target                       0.09           0.11  \n",
       "period_use                   0.31           0.35  \n",
       "gender                       0.00           0.00  \n",
       "seniorcitizen                0.11           0.09  \n",
       "partner                      0.08           0.09  \n",
       "dependents                   0.08           0.01  \n",
       "internetservice              0.95           0.74  \n",
       "onlinesecurity               0.94           0.54  \n",
       "onlinebackup                 0.95           0.56  \n",
       "deviceprotection             0.95           0.56  \n",
       "techsupport                  0.95           0.54  \n",
       "streamingtv                  0.97           0.59  \n",
       "streamingmovies              1.00           0.59  \n",
       "multiplelines                0.59           1.00  \n",
       "\n",
       "[21 rows x 21 columns]"
      ]
     },
     "execution_count": 63,
     "metadata": {},
     "output_type": "execute_result"
    }
   ],
   "source": [
    "phik_overview = data.phik_matrix(interval_cols = interval_cols).round(2)\n",
    "phik_overview"
   ]
  },
  {
   "cell_type": "code",
   "execution_count": 64,
   "metadata": {},
   "outputs": [
    {
     "data": {
      "image/png": "[encoded data removed]",
      "text/plain": [
       "<Figure size 1440x1080 with 2 Axes>"
      ]
     },
     "metadata": {},
     "output_type": "display_data"
    }
   ],
   "source": [
    "plot_correlation_matrix(phik_overview.values, \n",
    "                       x_labels = phik_overview.columns,\n",
    "                       y_labels = phik_overview.index,figsize = (20, 15))\n",
    "plt.show();"
   ]
  },
  {
   "cell_type": "markdown",
   "metadata": {},
   "source": [
    "Видим, что есть признаки с высокой корреляцией.\n",
    "\n",
    "- В машинном обучении (Machine Learning) мультиколлинеарность может стать причиной переобучаемости модели, что приведет к неверному результату. Кроме того, избыточные коэффициенты увеличивают сложность модели машинного обучения, а значит, время ее тренировки возрастает.\n",
    "\n",
    "- Две переменных коллинеарны, когда они находятся между собой в линейной зависимости, если коэффициент корреляции более 0,7. Чтобы избавиться от мультиколлинарности, необходимо исключить из модели один из факторов."
   ]
  },
  {
   "cell_type": "markdown",
   "metadata": {},
   "source": [
    "<div class=\"alert alert-block alert-warning\">\n",
    "⚠️ <b>Ревью 1</b>: Порог 0.7 - это не догма, иногда его и увеличивают, исходя из количества признаков.\n",
    "</div>"
   ]
  },
  {
   "cell_type": "markdown",
   "metadata": {},
   "source": [
    "Вопросы тимлиду:\n",
    "\n",
    "1. Получается, признаки, между которыми корреляция более 0,7 (или другой порог?) нужно убирать? Или это только для числовых переменных?\n",
    "\n",
    "<div class=\"alert alert-block alert-success\">\n",
    "✔️ <b>Ревью 1</b>:\n",
    "\n",
    "- Порог мультиколлинеарности 0.7 может быть и выше. Это зависит от датасета, задачи и модели. Деревянные более устойчивы к мультиколлинеарности. Это поле для экспериментов.\n",
    "- Из мультиколлинеарных признаков удаляют не все, а те, у которых, например, меньшая корреляция с целевой переменной.\n",
    "- Из признаков часто удаляют те, у которых очень низкая корреляция с целевой переменной.\n",
    "- Это касается как числовых, так и категориальных признаков. Они ведь потом тоже будут закодированы в числа.\n",
    "- Не стоит забывать, что сейчас мы учитываем только попарные корреляции (линейные связи между признаками). Но слабые признаки могут усиливать свое влияние на целевую переменную в сочетании. Деревянные модели как раз и умеют выделять нелинейные зависимости. Поэтому не нужно боятся экспериментов. Главное достичь необходимых метрик.\n",
    "</div>"
   ]
  },
  {
   "cell_type": "markdown",
   "metadata": {},
   "source": [
    "<div class=\"alert alert-block alert-success\">\n",
    "✔️ <b>Ревью 1</b>: Павел, спасибо за быстрое включение в проект! Есть только одно важное замечание. Ну, и возможность задать ещё вопросы. \n",
    "</div>"
   ]
  },
  {
   "cell_type": "markdown",
   "metadata": {},
   "source": [
    "<div class=\"alert alert-block alert-info\">\n",
    "<b>Комментарий студента:</b> \n",
    "Денис, добрый день. Спасибо за ревью. Критический момент я исправил, жёлтые замечания также учту.\n",
    "</div>"
   ]
  },
  {
   "cell_type": "markdown",
   "metadata": {},
   "source": [
    "<div class=\"alert alert-block alert-success\">\n",
    "✔️ <b>Ревью 2</b>: Павел, желаю успеха на самом интересном этапе!\n",
    "</div>"
   ]
  },
  {
   "cell_type": "markdown",
   "metadata": {},
   "source": [
    "## Разработка модели."
   ]
  },
  {
   "cell_type": "markdown",
   "metadata": {},
   "source": [
    "### Подготовка признаков и разделение выборки."
   ]
  },
  {
   "cell_type": "markdown",
   "metadata": {},
   "source": [
    "На основе анализа который ранее выполнили, избавимся от признака `'totalcharges'`, по скольку он сильно коррелирует с нашим новым признаком `'period_use'`, который равен кол-ву дней пользования услугами.\n",
    "Также избавимся от полей с датами."
   ]
  },
  {
   "cell_type": "code",
   "execution_count": 65,
   "metadata": {},
   "outputs": [],
   "source": [
    "target = data['target']\n",
    "features = data.drop(['begindate', 'enddate', 'totalcharges', 'target'], axis = 1)"
   ]
  },
  {
   "cell_type": "code",
   "execution_count": 66,
   "metadata": {},
   "outputs": [],
   "source": [
    "target_train, target_test, features_train, features_test =\\\n",
    "train_test_split(target, features, test_size=0.25, random_state=RANDOM_STATE,shuffle=True, stratify=target)"
   ]
  },
  {
   "cell_type": "code",
   "execution_count": 67,
   "metadata": {},
   "outputs": [
    {
     "name": "stdout",
     "output_type": "stream",
     "text": [
      "<class 'pandas.core.frame.DataFrame'>\n",
      "Index: 5282 entries, 0618-XWMSS to 4781-ZXYGU\n",
      "Data columns (total 17 columns):\n",
      " #   Column            Non-Null Count  Dtype  \n",
      "---  ------            --------------  -----  \n",
      " 0   type              5282 non-null   object \n",
      " 1   paperlessbilling  5282 non-null   object \n",
      " 2   paymentmethod     5282 non-null   object \n",
      " 3   monthlycharges    5282 non-null   float64\n",
      " 4   period_use        5282 non-null   float64\n",
      " 5   gender            5282 non-null   object \n",
      " 6   seniorcitizen     5282 non-null   object \n",
      " 7   partner           5282 non-null   object \n",
      " 8   dependents        5282 non-null   object \n",
      " 9   internetservice   5282 non-null   object \n",
      " 10  onlinesecurity    5282 non-null   object \n",
      " 11  onlinebackup      5282 non-null   object \n",
      " 12  deviceprotection  5282 non-null   object \n",
      " 13  techsupport       5282 non-null   object \n",
      " 14  streamingtv       5282 non-null   object \n",
      " 15  streamingmovies   5282 non-null   object \n",
      " 16  multiplelines     5282 non-null   object \n",
      "dtypes: float64(2), object(15)\n",
      "memory usage: 742.8+ KB\n"
     ]
    }
   ],
   "source": [
    "features_train.info()"
   ]
  },
  {
   "cell_type": "code",
   "execution_count": 68,
   "metadata": {},
   "outputs": [
    {
     "name": "stdout",
     "output_type": "stream",
     "text": [
      "['type', 'paperlessbilling', 'paymentmethod', 'gender', 'seniorcitizen', 'partner', 'dependents', 'internetservice', 'onlinesecurity', 'onlinebackup', 'deviceprotection', 'techsupport', 'streamingtv', 'streamingmovies', 'multiplelines']\n",
      "['monthlycharges', 'period_use']\n"
     ]
    }
   ],
   "source": [
    "cat_features = features_train.select_dtypes(include='object').columns.to_list()\n",
    "print(cat_features)\n",
    "num_features = features_train.select_dtypes(exclude='object').columns.to_list()\n",
    "print(num_features)"
   ]
  },
  {
   "cell_type": "markdown",
   "metadata": {},
   "source": [
    "<div class=\"alert alert-block alert-success\">\n",
    "✔️ <b>Ревью 3</b>: Выборки подготовлены правильно. Признаки с утечкой удалены.\n",
    "</div>"
   ]
  },
  {
   "cell_type": "markdown",
   "metadata": {},
   "source": [
    "### Обучение моделей."
   ]
  },
  {
   "cell_type": "markdown",
   "metadata": {},
   "source": [
    "#### Логистическая регрессия."
   ]
  },
  {
   "cell_type": "code",
   "execution_count": 69,
   "metadata": {},
   "outputs": [
    {
     "name": "stdout",
     "output_type": "stream",
     "text": [
      "best_score: 0.7654288509119729\n",
      "best_params: {'logisticregression__C': 1, 'logisticregression__solver': 'newton-cg'}\n",
      "CPU times: total: 266 ms\n",
      "Wall time: 1.04 s\n"
     ]
    }
   ],
   "source": [
    "%%time\n",
    "col_transformer_lr= make_column_transformer(\n",
    "    (\n",
    "        OneHotEncoder(drop='first', handle_unknown='ignore'), \n",
    "        cat_features\n",
    "    ),\n",
    "    (\n",
    "        StandardScaler(), \n",
    "        num_features\n",
    "    ),\n",
    "    remainder='passthrough'\n",
    ")\n",
    "\n",
    "model_lr = LogisticRegression(random_state=RANDOM_STATE, class_weight = 'balanced')\n",
    "\n",
    "pipline_lr = make_pipeline(col_transformer_lr, model_lr)\n",
    "\n",
    "param_grid_lr = {\n",
    "    'logisticregression__solver':['newton-cg', 'lbfgs', 'liblinear'],\n",
    "    'logisticregression__C':[0.1, 1, 10]\n",
    "}\n",
    "\n",
    "\n",
    "gs_lr = GridSearchCV(\n",
    "    pipline_lr, \n",
    "    param_grid=param_grid_lr, \n",
    "    scoring='roc_auc', \n",
    "    n_jobs=-1,\n",
    "    cv=3\n",
    ")\n",
    "\n",
    "gs_lr.fit(features_train, target_train)\n",
    "\n",
    "gs_lr_best_score = gs_lr.best_score_\n",
    "gs_lr_best_params = gs_lr.best_params_\n",
    "print(f'best_score: {gs_lr_best_score}')\n",
    "print(f'best_params: {gs_lr_best_params}')"
   ]
  },
  {
   "cell_type": "markdown",
   "metadata": {},
   "source": [
    "<div class=\"alert alert-block alert-success\">\n",
    "✔️ <b>Ревью 3</b>: Спасибо за конвейеры и правильный кодировщик категориальных признаков для линейной модели!\n",
    "</div>"
   ]
  },
  {
   "cell_type": "markdown",
   "metadata": {},
   "source": [
    "#### Случайный лес."
   ]
  },
  {
   "cell_type": "code",
   "execution_count": 70,
   "metadata": {},
   "outputs": [
    {
     "name": "stdout",
     "output_type": "stream",
     "text": [
      "best_score: 0.8335589093262356\n",
      "best_params: {'randomforestclassifier__max_depth': 7, 'randomforestclassifier__n_estimators': 60}\n",
      "CPU times: total: 6.31 s\n",
      "Wall time: 2min 11s\n"
     ]
    }
   ],
   "source": [
    "%%time\n",
    "col_transformer_rf= make_column_transformer(\n",
    "    (\n",
    "        OrdinalEncoder(handle_unknown='use_encoded_value', unknown_value=-1), \n",
    "        cat_features\n",
    "    ),\n",
    "    (\n",
    "        StandardScaler(), \n",
    "        num_features\n",
    "    ),\n",
    "    remainder='passthrough'\n",
    ")\n",
    "\n",
    "model_rf = RandomForestClassifier(random_state=RANDOM_STATE, class_weight = 'balanced')\n",
    "\n",
    "pipline_rf = make_pipeline(col_transformer_rf, model_rf)\n",
    "\n",
    "param_grid_rf = {\n",
    "    'randomforestclassifier__n_estimators': range(50, 251, 10),\n",
    "    'randomforestclassifier__max_depth': range(2, 15)\n",
    "}\n",
    "\n",
    "\n",
    "gs_rf = GridSearchCV(\n",
    "    pipline_rf, \n",
    "    param_grid=param_grid_rf, \n",
    "    scoring='roc_auc', \n",
    "    n_jobs=-1,\n",
    "    cv=3\n",
    ")\n",
    "\n",
    "gs_rf.fit(features_train, target_train)\n",
    "\n",
    "gs_rf_best_score = gs_rf.best_score_\n",
    "gs_rf_best_params = gs_rf.best_params_\n",
    "print(f'best_score: {gs_rf_best_score}')\n",
    "print(f'best_params: {gs_rf_best_params}')"
   ]
  },
  {
   "cell_type": "markdown",
   "metadata": {},
   "source": [
    "<div class=\"alert alert-block alert-success\">\n",
    "✔️ <b>Ревью 3</b>: Хорошо, что для леса выбрал сетку с относительно выслкими деревьями. Так и нужно. А для бустинга деревья лучше выбирать пониже.\n",
    "</div>"
   ]
  },
  {
   "cell_type": "markdown",
   "metadata": {},
   "source": [
    "<div class=\"alert alert-block alert-warning\">\n",
    "⚠️ <b>Ревью 3</b>: StandardScaler для деревянных моделей не часто дает значимый прирост качества.\n",
    "</div>"
   ]
  },
  {
   "cell_type": "markdown",
   "metadata": {},
   "source": [
    "#### CatBoostClassifier"
   ]
  },
  {
   "cell_type": "code",
   "execution_count": 71,
   "metadata": {},
   "outputs": [],
   "source": [
    "features_train_cb = features_train.copy()\n",
    "for feature in cat_features:\n",
    "    features_train_cb[feature] = features_train_cb[feature].astype('category')"
   ]
  },
  {
   "cell_type": "code",
   "execution_count": 72,
   "metadata": {},
   "outputs": [
    {
     "name": "stdout",
     "output_type": "stream",
     "text": [
      "best_score: 0.9064508350262326\n",
      "best_params: {'catboostclassifier__iterations': 500, 'catboostclassifier__learning_rate': 0.4, 'catboostclassifier__max_depth': 2}\n",
      "CPU times: total: 15.7 s\n",
      "Wall time: 1h 24min 8s\n"
     ]
    }
   ],
   "source": [
    "%%time\n",
    "\n",
    "model_cb = CatBoostClassifier(verbose=False, random_state=RANDOM_STATE,\n",
    "                              auto_class_weights='Balanced',\n",
    "                              cat_features=cat_features)\n",
    "\n",
    "pipline_cb = make_pipeline(model_cb)\n",
    "\n",
    "param_grid_cb = {\n",
    "    #'catboostclassifier__n_estimators': range(50, 251, 50),\n",
    "    'catboostclassifier__max_depth': range(2, 11),\n",
    "    'catboostclassifier__iterations': [100, 200, 300, 400, 500],\n",
    "    'catboostclassifier__learning_rate': [0.01, 0.1, 0.2, 0.3, 0.4]\n",
    "}\n",
    "\n",
    "\n",
    "gs_cb = GridSearchCV(\n",
    "    pipline_cb, \n",
    "    param_grid=param_grid_cb, \n",
    "    scoring='roc_auc', \n",
    "    n_jobs=-1,\n",
    "    cv=3\n",
    ")\n",
    "\n",
    "gs_cb.fit(features_train_cb, target_train)\n",
    "\n",
    "gs_cb_best_score = gs_cb.best_score_\n",
    "gs_cb_best_params = gs_cb.best_params_\n",
    "print(f'best_score: {gs_cb_best_score}')\n",
    "print(f'best_params: {gs_cb_best_params}')"
   ]
  },
  {
   "cell_type": "markdown",
   "metadata": {},
   "source": [
    "<div class=\"alert alert-block alert-warning\">\n",
    "⚠️ <b>Ревью 3</b>: Конвейер кажется уже лишним в отсутствии предобработки. Если только это не задел на будущее для сглаживания выбросов.\n",
    "</div>"
   ]
  },
  {
   "cell_type": "markdown",
   "metadata": {},
   "source": [
    "<div class=\"alert alert-block alert-info\">\n",
    "<b>Комментарий студента:</b> \n",
    "С помощью каких инструментов?\n",
    "    \n",
    "<div class=\"alert alert-block alert-warning\">\n",
    "    \n",
    "⚠️ <b>Ревью 4</b>: В ревью 1 выше я упоминал [RobustScaler](https://scikit-learn.org/stable/modules/generated/sklearn.preprocessing.RobustScaler.html). Для преобразования распределения в более нормальное можно использовать [PowerTransformer](https://scikit-learn.org/stable/modules/generated/sklearn.preprocessing.PowerTransformer.html). А применить логарифм к признаку или взять от него обратное поможет [FunctionTransformer](https://scikit-learn.org/stable/modules/generated/sklearn.preprocessing.FunctionTransformer.html).\n",
    "\n",
    "</div>\n",
    "</div>"
   ]
  },
  {
   "cell_type": "markdown",
   "metadata": {},
   "source": [
    "Сделаем таблицу с итоговыми метриками каждой модели на тренировочной выборке."
   ]
  },
  {
   "cell_type": "code",
   "execution_count": 81,
   "metadata": {},
   "outputs": [
    {
     "data": {
      "text/html": [
       "<div>\n",
       "<style scoped>\n",
       "    .dataframe tbody tr th:only-of-type {\n",
       "        vertical-align: middle;\n",
       "    }\n",
       "\n",
       "    .dataframe tbody tr th {\n",
       "        vertical-align: top;\n",
       "    }\n",
       "\n",
       "    .dataframe thead th {\n",
       "        text-align: right;\n",
       "    }\n",
       "</style>\n",
       "<table border=\"1\" class=\"dataframe\">\n",
       "  <thead>\n",
       "    <tr style=\"text-align: right;\">\n",
       "      <th></th>\n",
       "      <th>Model</th>\n",
       "      <th>ROC-AUC</th>\n",
       "    </tr>\n",
       "  </thead>\n",
       "  <tbody>\n",
       "    <tr>\n",
       "      <th>0</th>\n",
       "      <td>LogisticRegression</td>\n",
       "      <td>0.765429</td>\n",
       "    </tr>\n",
       "    <tr>\n",
       "      <th>1</th>\n",
       "      <td>RandomForestClassifier</td>\n",
       "      <td>0.833559</td>\n",
       "    </tr>\n",
       "    <tr>\n",
       "      <th>2</th>\n",
       "      <td>CatBoostClassifier</td>\n",
       "      <td>0.906451</td>\n",
       "    </tr>\n",
       "  </tbody>\n",
       "</table>\n",
       "</div>"
      ],
      "text/plain": [
       "                    Model   ROC-AUC\n",
       "0      LogisticRegression  0.765429\n",
       "1  RandomForestClassifier  0.833559\n",
       "2      CatBoostClassifier  0.906451"
      ]
     },
     "execution_count": 81,
     "metadata": {},
     "output_type": "execute_result"
    }
   ],
   "source": [
    "data = {\n",
    "    'Model': ['LogisticRegression', 'RandomForestClassifier', 'CatBoostClassifier'],\n",
    "    'ROC-AUC': [gs_lr_best_score, gs_rf_best_score, gs_cb_best_score],\n",
    "}\n",
    "\n",
    "results = pd.DataFrame(data)\n",
    "results"
   ]
  },
  {
   "cell_type": "markdown",
   "metadata": {},
   "source": [
    "Лучшие показатели получили с помощью модели catboostclassifier. Метрика ROC-AUC нас полностью устраивает, можем переходить к тестированию лучшей модели."
   ]
  },
  {
   "cell_type": "markdown",
   "metadata": {},
   "source": [
    "## Тестирование и анализ лучшей модели."
   ]
  },
  {
   "cell_type": "markdown",
   "metadata": {},
   "source": [
    "### Анализ метрик"
   ]
  },
  {
   "cell_type": "code",
   "execution_count": 73,
   "metadata": {},
   "outputs": [
    {
     "name": "stdout",
     "output_type": "stream",
     "text": [
      "Значение метрики ROC-AUC на тестовой выборке: 0.928\n",
      "Значение метрики accuracy на тестовой выборке: 0.886\n"
     ]
    }
   ],
   "source": [
    "cb_prediction = gs_cb.predict_proba(features_test)[:, 1]\n",
    "roc_auc_test = roc_auc_score(target_test, cb_prediction).round(3)\n",
    "accuracy_test = accuracy_score(target_test, gs_cb.predict(features_test)).round(3)\n",
    "print('Значение метрики ROC-AUC на тестовой выборке:', roc_auc_test)\n",
    "print('Значение метрики accuracy на тестовой выборке:', accuracy_test)"
   ]
  },
  {
   "cell_type": "markdown",
   "metadata": {},
   "source": [
    "<div class=\"alert alert-block alert-danger\">\n",
    "❌ <s><b>Ревью 3</b>: Последняя метрика не ROC-AUC.</s>\n",
    "</div>"
   ]
  },
  {
   "cell_type": "markdown",
   "metadata": {},
   "source": [
    "<div class=\"alert alert-block alert-info\">\n",
    "<b>Комментарий студента:</b> \n",
    "Поправил, спасибо.\n",
    "</div>"
   ]
  },
  {
   "cell_type": "code",
   "execution_count": 74,
   "metadata": {},
   "outputs": [
    {
     "data": {
      "image/png": "[encoded data removed]",
      "text/plain": [
       "<Figure size 1080x576 with 1 Axes>"
      ]
     },
     "metadata": {},
     "output_type": "display_data"
    }
   ],
   "source": [
    "fpr, tpr, thresholds = roc_curve(target_test, cb_prediction)\n",
    "\n",
    "plt.figure(figsize=(15, 8))\n",
    "plt.plot(fpr, tpr)\n",
    "plt.plot([0, 1], [0, 1], linestyle='--')\n",
    "plt.xlim([0.0, 1.0])\n",
    "plt.ylim([0.0, 1.0])\n",
    "plt.xlabel('False Positive Rate')\n",
    "plt.ylabel('True Positive Rate')\n",
    "plt.title('ROC-кривая')\n",
    "plt.show()"
   ]
  },
  {
   "cell_type": "markdown",
   "metadata": {},
   "source": [
    "- Значение 0.928 для ROC-AUC говорит о том, что модель хорошо разделяет классы и имеет высокую способность различать объекты разных классов.\n",
    "- Значение 0.886 для accuracy говорит о том, что модель правильно классифицировала 88.6% объектов на тестовой выборке.\n",
    "- Обе метрики указывают на высокую способность модели сделать правильные классификации, что делает её хорошей в данной задаче."
   ]
  },
  {
   "cell_type": "markdown",
   "metadata": {},
   "source": [
    "<div class=\"alert alert-block alert-danger\">\n",
    "❌ <s><b>Ревью 3</b>: Нужно добавить словесное описание, почему модель считается хорошей.</s>\n",
    "</div>"
   ]
  },
  {
   "cell_type": "markdown",
   "metadata": {},
   "source": [
    "<div class=\"alert alert-block alert-info\">\n",
    "<b>Комментарий студента:</b> \n",
    "Спасибо. Добавил.\n",
    "</div>"
   ]
  },
  {
   "cell_type": "code",
   "execution_count": 75,
   "metadata": {},
   "outputs": [
    {
     "data": {
      "image/png": "[encoded data removed]",
      "text/plain": [
       "<Figure size 576x576 with 2 Axes>"
      ]
     },
     "metadata": {},
     "output_type": "display_data"
    }
   ],
   "source": [
    "cmatrix = confusion_matrix(target_test, gs_cb.predict(features_test),normalize='true')\n",
    "plt.figure(figsize=(8, 8))\n",
    "sns.heatmap(cmatrix, \n",
    "                annot=True,  \n",
    "                cmap='Blues')\n",
    "plt.xlabel('Предсказания')\n",
    "plt.ylabel('Правильные ответы')\n",
    "plt.title('Матрица ошибок')\n",
    "plt.show()"
   ]
  },
  {
   "cell_type": "markdown",
   "metadata": {},
   "source": [
    "Мы получили хорошее качество модели на тестовой выборке.\n",
    "* Значение метрики ROC-AUC на тестовой выборке: 0.928\n",
    "* Значение метрики acuracy на тестовой выборке: 0.886"
   ]
  },
  {
   "cell_type": "markdown",
   "metadata": {},
   "source": [
    "Матрица ошибок позволяет увидеть, насколько хорошо модель справляется с каждым классом и какие классы склонны к ошибкам.\n",
    "\n",
    "В нашем случае модель верно определяет 90% случаев класса 0 и 79% класса 1."
   ]
  },
  {
   "cell_type": "markdown",
   "metadata": {},
   "source": [
    "<div class=\"alert alert-block alert-danger\">\n",
    "❌ <s><b>Ревью 3</b>: Метрики хорошие, но что мы можем понять по матрице ошибок?</s>\n",
    "</div>"
   ]
  },
  {
   "cell_type": "markdown",
   "metadata": {},
   "source": [
    "<div class=\"alert alert-block alert-info\">\n",
    "<b>Комментарий студента:</b> \n",
    "Добавил, спасибо.\n",
    "</div>"
   ]
  },
  {
   "cell_type": "markdown",
   "metadata": {},
   "source": [
    "Далее посмотрим, какие из признаков оказывают наибольшее влияние на целевую переменную."
   ]
  },
  {
   "cell_type": "markdown",
   "metadata": {},
   "source": [
    "### Анализ важности признаков."
   ]
  },
  {
   "cell_type": "markdown",
   "metadata": {},
   "source": [
    "<div class=\"alert alert-block alert-danger\">\n",
    "❌ <s><b>Ревью 3</b>: Это хорошая возможность научиться это делать. В конвейере к каждому шагу можно обратиться по имени или по индексу, а потом забрать из последнего шага с моделью важности признаков примерно так: \n",
    "\n",
    "```python\n",
    "gs_cb.best_estimator_[-1].feature_importances_\n",
    "```\n",
    "\n",
    "Если я не угадал нумерацию, то поэкспериментируй, пожалуйста, с обращением к этапам конвейера, выводя их на экран, начиная с gs_cb.best_estimator_ (уже обученная после кросс-валидации лучшая модель).</s>\n",
    "</div>"
   ]
  },
  {
   "cell_type": "markdown",
   "metadata": {},
   "source": [
    "<div class=\"alert alert-block alert-info\">\n",
    "<b>Комментарий студента:</b> \n",
    "Переделал, спасибо.\n",
    "</div>"
   ]
  },
  {
   "cell_type": "code",
   "execution_count": 76,
   "metadata": {},
   "outputs": [],
   "source": [
    "# # Получите значения важности признаков\n",
    "feature_importances = gs_cb.best_estimator_[-1].feature_importances_\n",
    "\n",
    "# Соедините названия признаков с их важностью\n",
    "feature_names = list(features_train_cb.columns)\n",
    "feature_names_with_importances = list(zip(feature_names, feature_importances))\n",
    "\n",
    "feature_names_with_importances.sort(key=lambda x: x[1], reverse=True)"
   ]
  },
  {
   "cell_type": "code",
   "execution_count": 77,
   "metadata": {},
   "outputs": [],
   "source": [
    "df_feature_importances = pd.DataFrame(feature_names_with_importances, columns=['Feature', 'Importance'])"
   ]
  },
  {
   "cell_type": "code",
   "execution_count": 78,
   "metadata": {},
   "outputs": [
    {
     "data": {
      "image/png": "[encoded data removed]",
      "text/plain": [
       "<Figure size 1080x576 with 1 Axes>"
      ]
     },
     "metadata": {},
     "output_type": "display_data"
    }
   ],
   "source": [
    "plt.figure(figsize=(15, 8))\n",
    "sns.barplot(data = df_feature_importances, x='Importance', y='Feature')\n",
    "plt.xlabel('Важность признаков')\n",
    "plt.ylabel('Признаки')\n",
    "plt.title('Визуализация важных признаков')\n",
    "plt.show()"
   ]
  },
  {
   "cell_type": "code",
   "execution_count": 79,
   "metadata": {},
   "outputs": [
    {
     "data": {
      "image/png": "[encoded data removed]",
      "text/plain": [
       "<Figure size 576x597.6 with 2 Axes>"
      ]
     },
     "metadata": {},
     "output_type": "display_data"
    }
   ],
   "source": [
    "shap_test = shap.TreeExplainer(gs_cb.best_estimator_[-1]).shap_values(features_test)\n",
    "shap.summary_plot(shap_test, features_test,\n",
    "                      max_display=25, auto_size_plot=True)"
   ]
  },
  {
   "cell_type": "markdown",
   "metadata": {},
   "source": [
    "Пояснения к графику:\n",
    "* значения слева от центральной вертикальной линии — это negative класс (0), справа — positive (1)\n",
    "* чем толще линия на графике, тем больше таких точек наблюдения\n",
    "* чем краснее точки на графике, тем выше значения фичи в ней"
   ]
  },
  {
   "cell_type": "markdown",
   "metadata": {},
   "source": [
    "Видим, что наибольшее влияние на целевую переменную оказывает длительность использования услуг. Чем дольше период пользования услугами, тем меньше вероятность ухода этого клиента.\n",
    "На втором месте ежемесячные траты на услуги. Чем выше месячные траты, тем больше вероятность, что клиент уйдёт."
   ]
  },
  {
   "cell_type": "markdown",
   "metadata": {},
   "source": [
    "<div class=\"alert alert-block alert-success\">\n",
    "✔️ <b>Ревью 3</b>: Отличная идея с SHAP. Можно тоже использовать gs_cb.best_estimator_ для анализа.\n",
    "</div>"
   ]
  },
  {
   "cell_type": "markdown",
   "metadata": {},
   "source": [
    "<div class=\"alert alert-block alert-success\">\n",
    "✔️ <s><b>Ревью 3</b>: Павел, работа практически сделана. И сделана она хорошо. Время позволяет комфортно устранить некоторые замечания перед переходом к отчету.</s>\n",
    "</div>"
   ]
  },
  {
   "cell_type": "markdown",
   "metadata": {},
   "source": [
    "<div class=\"alert alert-block alert-success\">\n",
    "✔️ <b>Ревью 4</b>: Павел, самое интересное сделано хорошо. Дело за самым важным - написанием отчета.\n",
    "</div>"
   ]
  },
  {
   "cell_type": "markdown",
   "metadata": {},
   "source": [
    "## Итоговый отчёт."
   ]
  },
  {
   "cell_type": "markdown",
   "metadata": {},
   "source": [
    "На первом этапе мы составили для себя план работы:\n",
    "1. Загрузка и ознакомление с данными.\n",
    "   - Проверка форматов данных.\n",
    "   - Проверка на дубли.\n",
    "   - Проверка на пропуски.\n",
    "2. Исследование и предобработка данных.\n",
    "   - Изменение форматов данных.\n",
    "   - Заполнение пропусков.\n",
    "   - Выделение целевого признака.\n",
    "   - Добавление синтетических признаков.\n",
    "   - Объединение данных.\n",
    "   - Анализ выбросов и аномалий.\n",
    "   - Проверка корреляции признаков.\n",
    "5. Разработка модели.\n",
    "   - Подготовка признаков и разделение выборки.\n",
    "   - Обучение моделей.\n",
    "     - Логистическая регрессия.\n",
    "     - Случайный лес.\n",
    "     - Бустинг (LightGBM or Catboost)\n",
    "6. Тестирование и анализ лучшей модели.\n",
    "   - Анализ метрик.\n",
    "   - Анализ важности признаков.\n",
    "7. Итоговый отчёт.\n",
    "\n",
    "Все заявленные пункты удалось реализовать.\n",
    "\n",
    "Краткое описание результатов на каждом шаге:\n",
    "1. Загрузка и ознакомление с данными.\n",
    "- На первом этапе мы выявили признаки с неоптиматльным форматом данных: поля `BeginDate`, `EndDate`, `TotalCharges`.\n",
    "- Проверили наш датасет на наличие явных и неявных дублей и пропусков в данных.\n",
    "- Обнаружили, что в поле `TotalCharges` есть неявные пропуски.\n",
    "- Так же определились, что на основе поля `EndDate` мы будем формировать целевой признак, для обучения модели.\n",
    "2. Исследование и предобработка данных.\n",
    "- На втором этапе мы изменили форматы отмеченных на первом этапе полей.\n",
    "- Заполнили пропуски нулями в поле `TotalCharges`, поскольку пропуски были в строках, где дата начала (`begindate`) соответствует дате среза данных.\n",
    "- На основе поля `EndDate` создали целевой признак `target` по принципу: 1 - где стояла дата окончания, 0 - где дата окончания равна `No`.\n",
    "- Также мы сгенерировали дополнительный признак `period_use`,который равняетеся количеству дней пользования услугами (dateend-datebegin).\n",
    "- Объединили данные из всех четырёх таблиц, таким образом, чтобы не потерять никаких данных.\n",
    "- Заполнили поля с отсутствующей информацией заглушками.\n",
    "- Провели графический анализ на наличие каких либо выбросов и аномалий в данных.\n",
    "- Провели проверку признаков на наличие корреляции друг с другом с помощью библиотеки phik.\n",
    "3. Разработка модели.\n",
    "- На третьем этапе мы на основе анализа который ранее выполнили, избавились от признака `totalcharges`, поскольку он сильно коррелировал с нашим новым признаком `period_use`, который равен кол-ву дней пользования услугами. Также избавились от полей с датами, для предотвращения утечки данных.\n",
    "- В итоге, для обучения моделей были использованы следующие признаки: категориальные `'type', 'paperlessbilling', 'paymentmethod', 'gender', 'seniorcitizen', 'partner', 'dependents', 'internetservice', 'onlinesecurity', 'onlinebackup', 'deviceprotection', 'techsupport', 'streamingtv', 'streamingmovies', 'multiplelines'` и числовые `'monthlycharges', 'period_use'`.\n",
    "- Мы разделили наш датасет на тренировочную и тестовую выборки, в соотношении 1 к 3.\n",
    "- С использованием конвееров, мы подобрали гиперпараметры (максимизируя метрику ROC-AUC) и обучили три модели:\n",
    "| Model | ROC-AUC |\n",
    "|----------|----------|\n",
    "| LogisticRegression   | 0.765429   |\n",
    "| RandomForestClassifier    | 0.833559   |\n",
    "| CatBoostClassifier    | 0.906451   |\n",
    "\n",
    "Лучшие результаты мы получили с помощью модели CatBoostClassifier.\n",
    "В модели CatBoostClassifier подбор парметров осуществляли по соледующим параметрам:\n",
    "* 'max_depth': range(2, 11),\n",
    "* 'iterations': [100, 200, 300, 400, 500],\n",
    "* 'learning_rate': [0.01, 0.1, 0.2, 0.3, 0.4]\n",
    "В итоге лучшая метрика ROC-AUC была достигнута при следующих параметрах:\n",
    "\n",
    "`'iterations': 500, 'learning_rate': 0.4, 'max_depth': 2`\n",
    "\n",
    "4. Тестирование и анализ лучшей модели.\n",
    "- На четвертом этапе мы провели анализ качества нашей лучшей модели на тестовой выборке.\n",
    "- Мы получили следующие результаты:\n",
    "* Значение метрики ROC-AUC на тестовой выборке: 0.928 (говорит о том, что модель хорошо разделяет классы и имеет высокую способность различать объекты разных классов).\n",
    "* Значение метрики acuracy на тестовой выборке: 0.886 (говорит о том, что модель правильно классифицировала 88.6% объектов на тестовой выборке).\n",
    "- Обе метрики указывают на высокую способность модели сделать правильные классификации, что делает её хорошей в данной задаче.\n",
    "- С помощью матрицы ошибок выяснили, что наша модель верно определяет 90% случаев класса 0 и 79% класса 1.\n",
    "- Выяснили, что наибольшее влияние на целевую переменную оказывает длительность использования услуг. Чем дольше период пользования услугами, тем меньше вероятность ухода этого клиента. На втором месте ежемесячные траты на услуги. Чем выше месячные траты, тем больше вероятность, что клиент уйдёт.\n",
    "\n",
    "5. В итоге компании «Ниединогоразрыва.ком» мы рекомендуем использовать нашу модель для прогнозирования оттока клиентов."
   ]
  },
  {
   "cell_type": "markdown",
   "metadata": {},
   "source": [
    "<div class=\"alert alert-success\">\n",
    "<b>✔️ Заключение тимлида:</b> Павел, рад сообщить, что твой отчет принят. Это значит, что ты справился с поставленной задачей. Поздравляю!\n",
    "    \n",
    "Очень хорошо, что ты применил в работе эффективную библиотеку анализа корреляций, технику обучения моделей с подбором гиперпараметров на кросс-валидации и обработкой признаков в конвейере, а также различные способы анализа важности признаков. Надеюсь, что успех в финальном проекте будет мотивировать тебя на покорение новых высот в машинном обучении.\n",
    "\n",
    "Со своей стороны хотел бы порекомендовать тебе некоторые материалы для дальнейшего совершенствования:\n",
    "    \n",
    "https://academy.yandex.ru/handbook/ml онлайн-учебник от Школы анализа данных Яндекса, в котором описаны теоретические основы работы моделей машинного обучения;\n",
    "\n",
    "https://www.youtube.com/watch?v=xl1fwCza9C8 познавательное видео по настройке модели CatBoost;\n",
    "\n",
    "https://habr.com/ru/company/ods/blog/322626/ на Habr можно закрепить свои знания, порешав задачи из цикла статей — Открытый курс машинного обучения;\n",
    "\n",
    "https://github.com/esokolov/ml-course-hse — на гитхаб есть репозиторий с задачами из курса по машинному обучению от Евгения Соколова, можно использовать как дополнительный материал для закрепления знаний.\n",
    "\n",
    "https://habr.com/ru/company/avito/blog/571094/ — материалы по A/B тестам.\n",
    "\n",
    "Также хочу поделиться опытом и вкратце рассказать о том, в какие направления можно подаваться на работу и какие навыки там пригодятся:\n",
    "\n",
    "Направление аналитики: хорошие знания теории вероятностей и математической статистики; базовые знания библиотек ML; уверенные знания SQL; умение решать задачи по A/B тестам; плюсом будет знание специальных инструментов для аналитики по визуализации результатов.\n",
    "\n",
    "Направление ML: уверенные знания классических моделей машинного обучения; хорошие знания SQL; понимание алгоритмов машинного обучения — как устроена модель линейной регрессии, модели случайного леса, градиентного бустинга и т.д. На собеседовании могут спросить, как работает какая-нибудь модель «под капотом», очень любят градиентный бустинг и случайный лес. Здесь точно пригодится учебник https://academy.yandex.ru/handbook/ml\n",
    "\n",
    "В некоторых компаниях при устройстве на работу или стажировку, например в Яндексе, нужно решить тест на алгоритмические задачи. По алгоритмам есть много разных курсов, платных и бесплатных. Можно попробовать Тренировки по Алгоритмам от Яндекса https://yandex.ru/yaintern/algorithm-training (бесплатно, хороший курс). Также есть и у Практикума курс по алгоритмам.\n",
    "    \n",
    "Павел, прими ещё раз  мои поздравления и пожелания новых успехов! До встречи на заключительном вебинаре.\n",
    "</div>"
   ]
  }
 ],
 "metadata": {
  "ExecuteTimeLog": [
   {
    "duration": 84,
    "start_time": "2023-07-31T09:01:36.066Z"
   },
   {
    "duration": 197,
    "start_time": "2023-07-31T09:05:51.948Z"
   },
   {
    "duration": 1336,
    "start_time": "2023-07-31T09:13:17.845Z"
   },
   {
    "duration": 355,
    "start_time": "2023-07-31T09:15:20.914Z"
   },
   {
    "duration": 15,
    "start_time": "2023-07-31T09:15:36.392Z"
   },
   {
    "duration": 9,
    "start_time": "2023-07-31T09:16:10.282Z"
   },
   {
    "duration": 9,
    "start_time": "2023-07-31T09:16:16.950Z"
   },
   {
    "duration": 80,
    "start_time": "2023-07-31T09:24:15.558Z"
   },
   {
    "duration": 11,
    "start_time": "2023-07-31T09:45:50.653Z"
   },
   {
    "duration": 15,
    "start_time": "2023-07-31T09:46:08.754Z"
   },
   {
    "duration": 15,
    "start_time": "2023-07-31T09:46:53.981Z"
   },
   {
    "duration": 8,
    "start_time": "2023-07-31T09:47:47.371Z"
   },
   {
    "duration": 13,
    "start_time": "2023-07-31T09:48:18.441Z"
   },
   {
    "duration": 17,
    "start_time": "2023-07-31T09:49:47.950Z"
   },
   {
    "duration": 10,
    "start_time": "2023-07-31T09:55:42.953Z"
   },
   {
    "duration": 12,
    "start_time": "2023-07-31T09:56:04.761Z"
   },
   {
    "duration": 7,
    "start_time": "2023-07-31T09:57:20.583Z"
   },
   {
    "duration": 10,
    "start_time": "2023-07-31T09:57:41.522Z"
   },
   {
    "duration": 98,
    "start_time": "2023-07-31T12:27:07.346Z"
   },
   {
    "duration": 7,
    "start_time": "2023-07-31T12:27:12.348Z"
   },
   {
    "duration": 5,
    "start_time": "2023-07-31T12:27:17.501Z"
   },
   {
    "duration": 5,
    "start_time": "2023-07-31T12:27:27.209Z"
   },
   {
    "duration": 5,
    "start_time": "2023-07-31T12:28:18.679Z"
   },
   {
    "duration": 5,
    "start_time": "2023-07-31T12:28:25.249Z"
   },
   {
    "duration": 64,
    "start_time": "2023-07-31T12:32:01.462Z"
   },
   {
    "duration": 64,
    "start_time": "2023-07-31T12:33:15.697Z"
   },
   {
    "duration": 9,
    "start_time": "2023-07-31T12:33:38.077Z"
   },
   {
    "duration": 4,
    "start_time": "2023-07-31T12:33:40.001Z"
   },
   {
    "duration": 3,
    "start_time": "2023-07-31T12:33:42.145Z"
   },
   {
    "duration": 9,
    "start_time": "2023-07-31T12:34:31.191Z"
   },
   {
    "duration": 4,
    "start_time": "2023-07-31T12:34:37.579Z"
   },
   {
    "duration": 3,
    "start_time": "2023-07-31T12:34:40.658Z"
   },
   {
    "duration": 4,
    "start_time": "2023-07-31T12:34:49.149Z"
   },
   {
    "duration": 4,
    "start_time": "2023-07-31T12:35:32.358Z"
   },
   {
    "duration": 5,
    "start_time": "2023-07-31T12:35:44.773Z"
   },
   {
    "duration": 19,
    "start_time": "2023-07-31T12:37:05.164Z"
   },
   {
    "duration": 10,
    "start_time": "2023-07-31T12:37:42.175Z"
   },
   {
    "duration": 318,
    "start_time": "2023-07-31T12:40:45.541Z"
   },
   {
    "duration": 10,
    "start_time": "2023-07-31T12:40:57.533Z"
   },
   {
    "duration": 8,
    "start_time": "2023-07-31T12:43:47.249Z"
   },
   {
    "duration": 6,
    "start_time": "2023-07-31T12:44:32.799Z"
   },
   {
    "duration": 19,
    "start_time": "2023-07-31T12:45:10.457Z"
   },
   {
    "duration": 6,
    "start_time": "2023-07-31T12:45:48.552Z"
   },
   {
    "duration": 7,
    "start_time": "2023-07-31T12:46:29.816Z"
   },
   {
    "duration": 177,
    "start_time": "2023-07-31T12:47:42.572Z"
   },
   {
    "duration": 7,
    "start_time": "2023-07-31T12:48:16.176Z"
   },
   {
    "duration": 152,
    "start_time": "2023-07-31T12:50:42.610Z"
   },
   {
    "duration": 24373,
    "start_time": "2023-07-31T12:51:12.576Z"
   },
   {
    "duration": 162,
    "start_time": "2023-07-31T12:51:47.797Z"
   },
   {
    "duration": 13,
    "start_time": "2023-07-31T12:52:10.863Z"
   },
   {
    "duration": 139,
    "start_time": "2023-07-31T12:54:09.299Z"
   },
   {
    "duration": 6,
    "start_time": "2023-07-31T13:08:11.023Z"
   },
   {
    "duration": 9,
    "start_time": "2023-07-31T13:08:37.691Z"
   },
   {
    "duration": 5,
    "start_time": "2023-07-31T13:09:06.168Z"
   },
   {
    "duration": 6,
    "start_time": "2023-07-31T13:09:42.084Z"
   },
   {
    "duration": 6,
    "start_time": "2023-07-31T13:09:44.580Z"
   },
   {
    "duration": 10,
    "start_time": "2023-07-31T13:14:34.592Z"
   },
   {
    "duration": 7,
    "start_time": "2023-07-31T13:15:05.853Z"
   },
   {
    "duration": 6,
    "start_time": "2023-07-31T13:15:19.089Z"
   },
   {
    "duration": 6,
    "start_time": "2023-07-31T13:16:11.911Z"
   },
   {
    "duration": 6,
    "start_time": "2023-07-31T13:16:24.723Z"
   },
   {
    "duration": 5,
    "start_time": "2023-07-31T13:16:44.581Z"
   },
   {
    "duration": 6,
    "start_time": "2023-07-31T13:16:51.314Z"
   },
   {
    "duration": 5,
    "start_time": "2023-07-31T13:16:58.250Z"
   },
   {
    "duration": 8,
    "start_time": "2023-07-31T13:17:04.263Z"
   },
   {
    "duration": 5,
    "start_time": "2023-07-31T13:17:11.358Z"
   },
   {
    "duration": 7,
    "start_time": "2023-07-31T13:18:35.101Z"
   },
   {
    "duration": 6,
    "start_time": "2023-07-31T13:19:10.158Z"
   },
   {
    "duration": 69,
    "start_time": "2023-07-31T13:21:19.454Z"
   },
   {
    "duration": 48,
    "start_time": "2023-08-01T04:20:32.890Z"
   },
   {
    "duration": 3051,
    "start_time": "2023-08-01T04:31:19.819Z"
   },
   {
    "duration": 38,
    "start_time": "2023-08-01T04:31:36.423Z"
   },
   {
    "duration": 65,
    "start_time": "2023-08-01T05:02:36.085Z"
   },
   {
    "duration": 20,
    "start_time": "2023-08-01T07:03:30.405Z"
   },
   {
    "duration": 6,
    "start_time": "2023-08-01T07:11:14.182Z"
   },
   {
    "duration": 15,
    "start_time": "2023-08-01T07:11:16.649Z"
   },
   {
    "duration": 13,
    "start_time": "2023-08-01T07:25:22.505Z"
   },
   {
    "duration": 25,
    "start_time": "2023-08-01T07:25:48.580Z"
   },
   {
    "duration": 9,
    "start_time": "2023-08-01T07:27:04.371Z"
   },
   {
    "duration": 14,
    "start_time": "2023-08-01T07:27:07.480Z"
   },
   {
    "duration": 68,
    "start_time": "2023-08-01T07:29:20.884Z"
   },
   {
    "duration": 10,
    "start_time": "2023-08-01T07:29:32.369Z"
   },
   {
    "duration": 307,
    "start_time": "2023-08-01T07:29:38.714Z"
   },
   {
    "duration": 4,
    "start_time": "2023-08-01T07:29:45.901Z"
   },
   {
    "duration": 12,
    "start_time": "2023-08-01T07:29:54.145Z"
   },
   {
    "duration": 10,
    "start_time": "2023-08-01T07:30:09.944Z"
   },
   {
    "duration": 5,
    "start_time": "2023-08-01T07:30:18.265Z"
   },
   {
    "duration": 5,
    "start_time": "2023-08-01T07:47:25.585Z"
   },
   {
    "duration": 12,
    "start_time": "2023-08-01T07:47:33.321Z"
   },
   {
    "duration": 5,
    "start_time": "2023-08-01T07:48:42.604Z"
   },
   {
    "duration": 4,
    "start_time": "2023-08-01T07:54:38.547Z"
   },
   {
    "duration": 12,
    "start_time": "2023-08-01T07:54:45.801Z"
   },
   {
    "duration": 10,
    "start_time": "2023-08-01T08:05:54.992Z"
   },
   {
    "duration": 12,
    "start_time": "2023-08-01T08:06:15.142Z"
   },
   {
    "duration": 5,
    "start_time": "2023-08-01T08:08:49.022Z"
   },
   {
    "duration": 13,
    "start_time": "2023-08-01T08:08:58.964Z"
   },
   {
    "duration": 24,
    "start_time": "2023-08-01T08:09:41.826Z"
   },
   {
    "duration": 15,
    "start_time": "2023-08-01T08:09:55.577Z"
   },
   {
    "duration": 5,
    "start_time": "2023-08-01T08:10:21.860Z"
   },
   {
    "duration": 13,
    "start_time": "2023-08-01T08:10:24.686Z"
   },
   {
    "duration": 18,
    "start_time": "2023-08-01T08:14:17.710Z"
   },
   {
    "duration": 5,
    "start_time": "2023-08-01T08:14:20.475Z"
   },
   {
    "duration": 13,
    "start_time": "2023-08-01T08:14:22.692Z"
   },
   {
    "duration": 13,
    "start_time": "2023-08-01T08:14:28.647Z"
   },
   {
    "duration": 4,
    "start_time": "2023-08-01T08:20:46.549Z"
   },
   {
    "duration": 12,
    "start_time": "2023-08-01T08:21:05.116Z"
   },
   {
    "duration": 9,
    "start_time": "2023-08-01T08:21:15.844Z"
   },
   {
    "duration": 32,
    "start_time": "2023-08-01T08:24:56.759Z"
   },
   {
    "duration": 52,
    "start_time": "2023-08-01T08:25:45.041Z"
   },
   {
    "duration": 59,
    "start_time": "2023-08-01T08:26:27.300Z"
   },
   {
    "duration": 44,
    "start_time": "2023-08-01T08:28:45.934Z"
   },
   {
    "duration": 25,
    "start_time": "2023-08-01T08:29:02.278Z"
   },
   {
    "duration": 6493,
    "start_time": "2023-08-01T09:06:14.328Z"
   },
   {
    "duration": 7,
    "start_time": "2023-08-01T09:08:15.812Z"
   },
   {
    "duration": 4,
    "start_time": "2023-08-01T09:08:25.813Z"
   },
   {
    "duration": 16,
    "start_time": "2023-08-01T09:08:29.814Z"
   },
   {
    "duration": 9,
    "start_time": "2023-08-01T09:09:15.951Z"
   },
   {
    "duration": 18,
    "start_time": "2023-08-01T09:09:18.522Z"
   },
   {
    "duration": 6,
    "start_time": "2023-08-01T09:13:17.703Z"
   },
   {
    "duration": 145,
    "start_time": "2023-08-01T09:13:34.561Z"
   },
   {
    "duration": 1754,
    "start_time": "2023-08-01T09:14:44.517Z"
   },
   {
    "duration": 1254,
    "start_time": "2023-08-01T09:14:59.071Z"
   },
   {
    "duration": 6,
    "start_time": "2023-08-01T09:20:53.446Z"
   },
   {
    "duration": 1313,
    "start_time": "2023-08-01T09:20:56.533Z"
   },
   {
    "duration": 1228,
    "start_time": "2023-08-01T09:23:59.589Z"
   },
   {
    "duration": 94,
    "start_time": "2023-08-01T09:24:09.944Z"
   },
   {
    "duration": 7,
    "start_time": "2023-08-01T09:24:15.210Z"
   },
   {
    "duration": 5,
    "start_time": "2023-08-01T09:25:09.142Z"
   },
   {
    "duration": 9,
    "start_time": "2023-08-01T09:25:23.053Z"
   },
   {
    "duration": 1842,
    "start_time": "2023-08-01T09:30:51.673Z"
   },
   {
    "duration": 5205,
    "start_time": "2023-08-01T09:31:04.496Z"
   },
   {
    "duration": 3980,
    "start_time": "2023-08-01T09:31:38.806Z"
   },
   {
    "duration": 4254,
    "start_time": "2023-08-01T09:32:10.650Z"
   },
   {
    "duration": 3964,
    "start_time": "2023-08-01T09:32:25.705Z"
   },
   {
    "duration": 20493,
    "start_time": "2023-08-01T09:38:51.705Z"
   },
   {
    "duration": 6,
    "start_time": "2023-08-01T09:40:13.129Z"
   },
   {
    "duration": 3,
    "start_time": "2023-08-01T09:42:29.164Z"
   },
   {
    "duration": 1774,
    "start_time": "2023-08-01T09:42:46.770Z"
   },
   {
    "duration": 1800,
    "start_time": "2023-08-01T09:45:24.108Z"
   },
   {
    "duration": 11,
    "start_time": "2023-08-01T09:45:30.961Z"
   },
   {
    "duration": 10,
    "start_time": "2023-08-01T09:45:59.758Z"
   },
   {
    "duration": 3237,
    "start_time": "2023-08-01T09:46:04.422Z"
   },
   {
    "duration": 3420,
    "start_time": "2023-08-01T09:46:44.228Z"
   },
   {
    "duration": 3387,
    "start_time": "2023-08-01T09:57:58.608Z"
   },
   {
    "duration": 233,
    "start_time": "2023-08-01T10:31:43.589Z"
   },
   {
    "duration": 286,
    "start_time": "2023-08-01T10:57:30.433Z"
   },
   {
    "duration": 4,
    "start_time": "2023-08-01T11:00:18.653Z"
   },
   {
    "duration": 1534,
    "start_time": "2023-08-01T11:00:18.659Z"
   },
   {
    "duration": 100,
    "start_time": "2023-08-01T11:00:20.194Z"
   },
   {
    "duration": 15,
    "start_time": "2023-08-01T11:00:20.296Z"
   },
   {
    "duration": 13,
    "start_time": "2023-08-01T11:00:20.313Z"
   },
   {
    "duration": 51,
    "start_time": "2023-08-01T11:00:20.328Z"
   },
   {
    "duration": 17,
    "start_time": "2023-08-01T11:00:20.381Z"
   },
   {
    "duration": 14,
    "start_time": "2023-08-01T11:00:20.400Z"
   },
   {
    "duration": 23,
    "start_time": "2023-08-01T11:00:20.416Z"
   },
   {
    "duration": 37,
    "start_time": "2023-08-01T11:00:20.441Z"
   },
   {
    "duration": 22,
    "start_time": "2023-08-01T11:00:20.480Z"
   },
   {
    "duration": 29,
    "start_time": "2023-08-01T11:00:20.503Z"
   },
   {
    "duration": 45,
    "start_time": "2023-08-01T11:00:20.535Z"
   },
   {
    "duration": 197,
    "start_time": "2023-08-01T11:00:20.582Z"
   },
   {
    "duration": 10,
    "start_time": "2023-08-01T11:00:20.780Z"
   },
   {
    "duration": 18,
    "start_time": "2023-08-01T11:00:20.791Z"
   },
   {
    "duration": 47,
    "start_time": "2023-08-01T11:00:20.810Z"
   },
   {
    "duration": 23,
    "start_time": "2023-08-01T11:00:20.858Z"
   },
   {
    "duration": 29,
    "start_time": "2023-08-01T11:00:20.882Z"
   },
   {
    "duration": 23,
    "start_time": "2023-08-01T11:00:20.912Z"
   },
   {
    "duration": 40,
    "start_time": "2023-08-01T11:00:20.937Z"
   },
   {
    "duration": 62,
    "start_time": "2023-08-01T11:00:20.979Z"
   },
   {
    "duration": 26,
    "start_time": "2023-08-01T11:00:21.043Z"
   },
   {
    "duration": 39,
    "start_time": "2023-08-01T11:00:21.071Z"
   },
   {
    "duration": 26,
    "start_time": "2023-08-01T11:00:21.112Z"
   },
   {
    "duration": 9,
    "start_time": "2023-08-01T11:00:21.140Z"
   },
   {
    "duration": 11,
    "start_time": "2023-08-01T11:00:21.151Z"
   },
   {
    "duration": 14,
    "start_time": "2023-08-01T11:00:21.163Z"
   },
   {
    "duration": 17,
    "start_time": "2023-08-01T11:00:21.179Z"
   },
   {
    "duration": 19,
    "start_time": "2023-08-01T11:00:21.198Z"
   },
   {
    "duration": 24,
    "start_time": "2023-08-01T11:00:21.219Z"
   },
   {
    "duration": 21,
    "start_time": "2023-08-01T11:00:21.245Z"
   },
   {
    "duration": 32,
    "start_time": "2023-08-01T11:00:21.268Z"
   },
   {
    "duration": 29,
    "start_time": "2023-08-01T11:00:21.301Z"
   },
   {
    "duration": 29,
    "start_time": "2023-08-01T11:00:21.331Z"
   },
   {
    "duration": 28,
    "start_time": "2023-08-01T11:00:21.363Z"
   },
   {
    "duration": 21,
    "start_time": "2023-08-01T11:00:21.395Z"
   },
   {
    "duration": 32,
    "start_time": "2023-08-01T11:00:21.418Z"
   },
   {
    "duration": 27,
    "start_time": "2023-08-01T11:00:21.452Z"
   },
   {
    "duration": 8,
    "start_time": "2023-08-01T11:00:21.480Z"
   },
   {
    "duration": 22,
    "start_time": "2023-08-01T11:00:21.489Z"
   },
   {
    "duration": 14,
    "start_time": "2023-08-01T11:00:21.513Z"
   },
   {
    "duration": 17,
    "start_time": "2023-08-01T11:00:21.529Z"
   },
   {
    "duration": 22,
    "start_time": "2023-08-01T11:00:21.548Z"
   },
   {
    "duration": 7,
    "start_time": "2023-08-01T11:00:21.572Z"
   },
   {
    "duration": 8,
    "start_time": "2023-08-01T11:00:21.580Z"
   },
   {
    "duration": 23,
    "start_time": "2023-08-01T11:00:21.590Z"
   },
   {
    "duration": 16,
    "start_time": "2023-08-01T11:00:21.615Z"
   },
   {
    "duration": 6,
    "start_time": "2023-08-01T11:00:21.633Z"
   },
   {
    "duration": 28,
    "start_time": "2023-08-01T11:00:21.641Z"
   },
   {
    "duration": 19,
    "start_time": "2023-08-01T11:00:21.672Z"
   },
   {
    "duration": 71,
    "start_time": "2023-08-01T11:00:21.693Z"
   },
   {
    "duration": 17,
    "start_time": "2023-08-01T11:00:21.766Z"
   },
   {
    "duration": 29,
    "start_time": "2023-08-01T11:00:21.785Z"
   },
   {
    "duration": 8,
    "start_time": "2023-08-01T11:00:21.816Z"
   },
   {
    "duration": 1443,
    "start_time": "2023-08-01T11:00:21.826Z"
   },
   {
    "duration": 3984,
    "start_time": "2023-08-01T11:00:23.271Z"
   },
   {
    "duration": 5,
    "start_time": "2023-08-01T11:00:27.259Z"
   },
   {
    "duration": 12,
    "start_time": "2023-08-01T11:00:27.265Z"
   },
   {
    "duration": 2025,
    "start_time": "2023-08-01T11:00:27.278Z"
   },
   {
    "duration": 3564,
    "start_time": "2023-08-01T11:00:29.305Z"
   },
   {
    "duration": 3,
    "start_time": "2023-08-01T11:09:59.890Z"
   },
   {
    "duration": 1915,
    "start_time": "2023-08-01T11:09:59.895Z"
   },
   {
    "duration": 101,
    "start_time": "2023-08-01T11:10:01.812Z"
   },
   {
    "duration": 15,
    "start_time": "2023-08-01T11:10:01.915Z"
   },
   {
    "duration": 49,
    "start_time": "2023-08-01T11:10:01.932Z"
   },
   {
    "duration": 49,
    "start_time": "2023-08-01T11:10:01.983Z"
   },
   {
    "duration": 28,
    "start_time": "2023-08-01T11:10:02.034Z"
   },
   {
    "duration": 61,
    "start_time": "2023-08-01T11:10:02.065Z"
   },
   {
    "duration": 86,
    "start_time": "2023-08-01T11:10:02.129Z"
   },
   {
    "duration": 60,
    "start_time": "2023-08-01T11:10:02.217Z"
   },
   {
    "duration": 93,
    "start_time": "2023-08-01T11:10:02.279Z"
   },
   {
    "duration": 58,
    "start_time": "2023-08-01T11:10:02.374Z"
   },
   {
    "duration": 90,
    "start_time": "2023-08-01T11:10:02.434Z"
   },
   {
    "duration": 240,
    "start_time": "2023-08-01T11:10:02.527Z"
   },
   {
    "duration": 10,
    "start_time": "2023-08-01T11:10:02.769Z"
   },
   {
    "duration": 40,
    "start_time": "2023-08-01T11:10:02.781Z"
   },
   {
    "duration": 26,
    "start_time": "2023-08-01T11:10:02.823Z"
   },
   {
    "duration": 43,
    "start_time": "2023-08-01T11:10:02.851Z"
   },
   {
    "duration": 10,
    "start_time": "2023-08-01T11:10:02.897Z"
   },
   {
    "duration": 7,
    "start_time": "2023-08-01T11:10:02.909Z"
   },
   {
    "duration": 12,
    "start_time": "2023-08-01T11:10:02.918Z"
   },
   {
    "duration": 6,
    "start_time": "2023-08-01T11:10:02.932Z"
   },
   {
    "duration": 25,
    "start_time": "2023-08-01T11:10:02.940Z"
   },
   {
    "duration": 16,
    "start_time": "2023-08-01T11:10:02.970Z"
   },
   {
    "duration": 32,
    "start_time": "2023-08-01T11:10:02.988Z"
   },
   {
    "duration": 14,
    "start_time": "2023-08-01T11:10:03.022Z"
   },
   {
    "duration": 14,
    "start_time": "2023-08-01T11:10:03.038Z"
   },
   {
    "duration": 21,
    "start_time": "2023-08-01T11:10:03.054Z"
   },
   {
    "duration": 19,
    "start_time": "2023-08-01T11:10:03.077Z"
   },
   {
    "duration": 21,
    "start_time": "2023-08-01T11:10:03.098Z"
   },
   {
    "duration": 12,
    "start_time": "2023-08-01T11:10:03.121Z"
   },
   {
    "duration": 7,
    "start_time": "2023-08-01T11:10:03.135Z"
   },
   {
    "duration": 19,
    "start_time": "2023-08-01T11:10:03.144Z"
   },
   {
    "duration": 16,
    "start_time": "2023-08-01T11:10:03.164Z"
   },
   {
    "duration": 14,
    "start_time": "2023-08-01T11:10:03.181Z"
   },
   {
    "duration": 29,
    "start_time": "2023-08-01T11:10:03.197Z"
   },
   {
    "duration": 6,
    "start_time": "2023-08-01T11:10:03.227Z"
   },
   {
    "duration": 5,
    "start_time": "2023-08-01T11:10:03.235Z"
   },
   {
    "duration": 20,
    "start_time": "2023-08-01T11:10:03.241Z"
   },
   {
    "duration": 6,
    "start_time": "2023-08-01T11:10:03.263Z"
   },
   {
    "duration": 11,
    "start_time": "2023-08-01T11:10:03.270Z"
   },
   {
    "duration": 5,
    "start_time": "2023-08-01T11:10:03.282Z"
   },
   {
    "duration": 5,
    "start_time": "2023-08-01T11:10:03.289Z"
   },
   {
    "duration": 14,
    "start_time": "2023-08-01T11:10:03.295Z"
   },
   {
    "duration": 6,
    "start_time": "2023-08-01T11:10:03.310Z"
   },
   {
    "duration": 6,
    "start_time": "2023-08-01T11:10:03.318Z"
   },
   {
    "duration": 47,
    "start_time": "2023-08-01T11:10:03.325Z"
   },
   {
    "duration": 16,
    "start_time": "2023-08-01T11:10:03.373Z"
   },
   {
    "duration": 5,
    "start_time": "2023-08-01T11:10:03.391Z"
   },
   {
    "duration": 16,
    "start_time": "2023-08-01T11:10:03.397Z"
   },
   {
    "duration": 17,
    "start_time": "2023-08-01T11:10:03.415Z"
   },
   {
    "duration": 64,
    "start_time": "2023-08-01T11:10:03.434Z"
   },
   {
    "duration": 13,
    "start_time": "2023-08-01T11:10:03.500Z"
   },
   {
    "duration": 24,
    "start_time": "2023-08-01T11:10:03.515Z"
   },
   {
    "duration": 22,
    "start_time": "2023-08-01T11:10:03.541Z"
   },
   {
    "duration": 1536,
    "start_time": "2023-08-01T11:10:03.565Z"
   },
   {
    "duration": 4063,
    "start_time": "2023-08-01T11:10:05.103Z"
   },
   {
    "duration": 6,
    "start_time": "2023-08-01T11:10:09.168Z"
   },
   {
    "duration": 8,
    "start_time": "2023-08-01T11:10:09.176Z"
   },
   {
    "duration": 1959,
    "start_time": "2023-08-01T11:10:09.186Z"
   },
   {
    "duration": 3494,
    "start_time": "2023-08-01T11:10:11.147Z"
   },
   {
    "duration": 87,
    "start_time": "2023-08-01T18:51:23.681Z"
   },
   {
    "duration": 110,
    "start_time": "2023-08-01T18:55:13.608Z"
   },
   {
    "duration": 84,
    "start_time": "2023-08-01T18:58:46.544Z"
   },
   {
    "duration": 79,
    "start_time": "2023-08-01T19:01:38.598Z"
   },
   {
    "duration": 126,
    "start_time": "2023-08-01T19:13:15.472Z"
   },
   {
    "duration": 75,
    "start_time": "2023-08-01T19:14:56.984Z"
   },
   {
    "duration": 102,
    "start_time": "2023-08-01T19:21:11.055Z"
   },
   {
    "duration": 75,
    "start_time": "2023-08-01T19:27:20.642Z"
   },
   {
    "duration": 4,
    "start_time": "2023-08-02T04:35:54.963Z"
   },
   {
    "duration": 2866,
    "start_time": "2023-08-02T04:35:54.970Z"
   },
   {
    "duration": 0,
    "start_time": "2023-08-02T04:35:57.840Z"
   },
   {
    "duration": 0,
    "start_time": "2023-08-02T04:35:57.841Z"
   },
   {
    "duration": 0,
    "start_time": "2023-08-02T04:35:57.843Z"
   },
   {
    "duration": 0,
    "start_time": "2023-08-02T04:35:57.843Z"
   },
   {
    "duration": 0,
    "start_time": "2023-08-02T04:35:57.845Z"
   },
   {
    "duration": 0,
    "start_time": "2023-08-02T04:35:57.846Z"
   },
   {
    "duration": 0,
    "start_time": "2023-08-02T04:35:57.847Z"
   },
   {
    "duration": 0,
    "start_time": "2023-08-02T04:35:57.848Z"
   },
   {
    "duration": 0,
    "start_time": "2023-08-02T04:35:57.849Z"
   },
   {
    "duration": 0,
    "start_time": "2023-08-02T04:35:57.850Z"
   },
   {
    "duration": 0,
    "start_time": "2023-08-02T04:35:57.851Z"
   },
   {
    "duration": 0,
    "start_time": "2023-08-02T04:35:57.852Z"
   },
   {
    "duration": 0,
    "start_time": "2023-08-02T04:35:57.854Z"
   },
   {
    "duration": 0,
    "start_time": "2023-08-02T04:35:57.854Z"
   },
   {
    "duration": 0,
    "start_time": "2023-08-02T04:35:57.856Z"
   },
   {
    "duration": 0,
    "start_time": "2023-08-02T04:35:57.856Z"
   },
   {
    "duration": 0,
    "start_time": "2023-08-02T04:35:57.858Z"
   },
   {
    "duration": 0,
    "start_time": "2023-08-02T04:35:57.859Z"
   },
   {
    "duration": 0,
    "start_time": "2023-08-02T04:35:57.860Z"
   },
   {
    "duration": 0,
    "start_time": "2023-08-02T04:35:57.861Z"
   },
   {
    "duration": 0,
    "start_time": "2023-08-02T04:35:57.862Z"
   },
   {
    "duration": 0,
    "start_time": "2023-08-02T04:35:57.864Z"
   },
   {
    "duration": 0,
    "start_time": "2023-08-02T04:35:57.865Z"
   },
   {
    "duration": 0,
    "start_time": "2023-08-02T04:35:57.867Z"
   },
   {
    "duration": 0,
    "start_time": "2023-08-02T04:35:57.867Z"
   },
   {
    "duration": 0,
    "start_time": "2023-08-02T04:35:57.887Z"
   },
   {
    "duration": 0,
    "start_time": "2023-08-02T04:35:57.888Z"
   },
   {
    "duration": 0,
    "start_time": "2023-08-02T04:35:57.889Z"
   },
   {
    "duration": 0,
    "start_time": "2023-08-02T04:35:57.890Z"
   },
   {
    "duration": 0,
    "start_time": "2023-08-02T04:35:57.892Z"
   },
   {
    "duration": 0,
    "start_time": "2023-08-02T04:35:57.893Z"
   },
   {
    "duration": 0,
    "start_time": "2023-08-02T04:35:57.893Z"
   },
   {
    "duration": 1,
    "start_time": "2023-08-02T04:35:57.894Z"
   },
   {
    "duration": 0,
    "start_time": "2023-08-02T04:35:57.896Z"
   },
   {
    "duration": 0,
    "start_time": "2023-08-02T04:35:57.897Z"
   },
   {
    "duration": 0,
    "start_time": "2023-08-02T04:35:57.898Z"
   },
   {
    "duration": 0,
    "start_time": "2023-08-02T04:35:57.899Z"
   },
   {
    "duration": 0,
    "start_time": "2023-08-02T04:35:57.900Z"
   },
   {
    "duration": 0,
    "start_time": "2023-08-02T04:35:57.902Z"
   },
   {
    "duration": 0,
    "start_time": "2023-08-02T04:35:57.903Z"
   },
   {
    "duration": 0,
    "start_time": "2023-08-02T04:35:57.904Z"
   },
   {
    "duration": 0,
    "start_time": "2023-08-02T04:35:57.905Z"
   },
   {
    "duration": 0,
    "start_time": "2023-08-02T04:35:57.906Z"
   },
   {
    "duration": 0,
    "start_time": "2023-08-02T04:35:57.907Z"
   },
   {
    "duration": 0,
    "start_time": "2023-08-02T04:35:57.908Z"
   },
   {
    "duration": 0,
    "start_time": "2023-08-02T04:35:57.909Z"
   },
   {
    "duration": 0,
    "start_time": "2023-08-02T04:35:57.910Z"
   },
   {
    "duration": 0,
    "start_time": "2023-08-02T04:35:57.912Z"
   },
   {
    "duration": 0,
    "start_time": "2023-08-02T04:35:57.913Z"
   },
   {
    "duration": 0,
    "start_time": "2023-08-02T04:35:57.914Z"
   },
   {
    "duration": 0,
    "start_time": "2023-08-02T04:35:57.914Z"
   },
   {
    "duration": 0,
    "start_time": "2023-08-02T04:35:57.915Z"
   },
   {
    "duration": 0,
    "start_time": "2023-08-02T04:35:57.916Z"
   },
   {
    "duration": 0,
    "start_time": "2023-08-02T04:35:57.917Z"
   },
   {
    "duration": 1,
    "start_time": "2023-08-02T04:35:57.918Z"
   },
   {
    "duration": 0,
    "start_time": "2023-08-02T04:35:57.919Z"
   },
   {
    "duration": 0,
    "start_time": "2023-08-02T04:35:57.920Z"
   },
   {
    "duration": 0,
    "start_time": "2023-08-02T04:35:57.921Z"
   },
   {
    "duration": 0,
    "start_time": "2023-08-02T04:35:57.922Z"
   },
   {
    "duration": 0,
    "start_time": "2023-08-02T04:35:57.924Z"
   },
   {
    "duration": 4437,
    "start_time": "2023-08-02T04:36:49.442Z"
   },
   {
    "duration": 1627,
    "start_time": "2023-08-02T04:36:53.881Z"
   },
   {
    "duration": 307,
    "start_time": "2023-08-02T04:36:55.510Z"
   },
   {
    "duration": 13,
    "start_time": "2023-08-02T04:36:55.820Z"
   },
   {
    "duration": 12,
    "start_time": "2023-08-02T04:36:55.835Z"
   },
   {
    "duration": 16,
    "start_time": "2023-08-02T04:36:55.848Z"
   },
   {
    "duration": 5,
    "start_time": "2023-08-02T04:36:55.866Z"
   },
   {
    "duration": 15,
    "start_time": "2023-08-02T04:36:55.872Z"
   },
   {
    "duration": 7,
    "start_time": "2023-08-02T04:36:55.888Z"
   },
   {
    "duration": 7,
    "start_time": "2023-08-02T04:36:55.898Z"
   },
   {
    "duration": 7,
    "start_time": "2023-08-02T04:36:55.906Z"
   },
   {
    "duration": 14,
    "start_time": "2023-08-02T04:36:55.914Z"
   },
   {
    "duration": 9,
    "start_time": "2023-08-02T04:36:55.929Z"
   },
   {
    "duration": 189,
    "start_time": "2023-08-02T04:36:55.940Z"
   },
   {
    "duration": 10,
    "start_time": "2023-08-02T04:36:56.131Z"
   },
   {
    "duration": 23,
    "start_time": "2023-08-02T04:36:56.143Z"
   },
   {
    "duration": 31,
    "start_time": "2023-08-02T04:36:56.168Z"
   },
   {
    "duration": 36,
    "start_time": "2023-08-02T04:36:56.201Z"
   },
   {
    "duration": 24,
    "start_time": "2023-08-02T04:36:56.239Z"
   },
   {
    "duration": 8,
    "start_time": "2023-08-02T04:36:56.265Z"
   },
   {
    "duration": 20,
    "start_time": "2023-08-02T04:36:56.274Z"
   },
   {
    "duration": 11,
    "start_time": "2023-08-02T04:36:56.296Z"
   },
   {
    "duration": 26,
    "start_time": "2023-08-02T04:36:56.309Z"
   },
   {
    "duration": 18,
    "start_time": "2023-08-02T04:36:56.337Z"
   },
   {
    "duration": 21,
    "start_time": "2023-08-02T04:36:56.357Z"
   },
   {
    "duration": 16,
    "start_time": "2023-08-02T04:36:56.381Z"
   },
   {
    "duration": 8,
    "start_time": "2023-08-02T04:36:56.399Z"
   },
   {
    "duration": 19,
    "start_time": "2023-08-02T04:36:56.411Z"
   },
   {
    "duration": 9,
    "start_time": "2023-08-02T04:36:56.431Z"
   },
   {
    "duration": 23,
    "start_time": "2023-08-02T04:36:56.442Z"
   },
   {
    "duration": 9,
    "start_time": "2023-08-02T04:36:56.467Z"
   },
   {
    "duration": 14,
    "start_time": "2023-08-02T04:36:56.478Z"
   },
   {
    "duration": 12,
    "start_time": "2023-08-02T04:36:56.493Z"
   },
   {
    "duration": 12,
    "start_time": "2023-08-02T04:36:56.507Z"
   },
   {
    "duration": 66,
    "start_time": "2023-08-02T04:36:56.521Z"
   },
   {
    "duration": 54,
    "start_time": "2023-08-02T04:36:56.588Z"
   },
   {
    "duration": 37,
    "start_time": "2023-08-02T04:36:56.644Z"
   },
   {
    "duration": 22,
    "start_time": "2023-08-02T04:36:56.683Z"
   },
   {
    "duration": 31,
    "start_time": "2023-08-02T04:36:56.707Z"
   },
   {
    "duration": 11,
    "start_time": "2023-08-02T04:36:56.740Z"
   },
   {
    "duration": 13,
    "start_time": "2023-08-02T04:36:56.753Z"
   },
   {
    "duration": 9,
    "start_time": "2023-08-02T04:36:56.769Z"
   },
   {
    "duration": 17,
    "start_time": "2023-08-02T04:36:56.780Z"
   },
   {
    "duration": 15,
    "start_time": "2023-08-02T04:36:56.798Z"
   },
   {
    "duration": 12,
    "start_time": "2023-08-02T04:36:56.814Z"
   },
   {
    "duration": 9,
    "start_time": "2023-08-02T04:36:56.828Z"
   },
   {
    "duration": 7,
    "start_time": "2023-08-02T04:36:56.838Z"
   },
   {
    "duration": 12,
    "start_time": "2023-08-02T04:36:56.846Z"
   },
   {
    "duration": 17,
    "start_time": "2023-08-02T04:36:56.859Z"
   },
   {
    "duration": 90,
    "start_time": "2023-08-02T04:36:56.877Z"
   },
   {
    "duration": 102,
    "start_time": "2023-08-02T04:36:56.969Z"
   },
   {
    "duration": 33,
    "start_time": "2023-08-02T04:36:57.072Z"
   },
   {
    "duration": 48,
    "start_time": "2023-08-02T04:36:57.107Z"
   },
   {
    "duration": 13,
    "start_time": "2023-08-02T04:36:57.157Z"
   },
   {
    "duration": 25,
    "start_time": "2023-08-02T04:36:57.172Z"
   },
   {
    "duration": 6,
    "start_time": "2023-08-02T04:36:57.199Z"
   },
   {
    "duration": 1327,
    "start_time": "2023-08-02T04:36:57.207Z"
   },
   {
    "duration": 3872,
    "start_time": "2023-08-02T04:36:58.536Z"
   },
   {
    "duration": 6,
    "start_time": "2023-08-02T04:37:02.409Z"
   },
   {
    "duration": 69,
    "start_time": "2023-08-02T04:37:02.417Z"
   },
   {
    "duration": 1915,
    "start_time": "2023-08-02T04:37:02.488Z"
   },
   {
    "duration": 3595,
    "start_time": "2023-08-02T04:37:04.405Z"
   },
   {
    "duration": 20,
    "start_time": "2023-08-02T04:37:50.441Z"
   },
   {
    "duration": 16,
    "start_time": "2023-08-02T04:37:57.211Z"
   },
   {
    "duration": 15,
    "start_time": "2023-08-02T04:38:35.828Z"
   },
   {
    "duration": 2375,
    "start_time": "2023-08-02T04:38:55.340Z"
   },
   {
    "duration": 1619,
    "start_time": "2023-08-02T04:38:57.717Z"
   },
   {
    "duration": 99,
    "start_time": "2023-08-02T04:38:59.338Z"
   },
   {
    "duration": 14,
    "start_time": "2023-08-02T04:38:59.439Z"
   },
   {
    "duration": 14,
    "start_time": "2023-08-02T04:38:59.455Z"
   },
   {
    "duration": 18,
    "start_time": "2023-08-02T04:38:59.470Z"
   },
   {
    "duration": 22,
    "start_time": "2023-08-02T04:38:59.490Z"
   },
   {
    "duration": 16,
    "start_time": "2023-08-02T04:38:59.514Z"
   },
   {
    "duration": 14,
    "start_time": "2023-08-02T04:38:59.532Z"
   },
   {
    "duration": 7,
    "start_time": "2023-08-02T04:38:59.547Z"
   },
   {
    "duration": 9,
    "start_time": "2023-08-02T04:38:59.555Z"
   },
   {
    "duration": 7,
    "start_time": "2023-08-02T04:38:59.566Z"
   },
   {
    "duration": 17,
    "start_time": "2023-08-02T04:38:59.574Z"
   },
   {
    "duration": 190,
    "start_time": "2023-08-02T04:38:59.594Z"
   },
   {
    "duration": 12,
    "start_time": "2023-08-02T04:38:59.786Z"
   },
   {
    "duration": 39,
    "start_time": "2023-08-02T04:38:59.799Z"
   },
   {
    "duration": 68,
    "start_time": "2023-08-02T04:38:59.839Z"
   },
   {
    "duration": 51,
    "start_time": "2023-08-02T04:38:59.909Z"
   },
   {
    "duration": 19,
    "start_time": "2023-08-02T04:38:59.962Z"
   },
   {
    "duration": 19,
    "start_time": "2023-08-02T04:38:59.983Z"
   },
   {
    "duration": 50,
    "start_time": "2023-08-02T04:39:00.004Z"
   },
   {
    "duration": 26,
    "start_time": "2023-08-02T04:39:00.055Z"
   },
   {
    "duration": 103,
    "start_time": "2023-08-02T04:39:00.083Z"
   },
   {
    "duration": 230,
    "start_time": "2023-08-02T04:39:00.187Z"
   },
   {
    "duration": 89,
    "start_time": "2023-08-02T04:39:00.419Z"
   },
   {
    "duration": 37,
    "start_time": "2023-08-02T04:39:00.510Z"
   },
   {
    "duration": 83,
    "start_time": "2023-08-02T04:39:00.549Z"
   },
   {
    "duration": 79,
    "start_time": "2023-08-02T04:39:00.634Z"
   },
   {
    "duration": 39,
    "start_time": "2023-08-02T04:39:00.715Z"
   },
   {
    "duration": 44,
    "start_time": "2023-08-02T04:39:00.756Z"
   },
   {
    "duration": 55,
    "start_time": "2023-08-02T04:39:00.802Z"
   },
   {
    "duration": 55,
    "start_time": "2023-08-02T04:39:00.859Z"
   },
   {
    "duration": 56,
    "start_time": "2023-08-02T04:39:00.916Z"
   },
   {
    "duration": 69,
    "start_time": "2023-08-02T04:39:00.974Z"
   },
   {
    "duration": 104,
    "start_time": "2023-08-02T04:39:01.044Z"
   },
   {
    "duration": 67,
    "start_time": "2023-08-02T04:39:01.150Z"
   },
   {
    "duration": 86,
    "start_time": "2023-08-02T04:39:01.219Z"
   },
   {
    "duration": 122,
    "start_time": "2023-08-02T04:39:01.307Z"
   },
   {
    "duration": 454,
    "start_time": "2023-08-02T04:39:01.431Z"
   },
   {
    "duration": 464,
    "start_time": "2023-08-02T04:39:01.887Z"
   },
   {
    "duration": 131,
    "start_time": "2023-08-02T04:39:02.355Z"
   },
   {
    "duration": 15,
    "start_time": "2023-08-02T04:39:02.488Z"
   },
   {
    "duration": 65,
    "start_time": "2023-08-02T04:39:02.505Z"
   },
   {
    "duration": 33,
    "start_time": "2023-08-02T04:39:02.572Z"
   },
   {
    "duration": 60,
    "start_time": "2023-08-02T04:39:02.606Z"
   },
   {
    "duration": 16,
    "start_time": "2023-08-02T04:39:02.667Z"
   },
   {
    "duration": 13,
    "start_time": "2023-08-02T04:39:02.685Z"
   },
   {
    "duration": 59,
    "start_time": "2023-08-02T04:39:02.700Z"
   },
   {
    "duration": 61,
    "start_time": "2023-08-02T04:39:02.762Z"
   },
   {
    "duration": 51,
    "start_time": "2023-08-02T04:39:02.825Z"
   },
   {
    "duration": 115,
    "start_time": "2023-08-02T04:39:02.878Z"
   },
   {
    "duration": 135,
    "start_time": "2023-08-02T04:39:02.995Z"
   },
   {
    "duration": 200,
    "start_time": "2023-08-02T04:39:03.132Z"
   },
   {
    "duration": 77,
    "start_time": "2023-08-02T04:39:03.334Z"
   },
   {
    "duration": 36,
    "start_time": "2023-08-02T04:39:03.413Z"
   },
   {
    "duration": 117,
    "start_time": "2023-08-02T04:39:03.451Z"
   },
   {
    "duration": 225,
    "start_time": "2023-08-02T04:39:03.570Z"
   },
   {
    "duration": 1518,
    "start_time": "2023-08-02T04:39:03.797Z"
   },
   {
    "duration": 3996,
    "start_time": "2023-08-02T04:39:05.317Z"
   },
   {
    "duration": 5,
    "start_time": "2023-08-02T04:39:09.315Z"
   },
   {
    "duration": 11,
    "start_time": "2023-08-02T04:39:09.323Z"
   },
   {
    "duration": 1974,
    "start_time": "2023-08-02T04:39:09.336Z"
   },
   {
    "duration": 3678,
    "start_time": "2023-08-02T04:39:11.312Z"
   },
   {
    "duration": 552,
    "start_time": "2023-08-02T04:45:14.060Z"
   },
   {
    "duration": 182,
    "start_time": "2023-08-03T19:36:11.554Z"
   },
   {
    "duration": 156,
    "start_time": "2023-08-03T19:40:05.464Z"
   },
   {
    "duration": 195,
    "start_time": "2023-08-03T19:50:03.124Z"
   },
   {
    "duration": 225,
    "start_time": "2023-08-04T04:14:23.331Z"
   },
   {
    "duration": 3677,
    "start_time": "2023-08-04T04:15:01.605Z"
   },
   {
    "duration": 4021,
    "start_time": "2023-08-04T04:15:05.284Z"
   },
   {
    "duration": 2930,
    "start_time": "2023-08-04T04:15:09.307Z"
   },
   {
    "duration": 334,
    "start_time": "2023-08-04T04:15:12.240Z"
   },
   {
    "duration": 16,
    "start_time": "2023-08-04T04:15:12.576Z"
   },
   {
    "duration": 15,
    "start_time": "2023-08-04T04:15:12.594Z"
   },
   {
    "duration": 14,
    "start_time": "2023-08-04T04:15:12.610Z"
   },
   {
    "duration": 6,
    "start_time": "2023-08-04T04:15:12.626Z"
   },
   {
    "duration": 21,
    "start_time": "2023-08-04T04:15:12.634Z"
   },
   {
    "duration": 38,
    "start_time": "2023-08-04T04:15:12.659Z"
   },
   {
    "duration": 9,
    "start_time": "2023-08-04T04:15:12.699Z"
   },
   {
    "duration": 9,
    "start_time": "2023-08-04T04:15:12.710Z"
   },
   {
    "duration": 9,
    "start_time": "2023-08-04T04:15:12.721Z"
   },
   {
    "duration": 10,
    "start_time": "2023-08-04T04:15:12.732Z"
   },
   {
    "duration": 217,
    "start_time": "2023-08-04T04:15:12.743Z"
   },
   {
    "duration": 9,
    "start_time": "2023-08-04T04:15:12.962Z"
   },
   {
    "duration": 23,
    "start_time": "2023-08-04T04:15:12.973Z"
   },
   {
    "duration": 18,
    "start_time": "2023-08-04T04:15:12.997Z"
   },
   {
    "duration": 15,
    "start_time": "2023-08-04T04:15:13.016Z"
   },
   {
    "duration": 9,
    "start_time": "2023-08-04T04:15:13.032Z"
   },
   {
    "duration": 6,
    "start_time": "2023-08-04T04:15:13.042Z"
   },
   {
    "duration": 8,
    "start_time": "2023-08-04T04:15:13.049Z"
   },
   {
    "duration": 38,
    "start_time": "2023-08-04T04:15:13.058Z"
   },
   {
    "duration": 9,
    "start_time": "2023-08-04T04:15:13.097Z"
   },
   {
    "duration": 19,
    "start_time": "2023-08-04T04:15:13.108Z"
   },
   {
    "duration": 16,
    "start_time": "2023-08-04T04:15:13.128Z"
   },
   {
    "duration": 13,
    "start_time": "2023-08-04T04:15:13.145Z"
   },
   {
    "duration": 6,
    "start_time": "2023-08-04T04:15:13.163Z"
   },
   {
    "duration": 28,
    "start_time": "2023-08-04T04:15:13.171Z"
   },
   {
    "duration": 10,
    "start_time": "2023-08-04T04:15:13.200Z"
   },
   {
    "duration": 9,
    "start_time": "2023-08-04T04:15:13.212Z"
   },
   {
    "duration": 8,
    "start_time": "2023-08-04T04:15:13.223Z"
   },
   {
    "duration": 11,
    "start_time": "2023-08-04T04:15:13.233Z"
   },
   {
    "duration": 11,
    "start_time": "2023-08-04T04:15:13.245Z"
   },
   {
    "duration": 10,
    "start_time": "2023-08-04T04:15:13.257Z"
   },
   {
    "duration": 15,
    "start_time": "2023-08-04T04:15:13.294Z"
   },
   {
    "duration": 14,
    "start_time": "2023-08-04T04:15:13.311Z"
   },
   {
    "duration": 8,
    "start_time": "2023-08-04T04:15:13.327Z"
   },
   {
    "duration": 8,
    "start_time": "2023-08-04T04:15:13.337Z"
   },
   {
    "duration": 22,
    "start_time": "2023-08-04T04:15:13.347Z"
   },
   {
    "duration": 6,
    "start_time": "2023-08-04T04:15:13.394Z"
   },
   {
    "duration": 18,
    "start_time": "2023-08-04T04:15:13.403Z"
   },
   {
    "duration": 74,
    "start_time": "2023-08-04T04:15:13.423Z"
   },
   {
    "duration": 5,
    "start_time": "2023-08-04T04:15:13.499Z"
   },
   {
    "duration": 32,
    "start_time": "2023-08-04T04:15:13.506Z"
   },
   {
    "duration": 19,
    "start_time": "2023-08-04T04:15:13.540Z"
   },
   {
    "duration": 7,
    "start_time": "2023-08-04T04:15:13.561Z"
   },
   {
    "duration": 68,
    "start_time": "2023-08-04T04:15:13.570Z"
   },
   {
    "duration": 16,
    "start_time": "2023-08-04T04:15:13.640Z"
   },
   {
    "duration": 11,
    "start_time": "2023-08-04T04:15:13.657Z"
   },
   {
    "duration": 4,
    "start_time": "2023-08-04T04:15:13.670Z"
   },
   {
    "duration": 20,
    "start_time": "2023-08-04T04:15:13.677Z"
   },
   {
    "duration": 16,
    "start_time": "2023-08-04T04:15:13.699Z"
   },
   {
    "duration": 48,
    "start_time": "2023-08-04T04:15:13.717Z"
   },
   {
    "duration": 33,
    "start_time": "2023-08-04T04:15:13.767Z"
   },
   {
    "duration": 14,
    "start_time": "2023-08-04T04:15:13.802Z"
   },
   {
    "duration": 23,
    "start_time": "2023-08-04T04:15:13.818Z"
   },
   {
    "duration": 6,
    "start_time": "2023-08-04T04:15:13.843Z"
   },
   {
    "duration": 1357,
    "start_time": "2023-08-04T04:15:13.850Z"
   },
   {
    "duration": 4184,
    "start_time": "2023-08-04T04:15:15.209Z"
   },
   {
    "duration": 5,
    "start_time": "2023-08-04T04:15:19.395Z"
   },
   {
    "duration": 9,
    "start_time": "2023-08-04T04:15:19.402Z"
   },
   {
    "duration": 1956,
    "start_time": "2023-08-04T04:15:19.413Z"
   },
   {
    "duration": 3616,
    "start_time": "2023-08-04T04:15:21.371Z"
   },
   {
    "duration": 7,
    "start_time": "2023-08-04T04:15:24.989Z"
   },
   {
    "duration": 34,
    "start_time": "2023-08-04T04:15:24.998Z"
   },
   {
    "duration": 41,
    "start_time": "2023-08-04T04:15:25.033Z"
   },
   {
    "duration": 13,
    "start_time": "2023-08-04T04:15:25.076Z"
   },
   {
    "duration": 563,
    "start_time": "2023-08-04T04:15:25.090Z"
   },
   {
    "duration": 380536,
    "start_time": "2023-08-04T04:15:25.655Z"
   },
   {
    "duration": 22,
    "start_time": "2023-08-04T04:21:46.193Z"
   },
   {
    "duration": 4225813,
    "start_time": "2023-08-04T04:21:46.217Z"
   },
   {
    "duration": 19,
    "start_time": "2023-08-04T05:32:12.032Z"
   },
   {
    "duration": 192,
    "start_time": "2023-08-04T05:32:12.052Z"
   }
  ],
  "kernelspec": {
   "display_name": "Python 3 (ipykernel)",
   "language": "python",
   "name": "python3"
  },
  "language_info": {
   "codemirror_mode": {
    "name": "ipython",
    "version": 3
   },
   "file_extension": ".py",
   "mimetype": "text/x-python",
   "name": "python",
   "nbconvert_exporter": "python",
   "pygments_lexer": "ipython3",
   "version": "3.9.5"
  },
  "toc": {
   "base_numbering": 1,
   "nav_menu": {},
   "number_sections": true,
   "sideBar": true,
   "skip_h1_title": true,
   "title_cell": "Table of Contents",
   "title_sidebar": "Contents",
   "toc_cell": false,
   "toc_position": {
    "height": "calc(100% - 180px)",
    "left": "10px",
    "top": "150px",
    "width": "374.391px"
   },
   "toc_section_display": true,
   "toc_window_display": true
  }
 },
 "nbformat": 4,
 "nbformat_minor": 2
}
